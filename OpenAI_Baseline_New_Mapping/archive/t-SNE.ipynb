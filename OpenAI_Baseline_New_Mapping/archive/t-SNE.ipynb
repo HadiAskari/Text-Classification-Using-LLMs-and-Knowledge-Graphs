{
 "cells": [
  {
   "cell_type": "code",
   "execution_count": 1,
   "metadata": {},
   "outputs": [
    {
     "name": "stderr",
     "output_type": "stream",
     "text": [
      "/Users/haskar140/anaconda3/envs/KG/lib/python3.11/site-packages/tqdm/auto.py:21: TqdmWarning: IProgress not found. Please update jupyter and ipywidgets. See https://ipywidgets.readthedocs.io/en/stable/user_install.html\n",
      "  from .autonotebook import tqdm as notebook_tqdm\n"
     ]
    }
   ],
   "source": [
    "import os\n",
    "import requests\n",
    "import json\n",
    "import openai\n",
    "import pickle as pkl\n",
    "import requests\n",
    "import json\n",
    "from sklearn.metrics.pairwise import cosine_similarity\n",
    "import pandas as pd\n",
    "from time import sleep\n",
    "from tqdm.auto import tqdm\n",
    "import numpy as np\n",
    "import ast\n",
    "from sentence_transformers import SentenceTransformer\n",
    "from collections import defaultdict\n",
    "from sklearn.manifold import TSNE\n",
    "import plotly.express as px\n"
   ]
  },
  {
   "cell_type": "code",
   "execution_count": 2,
   "metadata": {},
   "outputs": [
    {
     "name": "stdout",
     "output_type": "stream",
     "text": [
      "1536\n"
     ]
    }
   ],
   "source": [
    "with open('azure-configuration.json') as inputfile:\n",
    "    azureconfig = json.load(inputfile)\n",
    "openai.api_key = azureconfig['key'] \n",
    "openai.api_base = azureconfig['endpoint'] \n",
    "openai.api_type = 'azure'\n",
    "openai.api_version = '2023-05-15' # this may change in the future\n",
    "\n",
    "deployment_name= azureconfig['deployment_name']\n",
    "\n",
    "response = openai.Embedding.create(\n",
    "    input=\"Your text string goes here\",\n",
    "    engine=deployment_name\n",
    ")\n",
    "embeddings = response['data'][0]['embedding']\n",
    "print(len(embeddings))"
   ]
  },
  {
   "cell_type": "code",
   "execution_count": 3,
   "metadata": {},
   "outputs": [],
   "source": [
    "df_IAB=pd.read_csv('data/IAB_Evaluation.csv')"
   ]
  },
  {
   "cell_type": "code",
   "execution_count": 4,
   "metadata": {},
   "outputs": [],
   "source": [
    "df_MAF=pd.read_csv('data/MAF_Evaluation.csv')"
   ]
  },
  {
   "cell_type": "code",
   "execution_count": 5,
   "metadata": {},
   "outputs": [],
   "source": [
    "def clean(item):\n",
    "    item=item.replace(\"_\", \" \")\n",
    "    item=item.lower()\n",
    "    return item"
   ]
  },
  {
   "cell_type": "code",
   "execution_count": 6,
   "metadata": {},
   "outputs": [
    {
     "data": {
      "text/plain": [
       "0               crane\n",
       "1          disk brake\n",
       "2        auto factory\n",
       "3                 cab\n",
       "4          car mirror\n",
       "            ...      \n",
       "1872          'stole'\n",
       "1873     'stone wall'\n",
       "1874    cutting board\n",
       "1875     electric ray\n",
       "1876       infant cry\n",
       "Name: item, Length: 1877, dtype: object"
      ]
     },
     "execution_count": 6,
     "metadata": {},
     "output_type": "execute_result"
    }
   ],
   "source": [
    "df_MAF['item'].apply(clean)"
   ]
  },
  {
   "cell_type": "code",
   "execution_count": 7,
   "metadata": {},
   "outputs": [],
   "source": [
    "iab_labels=df_IAB['IAB_Label'].to_list()"
   ]
  },
  {
   "cell_type": "code",
   "execution_count": 8,
   "metadata": {},
   "outputs": [],
   "source": [
    "maf=df_MAF['item'].to_list()"
   ]
  },
  {
   "cell_type": "code",
   "execution_count": 11,
   "metadata": {},
   "outputs": [
    {
     "data": {
      "text/plain": [
       "1877"
      ]
     },
     "execution_count": 11,
     "metadata": {},
     "output_type": "execute_result"
    }
   ],
   "source": [
    "len(maf)"
   ]
  },
  {
   "cell_type": "code",
   "execution_count": 9,
   "metadata": {},
   "outputs": [],
   "source": [
    "call=iab_labels+maf"
   ]
  },
  {
   "cell_type": "code",
   "execution_count": 10,
   "metadata": {},
   "outputs": [
    {
     "name": "stdout",
     "output_type": "stream",
     "text": [
      "['Hair Care', 'Shaving', 'Motorcycles', \"Women's Formal Wear\", \"Women's Clothing\", 'Retail Industry', 'Comedy Events', 'Household Supplies', 'Home Security', 'Polar Travel', 'Auto Parts', 'Awards Shows', 'Business and Finance', 'Barbecues and Grilling', 'Grocery Shopping', 'Auto Body Styles', 'Cooking', \"Women's Handbags and Wallets\", 'Cruises', 'Coupe', 'World Cuisines', 'Landscaping', 'Commercial Trucks', 'Video Gaming', 'Healthy Living', \"Men's Formal Wear\", 'Dating', 'Birthday', 'Wedding', 'Museums & Galleries', 'Fitness and Exercise', 'Education industry', 'Tablets and E-readers', 'Retail Property', 'Beach Travel', 'Outdoor Activities', 'Hotels and Motels', 'Space and Astronomy', 'Holiday Shopping', 'Concerts & Music Events', 'Auto Type', 'Entertainment Industry', 'Travel Locations', 'Minivan', 'Smartphones', 'Luxury Cars', 'Travel', 'Perfume and Fragrance', 'Alcoholic Beverages', 'Prom', 'Parks & Nature', 'Science', 'Rail Travel', \"Women's Jewelry and Watches\", 'Convertible', 'Camping', 'Telecommunications Industry', 'Reptiles', 'SUV', \"Men's Clothing\", 'Card Games', 'Hobbies & Interests', 'Auto Repair', 'College Education', 'Birds', 'Home & Garden', 'Home Appliances', 'Auto Rentals', 'Van', 'Europe Travel', 'Pop Culture', 'Hotel Properties', 'Flower Shopping', 'Sedan', 'Laptops', 'Africa Travel', \"Women's Shoes and Footwear\", 'Logistics and Transportation Industry', 'Desserts and Baking', 'Music and Audio', 'Financial Industry', 'Religious Events', 'Theater Venues and Events', 'Technology Industry', 'Technology & Computing', 'Parenting', 'Fine Art', 'Events and Attractions', 'Bars & Restaurants', 'Nail Care', 'Pets', 'Aviation Industry', 'Cinemas and Events', 'Games and Puzzles', 'North America Travel', 'Family and Relationships', 'Consumer Electronics', \"Men's Casual Wear\", 'Food & Drink', 'Malls & Shopping Centers', 'Media Industry', 'Green Vehicles', 'Apartments', 'Large Animals', 'Land and Farms', 'Pickup Trucks', 'Sports', 'Shopping', 'Remodeling & Construction', 'Auto Shows', 'Automotive Industry', 'Office Property', 'Board Games and Puzzles', 'Houses', 'Real Estate', 'Medical Health', 'Beauty', 'Apparel Industry', 'Religion & Spirituality', 'Asia Travel', 'Food Industry', 'Graduation', 'Travel Accessories', 'Road-Side Assistance', 'Home Entertaining', 'Dining Out', 'Smart Home', 'Healthcare Industry', 'Style & Fashion', 'Deodorant and Antiperspirant', 'Fashion Events', 'Gardening', 'Daycare and Pre-School', 'Single Life', 'Oral care', 'Musical Instruments', 'Makeup and Accessories', 'Bath and Shower', 'Personal Celebrations & Life Events', 'Australia and Oceania Travel', 'Wellness', 'Zoos & Aquariums', 'Cameras and Camcorders', 'Casinos & Gambling', 'Television', 'Home Improvement', 'Air Travel', 'Station Wagon', 'South America Travel', 'Desktops', 'Automotive', \"Children's Games and Toys\", 'Hospitality Industry', 'Movies', 'Dogs', 'Education', 'Cats', 'Primary Education', 'Books and Literature', 'Non-Alcoholic Beverages']\n"
     ]
    }
   ],
   "source": [
    "print(call[0:160])"
   ]
  },
  {
   "cell_type": "code",
   "execution_count": 418,
   "metadata": {},
   "outputs": [],
   "source": [
    "total_embeddings=[]"
   ]
  },
  {
   "cell_type": "code",
   "execution_count": 420,
   "metadata": {},
   "outputs": [],
   "source": [
    "def create_embeddings(item,total_embeddings):\n",
    "    deployment_name= azureconfig['deployment_name']\n",
    "\n",
    "    response = openai.Embedding.create(\n",
    "        input=item,\n",
    "        engine=deployment_name\n",
    "    )\n",
    "    embeddings = response['data'][0]['embedding']\n",
    "    total_embeddings.append(embeddings)"
   ]
  },
  {
   "cell_type": "code",
   "execution_count": 422,
   "metadata": {},
   "outputs": [
    {
     "name": "stderr",
     "output_type": "stream",
     "text": [
      " 22%|██▏       | 454/2037 [00:58<03:24,  7.73it/s]\n"
     ]
    },
    {
     "ename": "ServiceUnavailableError",
     "evalue": "The server is overloaded or not ready yet.",
     "output_type": "error",
     "traceback": [
      "\u001b[0;31m---------------------------------------------------------------------------\u001b[0m",
      "\u001b[0;31mServiceUnavailableError\u001b[0m                   Traceback (most recent call last)",
      "Cell \u001b[0;32mIn[422], line 14\u001b[0m\n\u001b[1;32m      5\u001b[0m         \u001b[39mpass\u001b[39;00m\n\u001b[1;32m      7\u001b[0m \u001b[39m#only for Chat GPT version\u001b[39;00m\n\u001b[1;32m      8\u001b[0m     \u001b[39m# if items in scores.keys():\u001b[39;00m\n\u001b[1;32m      9\u001b[0m     \u001b[39m#     # print('here')\u001b[39;00m\n\u001b[1;32m     10\u001b[0m     \u001b[39m#     key = list(scores[items].keys())[0]\u001b[39;00m\n\u001b[1;32m     11\u001b[0m     \u001b[39m#     create_embeddings(key,total_embeddings)\u001b[39;00m\n\u001b[1;32m     12\u001b[0m     \u001b[39m#     continue\u001b[39;00m\n\u001b[0;32m---> 14\u001b[0m     create_embeddings(items,total_embeddings)\n",
      "Cell \u001b[0;32mIn[420], line 4\u001b[0m, in \u001b[0;36mcreate_embeddings\u001b[0;34m(item, total_embeddings)\u001b[0m\n\u001b[1;32m      1\u001b[0m \u001b[39mdef\u001b[39;00m \u001b[39mcreate_embeddings\u001b[39m(item,total_embeddings):\n\u001b[1;32m      2\u001b[0m     deployment_name\u001b[39m=\u001b[39m azureconfig[\u001b[39m'\u001b[39m\u001b[39mdeployment_name\u001b[39m\u001b[39m'\u001b[39m]\n\u001b[0;32m----> 4\u001b[0m     response \u001b[39m=\u001b[39m openai\u001b[39m.\u001b[39;49mEmbedding\u001b[39m.\u001b[39;49mcreate(\n\u001b[1;32m      5\u001b[0m         \u001b[39minput\u001b[39;49m\u001b[39m=\u001b[39;49mitem,\n\u001b[1;32m      6\u001b[0m         engine\u001b[39m=\u001b[39;49mdeployment_name\n\u001b[1;32m      7\u001b[0m     )\n\u001b[1;32m      8\u001b[0m     embeddings \u001b[39m=\u001b[39m response[\u001b[39m'\u001b[39m\u001b[39mdata\u001b[39m\u001b[39m'\u001b[39m][\u001b[39m0\u001b[39m][\u001b[39m'\u001b[39m\u001b[39membedding\u001b[39m\u001b[39m'\u001b[39m]\n\u001b[1;32m      9\u001b[0m     total_embeddings\u001b[39m.\u001b[39mappend(embeddings)\n",
      "File \u001b[0;32m~/anaconda3/envs/KG/lib/python3.11/site-packages/openai/api_resources/embedding.py:33\u001b[0m, in \u001b[0;36mEmbedding.create\u001b[0;34m(cls, *args, **kwargs)\u001b[0m\n\u001b[1;32m     31\u001b[0m \u001b[39mwhile\u001b[39;00m \u001b[39mTrue\u001b[39;00m:\n\u001b[1;32m     32\u001b[0m     \u001b[39mtry\u001b[39;00m:\n\u001b[0;32m---> 33\u001b[0m         response \u001b[39m=\u001b[39m \u001b[39msuper\u001b[39;49m()\u001b[39m.\u001b[39;49mcreate(\u001b[39m*\u001b[39;49margs, \u001b[39m*\u001b[39;49m\u001b[39m*\u001b[39;49mkwargs)\n\u001b[1;32m     35\u001b[0m         \u001b[39m# If a user specifies base64, we'll just return the encoded string.\u001b[39;00m\n\u001b[1;32m     36\u001b[0m         \u001b[39m# This is only for the default case.\u001b[39;00m\n\u001b[1;32m     37\u001b[0m         \u001b[39mif\u001b[39;00m \u001b[39mnot\u001b[39;00m user_provided_encoding_format:\n",
      "File \u001b[0;32m~/anaconda3/envs/KG/lib/python3.11/site-packages/openai/api_resources/abstract/engine_api_resource.py:153\u001b[0m, in \u001b[0;36mEngineAPIResource.create\u001b[0;34m(cls, api_key, api_base, api_type, request_id, api_version, organization, **params)\u001b[0m\n\u001b[1;32m    127\u001b[0m \u001b[39m@classmethod\u001b[39m\n\u001b[1;32m    128\u001b[0m \u001b[39mdef\u001b[39;00m \u001b[39mcreate\u001b[39m(\n\u001b[1;32m    129\u001b[0m     \u001b[39mcls\u001b[39m,\n\u001b[0;32m   (...)\u001b[0m\n\u001b[1;32m    136\u001b[0m     \u001b[39m*\u001b[39m\u001b[39m*\u001b[39mparams,\n\u001b[1;32m    137\u001b[0m ):\n\u001b[1;32m    138\u001b[0m     (\n\u001b[1;32m    139\u001b[0m         deployment_id,\n\u001b[1;32m    140\u001b[0m         engine,\n\u001b[0;32m   (...)\u001b[0m\n\u001b[1;32m    150\u001b[0m         api_key, api_base, api_type, api_version, organization, \u001b[39m*\u001b[39m\u001b[39m*\u001b[39mparams\n\u001b[1;32m    151\u001b[0m     )\n\u001b[0;32m--> 153\u001b[0m     response, _, api_key \u001b[39m=\u001b[39m requestor\u001b[39m.\u001b[39;49mrequest(\n\u001b[1;32m    154\u001b[0m         \u001b[39m\"\u001b[39;49m\u001b[39mpost\u001b[39;49m\u001b[39m\"\u001b[39;49m,\n\u001b[1;32m    155\u001b[0m         url,\n\u001b[1;32m    156\u001b[0m         params\u001b[39m=\u001b[39;49mparams,\n\u001b[1;32m    157\u001b[0m         headers\u001b[39m=\u001b[39;49mheaders,\n\u001b[1;32m    158\u001b[0m         stream\u001b[39m=\u001b[39;49mstream,\n\u001b[1;32m    159\u001b[0m         request_id\u001b[39m=\u001b[39;49mrequest_id,\n\u001b[1;32m    160\u001b[0m         request_timeout\u001b[39m=\u001b[39;49mrequest_timeout,\n\u001b[1;32m    161\u001b[0m     )\n\u001b[1;32m    163\u001b[0m     \u001b[39mif\u001b[39;00m stream:\n\u001b[1;32m    164\u001b[0m         \u001b[39m# must be an iterator\u001b[39;00m\n\u001b[1;32m    165\u001b[0m         \u001b[39massert\u001b[39;00m \u001b[39mnot\u001b[39;00m \u001b[39misinstance\u001b[39m(response, OpenAIResponse)\n",
      "File \u001b[0;32m~/anaconda3/envs/KG/lib/python3.11/site-packages/openai/api_requestor.py:298\u001b[0m, in \u001b[0;36mAPIRequestor.request\u001b[0;34m(self, method, url, params, headers, files, stream, request_id, request_timeout)\u001b[0m\n\u001b[1;32m    277\u001b[0m \u001b[39mdef\u001b[39;00m \u001b[39mrequest\u001b[39m(\n\u001b[1;32m    278\u001b[0m     \u001b[39mself\u001b[39m,\n\u001b[1;32m    279\u001b[0m     method,\n\u001b[0;32m   (...)\u001b[0m\n\u001b[1;32m    286\u001b[0m     request_timeout: Optional[Union[\u001b[39mfloat\u001b[39m, Tuple[\u001b[39mfloat\u001b[39m, \u001b[39mfloat\u001b[39m]]] \u001b[39m=\u001b[39m \u001b[39mNone\u001b[39;00m,\n\u001b[1;32m    287\u001b[0m ) \u001b[39m-\u001b[39m\u001b[39m>\u001b[39m Tuple[Union[OpenAIResponse, Iterator[OpenAIResponse]], \u001b[39mbool\u001b[39m, \u001b[39mstr\u001b[39m]:\n\u001b[1;32m    288\u001b[0m     result \u001b[39m=\u001b[39m \u001b[39mself\u001b[39m\u001b[39m.\u001b[39mrequest_raw(\n\u001b[1;32m    289\u001b[0m         method\u001b[39m.\u001b[39mlower(),\n\u001b[1;32m    290\u001b[0m         url,\n\u001b[0;32m   (...)\u001b[0m\n\u001b[1;32m    296\u001b[0m         request_timeout\u001b[39m=\u001b[39mrequest_timeout,\n\u001b[1;32m    297\u001b[0m     )\n\u001b[0;32m--> 298\u001b[0m     resp, got_stream \u001b[39m=\u001b[39m \u001b[39mself\u001b[39;49m\u001b[39m.\u001b[39;49m_interpret_response(result, stream)\n\u001b[1;32m    299\u001b[0m     \u001b[39mreturn\u001b[39;00m resp, got_stream, \u001b[39mself\u001b[39m\u001b[39m.\u001b[39mapi_key\n",
      "File \u001b[0;32m~/anaconda3/envs/KG/lib/python3.11/site-packages/openai/api_requestor.py:700\u001b[0m, in \u001b[0;36mAPIRequestor._interpret_response\u001b[0;34m(self, result, stream)\u001b[0m\n\u001b[1;32m    692\u001b[0m     \u001b[39mreturn\u001b[39;00m (\n\u001b[1;32m    693\u001b[0m         \u001b[39mself\u001b[39m\u001b[39m.\u001b[39m_interpret_response_line(\n\u001b[1;32m    694\u001b[0m             line, result\u001b[39m.\u001b[39mstatus_code, result\u001b[39m.\u001b[39mheaders, stream\u001b[39m=\u001b[39m\u001b[39mTrue\u001b[39;00m\n\u001b[1;32m    695\u001b[0m         )\n\u001b[1;32m    696\u001b[0m         \u001b[39mfor\u001b[39;00m line \u001b[39min\u001b[39;00m parse_stream(result\u001b[39m.\u001b[39miter_lines())\n\u001b[1;32m    697\u001b[0m     ), \u001b[39mTrue\u001b[39;00m\n\u001b[1;32m    698\u001b[0m \u001b[39melse\u001b[39;00m:\n\u001b[1;32m    699\u001b[0m     \u001b[39mreturn\u001b[39;00m (\n\u001b[0;32m--> 700\u001b[0m         \u001b[39mself\u001b[39;49m\u001b[39m.\u001b[39;49m_interpret_response_line(\n\u001b[1;32m    701\u001b[0m             result\u001b[39m.\u001b[39;49mcontent\u001b[39m.\u001b[39;49mdecode(\u001b[39m\"\u001b[39;49m\u001b[39mutf-8\u001b[39;49m\u001b[39m\"\u001b[39;49m),\n\u001b[1;32m    702\u001b[0m             result\u001b[39m.\u001b[39;49mstatus_code,\n\u001b[1;32m    703\u001b[0m             result\u001b[39m.\u001b[39;49mheaders,\n\u001b[1;32m    704\u001b[0m             stream\u001b[39m=\u001b[39;49m\u001b[39mFalse\u001b[39;49;00m,\n\u001b[1;32m    705\u001b[0m         ),\n\u001b[1;32m    706\u001b[0m         \u001b[39mFalse\u001b[39;00m,\n\u001b[1;32m    707\u001b[0m     )\n",
      "File \u001b[0;32m~/anaconda3/envs/KG/lib/python3.11/site-packages/openai/api_requestor.py:743\u001b[0m, in \u001b[0;36mAPIRequestor._interpret_response_line\u001b[0;34m(self, rbody, rcode, rheaders, stream)\u001b[0m\n\u001b[1;32m    740\u001b[0m     \u001b[39mreturn\u001b[39;00m OpenAIResponse(\u001b[39mNone\u001b[39;00m, rheaders)\n\u001b[1;32m    742\u001b[0m \u001b[39mif\u001b[39;00m rcode \u001b[39m==\u001b[39m \u001b[39m503\u001b[39m:\n\u001b[0;32m--> 743\u001b[0m     \u001b[39mraise\u001b[39;00m error\u001b[39m.\u001b[39mServiceUnavailableError(\n\u001b[1;32m    744\u001b[0m         \u001b[39m\"\u001b[39m\u001b[39mThe server is overloaded or not ready yet.\u001b[39m\u001b[39m\"\u001b[39m,\n\u001b[1;32m    745\u001b[0m         rbody,\n\u001b[1;32m    746\u001b[0m         rcode,\n\u001b[1;32m    747\u001b[0m         headers\u001b[39m=\u001b[39mrheaders,\n\u001b[1;32m    748\u001b[0m     )\n\u001b[1;32m    749\u001b[0m \u001b[39mtry\u001b[39;00m:\n\u001b[1;32m    750\u001b[0m     \u001b[39mif\u001b[39;00m \u001b[39m'\u001b[39m\u001b[39mtext/plain\u001b[39m\u001b[39m'\u001b[39m \u001b[39min\u001b[39;00m rheaders\u001b[39m.\u001b[39mget(\u001b[39m'\u001b[39m\u001b[39mContent-Type\u001b[39m\u001b[39m'\u001b[39m, \u001b[39m'\u001b[39m\u001b[39m'\u001b[39m):\n",
      "\u001b[0;31mServiceUnavailableError\u001b[0m: The server is overloaded or not ready yet."
     ]
    }
   ],
   "source": [
    "for items in tqdm(call):\n",
    "    try:\n",
    "        items=items.replace(\"&\", 'and')\n",
    "    except:\n",
    "        pass\n",
    "\n",
    "#only for Chat GPT version\n",
    "    # if items in scores.keys():\n",
    "    #     # print('here')\n",
    "    #     key = list(scores[items].keys())[0]\n",
    "    #     create_embeddings(key,total_embeddings)\n",
    "    #     continue\n",
    "\n",
    "    create_embeddings(items,total_embeddings)"
   ]
  },
  {
   "cell_type": "code",
   "execution_count": null,
   "metadata": {},
   "outputs": [
    {
     "data": {
      "text/plain": [
       "2037"
      ]
     },
     "execution_count": 376,
     "metadata": {},
     "output_type": "execute_result"
    }
   ],
   "source": [
    "len(total_embeddings)"
   ]
  },
  {
   "cell_type": "code",
   "execution_count": null,
   "metadata": {},
   "outputs": [],
   "source": [
    "iab_embeddings=total_embeddings[0:160] #Change this if you want to test a new external keyword set"
   ]
  },
  {
   "cell_type": "code",
   "execution_count": null,
   "metadata": {},
   "outputs": [],
   "source": [
    "maf_embeddings=total_embeddings[160:]"
   ]
  },
  {
   "cell_type": "code",
   "execution_count": null,
   "metadata": {},
   "outputs": [],
   "source": [
    "nodes=maf"
   ]
  },
  {
   "cell_type": "code",
   "execution_count": 380,
   "metadata": {},
   "outputs": [
    {
     "name": "stdout",
     "output_type": "stream",
     "text": [
      "[[0.77228327]]\n"
     ]
    }
   ],
   "source": [
    "cos_sim=cosine_similarity(np.array(iab_embeddings[90]).reshape(1,-1),np.array(maf_embeddings[15]).reshape(1,-1))\n",
    "print(cos_sim)"
   ]
  },
  {
   "cell_type": "code",
   "execution_count": null,
   "metadata": {},
   "outputs": [],
   "source": [
    "def calculate_precision_recall(true_labels, predictions):\n",
    "    true_positives = sum(1 for pred in predictions if pred in true_labels)\n",
    "    false_positives = len(predictions) - true_positives\n",
    "    false_negatives = len(true_labels) - true_positives\n",
    "    \n",
    "    precision = true_positives / (true_positives + false_positives)\n",
    "    recall = true_positives / (true_positives + false_negatives)\n",
    "    \n",
    "    return precision, recall"
   ]
  },
  {
   "cell_type": "code",
   "execution_count": null,
   "metadata": {},
   "outputs": [],
   "source": [
    "def calculate_f1_score(precision, recall):\n",
    "    if precision + recall == 0:\n",
    "        return 0\n",
    "    f1_score = 2 * (precision * recall) / (precision + recall)\n",
    "    return f1_score"
   ]
  },
  {
   "cell_type": "code",
   "execution_count": null,
   "metadata": {},
   "outputs": [],
   "source": [
    "with open(\"data/problematic.pkl\", 'rb') as f:\n",
    "    problematic=pkl.load(f)"
   ]
  },
  {
   "cell_type": "code",
   "execution_count": null,
   "metadata": {},
   "outputs": [],
   "source": [
    "IAB_Candidates=df_MAF['IAB_Candidates'].to_list()"
   ]
  },
  {
   "cell_type": "code",
   "execution_count": null,
   "metadata": {},
   "outputs": [],
   "source": [
    "with open(\"data/child_parent_dic.pkl\", 'rb') as f:\n",
    "    child_parent_dic=pkl.load(f)"
   ]
  },
  {
   "cell_type": "code",
   "execution_count": null,
   "metadata": {},
   "outputs": [
    {
     "name": "stderr",
     "output_type": "stream",
     "text": [
      "  0%|          | 0/1877 [00:00<?, ?it/s]"
     ]
    },
    {
     "name": "stderr",
     "output_type": "stream",
     "text": [
      "100%|██████████| 1877/1877 [02:53<00:00, 10.85it/s]\n"
     ]
    }
   ],
   "source": [
    "top_n_labels_new=[]\n",
    "top_n_cosines_new=[]\n",
    "top_n_nodes=[]\n",
    "top_n_node_ids=[]\n",
    "top_n_IAB_Candidates=[]\n",
    "top_n_H_scores=[]\n",
    "top_n_labels=[]\n",
    "top_n_cosines=[]\n",
    "\n",
    "tsne_embeddings=[]\n",
    "\n",
    "\n",
    "\n",
    "for i in tqdm(range(len(maf_embeddings))):\n",
    "    similarities=[]\n",
    "    for j in range(len(iab_embeddings)):\n",
    "        cos_sim=cosine_similarity(np.array(iab_embeddings[j]).reshape(1,-1),np.array(maf_embeddings[i]).reshape(1,-1))\n",
    "        similarities.append([call[160+i],call[j],cos_sim])\n",
    "    \n",
    "    similarities.sort(key=lambda x: x[2], reverse=True)\n",
    "\n",
    "\n",
    "    #threshold logic needed\n",
    "    #print(similarities[0:10])\n",
    "    #similarities=similarities[0:20]\n",
    "    \n",
    "    #low initial threshold\n",
    "    similarities=[x for x in similarities if x[2]>=0.765]\n",
    "    new_similarities=[]\n",
    "\n",
    "    # new_similarities=[x for x in similarities if x[2]>=0.8065]\n",
    "\n",
    "    # if len(new_similarities)==0:\n",
    "    #     new_similarities.append(['No_pred','No_pred',[[0]]])\n",
    "        \n",
    "    \n",
    "\n",
    "    # #higher threshold for problematic keywords, high threshold for general keywords for accuracy\n",
    "    for x in similarities:\n",
    "        if len(new_similarities)>=15 and x[2]<0.82:\n",
    "            break\n",
    "        if x[2]>=0.82 and x[1] in problematic:\n",
    "            new_similarities.append(x)\n",
    "        elif x[2]>=0.80 and x[1] not in problematic:\n",
    "            new_similarities.append(x)\n",
    "        else:\n",
    "            continue\n",
    "    \n",
    "    #adding atleast 1 adword\n",
    "    if len(new_similarities)==0:\n",
    "        while len(new_similarities)<1:\n",
    "            new_similarities.append(similarities[len(new_similarities)])\n",
    "        #print(new_similarities)\n",
    "\n",
    "    #print(len(new_similarities))\n",
    "\n",
    "    #force adding all parent adwords if child is predicted\n",
    "    new_sim_adwords=[]\n",
    "    for items in new_similarities:\n",
    "        new_sim_adwords.append(items[1])\n",
    "\n",
    "    count=0\n",
    "    for items in new_similarities:\n",
    "        if count==5:\n",
    "            break\n",
    "        try:\n",
    "            parent_list=child_parent_dic[items[1]]\n",
    "            for parent in parent_list:\n",
    "                if parent not in new_sim_adwords:\n",
    "                    new_sim_adwords.append(parent)\n",
    "                    j=call.index(parent)\n",
    "                    cos_sim=cosine_similarity(np.array(iab_embeddings[j]).reshape(1,-1),np.array(maf_embeddings[i]).reshape(1,-1))\n",
    "                    if cos_sim>0.765:\n",
    "                        new_similarities.append([call[160+i],call[j],cos_sim])\n",
    "        except Exception as e:\n",
    "            #print(e)\n",
    "            pass\n",
    "\n",
    "        count+=1\n",
    "    \n",
    "\n",
    "    #new_similarities.sort(key=lambda x: x[2], reverse=True)\n",
    "     \n",
    "\n",
    "    #print(len(new_similarities))\n",
    "        \n",
    "    temp_iab_labels=[]\n",
    "    temp_cosines=[]\n",
    "\n",
    "    count=0\n",
    "    for items in new_similarities:\n",
    "        if count>=15 and items[2][0][0]<0.82:\n",
    "            break\n",
    "        tsne_embeddings.append(maf_embeddings[i])\n",
    "        #print(items[1])\n",
    "        temp_iab_labels.append(items[1])\n",
    "        temp_cosines.append(items[2][0])\n",
    "        \n",
    "        top_n_labels_new.append(items[1])\n",
    "        top_n_cosines_new.append(items[2][0][0])\n",
    "        top_n_nodes.append(nodes[i])\n",
    "        #top_n_node_ids.append(node_id[i])\n",
    "        top_n_IAB_Candidates.append(IAB_Candidates[i])\n",
    "        #top_n_H_scores.append(H_Mappings[i])\n",
    "\n",
    "        count+=1\n",
    "\n",
    "    \n",
    "    top_n_labels.append(temp_iab_labels)\n",
    "    top_n_cosines.append(temp_cosines)"
   ]
  },
  {
   "cell_type": "code",
   "execution_count": null,
   "metadata": {},
   "outputs": [
    {
     "data": {
      "text/plain": [
       "1877"
      ]
     },
     "execution_count": 398,
     "metadata": {},
     "output_type": "execute_result"
    }
   ],
   "source": [
    "len(top_n_labels)"
   ]
  },
  {
   "cell_type": "code",
   "execution_count": null,
   "metadata": {},
   "outputs": [
    {
     "data": {
      "text/plain": [
       "10829"
      ]
     },
     "execution_count": 399,
     "metadata": {},
     "output_type": "execute_result"
    }
   ],
   "source": [
    "len(top_n_labels_new)"
   ]
  },
  {
   "cell_type": "code",
   "execution_count": null,
   "metadata": {},
   "outputs": [],
   "source": [
    "MAF_predictions=df_MAF['IAB_Candidates'].to_list()"
   ]
  },
  {
   "cell_type": "code",
   "execution_count": null,
   "metadata": {},
   "outputs": [],
   "source": [
    "candidate_count=0\n",
    "hit_count=0\n",
    "precision=0\n",
    "recall=0\n",
    "count=0\n",
    "f1=0\n",
    "\n",
    "for predictions, labels in zip(MAF_predictions,top_n_labels):\n",
    "    count+=1\n",
    "    proper=ast.literal_eval(predictions)\n",
    "    prec, reca=calculate_precision_recall(predictions, labels)\n",
    "\n",
    "    f=calculate_f1_score(prec, reca)\n",
    "    precision+=prec\n",
    "    recall+=reca\n",
    "    f1+=f\n",
    "\n",
    "\n",
    "    candidate_count+=len(proper)\n",
    "    # for items in labels:\n",
    "    #     if items in proper:\n",
    "    #         hit_count+=1\n",
    "\n",
    "    for items in proper:\n",
    "        if items in labels:\n",
    "            hit_count+=1"
   ]
  },
  {
   "cell_type": "code",
   "execution_count": null,
   "metadata": {},
   "outputs": [
    {
     "name": "stdout",
     "output_type": "stream",
     "text": [
      "5042\n"
     ]
    }
   ],
   "source": [
    "print(candidate_count)"
   ]
  },
  {
   "cell_type": "code",
   "execution_count": null,
   "metadata": {},
   "outputs": [
    {
     "data": {
      "text/plain": [
       "0.5358984529948433"
      ]
     },
     "execution_count": 403,
     "metadata": {},
     "output_type": "execute_result"
    }
   ],
   "source": [
    "hit_count/candidate_count"
   ]
  },
  {
   "cell_type": "code",
   "execution_count": null,
   "metadata": {},
   "outputs": [
    {
     "data": {
      "text/plain": [
       "0.6011620191191119"
      ]
     },
     "execution_count": 404,
     "metadata": {},
     "output_type": "execute_result"
    }
   ],
   "source": [
    "precision/942"
   ]
  },
  {
   "cell_type": "code",
   "execution_count": null,
   "metadata": {},
   "outputs": [
    {
     "data": {
      "text/plain": [
       "0.08785380458952594"
      ]
     },
     "execution_count": 405,
     "metadata": {},
     "output_type": "execute_result"
    }
   ],
   "source": [
    "recall/942"
   ]
  },
  {
   "cell_type": "code",
   "execution_count": null,
   "metadata": {},
   "outputs": [
    {
     "data": {
      "text/plain": [
       "0.13941063684867067"
      ]
     },
     "execution_count": 406,
     "metadata": {},
     "output_type": "execute_result"
    }
   ],
   "source": [
    "f1/942"
   ]
  },
  {
   "cell_type": "code",
   "execution_count": null,
   "metadata": {},
   "outputs": [
    {
     "data": {
      "text/plain": [
       "10829"
      ]
     },
     "execution_count": 407,
     "metadata": {},
     "output_type": "execute_result"
    }
   ],
   "source": [
    "len(top_n_labels_new)"
   ]
  },
  {
   "cell_type": "code",
   "execution_count": null,
   "metadata": {},
   "outputs": [],
   "source": [
    "dic={'item':top_n_nodes,                                             #'IAB_Candidates': top_n_IAB_Candidates,\n",
    "'predictions': top_n_labels_new, 'cosine_predicted': top_n_cosines_new}"
   ]
  },
  {
   "cell_type": "code",
   "execution_count": null,
   "metadata": {},
   "outputs": [],
   "source": [
    "df_MAF_new=pd.DataFrame.from_dict(dic)"
   ]
  },
  {
   "cell_type": "code",
   "execution_count": null,
   "metadata": {},
   "outputs": [],
   "source": [
    "df_MAF_new.to_csv('results/OpenAI_results_0.80_TSNE_Mapping.csv')"
   ]
  },
  {
   "cell_type": "code",
   "execution_count": null,
   "metadata": {},
   "outputs": [
    {
     "name": "stderr",
     "output_type": "stream",
     "text": [
      "  2%|▏         | 37/1877 [00:00<00:05, 364.55it/s]"
     ]
    },
    {
     "name": "stderr",
     "output_type": "stream",
     "text": [
      "100%|██████████| 1877/1877 [00:02<00:00, 728.26it/s]"
     ]
    },
    {
     "name": "stdout",
     "output_type": "stream",
     "text": [
      "8.536494405966968\n"
     ]
    },
    {
     "name": "stderr",
     "output_type": "stream",
     "text": [
      "\n"
     ]
    }
   ],
   "source": [
    "count=0\n",
    "for items in tqdm(maf):\n",
    "    count+=df_MAF_new[df_MAF_new['item']==items].shape[0]\n",
    "\n",
    "print(count/len(maf))"
   ]
  },
  {
   "cell_type": "code",
   "execution_count": null,
   "metadata": {},
   "outputs": [
    {
     "name": "stderr",
     "output_type": "stream",
     "text": [
      "  0%|          | 0/160 [00:00<?, ?it/s]"
     ]
    },
    {
     "name": "stderr",
     "output_type": "stream",
     "text": [
      "100%|██████████| 160/160 [00:00<00:00, 731.16it/s]\n"
     ]
    }
   ],
   "source": [
    "counts=[]\n",
    "for items in tqdm(iab_labels):\n",
    "    lol=df_MAF_new[df_MAF_new['predictions']==items].shape[0]\n",
    "    counts.append(lol)\n",
    "\n",
    "dic={'IAB_Label':iab_labels, 'Count':counts}\n",
    "\n",
    "df_adwords=pd.DataFrame.from_dict(dic)\n",
    "df_adwords.to_csv('results/Adwords_Statistics.csv',index=False)"
   ]
  },
  {
   "cell_type": "code",
   "execution_count": null,
   "metadata": {},
   "outputs": [
    {
     "data": {
      "text/plain": [
       "'Birthday'"
      ]
     },
     "execution_count": 330,
     "metadata": {},
     "output_type": "execute_result"
    }
   ],
   "source": [
    "iab_labels[counts.index(max(counts))]"
   ]
  },
  {
   "cell_type": "code",
   "execution_count": null,
   "metadata": {},
   "outputs": [
    {
     "data": {
      "text/plain": [
       "'Sedan'"
      ]
     },
     "execution_count": 331,
     "metadata": {},
     "output_type": "execute_result"
    }
   ],
   "source": [
    "iab_labels[counts.index(min(counts))]"
   ]
  },
  {
   "cell_type": "code",
   "execution_count": null,
   "metadata": {},
   "outputs": [
    {
     "data": {
      "text/plain": [
       "100.14375"
      ]
     },
     "execution_count": 332,
     "metadata": {},
     "output_type": "execute_result"
    }
   ],
   "source": [
    "sum(counts)/160"
   ]
  },
  {
   "cell_type": "code",
   "execution_count": 247,
   "metadata": {},
   "outputs": [],
   "source": [
    "#chat GPT Replacement\n",
    "with open('chatGPT-alternate-name/alternate_names.pkl', 'rb') as f:\n",
    "    alternate_dic=pkl.load(f)"
   ]
  },
  {
   "cell_type": "code",
   "execution_count": 248,
   "metadata": {},
   "outputs": [
    {
     "data": {
      "text/plain": [
       "defaultdict(list,\n",
       "            {'Hair Care': ['Haircare',\n",
       "              'Hair treatment',\n",
       "              'Hair products',\n",
       "              'Hair maintenance',\n",
       "              'Hair solutions'],\n",
       "             'Shaving': ['Grooming',\n",
       "              'Trimming',\n",
       "              'Shorn',\n",
       "              'Clipping',\n",
       "              'Razoring'],\n",
       "             'Motorcycles': ['Bikes',\n",
       "              'Choppers',\n",
       "              'Cycles',\n",
       "              'Hogs',\n",
       "              'wheelers'],\n",
       "             \"Women's Formal Wear\": [\"Women's Dressy Attire\",\n",
       "              \"Ladies' Evening Wear\",\n",
       "              'Female Formal Clothing',\n",
       "              \"Women's Elegant Outfits\",\n",
       "              \"Ladies' Dressier Clothes\"],\n",
       "             \"Women's Clothing\": ['Ladies fashion',\n",
       "              'Female attire',\n",
       "              \"Women's apparel\",\n",
       "              \"Girls' outfits\",\n",
       "              'Feminine wear'],\n",
       "             'Retail Industry': ['Commerce',\n",
       "              'Sales',\n",
       "              'Shops',\n",
       "              'Market',\n",
       "              'Trade'],\n",
       "             'Comedy Events': ['Comedy Shows',\n",
       "              'Funny Performances',\n",
       "              'Humorous Gatherings',\n",
       "              'Amusing Occasions',\n",
       "              'Jolly Events'],\n",
       "             'Household Supplies': ['Home goods',\n",
       "              'Housewares',\n",
       "              'Domestic essentials',\n",
       "              'Cleaning supplies',\n",
       "              'Daily necessities'],\n",
       "             'Home Security': ['House Safety',\n",
       "              'Residency Protection',\n",
       "              'Domicile Security',\n",
       "              'Property Guard',\n",
       "              'Homestead Defense'],\n",
       "             'Polar Travel': ['Arctic Tours',\n",
       "              'Ice Expeditions',\n",
       "              'Northern Travel',\n",
       "              'Frigid Adventures',\n",
       "              'Snowy Escapes'],\n",
       "             'Auto Parts': ['Auto components',\n",
       "              'Car pieces',\n",
       "              'Vehicle elements',\n",
       "              'Motor parts',\n",
       "              'Car accessories'],\n",
       "             'Awards Shows': ['Gala',\n",
       "              'Ceremony',\n",
       "              'Honors',\n",
       "              'Accolades',\n",
       "              'Prizes'],\n",
       "             'Business and Finance': ['Commerce',\n",
       "              'Economics',\n",
       "              'Trade',\n",
       "              'Accounting',\n",
       "              'Money'],\n",
       "             'Barbecues and Grilling': ['BBQs',\n",
       "              'Grills',\n",
       "              'Cookouts',\n",
       "              'Roasts',\n",
       "              'Pitmasters'],\n",
       "             'Grocery Shopping': ['Food shopping',\n",
       "              'Market run',\n",
       "              'Supermarket trip',\n",
       "              'Grocery run',\n",
       "              'Quick shop'],\n",
       "             'Auto Body Styles': ['Car Shapes',\n",
       "              'Vehicle Designs',\n",
       "              'Auto Forms',\n",
       "              'Body Configurations',\n",
       "              'Car Models'],\n",
       "             'Cooking': ['Culinary',\n",
       "              'Cookery',\n",
       "              'Cuisine',\n",
       "              'Food prep',\n",
       "              'Kitchen art'],\n",
       "             \"Women's Handbags and Wallets\": [\"Ladies' Purses\",\n",
       "              'Female Bags',\n",
       "              \"Women's Clutches\",\n",
       "              \"Girls' Totes\",\n",
       "              \"Ladies' Wallets\"],\n",
       "             'Cruises': ['Trips',\n",
       "              'Voyages',\n",
       "              'Tours',\n",
       "              'Journeys',\n",
       "              'Excursions'],\n",
       "             'Coupe': ['Car', 'Auto', 'Ride', 'Vehicle', 'Wheels'],\n",
       "             'World Cuisines': ['Global Foods',\n",
       "              'International Cuisine',\n",
       "              'Ethnic Fare',\n",
       "              'Diverse Dishes',\n",
       "              'Multicultural Menus'],\n",
       "             'Landscaping': ['Gardening',\n",
       "              'Yardwork',\n",
       "              'Groundskeeping',\n",
       "              'Horticulture',\n",
       "              'Lawn care'],\n",
       "             'Commercial Trucks': ['Cargo vehicles',\n",
       "              'Work trucks',\n",
       "              'Industrial rigs',\n",
       "              'Freight carriers',\n",
       "              'Hauling machines'],\n",
       "             'Video Gaming': ['Gaming',\n",
       "              'Gamers',\n",
       "              'Video games',\n",
       "              'Gaming culture',\n",
       "              'eSports'],\n",
       "             'Healthy Living': ['Wellness',\n",
       "              'Fitness',\n",
       "              'Health',\n",
       "              'Vitality',\n",
       "              'Wholeness'],\n",
       "             \"Men's Formal Wear\": [\"Men's Dress Clothes\",\n",
       "              \"Men's Evening Attire\",\n",
       "              \"Men's Formal Attire\",\n",
       "              \"Men's Black Tie Clothing\",\n",
       "              \"Men's Tuxedo Wear\"],\n",
       "             'Dating': ['Romance', 'Flirt', 'Love', 'Match', 'Couple'],\n",
       "             'Birthday': ['day',\n",
       "              'Birthdate',\n",
       "              'Celebration',\n",
       "              'Anniversary',\n",
       "              'Party'],\n",
       "             'Wedding': ['Nuptials',\n",
       "              'Marriage',\n",
       "              'Matrimony',\n",
       "              'Union',\n",
       "              'Bridal'],\n",
       "             'Museums & Galleries': ['Art centers',\n",
       "              'Exhibits',\n",
       "              'Culture hubs',\n",
       "              'Display spaces',\n",
       "              'Heritage sites'],\n",
       "             'Fitness and Exercise': ['Workout',\n",
       "              'Fitness training',\n",
       "              'Physical activity',\n",
       "              'Gym time',\n",
       "              'Exercise regimen'],\n",
       "             'Education industry': ['Learning sector',\n",
       "              'Academic field',\n",
       "              'Instruction domain',\n",
       "              'Schooling realm',\n",
       "              'Training arena'],\n",
       "             'Tablets and E-readers': ['Tabs',\n",
       "              'reads',\n",
       "              'Slates',\n",
       "              'Pads',\n",
       "              'Kindles'],\n",
       "             'Retail Property': ['Shop space',\n",
       "              'Storefront',\n",
       "              'Retail space',\n",
       "              'Commercial space',\n",
       "              'Shopping plaza'],\n",
       "             'Beach Travel': ['Seaside Trips',\n",
       "              'Ocean Vacations',\n",
       "              'Coast Excursions',\n",
       "              'Sand Getaways',\n",
       "              'Shoreline Tours'],\n",
       "             'Outdoor Activities': ['Outdoor Fun',\n",
       "              'Outside Adventures',\n",
       "              'air Pursuits',\n",
       "              'Nature Thrills',\n",
       "              'air Recreation'],\n",
       "             'Hotels and Motels': ['Lodging',\n",
       "              'Accommodations',\n",
       "              'Inns',\n",
       "              'Hostels',\n",
       "              'Rooms'],\n",
       "             'Space and Astronomy': ['Cosmos',\n",
       "              'Sky',\n",
       "              'Universe',\n",
       "              'Stars',\n",
       "              'Astrology'],\n",
       "             'Holiday Shopping': ['Xmas Shopping',\n",
       "              'Festive Shopping',\n",
       "              'Yuletide Shopping',\n",
       "              'Seasonal Shopping',\n",
       "              'Gift Buying'],\n",
       "             'Concerts & Music Events': ['Gigs',\n",
       "              'Shows',\n",
       "              'Festivals',\n",
       "              'Concerts',\n",
       "              'Performances'],\n",
       "             'Auto Type': ['Car Kind',\n",
       "              'Vehicle Sort',\n",
       "              'Auto Style',\n",
       "              'Motor Model',\n",
       "              'Ride Type'],\n",
       "             'Entertainment Industry': ['Showbiz',\n",
       "              'Media',\n",
       "              'Arts',\n",
       "              'Culture',\n",
       "              'Fun'],\n",
       "             'Travel Locations': ['Places to go',\n",
       "              'Tourist spots',\n",
       "              'Destination ideas',\n",
       "              'Vacation spots',\n",
       "              'Adventure locations'],\n",
       "             'Minivan': ['Van', 'Bus', 'MPV', 'Wagon', 'Shuttle'],\n",
       "             'Smartphones': ['Phones',\n",
       "              'Mobiles',\n",
       "              'Cellphones',\n",
       "              'Handsets',\n",
       "              'Devices'],\n",
       "             'Luxury Cars': ['end autos',\n",
       "              'Deluxe vehicles',\n",
       "              'Lavish rides',\n",
       "              'Premium automobiles',\n",
       "              'Fancy cars'],\n",
       "             'Travel': ['Tour', 'Trek', 'Roam', 'Voyage', 'Trip'],\n",
       "             'Perfume and Fragrance': ['Scent',\n",
       "              'Aroma',\n",
       "              'Smell',\n",
       "              'Odor',\n",
       "              'Essence'],\n",
       "             'Alcoholic Beverages': ['Booze',\n",
       "              'Liquor',\n",
       "              'Spirits',\n",
       "              'Brews',\n",
       "              'Drinks'],\n",
       "             'Prom': ['Ad', 'Sale', 'Offer', 'Deal', 'Event'],\n",
       "             'Parks & Nature': ['Green spaces',\n",
       "              'Outdoors',\n",
       "              'Wildlands',\n",
       "              'Natural areas',\n",
       "              'Woodlands'],\n",
       "             'Science': ['Sci', 'STEM', 'Tech', 'Study', 'Learn'],\n",
       "             'Rail Travel': ['Train Trips',\n",
       "              'Rail Tours',\n",
       "              'Track Travel',\n",
       "              'Train Voyages',\n",
       "              'Railway Excursions'],\n",
       "             \"Women's Jewelry and Watches\": [\"Ladies' Accessories\",\n",
       "              'Feminine Timepieces',\n",
       "              \"Women's Adornments\",\n",
       "              \"Girls' Jewels\",\n",
       "              'Female Wristwear'],\n",
       "             'Convertible': ['top',\n",
       "              'Roadster',\n",
       "              'Cabriolet',\n",
       "              'Spyder',\n",
       "              'Ragtop'],\n",
       "             'Camping': ['Camp', 'Outdoors', 'Hiking', 'Tenting', 'Glamping'],\n",
       "             'Telecommunications Industry': ['Telecom',\n",
       "              'Telco',\n",
       "              'Comms',\n",
       "              'ICT (Information and Communications Technology)',\n",
       "              'Telephony'],\n",
       "             'Reptiles': ['Snakes', 'Lizards', 'Geckos', 'Turtles', 'Frogs'],\n",
       "             'SUV': ['4x4', 'Crossover', 'Truck', 'Jeep', 'roader'],\n",
       "             \"Men's Clothing\": [\"Men's Wear\",\n",
       "              'Male Apparel',\n",
       "              \"Guy's Attire\",\n",
       "              'Masculine Outfits',\n",
       "              \"Gentleman's Garments\"],\n",
       "             'Card Games': ['Playing Cards',\n",
       "              'Deck Games',\n",
       "              'Boardless Games',\n",
       "              'Based Games',\n",
       "              'Table Games'],\n",
       "             'Hobbies & Interests': ['Leisure',\n",
       "              'Passions',\n",
       "              'Pursuits',\n",
       "              'Activities',\n",
       "              'Diversion'],\n",
       "             'Auto Repair': ['Car Fix',\n",
       "              'Vehicle Repair',\n",
       "              'Auto Fix',\n",
       "              'Car Service',\n",
       "              'Vehicle Maintenance'],\n",
       "             'College Education': ['Higher Ed',\n",
       "              'Uni Degree',\n",
       "              'Schooling',\n",
       "              'Academics',\n",
       "              'Learn Path'],\n",
       "             'Birds': ['Fowl',\n",
       "              'Avians',\n",
       "              'Beaks',\n",
       "              'Chirpers',\n",
       "              'Winged creatures'],\n",
       "             'Home & Garden': ['H&G',\n",
       "              'Housewares',\n",
       "              'Homestead',\n",
       "              'Domicile',\n",
       "              'Botanicals'],\n",
       "             'Home Appliances': ['Kitchenware',\n",
       "              'Housewares',\n",
       "              'White goods',\n",
       "              'Domestic appliances',\n",
       "              'Home equipment'],\n",
       "             'Auto Rentals': ['Car Rentals',\n",
       "              'Vehicle Rentals',\n",
       "              'Auto Hire',\n",
       "              'Car Hire',\n",
       "              'Rental Cars'],\n",
       "             'Van': ['Bus', 'Caravan', 'Truck', 'Wagon', 'Lorry'],\n",
       "             'Europe Travel': ['Eurotrip',\n",
       "              'Euroland',\n",
       "              'Euroroute',\n",
       "              'Eurovoyage',\n",
       "              'Euroexcursion'],\n",
       "             'Pop Culture': ['Popular culture',\n",
       "              'Popularity culture',\n",
       "              'Mainstream culture',\n",
       "              'Mass culture',\n",
       "              'Contemporary culture'],\n",
       "             'Hotel Properties': ['Lodgings',\n",
       "              'Inns',\n",
       "              'Motels',\n",
       "              'Resorts',\n",
       "              'Accommodations'],\n",
       "             'Flower Shopping': ['Floral shopping',\n",
       "              'Bloom buying',\n",
       "              'Petal purchasing',\n",
       "              'Blossom browsing',\n",
       "              'Plant procurement'],\n",
       "             'Sedan': ['Car', 'Auto', 'Vehicle', 'Ride', 'Wheels'],\n",
       "             'Laptops': ['Notebooks',\n",
       "              'Portables',\n",
       "              'Ultrabooks',\n",
       "              'Chromebooks',\n",
       "              'Netbooks'],\n",
       "             'Africa Travel': ['Safari',\n",
       "              'Explore Africa',\n",
       "              'African Journey',\n",
       "              'Discover Africa',\n",
       "              'Visit Africa'],\n",
       "             \"Women's Shoes and Footwear\": [\"Ladies' Shoes\",\n",
       "              \"Women's Footwear\",\n",
       "              'Female Footgear',\n",
       "              \"Girls' Shoes\",\n",
       "              \"Women's Sneakers\"],\n",
       "             'Logistics and Transportation Industry': ['Shipping',\n",
       "              'Haulage',\n",
       "              'Supply chain',\n",
       "              'Freight',\n",
       "              'Transit'],\n",
       "             'Desserts and Baking': ['Treats',\n",
       "              'Sweets',\n",
       "              'Patisserie',\n",
       "              'Confections',\n",
       "              'Pastries'],\n",
       "             'Music and Audio': ['Sound', 'Melody', 'Tune', 'Audio', 'Beat'],\n",
       "             'Financial Industry': ['Finance',\n",
       "              'Banking',\n",
       "              'Investment',\n",
       "              'Money',\n",
       "              'Capital'],\n",
       "             'Religious Events': ['Faith Gatherings',\n",
       "              'Devotional Programs',\n",
       "              'Spiritual Ceremonies',\n",
       "              'Worship Services',\n",
       "              'Divine Assemblies'],\n",
       "             'Theater Venues and Events': ['Showplaces',\n",
       "              'Playhouses',\n",
       "              'Auditoriums',\n",
       "              'Stages',\n",
       "              'Halls'],\n",
       "             'Technology Industry': ['Tech sector',\n",
       "              'IT field',\n",
       "              'Digital industry',\n",
       "              'tech realm',\n",
       "              'Cyber sphere'],\n",
       "             'Technology & Computing': ['Tech',\n",
       "              'IT',\n",
       "              'Computers',\n",
       "              'Digital',\n",
       "              'Electronics'],\n",
       "             'Parenting': ['Raising kids',\n",
       "              'rearing',\n",
       "              'Family guidance',\n",
       "              'Maternal/paternal care',\n",
       "              'Nurturing'],\n",
       "             'Fine Art': ['Artwork',\n",
       "              'Masterpiece',\n",
       "              'Painting',\n",
       "              'Sculpture',\n",
       "              'Drawing'],\n",
       "             'Events and Attractions': ['Shows',\n",
       "              'Festivals',\n",
       "              'Exhibits',\n",
       "              'Fairs',\n",
       "              'Concerts'],\n",
       "             'Bars & Restaurants': ['Eateries',\n",
       "              'Bistros',\n",
       "              'Taverns',\n",
       "              'Diners',\n",
       "              'Cafes'],\n",
       "             'Nail Care': ['Manicure',\n",
       "              'Pedicure',\n",
       "              'Nail treatment',\n",
       "              'Nail grooming',\n",
       "              'Nail maintenance'],\n",
       "             'Pets': ['Animals', 'Critters', 'Beasts', 'Pals', 'Companions'],\n",
       "             'Aviation Industry': ['Air industry',\n",
       "              'Flight sector',\n",
       "              'Aero business',\n",
       "              'Sky commerce',\n",
       "              'Plane field'],\n",
       "             'Cinemas and Events': ['Movies & Shows',\n",
       "              'Film & Festivals',\n",
       "              'Flicks & Parties',\n",
       "              'Cinema & Happenings',\n",
       "              'Screens & Gatherings'],\n",
       "             'Games and Puzzles': ['Toys',\n",
       "              'Plays',\n",
       "              'Brainteasers',\n",
       "              'Riddles',\n",
       "              'Amusements'],\n",
       "             'North America Travel': ['NA Trips',\n",
       "              'NorthAm Tours',\n",
       "              'USA Travel',\n",
       "              'Canada Journeys',\n",
       "              'Mexi Vacations'],\n",
       "             'Family and Relationships': ['Kinship',\n",
       "              'Bonding',\n",
       "              'Affinity',\n",
       "              'Unity',\n",
       "              'Intimacy'],\n",
       "             'Consumer Electronics': ['Tech',\n",
       "              'Gadgets',\n",
       "              'Electronics',\n",
       "              'Devices',\n",
       "              'Gear'],\n",
       "             \"Men's Casual Wear\": [\"Men's Casual Attire\",\n",
       "              \"Men's Relaxed Clothing\",\n",
       "              \"Men's Informal Wear\",\n",
       "              \"Men's Everyday Outfits\",\n",
       "              'Back Style'],\n",
       "             'Food & Drink': ['Cuisine', 'Grub', 'Eats', 'Fare', 'Sustenance'],\n",
       "             'Malls & Shopping Centers': ['Shopping Malls',\n",
       "              'Retail Centers',\n",
       "              'Shops',\n",
       "              'Marketplaces',\n",
       "              'Arcade'],\n",
       "             'Media Industry': ['Press',\n",
       "              'News',\n",
       "              'Broadcast',\n",
       "              'Film',\n",
       "              'Showbiz'],\n",
       "             'Green Vehicles': ['Eco Cars',\n",
       "              'Leaf Autos',\n",
       "              'Clean Rides',\n",
       "              'Nature Wheels',\n",
       "              'Fresh Vehicles'],\n",
       "             'Apartments': ['Flats', 'Units', 'Condos', 'Homes', 'Residences'],\n",
       "             'Large Animals': ['Big Beasts',\n",
       "              'Huge Critters',\n",
       "              'Giant Creatures',\n",
       "              'Massive Fauna',\n",
       "              'Colossal Wildlife'],\n",
       "             'Land and Farms': ['Property',\n",
       "              'Acreage',\n",
       "              'Estate',\n",
       "              'Ranch',\n",
       "              'Homestead'],\n",
       "             'Pickup Trucks': ['Pickups', 'Trucks', '4x4s', 'Vans', 'Utes'],\n",
       "             'Sports': ['Athletics',\n",
       "              'Fitness',\n",
       "              'Games',\n",
       "              'Recreation',\n",
       "              'Training'],\n",
       "             'Shopping': ['Shop', 'Buy', 'Store', 'Retail', 'Market'],\n",
       "             'Remodeling & Construction': ['Renovation & Building',\n",
       "              'Refurbishment & Development',\n",
       "              'Revamping & Constructing',\n",
       "              'Overhaul & Erecting',\n",
       "              'Transformation & Creation'],\n",
       "             'Auto Shows': ['Car Expos',\n",
       "              'Motor Shows',\n",
       "              'Vehicle Exhibitions',\n",
       "              'Auto Exhibits',\n",
       "              'Car Displays'],\n",
       "             'Automotive Industry': ['Auto sector',\n",
       "              'Car industry',\n",
       "              'Motor trade',\n",
       "              'Vehicle market',\n",
       "              'Transportation business'],\n",
       "             'Office Property': ['Workspace',\n",
       "              'Office Space',\n",
       "              'Business Property',\n",
       "              'Commercial Space',\n",
       "              'Workplace'],\n",
       "             'Board Games and Puzzles': ['Tabletop games',\n",
       "              'Brainteasers',\n",
       "              'Jigsaw puzzles',\n",
       "              'Family games',\n",
       "              'Strategy games'],\n",
       "             'Houses': ['Homes',\n",
       "              'Dwellings',\n",
       "              'Abodes',\n",
       "              'Residences',\n",
       "              'Properties'],\n",
       "             'Real Estate': ['Property',\n",
       "              'Land',\n",
       "              'Estate',\n",
       "              'Housing',\n",
       "              'Realty'],\n",
       "             'Medical Health': ['Health Care',\n",
       "              'Medical Care',\n",
       "              'Wellness',\n",
       "              'Healthcare',\n",
       "              'Medicine'],\n",
       "             'Beauty': ['Glamour', 'Grace', 'Charm', 'Elegance', 'Loveliness'],\n",
       "             'Apparel Industry': ['Fashion sector',\n",
       "              'Clothing business',\n",
       "              'Garment trade',\n",
       "              'Textile market',\n",
       "              'Style industry'],\n",
       "             'Religion & Spirituality': ['Faith',\n",
       "              'Belief',\n",
       "              'Devotion',\n",
       "              'Worship',\n",
       "              'Piety'],\n",
       "             'Asia Travel': ['Asian Tours',\n",
       "              'Far East Explorer',\n",
       "              'Pacific Journey',\n",
       "              'Oriental Adventure',\n",
       "              'Eastbound Excursion'],\n",
       "             'Food Industry': ['Culinary field',\n",
       "              'Edible business',\n",
       "              'Cuisine sector',\n",
       "              'Nutritional realm',\n",
       "              'Gastronomic world'],\n",
       "             'Graduation': ['Grad',\n",
       "              'Diploma',\n",
       "              'Commencement',\n",
       "              'Cap and gown',\n",
       "              'Ceremony'],\n",
       "             'Travel Accessories': ['Travel gear',\n",
       "              'Trip items',\n",
       "              'Journey essentials',\n",
       "              'Adventure tools',\n",
       "              'Tour supplies'],\n",
       "             'Road-Side Assistance': ['Breakdown aid',\n",
       "              'Emergency towing',\n",
       "              'Vehicle rescue',\n",
       "              'Auto support',\n",
       "              'Road aid'],\n",
       "             'Home Entertaining': ['Hosting',\n",
       "              'Partying',\n",
       "              'Gathering',\n",
       "              'Celebrating',\n",
       "              'Entertaining'],\n",
       "             'Dining Out': ['Eating Out',\n",
       "              'Dine Out',\n",
       "              'Eat Out',\n",
       "              'Go Out',\n",
       "              'Sup Out'],\n",
       "             'Smart Home': ['Intelligent Home',\n",
       "              'Automated Home',\n",
       "              'Tech Home',\n",
       "              'Connected Home',\n",
       "              'Digital Home'],\n",
       "             'Healthcare Industry': ['Medical field',\n",
       "              'Health sector',\n",
       "              'Wellness industry',\n",
       "              'Healthcare sector',\n",
       "              'Health services'],\n",
       "             'Style & Fashion': ['Fashion', 'Trend', 'Chic', 'Vogue', 'Glam'],\n",
       "             'Deodorant and Antiperspirant': ['Deo',\n",
       "              'Antipersp',\n",
       "              'Sweatstop',\n",
       "              'Odorshield',\n",
       "              'Freshguard'],\n",
       "             'Fashion Events': ['Fashion Shows',\n",
       "              'Style Gatherings',\n",
       "              'Trendy Exhibitions',\n",
       "              'Chic Happenings',\n",
       "              'Modish Affairs'],\n",
       "             'Gardening': ['Horticulture',\n",
       "              'Landscaping',\n",
       "              'Cultivation',\n",
       "              'Farming',\n",
       "              'Planting'],\n",
       "             'Daycare and Pre-School': ['Childcare',\n",
       "              'Nursery',\n",
       "              'Kindergarten',\n",
       "              'Playgroup',\n",
       "              'Crèche'],\n",
       "             'Single Life': ['Solo',\n",
       "              'Unattached',\n",
       "              'Alone',\n",
       "              'Bachelorhood',\n",
       "              'Independent'],\n",
       "             'Oral care': ['Mouth care',\n",
       "              'Dental hygiene',\n",
       "              'Teeth cleaning',\n",
       "              'Oral hygiene',\n",
       "              'Mouth hygiene'],\n",
       "             'Musical Instruments': ['Music gear',\n",
       "              'Instruments',\n",
       "              'Music equipment',\n",
       "              'Sound tools',\n",
       "              'Music devices'],\n",
       "             'Makeup and Accessories': ['Cosmetics',\n",
       "              'Beauty Items',\n",
       "              'Glam Gear',\n",
       "              'Makeup Kit',\n",
       "              'Dressing Aids'],\n",
       "             'Bath and Shower': ['Washroom',\n",
       "              'Cleanse',\n",
       "              'Bathe',\n",
       "              'Scrub',\n",
       "              'Soak'],\n",
       "             'Personal Celebrations & Life Events': ['Occasions',\n",
       "              'Festivities',\n",
       "              'Milestones',\n",
       "              'Ceremonies',\n",
       "              'Parties'],\n",
       "             'Australia and Oceania Travel': ['Aus & Oceania Travel',\n",
       "              'Down Under Adventures',\n",
       "              'Pacific Vacations',\n",
       "              'Aussie Explorer Tours',\n",
       "              'Oceanic Journeys'],\n",
       "             'Wellness': ['Health',\n",
       "              'Fitness',\n",
       "              'being',\n",
       "              'Vitality',\n",
       "              'Wholeness'],\n",
       "             'Zoos & Aquariums': ['Wildlife Parks',\n",
       "              'Animal Sanctuaries',\n",
       "              'Nature Reserves',\n",
       "              'Marine Parks',\n",
       "              'Oceanariums'],\n",
       "             'Cameras and Camcorders': ['Cams',\n",
       "              'Recorders',\n",
       "              'Shooters',\n",
       "              'Snappers',\n",
       "              'Vidcams'],\n",
       "             'Casinos & Gambling': ['Betting',\n",
       "              'Gaming',\n",
       "              'Wagering',\n",
       "              'Raffle',\n",
       "              'Lottery'],\n",
       "             'Home Improvement': ['Renovation',\n",
       "              'Remodeling',\n",
       "              'Upgrading',\n",
       "              'Refurbishing',\n",
       "              'Fixing'],\n",
       "             'Air Travel': ['Flight',\n",
       "              'Aviation',\n",
       "              'Aerial transportation',\n",
       "              'Sky travel',\n",
       "              'Airborne journey'],\n",
       "             'Station Wagon': ['Estate car',\n",
       "              'Wagon',\n",
       "              'Tourer',\n",
       "              'Sportswagon',\n",
       "              'Estate wagon'],\n",
       "             'South America Travel': ['S.A. Trips',\n",
       "              'Andean Adventures',\n",
       "              'Latin Tours',\n",
       "              'Amazon Excursions',\n",
       "              'Patagonia Journeys'],\n",
       "             'Desktops': ['PCs',\n",
       "              'Computers',\n",
       "              'Workstations',\n",
       "              'Towers',\n",
       "              'Machines'],\n",
       "             'Automotive': ['Auto', 'Car', 'Vehicle', 'Motor', 'Wheels'],\n",
       "             \"Children's Games and Toys\": [\"Kids' Toys\",\n",
       "              'Child Playthings',\n",
       "              'Youth Games',\n",
       "              'Junior Toys',\n",
       "              'Toddler Playthings'],\n",
       "             'Hospitality Industry': ['Hotel business',\n",
       "              'Service sector',\n",
       "              'Tourism field',\n",
       "              'Accommodation industry',\n",
       "              'Guest services'],\n",
       "             'Movies': ['Films',\n",
       "              'Flicks',\n",
       "              'Cinema',\n",
       "              'Motion pictures',\n",
       "              'Videos'],\n",
       "             'Dogs': ['Canines', 'Pups', 'Hounds', 'Fidos', 'Mutts'],\n",
       "             'Education': ['Learning',\n",
       "              'Schooling',\n",
       "              'Teaching',\n",
       "              'Training',\n",
       "              'Tutoring'],\n",
       "             'Primary Education': ['Elementary Education',\n",
       "              'Grade School',\n",
       "              'Basic Education',\n",
       "              'Primary Schooling',\n",
       "              'Fundamentals of Learning'],\n",
       "             'Books and Literature': ['Reading material',\n",
       "              'Lit works',\n",
       "              'Written art',\n",
       "              'Textual content',\n",
       "              'Prose pieces'],\n",
       "             'Non-Alcoholic Beverages': ['Soft Drinks',\n",
       "              'Mocktails',\n",
       "              'Juices',\n",
       "              'Sodas',\n",
       "              'Smoothies']})"
      ]
     },
     "execution_count": 248,
     "metadata": {},
     "output_type": "execute_result"
    }
   ],
   "source": [
    "alternate_dic"
   ]
  },
  {
   "cell_type": "code",
   "execution_count": 249,
   "metadata": {},
   "outputs": [
    {
     "data": {
      "text/html": [
       "<div>\n",
       "<style scoped>\n",
       "    .dataframe tbody tr th:only-of-type {\n",
       "        vertical-align: middle;\n",
       "    }\n",
       "\n",
       "    .dataframe tbody tr th {\n",
       "        vertical-align: top;\n",
       "    }\n",
       "\n",
       "    .dataframe thead th {\n",
       "        text-align: right;\n",
       "    }\n",
       "</style>\n",
       "<table border=\"1\" class=\"dataframe\">\n",
       "  <thead>\n",
       "    <tr style=\"text-align: right;\">\n",
       "      <th></th>\n",
       "      <th>item</th>\n",
       "      <th>predictions</th>\n",
       "      <th>cosine_predicted</th>\n",
       "    </tr>\n",
       "  </thead>\n",
       "  <tbody>\n",
       "    <tr>\n",
       "      <th>0</th>\n",
       "      <td>crane</td>\n",
       "      <td>Birds</td>\n",
       "      <td>0.837830</td>\n",
       "    </tr>\n",
       "    <tr>\n",
       "      <th>1</th>\n",
       "      <td>crane</td>\n",
       "      <td>Commercial Trucks</td>\n",
       "      <td>0.827790</td>\n",
       "    </tr>\n",
       "    <tr>\n",
       "      <th>2</th>\n",
       "      <td>crane</td>\n",
       "      <td>Cruises</td>\n",
       "      <td>0.826511</td>\n",
       "    </tr>\n",
       "    <tr>\n",
       "      <th>3</th>\n",
       "      <td>crane</td>\n",
       "      <td>Pickup Trucks</td>\n",
       "      <td>0.820548</td>\n",
       "    </tr>\n",
       "    <tr>\n",
       "      <th>4</th>\n",
       "      <td>crane</td>\n",
       "      <td>Large Animals</td>\n",
       "      <td>0.806308</td>\n",
       "    </tr>\n",
       "  </tbody>\n",
       "</table>\n",
       "</div>"
      ],
      "text/plain": [
       "    item        predictions  cosine_predicted\n",
       "0  crane              Birds          0.837830\n",
       "1  crane  Commercial Trucks          0.827790\n",
       "2  crane            Cruises          0.826511\n",
       "3  crane      Pickup Trucks          0.820548\n",
       "4  crane      Large Animals          0.806308"
      ]
     },
     "execution_count": 249,
     "metadata": {},
     "output_type": "execute_result"
    }
   ],
   "source": [
    "df_MAF_new.head()"
   ]
  },
  {
   "cell_type": "code",
   "execution_count": 257,
   "metadata": {},
   "outputs": [],
   "source": [
    "def create_embeddings_new(item):\n",
    "    deployment_name= azureconfig['deployment_name']\n",
    "\n",
    "    response = openai.Embedding.create(\n",
    "        input=item,\n",
    "        engine=deployment_name\n",
    "    )\n",
    "    embeddings = response['data'][0]['embedding']\n",
    "    return embeddings"
   ]
  },
  {
   "cell_type": "code",
   "execution_count": 367,
   "metadata": {},
   "outputs": [
    {
     "name": "stderr",
     "output_type": "stream",
     "text": [
      "100%|██████████| 160/160 [03:08<00:00,  1.18s/it]\n"
     ]
    }
   ],
   "source": [
    "scores={}\n",
    "for items in tqdm(iab_labels):\n",
    "    df_orig=df_MAF_new[df_MAF_new['predictions']==items]\n",
    "    cosine_predicted=sum(df_orig['cosine_predicted'].to_list())/len(df_orig['cosine_predicted'].to_list())\n",
    "    #print(cosine_predicted)\n",
    "    #break\n",
    "    scores[items]={'{}'.format(items):cosine_predicted}\n",
    "    max_score=cosine_predicted\n",
    "    for alternates in alternate_dic[items]:\n",
    "        cos_sims=[]\n",
    "        alternate_embedding=create_embeddings_new(alternates)\n",
    "        for keywords in df_orig['item'].to_list():\n",
    "            i=call.index(keywords)\n",
    "            item_embedding=total_embeddings[i]\n",
    "            cos_sims.append(cosine_similarity(np.array(alternate_embedding).reshape(1,-1),np.array(item_embedding).reshape(1,-1)))\n",
    "        \n",
    "        cosine_predicted=sum(cos_sims)/len(cos_sims)\n",
    "        if cosine_predicted>max_score and len(alternates)<len(items):\n",
    "            max_score=cosine_predicted\n",
    "            scores[items]={'{}'.format(alternates):cosine_predicted[0][0]}\n",
    "            if items not in problematic:\n",
    "                problematic.append(items)\n",
    "            \n",
    "    \n"
   ]
  },
  {
   "cell_type": "code",
   "execution_count": 368,
   "metadata": {},
   "outputs": [
    {
     "data": {
      "text/plain": [
       "{'Hair Care': {'Hair Care': 0.8290118891931814},\n",
       " 'Shaving': {'Shaving': 0.8367466352306965},\n",
       " 'Motorcycles': {'Motorcycles': 0.8247143667824867},\n",
       " \"Women's Formal Wear\": {\"Women's Formal Wear\": 0.8198046257508906},\n",
       " \"Women's Clothing\": {\"Women's Clothing\": 0.8205189799687213},\n",
       " 'Retail Industry': {'Retail Industry': 0.8275536253308498},\n",
       " 'Comedy Events': {'Comedy Events': 0.8129531939870166},\n",
       " 'Household Supplies': {'Household Supplies': 0.8193957579424482},\n",
       " 'Home Security': {'Home Security': 0.8179680203041682},\n",
       " 'Polar Travel': {'Polar Travel': 0.819079952087211},\n",
       " 'Auto Parts': {'Auto Parts': 0.8266459128584055},\n",
       " 'Awards Shows': {'Awards Shows': 0.8218537807832149},\n",
       " 'Business and Finance': {'Business and Finance': 0.8013148548164415},\n",
       " 'Barbecues and Grilling': {'Barbecues and Grilling': 0.8154770590344835},\n",
       " 'Grocery Shopping': {'Grocery Shopping': 0.8250322940246976},\n",
       " 'Auto Body Styles': {'Auto Body Styles': 0.804997637402198},\n",
       " 'Cooking': {'Cooking': 0.8367442921889144},\n",
       " \"Women's Handbags and Wallets\": {\"Women's Handbags and Wallets\": 0.8250082364282666},\n",
       " 'Cruises': {'Cruises': 0.8363056395265679},\n",
       " 'Coupe': {'Coupe': 0.8392849147435545},\n",
       " 'World Cuisines': {'World Cuisines': 0.8205260427765015},\n",
       " 'Landscaping': {'Landscaping': 0.8340662347187701},\n",
       " 'Commercial Trucks': {'Commercial Trucks': 0.8310198283377709},\n",
       " 'Video Gaming': {'Video Gaming': 0.8184275649532242},\n",
       " 'Healthy Living': {'Healthy Living': 0.8183362438268577},\n",
       " \"Men's Formal Wear\": {\"Men's Formal Wear\": 0.8203513170322777},\n",
       " 'Dating': {'Dating': 0.8324950113074527},\n",
       " 'Birthday': {'Birthday': 0.8159609017113973},\n",
       " 'Wedding': {'Wedding': 0.8306911525269587},\n",
       " 'Museums & Galleries': {'Museums & Galleries': 0.8200788226791844},\n",
       " 'Fitness and Exercise': {'Fitness and Exercise': 0.8224470003043813},\n",
       " 'Education industry': {'Education industry': 0.8146905901885804},\n",
       " 'Tablets and E-readers': {'Tablets and E-readers': 0.8168843025304825},\n",
       " 'Retail Property': {'Retail Property': 0.8223741756341776},\n",
       " 'Beach Travel': {'Beach Travel': 0.8211186735559844},\n",
       " 'Outdoor Activities': {'Outdoor Activities': 0.8345659658693491},\n",
       " 'Hotels and Motels': {'Hotels and Motels': 0.8302485806650562},\n",
       " 'Space and Astronomy': {'Space and Astronomy': 0.8214540034231854},\n",
       " 'Holiday Shopping': {'Holiday Shopping': 0.8427329940673277},\n",
       " 'Concerts & Music Events': {'Concerts & Music Events': 0.8174826745143888},\n",
       " 'Auto Type': {'Auto Type': 0.8221133244196369},\n",
       " 'Entertainment Industry': {'Entertainment Industry': 0.8184400967259899},\n",
       " 'Travel Locations': {'Travel Locations': 0.7947641429554302},\n",
       " 'Minivan': {'Minivan': 0.8434667730840794},\n",
       " 'Smartphones': {'Smartphones': 0.8410594094351461},\n",
       " 'Luxury Cars': {'Luxury Cars': 0.8229917200889437},\n",
       " 'Travel': {'Travel': 0.8171415646785237},\n",
       " 'Perfume and Fragrance': {'Perfume and Fragrance': 0.8316330414410805},\n",
       " 'Alcoholic Beverages': {'Alcoholic Beverages': 0.8248485741857662},\n",
       " 'Prom': {'Prom': 0.8274198181033132},\n",
       " 'Parks & Nature': {'Outdoors': 0.8296876726959075},\n",
       " 'Science': {'Science': 0.8285933398928856},\n",
       " 'Rail Travel': {'Rail Travel': 0.8380218916978961},\n",
       " \"Women's Jewelry and Watches\": {\"Women's Jewelry and Watches\": 0.82754557749346},\n",
       " 'Convertible': {'Convertible': 0.8314639758290934},\n",
       " 'Camping': {'Camping': 0.8330263987086542},\n",
       " 'Telecommunications Industry': {'Telecommunications Industry': 0.8184712020846551},\n",
       " 'Reptiles': {'Reptiles': 0.838806415332359},\n",
       " 'SUV': {'SUV': 0.8405692523044797},\n",
       " \"Men's Clothing\": {\"Men's Clothing\": 0.8218759079426731},\n",
       " 'Card Games': {'Card Games': 0.8244300860660909},\n",
       " 'Hobbies & Interests': {'Leisure': 0.7907287997320973},\n",
       " 'Auto Repair': {'Auto Repair': 0.8263593557765763},\n",
       " 'College Education': {'College Education': 0.8174283291129253},\n",
       " 'Birds': {'Birds': 0.8378750471366399},\n",
       " 'Home & Garden': {'Housewares': 0.8117313722835666},\n",
       " 'Home Appliances': {'Home Appliances': 0.8257890346066293},\n",
       " 'Auto Rentals': {'Auto Rentals': 0.8232269587676023},\n",
       " 'Van': {'Van': 0.8251558911362694},\n",
       " 'Europe Travel': {'Europe Travel': 0.8251581276926444},\n",
       " 'Pop Culture': {'Pop Culture': 0.8191767931124327},\n",
       " 'Hotel Properties': {'Hotel Properties': 0.8159189139105049},\n",
       " 'Flower Shopping': {'Flower Shopping': 0.8230954700065424},\n",
       " 'Sedan': {'Sedan': 0.8145464859575218},\n",
       " 'Laptops': {'Laptops': 0.8434409869021355},\n",
       " 'Africa Travel': {'Africa Travel': 0.826911932293586},\n",
       " \"Women's Shoes and Footwear\": {\"Women's Shoes and Footwear\": 0.8329141879861581},\n",
       " 'Logistics and Transportation Industry': {'Logistics and Transportation Industry': 0.8217813983092801},\n",
       " 'Desserts and Baking': {'Desserts and Baking': 0.819367798541004},\n",
       " 'Music and Audio': {'Music and Audio': 0.8305948468375551},\n",
       " 'Financial Industry': {'Investment': 0.8204054174544142},\n",
       " 'Religious Events': {'Religious Events': 0.825878157965369},\n",
       " 'Theater Venues and Events': {'Theater Venues and Events': 0.8188666335486702},\n",
       " 'Technology Industry': {'Technology Industry': 0.8236436439565131},\n",
       " 'Technology & Computing': {'Computers': 0.8231382064892743},\n",
       " 'Parenting': {'Parenting': 0.7939683291861374},\n",
       " 'Fine Art': {'Fine Art': 0.8133565040198397},\n",
       " 'Events and Attractions': {'Events and Attractions': 0.787404448864288},\n",
       " 'Bars & Restaurants': {'Eateries': 0.8295726603178614},\n",
       " 'Nail Care': {'Nail Care': 0.821080004092443},\n",
       " 'Pets': {'Pets': 0.8081125492947897},\n",
       " 'Aviation Industry': {'Aviation Industry': 0.8421809052547123},\n",
       " 'Cinemas and Events': {'Cinemas and Events': 0.8235254346027042},\n",
       " 'Games and Puzzles': {'Plays': 0.7975795562556957},\n",
       " 'North America Travel': {'North America Travel': 0.8237682989861557},\n",
       " 'Family and Relationships': {'Family and Relationships': 0.7915994799064494},\n",
       " 'Consumer Electronics': {'Consumer Electronics': 0.8188526728483558},\n",
       " \"Men's Casual Wear\": {\"Men's Casual Wear\": 0.8184313191394114},\n",
       " 'Food & Drink': {'Cuisine': 0.8031517195143729},\n",
       " 'Malls & Shopping Centers': {'Shops': 0.8390373752106456},\n",
       " 'Media Industry': {'Media Industry': 0.8194117376271571},\n",
       " 'Green Vehicles': {'Green Vehicles': 0.8229351959715299},\n",
       " 'Apartments': {'Apartments': 0.8313535289497835},\n",
       " 'Large Animals': {'Large Animals': 0.8206675257110156},\n",
       " 'Land and Farms': {'Land and Farms': 0.8183454158315878},\n",
       " 'Pickup Trucks': {'Pickup Trucks': 0.8245187778913589},\n",
       " 'Sports': {'Sports': 0.8383123284906907},\n",
       " 'Shopping': {'Shopping': 0.8062613040031349},\n",
       " 'Remodeling & Construction': {'Renovation & Building': 0.8207790431194316},\n",
       " 'Auto Shows': {'Auto Shows': 0.8287617354208119},\n",
       " 'Automotive Industry': {'Automotive Industry': 0.827529077373799},\n",
       " 'Office Property': {'Office Property': 0.8214512900840621},\n",
       " 'Board Games and Puzzles': {'Board Games and Puzzles': 0.8118921909926299},\n",
       " 'Houses': {'Houses': 0.8386244868252191},\n",
       " 'Real Estate': {'Real Estate': 0.8020477396118313},\n",
       " 'Medical Health': {'Medical Health': 0.8155448310349817},\n",
       " 'Beauty': {'Beauty': 0.8154869532838481},\n",
       " 'Apparel Industry': {'Apparel Industry': 0.8207283629199208},\n",
       " 'Religion & Spirituality': {'Religion & Spirituality': 0.8175431287572255},\n",
       " 'Asia Travel': {'Asia Travel': 0.8203857461450137},\n",
       " 'Food Industry': {'Food Industry': 0.8222183150916504},\n",
       " 'Graduation': {'Graduation': 0.822975681794186},\n",
       " 'Travel Accessories': {'Travel Accessories': 0.8190032019629092},\n",
       " 'Road-Side Assistance': {'Road-Side Assistance': 0.8202622544228473},\n",
       " 'Home Entertaining': {'Home Entertaining': 0.8217447218849029},\n",
       " 'Dining Out': {'Dining Out': 0.8438734070577413},\n",
       " 'Smart Home': {'Smart Home': 0.8167108027089326},\n",
       " 'Healthcare Industry': {'Healthcare Industry': 0.8241630390677319},\n",
       " 'Style & Fashion': {'Fashion': 0.8091976985451943},\n",
       " 'Deodorant and Antiperspirant': {'Deodorant and Antiperspirant': 0.8192021237094076},\n",
       " 'Fashion Events': {'Fashion Events': 0.8252585075795981},\n",
       " 'Gardening': {'Gardening': 0.834814703585468},\n",
       " 'Daycare and Pre-School': {'Daycare and Pre-School': 0.8157357800914611},\n",
       " 'Single Life': {'Single Life': 0.8194725499019035},\n",
       " 'Oral care': {'Oral care': 0.8190342387614673},\n",
       " 'Musical Instruments': {'Musical Instruments': 0.8352432089985907},\n",
       " 'Makeup and Accessories': {'Makeup and Accessories': 0.824820524541063},\n",
       " 'Bath and Shower': {'Bath and Shower': 0.8500504540671514},\n",
       " 'Personal Celebrations & Life Events': {'Festivities': 0.7986407019341764},\n",
       " 'Australia and Oceania Travel': {'Australia and Oceania Travel': 0.8144100571082996},\n",
       " 'Wellness': {'Wellness': 0.8311763953465561},\n",
       " 'Zoos & Aquariums': {'Zoos & Aquariums': 0.8179338488379165},\n",
       " 'Cameras and Camcorders': {'Cameras and Camcorders': 0.8198329575749395},\n",
       " 'Casinos & Gambling': {'Gaming': 0.8197334603084632},\n",
       " 'Television': {'Television': 0.8425625534869144},\n",
       " 'Home Improvement': {'Home Improvement': 0.816167662452261},\n",
       " 'Air Travel': {'Air Travel': 0.8215819061546129},\n",
       " 'Station Wagon': {'Wagon': 0.8363201170929169},\n",
       " 'South America Travel': {'South America Travel': 0.8225222619073872},\n",
       " 'Desktops': {'Desktops': 0.83792802781926},\n",
       " 'Automotive': {'Automotive': 0.8243588337053848},\n",
       " \"Children's Games and Toys\": {\"Children's Games and Toys\": 0.813102905190981},\n",
       " 'Hospitality Industry': {'Hospitality Industry': 0.8225032925565214},\n",
       " 'Movies': {'Movies': 0.8363973086678173},\n",
       " 'Dogs': {'Dogs': 0.8357118965484586},\n",
       " 'Education': {'Education': 0.8295272979441191},\n",
       " 'Cats': {'Cats': 0.8372215760124698},\n",
       " 'Primary Education': {'Primary Education': 0.8223842044479868},\n",
       " 'Books and Literature': {'Books and Literature': 0.8254695049454503},\n",
       " 'Non-Alcoholic Beverages': {'Non-Alcoholic Beverages': 0.8231848804585054}}"
      ]
     },
     "execution_count": 368,
     "metadata": {},
     "output_type": "execute_result"
    }
   ],
   "source": [
    "scores"
   ]
  },
  {
   "cell_type": "code",
   "execution_count": 369,
   "metadata": {},
   "outputs": [],
   "source": [
    "original_name=[]\n",
    "best_name=[]\n",
    "score=[]\n",
    "for k,v in scores.items():\n",
    "    original_name.append(k)\n",
    "    for kk, vv in v.items():\n",
    "        best_name.append(kk)\n",
    "        score.append(vv)"
   ]
  },
  {
   "cell_type": "code",
   "execution_count": 370,
   "metadata": {},
   "outputs": [],
   "source": [
    "new_dic={'Original_name':original_name, \"New_name\":best_name, \"Average Score\":score }"
   ]
  },
  {
   "cell_type": "code",
   "execution_count": 371,
   "metadata": {},
   "outputs": [],
   "source": [
    "df_new_names=pd.DataFrame.from_dict(new_dic)"
   ]
  },
  {
   "cell_type": "code",
   "execution_count": 372,
   "metadata": {},
   "outputs": [],
   "source": [
    "df_new_names.to_csv('results/New_IAB_Labels_only_shorter.csv', index=False)"
   ]
  },
  {
   "cell_type": "code",
   "execution_count": 121,
   "metadata": {},
   "outputs": [],
   "source": [
    "df_tiers=pd.read_csv('data/MAFlabel_to_Adword_mappings_202210_combined_mappings.csv')"
   ]
  },
  {
   "cell_type": "code",
   "execution_count": 122,
   "metadata": {},
   "outputs": [],
   "source": [
    "df_tiers=df_tiers['adword']"
   ]
  },
  {
   "cell_type": "code",
   "execution_count": 123,
   "metadata": {},
   "outputs": [],
   "source": [
    "tier1=[]\n",
    "all_tiers=df_tiers.to_list()\n",
    "for tier in all_tiers:\n",
    "    try:\n",
    "        tier1.append(tier.split('|')[0])\n",
    "    except:\n",
    "        tier1.append(tier)\n",
    "\n",
    "tier1=list(set(tier1))"
   ]
  },
  {
   "cell_type": "code",
   "execution_count": 47,
   "metadata": {},
   "outputs": [
    {
     "data": {
      "text/plain": [
       "26"
      ]
     },
     "execution_count": 47,
     "metadata": {},
     "output_type": "execute_result"
    }
   ],
   "source": [
    "len(tier1)"
   ]
  },
  {
   "cell_type": "code",
   "execution_count": 48,
   "metadata": {},
   "outputs": [],
   "source": [
    "diff_Tier=['Events and Attractions', 'Fashion Events','Malls & Shopping Centers', 'Museums & Galleries','Outdoor Activities','Parks & Nature','Awards Shows','Personal Celebrations & Life Events','Wedding','Birthday','Graduation','Prom','Religious Events','Theater Venues and Events','Zoos & Aquariums','Bars & Restaurants','Casinos & Gambling','Cinemas and Events','Comedy Events','Concerts & Music Events']"
   ]
  },
  {
   "cell_type": "code",
   "execution_count": 49,
   "metadata": {},
   "outputs": [],
   "source": [
    "diff_Tier=['Cats'] #,'Flower Shopping','Grocery Shopping','Holiday Shopping','Household Supplies',\"Children's Games and Toys\"]"
   ]
  },
  {
   "cell_type": "code",
   "execution_count": 50,
   "metadata": {},
   "outputs": [],
   "source": [
    "dic={'embeddings':tsne_embeddings, 'labels':top_n_labels_new, 'item': top_n_nodes}\n",
    "df_labels_embeddings=pd.DataFrame.from_dict(dic)"
   ]
  },
  {
   "cell_type": "code",
   "execution_count": 51,
   "metadata": {},
   "outputs": [
    {
     "data": {
      "text/plain": [
       "<bound method NDFrame.head of                                               embeddings  \\\n",
       "0      [-0.016414720565080643, -0.027218835428357124,...   \n",
       "1      [-0.016414720565080643, -0.027218835428357124,...   \n",
       "2      [-0.016414720565080643, -0.027218835428357124,...   \n",
       "3      [-0.016414720565080643, -0.027218835428357124,...   \n",
       "4      [-0.016414720565080643, -0.027218835428357124,...   \n",
       "...                                                  ...   \n",
       "12301  [-0.023140832781791687, -0.0161676537245512, -...   \n",
       "12302  [-0.023140832781791687, -0.0161676537245512, -...   \n",
       "12303  [-0.023140832781791687, -0.0161676537245512, -...   \n",
       "12304  [-0.011204354465007782, 0.002425432438030839, ...   \n",
       "12305  [-0.011204354465007782, 0.002425432438030839, ...   \n",
       "\n",
       "                         labels          item  \n",
       "0                         Birds         crane  \n",
       "1             Commercial Trucks         crane  \n",
       "2                       Cruises         crane  \n",
       "3                 Pickup Trucks         crane  \n",
       "4                 Large Animals         crane  \n",
       "...                         ...           ...  \n",
       "12301     Tablets and E-readers  electric ray  \n",
       "12302    Technology & Computing  electric ray  \n",
       "12303    Technology & Computing  electric ray  \n",
       "12304                 Parenting    infant cry  \n",
       "12305  Family and Relationships    infant cry  \n",
       "\n",
       "[12306 rows x 3 columns]>"
      ]
     },
     "execution_count": 51,
     "metadata": {},
     "output_type": "execute_result"
    }
   ],
   "source": [
    "df_labels_embeddings.head"
   ]
  },
  {
   "cell_type": "code",
   "execution_count": 52,
   "metadata": {},
   "outputs": [
    {
     "name": "stderr",
     "output_type": "stream",
     "text": [
      "  0%|          | 0/160 [00:00<?, ?it/s]/Users/haskar140/anaconda3/envs/KG/lib/python3.11/site-packages/threadpoolctl.py:1010: RuntimeWarning: \n",
      "Found Intel OpenMP ('libiomp') and LLVM OpenMP ('libomp') loaded at\n",
      "the same time. Both libraries are known to be incompatible and this\n",
      "can cause random crashes or deadlocks on Linux when loaded in the\n",
      "same Python program.\n",
      "Using threadpoolctl may cause crashes or deadlocks. For more\n",
      "information and possible workarounds, please see\n",
      "    https://github.com/joblib/threadpoolctl/blob/master/multiple_openmp.md\n",
      "\n",
      "  warnings.warn(msg, RuntimeWarning)\n",
      "100%|██████████| 160/160 [01:02<00:00,  2.56it/s]\n"
     ]
    }
   ],
   "source": [
    "results={}\n",
    "for label in tqdm(iab_labels):\n",
    "    mask = df_labels_embeddings['labels'].isin([label])\n",
    "    df_tier1 = df_labels_embeddings[mask]\n",
    "    if df_tier1.shape[0]//2<50:\n",
    "        perp=df_tier1.shape[0]//2\n",
    "    else:\n",
    "        perp=50\n",
    "    to_TSNE_list=df_tier1['embeddings'].to_list()\n",
    "    to_TSNE_arr=np.array(to_TSNE_list)\n",
    "    tsne=TSNE(n_components=2, random_state=42, perplexity=perp)\n",
    "    X_embedded = tsne.fit_transform(to_TSNE_arr)\n",
    "    results[label]=tsne.kl_divergence_\n"
   ]
  },
  {
   "cell_type": "code",
   "execution_count": 53,
   "metadata": {},
   "outputs": [],
   "source": [
    "count=0\n",
    "#problematic=[]\n",
    "new_problematic=[]\n",
    "for k,v in results.items():\n",
    "    if k not in problematic and v>1.5:\n",
    "        print(k,v)\n",
    "        new_problematic.append(k)"
   ]
  },
  {
   "cell_type": "code",
   "execution_count": 54,
   "metadata": {},
   "outputs": [],
   "source": [
    "problematic=problematic+new_problematic"
   ]
  },
  {
   "cell_type": "code",
   "execution_count": 55,
   "metadata": {},
   "outputs": [
    {
     "data": {
      "text/plain": [
       "['Shaving',\n",
       " 'Cooking',\n",
       " 'Coupe',\n",
       " 'Dating',\n",
       " 'Wedding',\n",
       " 'Minivan',\n",
       " 'Travel',\n",
       " 'Prom',\n",
       " 'Science',\n",
       " 'Convertible',\n",
       " 'Camping',\n",
       " 'SUV',\n",
       " 'Birds',\n",
       " 'Sports',\n",
       " 'Shopping',\n",
       " 'Beauty',\n",
       " 'Graduation',\n",
       " 'Gardening',\n",
       " 'Bath and Shower',\n",
       " 'Wellness',\n",
       " 'Station Wagon',\n",
       " 'Desktops',\n",
       " 'Movies',\n",
       " 'Education',\n",
       " 'Cats',\n",
       " 'Cruises',\n",
       " 'Landscaping',\n",
       " 'Outdoor Activities',\n",
       " 'Holiday Shopping',\n",
       " 'Smartphones',\n",
       " 'Rail Travel',\n",
       " 'Reptiles',\n",
       " 'Home & Garden',\n",
       " 'Sedan',\n",
       " 'Laptops',\n",
       " 'Parenting',\n",
       " 'Pets',\n",
       " 'Games and Puzzles',\n",
       " 'Apartments',\n",
       " 'Houses',\n",
       " 'Dining Out',\n",
       " 'Television',\n",
       " 'Automotive',\n",
       " 'Dogs']"
      ]
     },
     "execution_count": 55,
     "metadata": {},
     "output_type": "execute_result"
    }
   ],
   "source": [
    "problematic"
   ]
  },
  {
   "cell_type": "code",
   "execution_count": 56,
   "metadata": {},
   "outputs": [],
   "source": [
    "mask = df_labels_embeddings['labels'].isin(tier1)\n",
    "df_tier1 = df_labels_embeddings[mask]"
   ]
  },
  {
   "cell_type": "code",
   "execution_count": 57,
   "metadata": {},
   "outputs": [
    {
     "data": {
      "text/plain": [
       "<bound method NDFrame.head of                                               embeddings  \\\n",
       "6      [-0.016414720565080643, -0.027218835428357124,...   \n",
       "7      [-0.016414720565080643, -0.027218835428357124,...   \n",
       "9      [-0.016414720565080643, -0.027218835428357124,...   \n",
       "10     [-0.016414720565080643, -0.027218835428357124,...   \n",
       "12     [-0.016414720565080643, -0.027218835428357124,...   \n",
       "...                                                  ...   \n",
       "12297  [-0.017885692417621613, -0.019642207771539688,...   \n",
       "12298  [-0.017885692417621613, -0.019642207771539688,...   \n",
       "12302  [-0.023140832781791687, -0.0161676537245512, -...   \n",
       "12303  [-0.023140832781791687, -0.0161676537245512, -...   \n",
       "12305  [-0.011204354465007782, 0.002425432438030839, ...   \n",
       "\n",
       "                         labels           item  \n",
       "6                          Pets          crane  \n",
       "7                    Automotive          crane  \n",
       "9                        Travel          crane  \n",
       "10                   Automotive          crane  \n",
       "12                         Pets          crane  \n",
       "...                         ...            ...  \n",
       "12297                  Shopping  Cutting board  \n",
       "12298           Style & Fashion  Cutting board  \n",
       "12302    Technology & Computing   electric ray  \n",
       "12303    Technology & Computing   electric ray  \n",
       "12305  Family and Relationships     infant cry  \n",
       "\n",
       "[4769 rows x 3 columns]>"
      ]
     },
     "execution_count": 57,
     "metadata": {},
     "output_type": "execute_result"
    }
   ],
   "source": [
    "df_tier1.head"
   ]
  },
  {
   "cell_type": "code",
   "execution_count": 58,
   "metadata": {},
   "outputs": [
    {
     "data": {
      "text/plain": [
       "(4769, 3)"
      ]
     },
     "execution_count": 58,
     "metadata": {},
     "output_type": "execute_result"
    }
   ],
   "source": [
    "df_tier1.shape"
   ]
  },
  {
   "cell_type": "code",
   "execution_count": 59,
   "metadata": {},
   "outputs": [],
   "source": [
    "to_TSNE_list=df_tier1['embeddings'].to_list()"
   ]
  },
  {
   "cell_type": "code",
   "execution_count": 60,
   "metadata": {},
   "outputs": [],
   "source": [
    "to_TSNE_arr=np.array(to_TSNE_list)"
   ]
  },
  {
   "cell_type": "code",
   "execution_count": 61,
   "metadata": {},
   "outputs": [],
   "source": [
    "if df_tier1.shape[0]//2<50:\n",
    "    perp=df_tier1.shape[0]//2\n",
    "else:\n",
    "    perp=50"
   ]
  },
  {
   "cell_type": "code",
   "execution_count": 62,
   "metadata": {},
   "outputs": [
    {
     "name": "stdout",
     "output_type": "stream",
     "text": [
      "[t-SNE] Computing 151 nearest neighbors...\n",
      "[t-SNE] Indexed 4769 samples in 0.006s...\n",
      "[t-SNE] Computed neighbors for 4769 samples in 1.015s...\n",
      "[t-SNE] Computed conditional probabilities for sample 1000 / 4769\n",
      "[t-SNE] Computed conditional probabilities for sample 2000 / 4769\n",
      "[t-SNE] Computed conditional probabilities for sample 3000 / 4769\n",
      "[t-SNE] Computed conditional probabilities for sample 4000 / 4769\n",
      "[t-SNE] Computed conditional probabilities for sample 4769 / 4769\n",
      "[t-SNE] Mean sigma: 0.257659\n",
      "[t-SNE] KL divergence after 250 iterations with early exaggeration: 81.963226\n",
      "[t-SNE] KL divergence after 1000 iterations: 0.936082\n"
     ]
    },
    {
     "data": {
      "text/plain": [
       "0.9360816478729248"
      ]
     },
     "execution_count": 62,
     "metadata": {},
     "output_type": "execute_result"
    }
   ],
   "source": [
    "tsne=TSNE(n_components=2, verbose=1, random_state=42, perplexity= perp) #df_tier1.shape[0]//2)\n",
    "X_embedded = tsne.fit_transform(to_TSNE_arr)\n",
    "tsne.kl_divergence_"
   ]
  },
  {
   "cell_type": "code",
   "execution_count": 63,
   "metadata": {},
   "outputs": [],
   "source": [
    "df_embeddings = pd.DataFrame(X_embedded)\n",
    "df_embeddings = df_embeddings.rename(columns={0:'x',1:'y'})\n",
    "df_embeddings = df_embeddings.assign(label=df_tier1.labels.values)\n",
    "df_embeddings = df_embeddings.assign(items=df_tier1.item.values)"
   ]
  },
  {
   "cell_type": "code",
   "execution_count": 64,
   "metadata": {},
   "outputs": [
    {
     "data": {
      "text/html": [
       "<div>\n",
       "<style scoped>\n",
       "    .dataframe tbody tr th:only-of-type {\n",
       "        vertical-align: middle;\n",
       "    }\n",
       "\n",
       "    .dataframe tbody tr th {\n",
       "        vertical-align: top;\n",
       "    }\n",
       "\n",
       "    .dataframe thead th {\n",
       "        text-align: right;\n",
       "    }\n",
       "</style>\n",
       "<table border=\"1\" class=\"dataframe\">\n",
       "  <thead>\n",
       "    <tr style=\"text-align: right;\">\n",
       "      <th></th>\n",
       "      <th>x</th>\n",
       "      <th>y</th>\n",
       "      <th>label</th>\n",
       "      <th>items</th>\n",
       "    </tr>\n",
       "  </thead>\n",
       "  <tbody>\n",
       "    <tr>\n",
       "      <th>0</th>\n",
       "      <td>-47.119091</td>\n",
       "      <td>-10.815174</td>\n",
       "      <td>Pets</td>\n",
       "      <td>crane</td>\n",
       "    </tr>\n",
       "    <tr>\n",
       "      <th>1</th>\n",
       "      <td>-47.635616</td>\n",
       "      <td>-10.732237</td>\n",
       "      <td>Automotive</td>\n",
       "      <td>crane</td>\n",
       "    </tr>\n",
       "    <tr>\n",
       "      <th>2</th>\n",
       "      <td>-47.939156</td>\n",
       "      <td>-10.208823</td>\n",
       "      <td>Travel</td>\n",
       "      <td>crane</td>\n",
       "    </tr>\n",
       "    <tr>\n",
       "      <th>3</th>\n",
       "      <td>-47.484772</td>\n",
       "      <td>-9.886748</td>\n",
       "      <td>Automotive</td>\n",
       "      <td>crane</td>\n",
       "    </tr>\n",
       "    <tr>\n",
       "      <th>4</th>\n",
       "      <td>-46.994915</td>\n",
       "      <td>-10.210792</td>\n",
       "      <td>Pets</td>\n",
       "      <td>crane</td>\n",
       "    </tr>\n",
       "  </tbody>\n",
       "</table>\n",
       "</div>"
      ],
      "text/plain": [
       "           x          y       label  items\n",
       "0 -47.119091 -10.815174        Pets  crane\n",
       "1 -47.635616 -10.732237  Automotive  crane\n",
       "2 -47.939156 -10.208823      Travel  crane\n",
       "3 -47.484772  -9.886748  Automotive  crane\n",
       "4 -46.994915 -10.210792        Pets  crane"
      ]
     },
     "execution_count": 64,
     "metadata": {},
     "output_type": "execute_result"
    }
   ],
   "source": [
    "df_embeddings.head()"
   ]
  },
  {
   "cell_type": "code",
   "execution_count": 65,
   "metadata": {},
   "outputs": [
    {
     "data": {
      "application/vnd.plotly.v1+json": {
       "config": {
        "plotlyServerURL": "https://plot.ly"
       },
       "data": [
        {
         "customdata": [
          [
           "crane"
          ],
          [
           "crane"
          ],
          [
           "Car"
          ],
          [
           "Animal"
          ],
          [
           "Pen"
          ],
          [
           "Bird"
          ],
          [
           "Bird flight, flapping wings"
          ],
          [
           "Bird flight, flapping wings"
          ],
          [
           "Bird flight, flapping wings"
          ],
          [
           "Bird vocalization, bird call, bird song"
          ],
          [
           "Human body"
          ],
          [
           "Human body"
          ],
          [
           "Horse"
          ],
          [
           "Horse"
          ],
          [
           "Horse"
          ],
          [
           "Horse"
          ],
          [
           "Balloon"
          ],
          [
           "Human hair"
          ],
          [
           "Canidae, dogs, wolves"
          ],
          [
           "Canidae, dogs, wolves"
          ],
          [
           "Canidae, dogs, wolves"
          ],
          [
           "Canidae, dogs, wolves"
          ],
          [
           "Frisbee"
          ],
          [
           "Butterfly"
          ],
          [
           "Butterfly"
          ],
          [
           "park"
          ],
          [
           "Bench"
          ],
          [
           "lion"
          ],
          [
           "sea slug"
          ],
          [
           "king penguin"
          ],
          [
           "sturgeon"
          ],
          [
           "Snake"
          ],
          [
           "Starfish"
          ],
          [
           "Starfish"
          ],
          [
           "Panda"
          ],
          [
           "Panda"
          ],
          [
           "Panda"
          ],
          [
           "Panda"
          ],
          [
           "Penguin"
          ],
          [
           "Penguin"
          ],
          [
           "Penguin"
          ],
          [
           "Penguin"
          ],
          [
           "Monkey"
          ],
          [
           "Fish"
          ],
          [
           "Zebra"
          ],
          [
           "Zebra"
          ],
          [
           "Zebra"
          ],
          [
           "Zebra"
          ],
          [
           "tiger"
          ],
          [
           "tiger"
          ],
          [
           "tiger"
          ],
          [
           "Bear"
          ],
          [
           "Tiger"
          ],
          [
           "Tiger"
          ],
          [
           "Tiger"
          ],
          [
           "Tiger"
          ],
          [
           "koala"
          ],
          [
           "Lion"
          ],
          [
           "Lion"
          ],
          [
           "Lion"
          ],
          [
           "Lion"
          ],
          [
           "sea lion"
          ],
          [
           "sea lion"
          ],
          [
           "hippopotamus"
          ],
          [
           "Giraffe"
          ],
          [
           "Giraffe"
          ],
          [
           "Giraffe"
          ],
          [
           "Giraffe"
          ],
          [
           "Giraffe"
          ],
          [
           "giant panda"
          ],
          [
           "Elephant"
          ],
          [
           "Elephant"
          ],
          [
           "Elephant"
          ],
          [
           "Elephant"
          ],
          [
           "Bottle"
          ],
          [
           "Beer"
          ],
          [
           "Hot dog"
          ],
          [
           "hotdog"
          ],
          [
           "Juice"
          ],
          [
           "Tea"
          ],
          [
           "Human leg"
          ],
          [
           "maraca"
          ],
          [
           "pot"
          ],
          [
           "Flower"
          ],
          [
           "acorn"
          ],
          [
           "tree_farm"
          ],
          [
           "barrow"
          ],
          [
           "House"
          ],
          [
           "house"
          ],
          [
           "Cat"
          ],
          [
           "Cattle, bovinae"
          ],
          [
           "Chicken, rooster"
          ],
          [
           "Chicken, rooster"
          ],
          [
           "Chicken, rooster"
          ],
          [
           "Chicken, rooster"
          ],
          [
           "Chicken, rooster"
          ],
          [
           "bluetick"
          ],
          [
           "French bulldog"
          ],
          [
           "Polar bear"
          ],
          [
           "Polar bear"
          ],
          [
           "Polar bear"
          ],
          [
           "English setter"
          ],
          [
           "Tibetan terrier"
          ],
          [
           "Saint Bernard"
          ],
          [
           "Saint Bernard"
          ],
          [
           "schipperke"
          ],
          [
           "Samoyed"
          ],
          [
           "Angora"
          ],
          [
           "Angora"
          ],
          [
           "Angora"
          ],
          [
           "Rabbit"
          ],
          [
           "whippet"
          ],
          [
           "Cow"
          ],
          [
           "American Staffordshire terrier"
          ],
          [
           "pug"
          ],
          [
           "pug"
          ],
          [
           "Owl"
          ],
          [
           "Owl"
          ],
          [
           "Owl"
          ],
          [
           "Owl"
          ],
          [
           "Owl"
          ],
          [
           "Maltese dog"
          ],
          [
           "Maltese dog"
          ],
          [
           "West Highland white terrier"
          ],
          [
           "beagle"
          ],
          [
           "beagle"
          ],
          [
           "beagle"
          ],
          [
           "toy terrier"
          ],
          [
           "toy poodle"
          ],
          [
           "Chihuahua"
          ],
          [
           "Chihuahua"
          ],
          [
           "Dandie Dinmont"
          ],
          [
           "Sealyham terrier"
          ],
          [
           "dalmatian"
          ],
          [
           "veterinarians_office"
          ],
          [
           "Dog"
          ],
          [
           "partridge"
          ],
          [
           "partridge"
          ],
          [
           "prairie chicken"
          ],
          [
           "prairie chicken"
          ],
          [
           "drake"
          ],
          [
           "Falcon"
          ],
          [
           "toucan"
          ],
          [
           "Sparrow"
          ],
          [
           "Sparrow"
          ],
          [
           "Sparrow"
          ],
          [
           "Parrot"
          ],
          [
           "Parrot"
          ],
          [
           "Parrot"
          ],
          [
           "Parrot"
          ],
          [
           "pelican"
          ],
          [
           "pelican"
          ],
          [
           "pelican"
          ],
          [
           "macaw"
          ],
          [
           "macaw"
          ],
          [
           "peacock"
          ],
          [
           "peacock"
          ],
          [
           "Siamese cat"
          ],
          [
           "tabby"
          ],
          [
           "Egyptian cat"
          ],
          [
           "Persian cat"
          ],
          [
           "kelpie"
          ],
          [
           "standard poodle"
          ],
          [
           "Border collie"
          ],
          [
           "Border collie"
          ],
          [
           "Kerry blue terrier"
          ],
          [
           "Dog bed"
          ],
          [
           "flat-coated retriever"
          ],
          [
           "Yorkshire terrier"
          ],
          [
           "Norwegian elkhound"
          ],
          [
           "Pomeranian"
          ],
          [
           "Great Dane"
          ],
          [
           "Great Dane"
          ],
          [
           "Weimaraner"
          ],
          [
           "Labrador retriever"
          ],
          [
           "Eskimo dog"
          ],
          [
           "Eskimo dog"
          ],
          [
           "Pig"
          ],
          [
           "Pig"
          ],
          [
           "Pig"
          ],
          [
           "Pig"
          ],
          [
           "Ostrich"
          ],
          [
           "Ostrich"
          ],
          [
           "Ostrich"
          ],
          [
           "Ostrich"
          ],
          [
           "Ostrich"
          ],
          [
           "Bouvier des Flandres"
          ],
          [
           "Goat"
          ],
          [
           "Goat"
          ],
          [
           "Goat"
          ],
          [
           "Goat"
          ],
          [
           "ostrich"
          ],
          [
           "ostrich"
          ],
          [
           "ostrich"
          ],
          [
           "Rhinoceros"
          ],
          [
           "Rhinoceros"
          ],
          [
           "llama"
          ],
          [
           "llama"
          ],
          [
           "llama"
          ],
          [
           "Cattle"
          ],
          [
           "Cattle"
          ],
          [
           "Sheep"
          ],
          [
           "Sheep"
          ],
          [
           "Sheep"
          ],
          [
           "Sheep"
          ],
          [
           "Sheep"
          ],
          [
           "snow leopard"
          ],
          [
           "snow leopard"
          ],
          [
           "tiger cat"
          ],
          [
           "common newt"
          ],
          [
           "hognose snake"
          ],
          [
           "green snake"
          ],
          [
           "green snake"
          ],
          [
           "sea snake"
          ],
          [
           "Tortoise"
          ],
          [
           "Tortoise"
          ],
          [
           "Tortoise"
          ],
          [
           "Tortoise"
          ],
          [
           "Tortoise"
          ],
          [
           "African crocodile"
          ],
          [
           "African crocodile"
          ],
          [
           "Crocodile"
          ],
          [
           "Crocodile"
          ],
          [
           "Crocodile"
          ],
          [
           "Crocodile"
          ],
          [
           "Crocodile"
          ],
          [
           "Reptile"
          ],
          [
           "Reptile"
          ],
          [
           "Reptile"
          ],
          [
           "Reptile"
          ],
          [
           "African chameleon"
          ],
          [
           "whiptail"
          ],
          [
           "Gila monster"
          ],
          [
           "Gila monster"
          ],
          [
           "American chameleon"
          ],
          [
           "common iguana"
          ],
          [
           "green lizard"
          ],
          [
           "green lizard"
          ],
          [
           "banded gecko"
          ],
          [
           "frilled lizard"
          ],
          [
           "Lizard"
          ],
          [
           "Lizard"
          ],
          [
           "Lizard"
          ],
          [
           "Lizard"
          ],
          [
           "Lizard"
          ],
          [
           "Bed"
          ],
          [
           "barn"
          ],
          [
           "farm"
          ],
          [
           "pasture"
          ],
          [
           "worm fence"
          ],
          [
           "Marine invertebrates"
          ],
          [
           "Marine invertebrates"
          ],
          [
           "Kite"
          ],
          [
           "Toy"
          ],
          [
           "Sunflower"
          ],
          [
           "Lily"
          ],
          [
           "Lily"
          ],
          [
           "Lily"
          ],
          [
           "Scissors"
          ],
          [
           "Children shouting"
          ],
          [
           "Bathtub"
          ],
          [
           "wig"
          ],
          [
           "African elephant"
          ],
          [
           "African grey"
          ],
          [
           "African grey"
          ],
          [
           "European gallinule"
          ],
          [
           "dogsled"
          ],
          [
           "dogsled"
          ],
          [
           "Alpaca"
          ],
          [
           "Human hand"
          ],
          [
           "Human hand"
          ],
          [
           "'People'"
          ],
          [
           "Banana"
          ],
          [
           "Banana"
          ],
          [
           "riding or walking with horse"
          ],
          [
           "Domestic animals, pets"
          ],
          [
           "pet_shop"
          ],
          [
           "Drum"
          ],
          [
           "Duck"
          ],
          [
           "Duck"
          ],
          [
           "Duck"
          ],
          [
           "Duck"
          ],
          [
           "Fixed-wing aircraft, airplane"
          ],
          [
           "Flute"
          ],
          [
           "Fowl"
          ],
          [
           "Fowl"
          ],
          [
           "Fowl"
          ],
          [
           "Fowl"
          ],
          [
           "Livestock, farm animals, working animals"
          ],
          [
           "Livestock, farm animals, working animals"
          ],
          [
           "Pigeon, dove"
          ],
          [
           "Pigeon, dove"
          ],
          [
           "Pigeon, dove"
          ],
          [
           "Roaring cats (lions, tigers)"
          ],
          [
           "Roaring cats (lions, tigers)"
          ],
          [
           "Roaring cats (lions, tigers)"
          ],
          [
           "Roaring cats (lions, tigers)"
          ],
          [
           "Ship"
          ],
          [
           "Turkey"
          ],
          [
           "riding elephant"
          ],
          [
           "grooming dog"
          ],
          [
           "walking the dog"
          ],
          [
           "sled dog racing"
          ],
          [
           "moving furniture"
          ],
          [
           "training dog"
          ],
          [
           "training dog"
          ],
          [
           "feeding birds"
          ],
          [
           "feeding birds"
          ],
          [
           "feeding birds"
          ],
          [
           "feeding birds"
          ],
          [
           "feeding goats"
          ],
          [
           "petting cat"
          ],
          [
           "Person"
          ],
          [
           "Pizza"
          ],
          [
           "'Pets'"
          ],
          [
           "Sea turtle"
          ],
          [
           "Sea turtle"
          ],
          [
           "Sea turtle"
          ],
          [
           "Cheese"
          ],
          [
           "Cheese"
          ],
          [
           "Cheese"
          ],
          [
           "Human foot"
          ],
          [
           "Human foot"
          ],
          [
           "Egg"
          ],
          [
           "Golf ball"
          ],
          [
           "Milk"
          ],
          [
           "Milk"
          ],
          [
           "Milk"
          ],
          [
           "Potato"
          ],
          [
           "Chicken"
          ],
          [
           "Deer"
          ],
          [
           "Deer"
          ],
          [
           "Deer"
          ],
          [
           "Deer"
          ],
          [
           "Deer"
          ],
          [
           "Sea lion"
          ],
          [
           "Sea lion"
          ],
          [
           "Sea lion"
          ],
          [
           "Sea lion"
          ],
          [
           "Cat furniture"
          ],
          [
           "'cock'"
          ],
          [
           "'house finch'"
          ],
          [
           "'linnet'"
          ],
          [
           "'Carpodacus mexicanus'"
          ],
          [
           "'common iguana'"
          ],
          [
           "'iguana'"
          ],
          [
           "'Iguana iguana'"
          ],
          [
           "'Iguana iguana'"
          ],
          [
           "'American chameleon'"
          ],
          [
           "'anole'"
          ],
          [
           "'Anolis carolinensis'"
          ],
          [
           "'frilled lizard'"
          ],
          [
           "'Chlamydosaurus kingi'"
          ],
          [
           "'African chameleon'"
          ],
          [
           "'Chamaeleo chamaeleon'"
          ],
          [
           "'quail'"
          ],
          [
           "'African grey'"
          ],
          [
           "'African gray'"
          ],
          [
           "'Psittacus erithacus'"
          ],
          [
           "'Psittacus erithacus'"
          ],
          [
           "'sulphur-crested cockatoo'"
          ],
          [
           "'goose'"
          ],
          [
           "'Japanese spaniel'"
          ],
          [
           "'Maltese dog'"
          ],
          [
           "'Maltese terrier'"
          ],
          [
           "'Maltese'"
          ],
          [
           "'Pekinese'"
          ],
          [
           "'Pekingese'"
          ],
          [
           "'Shih-Tzu'"
          ],
          [
           "'Blenheim spaniel'"
          ],
          [
           "'papillon'"
          ],
          [
           "'Rhodesian ridgeback'"
          ],
          [
           "'Afghan hound'"
          ],
          [
           "'basset'"
          ],
          [
           "'basset hound'"
          ],
          [
           "'bloodhound'"
          ],
          [
           "'sleuthhound'"
          ],
          [
           "'bluetick'"
          ],
          [
           "'black-and-tan coonhound'"
          ],
          [
           "'Walker hound'"
          ],
          [
           "'Walker foxhound'"
          ],
          [
           "'English foxhound'"
          ],
          [
           "'redbone'"
          ],
          [
           "'borzoi'"
          ],
          [
           "'Russian wolfhound'"
          ],
          [
           "'Irish wolfhound'"
          ],
          [
           "'Italian greyhound'"
          ],
          [
           "'whippet'"
          ],
          [
           "'otterhound'"
          ],
          [
           "'otter hound'"
          ],
          [
           "'gazelle hound'"
          ],
          [
           "'Scottish deerhound'"
          ],
          [
           "'deerhound'"
          ],
          [
           "'Weimaraner'"
          ],
          [
           "'Weimaraner'"
          ],
          [
           "'Staffordshire bullterrier'"
          ],
          [
           "'Staffordshire bull terrier'"
          ],
          [
           "'American Staffordshire terrier'"
          ],
          [
           "'Staffordshire terrier'"
          ],
          [
           "'American pit bull terrier'"
          ],
          [
           "'pit bull terrier'"
          ],
          [
           "'Bedlington terrier'"
          ],
          [
           "'Border terrier'"
          ],
          [
           "'Kerry blue terrier'"
          ],
          [
           "'Irish terrier'"
          ],
          [
           "'Norfolk terrier'"
          ],
          [
           "'Norwich terrier'"
          ],
          [
           "'Yorkshire terrier'"
          ],
          [
           "'wire-haired fox terrier'"
          ],
          [
           "'Lakeland terrier'"
          ],
          [
           "'Sealyham terrier'"
          ],
          [
           "'Sealyham'"
          ],
          [
           "'Airedale'"
          ],
          [
           "'Airedale'"
          ],
          [
           "'Airedale terrier'"
          ],
          [
           "'cairn terrier'"
          ],
          [
           "'Australian terrier'"
          ],
          [
           "'Dandie Dinmont'"
          ],
          [
           "'Dandie Dinmont terrier'"
          ],
          [
           "'Boston bull'"
          ],
          [
           "'Boston terrier'"
          ],
          [
           "'miniature schnauzer'"
          ],
          [
           "'giant schnauzer'"
          ],
          [
           "'giant schnauzer'"
          ],
          [
           "'standard schnauzer'"
          ],
          [
           "'Scotch terrier'"
          ],
          [
           "'Scottish terrier'"
          ],
          [
           "'Tibetan terrier'"
          ],
          [
           "'chrysanthemum dog'"
          ],
          [
           "'silky terrier'"
          ],
          [
           "'soft-coated wheaten terrier'"
          ],
          [
           "'West Highland white terrier'"
          ],
          [
           "'Lhasa'"
          ],
          [
           "'Lhasa apso'"
          ],
          [
           "'flat-coated retriever'"
          ],
          [
           "'curly-coated retriever'"
          ],
          [
           "'golden retriever'"
          ],
          [
           "'Labrador retriever'"
          ],
          [
           "'Chesapeake Bay retriever'"
          ],
          [
           "'German short-haired pointer'"
          ],
          [
           "'vizsla'"
          ],
          [
           "'Hungarian pointer'"
          ],
          [
           "'English setter'"
          ],
          [
           "'Irish setter'"
          ],
          [
           "'Gordon setter'"
          ],
          [
           "'Brittany spaniel'"
          ],
          [
           "'clumber spaniel'"
          ],
          [
           "'English springer'"
          ],
          [
           "'English springer spaniel'"
          ],
          [
           "'Welsh springer spaniel'"
          ],
          [
           "'cocker spaniel'"
          ],
          [
           "'English cocker spaniel'"
          ],
          [
           "'Sussex spaniel'"
          ],
          [
           "'Irish water spaniel'"
          ],
          [
           "'schipperke'"
          ],
          [
           "'briard'"
          ],
          [
           "'Old English sheepdog'"
          ],
          [
           "'bobtail'"
          ],
          [
           "'Shetland sheepdog'"
          ],
          [
           "'Shetland sheep dog'"
          ],
          [
           "'collie'"
          ],
          [
           "'Border collie'"
          ],
          [
           "'Rottweiler'"
          ],
          [
           "'Rottweiler'"
          ],
          [
           "'German shepherd'"
          ],
          [
           "'German shepherd dog'"
          ],
          [
           "'German police dog'"
          ],
          [
           "'Doberman'"
          ],
          [
           "'Doberman pinscher'"
          ],
          [
           "'miniature pinscher'"
          ],
          [
           "'Greater Swiss Mountain dog'"
          ],
          [
           "'Greater Swiss Mountain dog'"
          ],
          [
           "'Bernese mountain dog'"
          ],
          [
           "'bull mastiff'"
          ],
          [
           "'bull mastiff'"
          ],
          [
           "'Tibetan mastiff'"
          ],
          [
           "'French bulldog'"
          ],
          [
           "'Great Dane'"
          ],
          [
           "'Great Dane'"
          ],
          [
           "'Eskimo dog'"
          ],
          [
           "'husky'"
          ],
          [
           "'husky'"
          ],
          [
           "'malamute'"
          ],
          [
           "'Alaskan malamute'"
          ],
          [
           "'Siberian husky'"
          ],
          [
           "'dalmatian'"
          ],
          [
           "'coach dog'"
          ],
          [
           "'carriage dog'"
          ],
          [
           "'affenpinscher'"
          ],
          [
           "'monkey pinscher'"
          ],
          [
           "'monkey dog'"
          ],
          [
           "'basenji'"
          ],
          [
           "'pug'"
          ],
          [
           "'pug-dog'"
          ],
          [
           "'Newfoundland'"
          ],
          [
           "'Newfoundland dog'"
          ],
          [
           "'Great Pyrenees'"
          ],
          [
           "'Great Pyrenees'"
          ],
          [
           "'Samoyed'"
          ],
          [
           "'Pomeranian'"
          ],
          [
           "'chow chow'"
          ],
          [
           "'keeshond'"
          ],
          [
           "'Pembroke Welsh corgi'"
          ],
          [
           "'miniature poodle'"
          ],
          [
           "'standard poodle'"
          ],
          [
           "'tabby cat'"
          ],
          [
           "'tiger cat'"
          ],
          [
           "'Persian cat'"
          ],
          [
           "'Siamese cat'"
          ],
          [
           "'Egyptian cat'"
          ],
          [
           "'tiger'"
          ],
          [
           "'Panthera tigris'"
          ],
          [
           "'Panthera tigris'"
          ],
          [
           "'Panthera tigris'"
          ],
          [
           "'Panthera tigris'"
          ],
          [
           "'Thalarctos maritimus'"
          ],
          [
           "'birdhouse'"
          ],
          [
           "'bullet'"
          ],
          [
           "'cell'"
          ],
          [
           "'bell'"
          ],
          [
           "'horn'"
          ],
          [
           "'mortar'"
          ],
          [
           "'puck'"
          ],
          [
           "'shades'"
          ],
          [
           "'thatch'"
          ],
          [
           "'thatched roof'"
          ],
          [
           "'hotdog'"
          ],
          [
           "'hot dog'"
          ],
          [
           "'Cypripedium calceolus'"
          ],
          [
           "'corn'"
          ],
          [
           "'mouse'"
          ],
          [
           "'mouse'"
          ],
          [
           "Whimper (dog)"
          ],
          [
           "Wild animals"
          ],
          [
           "Marine mammal"
          ],
          [
           "Marine mammal"
          ],
          [
           "Marine mammal"
          ],
          [
           "Marine mammal"
          ],
          [
           "Marine mammal"
          ],
          [
           "'apiary'"
          ],
          [
           "'white fox'"
          ],
          [
           "'Alopex lagopus'"
          ],
          [
           "'bittern'"
          ],
          [
           "'black grouse'"
          ],
          [
           "'black stork'"
          ],
          [
           "'Ciconia nigra'"
          ],
          [
           "'cheetah'"
          ],
          [
           "'Acinonyx jubatus'"
          ],
          [
           "'Acinonyx jubatus'"
          ],
          [
           "'catamount'"
          ],
          [
           "'mountain lion'"
          ],
          [
           "'panther'"
          ],
          [
           "'panther'"
          ],
          [
           "'Felis concolor'"
          ],
          [
           "'crane (bird)'"
          ],
          [
           "'dogsled'"
          ],
          [
           "'dogsled'"
          ],
          [
           "'dog sled'"
          ],
          [
           "'dog sleigh'"
          ],
          [
           "'dog sleigh'"
          ],
          [
           "'fig'"
          ],
          [
           "'giant panda'"
          ],
          [
           "'panda'"
          ],
          [
           "'panda bear'"
          ],
          [
           "'coon bear'"
          ],
          [
           "'Ailuropoda melanoleuca'"
          ],
          [
           "'Polyporus frondosus'"
          ],
          [
           "'horse cart'"
          ]
         ],
         "hovertemplate": "label=Pets<br>x=%{x}<br>y=%{y}<br>items=%{customdata[0]}<extra></extra>",
         "legendgroup": "Pets",
         "marker": {
          "color": "#636efa",
          "symbol": "circle"
         },
         "mode": "markers",
         "name": "Pets",
         "showlegend": true,
         "type": "scattergl",
         "x": [
          -47.11909103393555,
          -46.99491500854492,
          -1.4993261098861694,
          -86.8013916015625,
          -7.831051349639893,
          -80.10760498046875,
          -75.77857208251953,
          -76.59632110595703,
          -76.08152770996094,
          -77.2083969116211,
          -101.08210754394531,
          -101.08210754394531,
          -90.76805114746094,
          -90.92835998535156,
          -90.0094223022461,
          -90.0094223022461,
          -48.819950103759766,
          4.7497878074646,
          -67.5052261352539,
          -67.65821075439453,
          -67.65821075439453,
          -67.65821075439453,
          -55.37016296386719,
          -67.48466491699219,
          -67.48466491699219,
          49.83245086669922,
          13.199419975280762,
          -80.80146789550781,
          -63.354366302490234,
          -73.91973114013672,
          -59.65151596069336,
          -66.5323257446289,
          -63.72935104370117,
          -63.72935104370117,
          -75.37722778320312,
          -75.37722778320312,
          -75.3147201538086,
          -74.80768585205078,
          -75.49264526367188,
          -75.84098052978516,
          -75.23235321044922,
          -75.02940368652344,
          -86.10103607177734,
          -80.11495971679688,
          -78.44559478759766,
          -78.44559478759766,
          -78.44559478759766,
          -78.44559478759766,
          -74.41712951660156,
          -74.41712951660156,
          -74.75186157226562,
          -85.4842529296875,
          -75.95339965820312,
          -75.95339965820312,
          -75.16223907470703,
          -75.95339965820312,
          -74.06524658203125,
          -79.2489242553711,
          -79.2489242553711,
          -78.964111328125,
          -79.5527572631836,
          -64.14292907714844,
          -64.14292907714844,
          -96.7770767211914,
          -79.02916717529297,
          -78.4674072265625,
          -78.36747741699219,
          -78.04244232177734,
          -78.9407958984375,
          -73.94441986083984,
          -82.37657928466797,
          -81.83930206298828,
          -82.67339324951172,
          -82.67339324951172,
          -14.649083137512207,
          -10.177302360534668,
          -42.80900955200195,
          -42.060707092285156,
          -23.268779754638672,
          -17.59758758544922,
          -98.77401733398438,
          -71.09640502929688,
          -4.952879428863525,
          -66.71546173095703,
          -46.94442367553711,
          48.229923248291016,
          5.4393391609191895,
          42.739173889160156,
          44.177730560302734,
          -88.08171081542969,
          -92.67314147949219,
          -86.54270935058594,
          -86.54270935058594,
          -86.54270935058594,
          -86.82020568847656,
          -86.82020568847656,
          -30.398103713989258,
          -52.8104362487793,
          -58.484188079833984,
          -58.484188079833984,
          -58.484188079833984,
          -34.83613967895508,
          -46.60262680053711,
          -51.70189666748047,
          -51.70189666748047,
          -57.53403854370117,
          -50.359500885009766,
          -66.94316101074219,
          -67.04612731933594,
          -67.54741668701172,
          -85.91244506835938,
          -60.93486022949219,
          -86.71647644042969,
          -40.35254669189453,
          -58.27293014526367,
          -58.27302932739258,
          -80.48440551757812,
          -80.48440551757812,
          -79.7740707397461,
          -80.68925476074219,
          -80.04541778564453,
          -50.679443359375,
          -50.67953872680664,
          -43.0926628112793,
          -60.544124603271484,
          -60.544124603271484,
          -60.544124603271484,
          -43.920101165771484,
          -57.097049713134766,
          -62.225589752197266,
          -62.225704193115234,
          -45.5413703918457,
          -40.713497161865234,
          -51.83479309082031,
          -94.1394271850586,
          -90.10408782958984,
          -75.15084838867188,
          -75.15084838867188,
          -79.91997528076172,
          -79.91997528076172,
          -84.14034271240234,
          -79.61831665039062,
          -70.46830749511719,
          -78.10514068603516,
          -77.90116119384766,
          -77.90116119384766,
          -75.62177276611328,
          -75.41793823242188,
          -76.05302429199219,
          -75.62177276611328,
          -73.5802230834961,
          -73.5802230834961,
          -73.57193756103516,
          -72.87996673583984,
          -72.87996673583984,
          -76.47968292236328,
          -76.47968292236328,
          -71.75852966308594,
          -74.76426696777344,
          -73.40677642822266,
          -74.31859588623047,
          -60.635982513427734,
          -55.93621826171875,
          -43.00897979736328,
          -43.00772476196289,
          -45.5993537902832,
          -74.52830505371094,
          -48.942527770996094,
          -43.28639602661133,
          -46.97189712524414,
          -55.44587707519531,
          -55.1385383605957,
          -55.1385383605957,
          -49.92279052734375,
          -48.34238052368164,
          -47.153236389160156,
          -47.15340042114258,
          -88.3513412475586,
          -88.3513412475586,
          -88.3513412475586,
          -88.3513412475586,
          -79.99923706054688,
          -79.6895523071289,
          -79.6895523071289,
          -79.99923706054688,
          -79.99923706054688,
          -53.06956100463867,
          -85.12089538574219,
          -84.7769775390625,
          -85.30941772460938,
          -84.34742736816406,
          -78.53036499023438,
          -78.53036499023438,
          -78.53036499023438,
          -75.9303207397461,
          -75.9303207397461,
          -82.6673355102539,
          -82.66950988769531,
          -82.6886215209961,
          -91.96409606933594,
          -91.51029968261719,
          -86.8521957397461,
          -87.40971374511719,
          -86.80690002441406,
          -86.46235656738281,
          -87.37107849121094,
          -71.7955551147461,
          -71.7955551147461,
          -74.52864074707031,
          -64.81167602539062,
          -64.2989730834961,
          -65.32496643066406,
          -65.32496643066406,
          -64.56117248535156,
          -72.65653991699219,
          -73.03418731689453,
          -72.64027404785156,
          -72.11930847167969,
          -72.11930847167969,
          -67.72157287597656,
          -67.72157287597656,
          -73.06134796142578,
          -73.06134796142578,
          -73.06134796142578,
          -73.4788589477539,
          -73.4788589477539,
          -70.00347900390625,
          -70.00347900390625,
          -70.00347900390625,
          -70.00347900390625,
          -64.9913101196289,
          -62.36003875732422,
          -70.01947021484375,
          -70.02008056640625,
          -64.33364868164062,
          -62.30723571777344,
          -66.89432525634766,
          -66.89432525634766,
          -67.26237487792969,
          -65.6393814086914,
          -69.82093811035156,
          -69.36336517333984,
          -69.36336517333984,
          -69.36336517333984,
          -68.93484497070312,
          -0.08942645788192749,
          44.447330474853516,
          43.343719482421875,
          49.73197937011719,
          -22.54579734802246,
          -63.60198974609375,
          -63.60198974609375,
          -59.437522888183594,
          -3.0327816009521484,
          -63.69316864013672,
          -70.42820739746094,
          -70.50846862792969,
          -70.99542999267578,
          6.7233171463012695,
          88.12629699707031,
          9.765661239624023,
          -10.092117309570312,
          -81.02763366699219,
          -61.20439529418945,
          -61.20439529418945,
          -72.18199920654297,
          -43.489078521728516,
          -43.0217170715332,
          -84.12140655517578,
          -98.34532165527344,
          -98.34532165527344,
          -38.98459243774414,
          -55.64336013793945,
          -55.64336013793945,
          -19.361196517944336,
          -92.55233001708984,
          -38.16569137573242,
          46.015377044677734,
          -84.53559112548828,
          -84.07914733886719,
          -84.61022186279297,
          -84.53559112548828,
          -58.36138153076172,
          34.094825744628906,
          -83.36483764648438,
          -83.29544830322266,
          -83.82665252685547,
          -83.36483764648438,
          -94.15168762207031,
          -93.3482894897461,
          -82.11485290527344,
          -82.11485290527344,
          -82.11485290527344,
          -79.07371520996094,
          -78.72634887695312,
          -79.45020294189453,
          -79.45020294189453,
          -8.651062965393066,
          -83.0250473022461,
          -84.30034637451172,
          -9.158010482788086,
          -23.234560012817383,
          -41.71302795410156,
          28.12405776977539,
          -27.558544158935547,
          -27.558544158935547,
          -74.65242004394531,
          -74.65242004394531,
          -74.65242004394531,
          -75.36378479003906,
          -19.108951568603516,
          -75.59801483154297,
          -13.071563720703125,
          -6.9779863357543945,
          -80.93759155273438,
          -69.25402069091797,
          -69.25402069091797,
          -69.06873321533203,
          -55.784523010253906,
          -56.164764404296875,
          -56.164764404296875,
          -97.0375747680664,
          -97.0375747680664,
          -66.48571014404297,
          -1.9480831623077393,
          -59.533206939697266,
          -59.533206939697266,
          -59.533206939697266,
          -57.42375183105469,
          -85.3065414428711,
          -86.89115142822266,
          -87.61604309082031,
          -87.58830261230469,
          -86.89115142822266,
          -87.58830261230469,
          -65.7282485961914,
          -65.7282485961914,
          -65.37590026855469,
          -66.03520202636719,
          -75.39920043945312,
          -31.379621505737305,
          -53.661712646484375,
          -36.79281997680664,
          -57.09299850463867,
          -62.00871276855469,
          -61.287601470947266,
          -61.37743377685547,
          -61.37743377685547,
          -63.812477111816406,
          -58.57065963745117,
          -58.5604362487793,
          -65.44998168945312,
          -60.97468566894531,
          -63.610321044921875,
          -61.917686462402344,
          -63.42002487182617,
          -60.29841232299805,
          -61.44558334350586,
          -56.61445617675781,
          -56.61445617675781,
          -56.86153030395508,
          -63.3762321472168,
          -36.4251823425293,
          -49.128135681152344,
          -44.66093826293945,
          -49.03475570678711,
          -53.24172592163086,
          -53.200523376464844,
          -51.62812805175781,
          -35.147396087646484,
          -65.76502227783203,
          -45.33699035644531,
          -34.9736328125,
          -36.66849899291992,
          -36.83218002319336,
          -38.72014236450195,
          -39.13625717163086,
          -30.40882682800293,
          -39.538177490234375,
          -40.51408004760742,
          -40.5988883972168,
          -40.80415344238281,
          -36.636802673339844,
          -38.42974853515625,
          -42.72513961791992,
          -42.100460052490234,
          -47.84075164794922,
          -61.04209518432617,
          -38.316802978515625,
          -38.32298278808594,
          -40.01276397705078,
          -40.3264274597168,
          -38.097434997558594,
          -49.63935089111328,
          -49.639217376708984,
          -39.04973602294922,
          -39.279991149902344,
          -40.79896545410156,
          -39.704612731933594,
          -42.17641830444336,
          -42.395545959472656,
          -41.39388656616211,
          -42.12807846069336,
          -45.545654296875,
          -41.7148323059082,
          -45.247371673583984,
          -45.33757400512695,
          -42.934349060058594,
          -43.64908981323242,
          -43.85304260253906,
          -40.318450927734375,
          -39.75999069213867,
          -39.891937255859375,
          -39.891448974609375,
          -40.407127380371094,
          -40.152366638183594,
          -44.10128402709961,
          -45.46449661254883,
          -45.272212982177734,
          -34.55473709106445,
          -42.92867660522461,
          -52.85530090332031,
          -50.85374450683594,
          -50.85374450683594,
          -51.901451110839844,
          -40.65424346923828,
          -40.5002326965332,
          -46.47005844116211,
          -56.85976028442383,
          -41.92519760131836,
          -42.29473876953125,
          -43.0184326171875,
          -50.7650260925293,
          -50.736419677734375,
          -48.841331481933594,
          -48.71556854248047,
          -49.10417938232422,
          -48.37290954589844,
          -47.805233001708984,
          -48.69297790527344,
          -25.498470306396484,
          -49.295806884765625,
          -35.20439529418945,
          -36.703433990478516,
          -35.677154541015625,
          -36.17839813232422,
          -33.166847229003906,
          -35.176334381103516,
          -35.53277587890625,
          -36.419944763183594,
          -34.68568420410156,
          -35.061256408691406,
          -35.31373977661133,
          -37.05290985107422,
          -57.55762481689453,
          -29.74262237548828,
          -43.24456024169922,
          -71.70164489746094,
          -44.42023468017578,
          -44.41189956665039,
          -42.29460144042969,
          -42.69292449951172,
          -45.3731803894043,
          -45.37274932861328,
          -47.45906448364258,
          -47.44691467285156,
          -47.42245101928711,
          -51.91933822631836,
          -51.99398422241211,
          -53.327903747558594,
          -48.298866271972656,
          -48.298770904541016,
          -47.31032943725586,
          -36.32120132446289,
          -36.32120132446289,
          -46.70942687988281,
          -52.728050231933594,
          -54.23771667480469,
          -54.23836135864258,
          -46.7841796875,
          -42.59353256225586,
          -42.46876907348633,
          -47.55134582519531,
          -47.42007827758789,
          -43.14179611206055,
          -51.77129364013672,
          -35.3640251159668,
          3.6408159732818604,
          -52.49470520019531,
          -53.5836181640625,
          -53.94157791137695,
          -37.19232940673828,
          -57.21809387207031,
          -56.766178131103516,
          -45.71355438232422,
          -45.73041534423828,
          -53.376522064208984,
          -53.376522064208984,
          -50.89665222167969,
          -55.20534896850586,
          -47.85470199584961,
          -45.808387756347656,
          -37.699256896972656,
          -53.67692184448242,
          -55.68896484375,
          -24.054157257080078,
          -72.96835327148438,
          -74.26293182373047,
          -70.50248718261719,
          -73.34947204589844,
          -73.05631256103516,
          -66.37828063964844,
          -65.63951873779297,
          -65.81705474853516,
          -66.55970001220703,
          -55.97402572631836,
          36.6551628112793,
          -3.883737325668335,
          37.088401794433594,
          -32.09159851074219,
          -22.593460083007812,
          -31.83473777770996,
          -35.9495735168457,
          -33.20977783203125,
          -29.438905715942383,
          -29.51941680908203,
          -40.24806594848633,
          -40.13302993774414,
          -50.974178314208984,
          -19.931201934814453,
          -31.6087646484375,
          -31.6087646484375,
          -60.288330078125,
          -91.08622741699219,
          -65.39674377441406,
          -65.39674377441406,
          -65.39674377441406,
          -65.39674377441406,
          -65.39674377441406,
          38.37691879272461,
          -53.19697189331055,
          -59.46046447753906,
          -35.36394119262695,
          -56.99039077758789,
          -57.10591506958008,
          -61.52629470825195,
          -68.54747009277344,
          -59.16386795043945,
          -59.16384506225586,
          -26.137083053588867,
          -70.63130187988281,
          -68.66246795654297,
          -68.67224884033203,
          -63.96833801269531,
          -48.57746124267578,
          -41.447540283203125,
          -41.98870849609375,
          -40.774410247802734,
          -39.511199951171875,
          -39.511199951171875,
          -43.03456497192383,
          -73.36715698242188,
          -73.11273193359375,
          -72.68680572509766,
          -54.745174407958984,
          -60.59779357910156,
          -52.57008743286133,
          12.659074783325195
         ],
         "xaxis": "x",
         "y": [
          -10.815174102783203,
          -10.21079158782959,
          51.094627380371094,
          -1.6366970539093018,
          33.30510711669922,
          -7.375892162322998,
          -10.166827201843262,
          -10.156366348266602,
          -9.509461402893066,
          -8.696688652038574,
          -16.883092880249023,
          -16.883092880249023,
          -24.56936264038086,
          -25.522747039794922,
          -25.19088363647461,
          -25.19088363647461,
          18.01734161376953,
          -83.8768081665039,
          -68.52769470214844,
          -69.1139144897461,
          -69.1139144897461,
          -69.1139144897461,
          19.678478240966797,
          -10.78801441192627,
          -10.78801441192627,
          -10.095325469970703,
          14.644429206848145,
          -42.295284271240234,
          -28.546024322509766,
          -23.295982360839844,
          -15.651333808898926,
          -30.572399139404297,
          -15.968320846557617,
          -15.968320846557617,
          -38.543148040771484,
          -38.543148040771484,
          -37.60496139526367,
          -37.95918655395508,
          -24.274883270263672,
          -23.597549438476562,
          -23.250627517700195,
          -23.926563262939453,
          0.777424693107605,
          -0.37915584444999695,
          -34.37289810180664,
          -34.37289810180664,
          -34.37289810180664,
          -34.37289810180664,
          -44.19695281982422,
          -44.19695281982422,
          -44.95546340942383,
          2.681155204772949,
          -43.74007034301758,
          -43.74007034301758,
          -43.00702667236328,
          -43.74007034301758,
          -35.07518768310547,
          -41.849063873291016,
          -41.849063873291016,
          -41.28752899169922,
          -41.281185150146484,
          -26.776426315307617,
          -26.776426315307617,
          -27.190305709838867,
          -31.14861297607422,
          -31.352079391479492,
          -30.49544906616211,
          -30.99514389038086,
          -30.59084701538086,
          -39.752620697021484,
          -34.920623779296875,
          -35.52070999145508,
          -35.72172546386719,
          -35.72172546386719,
          6.201948642730713,
          26.446748733520508,
          -48.01677703857422,
          -46.85682678222656,
          17.390897750854492,
          19.213123321533203,
          -17.23473358154297,
          -15.535603523254395,
          30.984663009643555,
          1.231537938117981,
          -0.1545388251543045,
          -17.165435791015625,
          -49.063690185546875,
          -1.500617265701294,
          -2.9550390243530273,
          -2.285862445831299,
          -31.324264526367188,
          -12.809656143188477,
          -12.809656143188477,
          -12.809656143188477,
          -11.82872486114502,
          -11.82872486114502,
          -69.48963928222656,
          -79.41105651855469,
          -29.926969528198242,
          -29.926969528198242,
          -29.926969528198242,
          -80.10911560058594,
          -74.03848266601562,
          -83.3361587524414,
          -83.3361587524414,
          -79.31525421142578,
          -57.971675872802734,
          -61.27436828613281,
          -61.77163314819336,
          -61.66938781738281,
          -24.22507667541504,
          -71.81757354736328,
          -4.236083984375,
          -73.57077026367188,
          -67.0436782836914,
          -67.04351806640625,
          -21.06248664855957,
          -21.06248664855957,
          -21.267797470092773,
          -21.757505416870117,
          -21.821367263793945,
          -64.1363754272461,
          -64.13626861572266,
          -81.24607849121094,
          -62.87824249267578,
          -62.87824249267578,
          -62.87824249267578,
          -77.86760711669922,
          -71.2508773803711,
          -66.6404037475586,
          -66.6404800415039,
          -83.49546813964844,
          -81.04985809326172,
          -61.01605987548828,
          10.903895378112793,
          0.006065063178539276,
          -13.364340782165527,
          -13.364340782165527,
          -11.382911682128906,
          -11.382911682128906,
          -21.88123321533203,
          -17.576431274414062,
          -18.40961456298828,
          -14.590943336486816,
          -14.007792472839355,
          -14.007792472839355,
          -16.104511260986328,
          -16.82740592956543,
          -16.89352035522461,
          -16.104511260986328,
          -20.14780044555664,
          -20.14780044555664,
          -20.154088973999023,
          -16.06060028076172,
          -16.06060028076172,
          -19.811010360717773,
          -19.811010360717773,
          -54.86076354980469,
          -48.995155334472656,
          -52.09416198730469,
          -53.543121337890625,
          -73.52313995361328,
          -71.9989242553711,
          -70.8227310180664,
          -70.82283782958984,
          -79.8208999633789,
          -62.28495788574219,
          -79.91077423095703,
          -77.31291198730469,
          -56.82722473144531,
          -69.4330825805664,
          -62.6927375793457,
          -62.6927375793457,
          -74.22779083251953,
          -76.5785903930664,
          -58.21384811401367,
          -58.21426010131836,
          -20.925579071044922,
          -20.925579071044922,
          -20.925579071044922,
          -20.925579071044922,
          -26.39427947998047,
          -25.438461303710938,
          -25.438461303710938,
          -26.39427947998047,
          -26.39427947998047,
          -80.46906280517578,
          -26.176456451416016,
          -25.333932876586914,
          -25.671459197998047,
          -25.67757797241211,
          -26.346298217773438,
          -26.346298217773438,
          -26.346298217773438,
          -28.881576538085938,
          -28.881576538085938,
          -30.107877731323242,
          -30.042818069458008,
          -30.001325607299805,
          -30.169591903686523,
          -30.732139587402344,
          -29.14307403564453,
          -28.92783546447754,
          -28.238811492919922,
          -28.708263397216797,
          -28.334733963012695,
          -42.261741638183594,
          -42.261741638183594,
          -46.523780822753906,
          -33.27280044555664,
          -31.471506118774414,
          -31.142919540405273,
          -31.142919540405273,
          -29.24933624267578,
          -27.29625701904297,
          -26.807498931884766,
          -26.25666046142578,
          -26.756874084472656,
          -26.756874084472656,
          -39.00285720825195,
          -39.00285720825195,
          -31.730314254760742,
          -31.730314254760742,
          -31.730314254760742,
          -31.012380599975586,
          -31.012380599975586,
          -29.535890579223633,
          -29.535890579223633,
          -29.535890579223633,
          -29.535890579223633,
          -40.74759292602539,
          -71.70248413085938,
          -35.89077377319336,
          -35.89213562011719,
          -38.82917785644531,
          -34.841007232666016,
          -33.53617477416992,
          -33.53617477416992,
          -35.18986129760742,
          -35.44015884399414,
          -31.840904235839844,
          -32.47193908691406,
          -32.47193908691406,
          -32.47193908691406,
          -31.74949073791504,
          30.286895751953125,
          -25.470752716064453,
          -7.8820390701293945,
          -33.29359436035156,
          -81.08110046386719,
          -20.188274383544922,
          -20.188274383544922,
          19.86042022705078,
          55.53950881958008,
          -0.6020660996437073,
          -0.5785190463066101,
          -1.496537446975708,
          -1.0529273748397827,
          -18.043106079101562,
          36.778167724609375,
          -30.7997989654541,
          38.58173751831055,
          -37.59769821166992,
          -49.14598846435547,
          -49.14598846435547,
          -11.568916320800781,
          -54.71061325073242,
          -55.218990325927734,
          -30.26112174987793,
          -15.383410453796387,
          -15.383410453796387,
          79.13855743408203,
          4.934963226318359,
          4.934963226318359,
          -67.55830383300781,
          -39.20710754394531,
          42.56621551513672,
          80.2010726928711,
          -19.089845657348633,
          -19.465967178344727,
          -19.67105484008789,
          -19.089845657348633,
          -6.601138591766357,
          77.1979751586914,
          -11.440174102783203,
          -10.509068489074707,
          -10.833088874816895,
          -11.440174102783203,
          -35.80875015258789,
          -35.488216400146484,
          -14.91490364074707,
          -14.91490364074707,
          -14.91490364074707,
          -48.20726013183594,
          -47.62854766845703,
          -47.313873291015625,
          -47.313873291015625,
          45.876949310302734,
          -3.530299186706543,
          -38.72557830810547,
          -86.94874572753906,
          -65.0102310180664,
          -53.09593200683594,
          -75.89022827148438,
          -64.95304870605469,
          -64.95304870605469,
          -6.6229424476623535,
          -6.6229424476623535,
          -6.6229424476623535,
          -6.176969528198242,
          -87.5591812133789,
          -55.80727767944336,
          51.12015914916992,
          24.966812133789062,
          -56.14006042480469,
          -24.419113159179688,
          -24.419113159179688,
          -25.23721694946289,
          10.832021713256836,
          10.090166091918945,
          10.090166091918945,
          -17.623046875,
          -17.623046875,
          -4.086258411407471,
          85.48043823242188,
          12.428139686584473,
          12.428139686584473,
          12.428139686584473,
          2.904090166091919,
          -6.171261310577393,
          -32.92226028442383,
          -32.53957748413086,
          -33.346595764160156,
          -32.92226028442383,
          -33.346595764160156,
          -26.12059211730957,
          -26.12059211730957,
          -26.9628963470459,
          -26.885156631469727,
          -58.399967193603516,
          -47.149009704589844,
          -37.059059143066406,
          -37.802162170410156,
          -54.048927307128906,
          -35.306114196777344,
          -35.91733169555664,
          -36.63060760498047,
          -36.63060760498047,
          -39.00397872924805,
          -35.775367736816406,
          -35.85334396362305,
          -35.594215393066406,
          -40.0505485534668,
          -41.2864875793457,
          -40.60395812988281,
          -7.844753742218018,
          -47.442874908447266,
          -47.32362747192383,
          -40.003353118896484,
          -40.003353118896484,
          -38.7033576965332,
          -8.142780303955078,
          -74.9930191040039,
          -64.40897369384766,
          -72.63277435302734,
          -63.982948303222656,
          -68.83836364746094,
          -68.86103057861328,
          -68.84376525878906,
          -73.53457641601562,
          -10.731771469116211,
          -70.79589080810547,
          -62.063690185546875,
          -67.0721664428711,
          -67.06574249267578,
          -61.93407440185547,
          -61.401519775390625,
          -69.49003601074219,
          -66.39080047607422,
          -65.05680084228516,
          -65.40643310546875,
          -66.54051971435547,
          -46.06333923339844,
          -69.4614486694336,
          -64.03732299804688,
          -65.86241149902344,
          -65.57587432861328,
          -71.8008804321289,
          -64.27143859863281,
          -64.25544738769531,
          -63.17953872680664,
          -68.37620544433594,
          -62.896915435791016,
          -73.57612609863281,
          -73.57539367675781,
          -74.1436996459961,
          -74.34782409667969,
          -73.81758117675781,
          -74.69658660888672,
          -73.44949340820312,
          -73.52783966064453,
          -75.55430603027344,
          -75.32076263427734,
          -79.743896484375,
          -76.9553451538086,
          -76.660888671875,
          -76.689453125,
          -76.68954467773438,
          -79.03997039794922,
          -76.11588287353516,
          -80.58985900878906,
          -80.90072631835938,
          -71.11284637451172,
          -71.11259460449219,
          -71.82508087158203,
          -76.40583038330078,
          -74.34383392333984,
          -83.28300476074219,
          -82.70062255859375,
          -70.0840072631836,
          -75.39010620117188,
          -71.89649200439453,
          -70.920166015625,
          -70.920166015625,
          -71.31498718261719,
          -77.93152618408203,
          -77.95159912109375,
          -73.74422454833984,
          -75.60491943359375,
          -79.38323211669922,
          -78.74906158447266,
          -80.94573211669922,
          -66.92182159423828,
          -66.96981048583984,
          -79.61559295654297,
          -78.9870834350586,
          -77.49437713623047,
          -76.8031005859375,
          -78.14595031738281,
          -68.79946899414062,
          -72.51996612548828,
          -68.81061553955078,
          -80.23249816894531,
          -79.59264373779297,
          -81.1931381225586,
          -73.93164825439453,
          -74.79418182373047,
          -77.30833435058594,
          -76.75169372558594,
          -76.68362426757812,
          -75.19580841064453,
          -75.55158996582031,
          -74.44342803955078,
          -78.12957763671875,
          -79.30860900878906,
          -79.46614074707031,
          -67.33783721923828,
          -48.82966995239258,
          -66.69803619384766,
          -66.71035766601562,
          -69.34918212890625,
          -70.08131408691406,
          -69.37016296386719,
          -69.36833190917969,
          -68.58590698242188,
          -68.56771850585938,
          -67.8098373413086,
          -76.09681701660156,
          -75.92086791992188,
          -72.69163513183594,
          -71.12416076660156,
          -71.12403869628906,
          -71.23554992675781,
          -70.45879364013672,
          -70.45879364013672,
          -72.85446166992188,
          -79.21572875976562,
          -63.50360107421875,
          -63.50354766845703,
          -58.83793640136719,
          -61.33125305175781,
          -60.923648834228516,
          -61.267555236816406,
          -61.30591583251953,
          -63.0514030456543,
          -61.05904006958008,
          -42.80522537231445,
          -53.74815368652344,
          -74.06143188476562,
          -74.5223617553711,
          -74.76262664794922,
          -68.06795501708984,
          -67.12911987304688,
          -67.1907958984375,
          -63.25307083129883,
          -63.31761932373047,
          -66.11833953857422,
          -66.11833953857422,
          -57.416561126708984,
          -69.43964385986328,
          -50.981876373291016,
          -66.47028350830078,
          -76.34419250488281,
          -72.06116485595703,
          -71.94149017333984,
          -56.2725830078125,
          -46.88593673706055,
          -53.491432189941406,
          -54.12078857421875,
          -52.070640563964844,
          -45.73353958129883,
          -46.24142074584961,
          -45.67104721069336,
          -46.28805160522461,
          -45.65074157714844,
          -43.363197326660156,
          -17.802082061767578,
          -57.21217346191406,
          46.05933380126953,
          8.577787399291992,
          30.451284408569336,
          14.324609756469727,
          4.767405986785889,
          3.302144765853882,
          -39.39081954956055,
          -39.338279724121094,
          -47.71455001831055,
          -48.23033142089844,
          -41.823848724365234,
          29.981796264648438,
          -1.2052772045135498,
          -1.2052772045135498,
          -70.87859344482422,
          -37.359535217285156,
          -22.37799835205078,
          -22.37799835205078,
          -22.37799835205078,
          -22.37799835205078,
          -22.37799835205078,
          -14.739904403686523,
          -49.3964958190918,
          -43.64638137817383,
          -5.1305718421936035,
          -47.41724395751953,
          -47.442508697509766,
          -45.12883377075195,
          -43.25403594970703,
          -41.264957427978516,
          -41.26566696166992,
          -58.36029052734375,
          -45.548439025878906,
          -46.72826385498047,
          -46.37078857421875,
          -46.15227508544922,
          -11.41027545928955,
          -57.8020133972168,
          -57.322303771972656,
          -56.84076690673828,
          -57.00303268432617,
          -57.00303268432617,
          56.21446228027344,
          -39.73081970214844,
          -38.46278381347656,
          -38.728519439697266,
          -32.5020637512207,
          -43.74579620361328,
          -41.37067794799805,
          -54.696781158447266
         ],
         "yaxis": "y"
        },
        {
         "customdata": [
          [
           "crane"
          ],
          [
           "crane"
          ],
          [
           "disk brake"
          ],
          [
           "disk brake"
          ],
          [
           "auto_factory"
          ],
          [
           "cab"
          ],
          [
           "cab"
          ],
          [
           "cab"
          ],
          [
           "car mirror"
          ],
          [
           "racer"
          ],
          [
           "racer"
          ],
          [
           "racer"
          ],
          [
           "racer"
          ],
          [
           "Motorbike"
          ],
          [
           "Wheel"
          ],
          [
           "Wheel"
          ],
          [
           "Wheel"
          ],
          [
           "Wheel"
          ],
          [
           "convertible"
          ],
          [
           "convertible"
          ],
          [
           "auto_showroom"
          ],
          [
           "passenger car"
          ],
          [
           "Truck"
          ],
          [
           "Car"
          ],
          [
           "Tire"
          ],
          [
           "trailer truck"
          ],
          [
           "trailer truck"
          ],
          [
           "Vehicle registration plate"
          ],
          [
           "car wheel"
          ],
          [
           "limousine"
          ],
          [
           "limousine"
          ],
          [
           "minivan"
          ],
          [
           "Air brake"
          ],
          [
           "Air brake"
          ],
          [
           "Air brake"
          ],
          [
           "gas_station"
          ],
          [
           "gas_station"
          ],
          [
           "gas_station"
          ],
          [
           "gas_station"
          ],
          [
           "jeep"
          ],
          [
           "Vehicle"
          ],
          [
           "police van"
          ],
          [
           "moving van"
          ],
          [
           "Van"
          ],
          [
           "Van"
          ],
          [
           "car_interior"
          ],
          [
           "Air horn, truck horn"
          ],
          [
           "Air horn, truck horn"
          ],
          [
           "Air horn, truck horn"
          ],
          [
           "garbage truck"
          ],
          [
           "garbage truck"
          ],
          [
           "garbage truck"
          ],
          [
           "garbage truck"
          ],
          [
           "garbage truck"
          ],
          [
           "Land vehicle"
          ],
          [
           "Auto part"
          ],
          [
           "Aircraft"
          ],
          [
           "Aircraft engine"
          ],
          [
           "seat belt"
          ],
          [
           "seat belt"
          ],
          [
           "seat belt"
          ],
          [
           "sports car"
          ],
          [
           "repair_shop"
          ],
          [
           "repair_shop"
          ],
          [
           "repair_shop"
          ],
          [
           "moped"
          ],
          [
           "moped"
          ],
          [
           "moped"
          ],
          [
           "moped"
          ],
          [
           "moped"
          ],
          [
           "motor scooter"
          ],
          [
           "Helmet"
          ],
          [
           "crash helmet"
          ],
          [
           "crash helmet"
          ],
          [
           "crash helmet"
          ],
          [
           "ambulance"
          ],
          [
           "ambulance"
          ],
          [
           "ambulance"
          ],
          [
           "ambulance"
          ],
          [
           "ambulance"
          ],
          [
           "highway"
          ],
          [
           "tow truck"
          ],
          [
           "tow truck"
          ],
          [
           "Bookcase"
          ],
          [
           "archive"
          ],
          [
           "archive"
          ],
          [
           "Pen"
          ],
          [
           "Pen"
          ],
          [
           "bib"
          ],
          [
           "bullet train"
          ],
          [
           "bullet train"
          ],
          [
           "bullet train"
          ],
          [
           "aircraft carrier"
          ],
          [
           "aircraft carrier"
          ],
          [
           "space shuttle"
          ],
          [
           "space shuttle"
          ],
          [
           "airliner"
          ],
          [
           "warplane"
          ],
          [
           "Airplane"
          ],
          [
           "envelope"
          ],
          [
           "envelope"
          ],
          [
           "Chair"
          ],
          [
           "Bus"
          ],
          [
           "Bus"
          ],
          [
           "electric locomotive"
          ],
          [
           "electric locomotive"
          ],
          [
           "electric locomotive"
          ],
          [
           "bus_interior"
          ],
          [
           "bus_interior"
          ],
          [
           "freight car"
          ],
          [
           "Bicycle"
          ],
          [
           "Box"
          ],
          [
           "coil"
          ],
          [
           "coil"
          ],
          [
           "Horse"
          ],
          [
           "suit"
          ],
          [
           "Boat, Water vehicle"
          ],
          [
           "Boat, Water vehicle"
          ],
          [
           "Boat, Water vehicle"
          ],
          [
           "Table"
          ],
          [
           "electric guitar"
          ],
          [
           "Umbrella"
          ],
          [
           "bicycle-built-for-two"
          ],
          [
           "canoe"
          ],
          [
           "canoe"
          ],
          [
           "Boat"
          ],
          [
           "Bench"
          ],
          [
           "altar"
          ],
          [
           "altar"
          ],
          [
           "hammerhead"
          ],
          [
           "tiger"
          ],
          [
           "Bear"
          ],
          [
           "Tiger"
          ],
          [
           "Elephant"
          ],
          [
           "Sandwich"
          ],
          [
           "Bottle"
          ],
          [
           "Wine glass"
          ],
          [
           "wine bottle"
          ],
          [
           "Bowl"
          ],
          [
           "Cocktail"
          ],
          [
           "ladle"
          ],
          [
           "ladle"
          ],
          [
           "tray"
          ],
          [
           "tray"
          ],
          [
           "bakery"
          ],
          [
           "Cookie"
          ],
          [
           "tricycle"
          ],
          [
           "tricycle"
          ],
          [
           "tricycle"
          ],
          [
           "tricycle"
          ],
          [
           "Treadmill"
          ],
          [
           "Treadmill"
          ],
          [
           "Sports equipment"
          ],
          [
           "Stationary bicycle"
          ],
          [
           "Stationary bicycle"
          ],
          [
           "Stationary bicycle"
          ],
          [
           "Surfboard"
          ],
          [
           "Snowboard"
          ],
          [
           "upright"
          ],
          [
           "upright"
          ],
          [
           "cornet"
          ],
          [
           "cornet"
          ],
          [
           "Car alarm"
          ],
          [
           "Violin"
          ],
          [
           "violin"
          ],
          [
           "pot"
          ],
          [
           "greenhouse"
          ],
          [
           "Vase"
          ],
          [
           "greenhouse/outdoor"
          ],
          [
           "vegetable_garden"
          ],
          [
           "Kitchen appliance"
          ],
          [
           "garage/indoor"
          ],
          [
           "garage/outdoor"
          ],
          [
           "Window"
          ],
          [
           "Window"
          ],
          [
           "Car passing by"
          ],
          [
           "Cash register"
          ],
          [
           "CD player"
          ],
          [
           "Leonberg"
          ],
          [
           "Leonberg"
          ],
          [
           "kuvasz"
          ],
          [
           "kuvasz"
          ],
          [
           "groenendael"
          ],
          [
           "groenendael"
          ],
          [
           "Falcon"
          ],
          [
           "Parrot"
          ],
          [
           "hen"
          ],
          [
           "hen"
          ],
          [
           "Goat"
          ],
          [
           "green lizard"
          ],
          [
           "Studio couch"
          ],
          [
           "driveway"
          ],
          [
           "driveway"
          ],
          [
           "driveway"
          ],
          [
           "Footwear"
          ],
          [
           "hardware_store"
          ],
          [
           "Kite"
          ],
          [
           "swing"
          ],
          [
           "Toy"
          ],
          [
           "Sunflower"
          ],
          [
           "Jacket"
          ],
          [
           "Coat"
          ],
          [
           "jean"
          ],
          [
           "jean"
          ],
          [
           "buckle"
          ],
          [
           "buckle"
          ],
          [
           "wallet"
          ],
          [
           "Cosmetics"
          ],
          [
           "stole"
          ],
          [
           "stole"
          ],
          [
           "bonnet"
          ],
          [
           "bonnet"
          ],
          [
           "typewriter keyboard"
          ],
          [
           "Tripod"
          ],
          [
           "printer"
          ],
          [
           "Sewing machine"
          ],
          [
           "remote control"
          ],
          [
           "subway_station/platform"
          ],
          [
           "subway_station/platform"
          ],
          [
           "school bus"
          ],
          [
           "school bus"
          ],
          [
           "school bus"
          ],
          [
           "train_station/platform"
          ],
          [
           "train_station/platform"
          ],
          [
           "Train"
          ],
          [
           "Tent"
          ],
          [
           "campsite"
          ],
          [
           "catamaran"
          ],
          [
           "Gondola"
          ],
          [
           "gondola"
          ],
          [
           "chalet"
          ],
          [
           "chalet"
          ],
          [
           "motel"
          ],
          [
           "tundra"
          ],
          [
           "tundra"
          ],
          [
           "dogsled"
          ],
          [
           "dogsled"
          ],
          [
           "streetcar"
          ],
          [
           "railroad_track"
          ],
          [
           "steam locomotive"
          ],
          [
           "steam locomotive"
          ],
          [
           "steam locomotive"
          ],
          [
           "steam locomotive"
          ],
          [
           "riding or walking with horse"
          ],
          [
           "Ambulance"
          ],
          [
           "Football helmet"
          ],
          [
           "Football helmet"
          ],
          [
           "'ski'"
          ],
          [
           "'ski'"
          ],
          [
           "football helmet"
          ],
          [
           "Tennis racket"
          ],
          [
           "'sports car'"
          ],
          [
           "'sport car'"
          ],
          [
           "'sandal'"
          ],
          [
           "'sandal'"
          ],
          [
           "'shoe shop'"
          ],
          [
           "'shoe-shop'"
          ],
          [
           "outdoor"
          ],
          [
           "canyon"
          ],
          [
           "canyon"
          ],
          [
           "exterior"
          ],
          [
           "mountain"
          ],
          [
           "parking_lot"
          ],
          [
           "platform"
          ],
          [
           "platform"
          ],
          [
           "Electric guitar"
          ],
          [
           "Emergency vehicle"
          ],
          [
           "Engine"
          ],
          [
           "Engine knocking"
          ],
          [
           "Engine starting"
          ],
          [
           "Environmental noise"
          ],
          [
           "Environmental noise"
          ],
          [
           "Fixed-wing aircraft, airplane"
          ],
          [
           "Fixed-wing aircraft, airplane"
          ],
          [
           "Flute"
          ],
          [
           "Flute"
          ],
          [
           "Ice cream truck, ice cream van"
          ],
          [
           "Ice cream truck, ice cream van"
          ],
          [
           "Ice cream truck, ice cream van"
          ],
          [
           "Motor vehicle (road)"
          ],
          [
           "Motorcycle"
          ],
          [
           "Pigeon, dove"
          ],
          [
           "Power windows, electric windows"
          ],
          [
           "Power windows, electric windows"
          ],
          [
           "Power windows, electric windows"
          ],
          [
           "Power windows, electric windows"
          ],
          [
           "Race car, auto racing"
          ],
          [
           "Railroad car, train wagon"
          ],
          [
           "Saxophone"
          ],
          [
           "Train whistle"
          ],
          [
           "Train whistle"
          ],
          [
           "Train whistle"
          ],
          [
           "Vehicle horn, car horn, honking"
          ],
          [
           "driving car"
          ],
          [
           "motorcycling"
          ],
          [
           "riding elephant"
          ],
          [
           "golf driving"
          ],
          [
           "golf driving"
          ],
          [
           "golf driving"
          ],
          [
           "unloading truck"
          ],
          [
           "unloading truck"
          ],
          [
           "unloading truck"
          ],
          [
           "sled dog racing"
          ],
          [
           "biking through snow"
          ],
          [
           "building shed"
          ],
          [
           "moving furniture"
          ],
          [
           "moving furniture"
          ],
          [
           "moving furniture"
          ],
          [
           "changing wheel"
          ],
          [
           "'Automobile'"
          ],
          [
           "'Road'"
          ],
          [
           "'Road'"
          ],
          [
           "'Transportation'"
          ],
          [
           "Home appliance"
          ],
          [
           "Limousine"
          ],
          [
           "Dairy"
          ],
          [
           "Personal care"
          ],
          [
           "Golf ball"
          ],
          [
           "Bowling equipment"
          ],
          [
           "Furniture"
          ],
          [
           "Vegetable"
          ],
          [
           "'Peke'"
          ],
          [
           "'Peke'"
          ],
          [
           "'Saluki'"
          ],
          [
           "'Saluki'"
          ],
          [
           "'red setter'"
          ],
          [
           "'red setter'"
          ],
          [
           "'clumber'"
          ],
          [
           "'clumber'"
          ],
          [
           "'cocker'"
          ],
          [
           "'cocker'"
          ],
          [
           "'kuvasz'"
          ],
          [
           "'kuvasz'"
          ],
          [
           "'komondor'"
          ],
          [
           "'komondor'"
          ],
          [
           "'alsatian'"
          ],
          [
           "'alsatian'"
          ],
          [
           "'husky'"
          ],
          [
           "'husky'"
          ],
          [
           "'carriage dog'"
          ],
          [
           "'carriage dog'"
          ],
          [
           "'Samoyede'"
          ],
          [
           "'Samoyede'"
          ],
          [
           "'Pembroke'"
          ],
          [
           "'Pembroke'"
          ],
          [
           "'tabby'"
          ],
          [
           "'tabby'"
          ],
          [
           "'ambulance'"
          ],
          [
           "'ambulance'"
          ],
          [
           "'ambulance'"
          ],
          [
           "'ambulance'"
          ],
          [
           "'ambulance'"
          ],
          [
           "'Band Aid'"
          ],
          [
           "'barrow'"
          ],
          [
           "'barrow'"
          ],
          [
           "'garden cart'"
          ],
          [
           "'garden cart'"
          ],
          [
           "'lawn cart'"
          ],
          [
           "'lawn cart'"
          ],
          [
           "'lawn cart'"
          ],
          [
           "'lawn cart'"
          ],
          [
           "'wheelbarrow'"
          ],
          [
           "'wheelbarrow'"
          ],
          [
           "'beach wagon'"
          ],
          [
           "'beach wagon'"
          ],
          [
           "'beach wagon'"
          ],
          [
           "'beach wagon'"
          ],
          [
           "'station wagon'"
          ],
          [
           "'station wagon'"
          ],
          [
           "'station wagon'"
          ],
          [
           "'wagon'"
          ],
          [
           "'wagon'"
          ],
          [
           "'wagon'"
          ],
          [
           "'wagon'"
          ],
          [
           "'beach waggon'"
          ],
          [
           "'beach waggon'"
          ],
          [
           "'beach waggon'"
          ],
          [
           "'station waggon'"
          ],
          [
           "'station waggon'"
          ],
          [
           "'station waggon'"
          ],
          [
           "'waggon'"
          ],
          [
           "'waggon'"
          ],
          [
           "'waggon'"
          ],
          [
           "'waggon'"
          ],
          [
           "'bulletproof vest'"
          ],
          [
           "'bulletproof vest'"
          ],
          [
           "'bullet train'"
          ],
          [
           "'car wheel'"
          ],
          [
           "'car wheel'"
          ],
          [
           "'car wheel'"
          ],
          [
           "'car wheel'"
          ],
          [
           "'cello'"
          ],
          [
           "'cello'"
          ],
          [
           "'mobile phone'"
          ],
          [
           "'chopper'"
          ],
          [
           "'cloak'"
          ],
          [
           "'cloak'"
          ],
          [
           "'convertible'"
          ],
          [
           "'convertible'"
          ],
          [
           "'corkscrew'"
          ],
          [
           "'corkscrew'"
          ],
          [
           "'bottle screw'"
          ],
          [
           "'bottle screw'"
          ],
          [
           "'cornet'"
          ],
          [
           "'cornet'"
          ],
          [
           "'trump'"
          ],
          [
           "'trump'"
          ],
          [
           "'disk brake'"
          ],
          [
           "'disc brake'"
          ],
          [
           "'disc brake'"
          ],
          [
           "'electric guitar'"
          ],
          [
           "'fire engine'"
          ],
          [
           "'fire engine'"
          ],
          [
           "'fire engine'"
          ],
          [
           "'fire engine'"
          ],
          [
           "'fire truck'"
          ],
          [
           "'fire truck'"
          ],
          [
           "'fire truck'"
          ],
          [
           "'fire truck'"
          ],
          [
           "'garbage truck'"
          ],
          [
           "'garbage truck'"
          ],
          [
           "'garbage truck'"
          ],
          [
           "'garbage truck'"
          ],
          [
           "'dustcart'"
          ],
          [
           "'dustcart'"
          ],
          [
           "'goblet'"
          ],
          [
           "'goblet'"
          ],
          [
           "'greenhouse'"
          ],
          [
           "'grille'"
          ],
          [
           "'grille'"
          ],
          [
           "'radiator grille'"
          ],
          [
           "'jean'"
          ],
          [
           "'jean'"
          ],
          [
           "'denim'"
          ],
          [
           "'denim'"
          ],
          [
           "'jeep'"
          ],
          [
           "'jeep'"
          ],
          [
           "'landrover'"
          ],
          [
           "'lawn mower'"
          ],
          [
           "'lawn mower'"
          ],
          [
           "'mower'"
          ],
          [
           "'limousine'"
          ],
          [
           "'limousine'"
          ],
          [
           "'limo'"
          ],
          [
           "'limo'"
          ],
          [
           "'limo'"
          ],
          [
           "'limo'"
          ],
          [
           "'speaker'"
          ],
          [
           "'speaker'"
          ],
          [
           "'speaker unit'"
          ],
          [
           "'speaker unit'"
          ],
          [
           "'mini'"
          ],
          [
           "'mini'"
          ],
          [
           "'minivan'"
          ],
          [
           "'minivan'"
          ],
          [
           "'minivan'"
          ],
          [
           "'mobile home'"
          ],
          [
           "'motor scooter'"
          ],
          [
           "'motor scooter'"
          ],
          [
           "'motor scooter'"
          ],
          [
           "'scooter'"
          ],
          [
           "'scooter'"
          ],
          [
           "'scooter'"
          ],
          [
           "'scooter'"
          ],
          [
           "'scooter'"
          ],
          [
           "'mountain bike'"
          ],
          [
           "'mountain bike'"
          ],
          [
           "'mountain bike'"
          ],
          [
           "'all-terrain bike'"
          ],
          [
           "'all-terrain bike'"
          ],
          [
           "'all-terrain bike'"
          ],
          [
           "'off-roader'"
          ],
          [
           "'moving van'"
          ],
          [
           "'moving van'"
          ],
          [
           "'moving van'"
          ],
          [
           "'moving van'"
          ],
          [
           "'hautboy'"
          ],
          [
           "'hautboy'"
          ],
          [
           "'sweet potato'"
          ],
          [
           "'sweet potato'"
          ],
          [
           "'odometer'"
          ],
          [
           "'odometer'"
          ],
          [
           "'odometer'"
          ],
          [
           "'hodometer'"
          ],
          [
           "'hodometer'"
          ],
          [
           "'hodometer'"
          ],
          [
           "'mileometer'"
          ],
          [
           "'mileometer'"
          ],
          [
           "'milometer'"
          ],
          [
           "'milometer'"
          ],
          [
           "'oil filter'"
          ],
          [
           "'oil filter'"
          ],
          [
           "'passenger car'"
          ],
          [
           "'coach'"
          ],
          [
           "'coach'"
          ],
          [
           "'carriage'"
          ],
          [
           "'carriage'"
          ],
          [
           "'carriage'"
          ],
          [
           "'carriage'"
          ],
          [
           "'terrace'"
          ],
          [
           "'terrace'"
          ],
          [
           "'pick'"
          ],
          [
           "'pick'"
          ],
          [
           "'pickup'"
          ],
          [
           "'pickup'"
          ],
          [
           "'pickup'"
          ],
          [
           "'pickup'"
          ],
          [
           "'pitcher'"
          ],
          [
           "'pitcher'"
          ],
          [
           "'plow'"
          ],
          [
           "'plow'"
          ],
          [
           "'plow'"
          ],
          [
           "'poncho'"
          ],
          [
           "'poncho'"
          ],
          [
           "'racer'"
          ],
          [
           "'racer'"
          ],
          [
           "'racer'"
          ],
          [
           "'race car'"
          ],
          [
           "'racing car'"
          ],
          [
           "'recreational vehicle'"
          ],
          [
           "'RV'"
          ],
          [
           "'RV'"
          ],
          [
           "'RV'"
          ],
          [
           "'RV'"
          ],
          [
           "'R.V.'"
          ],
          [
           "'R.V.'"
          ],
          [
           "'R.V.'"
          ],
          [
           "'R.V.'"
          ],
          [
           "'remote control'"
          ],
          [
           "'sax'"
          ],
          [
           "'sax'"
          ],
          [
           "'school bus'"
          ],
          [
           "'school bus'"
          ],
          [
           "'sewing machine'"
          ],
          [
           "'snowmobile'"
          ],
          [
           "'snowmobile'"
          ],
          [
           "'snowmobile'"
          ],
          [
           "'solar dish'"
          ],
          [
           "'solar collector'"
          ],
          [
           "'solar collector'"
          ],
          [
           "'solar furnace'"
          ],
          [
           "'solar furnace'"
          ],
          [
           "'streetcar'"
          ],
          [
           "'streetcar'"
          ],
          [
           "'streetcar'"
          ],
          [
           "'tram'"
          ],
          [
           "'tram'"
          ],
          [
           "'tramcar'"
          ],
          [
           "'tramcar'"
          ],
          [
           "'trolley'"
          ],
          [
           "'trolley'"
          ],
          [
           "'trolley'"
          ],
          [
           "'trolley car'"
          ],
          [
           "'trolley car'"
          ],
          [
           "'sunglasses'"
          ],
          [
           "'switch'"
          ],
          [
           "'switch'"
          ],
          [
           "'teapot'"
          ],
          [
           "'tow truck'"
          ],
          [
           "'tow truck'"
          ],
          [
           "'tow truck'"
          ],
          [
           "'tow car'"
          ],
          [
           "'wrecker'"
          ],
          [
           "'wrecker'"
          ],
          [
           "'tractor'"
          ],
          [
           "'tractor'"
          ],
          [
           "'tractor'"
          ],
          [
           "'trailer truck'"
          ],
          [
           "'trailer truck'"
          ],
          [
           "'trailer truck'"
          ],
          [
           "'tractor trailer'"
          ],
          [
           "'tractor trailer'"
          ],
          [
           "'tractor trailer'"
          ],
          [
           "'tractor trailer'"
          ],
          [
           "'tractor trailer'"
          ],
          [
           "'trucking rig'"
          ],
          [
           "'trucking rig'"
          ],
          [
           "'trucking rig'"
          ],
          [
           "'articulated lorry'"
          ],
          [
           "'articulated lorry'"
          ],
          [
           "'articulated lorry'"
          ],
          [
           "'semi'"
          ],
          [
           "'semi'"
          ],
          [
           "'vat'"
          ],
          [
           "'vat'"
          ],
          [
           "'turnstile'"
          ],
          [
           "'turnstile'"
          ],
          [
           "'typewriter keyboard'"
          ],
          [
           "'umbrella'"
          ],
          [
           "'umbrella'"
          ],
          [
           "'upright'"
          ],
          [
           "'upright'"
          ],
          [
           "'velvet'"
          ],
          [
           "'velvet'"
          ],
          [
           "'military plane'"
          ],
          [
           "'military plane'"
          ],
          [
           "'automatic washer'"
          ],
          [
           "'automatic washer'"
          ],
          [
           "'automatic washer'"
          ],
          [
           "'street sign'"
          ],
          [
           "'plate'"
          ],
          [
           "'plate'"
          ],
          [
           "'consomme'"
          ],
          [
           "'consomme'"
          ],
          [
           "'acorn squash'"
          ],
          [
           "'acorn squash'"
          ],
          [
           "'butternut squash'"
          ],
          [
           "'butternut squash'"
          ],
          [
           "'orange'"
          ],
          [
           "'orange'"
          ],
          [
           "'lemon'"
          ],
          [
           "'lemon'"
          ],
          [
           "'banana'"
          ],
          [
           "'banana'"
          ],
          [
           "'espresso'"
          ],
          [
           "'espresso'"
          ],
          [
           "Traffic light"
          ],
          [
           "Traffic light"
          ],
          [
           "Traffic light"
          ],
          [
           "Traffic light"
          ],
          [
           "Traffic sign"
          ],
          [
           "Traffic sign"
          ],
          [
           "Traffic sign"
          ],
          [
           "Traffic sign"
          ],
          [
           "Traffic sign"
          ],
          [
           "'bicycle-built-for-two'"
          ],
          [
           "'tandem bicycle'"
          ],
          [
           "'buckle'"
          ],
          [
           "'buckle'"
          ],
          [
           "'cab'"
          ],
          [
           "'cab'"
          ],
          [
           "'cab'"
          ],
          [
           "'cab'"
          ],
          [
           "'taxi'"
          ],
          [
           "'taxi'"
          ],
          [
           "'taxi'"
          ],
          [
           "'taxi'"
          ],
          [
           "'taxicab'"
          ],
          [
           "'taxicab'"
          ],
          [
           "'taxicab'"
          ],
          [
           "'taxicab'"
          ],
          [
           "'canoe'"
          ],
          [
           "'canoe'"
          ],
          [
           "'cheetah'"
          ],
          [
           "'cheetah'"
          ],
          [
           "'chetah'"
          ],
          [
           "'chetah'"
          ],
          [
           "'drop'"
          ],
          [
           "'drop'"
          ],
          [
           "'drop-off'"
          ],
          [
           "'drop-off'"
          ],
          [
           "'drop-off'"
          ],
          [
           "'drop-off'"
          ],
          [
           "'cougar'"
          ],
          [
           "'cougar'"
          ],
          [
           "'cougar'"
          ],
          [
           "'puma'"
          ],
          [
           "'puma'"
          ],
          [
           "'panther'"
          ],
          [
           "'cup'"
          ],
          [
           "'cup'"
          ],
          [
           "'file'"
          ],
          [
           "'file'"
          ],
          [
           "'freight car'"
          ],
          [
           "'freight car'"
          ],
          [
           "'freight car'"
          ],
          [
           "'go-kart'"
          ],
          [
           "'go-kart'"
          ],
          [
           "'go-kart'"
          ],
          [
           "'half track'"
          ],
          [
           "'half track'"
          ],
          [
           "'half track'"
          ],
          [
           "'horse cart'"
          ],
          [
           "'horse cart'"
          ],
          [
           "'horse cart'"
          ],
          [
           "'horse-cart'"
          ],
          [
           "'horse-cart'"
          ],
          [
           "'horse-cart'"
          ],
          [
           "'stone wall'"
          ],
          [
           "'stone wall'"
          ]
         ],
         "hovertemplate": "label=Automotive<br>x=%{x}<br>y=%{y}<br>items=%{customdata[0]}<extra></extra>",
         "legendgroup": "Automotive",
         "marker": {
          "color": "#EF553B",
          "symbol": "circle"
         },
         "mode": "markers",
         "name": "Automotive",
         "showlegend": true,
         "type": "scattergl",
         "x": [
          -47.635616302490234,
          -47.484771728515625,
          -42.70573043823242,
          -42.70573043823242,
          -36.86879348754883,
          3.4171674251556396,
          3.4171674251556396,
          2.774461269378662,
          -31.8172664642334,
          -37.15444564819336,
          -37.14023208618164,
          -37.15444564819336,
          -36.50633239746094,
          -45.214256286621094,
          -4.102597713470459,
          -4.102597713470459,
          -4.102597713470459,
          -4.102597713470459,
          -30.24565315246582,
          -30.24565315246582,
          -37.04433059692383,
          3.4898581504821777,
          15.455572128295898,
          -1.4993261098861694,
          -33.47775650024414,
          14.411566734313965,
          14.411566734313965,
          -51.677730560302734,
          -33.95615768432617,
          -1.2351267337799072,
          -1.2351267337799072,
          21.27486801147461,
          -46.84074020385742,
          -46.84074020385742,
          -46.84074020385742,
          -29.17496681213379,
          -29.17496681213379,
          -29.17496681213379,
          -29.17496681213379,
          -32.450679779052734,
          -3.640460729598999,
          21.138511657714844,
          22.11649513244629,
          2.5535759925842285,
          2.5535759925842285,
          51.957462310791016,
          -54.50373077392578,
          -53.82471466064453,
          -54.50373077392578,
          15.654369354248047,
          15.654369354248047,
          14.971397399902344,
          14.971397399902344,
          14.971397399902344,
          -44.5089111328125,
          -38.066436767578125,
          -56.10308837890625,
          -56.31761932373047,
          -30.117765426635742,
          -30.117765426635742,
          -30.117765426635742,
          -34.829566955566406,
          -39.183414459228516,
          -39.183414459228516,
          -39.183414459228516,
          -44.529930114746094,
          -44.529930114746094,
          -44.529930114746094,
          -44.85199737548828,
          -44.529930114746094,
          -42.78298568725586,
          -14.866551399230957,
          -27.117033004760742,
          -27.117033004760742,
          -27.117033004760742,
          3.391951322555542,
          3.391951322555542,
          3.391951322555542,
          3.391951322555542,
          3.391951322555542,
          45.17250061035156,
          10.476856231689453,
          10.476856231689453,
          14.623872756958008,
          9.67096996307373,
          9.204859733581543,
          -7.831051349639893,
          -7.831051349639893,
          4.201385974884033,
          31.82974624633789,
          32.07109832763672,
          31.82974624633789,
          -52.20970153808594,
          -52.20970153808594,
          39.55913543701172,
          39.55913543701172,
          -52.41465759277344,
          -55.67982864379883,
          -55.255062103271484,
          -22.294456481933594,
          -22.294456481933594,
          -0.8753077983856201,
          0.13309548795223236,
          -0.1559746265411377,
          35.78059387207031,
          35.78059387207031,
          35.78059387207031,
          50.151424407958984,
          50.151424407958984,
          15.367576599121094,
          -47.08903884887695,
          3.544231653213501,
          -4.044075012207031,
          -4.044075012207031,
          -90.0094223022461,
          -17.149646759033203,
          -63.22677230834961,
          -63.22677230834961,
          -63.22677230834961,
          5.266953468322754,
          36.34096908569336,
          -20.056631088256836,
          -47.49689865112305,
          -68.73481750488281,
          -68.14486694335938,
          -63.347164154052734,
          13.199419975280762,
          1.929060697555542,
          1.929060697555542,
          -58.84867477416992,
          -75.40158081054688,
          -85.51815032958984,
          -75.95339965820312,
          -82.37657928466797,
          -13.93410873413086,
          -14.757722854614258,
          -10.376672744750977,
          -12.681766510009766,
          5.365838527679443,
          -19.463581085205078,
          5.529101848602295,
          5.529101848602295,
          26.25843048095703,
          26.25879669189453,
          -28.867212295532227,
          -9.721190452575684,
          -49.042510986328125,
          -49.042510986328125,
          -48.44382858276367,
          -48.44382858276367,
          8.238631248474121,
          8.415221214294434,
          -22.86117935180664,
          -48.8891487121582,
          -48.8891487121582,
          -48.8891487121582,
          -57.41704177856445,
          -58.0029296875,
          -72.10382843017578,
          -72.10382843017578,
          -21.143110275268555,
          -21.143110275268555,
          -49.961299896240234,
          34.960914611816406,
          32.208343505859375,
          -5.4521074295043945,
          40.7816162109375,
          4.2238287925720215,
          69.81221771240234,
          53.46454620361328,
          18.57999038696289,
          73.51924896240234,
          72.07722473144531,
          7.78360652923584,
          7.7789130210876465,
          -50.494354248046875,
          40.327056884765625,
          32.301876068115234,
          -63.08486557006836,
          -63.08486557006836,
          -24.160045623779297,
          -24.160045623779297,
          -28.625362396240234,
          -28.625362396240234,
          -79.61831665039062,
          -76.32587432861328,
          -11.556514739990234,
          -11.556514739990234,
          -84.54087829589844,
          -66.89432525634766,
          81.5933609008789,
          47.09066390991211,
          47.09066390991211,
          47.09066390991211,
          -8.765008926391602,
          -30.71310806274414,
          -59.591007232666016,
          -12.366535186767578,
          -2.3435232639312744,
          -63.69316864013672,
          -15.089394569396973,
          -16.857419967651367,
          -82.73255157470703,
          -82.73255157470703,
          -26.425355911254883,
          -26.425355911254883,
          -6.509910583496094,
          -1.5146129131317139,
          -27.018943786621094,
          -27.018943786621094,
          -24.241018295288086,
          -24.241018295288086,
          43.08050537109375,
          -68.37905883789062,
          16.34040069580078,
          26.292566299438477,
          50.951881408691406,
          42.565853118896484,
          42.565853118896484,
          21.39779281616211,
          21.39779281616211,
          21.39779281616211,
          40.88560485839844,
          40.88560485839844,
          3.232866048812866,
          36.62018585205078,
          55.07128143310547,
          -65.0912857055664,
          -67.25505828857422,
          -68.77159881591797,
          44.41192626953125,
          44.422691345214844,
          52.935787200927734,
          -48.32738494873047,
          -48.32738494873047,
          -43.693538665771484,
          -43.693538665771484,
          4.441070079803467,
          36.1136474609375,
          33.62892150878906,
          34.106788635253906,
          34.106788635253906,
          34.106788635253906,
          -19.361196517944336,
          4.781077861785889,
          -24.51030158996582,
          -24.51030158996582,
          -37.23514938354492,
          -37.23514938354492,
          -25.785524368286133,
          -5.405829429626465,
          -33.93354034423828,
          -34.05081558227539,
          -6.370796203613281,
          -6.121850490570068,
          -41.39586639404297,
          -42.61050033569336,
          68.09033203125,
          -73.77355194091797,
          -73.77361297607422,
          64.07086944580078,
          5.573642253875732,
          51.17218780517578,
          10.076251983642578,
          10.076251983642578,
          37.37746810913086,
          4.629292964935303,
          -6.503322124481201,
          -6.628964900970459,
          -7.032687664031982,
          78.05661010742188,
          78.05661010742188,
          -58.233848571777344,
          -58.233848571777344,
          34.80287551879883,
          34.2901496887207,
          18.832109451293945,
          18.832109451293945,
          18.832109451293945,
          -44.407100677490234,
          -45.18730545043945,
          -82.11485290527344,
          16.275043487548828,
          16.275043487548828,
          16.275043487548828,
          15.591085433959961,
          -36.85755920410156,
          27.41625213623047,
          37.392066955566406,
          30.7152099609375,
          30.7152099609375,
          30.7152099609375,
          -54.181636810302734,
          -49.32730484008789,
          -43.38005828857422,
          -84.30034637451172,
          3.581724166870117,
          3.581724166870117,
          3.581724166870117,
          17.174949645996094,
          17.174949645996094,
          17.174949645996094,
          -41.01628112792969,
          -71.96465301513672,
          44.95833206176758,
          28.12405776977539,
          28.12405776977539,
          28.12405776977539,
          -34.87241744995117,
          1.5894075632095337,
          -1.4305086135864258,
          -1.4435447454452515,
          1.1487667560577393,
          19.266525268554688,
          -1.7525866031646729,
          -61.24298095703125,
          7.156443119049072,
          -1.4472782611846924,
          -20.643245697021484,
          18.268720626831055,
          -62.557044982910156,
          -60.76095199584961,
          -60.76095962524414,
          -31.68020248413086,
          -31.68020248413086,
          -33.49110794067383,
          -33.491004943847656,
          -30.55152130126953,
          -30.55152130126953,
          -32.281124114990234,
          -32.281124114990234,
          -24.2626953125,
          -24.2626953125,
          -19.548372268676758,
          -19.548324584960938,
          -35.7481803894043,
          -35.7481803894043,
          -43.09777069091797,
          -42.97296142578125,
          3.503101110458374,
          3.3427062034606934,
          -51.4979248046875,
          -51.498165130615234,
          -65.0114517211914,
          -65.0114517211914,
          -23.573001861572266,
          -23.573001861572266,
          4.072452068328857,
          4.98492956161499,
          4.072452068328857,
          4.072452068328857,
          4.890476703643799,
          -38.571231842041016,
          6.029943943023682,
          6.030122756958008,
          16.722681045532227,
          17.0848445892334,
          18.86293601989746,
          18.86293601989746,
          18.72985076904297,
          18.148469924926758,
          8.661314010620117,
          8.661314010620117,
          21.289018630981445,
          21.289018630981445,
          22.34893035888672,
          21.77812385559082,
          21.45671844482422,
          21.872732162475586,
          21.872732162475586,
          17.80081558227539,
          18.460493087768555,
          18.166934967041016,
          18.460493087768555,
          21.82377052307129,
          22.7219181060791,
          21.82377052307129,
          23.136062622070312,
          23.136062622070312,
          22.496196746826172,
          20.045475006103516,
          19.450428009033203,
          19.623416900634766,
          20.513721466064453,
          -28.059621810913086,
          -28.059621810913086,
          30.293107986450195,
          -34.616519927978516,
          -34.003665924072266,
          -34.570594787597656,
          -34.003665924072266,
          31.098329544067383,
          31.098329544067383,
          36.65521240234375,
          -40.99580383300781,
          -22.552204132080078,
          -22.551883697509766,
          -30.32009506225586,
          -30.320236206054688,
          -29.581005096435547,
          -29.581005096435547,
          -11.816112518310547,
          -11.816112518310547,
          -21.114093780517578,
          -21.11409568786621,
          -8.084271430969238,
          -8.084247589111328,
          -42.50075912475586,
          -42.25956726074219,
          -42.25956726074219,
          34.27251434326172,
          8.788795471191406,
          8.622658729553223,
          9.441905975341797,
          9.152235984802246,
          9.634110450744629,
          10.307415008544922,
          9.948955535888672,
          10.496277809143066,
          14.05956745147705,
          14.05956745147705,
          14.05956745147705,
          14.05956745147705,
          14.717662811279297,
          14.717662811279297,
          -10.883023262023926,
          -10.883023262023926,
          38.797672271728516,
          -0.5847361087799072,
          -0.5847361087799072,
          32.56325912475586,
          -81.64484405517578,
          -81.64484405517578,
          -28.43562126159668,
          -28.435604095458984,
          -31.809017181396484,
          -31.8088321685791,
          -32.38338851928711,
          20.944494247436523,
          20.68899154663086,
          20.592132568359375,
          -0.8922650218009949,
          -0.8933491706848145,
          -2.658689022064209,
          -2.7726449966430664,
          -2.215592384338379,
          -2.167903184890747,
          47.788055419921875,
          47.78847885131836,
          47.3111572265625,
          47.3111572265625,
          -37.88814926147461,
          -37.888431549072266,
          21.90685272216797,
          21.716489791870117,
          21.90685272216797,
          89.10391998291016,
          -41.046443939208984,
          -41.30733871459961,
          -41.30733871459961,
          -40.09020233154297,
          -39.41032791137695,
          -40.42953872680664,
          -39.92020797729492,
          -39.51180648803711,
          -44.310184478759766,
          -44.310184478759766,
          -44.310184478759766,
          -46.04530334472656,
          -46.04530334472656,
          -46.04530334472656,
          -32.43901062011719,
          23.4891414642334,
          23.4891414642334,
          23.4891414642334,
          23.4891414642334,
          -84.75432586669922,
          -84.75432586669922,
          -46.12286376953125,
          -46.12273406982422,
          -37.214683532714844,
          -37.214683532714844,
          -37.214683532714844,
          -38.39389419555664,
          -38.67234802246094,
          -38.39389419555664,
          -38.84160614013672,
          -38.84160614013672,
          -38.572513580322266,
          -38.572513580322266,
          29.660694122314453,
          29.660694122314453,
          3.426541328430176,
          -35.004783630371094,
          -35.005126953125,
          5.396785736083984,
          5.396785736083984,
          6.200295448303223,
          5.619017601013184,
          -4.710697174072266,
          -4.710798740386963,
          -11.393449783325195,
          -11.393449783325195,
          -9.129081726074219,
          -9.129081726074219,
          -9.129081726074219,
          -9.129081726074219,
          -6.997569561004639,
          -6.997464179992676,
          14.582979202270508,
          14.582979202270508,
          14.259058952331543,
          -20.696374893188477,
          -20.696090698242188,
          -35.54853439331055,
          -35.56768035888672,
          -35.950660705566406,
          -35.31522750854492,
          -35.32734680175781,
          24.6767520904541,
          25.860748291015625,
          26.42089080810547,
          26.42089080810547,
          26.56201934814453,
          28.80974769592285,
          28.80974769592285,
          28.797805786132812,
          28.80974769592285,
          48.45494079589844,
          37.2104606628418,
          37.2104606628418,
          20.076173782348633,
          20.07590103149414,
          25.90391731262207,
          -42.79228973388672,
          -42.6287956237793,
          -42.198055267333984,
          35.15449142456055,
          35.114444732666016,
          35.114444732666016,
          32.9654655456543,
          32.9654655456543,
          6.063413143157959,
          6.063413143157959,
          6.063413143157959,
          5.133763313293457,
          5.133763313293457,
          6.420506954193115,
          6.420632839202881,
          10.348183631896973,
          10.348183631896973,
          9.588018417358398,
          9.115592956542969,
          8.589651107788086,
          -10.65140438079834,
          -25.646610260009766,
          -25.64664077758789,
          -1.8557379245758057,
          9.794891357421875,
          9.349592208862305,
          9.578147888183594,
          8.745262145996094,
          -2.6035914421081543,
          -2.6035914421081543,
          10.326129913330078,
          10.326129913330078,
          10.306632995605469,
          13.502391815185547,
          13.189565658569336,
          13.022115707397461,
          12.199132919311523,
          11.695998191833496,
          11.695998191833496,
          12.199132919311523,
          12.68215274810791,
          12.512112617492676,
          12.512112617492676,
          12.565685272216797,
          16.85600471496582,
          16.87538719177246,
          17.358224868774414,
          -40.77546310424805,
          -40.77546310424805,
          -14.072831153869629,
          -14.072831153869629,
          -0.3173195421695709,
          -0.3173195421695709,
          42.30452346801758,
          -20.425189971923828,
          -20.423397064208984,
          -72.65178680419922,
          -72.65178680419922,
          -29.448078155517578,
          -29.447980880737305,
          -53.64495086669922,
          -53.64495086669922,
          21.161712646484375,
          21.161712646484375,
          21.161712646484375,
          -55.561275482177734,
          -3.568032741546631,
          -3.568032741546631,
          -41.22758102416992,
          -41.2275390625,
          -46.74067687988281,
          -46.74067687988281,
          -45.95685958862305,
          -45.95682144165039,
          -45.627079010009766,
          -45.627079010009766,
          -42.985984802246094,
          -42.98601150512695,
          -53.420101165771484,
          -53.420101165771484,
          -3.8262674808502197,
          -3.8262338638305664,
          -55.070709228515625,
          -55.070709228515625,
          -55.070709228515625,
          -55.070709228515625,
          -54.566219329833984,
          -54.566219329833984,
          -54.566219329833984,
          -54.566219329833984,
          -54.566219329833984,
          -47.500892639160156,
          -49.68275833129883,
          -26.37655258178711,
          -26.378337860107422,
          -3.761923313140869,
          -3.3540592193603516,
          -4.078265190124512,
          -3.6790525913238525,
          -0.687684953212738,
          -0.8838933706283569,
          -1.541512131690979,
          -1.541512131690979,
          0.7689248323440552,
          0.7689248323440552,
          0.27723100781440735,
          0.27723100781440735,
          -69.9167709350586,
          -70.07259368896484,
          -68.67853546142578,
          -68.67853546142578,
          -9.018149375915527,
          -9.018149375915527,
          -9.650589942932129,
          -9.650589942932129,
          -7.935835838317871,
          -7.935835838317871,
          -7.935835838317871,
          -7.935835838317871,
          -49.405513763427734,
          -49.51958084106445,
          -49.63142013549805,
          -67.04251098632812,
          -67.04317474365234,
          -68.66246795654297,
          -5.387052059173584,
          -5.387052059173584,
          -45.957210540771484,
          -45.957210540771484,
          14.679033279418945,
          14.679033279418945,
          14.679033279418945,
          -39.59968566894531,
          -39.59968566894531,
          -39.59968566894531,
          25.576013565063477,
          25.57367515563965,
          25.629106521606445,
          11.019356727600098,
          12.07583999633789,
          12.07583999633789,
          11.060663223266602,
          11.671974182128906,
          12.11279296875,
          -1.6037667989730835,
          -1.6036027669906616
         ],
         "xaxis": "x",
         "y": [
          -10.732236862182617,
          -9.886748313903809,
          -7.6952714920043945,
          -7.6952714920043945,
          52.170509338378906,
          52.89265823364258,
          52.89265823364258,
          52.886016845703125,
          -19.332935333251953,
          -32.984657287597656,
          -32.33894729614258,
          -32.984657287597656,
          -33.059547424316406,
          -19.537147521972656,
          44.764251708984375,
          44.764251708984375,
          44.764251708984375,
          44.764251708984375,
          -25.57901382446289,
          -25.57901382446289,
          50.94663619995117,
          -58.0759391784668,
          -68.63490295410156,
          51.094627380371094,
          -17.51226806640625,
          -67.77351379394531,
          -67.77351379394531,
          42.5899543762207,
          -20.05794906616211,
          -71.89249420166016,
          -71.89249420166016,
          -74.63898468017578,
          -5.236631393432617,
          -5.236631393432617,
          -5.236631393432617,
          51.2418327331543,
          51.2418327331543,
          51.2418327331543,
          51.2418327331543,
          -35.502079010009766,
          48.72267150878906,
          -76.33056640625,
          -76.53900146484375,
          57.87274169921875,
          57.87274169921875,
          -61.332183837890625,
          55.50407409667969,
          55.51578140258789,
          55.50407409667969,
          -71.74099731445312,
          -71.74099731445312,
          -72.58882904052734,
          -72.58882904052734,
          -72.58882904052734,
          -14.798664093017578,
          52.13939666748047,
          -6.414389133453369,
          -3.6096630096435547,
          -14.43092155456543,
          -14.43092155456543,
          -14.43092155456543,
          -25.918113708496094,
          46.69572448730469,
          46.69572448730469,
          46.69572448730469,
          -22.86459732055664,
          -22.86459732055664,
          -22.86459732055664,
          -22.092723846435547,
          -22.86459732055664,
          -21.74921226501465,
          33.49440002441406,
          -10.344602584838867,
          -10.344602584838867,
          -10.344602584838867,
          -73.06654357910156,
          -73.06654357910156,
          -73.06654357910156,
          -73.06654357910156,
          -73.06654357910156,
          -48.43940353393555,
          -68.99092102050781,
          -68.99092102050781,
          18.538131713867188,
          34.858192443847656,
          34.481040954589844,
          33.30510711669922,
          33.30510711669922,
          29.700040817260742,
          -64.876708984375,
          -65.78617858886719,
          -64.876708984375,
          -4.117898941040039,
          -4.117898941040039,
          -70.10279083251953,
          -70.10279083251953,
          -8.176342010498047,
          -10.120226860046387,
          -7.398446559906006,
          4.55756139755249,
          4.55756139755249,
          37.365474700927734,
          46.807247161865234,
          47.351314544677734,
          -62.36076354980469,
          -62.36076354980469,
          -62.36076354980469,
          -62.10021209716797,
          -62.10021209716797,
          -61.76958465576172,
          -19.04395294189453,
          41.84524154663086,
          40.976051330566406,
          40.976051330566406,
          -25.19088363647461,
          37.90272903442383,
          26.116500854492188,
          26.116500854492188,
          26.116500854492188,
          35.640193939208984,
          62.3654899597168,
          -25.755752563476562,
          -26.196359634399414,
          26.037002563476562,
          26.97395133972168,
          24.22765350341797,
          14.644429206848145,
          34.418704986572266,
          34.418704986572266,
          -18.510868072509766,
          -45.04011917114258,
          2.689516305923462,
          -43.74007034301758,
          -34.920623779296875,
          13.805013656616211,
          5.913298606872559,
          7.178158283233643,
          6.23037576675415,
          0.32447993755340576,
          10.130316734313965,
          -5.996306419372559,
          -5.996306419372559,
          -18.993560791015625,
          -18.99385643005371,
          27.416622161865234,
          21.000354766845703,
          -22.327972412109375,
          -22.327972412109375,
          -22.348329544067383,
          -22.348329544067383,
          12.274115562438965,
          13.262763023376465,
          -2.5690290927886963,
          -18.260683059692383,
          -18.260683059692383,
          -18.260683059692383,
          30.043006896972656,
          26.694700241088867,
          50.05770492553711,
          50.05770492553711,
          32.27661895751953,
          32.27661895751953,
          52.45210266113281,
          73.43550872802734,
          73.87135314941406,
          30.34688949584961,
          -21.119592666625977,
          4.551782131195068,
          -32.869449615478516,
          -18.114700317382812,
          -13.39004135131836,
          -32.0563850402832,
          -33.29080581665039,
          40.79654312133789,
          40.80870056152344,
          46.46742248535156,
          23.326980590820312,
          51.72218322753906,
          -56.860076904296875,
          -56.860076904296875,
          -74.21502685546875,
          -74.21502685546875,
          -86.8438720703125,
          -86.8438720703125,
          -17.576431274414062,
          -16.35127067565918,
          32.81345748901367,
          32.81345748901367,
          -26.24339485168457,
          -33.53617477416992,
          2.2716100215911865,
          -45.19319152832031,
          -45.19319152832031,
          -45.19319152832031,
          -21.527423858642578,
          46.65432357788086,
          20.6678524017334,
          41.99851608276367,
          56.490684509277344,
          -0.6020660996437073,
          -25.614986419677734,
          -27.370380401611328,
          12.742239952087402,
          12.742239952087402,
          -14.54818058013916,
          -14.54818058013916,
          37.80321502685547,
          -21.93109703063965,
          -0.8739100694656372,
          -0.8739100694656372,
          -12.286214828491211,
          -12.286214828491211,
          33.61226272583008,
          44.66834259033203,
          30.608991622924805,
          -23.6722469329834,
          28.32106590270996,
          -59.53326416015625,
          -59.53326416015625,
          -69.40673828125,
          -69.40673828125,
          -69.40673828125,
          -59.147666931152344,
          -59.147666931152344,
          48.164268493652344,
          -47.185359954833984,
          -36.85773849487305,
          21.83491325378418,
          19.439085006713867,
          19.284114837646484,
          -32.50115966796875,
          -32.499168395996094,
          -41.8404426574707,
          -45.957763671875,
          -45.957763671875,
          -55.74658203125,
          -55.74658203125,
          -61.370094299316406,
          -56.597015380859375,
          -61.435001373291016,
          -60.66825485229492,
          -60.66825485229492,
          -60.66825485229492,
          -67.55830383300781,
          -73.6825942993164,
          -7.935461044311523,
          -7.935461044311523,
          -3.1341753005981445,
          -3.1341753005981445,
          -8.231176376342773,
          87.84454345703125,
          -27.11751937866211,
          -27.924129486083984,
          -13.742558479309082,
          -13.633721351623535,
          39.45843505859375,
          38.79248809814453,
          -34.919761657714844,
          23.077320098876953,
          23.07736587524414,
          -39.03032684326172,
          -26.96293830871582,
          -11.806191444396973,
          38.62044906616211,
          38.62044906616211,
          63.65541458129883,
          -75.02857971191406,
          50.447383880615234,
          52.84135437011719,
          52.189430236816406,
          43.29436492919922,
          43.29436492919922,
          -7.474438190460205,
          -7.474438190460205,
          78.50870513916016,
          78.17049407958984,
          -80.40957641601562,
          -80.40957641601562,
          -80.40957641601562,
          -15.173797607421875,
          -19.36123275756836,
          -14.91490364074707,
          99.77764892578125,
          99.77764892578125,
          99.77764892578125,
          99.30622100830078,
          -27.564363479614258,
          -61.061283111572266,
          80.39654541015625,
          -58.64942169189453,
          -58.64942169189453,
          -58.64942169189453,
          53.619571685791016,
          46.692665100097656,
          -18.961463928222656,
          -38.72557830810547,
          87.70201873779297,
          87.70201873779297,
          87.70201873779297,
          -75.84330749511719,
          -75.84330749511719,
          -75.84330749511719,
          -53.376625061035156,
          12.547348976135254,
          -21.78455352783203,
          -75.89022827148438,
          -75.89022827148438,
          -75.89022827148438,
          -19.587520599365234,
          -57.45112991333008,
          -54.55335235595703,
          -54.55533218383789,
          -59.699867248535156,
          -14.787921905517578,
          -72.31109619140625,
          10.329327583312988,
          -23.032609939575195,
          85.08439636230469,
          0.5619574785232544,
          12.338805198669434,
          5.11164665222168,
          -77.06597900390625,
          -77.06608581542969,
          -64.17662811279297,
          -64.17662811279297,
          -83.80055236816406,
          -83.80011749267578,
          -74.67266845703125,
          -74.67266845703125,
          -47.29108810424805,
          -47.29108810424805,
          -73.07383728027344,
          -73.07383728027344,
          -74.71186828613281,
          -74.71086883544922,
          -57.772029876708984,
          -57.772029876708984,
          -61.20027542114258,
          -60.781917572021484,
          -54.10792541503906,
          -53.875572204589844,
          -56.48415756225586,
          -56.484371185302734,
          -79.34944915771484,
          -79.34944915771484,
          -55.90746307373047,
          -55.90746307373047,
          -70.85736846923828,
          -70.66962432861328,
          -70.85736846923828,
          -70.85736846923828,
          -71.42681121826172,
          59.11890411376953,
          -49.628150939941406,
          -49.628150939941406,
          -53.72589874267578,
          -53.668426513671875,
          -51.997989654541016,
          -51.997989654541016,
          -51.26129150390625,
          -51.653343200683594,
          -50.911048889160156,
          -50.911048889160156,
          -56.589813232421875,
          -56.589813232421875,
          -56.529930114746094,
          -55.86911392211914,
          -62.79460525512695,
          -63.22591018676758,
          -63.22591018676758,
          -59.384056091308594,
          -59.059024810791016,
          -59.88153076171875,
          -59.059024810791016,
          -58.31985092163086,
          -58.282962799072266,
          -58.31985092163086,
          -62.02777862548828,
          -62.02777862548828,
          -61.49711990356445,
          -59.88134002685547,
          -61.019859313964844,
          -60.37409973144531,
          -60.3882942199707,
          -18.318702697753906,
          -18.318702697753906,
          -66.3137435913086,
          -21.29880714416504,
          -21.511459350585938,
          -21.757596969604492,
          -21.511459350585938,
          85.47846221923828,
          85.47846221923828,
          42.0016975402832,
          -26.089466094970703,
          -40.21562957763672,
          -40.21646499633789,
          -26.567821502685547,
          -26.56800651550293,
          -21.90523910522461,
          -21.90523910522461,
          0.9170664548873901,
          0.9170664548873901,
          30.71269989013672,
          30.712717056274414,
          -61.08929443359375,
          -61.08936309814453,
          -9.042533874511719,
          -9.651442527770996,
          -9.651442527770996,
          60.66975402832031,
          -73.15365600585938,
          -73.63736724853516,
          -73.58348846435547,
          -73.99268341064453,
          -71.9475326538086,
          -72.36676025390625,
          -71.63468170166016,
          -71.92581176757812,
          -71.2175064086914,
          -71.2175064086914,
          -71.2175064086914,
          -71.2175064086914,
          -56.73712158203125,
          -56.73712158203125,
          -2.263951539993286,
          -2.263951539993286,
          -21.899259567260742,
          -8.125216484069824,
          -8.125216484069824,
          -41.12192153930664,
          13.129761695861816,
          13.129761695861816,
          -53.421878814697266,
          -53.42190933227539,
          -35.271854400634766,
          -35.27133560180664,
          -31.78891372680664,
          -48.630306243896484,
          -49.49776077270508,
          -46.49720001220703,
          -70.19756317138672,
          -70.19893646240234,
          -70.11421966552734,
          -69.51905822753906,
          -69.84054565429688,
          -69.30329895019531,
          41.210540771484375,
          41.21025466918945,
          39.782649993896484,
          39.782649993896484,
          -8.762454986572266,
          -8.762621879577637,
          -73.39112091064453,
          -73.3519287109375,
          -73.39112091064453,
          8.05766487121582,
          -21.86234474182129,
          -22.21218490600586,
          -22.21218490600586,
          -23.88482093811035,
          -24.424348831176758,
          -24.352741241455078,
          -24.71600341796875,
          -23.800128936767578,
          -27.317325592041016,
          -27.317325592041016,
          -27.317325592041016,
          -29.44713020324707,
          -29.44713020324707,
          -29.44713020324707,
          -31.743520736694336,
          -76.7854995727539,
          -76.7854995727539,
          -76.7854995727539,
          -76.7854995727539,
          19.114004135131836,
          19.114004135131836,
          6.126049518585205,
          6.126021385192871,
          -16.223054885864258,
          -16.223054885864258,
          -16.223054885864258,
          -17.03110694885254,
          -16.544509887695312,
          -17.03110694885254,
          -14.731867790222168,
          -14.731867790222168,
          -13.295797348022461,
          -13.295797348022461,
          -44.800086975097656,
          -44.800086975097656,
          -58.04981994628906,
          -41.88351058959961,
          -41.88383102416992,
          -55.497764587402344,
          -55.497764587402344,
          -54.93064880371094,
          -54.7182731628418,
          -51.465457916259766,
          -51.465396881103516,
          -70.31399536132812,
          -70.31399536132812,
          -70.15568542480469,
          -70.15568542480469,
          -70.15568542480469,
          -70.15568542480469,
          -2.4702818393707275,
          -2.4703123569488525,
          -48.77430725097656,
          -48.77430725097656,
          -48.18505096435547,
          -34.02400207519531,
          -34.026859283447266,
          -31.913183212280273,
          -31.567903518676758,
          -31.45796012878418,
          -29.016237258911133,
          -28.892473220825195,
          -83.05901336669922,
          -84.29013061523438,
          -83.59819030761719,
          -83.59819030761719,
          -84.48806762695312,
          -84.17613983154297,
          -84.17613983154297,
          -83.43426513671875,
          -84.17613983154297,
          27.366424560546875,
          84.1569595336914,
          84.1569595336914,
          -68.5595703125,
          -68.56024169921875,
          -25.481075286865234,
          -33.656612396240234,
          -33.04139709472656,
          -33.50437927246094,
          -34.373008728027344,
          -37.041160583496094,
          -37.041160583496094,
          -36.18644714355469,
          -36.18644714355469,
          -60.7755126953125,
          -60.7755126953125,
          -60.7755126953125,
          -65.49398803710938,
          -65.49398803710938,
          -64.29586029052734,
          -64.29596710205078,
          -59.198429107666016,
          -59.198429107666016,
          -59.617977142333984,
          -58.27696990966797,
          -58.794639587402344,
          -13.464104652404785,
          5.9397358894348145,
          5.939546585083008,
          2.1585910320281982,
          -67.90625,
          -68.33919525146484,
          -68.09959411621094,
          -67.40414428710938,
          -77.43032836914062,
          -77.43032836914062,
          -64.07466125488281,
          -64.07466125488281,
          -63.320045471191406,
          -66.57490539550781,
          -66.76419830322266,
          -67.03032684326172,
          -64.18607330322266,
          -65.06454467773438,
          -65.06454467773438,
          -64.18607330322266,
          -64.83937072753906,
          -77.66992950439453,
          -77.66992950439453,
          -77.76775360107422,
          -64.9686279296875,
          -65.55847930908203,
          -65.28092193603516,
          -4.144009590148926,
          -4.144009590148926,
          -63.75940704345703,
          -63.75940704345703,
          -50.504417419433594,
          -50.504417419433594,
          34.90934753417969,
          -24.063798904418945,
          -24.064294815063477,
          51.13160705566406,
          51.13160705566406,
          -43.38652801513672,
          -43.38644790649414,
          -12.484102249145508,
          -12.484102249145508,
          -26.163192749023438,
          -26.163192749023438,
          -26.163192749023438,
          43.739837646484375,
          -2.691537380218506,
          -2.691537380218506,
          20.405820846557617,
          20.405925750732422,
          0.9523226022720337,
          0.9523226022720337,
          2.99027419090271,
          2.990267038345337,
          9.75751781463623,
          9.75751781463623,
          9.528833389282227,
          9.528759002685547,
          4.797855854034424,
          4.797855854034424,
          8.67201042175293,
          8.672059059143066,
          47.784385681152344,
          47.784385681152344,
          47.784385681152344,
          47.784385681152344,
          45.23967361450195,
          45.23967361450195,
          45.23967361450195,
          45.23967361450195,
          45.23967361450195,
          -26.233129501342773,
          -26.46005630493164,
          -15.55975341796875,
          -15.560379981994629,
          -62.582366943359375,
          -62.1978645324707,
          -62.19902420043945,
          -61.82597351074219,
          -64.85643768310547,
          -65.43942260742188,
          -65.03886413574219,
          -65.03886413574219,
          -63.88740921020508,
          -63.88740921020508,
          -63.284664154052734,
          -63.284664154052734,
          24.289226531982422,
          24.714445114135742,
          -43.30974578857422,
          -43.30974578857422,
          -49.10692596435547,
          -49.10692596435547,
          -66.11720275878906,
          -66.11720275878906,
          -66.73454284667969,
          -66.73454284667969,
          -66.73454284667969,
          -66.73454284667969,
          -35.26811218261719,
          -35.33131408691406,
          -35.33283996582031,
          -49.08401870727539,
          -49.0842399597168,
          -46.72826385498047,
          1.5232270956039429,
          1.5232270956039429,
          61.02704620361328,
          61.02704620361328,
          -61.18720245361328,
          -61.18720245361328,
          -61.18720245361328,
          -29.387714385986328,
          -29.387714385986328,
          -29.387714385986328,
          -67.00443267822266,
          -66.99867248535156,
          -67.0685806274414,
          -54.28944778442383,
          -54.2352294921875,
          -54.2352294921875,
          -55.40991973876953,
          -56.012413024902344,
          -55.59682846069336,
          -47.63278579711914,
          -47.63264465332031
         ],
         "yaxis": "y"
        },
        {
         "customdata": [
          [
           "crane"
          ],
          [
           "cab"
          ],
          [
           "Wheel"
          ],
          [
           "pickup"
          ],
          [
           "Car"
          ],
          [
           "Air brake"
          ],
          [
           "Vehicle"
          ],
          [
           "Aircraft engine"
          ],
          [
           "seat belt"
          ],
          [
           "seat belt"
          ],
          [
           "highway"
          ],
          [
           "library"
          ],
          [
           "Book"
          ],
          [
           "Pen"
          ],
          [
           "Building"
          ],
          [
           "bullet train"
          ],
          [
           "bullet train"
          ],
          [
           "aircraft carrier"
          ],
          [
           "aircraft carrier"
          ],
          [
           "space shuttle"
          ],
          [
           "airplane_cabin"
          ],
          [
           "airplane_cabin"
          ],
          [
           "airplane_cabin"
          ],
          [
           "airplane_cabin"
          ],
          [
           "airliner"
          ],
          [
           "airliner"
          ],
          [
           "airliner"
          ],
          [
           "warplane"
          ],
          [
           "campus"
          ],
          [
           "Food"
          ],
          [
           "Chair"
          ],
          [
           "Bus"
          ],
          [
           "electric locomotive"
          ],
          [
           "bus_interior"
          ],
          [
           "bus_interior"
          ],
          [
           "bus_interior"
          ],
          [
           "Bird"
          ],
          [
           "Box"
          ],
          [
           "Clock"
          ],
          [
           "Bird flight, flapping wings"
          ],
          [
           "notebook"
          ],
          [
           "snorkel"
          ],
          [
           "snorkel"
          ],
          [
           "snorkel"
          ],
          [
           "Balloon"
          ],
          [
           "balloon"
          ],
          [
           "Suit"
          ],
          [
           "Boat, Water vehicle"
          ],
          [
           "Table"
          ],
          [
           "restaurant"
          ],
          [
           "Boiling"
          ],
          [
           "Camera"
          ],
          [
           "runway"
          ],
          [
           "Backpack"
          ],
          [
           "natural_history_museum"
          ],
          [
           "Canoe"
          ],
          [
           "Canoe"
          ],
          [
           "Umbrella"
          ],
          [
           "parachute"
          ],
          [
           "parachute"
          ],
          [
           "canoe"
          ],
          [
           "canoe"
          ],
          [
           "bazaar/outdoor"
          ],
          [
           "diner/outdoor"
          ],
          [
           "cliff"
          ],
          [
           "water_park"
          ],
          [
           "park"
          ],
          [
           "church"
          ],
          [
           "coral reef"
          ],
          [
           "Starfish"
          ],
          [
           "starfish"
          ],
          [
           "Fish"
          ],
          [
           "koala"
          ],
          [
           "Drink"
          ],
          [
           "Beer"
          ],
          [
           "Coffee"
          ],
          [
           "Surfboard"
          ],
          [
           "Surfboard"
          ],
          [
           "Snowboard"
          ],
          [
           "Musical instrument"
          ],
          [
           "pot"
          ],
          [
           "coffeepot"
          ],
          [
           "House"
          ],
          [
           "house"
          ],
          [
           "beach_house"
          ],
          [
           "Pembroke"
          ],
          [
           "Polar bear"
          ],
          [
           "Falcon"
          ],
          [
           "toucan"
          ],
          [
           "toucan"
          ],
          [
           "macaw"
          ],
          [
           "Siamese cat"
          ],
          [
           "Siamese cat"
          ],
          [
           "Dog bed"
          ],
          [
           "ox"
          ],
          [
           "African crocodile"
          ],
          [
           "African chameleon"
          ],
          [
           "African chameleon"
          ],
          [
           "agama"
          ],
          [
           "Bed"
          ],
          [
           "pasture"
          ],
          [
           "vestment"
          ],
          [
           "Cart"
          ],
          [
           "Kite"
          ],
          [
           "Kite"
          ],
          [
           "swing"
          ],
          [
           "Toy"
          ],
          [
           "Bathroom cabinet"
          ],
          [
           "Woman"
          ],
          [
           "Luggage and bags"
          ],
          [
           "wallet"
          ],
          [
           "purse"
          ],
          [
           "necklace"
          ],
          [
           "Necklace"
          ],
          [
           "bathroom"
          ],
          [
           "Towel"
          ],
          [
           "bath towel"
          ],
          [
           "bath towel"
          ],
          [
           "Scarf"
          ],
          [
           "bikini"
          ],
          [
           "Tripod"
          ],
          [
           "tripod"
          ],
          [
           "Polaroid camera"
          ],
          [
           "printer"
          ],
          [
           "radio"
          ],
          [
           "Palm tree"
          ],
          [
           "Suitcase"
          ],
          [
           "airport_terminal"
          ],
          [
           "airport_terminal"
          ],
          [
           "subway_station/platform"
          ],
          [
           "Taxi"
          ],
          [
           "train_station/platform"
          ],
          [
           "Train"
          ],
          [
           "seashore"
          ],
          [
           "African elephant"
          ],
          [
           "desert/sand"
          ],
          [
           "African grey"
          ],
          [
           "temple/asia"
          ],
          [
           "temple/asia"
          ],
          [
           "temple/asia"
          ],
          [
           "temple/asia"
          ],
          [
           "temple/asia"
          ],
          [
           "umbrella"
          ],
          [
           "swimming_pool/outdoor"
          ],
          [
           "lagoon"
          ],
          [
           "beach"
          ],
          [
           "beach"
          ],
          [
           "walking stick"
          ],
          [
           "sleeping bag"
          ],
          [
           "sleeping bag"
          ],
          [
           "Tent"
          ],
          [
           "Tent"
          ],
          [
           "campsite"
          ],
          [
           "campsite"
          ],
          [
           "paddlewheel"
          ],
          [
           "catamaran"
          ],
          [
           "Gondola"
          ],
          [
           "Gondola"
          ],
          [
           "European gallinule"
          ],
          [
           "European gallinule"
          ],
          [
           "gondola"
          ],
          [
           "gondola"
          ],
          [
           "gondola"
          ],
          [
           "chalet"
          ],
          [
           "hotel/outdoor"
          ],
          [
           "hotel_room"
          ],
          [
           "motel"
          ],
          [
           "motel"
          ],
          [
           "ski mask"
          ],
          [
           "ski mask"
          ],
          [
           "dogsled"
          ],
          [
           "iceberg"
          ],
          [
           "iceberg"
          ],
          [
           "steel arch bridge"
          ],
          [
           "viaduct"
          ],
          [
           "railroad_track"
          ],
          [
           "steam locomotive"
          ],
          [
           "Country"
          ],
          [
           "backpack"
          ],
          [
           "riding or walking with horse"
          ],
          [
           "yoga"
          ],
          [
           "hospital"
          ],
          [
           "Football helmet"
          ],
          [
           "ski"
          ],
          [
           "Tennis racket"
          ],
          [
           "'paddle'"
          ],
          [
           "'boat paddle'"
          ],
          [
           "'boat paddle'"
          ],
          [
           "'boat paddle'"
          ],
          [
           "'sandal'"
          ],
          [
           "sandal"
          ],
          [
           "Sandal"
          ],
          [
           "hockey"
          ],
          [
           "performance"
          ],
          [
           "shop"
          ],
          [
           "bedroom"
          ],
          [
           "coast"
          ],
          [
           "cottage"
          ],
          [
           "mountain_path"
          ],
          [
           "football"
          ],
          [
           "village"
          ],
          [
           "Fixed-wing aircraft, airplane"
          ],
          [
           "Frying (food)"
          ],
          [
           "Middle Eastern music"
          ],
          [
           "Music"
          ],
          [
           "Music of Africa"
          ],
          [
           "Music of Africa"
          ],
          [
           "Music of Asia"
          ],
          [
           "Music of Latin America"
          ],
          [
           "Opera"
          ],
          [
           "Outside, rural or natural"
          ],
          [
           "Radio"
          ],
          [
           "Rail transport"
          ],
          [
           "Railroad car, train wagon"
          ],
          [
           "Ship"
          ],
          [
           "Song"
          ],
          [
           "Subway, metro, underground"
          ],
          [
           "Tools"
          ],
          [
           "Train whistle"
          ],
          [
           "Turkey"
          ],
          [
           "motorcycling"
          ],
          [
           "golf putting"
          ],
          [
           "writing"
          ],
          [
           "barbequing"
          ],
          [
           "playing volleyball"
          ],
          [
           "playing tennis"
          ],
          [
           "jogging"
          ],
          [
           "walking the dog"
          ],
          [
           "sled dog racing"
          ],
          [
           "biking through snow"
          ],
          [
           "canoeing or kayaking"
          ],
          [
           "canoeing or kayaking"
          ],
          [
           "cooking on campfire"
          ],
          [
           "drawing"
          ],
          [
           "drinking beer"
          ],
          [
           "surfing water"
          ],
          [
           "water skiing"
          ],
          [
           "water skiing"
          ],
          [
           "water skiing"
          ],
          [
           "Person"
          ],
          [
           "Pizza"
          ],
          [
           "'World'"
          ],
          [
           "'World'"
          ],
          [
           "'International'"
          ],
          [
           "'International'"
          ],
          [
           "'International'"
          ],
          [
           "'Holiday'"
          ],
          [
           "'Holiday'"
          ],
          [
           "'Holiday'"
          ],
          [
           "'Vacation'"
          ],
          [
           "'Road'"
          ],
          [
           "'Living'"
          ],
          [
           "'Travel'"
          ],
          [
           "'Transportation'"
          ],
          [
           "'Residence'"
          ],
          [
           "Sea turtle"
          ],
          [
           "Sea turtle"
          ],
          [
           "Football"
          ],
          [
           "Volleyball"
          ],
          [
           "Volleyball"
          ],
          [
           "Sun hat"
          ],
          [
           "Tree house"
          ],
          [
           "Salt and pepper shakers"
          ],
          [
           "Table tennis racket"
          ],
          [
           "Pasta"
          ],
          [
           "Watch"
          ],
          [
           "Cat furniture"
          ],
          [
           "'African chameleon'"
          ],
          [
           "'African chameleon'"
          ],
          [
           "'African grey'"
          ],
          [
           "'African grey'"
          ],
          [
           "'African gray'"
          ],
          [
           "'African gray'"
          ],
          [
           "'Afghan'"
          ],
          [
           "'Afghan'"
          ],
          [
           "'Afghan'"
          ],
          [
           "'cairn'"
          ],
          [
           "'Australian terrier'"
          ],
          [
           "'Australian terrier'"
          ],
          [
           "'Siamese cat'"
          ],
          [
           "'Siamese cat'"
          ],
          [
           "'Siamese'"
          ],
          [
           "'Siamese'"
          ],
          [
           "'Panthera tigris'"
          ],
          [
           "'ice bear'"
          ],
          [
           "'ice bear'"
          ],
          [
           "'polar bear'"
          ],
          [
           "'polar bear'"
          ],
          [
           "'Ursus Maritimus'"
          ],
          [
           "'Ursus Maritimus'"
          ],
          [
           "'backpack'"
          ],
          [
           "'back pack'"
          ],
          [
           "'back pack'"
          ],
          [
           "'back pack'"
          ],
          [
           "'packsack'"
          ],
          [
           "'rucksack'"
          ],
          [
           "'rucksack'"
          ],
          [
           "'haversack'"
          ],
          [
           "'beach wagon'"
          ],
          [
           "'estate car'"
          ],
          [
           "'beach waggon'"
          ],
          [
           "'station waggon'"
          ],
          [
           "'waggon'"
          ],
          [
           "'bikini'"
          ],
          [
           "'bullet train'"
          ],
          [
           "'bullet train'"
          ],
          [
           "'hair dryer'"
          ],
          [
           "'hair drier'"
          ],
          [
           "'mitten'"
          ],
          [
           "'mountain tent'"
          ],
          [
           "'mountain tent'"
          ],
          [
           "'jammies'"
          ],
          [
           "'carriage'"
          ],
          [
           "'pier'"
          ],
          [
           "'planetarium'"
          ],
          [
           "'Polaroid camera'"
          ],
          [
           "'Polaroid camera'"
          ],
          [
           "'Polaroid Land camera'"
          ],
          [
           "'Polaroid Land camera'"
          ],
          [
           "'RV'"
          ],
          [
           "'snowmobile'"
          ],
          [
           "'spot'"
          ],
          [
           "'streetcar'"
          ],
          [
           "'tram'"
          ],
          [
           "'trolley'"
          ],
          [
           "'trolley'"
          ],
          [
           "'trolley car'"
          ],
          [
           "'swimming trunks'"
          ],
          [
           "'bathing trunks'"
          ],
          [
           "'rig'"
          ],
          [
           "'tripod'"
          ],
          [
           "'vacuum'"
          ],
          [
           "'wallet'"
          ],
          [
           "'warplane'"
          ],
          [
           "'military plane'"
          ],
          [
           "'yurt'"
          ],
          [
           "'ice lolly'"
          ],
          [
           "'ice lolly'"
          ],
          [
           "'popsicle'"
          ],
          [
           "'popsicle'"
          ],
          [
           "'pretzel'"
          ],
          [
           "'lakeside'"
          ],
          [
           "'lakeshore'"
          ],
          [
           "'sandbar'"
          ],
          [
           "'sand bar'"
          ],
          [
           "'seashore'"
          ],
          [
           "'coast'"
          ],
          [
           "'seacoast'"
          ],
          [
           "'sea-coast'"
          ],
          [
           "Water"
          ],
          [
           "kissing"
          ],
          [
           "ice fishing"
          ],
          [
           "ice fishing"
          ],
          [
           "ice fishing"
          ],
          [
           "Writing"
          ],
          [
           "texting"
          ],
          [
           "'Arctic fox'"
          ],
          [
           "'Arctic fox'"
          ],
          [
           "'bathing cap'"
          ],
          [
           "'taxi'"
          ],
          [
           "'canoe'"
          ],
          [
           "'cliff dwelling'"
          ],
          [
           "'dock'"
          ],
          [
           "'dogsled'"
          ],
          [
           "'dog sled'"
          ],
          [
           "'dog sled'"
          ],
          [
           "'drilling platform'"
          ],
          [
           "'offshore rig'"
          ],
          [
           "'flagpole'"
          ],
          [
           "'flagpole'"
          ],
          [
           "'flagstaff'"
          ],
          [
           "'four-poster'"
          ],
          [
           "'hen-of-the-woods'"
          ],
          [
           "'hen of the woods'"
          ],
          [
           "'horse cart'"
          ],
          [
           "'horse-cart'"
          ],
          [
           "'Marine'"
          ],
          [
           "'steel arch bridge'"
          ]
         ],
         "hovertemplate": "label=Travel<br>x=%{x}<br>y=%{y}<br>items=%{customdata[0]}<extra></extra>",
         "legendgroup": "Travel",
         "marker": {
          "color": "#00cc96",
          "symbol": "circle"
         },
         "mode": "markers",
         "name": "Travel",
         "showlegend": true,
         "type": "scattergl",
         "x": [
          -47.93915557861328,
          3.4171674251556396,
          -4.102597713470459,
          -7.424010753631592,
          -1.4993261098861694,
          -46.84074020385742,
          -3.639237642288208,
          -56.31761932373047,
          -30.117765426635742,
          -30.117765426635742,
          45.17253112792969,
          11.961468696594238,
          8.156120300292969,
          -7.831051349639893,
          42.22521209716797,
          31.82974624633789,
          32.63556671142578,
          -52.20970153808594,
          -52.20970153808594,
          39.55913543701172,
          53.30403137207031,
          53.30403137207031,
          53.30403137207031,
          53.30403137207031,
          -51.6037712097168,
          -52.41465759277344,
          -52.41465759277344,
          -55.67982864379883,
          55.041015625,
          -1.8114206790924072,
          -1.4599196910858154,
          -0.1559746265411377,
          35.78059387207031,
          50.151424407958984,
          50.151424407958984,
          50.151424407958984,
          -79.66202545166016,
          4.124567985534668,
          31.16368293762207,
          -76.59632110595703,
          29.959671020507812,
          -52.88080978393555,
          -52.88080978393555,
          -52.88080978393555,
          -49.712589263916016,
          -48.29599380493164,
          -15.387672424316406,
          -63.22677230834961,
          5.5470967292785645,
          36.20685958862305,
          23.298124313354492,
          10.505313873291016,
          50.05908203125,
          -19.967159271240234,
          59.4508056640625,
          -67.1341781616211,
          -67.1341781616211,
          -20.056631088256836,
          -52.019256591796875,
          -52.019256591796875,
          -68.73481750488281,
          -68.73481750488281,
          67.59040069580078,
          66.75381469726562,
          -7.7452473640441895,
          58.960533142089844,
          49.83245086669922,
          47.653995513916016,
          -59.14626693725586,
          -63.22962951660156,
          -62.295013427734375,
          -80.16419982910156,
          -74.13184356689453,
          -14.152514457702637,
          -10.15319538116455,
          -13.615004539489746,
          -57.41704177856445,
          -57.41704177856445,
          -58.0029296875,
          40.167823791503906,
          -5.4521074295043945,
          -2.439566135406494,
          42.739173889160156,
          43.942665100097656,
          50.06459045410156,
          -65.56439208984375,
          -58.484188079833984,
          -79.61831665039062,
          -70.4692611694336,
          -70.46830749511719,
          -72.87996673583984,
          -71.75852966308594,
          -71.75852966308594,
          -74.52837371826172,
          -7.924685478210449,
          -67.72157287597656,
          -64.9913101196289,
          -64.9913101196289,
          55.14579391479492,
          -0.008873382583260536,
          49.73197937011719,
          19.332462310791016,
          -0.5935436487197876,
          -59.437522888183594,
          -60.196014404296875,
          -11.565936088562012,
          -2.1174278259277344,
          12.05767822265625,
          -17.618764877319336,
          -15.161128997802734,
          -5.88697624206543,
          -16.699935913085938,
          -14.944525718688965,
          -14.500033378601074,
          32.14350128173828,
          -0.6251174211502075,
          1.1554529666900635,
          1.1554529666900635,
          -14.590460777282715,
          -5.656111717224121,
          -68.37905883789062,
          -68.31415557861328,
          14.046838760375977,
          16.34040069580078,
          54.23954391479492,
          -71.77434539794922,
          -17.372682571411133,
          47.79185485839844,
          47.79185485839844,
          42.565853118896484,
          0.3397308588027954,
          40.88560485839844,
          2.6479578018188477,
          -14.040379524230957,
          -81.02763366699219,
          -2.2934610843658447,
          -61.93982696533203,
          23.608139038085938,
          23.608139038085938,
          23.608139038085938,
          23.608139038085938,
          23.608139038085938,
          -19.271690368652344,
          71.71994018554688,
          -18.031742095947266,
          47.20332717895508,
          47.1947135925293,
          -67.36763763427734,
          -19.438310623168945,
          -19.438310623168945,
          36.62018585205078,
          36.790035247802734,
          54.238685607910156,
          54.238685607910156,
          -69.04154968261719,
          -65.0912857055664,
          -67.25505828857422,
          -67.11854553222656,
          -72.22998809814453,
          -72.22998809814453,
          -68.77159881591797,
          -68.24626922607422,
          -68.2171401977539,
          44.41192626953125,
          67.53866577148438,
          78.78202819824219,
          52.935787200927734,
          52.935787200927734,
          -37.30598831176758,
          -37.30598831176758,
          -44.128910064697266,
          -55.76300048828125,
          -55.76300048828125,
          41.27199172973633,
          42.88489532470703,
          36.113548278808594,
          33.62892150878906,
          43.94859313964844,
          -20.730506896972656,
          -19.361196517944336,
          13.536168098449707,
          48.2276496887207,
          -24.51030158996582,
          -15.638605117797852,
          -5.405829429626465,
          -67.88885498046875,
          -67.69126892089844,
          -67.62492370605469,
          -67.40508270263672,
          -6.309406757354736,
          -4.596076488494873,
          -5.263965606689453,
          1.942491888999939,
          17.525955200195312,
          -22.24905776977539,
          77.2337646484375,
          -12.980266571044922,
          46.90829849243164,
          5.648038864135742,
          57.48343276977539,
          50.3234977722168,
          -58.233848571777344,
          12.968585014343262,
          84.11371612548828,
          67.67720031738281,
          82.22455596923828,
          82.22455596923828,
          88.82789611816406,
          86.79747772216797,
          13.228973388671875,
          68.3030776977539,
          55.85004425048828,
          31.06764793395996,
          27.41625213623047,
          -8.651062965393066,
          70.28540802001953,
          43.238407135009766,
          6.776512145996094,
          30.7152099609375,
          -83.0250473022461,
          -43.38005828857422,
          3.1922686100006104,
          73.28729248046875,
          20.798757553100586,
          3.604295253753662,
          7.838508605957031,
          12.216232299804688,
          -23.234560012817383,
          -41.01628112792969,
          -71.96465301513672,
          -70.77864837646484,
          -70.77864837646484,
          19.510927200317383,
          21.34880256652832,
          3.7377164363861084,
          -58.90192794799805,
          -62.315948486328125,
          -62.315948486328125,
          -62.315948486328125,
          -13.071563720703125,
          -6.37341833114624,
          -41.77518844604492,
          -41.77518844604492,
          -38.5557746887207,
          -39.022220611572266,
          -38.5557746887207,
          -38.546138763427734,
          -38.546138763427734,
          -38.59212875366211,
          -36.89790725708008,
          -1.4473600387573242,
          -34.95124435424805,
          -36.29530334472656,
          1.1487667560577393,
          -33.40418243408203,
          -69.25402069091797,
          -69.25402069091797,
          56.517425537109375,
          -0.023387406021356583,
          -0.023387406021356583,
          -4.76749324798584,
          43.557281494140625,
          10.468512535095215,
          -7.7237935066223145,
          -52.48988342285156,
          21.018569946289062,
          -75.39920043945312,
          -63.610321044921875,
          -63.610321044921875,
          -60.44224166870117,
          -60.29841232299805,
          -61.44558334350586,
          -61.44558334350586,
          -33.762901306152344,
          -33.762901306152344,
          -33.762901306152344,
          -18.339122772216797,
          -44.240509033203125,
          -44.240509033203125,
          -70.5992660522461,
          -70.5992660522461,
          -69.3680419921875,
          -69.3680419921875,
          -66.08206939697266,
          -54.796104431152344,
          -54.79634475708008,
          -56.70264434814453,
          -56.702388763427734,
          -55.20053482055664,
          -55.20053482055664,
          -21.86895751953125,
          -22.84979820251465,
          -22.63499641418457,
          -22.63499641418457,
          -24.19098472595215,
          -22.53133201599121,
          -22.223989486694336,
          -24.57741355895996,
          22.34893035888672,
          -34.15971755981445,
          21.82377052307129,
          23.136062622070312,
          20.15685272216797,
          -6.192243576049805,
          30.01984977722168,
          29.963134765625,
          22.965492248535156,
          21.464834213256836,
          -34.14977264404297,
          -5.415968418121338,
          -5.49722146987915,
          -20.27818489074707,
          6.145256996154785,
          -25.820375442504883,
          54.91291427612305,
          12.802468299865723,
          12.802468299865723,
          11.960099220275879,
          11.960099220275879,
          26.42089080810547,
          -42.6287956237793,
          -23.55337142944336,
          6.063413143157959,
          5.133763313293457,
          9.676158905029297,
          10.424806594848633,
          8.667023658752441,
          -5.006618499755859,
          -2.9747941493988037,
          11.756678581237793,
          -66.37289428710938,
          24.193204879760742,
          -20.07252311706543,
          -55.733219146728516,
          -53.64495086669922,
          36.506534576416016,
          -38.524147033691406,
          -38.524147033691406,
          -37.04572677612305,
          -37.0416374206543,
          -26.044586181640625,
          -10.87097454071045,
          -11.801568984985352,
          -4.437065124511719,
          -5.584327697753906,
          -13.008163452148438,
          -12.735224723815918,
          -12.163300514221191,
          -12.335845947265625,
          -18.899282455444336,
          16.542984008789062,
          -75.34630584716797,
          -75.34630584716797,
          -75.34630584716797,
          71.24483489990234,
          39.261348724365234,
          -52.989925384521484,
          -52.98991394042969,
          0.2778985798358917,
          -1.2341809272766113,
          -69.46505737304688,
          -7.548415184020996,
          -27.117097854614258,
          -41.98870849609375,
          -40.975276947021484,
          -40.975276947021484,
          12.977081298828125,
          12.653342247009277,
          -60.37645721435547,
          -60.37645721435547,
          -60.913978576660156,
          1.5210093259811401,
          -30.416990280151367,
          -30.41900634765625,
          11.41214370727539,
          11.060663223266602,
          -63.30100631713867,
          41.23078155517578
         ],
         "xaxis": "x",
         "y": [
          -10.208823204040527,
          52.89265823364258,
          44.764251708984375,
          41.987125396728516,
          51.094627380371094,
          -5.236631393432617,
          48.9079475402832,
          -3.6096630096435547,
          -14.43092155456543,
          -14.43092155456543,
          -48.439361572265625,
          31.81064796447754,
          28.407094955444336,
          33.30510711669922,
          3.1750285625457764,
          -64.876708984375,
          -65.27731323242188,
          -4.117898941040039,
          -4.117898941040039,
          -70.10279083251953,
          -57.22970962524414,
          -57.22970962524414,
          -57.22970962524414,
          -57.22970962524414,
          -7.993237018585205,
          -8.176342010498047,
          -8.176342010498047,
          -10.120226860046387,
          -32.898643493652344,
          22.387571334838867,
          38.34736633300781,
          47.351314544677734,
          -62.36076354980469,
          -62.10021209716797,
          -62.10021209716797,
          -62.10021209716797,
          -6.682413101196289,
          41.259552001953125,
          24.084369659423828,
          -10.156366348266602,
          34.046932220458984,
          27.31841278076172,
          27.31841278076172,
          27.31841278076172,
          18.987211227416992,
          19.091766357421875,
          38.41635513305664,
          26.116500854492188,
          36.57307052612305,
          0.5096819996833801,
          3.953904867172241,
          49.840328216552734,
          -50.506378173828125,
          -17.779644012451172,
          -12.648612022399902,
          25.675294876098633,
          25.675294876098633,
          -25.755752563476562,
          22.036907196044922,
          22.036907196044922,
          26.037002563476562,
          26.037002563476562,
          -38.135589599609375,
          -29.084243774414062,
          -55.708744049072266,
          -24.014055252075195,
          -10.095325469970703,
          2.1139490604400635,
          -21.617136001586914,
          -14.948053359985352,
          -15.981576919555664,
          0.784906804561615,
          -35.059226989746094,
          26.688800811767578,
          27.5621280670166,
          22.1566162109375,
          30.043006896972656,
          30.043006896972656,
          26.694700241088867,
          73.2109375,
          30.34688949584961,
          4.636157512664795,
          -1.500617265701294,
          -4.108313083648682,
          -21.9647159576416,
          -79.44205474853516,
          -29.926969528198242,
          -17.576431274414062,
          -18.400575637817383,
          -18.40961456298828,
          -16.06060028076172,
          -54.86076354980469,
          -54.86076354980469,
          -62.2849235534668,
          59.46151351928711,
          -39.00285720825195,
          -40.74759292602539,
          -40.74759292602539,
          1.5269547700881958,
          29.477216720581055,
          -33.29359436035156,
          26.10026741027832,
          42.70765686035156,
          19.86042022705078,
          20.08453369140625,
          41.73656463623047,
          55.666725158691406,
          -27.32588005065918,
          52.16551971435547,
          -16.123750686645508,
          37.062744140625,
          -13.01022720336914,
          -21.034345626831055,
          -22.3341064453125,
          -26.498279571533203,
          -31.881778717041016,
          -33.4084587097168,
          -33.4084587097168,
          -28.35981559753418,
          -36.37623596191406,
          44.66834259033203,
          43.41740036010742,
          56.6145133972168,
          30.608991622924805,
          24.265316009521484,
          5.4069929122924805,
          -17.581300735473633,
          -57.39411544799805,
          -57.39411544799805,
          -59.53326416015625,
          -66.1405258178711,
          -59.147666931152344,
          49.096649169921875,
          -55.4898681640625,
          -37.59769821166992,
          -12.805895805358887,
          -48.8513298034668,
          57.391929626464844,
          57.391929626464844,
          57.391929626464844,
          57.391929626464844,
          57.391929626464844,
          -24.99098014831543,
          -36.68842315673828,
          -57.59012222290039,
          -37.34149932861328,
          -38.12384033203125,
          36.915313720703125,
          -20.368953704833984,
          -20.368953704833984,
          -47.185359954833984,
          -47.29813766479492,
          -36.813812255859375,
          -36.813812255859375,
          30.57491111755371,
          21.83491325378418,
          19.439085006713867,
          18.586030960083008,
          -11.590941429138184,
          -11.590941429138184,
          19.284114837646484,
          18.48056411743164,
          19.915998458862305,
          -32.50115966796875,
          -32.14284896850586,
          -16.26959228515625,
          -41.8404426574707,
          -41.8404426574707,
          -0.04928340017795563,
          -0.04928340017795563,
          -55.017662048339844,
          -23.371187210083008,
          -23.371187210083008,
          -51.509342193603516,
          -49.906097412109375,
          -56.59688186645508,
          -61.435001373291016,
          10.990507125854492,
          -17.159334182739258,
          -67.55830383300781,
          87.84896087646484,
          -4.234576225280762,
          -7.935461044311523,
          43.73830032348633,
          87.84454345703125,
          31.2080078125,
          30.116859436035156,
          30.14054298400879,
          30.27032470703125,
          -13.725749969482422,
          -15.432534217834473,
          -15.94716739654541,
          68.96273803710938,
          36.38679122924805,
          40.64418029785156,
          -20.432758331298828,
          -58.29013442993164,
          -28.786685943603516,
          -26.927831649780273,
          36.72183609008789,
          -28.598691940307617,
          -7.474438190460205,
          2.932309865951538,
          65.57452392578125,
          48.13383102416992,
          70.05946350097656,
          70.05946350097656,
          64.77764892578125,
          70.19242858886719,
          43.17668914794922,
          -42.80248260498047,
          26.27732276916504,
          -61.21226501464844,
          -61.061283111572266,
          45.876949310302734,
          43.00700759887695,
          -60.7756233215332,
          45.14662170410156,
          -58.64942169189453,
          -3.530299186706543,
          -18.961463928222656,
          84.6171646118164,
          31.243127822875977,
          6.967007160186768,
          78.20991516113281,
          78.17001342773438,
          83.59932708740234,
          -65.0102310180664,
          -53.376625061035156,
          12.547348976135254,
          27.569927215576172,
          27.569927215576172,
          2.2745277881622314,
          31.584638595581055,
          20.21021270751953,
          33.20036697387695,
          30.972583770751953,
          30.972583770751953,
          30.972583770751953,
          51.12015914916992,
          25.42827606201172,
          81.75235748291016,
          81.75235748291016,
          84.38807678222656,
          84.03819274902344,
          84.38807678222656,
          64.39850616455078,
          64.39850616455078,
          65.23114776611328,
          65.13484954833984,
          -54.54676818847656,
          69.48983001708984,
          65.49457550048828,
          -59.699867248535156,
          63.971378326416016,
          -24.419113159179688,
          -24.419113159179688,
          35.072269439697266,
          78.54849243164062,
          78.54849243164062,
          -27.42405891418457,
          -16.083749771118164,
          -15.517568588256836,
          87.27592468261719,
          8.908808708190918,
          46.096954345703125,
          -58.399967193603516,
          -41.2864875793457,
          -41.2864875793457,
          -48.20271301269531,
          -47.442874908447266,
          -47.32362747192383,
          -47.32362747192383,
          -61.23532485961914,
          -61.23532485961914,
          -61.23532485961914,
          -62.419376373291016,
          -74.47764587402344,
          -74.47764587402344,
          -53.52402877807617,
          -53.52402877807617,
          -54.34554672241211,
          -54.34554672241211,
          -45.294063568115234,
          -30.08331298828125,
          -30.08238410949707,
          -30.835002899169922,
          -30.834495544433594,
          -44.176788330078125,
          -44.176788330078125,
          -18.695823669433594,
          -18.41080665588379,
          -17.498064041137695,
          -17.498064041137695,
          -19.495967864990234,
          -20.572086334228516,
          -20.322614669799805,
          -21.12273406982422,
          -56.529930114746094,
          -23.629915237426758,
          -58.31985092163086,
          -62.02777862548828,
          -60.99333190917969,
          -37.58892822265625,
          -65.79063415527344,
          -66.15612030029297,
          -36.787418365478516,
          -37.514259338378906,
          -4.9340972900390625,
          -46.1355094909668,
          -46.22419357299805,
          -38.514705657958984,
          -55.62140655517578,
          -47.809906005859375,
          12.34968376159668,
          54.95287322998047,
          54.95287322998047,
          56.59695816040039,
          56.59695816040039,
          -83.59819030761719,
          -33.04139709472656,
          8.906038284301758,
          -60.7755126953125,
          -65.49398803710938,
          -60.11423110961914,
          -59.97994613647461,
          -58.373199462890625,
          -40.72829055786133,
          -40.590267181396484,
          -79.18402862548828,
          43.256568908691406,
          -30.984773635864258,
          -11.852710723876953,
          -11.601876258850098,
          -12.484102249145508,
          -29.384801864624023,
          11.179150581359863,
          11.179150581359863,
          8.756699562072754,
          8.767480850219727,
          13.016155242919922,
          -52.42900085449219,
          -52.75775909423828,
          -10.434370040893555,
          -10.276965141296387,
          -55.21772766113281,
          -58.01326370239258,
          -56.87368392944336,
          -57.25808334350586,
          23.81179428100586,
          62.46879959106445,
          16.82954978942871,
          16.82954978942871,
          16.82954978942871,
          31.600950241088867,
          50.769203186035156,
          -48.214569091796875,
          -48.21460723876953,
          -38.36671829223633,
          -64.34326934814453,
          24.276527404785156,
          -54.16405487060547,
          -48.914710998535156,
          -57.322303771972656,
          -56.20315170288086,
          -56.20315170288086,
          -80.68634796142578,
          -80.08374786376953,
          40.83695602416992,
          40.83695602416992,
          41.50026321411133,
          -11.756426811218262,
          -56.660587310791016,
          -56.663848876953125,
          -53.78690719604492,
          -55.40991973876953,
          -21.973609924316406,
          -51.60366439819336
         ],
         "yaxis": "y"
        },
        {
         "customdata": [
          [
           "Acoustic guitar"
          ],
          [
           "Ambient music"
          ],
          [
           "Angry music"
          ],
          [
           "Microphone"
          ],
          [
           "entertainment center"
          ],
          [
           "Bass guitar"
          ],
          [
           "Computer keyboard"
          ],
          [
           "microphone"
          ],
          [
           "art_studio"
          ],
          [
           "Wine"
          ],
          [
           "Juice"
          ],
          [
           "Apple"
          ],
          [
           "Musical instrument"
          ],
          [
           "acoustic guitar"
          ],
          [
           "Violin"
          ],
          [
           "Guitar"
          ],
          [
           "Carnatic music"
          ],
          [
           "loudspeaker"
          ],
          [
           "Headphones"
          ],
          [
           "CD player"
          ],
          [
           "music_studio"
          ],
          [
           "Child singing"
          ],
          [
           "Christian music"
          ],
          [
           "Digital clock"
          ],
          [
           "iPod"
          ],
          [
           "radio"
          ],
          [
           "home theater"
          ],
          [
           "home_theater"
          ],
          [
           "Christmas music"
          ],
          [
           "Classical music"
          ],
          [
           "Dance music"
          ],
          [
           "'home theater'"
          ],
          [
           "performance"
          ],
          [
           "Drum"
          ],
          [
           "Drum and bass"
          ],
          [
           "Electric guitar"
          ],
          [
           "Electric piano"
          ],
          [
           "Electronic dance music"
          ],
          [
           "Electronic music"
          ],
          [
           "Electronic organ"
          ],
          [
           "Electronic tuner"
          ],
          [
           "Environmental noise"
          ],
          [
           "Exciting music"
          ],
          [
           "Flute"
          ],
          [
           "Folk music"
          ],
          [
           "Funny music"
          ],
          [
           "Gospel music"
          ],
          [
           "Happy music"
          ],
          [
           "Hip hop music"
          ],
          [
           "House music"
          ],
          [
           "Independent music"
          ],
          [
           "Jazz"
          ],
          [
           "Jingle (music)"
          ],
          [
           "Keyboard (musical)"
          ],
          [
           "Marimba, xylophone"
          ],
          [
           "Middle Eastern music"
          ],
          [
           "Music"
          ],
          [
           "Music for children"
          ],
          [
           "Music of Africa"
          ],
          [
           "Music of Asia"
          ],
          [
           "Music of Bollywood"
          ],
          [
           "Music of Latin America"
          ],
          [
           "New-age music"
          ],
          [
           "Opera"
          ],
          [
           "Orchestra"
          ],
          [
           "Percussion"
          ],
          [
           "Piano"
          ],
          [
           "Pop music"
          ],
          [
           "Radio"
          ],
          [
           "Reggae"
          ],
          [
           "Rhythm and blues"
          ],
          [
           "Rock and roll"
          ],
          [
           "Rock music"
          ],
          [
           "Sad music"
          ],
          [
           "Saxophone"
          ],
          [
           "Scary music"
          ],
          [
           "Song"
          ],
          [
           "Soul music"
          ],
          [
           "Soundtrack music"
          ],
          [
           "Speech synthesizer"
          ],
          [
           "Swing music"
          ],
          [
           "Tender music"
          ],
          [
           "Theme music"
          ],
          [
           "Traditional music"
          ],
          [
           "Trance music"
          ],
          [
           "Video game music"
          ],
          [
           "recording music"
          ],
          [
           "playing piano"
          ],
          [
           "'Music'"
          ],
          [
           "Musical keyboard"
          ],
          [
           "'acoustic guitar'"
          ],
          [
           "'cassette player'"
          ],
          [
           "'membranophone'"
          ],
          [
           "'iPod'"
          ],
          [
           "'loudspeaker'"
          ],
          [
           "'loudspeaker system'"
          ],
          [
           "'speaker system'"
          ],
          [
           "'microphone'"
          ],
          [
           "'radio'"
          ],
          [
           "'tape player'"
          ],
          [
           "Violin, fiddle"
          ],
          [
           "Vocal music"
          ],
          [
           "Wedding music"
          ],
          [
           "Wind noise (microphone)"
          ],
          [
           "'CD player'"
          ]
         ],
         "hovertemplate": "label=Music and Audio<br>x=%{x}<br>y=%{y}<br>items=%{customdata[0]}<extra></extra>",
         "legendgroup": "Music and Audio",
         "marker": {
          "color": "#ab63fa",
          "symbol": "circle"
         },
         "mode": "markers",
         "name": "Music and Audio",
         "showlegend": true,
         "type": "scattergl",
         "x": [
          33.953853607177734,
          72.96715545654297,
          81.16594696044922,
          49.07660675048828,
          78.59315490722656,
          32.9255485534668,
          39.45221710205078,
          47.51283645629883,
          62.3868522644043,
          -19.427148818969727,
          -23.204540252685547,
          16.20584487915039,
          40.167823791503906,
          32.932247161865234,
          34.27690124511719,
          35.82243347167969,
          82.40644073486328,
          49.96955871582031,
          45.15258026123047,
          32.301876068115234,
          58.85902404785156,
          86.11216735839844,
          72.97817993164062,
          34.67216873168945,
          32.1467399597168,
          56.09528350830078,
          72.76510620117188,
          72.30774688720703,
          66.19031524658203,
          61.452884674072266,
          71.39569854736328,
          70.79077911376953,
          18.59878158569336,
          46.015377044677734,
          54.78860092163086,
          37.37746810913086,
          42.56760025024414,
          54.789512634277344,
          54.43952560424805,
          47.038665771484375,
          46.4541015625,
          78.05661010742188,
          76.391357421875,
          35.362857818603516,
          67.01387023925781,
          78.04094696044922,
          76.3965835571289,
          74.34821319580078,
          77.36176300048828,
          71.59756469726562,
          77.42935180664062,
          59.34645462036133,
          71.62875366210938,
          43.75502395629883,
          41.07014846801758,
          84.11371612548828,
          66.3628921508789,
          70.52757263183594,
          82.22455596923828,
          88.82789611816406,
          87.51611328125,
          86.79747772216797,
          71.72782135009766,
          12.029285430908203,
          46.9439582824707,
          44.526161193847656,
          39.6972770690918,
          64.89773559570312,
          57.43549728393555,
          61.96747589111328,
          61.37308120727539,
          65.59300994873047,
          68.34234619140625,
          78.57929992675781,
          37.21638870239258,
          80.38314056396484,
          69.08274841308594,
          72.81932830810547,
          78.66575622558594,
          50.516971588134766,
          69.6398696899414,
          69.9320068359375,
          76.30426025390625,
          66.75629425048828,
          74.38416290283203,
          74.89694213867188,
          58.56232833862305,
          23.989864349365234,
          66.3038558959961,
          43.53209686279297,
          32.66189956665039,
          27.76449203491211,
          34.7082633972168,
          30.005586624145508,
          50.021934509277344,
          49.75699996948242,
          48.50285339355469,
          46.79570007324219,
          53.04551315307617,
          27.221220016479492,
          34.9193000793457,
          63.01981735229492,
          82.88984680175781,
          50.85435104370117,
          30.257474899291992
         ],
         "xaxis": "x",
         "y": [
          64.91129302978516,
          58.1718635559082,
          62.070343017578125,
          46.986175537109375,
          10.919756889343262,
          67.94412994384766,
          31.18045997619629,
          46.68217468261719,
          -4.376220226287842,
          15.009047508239746,
          18.316232681274414,
          47.409454345703125,
          73.2109375,
          64.25410461425781,
          73.31171417236328,
          67.61656951904297,
          75.5756607055664,
          42.25152587890625,
          50.58729553222656,
          51.72218322753906,
          51.26917266845703,
          41.72764587402344,
          76.5791244506836,
          22.82939338684082,
          45.58631896972656,
          24.066532135009766,
          11.416196823120117,
          8.51799201965332,
          53.662384033203125,
          66.85952758789062,
          66.08335876464844,
          10.243107795715332,
          36.65066146850586,
          80.2010726928711,
          78.81201934814453,
          63.65541458129883,
          62.74015426635742,
          64.18507385253906,
          62.18589782714844,
          62.09035110473633,
          57.75079345703125,
          43.29436492919922,
          58.96600341796875,
          78.07424926757812,
          67.11370086669922,
          64.32269287109375,
          74.06556701660156,
          60.98495864868164,
          69.27896118164062,
          62.84404754638672,
          81.59202575683594,
          73.15021514892578,
          50.648841857910156,
          68.5399169921875,
          80.62716674804688,
          65.57452392578125,
          47.68769836425781,
          54.86231994628906,
          70.05946350097656,
          64.77764892578125,
          59.12024688720703,
          70.19242858886719,
          81.0059814453125,
          43.010074615478516,
          72.37921142578125,
          77.55462646484375,
          68.65934753417969,
          71.26980590820312,
          24.343603134155273,
          81.39402770996094,
          76.92156982421875,
          76.150146484375,
          73.78651428222656,
          61.04483413696289,
          80.66681671142578,
          59.06386184692383,
          42.41427993774414,
          71.04163360595703,
          54.75463104248047,
          44.797813415527344,
          68.89696502685547,
          58.764225006103516,
          52.0616569519043,
          63.71091079711914,
          66.8088150024414,
          55.268287658691406,
          55.70273208618164,
          70.5107421875,
          59.180641174316406,
          66.43567657470703,
          62.670005798339844,
          49.77676773071289,
          87.27256774902344,
          44.264163970947266,
          40.60359191894531,
          39.36667251586914,
          39.52633285522461,
          44.847740173339844,
          21.13597869873047,
          52.0426139831543,
          71.4592514038086,
          61.852569580078125,
          52.800071716308594,
          47.49000930786133,
          51.173248291015625
         ],
         "yaxis": "y"
        },
        {
         "customdata": [
          [
           "Acoustic guitar"
          ],
          [
           "Air horn, truck horn"
          ],
          [
           "Ambient music"
          ],
          [
           "Angry music"
          ],
          [
           "bookcase"
          ],
          [
           "bookcase"
          ],
          [
           "Bookcase"
          ],
          [
           "Bookcase"
          ],
          [
           "cardigan"
          ],
          [
           "Microphone"
          ],
          [
           "entertainment center"
          ],
          [
           "Bass drum"
          ],
          [
           "stethoscope"
          ],
          [
           "Bass guitar"
          ],
          [
           "microphone"
          ],
          [
           "Bowed string instrument"
          ],
          [
           "Brass instrument"
          ],
          [
           "electric guitar"
          ],
          [
           "Umbrella"
          ],
          [
           "Frisbee"
          ],
          [
           "croquet ball"
          ],
          [
           "croquet ball"
          ],
          [
           "Panda"
          ],
          [
           "Penguin"
          ],
          [
           "brass"
          ],
          [
           "artists_loft"
          ],
          [
           "dining table"
          ],
          [
           "Snowboard"
          ],
          [
           "jigsaw puzzle"
          ],
          [
           "jigsaw puzzle"
          ],
          [
           "jigsaw puzzle"
          ],
          [
           "playroom"
          ],
          [
           "crossword puzzle"
          ],
          [
           "crossword puzzle"
          ],
          [
           "cornet"
          ],
          [
           "harp"
          ],
          [
           "drum"
          ],
          [
           "banjo"
          ],
          [
           "Musical instrument"
          ],
          [
           "sax"
          ],
          [
           "acoustic guitar"
          ],
          [
           "Violin"
          ],
          [
           "violin"
          ],
          [
           "Guitar"
          ],
          [
           "Carnatic music"
          ],
          [
           "CD player"
          ],
          [
           "Cello"
          ],
          [
           "music_studio"
          ],
          [
           "Child singing"
          ],
          [
           "cardoon"
          ],
          [
           "cardoon"
          ],
          [
           "Christian music"
          ],
          [
           "Sewing machine"
          ],
          [
           "Christmas music"
          ],
          [
           "Clarinet"
          ],
          [
           "Clarinet"
          ],
          [
           "Clarinet"
          ],
          [
           "Classical music"
          ],
          [
           "walking stick"
          ],
          [
           "gondola"
          ],
          [
           "Dance music"
          ],
          [
           "'Entertainment'"
          ],
          [
           "Domestic animals, pets"
          ],
          [
           "Baseball bat"
          ],
          [
           "ballplayer"
          ],
          [
           "ballplayer"
          ],
          [
           "Tennis racket"
          ],
          [
           "'Sports'"
          ],
          [
           "'cardigan'"
          ],
          [
           "'Lifestyle'"
          ],
          [
           "arcade"
          ],
          [
           "arcade"
          ],
          [
           "arcade"
          ],
          [
           "hockey"
          ],
          [
           "orchestra_pit"
          ],
          [
           "recreation_room"
          ],
          [
           "baseball"
          ],
          [
           "baseball"
          ],
          [
           "football"
          ],
          [
           "Drum"
          ],
          [
           "Drum and bass"
          ],
          [
           "Electric guitar"
          ],
          [
           "Electric piano"
          ],
          [
           "Electronic dance music"
          ],
          [
           "Electronic music"
          ],
          [
           "Electronic organ"
          ],
          [
           "Electronic tuner"
          ],
          [
           "Exciting music"
          ],
          [
           "Flute"
          ],
          [
           "Folk music"
          ],
          [
           "Funny music"
          ],
          [
           "Gospel music"
          ],
          [
           "Happy music"
          ],
          [
           "Harmonica"
          ],
          [
           "Harmonica"
          ],
          [
           "Harmonica"
          ],
          [
           "Harp"
          ],
          [
           "House music"
          ],
          [
           "Independent music"
          ],
          [
           "Jingle (music)"
          ],
          [
           "Keyboard (musical)"
          ],
          [
           "Mallet percussion"
          ],
          [
           "Marimba, xylophone"
          ],
          [
           "Middle Eastern music"
          ],
          [
           "Music for children"
          ],
          [
           "Music of Africa"
          ],
          [
           "Music of Asia"
          ],
          [
           "Music of Bollywood"
          ],
          [
           "Music of Latin America"
          ],
          [
           "New-age music"
          ],
          [
           "Orchestra"
          ],
          [
           "Percussion"
          ],
          [
           "Plucked string instrument"
          ],
          [
           "Pop music"
          ],
          [
           "Psychedelic rock"
          ],
          [
           "Rattle (instrument)"
          ],
          [
           "Rock and roll"
          ],
          [
           "Rock music"
          ],
          [
           "Sad music"
          ],
          [
           "Saxophone"
          ],
          [
           "Scary music"
          ],
          [
           "Soul music"
          ],
          [
           "Soundtrack music"
          ],
          [
           "Steel guitar, slide guitar"
          ],
          [
           "Swing music"
          ],
          [
           "Tapping (guitar technique)"
          ],
          [
           "Tender music"
          ],
          [
           "Theme music"
          ],
          [
           "Traditional music"
          ],
          [
           "Trance music"
          ],
          [
           "Vehicle horn, car horn, honking"
          ],
          [
           "Video game music"
          ],
          [
           "Video game music"
          ],
          [
           "playing poker"
          ],
          [
           "playing poker"
          ],
          [
           "playing clarinet"
          ],
          [
           "playing ice hockey"
          ],
          [
           "playing ice hockey"
          ],
          [
           "playing harmonica"
          ],
          [
           "playing cymbals"
          ],
          [
           "recording music"
          ],
          [
           "playing saxophone"
          ],
          [
           "golf putting"
          ],
          [
           "playing accordion"
          ],
          [
           "playing accordion"
          ],
          [
           "playing organ"
          ],
          [
           "playing tennis"
          ],
          [
           "playing violin"
          ],
          [
           "playing keyboard"
          ],
          [
           "playing ukulele"
          ],
          [
           "playing chess"
          ],
          [
           "playing chess"
          ],
          [
           "playing chess"
          ],
          [
           "playing bagpipes"
          ],
          [
           "playing harp"
          ],
          [
           "playing guitar"
          ],
          [
           "playing drums"
          ],
          [
           "playing trombone"
          ],
          [
           "playing trumpet"
          ],
          [
           "playing xylophone"
          ],
          [
           "playing cards"
          ],
          [
           "playing cards"
          ],
          [
           "playing cards"
          ],
          [
           "tapping guitar"
          ],
          [
           "playing monopoly"
          ],
          [
           "playing monopoly"
          ],
          [
           "playing monopoly"
          ],
          [
           "playing squash or racquetball"
          ],
          [
           "playing squash or racquetball"
          ],
          [
           "playing cello"
          ],
          [
           "playing flute"
          ],
          [
           "playing bass guitar"
          ],
          [
           "playing basketball"
          ],
          [
           "playing piano"
          ],
          [
           "playing controller"
          ],
          [
           "playing controller"
          ],
          [
           "strumming guitar"
          ],
          [
           "playing recorder"
          ],
          [
           "'Music'"
          ],
          [
           "Salt and pepper shakers"
          ],
          [
           "Table tennis racket"
          ],
          [
           "Table tennis racket"
          ],
          [
           "Table tennis racket"
          ],
          [
           "Musical keyboard"
          ],
          [
           "Kitchen knife"
          ],
          [
           "Bowling equipment"
          ],
          [
           "'accordion'"
          ],
          [
           "'piano accordion'"
          ],
          [
           "'squeeze box'"
          ],
          [
           "'squeeze box'"
          ],
          [
           "'acoustic guitar'"
          ],
          [
           "'bassoon'"
          ],
          [
           "'cassette player'"
          ],
          [
           "'violoncello'"
          ],
          [
           "'chime'"
          ],
          [
           "'drum'"
          ],
          [
           "'membranophone'"
          ],
          [
           "'drumstick'"
          ],
          [
           "'electric guitar'"
          ],
          [
           "'entertainment center'"
          ],
          [
           "'flute'"
          ],
          [
           "'transverse flute'"
          ],
          [
           "'French horn'"
          ],
          [
           "'grand piano'"
          ],
          [
           "'harmonica'"
          ],
          [
           "'harp'"
          ],
          [
           "'mouth harp'"
          ],
          [
           "'marimba'"
          ],
          [
           "'xylophone'"
          ],
          [
           "'maze'"
          ],
          [
           "'maze'"
          ],
          [
           "'labyrinth'"
          ],
          [
           "'microphone'"
          ],
          [
           "'oboe'"
          ],
          [
           "'hautbois'"
          ],
          [
           "'ocarina'"
          ],
          [
           "'pipe organ'"
          ],
          [
           "'saxophone'"
          ],
          [
           "'sewing machine'"
          ],
          [
           "'one-armed bandit'"
          ],
          [
           "'one-armed bandit'"
          ],
          [
           "'steel drum'"
          ],
          [
           "'trombone'"
          ],
          [
           "'upright piano'"
          ],
          [
           "'violin'"
          ],
          [
           "'fiddle'"
          ],
          [
           "'crossword puzzle'"
          ],
          [
           "'crossword puzzle'"
          ],
          [
           "'crossword'"
          ],
          [
           "'crossword'"
          ],
          [
           "'trifle'"
          ],
          [
           "Violin, fiddle"
          ],
          [
           "Vocal music"
          ],
          [
           "Wedding music"
          ],
          [
           "Wind instrument, woodwind instrument"
          ],
          [
           "Wood block"
          ],
          [
           "Wood block"
          ],
          [
           "Wood block"
          ],
          [
           "'CD player'"
          ],
          [
           "'board'"
          ],
          [
           "'board'"
          ],
          [
           "'board'"
          ],
          [
           "Cutting board"
          ]
         ],
         "hovertemplate": "label=Hobbies & Interests<br>x=%{x}<br>y=%{y}<br>items=%{customdata[0]}<extra></extra>",
         "legendgroup": "Hobbies & Interests",
         "marker": {
          "color": "#FFA15A",
          "symbol": "circle"
         },
         "mode": "markers",
         "name": "Hobbies & Interests",
         "showlegend": true,
         "type": "scattergl",
         "x": [
          33.953853607177734,
          -53.82471466064453,
          72.96715545654297,
          81.16594696044922,
          16.008129119873047,
          16.008129119873047,
          14.591089248657227,
          14.591089248657227,
          -16.207828521728516,
          48.66878890991211,
          78.59315490722656,
          47.354522705078125,
          48.24798583984375,
          32.9255485534668,
          47.74076843261719,
          37.844295501708984,
          40.902671813964844,
          36.34096908569336,
          -20.056631088256836,
          -55.37016296386719,
          -5.183307647705078,
          -5.943942546844482,
          -75.8890151977539,
          -75.84098052978516,
          41.15267562866211,
          59.322696685791016,
          68.3348388671875,
          -58.0029296875,
          23.94913101196289,
          23.94913101196289,
          23.94913101196289,
          73.68875885009766,
          -78.51166534423828,
          -78.51166534423828,
          -21.553556442260742,
          24.9938907623291,
          45.655696868896484,
          30.087873458862305,
          40.167823791503906,
          37.7271728515625,
          32.932247161865234,
          34.4205207824707,
          32.208343505859375,
          35.3730583190918,
          82.40644073486328,
          31.671188354492188,
          35.945281982421875,
          59.68184280395508,
          85.87545013427734,
          -46.111846923828125,
          -46.111846923828125,
          72.97817993164062,
          26.292566299438477,
          66.19031524658203,
          37.74589538574219,
          37.86351776123047,
          37.86351776123047,
          62.47294235229492,
          -67.36762237548828,
          -68.24626922607422,
          71.39569854736328,
          -23.335491180419922,
          -92.55233001708984,
          -7.116982460021973,
          -3.881859540939331,
          -4.154426574707031,
          -5.482916831970215,
          -18.04153060913086,
          -16.34988784790039,
          -30.562870025634766,
          70.62278747558594,
          71.09532165527344,
          70.28620910644531,
          2.956394672393799,
          48.495201110839844,
          75.49042510986328,
          -4.987655162811279,
          -4.987655162811279,
          57.48343276977539,
          46.408164978027344,
          54.78860092163086,
          37.37746810913086,
          42.56760025024414,
          55.87385559082031,
          55.96725082397461,
          47.038665771484375,
          45.597408294677734,
          76.95486450195312,
          34.940399169921875,
          67.01387023925781,
          78.04094696044922,
          75.19017791748047,
          74.86576080322266,
          28.902164459228516,
          29.187456130981445,
          29.187456130981445,
          25.107141494750977,
          71.59756469726562,
          77.42935180664062,
          71.62875366210938,
          43.75502395629883,
          44.573307037353516,
          41.07014846801758,
          84.36302185058594,
          70.52757263183594,
          82.22455596923828,
          88.82789611816406,
          86.90880584716797,
          86.79747772216797,
          71.72782135009766,
          46.9439582824707,
          44.526161193847656,
          37.999542236328125,
          64.89773559570312,
          66.72608184814453,
          42.24674606323242,
          65.10582733154297,
          68.34234619140625,
          78.57929992675781,
          37.21638870239258,
          80.38314056396484,
          72.81932830810547,
          78.66575622558594,
          37.11442565917969,
          69.6398696899414,
          29.424863815307617,
          69.9320068359375,
          76.9267349243164,
          66.75629425048828,
          74.31434631347656,
          -54.181636810302734,
          74.89694213867188,
          74.89694213867188,
          12.914312362670898,
          12.914312362670898,
          25.6566219329834,
          5.8394598960876465,
          5.8394598960876465,
          24.3757381439209,
          26.270078659057617,
          58.62432098388672,
          27.069805145263672,
          3.1922686100006104,
          23.040536880493164,
          22.857295989990234,
          22.465167999267578,
          7.917839050292969,
          27.97420310974121,
          22.42555809020996,
          24.861328125,
          10.08126449584961,
          10.08126449584961,
          10.08126449584961,
          21.627883911132812,
          23.736095428466797,
          26.741466522216797,
          25.947982788085938,
          25.762197494506836,
          25.979366302490234,
          25.201940536499023,
          14.148637771606445,
          14.148637771606445,
          14.97382926940918,
          29.355802536010742,
          12.932820320129395,
          11.996635437011719,
          11.996635437011719,
          6.369625568389893,
          6.369625568389893,
          26.493431091308594,
          26.93978500366211,
          28.66683578491211,
          4.252292156219482,
          23.989864349365234,
          17.510757446289062,
          17.510757446289062,
          27.850126266479492,
          24.175512313842773,
          66.1199951171875,
          10.468512535095215,
          -7.7237935066223145,
          -7.7237935066223145,
          -7.7237935066223145,
          44.572898864746094,
          12.767512321472168,
          -21.695322036743164,
          27.55259895324707,
          27.727426528930664,
          28.137739181518555,
          28.137739181518555,
          32.66189956665039,
          34.00537109375,
          27.76449203491211,
          31.497745513916016,
          -31.70328140258789,
          45.96229934692383,
          34.7082633972168,
          -34.78145217895508,
          34.831573486328125,
          77.42639923095703,
          33.551963806152344,
          32.79264831542969,
          -23.07941246032715,
          27.730009078979492,
          29.075843811035156,
          24.396230697631836,
          24.106399536132812,
          40.991546630859375,
          30.978452682495117,
          -31.690805435180664,
          -31.690805435180664,
          -30.71031379699707,
          46.79570007324219,
          33.10740661621094,
          -84.41787719726562,
          30.253925323486328,
          23.049341201782227,
          35.746280670166016,
          25.44908332824707,
          -10.62486743927002,
          -10.655305862426758,
          46.48164749145508,
          33.399810791015625,
          26.96080207824707,
          31.9443302154541,
          -43.37112045288086,
          -78.15804290771484,
          -78.19905853271484,
          -77.2679672241211,
          -77.2679672241211,
          -3.2806692123413086,
          34.9193000793457,
          62.15116500854492,
          82.88984680175781,
          38.96189880371094,
          20.212615966796875,
          20.212615966796875,
          20.212615966796875,
          30.648468017578125,
          -53.20451736450195,
          -53.20451736450195,
          -53.20451736450195,
          8.93478775024414
         ],
         "xaxis": "x",
         "y": [
          64.91129302978516,
          55.51578140258789,
          58.1718635559082,
          62.070343017578125,
          18.54033660888672,
          18.54033660888672,
          19.473756790161133,
          19.473756790161133,
          -31.558799743652344,
          46.14889907836914,
          10.919756889343262,
          79.19684600830078,
          48.9202880859375,
          67.94412994384766,
          47.3464241027832,
          72.61762237548828,
          75.63301086425781,
          62.3654899597168,
          -25.755752563476562,
          19.678478240966797,
          80.49951934814453,
          80.85932159423828,
          -37.968238830566406,
          -23.597549438476562,
          76.43211364746094,
          -2.9082984924316406,
          -22.427133560180664,
          26.694700241088867,
          19.008224487304688,
          19.008224487304688,
          19.008224487304688,
          -9.722821235656738,
          38.68780517578125,
          38.68780517578125,
          32.26081466674805,
          78.82430267333984,
          80.95868682861328,
          75.2359848022461,
          73.2109375,
          83.14204406738281,
          64.25410461425781,
          74.4933853149414,
          73.87135314941406,
          67.07403564453125,
          75.5756607055664,
          52.464107513427734,
          75.31401824951172,
          51.482505798339844,
          41.7322883605957,
          14.558280944824219,
          14.558280944824219,
          76.5791244506836,
          -23.6722469329834,
          53.662384033203125,
          77.01311492919922,
          77.32095336914062,
          77.32095336914062,
          66.54835510253906,
          36.915283203125,
          18.48056411743164,
          66.08335876464844,
          70.83844757080078,
          -39.20710754394531,
          75.15274810791016,
          69.72026062011719,
          69.24562072753906,
          87.08514404296875,
          73.65751647949219,
          -33.48240661621094,
          72.01411437988281,
          -6.671527862548828,
          -6.011048793792725,
          -5.918087482452393,
          69.28482818603516,
          71.87390899658203,
          -12.874176025390625,
          74.00161743164062,
          74.00161743164062,
          36.72183609008789,
          80.4644775390625,
          78.81201934814453,
          63.65541458129883,
          62.74015426635742,
          64.010986328125,
          61.90523910522461,
          62.09035110473633,
          57.7865104675293,
          58.856666564941406,
          77.33673095703125,
          67.11370086669922,
          64.32269287109375,
          73.99205017089844,
          61.78697967529297,
          77.79174041748047,
          77.74923706054688,
          77.74923706054688,
          78.80565643310547,
          62.84404754638672,
          81.59202575683594,
          50.648841857910156,
          68.5399169921875,
          76.44436645507812,
          80.62716674804688,
          65.03373718261719,
          54.86231994628906,
          70.05946350097656,
          64.77764892578125,
          59.8946533203125,
          70.19242858886719,
          81.0059814453125,
          72.37921142578125,
          77.55462646484375,
          72.19161224365234,
          71.26980590820312,
          81.35211944580078,
          74.07181549072266,
          77.17671966552734,
          73.78651428222656,
          61.04483413696289,
          80.66681671142578,
          59.06386184692383,
          71.04163360595703,
          54.75463104248047,
          65.799072265625,
          68.89696502685547,
          65.15457916259766,
          58.764225006103516,
          51.78538131713867,
          63.71091079711914,
          67.40181732177734,
          53.619571685791016,
          55.268287658691406,
          55.268287658691406,
          74.85564422607422,
          74.85564422607422,
          73.35314178466797,
          69.71070861816406,
          69.71070861816406,
          75.06370544433594,
          71.21319580078125,
          55.70977020263672,
          74.63684844970703,
          84.6171646118164,
          73.79684448242188,
          74.07183074951172,
          70.91987609863281,
          77.16666412353516,
          72.10645294189453,
          68.783447265625,
          68.32514190673828,
          72.9046401977539,
          72.9046401977539,
          72.9046401977539,
          72.82608032226562,
          76.0816650390625,
          68.40313720703125,
          70.41405487060547,
          74.75824737548828,
          74.4258041381836,
          71.9878158569336,
          72.29594421386719,
          72.29594421386719,
          71.6942367553711,
          65.27469635009766,
          68.84358978271484,
          69.2636489868164,
          69.2636489868164,
          80.44831085205078,
          80.44831085205078,
          72.23025512695312,
          73.39714813232422,
          68.8077392578125,
          74.34280395507812,
          70.5107421875,
          67.82569885253906,
          67.82569885253906,
          66.85114288330078,
          72.58356475830078,
          57.97031021118164,
          -15.517568588256836,
          87.27592468261719,
          87.27592468261719,
          87.27592468261719,
          66.68601989746094,
          -11.207040786743164,
          0.425601601600647,
          82.00006103515625,
          82.23350524902344,
          90.31866455078125,
          90.31866455078125,
          62.670005798339844,
          82.39872741699219,
          49.77676773071289,
          83.8434066772461,
          7.590548038482666,
          82.2393798828125,
          87.27256774902344,
          7.075908184051514,
          60.62868881225586,
          12.4906005859375,
          79.5209732055664,
          79.70527648925781,
          30.5655574798584,
          84.34917449951172,
          79.2086181640625,
          79.33914947509766,
          80.24312591552734,
          81.91567993164062,
          82.4200439453125,
          2.3572683334350586,
          2.3572683334350586,
          3.1719231605529785,
          44.847740173339844,
          81.9451904296875,
          19.887420654296875,
          80.53715515136719,
          83.66790008544922,
          82.76223754882812,
          -25.595905303955078,
          -9.631235122680664,
          -9.625863075256348,
          82.62904357910156,
          83.98245239257812,
          85.41829681396484,
          75.54747009277344,
          55.203243255615234,
          37.33053970336914,
          37.5187873840332,
          37.657379150390625,
          37.657379150390625,
          -57.76308059692383,
          71.4592514038086,
          62.39441680908203,
          52.800071716308594,
          74.66107177734375,
          16.397592544555664,
          16.397592544555664,
          16.397592544555664,
          50.42864990234375,
          33.26962661743164,
          33.26962661743164,
          33.26962661743164,
          -10.359395027160645
         ],
         "yaxis": "y"
        },
        {
         "customdata": [
          [
           "Acoustic guitar"
          ],
          [
           "Cell phone"
          ],
          [
           "book jacket"
          ],
          [
           "book jacket"
          ],
          [
           "comic book"
          ],
          [
           "Bookcase"
          ],
          [
           "bookstore"
          ],
          [
           "office_cubicles"
          ],
          [
           "laptop"
          ],
          [
           "classroom"
          ],
          [
           "Laptop"
          ],
          [
           "Microphone"
          ],
          [
           "Microphone"
          ],
          [
           "Television"
          ],
          [
           "Computer keyboard"
          ],
          [
           "computer keyboard"
          ],
          [
           "cellular telephone"
          ],
          [
           "cellular telephone"
          ],
          [
           "modem"
          ],
          [
           "notebook"
          ],
          [
           "notebook"
          ],
          [
           "notebook"
          ],
          [
           "notebook"
          ],
          [
           "microphone"
          ],
          [
           "Table"
          ],
          [
           "electric guitar"
          ],
          [
           "Bench"
          ],
          [
           "microwave"
          ],
          [
           "microwave"
          ],
          [
           "Dessert"
          ],
          [
           "Treadmill"
          ],
          [
           "Apple"
          ],
          [
           "refrigerator"
          ],
          [
           "Washing machine"
          ],
          [
           "Toaster"
          ],
          [
           "Toaster"
          ],
          [
           "Window"
          ],
          [
           "Cash register"
          ],
          [
           "loudspeaker"
          ],
          [
           "CD player"
          ],
          [
           "CD player"
          ],
          [
           "Countertop"
          ],
          [
           "Studio couch"
          ],
          [
           "Studio couch"
          ],
          [
           "studio couch"
          ],
          [
           "lab coat"
          ],
          [
           "Jeans"
          ],
          [
           "hand-held computer"
          ],
          [
           "digital clock"
          ],
          [
           "typewriter keyboard"
          ],
          [
           "typewriter keyboard"
          ],
          [
           "Computer mouse"
          ],
          [
           "Computer monitor"
          ],
          [
           "desktop computer"
          ],
          [
           "Tripod"
          ],
          [
           "tripod"
          ],
          [
           "tripod"
          ],
          [
           "lens cap"
          ],
          [
           "lens cap"
          ],
          [
           "reflex camera"
          ],
          [
           "reflex camera"
          ],
          [
           "Polaroid camera"
          ],
          [
           "Polaroid camera"
          ],
          [
           "Polaroid camera"
          ],
          [
           "Polaroid camera"
          ],
          [
           "printer"
          ],
          [
           "computer_room"
          ],
          [
           "Tablet computer"
          ],
          [
           "Sewing machine"
          ],
          [
           "remote control"
          ],
          [
           "Digital clock"
          ],
          [
           "Digital clock"
          ],
          [
           "Digital clock"
          ],
          [
           "projector"
          ],
          [
           "projector"
          ],
          [
           "projector"
          ],
          [
           "iPod"
          ],
          [
           "iPod"
          ],
          [
           "iPod"
          ],
          [
           "iPod"
          ],
          [
           "digital watch"
          ],
          [
           "digital watch"
          ],
          [
           "television_room"
          ],
          [
           "screen"
          ],
          [
           "television_studio"
          ],
          [
           "television"
          ],
          [
           "four-poster"
          ],
          [
           "backpack"
          ],
          [
           "Medical equipment"
          ],
          [
           "'television'"
          ],
          [
           "'television system'"
          ],
          [
           "'Culture'"
          ],
          [
           "Electric guitar"
          ],
          [
           "Electric piano"
          ],
          [
           "Electric piano"
          ],
          [
           "Electric shaver, electric razor"
          ],
          [
           "Electric shaver, electric razor"
          ],
          [
           "Electronic dance music"
          ],
          [
           "Electronic music"
          ],
          [
           "Electronic organ"
          ],
          [
           "Electronic organ"
          ],
          [
           "Electronic tuner"
          ],
          [
           "Electronic tuner"
          ],
          [
           "Microwave oven"
          ],
          [
           "Single-lens reflex camera"
          ],
          [
           "Single-lens reflex camera"
          ],
          [
           "reading book"
          ],
          [
           "reading book"
          ],
          [
           "using computer"
          ],
          [
           "assembling computer"
          ],
          [
           "playing controller"
          ],
          [
           "'Economy'"
          ],
          [
           "'Literature'"
          ],
          [
           "'Education'"
          ],
          [
           "'Technology'"
          ],
          [
           "'Science'"
          ],
          [
           "Food processor"
          ],
          [
           "Musical keyboard"
          ],
          [
           "Musical keyboard"
          ],
          [
           "Bowling equipment"
          ],
          [
           "'cassette'"
          ],
          [
           "'cassette'"
          ],
          [
           "'cassette player'"
          ],
          [
           "'cassette player'"
          ],
          [
           "'cellular telephone'"
          ],
          [
           "'cellular phone'"
          ],
          [
           "'cellphone'"
          ],
          [
           "'mobile phone'"
          ],
          [
           "'mobile phone'"
          ],
          [
           "'mobile phone'"
          ],
          [
           "'mobile phone'"
          ],
          [
           "'computer keyboard'"
          ],
          [
           "'keypad'"
          ],
          [
           "'keypad'"
          ],
          [
           "'desktop computer'"
          ],
          [
           "'digital clock'"
          ],
          [
           "'digital watch'"
          ],
          [
           "'digital watch'"
          ],
          [
           "'electric fan'"
          ],
          [
           "'electric guitar'"
          ],
          [
           "'hand-held computer'"
          ],
          [
           "'hand-held microcomputer'"
          ],
          [
           "'iPod'"
          ],
          [
           "'iPod'"
          ],
          [
           "'iPod'"
          ],
          [
           "'iPod'"
          ],
          [
           "'laptop'"
          ],
          [
           "'laptop computer'"
          ],
          [
           "'lens cap'"
          ],
          [
           "'lens cap'"
          ],
          [
           "'loudspeaker'"
          ],
          [
           "'loudspeaker system'"
          ],
          [
           "'microwave'"
          ],
          [
           "'microwave oven'"
          ],
          [
           "'monitor'"
          ],
          [
           "'notebook'"
          ],
          [
           "'notebook'"
          ],
          [
           "'notebook'"
          ],
          [
           "'notebook'"
          ],
          [
           "'notebook computer'"
          ],
          [
           "'photocopier'"
          ],
          [
           "'photocopier'"
          ],
          [
           "'plectrum'"
          ],
          [
           "'plectron'"
          ],
          [
           "'Polaroid camera'"
          ],
          [
           "'Polaroid camera'"
          ],
          [
           "'Polaroid Land camera'"
          ],
          [
           "'printer'"
          ],
          [
           "'printer'"
          ],
          [
           "'printer'"
          ],
          [
           "'wireless'"
          ],
          [
           "'refrigerator'"
          ],
          [
           "'icebox'"
          ],
          [
           "'remote control'"
          ],
          [
           "'weighing machine'"
          ],
          [
           "'electric switch'"
          ],
          [
           "'electrical switch'"
          ],
          [
           "'tape player'"
          ],
          [
           "'tape player'"
          ],
          [
           "'tripod'"
          ],
          [
           "'tripod'"
          ],
          [
           "'typewriter keyboard'"
          ],
          [
           "'typewriter keyboard'"
          ],
          [
           "'vacuum cleaner'"
          ],
          [
           "'notecase'"
          ],
          [
           "'book jacket'"
          ],
          [
           "'book jacket'"
          ],
          [
           "'dust wrapper'"
          ],
          [
           "'lolly'"
          ],
          [
           "'lollipop'"
          ],
          [
           "'lollipop'"
          ],
          [
           "'computer mouse'"
          ],
          [
           "Writing"
          ],
          [
           "texting"
          ],
          [
           "'CD player'"
          ],
          [
           "'CD player'"
          ],
          [
           "'desk'"
          ],
          [
           "'dock'"
          ],
          [
           "'dockage'"
          ],
          [
           "'file cabinet'"
          ],
          [
           "electric ray"
          ],
          [
           "electric ray"
          ]
         ],
         "hovertemplate": "label=Technology & Computing<br>x=%{x}<br>y=%{y}<br>items=%{customdata[0]}<extra></extra>",
         "legendgroup": "Technology & Computing",
         "marker": {
          "color": "#19d3f3",
          "symbol": "circle"
         },
         "mode": "markers",
         "name": "Technology & Computing",
         "showlegend": true,
         "type": "scattergl",
         "x": [
          34.15471267700195,
          40.69709777832031,
          -13.829471588134766,
          -13.829471588134766,
          12.662952423095703,
          15.387526512145996,
          -27.165637969970703,
          85.44831848144531,
          32.83261489868164,
          77.23147583007812,
          33.29783248901367,
          49.07660675048828,
          49.08683776855469,
          63.4704475402832,
          40.24103927612305,
          40.18717956542969,
          40.69636154174805,
          40.69636154174805,
          43.746978759765625,
          30.088415145874023,
          29.50017547607422,
          28.868087768554688,
          29.34228515625,
          47.51283645629883,
          5.5470967292785645,
          36.34096908569336,
          13.496086120605469,
          25.229068756103516,
          25.229068756103516,
          -15.216083526611328,
          8.899930000305176,
          16.20584487915039,
          23.6629638671875,
          22.417665481567383,
          19.234140396118164,
          18.720542907714844,
          7.7789130210876465,
          40.327056884765625,
          49.96955871582031,
          32.301876068115234,
          31.671188354492188,
          31.02040672302246,
          80.51427459716797,
          81.5933609008789,
          81.41270446777344,
          -24.177854537963867,
          -12.12971305847168,
          36.02885818481445,
          35.560359954833984,
          43.08050537109375,
          43.08050537109375,
          38.025272369384766,
          38.817935943603516,
          35.7232551574707,
          -68.37905883789062,
          -68.31415557861328,
          -68.31415557861328,
          -16.099048614501953,
          -16.099048614501953,
          15.410324096679688,
          15.410324096679688,
          14.046838760375977,
          14.456496238708496,
          14.456496238708496,
          14.456496238708496,
          16.34040069580078,
          78.45953369140625,
          33.259368896484375,
          26.292566299438477,
          50.951881408691406,
          34.67216873168945,
          34.67216873168945,
          35.74555587768555,
          47.48661422729492,
          46.532066345214844,
          47.00087356567383,
          32.1467399597168,
          32.1467399597168,
          32.1467399597168,
          32.1467399597168,
          36.483375549316406,
          36.483375549316406,
          75.43248748779297,
          18.606653213500977,
          68.26795196533203,
          63.35789489746094,
          1.539209246635437,
          -20.730506896972656,
          0.9768034219741821,
          60.15104675292969,
          62.29217529296875,
          -29.52342414855957,
          37.37746810913086,
          43.29600143432617,
          42.56760025024414,
          16.185565948486328,
          16.185565948486328,
          55.87385559082031,
          54.43952560424805,
          47.038665771484375,
          47.038665771484375,
          46.4541015625,
          46.4541015625,
          22.403919219970703,
          17.311363220214844,
          17.311363220214844,
          7.9413652420043945,
          7.9413652420043945,
          35.879295349121094,
          35.925785064697266,
          17.510757446289062,
          -33.09947204589844,
          -24.798494338989258,
          -29.081605911254883,
          -22.230398178100586,
          -25.791505813598633,
          15.624314308166504,
          43.53209686279297,
          44.572898864746094,
          -20.643245697021484,
          26.39396095275879,
          26.372722625732422,
          27.76449203491211,
          27.76449203491211,
          39.057132720947266,
          38.515167236328125,
          37.36538314819336,
          37.690101623535156,
          37.161285400390625,
          36.962406158447266,
          37.690101623535156,
          40.538780212402344,
          41.5574836730957,
          41.5574836730957,
          35.83977508544922,
          33.85637283325195,
          34.82107162475586,
          34.82107162475586,
          28.27778434753418,
          34.47736358642578,
          36.914737701416016,
          36.506404876708984,
          29.841991424560547,
          30.005586624145508,
          30.77605438232422,
          30.77605438232422,
          32.417564392089844,
          32.61981964111328,
          -15.9403657913208,
          -15.9403657913208,
          50.02077865600586,
          49.75699996948242,
          24.91777801513672,
          23.75729751586914,
          25.620243072509766,
          28.44346809387207,
          28.44346809387207,
          28.44346809387207,
          28.776071548461914,
          29.89388084411621,
          25.74707794189453,
          25.699552536010742,
          26.20341682434082,
          26.209978103637695,
          12.802468299865723,
          12.802468299865723,
          11.960099220275879,
          27.6384334564209,
          27.6384334564209,
          27.799606323242188,
          45.6369743347168,
          26.052213668823242,
          -35.63970184326172,
          48.45494079589844,
          25.814498901367188,
          21.601743698120117,
          22.534740447998047,
          27.221220016479492,
          27.221220016479492,
          -66.37289428710938,
          -66.28335571289062,
          42.30452346801758,
          42.30452346801758,
          23.169466018676758,
          27.03276824951172,
          -14.909042358398438,
          -14.590195655822754,
          -17.615772247314453,
          -39.92367172241211,
          -39.90894317626953,
          -39.90886688232422,
          38.33464431762695,
          73.30518341064453,
          39.261348724365234,
          30.648468017578125,
          30.648468017578125,
          -28.538497924804688,
          -27.117097854614258,
          -27.58492088317871,
          32.7608757019043,
          50.28769302368164,
          50.28769302368164
         ],
         "xaxis": "x",
         "y": [
          64.23754119873047,
          42.12297058105469,
          -7.349132537841797,
          -7.349132537841797,
          25.095130920410156,
          19.671018600463867,
          40.84218215942383,
          -10.636078834533691,
          35.44091796875,
          -7.318429470062256,
          34.18389129638672,
          46.986175537109375,
          45.8729133605957,
          22.46825408935547,
          31.10215950012207,
          32.37398147583008,
          44.325401306152344,
          44.325401306152344,
          28.400644302368164,
          33.373085021972656,
          32.96953582763672,
          33.36714553833008,
          33.8187255859375,
          46.68217468261719,
          36.57307052612305,
          62.3654899597168,
          14.151887893676758,
          -7.301903247833252,
          -7.301903247833252,
          16.38890266418457,
          12.707502365112305,
          47.409454345703125,
          -15.971364974975586,
          -22.724863052368164,
          -9.852542877197266,
          -10.470722198486328,
          40.80870056152344,
          23.326980590820312,
          42.25152587890625,
          51.72218322753906,
          52.464107513427734,
          -21.629968643188477,
          2.5753862857818604,
          2.2716100215911865,
          3.7142932415008545,
          -43.3068962097168,
          -27.13785743713379,
          36.37417221069336,
          21.843759536743164,
          33.61226272583008,
          33.61226272583008,
          31.580158233642578,
          28.79259490966797,
          32.55897521972656,
          44.66834259033203,
          43.41740036010742,
          43.41740036010742,
          -2.3082516193389893,
          -2.3082516193389893,
          51.94137954711914,
          51.94137954711914,
          56.6145133972168,
          55.61604309082031,
          55.61604309082031,
          55.61604309082031,
          30.608991622924805,
          -11.164227485656738,
          31.163454055786133,
          -23.6722469329834,
          28.32106590270996,
          22.82939338684082,
          22.82939338684082,
          23.087013244628906,
          20.35138702392578,
          20.311832427978516,
          20.674409866333008,
          45.58631896972656,
          45.58631896972656,
          45.58631896972656,
          45.58631896972656,
          20.142276763916016,
          20.142276763916016,
          4.589526176452637,
          41.40217590332031,
          17.307167053222656,
          18.675331115722656,
          -11.744720458984375,
          -17.159334182739258,
          7.297515869140625,
          17.430830001831055,
          15.706073760986328,
          75.22509765625,
          63.65541458129883,
          62.610748291015625,
          62.74015426635742,
          -34.272674560546875,
          -34.272674560546875,
          64.010986328125,
          62.18589782714844,
          62.09035110473633,
          62.09035110473633,
          57.75079345703125,
          57.75079345703125,
          -7.768075942993164,
          53.35087585449219,
          53.35087585449219,
          24.368896484375,
          24.368896484375,
          29.675086975097656,
          28.326248168945312,
          67.82569885253906,
          78.70372772216797,
          76.10584259033203,
          79.18822479248047,
          82.02591705322266,
          83.9380874633789,
          -13.780200004577637,
          66.43567657470703,
          66.68601989746094,
          0.5619574785232544,
          48.99342346191406,
          49.04630661010742,
          49.77676773071289,
          49.77676773071289,
          44.70619201660156,
          43.7757453918457,
          44.61403274536133,
          41.6987419128418,
          42.34656524658203,
          41.351409912109375,
          41.6987419128418,
          34.19850158691406,
          37.530765533447266,
          37.530765533447266,
          33.789588928222656,
          20.752859115600586,
          19.100414276123047,
          19.100414276123047,
          -41.059898376464844,
          61.09406661987305,
          37.03203201293945,
          37.727012634277344,
          43.27821731567383,
          44.264163970947266,
          43.52228927612305,
          43.52228927612305,
          37.24363708496094,
          37.237274169921875,
          -3.337984323501587,
          -3.337984323501587,
          40.60373306274414,
          39.36667251586914,
          -9.354292869567871,
          -9.894688606262207,
          39.237579345703125,
          35.22585678100586,
          35.22585678100586,
          35.22585678100586,
          35.9476432800293,
          35.738399505615234,
          26.812278747558594,
          26.845962524414062,
          22.85824203491211,
          22.875652313232422,
          54.95287322998047,
          54.95287322998047,
          56.59695816040039,
          28.824941635131836,
          28.824941635131836,
          28.647342681884766,
          24.689790725708008,
          -14.749967575073242,
          11.179328918457031,
          27.366424560546875,
          -27.596540451049805,
          94.62535095214844,
          95.41230773925781,
          52.0426139831543,
          52.0426139831543,
          43.256568908691406,
          43.767608642578125,
          34.90934753417969,
          34.90934753417969,
          -30.555376052856445,
          36.025569915771484,
          -8.46707534790039,
          -8.786608695983887,
          -8.032623291015625,
          9.900898933410645,
          8.689973831176758,
          8.689993858337402,
          34.3388786315918,
          33.31840515136719,
          50.769203186035156,
          50.42864990234375,
          50.42864990234375,
          -51.32686996459961,
          -48.914710998535156,
          -49.44983673095703,
          -14.34676456451416,
          16.654260635375977,
          16.654260635375977
         ],
         "yaxis": "y"
        },
        {
         "customdata": [
          [
           "auto_showroom"
          ],
          [
           "pickup"
          ],
          [
           "library"
          ],
          [
           "bookshop"
          ],
          [
           "bookstore"
          ],
          [
           "Book"
          ],
          [
           "Office supplies"
          ],
          [
           "Building"
          ],
          [
           "bib"
          ],
          [
           "Clothing"
          ],
          [
           "clothing_store"
          ],
          [
           "Baby laughter"
          ],
          [
           "cinema"
          ],
          [
           "Convenience store"
          ],
          [
           "confectionery"
          ],
          [
           "bakery/shop"
          ],
          [
           "Food"
          ],
          [
           "drugstore"
          ],
          [
           "Bathtub (filling or washing)"
          ],
          [
           "Box"
          ],
          [
           "jewelry_shop"
          ],
          [
           "butcher shop"
          ],
          [
           "candy_store"
          ],
          [
           "candy_store"
          ],
          [
           "department_store"
          ],
          [
           "kindergarden_classroom"
          ],
          [
           "basketball"
          ],
          [
           "Baked goods"
          ],
          [
           "Donut"
          ],
          [
           "Suit"
          ],
          [
           "suit"
          ],
          [
           "Dress"
          ],
          [
           "restaurant"
          ],
          [
           "Camera"
          ],
          [
           "toyshop"
          ],
          [
           "plaza"
          ],
          [
           "downtown"
          ],
          [
           "shopping_mall/indoor"
          ],
          [
           "art_gallery"
          ],
          [
           "Frisbee"
          ],
          [
           "croquet ball"
          ],
          [
           "bazaar/outdoor"
          ],
          [
           "Butterfly"
          ],
          [
           "park"
          ],
          [
           "church"
          ],
          [
           "Starfish"
          ],
          [
           "Fish"
          ],
          [
           "ice cream"
          ],
          [
           "Drinking straw"
          ],
          [
           "Fast food"
          ],
          [
           "Drink"
          ],
          [
           "Wine"
          ],
          [
           "shopping cart"
          ],
          [
           "butchers_shop"
          ],
          [
           "Crock Pot"
          ],
          [
           "bakery"
          ],
          [
           "Cookie"
          ],
          [
           "water jug"
          ],
          [
           "water bottle"
          ],
          [
           "Coffee"
          ],
          [
           "Sports equipment"
          ],
          [
           "Broccoli"
          ],
          [
           "jigsaw puzzle"
          ],
          [
           "playroom"
          ],
          [
           "Musical instrument"
          ],
          [
           "Houseplant"
          ],
          [
           "Houseplant"
          ],
          [
           "Vase"
          ],
          [
           "Vase"
          ],
          [
           "Flower"
          ],
          [
           "tree_farm"
          ],
          [
           "japanese_garden"
          ],
          [
           "botanical_garden"
          ],
          [
           "vegetable_garden"
          ],
          [
           "coffeepot"
          ],
          [
           "refrigerator"
          ],
          [
           "refrigerator"
          ],
          [
           "washer"
          ],
          [
           "Washing machine"
          ],
          [
           "dishwasher"
          ],
          [
           "House"
          ],
          [
           "house"
          ],
          [
           "Cash register"
          ],
          [
           "ox"
          ],
          [
           "Child speech, kid speaking"
          ],
          [
           "Bed"
          ],
          [
           "coffee_shop"
          ],
          [
           "vestment"
          ],
          [
           "Cart"
          ],
          [
           "supermarket"
          ],
          [
           "grocery store"
          ],
          [
           "Footwear"
          ],
          [
           "hardware_store"
          ],
          [
           "fabric_store"
          ],
          [
           "gift_shop"
          ],
          [
           "Teddy bear"
          ],
          [
           "swing"
          ],
          [
           "Toy"
          ],
          [
           "Sunflower"
          ],
          [
           "Rose"
          ],
          [
           "Lily"
          ],
          [
           "cardoon"
          ],
          [
           "daisy"
          ],
          [
           "florist_shop/indoor"
          ],
          [
           "Christmas tree"
          ],
          [
           "Christmas tree"
          ],
          [
           "Christmas stocking"
          ],
          [
           "Bathroom cabinet"
          ],
          [
           "Children shouting"
          ],
          [
           "Trousers"
          ],
          [
           "Handbag"
          ],
          [
           "Wardrobe"
          ],
          [
           "Fashion accessory"
          ],
          [
           "Chopping (food)"
          ],
          [
           "Woman"
          ],
          [
           "Luggage and bags"
          ],
          [
           "wallet"
          ],
          [
           "Bathtub"
          ],
          [
           "Towel"
          ],
          [
           "Soap dispenser"
          ],
          [
           "soap dispenser"
          ],
          [
           "bathtub"
          ],
          [
           "perfume"
          ],
          [
           "Cosmetics"
          ],
          [
           "Toothbrush"
          ],
          [
           "radio"
          ],
          [
           "Train"
          ],
          [
           "watering_hole"
          ],
          [
           "Christmas music"
          ],
          [
           "Christmas music"
          ],
          [
           "beach"
          ],
          [
           "Country"
          ],
          [
           "carrying baby"
          ],
          [
           "Banana"
          ],
          [
           "yoga"
          ],
          [
           "Carrot"
          ],
          [
           "pill bottle"
          ],
          [
           "'medicine cabinet'"
          ],
          [
           "hospital"
          ],
          [
           "'Entertainment'"
          ],
          [
           "ski"
          ],
          [
           "Sports uniform"
          ],
          [
           "'Sports'"
          ],
          [
           "'suit of clothes'"
          ],
          [
           "'Fashion'"
          ],
          [
           "'Lifestyle'"
          ],
          [
           "'shoe shop'"
          ],
          [
           "'shoe-shop'"
          ],
          [
           "'shoe store'"
          ],
          [
           "outdoor"
          ],
          [
           "hockey"
          ],
          [
           "performance"
          ],
          [
           "shop"
          ],
          [
           "childs_room"
          ],
          [
           "food_court"
          ],
          [
           "kitchen"
          ],
          [
           "pet_shop"
          ],
          [
           "football"
          ],
          [
           "yard"
          ],
          [
           "zen_garden"
          ],
          [
           "Flute"
          ],
          [
           "Jazz"
          ],
          [
           "Music"
          ],
          [
           "Music for children"
          ],
          [
           "Opera"
          ],
          [
           "Radio"
          ],
          [
           "Ship"
          ],
          [
           "Song"
          ],
          [
           "Tools"
          ],
          [
           "dining"
          ],
          [
           "tasting food"
          ],
          [
           "writing"
          ],
          [
           "playing tennis"
          ],
          [
           "jogging"
          ],
          [
           "arranging flowers"
          ],
          [
           "arranging flowers"
          ],
          [
           "golf driving"
          ],
          [
           "counting money"
          ],
          [
           "walking the dog"
          ],
          [
           "playing cards"
          ],
          [
           "mowing lawn"
          ],
          [
           "playing monopoly"
          ],
          [
           "baking cookies"
          ],
          [
           "eating burger"
          ],
          [
           "playing controller"
          ],
          [
           "watering plants"
          ],
          [
           "drawing"
          ],
          [
           "drinking beer"
          ],
          [
           "making pizza"
          ],
          [
           "cooking chicken"
          ],
          [
           "feeding goats"
          ],
          [
           "eating doughnuts"
          ],
          [
           "grinding meat"
          ],
          [
           "getting a haircut"
          ],
          [
           "Person"
          ],
          [
           "Pizza"
          ],
          [
           "'Holiday'"
          ],
          [
           "'Business'"
          ],
          [
           "'Economy'"
          ],
          [
           "'Shopping'"
          ],
          [
           "'Food'"
          ],
          [
           "Football"
          ],
          [
           "Shower"
          ],
          [
           "Personal care"
          ],
          [
           "Gas stove"
          ],
          [
           "Gas stove"
          ],
          [
           "Salt and pepper shakers"
          ],
          [
           "Mixing bowl"
          ],
          [
           "Food processor"
          ],
          [
           "Frying pan"
          ],
          [
           "Kitchen knife"
          ],
          [
           "Pasta"
          ],
          [
           "Seafood"
          ],
          [
           "Cooking spray"
          ],
          [
           "Cooking spray"
          ],
          [
           "Bowling equipment"
          ],
          [
           "Chicken"
          ],
          [
           "Furniture"
          ],
          [
           "Ice cream"
          ],
          [
           "Salad"
          ],
          [
           "Cat furniture"
          ],
          [
           "Pastry"
          ],
          [
           "'chrysanthemum dog'"
          ],
          [
           "'squeeze box'"
          ],
          [
           "'bakery'"
          ],
          [
           "'bakeshop'"
          ],
          [
           "'bakeshop'"
          ],
          [
           "'bathtub'"
          ],
          [
           "'bathing tub'"
          ],
          [
           "'butcher shop'"
          ],
          [
           "'meat market'"
          ],
          [
           "'china closet'"
          ],
          [
           "'candy store'"
          ],
          [
           "'dishwasher'"
          ],
          [
           "'dish washer'"
          ],
          [
           "'dishwashing machine'"
          ],
          [
           "'grocery store'"
          ],
          [
           "'grocery'"
          ],
          [
           "'food market'"
          ],
          [
           "'market'"
          ],
          [
           "'hair dryer'"
          ],
          [
           "'hair drier'"
          ],
          [
           "'measuring cup'"
          ],
          [
           "'perfume'"
          ],
          [
           "'flowerpot'"
          ],
          [
           "'refrigerator'"
          ],
          [
           "'refrigerator'"
          ],
          [
           "'shopping basket'"
          ],
          [
           "'shower curtain'"
          ],
          [
           "'soup bowl'"
          ],
          [
           "'teddy bear'"
          ],
          [
           "'tobacco shop'"
          ],
          [
           "'tobacconist shop'"
          ],
          [
           "'vacuum cleaner'"
          ],
          [
           "'washer'"
          ],
          [
           "'washing machine'"
          ],
          [
           "'water bottle'"
          ],
          [
           "'wooden spoon'"
          ],
          [
           "'ice cream'"
          ],
          [
           "'icecream'"
          ],
          [
           "'bagel'"
          ],
          [
           "'broccoli'"
          ],
          [
           "'cauliflower'"
          ],
          [
           "\"yellow lady's slipper\""
          ],
          [
           "'yellow lady-slipper'"
          ],
          [
           "'Cypripedium parviflorum'"
          ],
          [
           "'rose hip'"
          ],
          [
           "'rosehip'"
          ],
          [
           "Violin, fiddle"
          ],
          [
           "Water"
          ],
          [
           "Writing"
          ],
          [
           "texting"
          ],
          [
           "'anemone fish'"
          ],
          [
           "'mail'"
          ],
          [
           "'Grifola frondosa'"
          ],
          [
           "Cutting board"
          ]
         ],
         "hovertemplate": "label=Shopping<br>x=%{x}<br>y=%{y}<br>items=%{customdata[0]}<extra></extra>",
         "legendgroup": "Shopping",
         "marker": {
          "color": "#FF6692",
          "symbol": "circle"
         },
         "mode": "markers",
         "name": "Shopping",
         "showlegend": true,
         "type": "scattergl",
         "x": [
          -37.043914794921875,
          -7.424010753631592,
          11.961468696594238,
          -27.0146484375,
          -27.165637969970703,
          8.156120300292969,
          41.46025848388672,
          43.14616775512695,
          4.538790225982666,
          -10.891560554504395,
          -32.02269744873047,
          89.06512451171875,
          60.29600524902344,
          -29.745075225830078,
          -30.549795150756836,
          -29.263643264770508,
          -2.737926721572876,
          -26.48013687133789,
          11.258209228515625,
          2.945188522338867,
          -35.13961410522461,
          -36.36424255371094,
          -31.891889572143555,
          -31.891889572143555,
          -29.85670280456543,
          79.43354797363281,
          0.3446306586265564,
          -6.665450572967529,
          -9.174894332885742,
          -15.387672424316406,
          -17.149646759033203,
          -8.295812606811523,
          35.2312126159668,
          11.243699073791504,
          -37.09345245361328,
          55.07414245605469,
          59.028907775878906,
          72.87242889404297,
          60.875831604003906,
          -55.37016296386719,
          -5.943942546844482,
          67.59040069580078,
          -67.62489318847656,
          49.83245086669922,
          48.25975036621094,
          -63.22962951660156,
          -81.00663757324219,
          -36.49291229248047,
          -18.32976531982422,
          28.941726684570312,
          -13.57646369934082,
          -19.427148818969727,
          -36.89297103881836,
          -37.42681121826172,
          17.163333892822266,
          -28.41252899169922,
          -9.251521110534668,
          -16.55243682861328,
          -15.519617080688477,
          -12.74734115600586,
          -22.86117935180664,
          -50.64614486694336,
          23.94913101196289,
          73.95438385009766,
          40.76985549926758,
          5.258624076843262,
          5.258624076843262,
          3.5560054779052734,
          4.411165237426758,
          -66.6775894165039,
          48.229923248291016,
          57.97559356689453,
          55.46108627319336,
          53.46454620361328,
          -2.439566135406494,
          23.676496505737305,
          23.676496505737305,
          16.651607513427734,
          22.417665481567383,
          18.19495964050293,
          42.739173889160156,
          42.897911071777344,
          40.327056884765625,
          -7.924685478210449,
          85.74007415771484,
          -0.6783544421195984,
          -35.28277587890625,
          19.332462310791016,
          -0.4433644115924835,
          -27.9163761138916,
          -30.491010665893555,
          -8.765008926391602,
          -31.03605079650879,
          -32.33175277709961,
          -35.75320053100586,
          -51.95506286621094,
          -11.874573707580566,
          -3.0493533611297607,
          -63.69316864013672,
          -20.11716079711914,
          -69.97834777832031,
          -46.111846923828125,
          -68.37818908691406,
          39.239749908447266,
          38.51028823852539,
          38.51028823852539,
          64.37934875488281,
          12.300180435180664,
          88.12629699707031,
          -11.595586776733398,
          -17.660018920898438,
          -9.12678337097168,
          -11.63767147064209,
          12.672786712646484,
          -18.374427795410156,
          -15.161128997802734,
          -5.88697624206543,
          8.782797813415527,
          -0.6251174211502075,
          12.23280143737793,
          12.019591331481934,
          8.55968952178955,
          0.09721186757087708,
          -1.5146129131317139,
          14.89266586303711,
          55.10972213745117,
          3.232866048812866,
          -24.565017700195312,
          66.19031524658203,
          66.19031524658203,
          47.8592414855957,
          43.94859313964844,
          -57.92647933959961,
          -55.64336013793945,
          13.142477035522461,
          -60.22801208496094,
          -14.1133394241333,
          30.453826904296875,
          48.2276496887207,
          -23.335491180419922,
          -15.638605117797852,
          -21.52381706237793,
          -18.127906799316406,
          -14.798555374145508,
          -28.86917495727539,
          -30.46561622619629,
          -41.38673782348633,
          -42.61050033569336,
          -42.52078628540039,
          68.09033203125,
          2.956394672393799,
          17.525955200195312,
          -22.24905776977539,
          82.4983901977539,
          33.230430603027344,
          29.821340560913086,
          -38.16569137573242,
          57.48343276977539,
          45.74296569824219,
          57.761192321777344,
          33.76885986328125,
          58.633914947509766,
          65.57469177246094,
          70.52757263183594,
          12.029285430908203,
          57.951663970947266,
          -7.914541721343994,
          69.08274841308594,
          6.776512145996094,
          70.61105346679688,
          5.1818623542785645,
          73.28729248046875,
          7.917839050292969,
          11.132253646850586,
          -63.74991989135742,
          -63.74991989135742,
          3.581724166870117,
          40.97325134277344,
          -23.234560012817383,
          14.97382926940918,
          24.451457977294922,
          11.996635437011719,
          -2.731492042541504,
          1.5587280988693237,
          17.510757446289062,
          -23.427974700927734,
          20.399463653564453,
          3.7377164363861084,
          1.3096847534179688,
          16.85508155822754,
          -19.108951568603516,
          -1.6196119785308838,
          13.997617721557617,
          0.023880546912550926,
          -13.071563720703125,
          -5.820624351501465,
          -38.546138763427734,
          -35.84257125854492,
          -32.6568603515625,
          -45.17436218261719,
          1.475382685661316,
          57.15057373046875,
          9.579155921936035,
          7.368251323699951,
          21.696308135986328,
          22.223155975341797,
          10.468512535095215,
          6.882496356964111,
          15.624314308166504,
          12.271659851074219,
          12.767512321472168,
          -52.48988342285156,
          -65.80860900878906,
          15.49425983428955,
          15.49425983428955,
          -21.021656036376953,
          -85.3065414428711,
          17.663833618164062,
          -37.672706604003906,
          -16.154111862182617,
          -75.39920043945312,
          -12.086966514587402,
          -56.859832763671875,
          28.137739181518555,
          -31.02704620361328,
          -32.66093444824219,
          -32.66093444824219,
          6.365777492523193,
          6.443027496337891,
          -37.30634689331055,
          -40.74134826660156,
          5.592069625854492,
          -32.47273635864258,
          19.80845832824707,
          19.054759979248047,
          20.044841766357422,
          -31.838064193725586,
          -31.913715362548828,
          -37.581546783447266,
          -39.815711975097656,
          22.185956954956055,
          21.464834213256836,
          -5.104572296142578,
          1.1534099578857422,
          -0.17880018055438995,
          26.052213668823242,
          25.61916160583496,
          -38.233238220214844,
          4.3742475509643555,
          3.35654354095459,
          -51.54541778564453,
          -41.15909194946289,
          -41.49317169189453,
          22.741737365722656,
          18.873971939086914,
          20.74051284790039,
          -14.845356941223145,
          2.6881871223449707,
          -37.31627655029297,
          -36.59342575073242,
          -27.1709041595459,
          -50.35175704956055,
          -49.940834045410156,
          -47.12871170043945,
          -45.42707824707031,
          -51.033355712890625,
          -49.20967102050781,
          -49.18381118774414,
          34.9193000793457,
          -18.899282455444336,
          71.8416519165039,
          38.94841384887695,
          -58.96632385253906,
          -31.676572799682617,
          -52.442893981933594,
          9.284506797790527
         ],
         "xaxis": "x",
         "y": [
          50.94633865356445,
          41.987125396728516,
          31.81064796447754,
          39.247215270996094,
          40.84218215942383,
          28.407094955444336,
          16.820905685424805,
          3.303529977798462,
          30.62713623046875,
          -24.788156509399414,
          42.50685501098633,
          40.70542907714844,
          7.008678436279297,
          36.67621612548828,
          23.15947914123535,
          29.73238754272461,
          23.120498657226562,
          44.89284896850586,
          -33.34042739868164,
          40.92394256591797,
          46.675411224365234,
          35.94107437133789,
          39.57029724121094,
          39.57029724121094,
          43.63646697998047,
          -5.820196628570557,
          72.3402099609375,
          13.511592864990234,
          15.789081573486328,
          38.41635513305664,
          37.90272903442383,
          -24.909212112426758,
          0.29065167903900146,
          49.41312789916992,
          44.93113327026367,
          -27.121450424194336,
          -42.9395866394043,
          -27.276321411132812,
          -8.3679838180542,
          19.678478240966797,
          80.85932159423828,
          -38.135589599609375,
          -11.715139389038086,
          -10.095325469970703,
          2.9927620887756348,
          -14.948053359985352,
          0.540178656578064,
          15.067826271057129,
          6.1228532791137695,
          2.597003698348999,
          25.75234603881836,
          15.009047508239746,
          23.84998893737793,
          37.17090606689453,
          -1.51674222946167,
          28.085098266601562,
          21.456327438354492,
          3.107534408569336,
          3.4208579063415527,
          22.61777687072754,
          -2.5690290927886963,
          3.511500120162964,
          19.008224487304688,
          -10.317052841186523,
          72.675048828125,
          8.517820358276367,
          8.517820358276367,
          4.246156215667725,
          3.9353106021881104,
          1.2179806232452393,
          -17.165435791015625,
          -17.12912940979004,
          -17.01280975341797,
          -18.114700317382812,
          4.636157512664795,
          -15.160063743591309,
          -15.160063743591309,
          -23.465497970581055,
          -22.724863052368164,
          -18.961328506469727,
          -1.500617265701294,
          -3.5584514141082764,
          23.326980590820312,
          59.46151351928711,
          38.9823112487793,
          29.38739013671875,
          40.640445709228516,
          26.10026741027832,
          43.288143157958984,
          34.83545684814453,
          35.18925476074219,
          -21.527423858642578,
          46.730224609375,
          44.64821243286133,
          44.14189910888672,
          -30.80412483215332,
          42.72068786621094,
          56.389488220214844,
          -0.6020660996437073,
          48.58489990234375,
          -1.205847978591919,
          14.558280944824219,
          -0.20878846943378448,
          6.657694339752197,
          12.228248596191406,
          12.228248596191406,
          52.64097595214844,
          -26.57170867919922,
          36.778167724609375,
          -29.430116653442383,
          -15.757097244262695,
          -27.709552764892578,
          -22.189735412597656,
          6.152029514312744,
          52.62053680419922,
          -16.123750686645508,
          37.062744140625,
          -31.149810791015625,
          -31.881778717041016,
          -22.137020111083984,
          -20.501564025878906,
          -32.59391403198242,
          -18.352102279663086,
          -21.93109703063965,
          -30.044450759887695,
          23.624921798706055,
          48.164268493652344,
          22.40998649597168,
          53.662384033203125,
          53.662384033203125,
          -38.03335189819336,
          10.990507125854492,
          64.88960266113281,
          4.934963226318359,
          87.29457092285156,
          1.9720652103424072,
          4.385377883911133,
          -16.89354705810547,
          -4.234576225280762,
          70.83844757080078,
          43.73830032348633,
          -6.1139631271362305,
          74.95494842529297,
          -37.25481414794922,
          67.12903594970703,
          70.38200378417969,
          38.51213836669922,
          38.79248809814453,
          40.75990295410156,
          -34.919761657714844,
          69.28482818603516,
          36.38679122924805,
          40.64418029785156,
          -16.609298706054688,
          4.766814231872559,
          -7.969604969024658,
          42.56621551513672,
          36.72183609008789,
          -10.97582721710205,
          -20.45643424987793,
          77.8191146850586,
          72.30970764160156,
          48.049720764160156,
          54.86231994628906,
          43.010074615478516,
          25.101211547851562,
          46.5056266784668,
          42.41427993774414,
          45.14662170410156,
          -22.432201385498047,
          16.69155502319336,
          31.243127822875977,
          77.16666412353516,
          83.34366607666016,
          55.838890075683594,
          55.838890075683594,
          87.70201873779297,
          21.50604820251465,
          -65.0102310180664,
          71.6942367553711,
          -48.35004806518555,
          69.2636489868164,
          14.14891242980957,
          17.05825424194336,
          67.82569885253906,
          25.08857536315918,
          32.43315505981445,
          20.21021270751953,
          13.10356330871582,
          5.201091766357422,
          -87.5591812133789,
          17.462507247924805,
          9.33447265625,
          -86.99573516845703,
          51.12015914916992,
          23.83026885986328,
          64.39850616455078,
          80.70088195800781,
          79.55067443847656,
          35.12840270996094,
          24.247394561767578,
          33.81195068359375,
          -36.11705780029297,
          -23.582921981811523,
          -2.363398313522339,
          -2.615248441696167,
          -15.517568588256836,
          -2.6130497455596924,
          -13.780200004577637,
          -5.026831150054932,
          -11.207040786743164,
          8.908808708190918,
          9.579520225524902,
          -7.211940288543701,
          -7.211940288543701,
          -0.1826404333114624,
          -6.171261310577393,
          12.291842460632324,
          15.464544296264648,
          11.625330924987793,
          -58.399967193603516,
          17.33635139465332,
          -75.60491180419922,
          90.31866455078125,
          27.386472702026367,
          29.38426399230957,
          29.38426399230957,
          -32.16127014160156,
          -33.80575942993164,
          34.14605712890625,
          30.165367126464844,
          -14.001143455505371,
          37.81185531616211,
          -19.87285804748535,
          -20.698467254638672,
          -21.75617790222168,
          34.150718688964844,
          33.01611328125,
          29.579221725463867,
          27.65129852294922,
          -36.02093505859375,
          -37.514259338378906,
          0.529291570186615,
          -16.18659210205078,
          2.407670021057129,
          -14.749967575073242,
          -15.248087882995605,
          23.340484619140625,
          -36.88623046875,
          -2.910831928253174,
          -31.26218605041504,
          34.882015228271484,
          34.54747009277344,
          -30.970653533935547,
          -24.919979095458984,
          -23.976709365844727,
          2.0399417877197266,
          -5.311236381530762,
          13.027621269226074,
          12.665716171264648,
          11.419999122619629,
          3.3437671661376953,
          1.6602109670639038,
          -39.90068817138672,
          -39.9161262512207,
          -41.79548263549805,
          11.250455856323242,
          11.123282432556152,
          71.4592514038086,
          23.81179428100586,
          32.980918884277344,
          51.844207763671875,
          -24.933664321899414,
          -5.970216274261475,
          -41.44895935058594,
          -11.113443374633789
         ],
         "yaxis": "y"
        },
        {
         "customdata": [
          [
           "pickup"
          ],
          [
           "Car"
          ],
          [
           "Vehicle"
          ],
          [
           "sports car"
          ],
          [
           "Animal"
          ],
          [
           "library"
          ],
          [
           "Book"
          ],
          [
           "Building"
          ],
          [
           "cinema"
          ],
          [
           "Television"
          ],
          [
           "Basketball bounce"
          ],
          [
           "Food"
          ],
          [
           "Chair"
          ],
          [
           "Bird"
          ],
          [
           "Box"
          ],
          [
           "basketball"
          ],
          [
           "Horse"
          ],
          [
           "stage"
          ],
          [
           "ball_pit"
          ],
          [
           "ballroom"
          ],
          [
           "Suit"
          ],
          [
           "suit"
          ],
          [
           "Table"
          ],
          [
           "restaurant"
          ],
          [
           "Camera"
          ],
          [
           "science_museum"
          ],
          [
           "Canoe"
          ],
          [
           "Frisbee"
          ],
          [
           "croquet ball"
          ],
          [
           "park"
          ],
          [
           "church"
          ],
          [
           "Fish"
          ],
          [
           "Drink"
          ],
          [
           "Bowl"
          ],
          [
           "Beer"
          ],
          [
           "Wine"
          ],
          [
           "trifle"
          ],
          [
           "Coffee"
          ],
          [
           "Sports equipment"
          ],
          [
           "Snowboard"
          ],
          [
           "Violin"
          ],
          [
           "violin"
          ],
          [
           "pot"
          ],
          [
           "House"
          ],
          [
           "house"
          ],
          [
           "ox"
          ],
          [
           "Children playing"
          ],
          [
           "vestment"
          ],
          [
           "Cart"
          ],
          [
           "swing"
          ],
          [
           "Toy"
          ],
          [
           "hip"
          ],
          [
           "jersey"
          ],
          [
           "Woman"
          ],
          [
           "radio"
          ],
          [
           "screen"
          ],
          [
           "television"
          ],
          [
           "Train"
          ],
          [
           "Country"
          ],
          [
           "tennis ball"
          ],
          [
           "yoga"
          ],
          [
           "hospital"
          ],
          [
           "'Entertainment'"
          ],
          [
           "'Race'"
          ],
          [
           "stadium/soccer"
          ],
          [
           "racket"
          ],
          [
           "Football helmet"
          ],
          [
           "soccer ball"
          ],
          [
           "ski"
          ],
          [
           "football helmet"
          ],
          [
           "'football helmet'"
          ],
          [
           "ballplayer"
          ],
          [
           "rugby ball"
          ],
          [
           "Tennis racket"
          ],
          [
           "Sports uniform"
          ],
          [
           "hurling (sport)"
          ],
          [
           "athletic_field/outdoor"
          ],
          [
           "'sports car'"
          ],
          [
           "'sport car'"
          ],
          [
           "scoreboard"
          ],
          [
           "'Sports'"
          ],
          [
           "'jersey'"
          ],
          [
           "'Lifestyle'"
          ],
          [
           "outdoor"
          ],
          [
           "arcade"
          ],
          [
           "hockey"
          ],
          [
           "performance"
          ],
          [
           "shop"
          ],
          [
           "baseball_field"
          ],
          [
           "football_field"
          ],
          [
           "recreation_room"
          ],
          [
           "soccer_field"
          ],
          [
           "baseball"
          ],
          [
           "football"
          ],
          [
           "yard"
          ],
          [
           "Engine"
          ],
          [
           "Jazz"
          ],
          [
           "Music"
          ],
          [
           "Opera"
          ],
          [
           "Piano"
          ],
          [
           "Race car, auto racing"
          ],
          [
           "Radio"
          ],
          [
           "Ship"
          ],
          [
           "Song"
          ],
          [
           "Tools"
          ],
          [
           "playing poker"
          ],
          [
           "playing cricket"
          ],
          [
           "playing ice hockey"
          ],
          [
           "motorcycling"
          ],
          [
           "passing American football (in game)"
          ],
          [
           "golf putting"
          ],
          [
           "writing"
          ],
          [
           "playing volleyball"
          ],
          [
           "playing tennis"
          ],
          [
           "jogging"
          ],
          [
           "playing violin"
          ],
          [
           "playing chess"
          ],
          [
           "catching or throwing baseball"
          ],
          [
           "hitting baseball"
          ],
          [
           "playing cards"
          ],
          [
           "sled dog racing"
          ],
          [
           "playing squash or racquetball"
          ],
          [
           "playing basketball"
          ],
          [
           "juggling soccer ball"
          ],
          [
           "passing American football (not in game)"
          ],
          [
           "drawing"
          ],
          [
           "dribbling basketball"
          ],
          [
           "shooting basketball"
          ],
          [
           "hockey stop"
          ],
          [
           "water skiing"
          ],
          [
           "Person"
          ],
          [
           "Pizza"
          ],
          [
           "'Politics'"
          ],
          [
           "Football"
          ],
          [
           "Volleyball"
          ],
          [
           "Golf ball"
          ],
          [
           "Table tennis racket"
          ],
          [
           "Tennis ball"
          ],
          [
           "Seafood"
          ],
          [
           "Chicken"
          ],
          [
           "Watch"
          ],
          [
           "Rugby ball"
          ],
          [
           "'boxer'"
          ],
          [
           "'baseball'"
          ],
          [
           "'basketball'"
          ],
          [
           "'hockey puck'"
          ],
          [
           "'racket'"
          ],
          [
           "'racquet'"
          ],
          [
           "'snorkel'"
          ],
          [
           "'sock'"
          ],
          [
           "'tennis ball'"
          ],
          [
           "'volleyball'"
          ],
          [
           "'ballplayer'"
          ],
          [
           "'baseball player'"
          ],
          [
           "Water"
          ],
          [
           "Writing"
          ]
         ],
         "hovertemplate": "label=Sports<br>x=%{x}<br>y=%{y}<br>items=%{customdata[0]}<extra></extra>",
         "legendgroup": "Sports",
         "marker": {
          "color": "#B6E880",
          "symbol": "circle"
         },
         "mode": "markers",
         "name": "Sports",
         "showlegend": true,
         "type": "scattergl",
         "x": [
          -7.469401836395264,
          -1.4993261098861694,
          -3.640460729598999,
          -34.829566955566406,
          -86.8013916015625,
          11.961468696594238,
          8.156120300292969,
          43.14616775512695,
          59.64657211303711,
          62.99348831176758,
          0.32380783557891846,
          -1.8114206790924072,
          -0.3330250084400177,
          -80.10760498046875,
          2.6460936069488525,
          -0.07929170876741409,
          -90.0094223022461,
          14.00531005859375,
          -6.531814098358154,
          70.51493835449219,
          -15.387672424316406,
          -16.763715744018555,
          4.614446640014648,
          35.87301254272461,
          10.505313873291016,
          61.98512268066406,
          -67.1341781616211,
          -55.37016296386719,
          -5.943942546844482,
          49.83245086669922,
          48.25975036621094,
          -80.16419982910156,
          -14.67098331451416,
          5.3670244216918945,
          -10.177302360534668,
          -19.427148818969727,
          -43.786895751953125,
          -13.615004539489746,
          -22.219478607177734,
          -58.0029296875,
          33.6158447265625,
          32.208343505859375,
          -5.4521074295043945,
          42.739173889160156,
          44.177730560302734,
          -8.908706665039062,
          86.14639282226562,
          19.332462310791016,
          -0.4433644115924835,
          -11.062520980834961,
          -3.0327816009521484,
          -11.787361145019531,
          -20.86829948425293,
          -18.177438735961914,
          54.78953552246094,
          19.512474060058594,
          63.9859504699707,
          3.232866048812866,
          43.94859313964844,
          -4.408172130584717,
          13.265609741210938,
          48.2276496887207,
          -24.45128631591797,
          -33.013484954833984,
          62.856117248535156,
          -26.461238861083984,
          -24.6645450592041,
          -1.7685513496398926,
          -15.638605117797852,
          -25.785524368286133,
          -25.900136947631836,
          -4.587181568145752,
          -3.4387145042419434,
          -5.482916831970215,
          -21.52381706237793,
          -15.59689712524414,
          74.68311309814453,
          -33.93354034423828,
          -33.73142623901367,
          23.796550750732422,
          -18.04153060913086,
          -20.890085220336914,
          -29.835716247558594,
          67.4098129272461,
          70.62278747558594,
          2.956394672393799,
          17.525955200195312,
          -21.749732971191406,
          64.59034729003906,
          62.60385513305664,
          75.49042510986328,
          63.674015045166016,
          -4.987655162811279,
          58.95481872558594,
          45.74296569824219,
          -5.978529453277588,
          57.5314826965332,
          67.75860595703125,
          12.029285430908203,
          40.04044723510742,
          -36.85755920410156,
          57.40830612182617,
          -8.49801254272461,
          69.08274841308594,
          6.776512145996094,
          12.516026496887207,
          7.418425559997559,
          5.8394598960876465,
          -43.38005828857422,
          57.95918655395508,
          3.1922686100006104,
          73.28729248046875,
          3.604295253753662,
          7.917839050292969,
          11.132253646850586,
          27.97420310974121,
          10.08126449584961,
          -3.9578323364257812,
          -3.4108128547668457,
          15.418516159057617,
          -41.01628112792969,
          6.369625568389893,
          4.252292156219482,
          -1.1282435655593872,
          57.9596061706543,
          22.135101318359375,
          1.8933720588684082,
          2.425856113433838,
          4.069621562957764,
          -62.315948486328125,
          -13.071563720703125,
          -6.2654643058776855,
          -31.831729888916016,
          56.517425537109375,
          -0.6354369521141052,
          -1.9480831623077393,
          -7.7237935066223145,
          -4.092710494995117,
          -65.80860900878906,
          -85.3065414428711,
          21.018569946289062,
          -3.4413821697235107,
          -33.84528732299805,
          -5.97768497467041,
          -1.3670598268508911,
          -35.94266891479492,
          -26.818105697631836,
          -27.333433151245117,
          -52.042362213134766,
          -28.194049835205078,
          -5.026849269866943,
          -1.2807567119598389,
          -5.444012641906738,
          -5.889438629150391,
          -18.899282455444336,
          71.8416519165039
         ],
         "xaxis": "x",
         "y": [
          42.03892135620117,
          51.094627380371094,
          48.72267150878906,
          -25.918113708496094,
          -1.6366970539093018,
          31.81064796447754,
          28.407094955444336,
          3.303529977798462,
          6.007702350616455,
          21.337369918823242,
          74.9230728149414,
          22.387571334838867,
          37.666015625,
          -7.375892162322998,
          41.68503189086914,
          73.12122344970703,
          -25.19088363647461,
          38.53997039794922,
          83.22798919677734,
          -11.921448707580566,
          38.41635513305664,
          37.18712615966797,
          36.326045989990234,
          -0.4236290752887726,
          49.840328216552734,
          -12.070076942443848,
          25.675294876098633,
          19.678478240966797,
          80.85932159423828,
          -10.095325469970703,
          2.9927620887756348,
          0.784906804561615,
          25.7206974029541,
          0.33890148997306824,
          26.446748733520508,
          15.009047508239746,
          54.33939743041992,
          22.1566162109375,
          -2.5438196659088135,
          26.694700241088867,
          73.05158996582031,
          73.87135314941406,
          30.34688949584961,
          -1.500617265701294,
          -2.9550390243530273,
          59.40441131591797,
          35.242835998535156,
          26.10026741027832,
          43.288143157958984,
          42.42698287963867,
          55.53950881958008,
          35.91675567626953,
          -31.182527542114258,
          53.450748443603516,
          25.18348503112793,
          40.751407623291016,
          19.629417419433594,
          48.164268493652344,
          10.990507125854492,
          84.53964233398438,
          88.43810272216797,
          -4.234576225280762,
          70.3092041015625,
          75.46147155761719,
          30.964614868164062,
          2.468963861465454,
          -8.912910461425781,
          83.08443450927734,
          43.73830032348633,
          -8.231176376342773,
          -6.939167022705078,
          69.42742156982422,
          82.4100570678711,
          87.08514404296875,
          -6.1139631271362305,
          74.44684600830078,
          -39.70821762084961,
          -27.11751937866211,
          -27.954362869262695,
          42.36923599243164,
          73.65751647949219,
          -31.231327056884766,
          71.91935729980469,
          -34.84219741821289,
          -6.671527862548828,
          69.28482818603516,
          36.38679122924805,
          39.801509857177734,
          34.96956253051758,
          34.91456985473633,
          -12.874176025390625,
          34.14149475097656,
          74.00161743164062,
          37.023807525634766,
          -10.97582721710205,
          50.72813415527344,
          72.42632293701172,
          47.250648498535156,
          43.010074615478516,
          69.53614044189453,
          -27.564363479614258,
          26.015899658203125,
          47.01459884643555,
          42.41427993774414,
          45.14662170410156,
          74.03534698486328,
          75.31155395507812,
          69.71070861816406,
          -18.961463928222656,
          41.49565887451172,
          84.6171646118164,
          31.243127822875977,
          78.20991516113281,
          77.16666412353516,
          83.34366607666016,
          72.10645294189453,
          72.9046401977539,
          75.5407943725586,
          75.4394302368164,
          72.66065216064453,
          -53.376625061035156,
          80.44831085205078,
          74.34280395507812,
          82.48873901367188,
          41.49972152709961,
          32.54573059082031,
          75.79830932617188,
          74.28265380859375,
          66.87309265136719,
          30.972583770751953,
          51.12015914916992,
          24.578533172607422,
          84.24746704101562,
          35.072269439697266,
          79.06045532226562,
          85.48043823242188,
          87.27592468261719,
          84.89527893066406,
          9.579520225524902,
          -6.171261310577393,
          46.096954345703125,
          82.48844146728516,
          -39.13298034667969,
          72.72093200683594,
          72.44956970214844,
          4.803258419036865,
          2.4629456996917725,
          2.573669910430908,
          26.398286819458008,
          -47.6092643737793,
          84.58114624023438,
          77.87858581542969,
          70.26887512207031,
          71.54881286621094,
          23.81179428100586,
          32.980918884277344
         ],
         "yaxis": "y"
        },
        {
         "customdata": [
          [
           "Air brake"
          ],
          [
           "Aircraft engine"
          ],
          [
           "repair_shop"
          ],
          [
           "Office building"
          ],
          [
           "assembly_line"
          ],
          [
           "aircraft carrier"
          ],
          [
           "airplane_cabin"
          ],
          [
           "airliner"
          ],
          [
           "warplane"
          ],
          [
           "bank_vault"
          ],
          [
           "confectionery"
          ],
          [
           "butcher shop"
          ],
          [
           "butcher shop"
          ],
          [
           "department_store"
          ],
          [
           "dial telephone"
          ],
          [
           "cellular telephone"
          ],
          [
           "Bird flight, flapping wings"
          ],
          [
           "modem"
          ],
          [
           "art_school"
          ],
          [
           "bakery"
          ],
          [
           "Apple"
          ],
          [
           "music_studio"
          ],
          [
           "office_building"
          ],
          [
           "vestment"
          ],
          [
           "supermarket"
          ],
          [
           "supermarket"
          ],
          [
           "grocery store"
          ],
          [
           "grocery store"
          ],
          [
           "hardware_store"
          ],
          [
           "fabric_store"
          ],
          [
           "Briefcase"
          ],
          [
           "television_studio"
          ],
          [
           "television_studio"
          ],
          [
           "hotel_room"
          ],
          [
           "hospital_room"
          ],
          [
           "'television'"
          ],
          [
           "'television'"
          ],
          [
           "'television system'"
          ],
          [
           "'television system'"
          ],
          [
           "'Showbiz'"
          ],
          [
           "'cinema'"
          ],
          [
           "'cinema'"
          ],
          [
           "'movie theater'"
          ],
          [
           "'movie theatre'"
          ],
          [
           "fastfood_restaurant"
          ],
          [
           "fastfood_restaurant"
          ],
          [
           "food_court"
          ],
          [
           "industrial_area"
          ],
          [
           "industrial_area"
          ],
          [
           "industrial_area"
          ],
          [
           "industrial_area"
          ],
          [
           "pet_shop"
          ],
          [
           "football"
          ],
          [
           "Fixed-wing aircraft, airplane"
          ],
          [
           "'Politics'"
          ],
          [
           "'Business'"
          ],
          [
           "'Economy'"
          ],
          [
           "'News'"
          ],
          [
           "'Health'"
          ],
          [
           "'Government'"
          ],
          [
           "'Education'"
          ],
          [
           "'Science'"
          ],
          [
           "'Food'"
          ],
          [
           "Food processor"
          ],
          [
           "Vegetable"
          ],
          [
           "'bakery'"
          ],
          [
           "'butcher shop'"
          ],
          [
           "'butcher shop'"
          ],
          [
           "'meat market'"
          ],
          [
           "'meat market'"
          ],
          [
           "'cellular telephone'"
          ],
          [
           "'cellular phone'"
          ],
          [
           "'cellphone'"
          ],
          [
           "'confectionery'"
          ],
          [
           "'confectionary'"
          ],
          [
           "'grocery store'"
          ],
          [
           "'food market'"
          ],
          [
           "'food market'"
          ],
          [
           "'market'"
          ],
          [
           "'market'"
          ],
          [
           "'market'"
          ],
          [
           "'restaurant'"
          ],
          [
           "'articulated lorry'"
          ],
          [
           "'warplane'"
          ],
          [
           "'military plane'"
          ]
         ],
         "hovertemplate": "label=Business and Finance<br>x=%{x}<br>y=%{y}<br>items=%{customdata[0]}<extra></extra>",
         "legendgroup": "Business and Finance",
         "marker": {
          "color": "#FF97FF",
          "symbol": "circle"
         },
         "mode": "markers",
         "name": "Business and Finance",
         "showlegend": true,
         "type": "scattergl",
         "x": [
          -46.84074020385742,
          -56.31761932373047,
          -39.183414459228516,
          86.23040771484375,
          54.75520324707031,
          -52.20970153808594,
          53.30403137207031,
          -51.6037712097168,
          -55.67982864379883,
          -19.95394515991211,
          -30.549795150756836,
          -36.36424255371094,
          -35.939430236816406,
          -29.85670280456543,
          41.16165542602539,
          40.69636154174805,
          -75.77857208251953,
          43.746978759765625,
          58.45859146118164,
          -29.15117835998535,
          16.20584487915039,
          59.68184280395508,
          84.87654113769531,
          19.332462310791016,
          -27.9163761138916,
          -27.9163761138916,
          -30.491010665893555,
          -30.491010665893555,
          -31.03605079650879,
          -32.33175277709961,
          -17.532344818115234,
          68.26795196533203,
          68.26795196533203,
          78.78202819824219,
          81.15167236328125,
          60.544403076171875,
          59.762351989746094,
          62.29217529296875,
          61.947208404541016,
          -21.395902633666992,
          60.65830612182617,
          60.65830612182617,
          65.62702178955078,
          63.68586349487305,
          31.6624755859375,
          30.906641006469727,
          33.768943786621094,
          86.18366241455078,
          86.18366241455078,
          86.18366241455078,
          86.18366241455078,
          -38.16569137573242,
          58.95481872558594,
          -58.233848571777344,
          -32.414588928222656,
          -35.82697677612305,
          -33.09947204589844,
          -30.098661422729492,
          -37.39570236206055,
          -34.8553466796875,
          -28.092527389526367,
          -25.980609893798828,
          0.902097225189209,
          15.4993314743042,
          -62.557044982910156,
          -30.980743408203125,
          -37.92052459716797,
          -37.92052459716797,
          -40.74134826660156,
          -40.238243103027344,
          39.057132720947266,
          38.515167236328125,
          37.4623908996582,
          -32.02106475830078,
          -32.55976867675781,
          -31.838064193725586,
          -37.581546783447266,
          -37.581546783447266,
          -39.815711975097656,
          -39.815711975097656,
          -39.129642486572266,
          31.95014762878418,
          17.358224868774414,
          -55.733577728271484,
          -53.272247314453125
         ],
         "xaxis": "x",
         "y": [
          -5.236631393432617,
          -3.6096630096435547,
          46.69572448730469,
          -6.7816290855407715,
          -10.87964916229248,
          -4.117898941040039,
          -57.22970962524414,
          -7.993237018585205,
          -10.120226860046387,
          -10.327714920043945,
          23.15947914123535,
          35.94107437133789,
          35.06108093261719,
          43.63646697998047,
          45.80146408081055,
          44.325401306152344,
          -10.166827201843262,
          28.400644302368164,
          -7.196194171905518,
          28.101280212402344,
          47.409454345703125,
          51.482505798339844,
          -7.395545959472656,
          26.10026741027832,
          34.83545684814453,
          34.83545684814453,
          35.18925476074219,
          35.18925476074219,
          46.730224609375,
          44.64821243286133,
          -17.60482406616211,
          17.307167053222656,
          17.307167053222656,
          -16.26959228515625,
          -16.537158966064453,
          18.47787857055664,
          18.379884719848633,
          15.706073760986328,
          16.27342987060547,
          66.18656921386719,
          9.237898826599121,
          9.237898826599121,
          9.042642593383789,
          7.85736083984375,
          1.199845552444458,
          0.9880557060241699,
          4.473699569702148,
          -22.458219528198242,
          -22.458219528198242,
          -22.458219528198242,
          -22.458219528198242,
          42.56621551513672,
          37.023807525634766,
          -7.474438190460205,
          83.34324645996094,
          80.75528717041016,
          78.70372772216797,
          84.61028289794922,
          75.44490814208984,
          83.43746185302734,
          79.51083374023438,
          83.09780883789062,
          24.462961196899414,
          -14.586042404174805,
          5.11164665222168,
          27.93617057800293,
          34.76879119873047,
          34.76879119873047,
          30.165367126464844,
          30.935394287109375,
          44.70619201660156,
          43.7757453918457,
          44.746280670166016,
          22.774837493896484,
          23.824440002441406,
          34.150718688964844,
          29.579221725463867,
          29.579221725463867,
          27.65129852294922,
          27.65129852294922,
          27.481464385986328,
          -2.864558458328247,
          -65.28092193603516,
          -11.60196304321289,
          -11.933398246765137
         ],
         "yaxis": "y"
        },
        {
         "customdata": [
          [
           "Ambient music"
          ],
          [
           "Cell phone"
          ],
          [
           "laptop"
          ],
          [
           "Laptop"
          ],
          [
           "amusement_arcade"
          ],
          [
           "entertainment center"
          ],
          [
           "movie_theater/indoor"
          ],
          [
           "cinema"
          ],
          [
           "Television"
          ],
          [
           "Computer keyboard"
          ],
          [
           "computer keyboard"
          ],
          [
           "basketball"
          ],
          [
           "electric guitar"
          ],
          [
           "Camera"
          ],
          [
           "Picture frame"
          ],
          [
           "Wine"
          ],
          [
           "Sports equipment"
          ],
          [
           "jigsaw puzzle"
          ],
          [
           "playroom"
          ],
          [
           "Violin"
          ],
          [
           "Guitar"
          ],
          [
           "Headphones"
          ],
          [
           "music_studio"
          ],
          [
           "Studio couch"
          ],
          [
           "Children playing"
          ],
          [
           "Remote control"
          ],
          [
           "hand-held computer"
          ],
          [
           "Computer mouse"
          ],
          [
           "Computer monitor"
          ],
          [
           "desktop computer"
          ],
          [
           "computer_room"
          ],
          [
           "Tablet computer"
          ],
          [
           "projector"
          ],
          [
           "home theater"
          ],
          [
           "television_room"
          ],
          [
           "home_theater"
          ],
          [
           "screen"
          ],
          [
           "television_studio"
          ],
          [
           "television"
          ],
          [
           "joystick"
          ],
          [
           "'television'"
          ],
          [
           "'Entertainment'"
          ],
          [
           "'home theater'"
          ],
          [
           "'home theatre'"
          ],
          [
           "'movie theater'"
          ],
          [
           "'movie theatre'"
          ],
          [
           "ballplayer"
          ],
          [
           "Sports uniform"
          ],
          [
           "'Sports'"
          ],
          [
           "arcade"
          ],
          [
           "hockey"
          ],
          [
           "recreation_room"
          ],
          [
           "baseball"
          ],
          [
           "football"
          ],
          [
           "Electric guitar"
          ],
          [
           "Electronic dance music"
          ],
          [
           "Electronic music"
          ],
          [
           "Exciting music"
          ],
          [
           "House music"
          ],
          [
           "Piano"
          ],
          [
           "Rock music"
          ],
          [
           "Soundtrack music"
          ],
          [
           "Theme music"
          ],
          [
           "Video game music"
          ],
          [
           "playing poker"
          ],
          [
           "using computer"
          ],
          [
           "golf putting"
          ],
          [
           "playing tennis"
          ],
          [
           "playing keyboard"
          ],
          [
           "playing chess"
          ],
          [
           "golf driving"
          ],
          [
           "playing guitar"
          ],
          [
           "playing cards"
          ],
          [
           "playing monopoly"
          ],
          [
           "playing basketball"
          ],
          [
           "playing controller"
          ],
          [
           "drawing"
          ],
          [
           "shooting basketball"
          ],
          [
           "'Technology'"
          ],
          [
           "Football"
          ],
          [
           "Volleyball"
          ],
          [
           "Fruit"
          ],
          [
           "Golf ball"
          ],
          [
           "Musical keyboard"
          ],
          [
           "Bowling equipment"
          ],
          [
           "'entertainment center'"
          ],
          [
           "'hand-held computer'"
          ],
          [
           "'joystick'"
          ],
          [
           "'computer mouse'"
          ],
          [
           "texting"
          ]
         ],
         "hovertemplate": "label=Video Gaming<br>x=%{x}<br>y=%{y}<br>items=%{customdata[0]}<extra></extra>",
         "legendgroup": "Video Gaming",
         "marker": {
          "color": "#FECB52",
          "symbol": "circle"
         },
         "mode": "markers",
         "name": "Video Gaming",
         "showlegend": true,
         "type": "scattergl",
         "x": [
          72.96715545654297,
          40.69709777832031,
          32.83261489868164,
          33.29783248901367,
          67.93839263916016,
          78.59315490722656,
          69.31568145751953,
          60.29600524902344,
          62.12651062011719,
          40.24103927612305,
          40.18717956542969,
          0.3446306586265564,
          36.34096908569336,
          10.347375869750977,
          19.81066131591797,
          -19.427148818969727,
          -22.456390380859375,
          23.94913101196289,
          74.58837890625,
          33.79261016845703,
          35.82243347167969,
          45.06173324584961,
          59.68184280395508,
          81.5933609008789,
          86.14639282226562,
          50.61551284790039,
          36.02885818481445,
          38.016815185546875,
          38.817935943603516,
          35.7232551574707,
          78.648681640625,
          33.0648307800293,
          47.320430755615234,
          72.76510620117188,
          74.73196411132812,
          72.30774688720703,
          19.512474060058594,
          68.26795196533203,
          63.9859504699707,
          47.220848083496094,
          60.15104675292969,
          -24.45128631591797,
          70.06993865966797,
          69.35596466064453,
          65.62702178955078,
          63.77910614013672,
          -4.261474132537842,
          -21.52381706237793,
          -18.127906799316406,
          70.28620910644531,
          3.519627332687378,
          74.76453399658203,
          -4.987655162811279,
          57.48343276977539,
          37.37746810913086,
          55.87385559082031,
          55.01123809814453,
          76.95486450195312,
          70.75366973876953,
          39.506134033203125,
          68.34234619140625,
          78.66575622558594,
          76.50224304199219,
          74.89694213867188,
          12.914312362670898,
          35.879295349121094,
          3.1922686100006104,
          6.901947975158691,
          22.42555809020996,
          10.08126449584961,
          3.581724166870117,
          27.122451782226562,
          14.675241470336914,
          11.996635437011719,
          4.0179667472839355,
          17.510757446289062,
          20.399463653564453,
          2.425856113433838,
          -22.49936294555664,
          57.15057373046875,
          0.4406137466430664,
          -58.984378814697266,
          -1.9480831623077393,
          44.299312591552734,
          -21.274375915527344,
          77.42639923095703,
          36.914737701416016,
          47.21005630493164,
          38.3339729309082,
          38.94841384887695
         ],
         "xaxis": "x",
         "y": [
          58.1718635559082,
          42.12297058105469,
          35.44091796875,
          34.18389129638672,
          -7.4513044357299805,
          10.919756889343262,
          2.596096992492676,
          7.008678436279297,
          22.222631454467773,
          31.10215950012207,
          32.37398147583008,
          72.3402099609375,
          62.3654899597168,
          48.618003845214844,
          21.054269790649414,
          15.009047508239746,
          -3.03133487701416,
          19.008224487304688,
          -9.892661094665527,
          73.82542419433594,
          67.61656951904297,
          50.496952056884766,
          51.482505798339844,
          2.2716100215911865,
          35.242835998535156,
          29.64357566833496,
          36.37417221069336,
          31.962011337280273,
          28.79259490966797,
          32.55897521972656,
          -11.0922212600708,
          30.9910888671875,
          19.783464431762695,
          11.416196823120117,
          4.006202220916748,
          8.51799201965332,
          40.751407623291016,
          17.307167053222656,
          19.629417419433594,
          33.397274017333984,
          17.430830001831055,
          70.3092041015625,
          9.539764404296875,
          11.027068138122559,
          9.042642593383789,
          8.828201293945312,
          69.95732116699219,
          -6.1139631271362305,
          74.95494842529297,
          -5.918087482452393,
          68.44180297851562,
          -13.29159164428711,
          74.00161743164062,
          36.72183609008789,
          63.65541458129883,
          64.010986328125,
          61.084224700927734,
          58.856666564941406,
          62.17192840576172,
          69.23867797851562,
          73.78651428222656,
          54.75463104248047,
          50.74577713012695,
          55.268287658691406,
          74.85564422607422,
          29.675086975097656,
          84.6171646118164,
          76.80707550048828,
          68.783447265625,
          72.9046401977539,
          87.70201873779297,
          68.93407440185547,
          73.13124084472656,
          69.2636489868164,
          75.15474700927734,
          67.82569885253906,
          32.43315505981445,
          74.28265380859375,
          81.47459411621094,
          33.81195068359375,
          79.13602447509766,
          6.484447002410889,
          85.48043823242188,
          65.75647735595703,
          1.174349069595337,
          12.4906005859375,
          37.03203201293945,
          33.419189453125,
          34.33836364746094,
          51.844207763671875
         ],
         "yaxis": "y"
        },
        {
         "customdata": [
          [
           "Ambient music"
          ],
          [
           "Angry music"
          ],
          [
           "bookshop"
          ],
          [
           "comic book"
          ],
          [
           "archive"
          ],
          [
           "bookstore"
          ],
          [
           "Pen"
          ],
          [
           "campus"
          ],
          [
           "campus"
          ],
          [
           "classroom"
          ],
          [
           "arena/rodeo"
          ],
          [
           "amusement_arcade"
          ],
          [
           "arena/performance"
          ],
          [
           "arena/performance"
          ],
          [
           "amusement_park"
          ],
          [
           "movie_theater/indoor"
          ],
          [
           "cash machine"
          ],
          [
           "drugstore"
          ],
          [
           "Chair"
          ],
          [
           "butcher shop"
          ],
          [
           "candy_store"
          ],
          [
           "department_store"
          ],
          [
           "Clock"
          ],
          [
           "Girl"
          ],
          [
           "art_school"
          ],
          [
           "mortarboard"
          ],
          [
           "mortarboard"
          ],
          [
           "stage"
          ],
          [
           "stage"
          ],
          [
           "Cake stand"
          ],
          [
           "Cake stand"
          ],
          [
           "Balloon"
          ],
          [
           "Balloon"
          ],
          [
           "Balloon"
          ],
          [
           "balloon"
          ],
          [
           "balloon"
          ],
          [
           "Cake"
          ],
          [
           "Cake"
          ],
          [
           "academic gown"
          ],
          [
           "ballroom"
          ],
          [
           "ballroom"
          ],
          [
           "ballroom"
          ],
          [
           "banquet_hall"
          ],
          [
           "banquet_hall"
          ],
          [
           "banquet_hall"
          ],
          [
           "banquet_hall"
          ],
          [
           "groom"
          ],
          [
           "restaurant_patio"
          ],
          [
           "restaurant_patio"
          ],
          [
           "sushi_bar"
          ],
          [
           "bar"
          ],
          [
           "auditorium"
          ],
          [
           "conference_center"
          ],
          [
           "discotheque"
          ],
          [
           "discotheque"
          ],
          [
           "runway"
          ],
          [
           "plaza"
          ],
          [
           "plaza"
          ],
          [
           "plaza"
          ],
          [
           "downtown"
          ],
          [
           "downtown"
          ],
          [
           "shopping_mall/indoor"
          ],
          [
           "science_museum"
          ],
          [
           "museum/indoor"
          ],
          [
           "natural_history_museum"
          ],
          [
           "museum/outdoor"
          ],
          [
           "art_gallery"
          ],
          [
           "Canoe"
          ],
          [
           "canoe"
          ],
          [
           "bazaar/outdoor"
          ],
          [
           "bazaar/outdoor"
          ],
          [
           "diner/outdoor"
          ],
          [
           "Butterfly"
          ],
          [
           "water_park"
          ],
          [
           "park"
          ],
          [
           "park"
          ],
          [
           "Bench"
          ],
          [
           "forest_path"
          ],
          [
           "Tree"
          ],
          [
           "mosque"
          ],
          [
           "mosque"
          ],
          [
           "mosque"
          ],
          [
           "prayer rug"
          ],
          [
           "amphitheater"
          ],
          [
           "entrance_hall"
          ],
          [
           "theater curtain"
          ],
          [
           "theater curtain"
          ],
          [
           "theater curtain"
          ],
          [
           "coral reef"
          ],
          [
           "Zebra"
          ],
          [
           "koala"
          ],
          [
           "sea lion"
          ],
          [
           "aquarium"
          ],
          [
           "aquarium"
          ],
          [
           "aquarium"
          ],
          [
           "artists_loft"
          ],
          [
           "Sculpture"
          ],
          [
           "art_studio"
          ],
          [
           "Cocktail"
          ],
          [
           "beer_hall"
          ],
          [
           "beer_garden"
          ],
          [
           "Boy"
          ],
          [
           "butchers_shop"
          ],
          [
           "ice_cream_parlor"
          ],
          [
           "dining table"
          ],
          [
           "ice_skating_rink/indoor"
          ],
          [
           "ice_skating_rink/outdoor"
          ],
          [
           "ice_skating_rink/outdoor"
          ],
          [
           "gymnasium/indoor"
          ],
          [
           "Snowboard"
          ],
          [
           "Musical instrument"
          ],
          [
           "Violin"
          ],
          [
           "pot"
          ],
          [
           "dining_room"
          ],
          [
           "Vase"
          ],
          [
           "greenhouse/outdoor"
          ],
          [
           "tree_farm"
          ],
          [
           "japanese_garden"
          ],
          [
           "botanical_garden"
          ],
          [
           "lawn"
          ],
          [
           "Carnatic music"
          ],
          [
           "music_studio"
          ],
          [
           "veterinarians_office"
          ],
          [
           "Dog"
          ],
          [
           "Dog"
          ],
          [
           "peacock"
          ],
          [
           "ram"
          ],
          [
           "ram"
          ],
          [
           "agama"
          ],
          [
           "apartment_building/outdoor"
          ],
          [
           "dining_hall"
          ],
          [
           "gazebo/exterior"
          ],
          [
           "barn"
          ],
          [
           "pasture"
          ],
          [
           "coffee_shop"
          ],
          [
           "Marine invertebrates"
          ],
          [
           "supermarket"
          ],
          [
           "Kite"
          ],
          [
           "hip"
          ],
          [
           "florist_shop/indoor"
          ],
          [
           "Christian music"
          ],
          [
           "Christian music"
          ],
          [
           "Palm tree"
          ],
          [
           "seashore"
          ],
          [
           "African elephant"
          ],
          [
           "Christmas music"
          ],
          [
           "Church bell"
          ],
          [
           "Church bell"
          ],
          [
           "Church bell"
          ],
          [
           "Classical music"
          ],
          [
           "swimming_pool/outdoor"
          ],
          [
           "lagoon"
          ],
          [
           "lagoon"
          ],
          [
           "beach"
          ],
          [
           "beach"
          ],
          [
           "campsite"
          ],
          [
           "campsite"
          ],
          [
           "triumphal arch"
          ],
          [
           "hotel/outdoor"
          ],
          [
           "megalith"
          ],
          [
           "'groom'"
          ],
          [
           "'bridegroom'"
          ],
          [
           "'bridegroom'"
          ],
          [
           "Dance music"
          ],
          [
           "'Life'"
          ],
          [
           "'Family'"
          ],
          [
           "'Family'"
          ],
          [
           "'Relationship'"
          ],
          [
           "'Love'"
          ],
          [
           "'Love'"
          ],
          [
           "'Entertainment'"
          ],
          [
           "'Film'"
          ],
          [
           "'home theatre'"
          ],
          [
           "'theatre curtain'"
          ],
          [
           "'theatre curtain'"
          ],
          [
           "'theatre curtain'"
          ],
          [
           "'cinema'"
          ],
          [
           "'movie theater'"
          ],
          [
           "'movie theater'"
          ],
          [
           "'movie theater'"
          ],
          [
           "'movie theatre'"
          ],
          [
           "'movie house'"
          ],
          [
           "'movie house'"
          ],
          [
           "'picture palace'"
          ],
          [
           "stadium/soccer"
          ],
          [
           "stadium/soccer"
          ],
          [
           "stadium/soccer"
          ],
          [
           "ski"
          ],
          [
           "'parallel bars'"
          ],
          [
           "'bars'"
          ],
          [
           "athletic_field/outdoor"
          ],
          [
           "athletic_field/outdoor"
          ],
          [
           "'Sports'"
          ],
          [
           "'shoe store'"
          ],
          [
           "indoor"
          ],
          [
           "bedroom"
          ],
          [
           "conference_room"
          ],
          [
           "conference_room"
          ],
          [
           "fastfood_restaurant"
          ],
          [
           "pet_shop"
          ],
          [
           "recreation_room"
          ],
          [
           "zen_garden"
          ],
          [
           "zen_garden"
          ],
          [
           "Drum and bass"
          ],
          [
           "Electronic dance music"
          ],
          [
           "Electronic music"
          ],
          [
           "Environmental noise"
          ],
          [
           "Exciting music"
          ],
          [
           "Folk music"
          ],
          [
           "Funny music"
          ],
          [
           "Funny music"
          ],
          [
           "Gospel music"
          ],
          [
           "Gospel music"
          ],
          [
           "Happy music"
          ],
          [
           "Hip hop music"
          ],
          [
           "House music"
          ],
          [
           "Independent music"
          ],
          [
           "Inside, large room or hall"
          ],
          [
           "Inside, public space"
          ],
          [
           "Inside, public space"
          ],
          [
           "Livestock, farm animals, working animals"
          ],
          [
           "Middle Eastern music"
          ],
          [
           "Music for children"
          ],
          [
           "Music of Africa"
          ],
          [
           "Music of Asia"
          ],
          [
           "Music of Bollywood"
          ],
          [
           "Music of Latin America"
          ],
          [
           "New-age music"
          ],
          [
           "Orchestra"
          ],
          [
           "Orchestra"
          ],
          [
           "Orchestra"
          ],
          [
           "Organ"
          ],
          [
           "Organ"
          ],
          [
           "Outside, rural or natural"
          ],
          [
           "Outside, rural or natural"
          ],
          [
           "Outside, urban or manmade"
          ],
          [
           "Outside, urban or manmade"
          ],
          [
           "Percussion"
          ],
          [
           "Pop music"
          ],
          [
           "Psychedelic rock"
          ],
          [
           "Reggae"
          ],
          [
           "Rhythm and blues"
          ],
          [
           "Roaring cats (lions, tigers)"
          ],
          [
           "Rock and roll"
          ],
          [
           "Rock music"
          ],
          [
           "Soundtrack music"
          ],
          [
           "Swing music"
          ],
          [
           "Tender music"
          ],
          [
           "Theme music"
          ],
          [
           "Traditional music"
          ],
          [
           "Trance music"
          ],
          [
           "Video game music"
          ],
          [
           "giving or receiving award"
          ],
          [
           "playing poker"
          ],
          [
           "celebrating"
          ],
          [
           "celebrating"
          ],
          [
           "celebrating"
          ],
          [
           "celebrating"
          ],
          [
           "recording music"
          ],
          [
           "playing accordion"
          ],
          [
           "playing volleyball"
          ],
          [
           "playing tennis"
          ],
          [
           "riding elephant"
          ],
          [
           "walking the dog"
          ],
          [
           "walking the dog"
          ],
          [
           "playing cards"
          ],
          [
           "playing monopoly"
          ],
          [
           "playing squash or racquetball"
          ],
          [
           "biking through snow"
          ],
          [
           "canoeing or kayaking"
          ],
          [
           "surfing water"
          ],
          [
           "water skiing"
          ],
          [
           "'Residence'"
          ],
          [
           "'Music'"
          ],
          [
           "Volleyball"
          ],
          [
           "Tree house"
          ],
          [
           "Tree house"
          ],
          [
           "Musical keyboard"
          ],
          [
           "Sea lion"
          ],
          [
           "Pastry"
          ],
          [
           "'Kakatoe galerita'"
          ],
          [
           "'Cacatua galerita'"
          ],
          [
           "'Leonberg'"
          ],
          [
           "'Leonberg'"
          ],
          [
           "'academic gown'"
          ],
          [
           "'bakehouse'"
          ],
          [
           "'balloon'"
          ],
          [
           "'balloon'"
          ],
          [
           "'butcher shop'"
          ],
          [
           "'meat market'"
          ],
          [
           "'gong'"
          ],
          [
           "'gong'"
          ],
          [
           "'church'"
          ],
          [
           "'church building'"
          ],
          [
           "'candy store'"
          ],
          [
           "'entertainment center'"
          ],
          [
           "'grand'"
          ],
          [
           "'grand'"
          ],
          [
           "'glasshouse'"
          ],
          [
           "'horizontal bar'"
          ],
          [
           "'high bar'"
          ],
          [
           "'maze'"
          ],
          [
           "'mountain tent'"
          ],
          [
           "'park bench'"
          ],
          [
           "'patio'"
          ],
          [
           "'patio'"
          ],
          [
           "'planetarium'"
          ],
          [
           "'restaurant'"
          ],
          [
           "'eating place'"
          ],
          [
           "'eatery'"
          ],
          [
           "'slot'"
          ],
          [
           "'one-armed bandit'"
          ],
          [
           "'space bar'"
          ],
          [
           "'stage'"
          ],
          [
           "'stage'"
          ],
          [
           "'menu'"
          ],
          [
           "'lakeshore'"
          ],
          [
           "'sandbar'"
          ],
          [
           "'sand bar'"
          ],
          [
           "Vocal music"
          ],
          [
           "kissing"
          ],
          [
           "Wedding music"
          ],
          [
           "Wedding music"
          ],
          [
           "ice fishing"
          ],
          [
           "'swimming cap'"
          ],
          [
           "'swimming cap'"
          ],
          [
           "'cliff'"
          ],
          [
           "'cliff'"
          ],
          [
           "'dining table'"
          ],
          [
           "'mosque'"
          ]
         ],
         "hovertemplate": "label=Events and Attractions<br>x=%{x}<br>y=%{y}<br>items=%{customdata[0]}<extra></extra>",
         "legendgroup": "Events and Attractions",
         "marker": {
          "color": "#636efa",
          "symbol": "circle"
         },
         "mode": "markers",
         "name": "Events and Attractions",
         "showlegend": true,
         "type": "scattergl",
         "x": [
          72.96715545654297,
          81.16594696044922,
          -27.0146484375,
          12.662952423095703,
          9.67096996307373,
          -27.165637969970703,
          -7.831051349639893,
          54.25300598144531,
          55.041015625,
          76.85890197753906,
          67.6415023803711,
          67.93839263916016,
          66.81246185302734,
          66.81246185302734,
          67.2803726196289,
          69.31568145751953,
          41.67188262939453,
          -26.48013687133789,
          -1.524175763130188,
          -36.36424255371094,
          -31.891889572143555,
          -29.68202781677246,
          30.976999282836914,
          -17.486642837524414,
          59.08308029174805,
          -31.754236221313477,
          -31.754236221313477,
          14.00531005859375,
          14.00531005859375,
          -5.939887523651123,
          -5.939887523651123,
          -49.62970733642578,
          -49.62970733642578,
          -49.712589263916016,
          -48.69002151489258,
          -48.29599380493164,
          -6.708375453948975,
          -6.33690881729126,
          -15.299562454223633,
          70.51493835449219,
          70.17315673828125,
          70.17315673828125,
          69.06089782714844,
          69.06089782714844,
          69.06089782714844,
          69.06089782714844,
          -10.782750129699707,
          61.73883056640625,
          61.73883056640625,
          35.62303924560547,
          2.8245604038238525,
          70.33887481689453,
          82.2557373046875,
          73.90444946289062,
          73.90444946289062,
          50.05908203125,
          55.07414245605469,
          55.07414245605469,
          55.07414245605469,
          59.028907775878906,
          59.028907775878906,
          72.87242889404297,
          61.98512268066406,
          71.8510971069336,
          59.4508056640625,
          70.35440826416016,
          61.55842208862305,
          -67.1341781616211,
          -68.73481750488281,
          67.59040069580078,
          67.59040069580078,
          66.86647033691406,
          -68.0502700805664,
          58.960533142089844,
          49.83245086669922,
          49.83245086669922,
          12.990701675415039,
          46.91372299194336,
          36.12145233154297,
          52.93612289428711,
          52.93612289428711,
          52.93612289428711,
          -2.952805757522583,
          70.1591796875,
          72.42693328857422,
          63.96781921386719,
          63.96781921386719,
          63.96781921386719,
          -59.14626693725586,
          -79.16045379638672,
          -74.13184356689453,
          -64.14292907714844,
          8.850778579711914,
          8.480123519897461,
          8.480123519897461,
          59.322696685791016,
          24.343334197998047,
          62.3868522644043,
          -19.463581085205078,
          65.89897155761719,
          60.82516098022461,
          -15.537650108337402,
          -37.42681121826172,
          -37.49032974243164,
          68.3348388671875,
          76.49819946289062,
          76.03038787841797,
          76.03038787841797,
          75.72306823730469,
          -58.0029296875,
          40.167823791503906,
          33.75461196899414,
          -5.4521074295043945,
          72.04573822021484,
          3.8892629146575928,
          69.83586120605469,
          48.229923248291016,
          57.97559356689453,
          55.46108627319336,
          42.581485748291016,
          82.40644073486328,
          59.68184280395508,
          -94.2456283569336,
          -90.11378479003906,
          -90.11378479003906,
          -76.47968292236328,
          -2.366384506225586,
          -2.3674228191375732,
          55.14579391479492,
          64.76313781738281,
          70.40477752685547,
          62.646636962890625,
          44.4514045715332,
          49.73197937011719,
          -35.28277587890625,
          -63.60198974609375,
          -27.9163761138916,
          -59.591007232666016,
          -11.829251289367676,
          39.239749908447266,
          74.12796783447266,
          73.51631164550781,
          -71.77434539794922,
          -14.040379524230957,
          -81.02763366699219,
          66.19031524658203,
          48.527198791503906,
          48.527198791503906,
          48.527198791503906,
          62.466312408447266,
          70.9456787109375,
          -18.031742095947266,
          -18.031742095947266,
          47.98151779174805,
          47.20332717895508,
          54.238685607910156,
          54.238685607910156,
          41.35335159301758,
          67.27294158935547,
          41.03090286254883,
          -10.610016822814941,
          -11.636878967285156,
          -12.302919387817383,
          71.39569854736328,
          -34.40934753417969,
          -38.3251953125,
          -38.282676696777344,
          -42.072635650634766,
          -41.68089294433594,
          -41.68089294433594,
          -24.45128631591797,
          -26.8134765625,
          69.35596466064453,
          62.30790328979492,
          62.50687789916992,
          62.50687789916992,
          59.60035705566406,
          64.4978256225586,
          64.94904327392578,
          65.12877655029297,
          64.3570785522461,
          66.22212219238281,
          66.22212219238281,
          64.69193267822266,
          63.47151565551758,
          62.856117248535156,
          62.856117248535156,
          -16.37662696838379,
          -6.055670261383057,
          -6.959511756896973,
          74.68311309814453,
          74.8451156616211,
          -19.29779815673828,
          -42.52078628540039,
          75.7646255493164,
          77.2337646484375,
          80.98943328857422,
          80.98943328857422,
          31.347848892211914,
          -37.87290954589844,
          75.48799896240234,
          57.761192321777344,
          57.600711822509766,
          54.78860092163086,
          55.87385559082031,
          55.69211959838867,
          78.05661010742188,
          76.95486450195312,
          67.11762237548828,
          78.04094696044922,
          78.04094696044922,
          75.19017791748047,
          75.19017791748047,
          74.86576080322266,
          77.2951431274414,
          70.75366973876953,
          77.64696502685547,
          80.02086639404297,
          80.77046203613281,
          80.77046203613281,
          -93.3482894897461,
          84.11371612548828,
          70.52757263183594,
          82.22455596923828,
          88.82789611816406,
          86.90880584716797,
          86.79747772216797,
          71.72782135009766,
          46.9439582824707,
          46.9439582824707,
          46.9439582824707,
          -10.114226341247559,
          -10.114226341247559,
          68.3030776977539,
          68.3030776977539,
          70.38818359375,
          70.38818359375,
          44.289527893066406,
          65.9499740600586,
          66.72608184814453,
          61.96747589111328,
          61.37308120727539,
          -79.74553680419922,
          64.50475311279297,
          68.34234619140625,
          78.66575622558594,
          69.6398696899414,
          69.9320068359375,
          77.04428100585938,
          66.75629425048828,
          74.31434631347656,
          74.89694213867188,
          88.79324340820312,
          12.914312362670898,
          86.9154281616211,
          86.9154281616211,
          86.9154281616211,
          86.9154281616211,
          58.62432098388672,
          23.040536880493164,
          3.604295253753662,
          6.896779537200928,
          -84.30034637451172,
          -23.234560012817383,
          -23.234560012817383,
          15.418516159057617,
          11.996635437011719,
          6.369625568389893,
          -71.96465301513672,
          -70.77864837646484,
          -58.90192794799805,
          -62.315948486328125,
          -33.4107780456543,
          65.43383026123047,
          -0.1350172609090805,
          43.2681884765625,
          42.760772705078125,
          43.53209686279297,
          -65.01366424560547,
          -11.98974323272705,
          30.528297424316406,
          29.727523803710938,
          -61.99003982543945,
          -61.99003982543945,
          -17.41375160217285,
          -33.469642639160156,
          -46.67404556274414,
          -46.67414093017578,
          -37.92052459716797,
          -39.8471565246582,
          -80.57161712646484,
          -80.57161712646484,
          51.82752990722656,
          50.911258697509766,
          -32.74769973754883,
          77.42639923095703,
          -47.88837432861328,
          -47.88837432861328,
          36.21683120727539,
          -5.984050273895264,
          -7.051563262939453,
          -31.690805435180664,
          -5.485751152038574,
          2.5036604404449463,
          59.41487121582031,
          58.87289810180664,
          54.91291427612305,
          31.95014762878418,
          35.0143928527832,
          33.997920989990234,
          -23.367387771606445,
          -10.62486743927002,
          -3.738741397857666,
          -14.697417259216309,
          -14.697417259216309,
          9.102117538452148,
          -11.801568984985352,
          -4.437065124511719,
          -5.584327697753906,
          62.15116500854492,
          16.542984008789062,
          82.88984680175781,
          82.88984680175781,
          -75.34630584716797,
          0.4813211262226105,
          0.4813211262226105,
          -7.6532206535339355,
          -7.6536664962768555,
          66.51615905761719,
          53.37969970703125
         ],
         "xaxis": "x",
         "y": [
          58.1718635559082,
          62.070343017578125,
          39.247215270996094,
          25.095130920410156,
          34.858192443847656,
          40.84218215942383,
          33.30510711669922,
          -32.6550178527832,
          -32.898643493652344,
          -6.778800010681152,
          -2.867772340774536,
          -7.4513044357299805,
          -1.9497567415237427,
          -1.9497567415237427,
          -8.082276344299316,
          2.596096992492676,
          22.711240768432617,
          44.89284896850586,
          37.52036666870117,
          35.94107437133789,
          39.57029724121094,
          44.271846771240234,
          23.240209579467773,
          56.195945739746094,
          -6.3610310554504395,
          15.284260749816895,
          15.284260749816895,
          38.53997039794922,
          38.53997039794922,
          16.600191116333008,
          16.600191116333008,
          18.04205894470215,
          18.04205894470215,
          18.987211227416992,
          19.792970657348633,
          19.091766357421875,
          19.318151473999023,
          20.175954818725586,
          -45.39385223388672,
          -11.921448707580566,
          -11.444327354431152,
          -11.444327354431152,
          -16.186391830444336,
          -16.186391830444336,
          -16.186391830444336,
          -16.186391830444336,
          -82.08478546142578,
          -26.61562156677246,
          -26.61562156677246,
          -10.16018295288086,
          39.04883575439453,
          -1.3150830268859863,
          -12.15092658996582,
          -2.949629783630371,
          -2.949629783630371,
          -50.506378173828125,
          -27.121450424194336,
          -27.121450424194336,
          -27.121450424194336,
          -42.9395866394043,
          -42.9395866394043,
          -27.276321411132812,
          -12.070076942443848,
          -29.417985916137695,
          -12.648612022399902,
          -30.336902618408203,
          -7.827158451080322,
          25.675294876098633,
          26.037002563476562,
          -38.135589599609375,
          -38.135589599609375,
          -29.602745056152344,
          -11.238532066345215,
          -24.014055252075195,
          -10.095325469970703,
          -10.095325469970703,
          14.058377265930176,
          -15.259079933166504,
          9.614574432373047,
          -1.9785711765289307,
          -1.9785711765289307,
          -1.9785711765289307,
          -34.611663818359375,
          -1.2005192041397095,
          -16.39130210876465,
          1.7343698740005493,
          1.7343698740005493,
          1.7343698740005493,
          -21.617136001586914,
          -33.96906280517578,
          -35.059226989746094,
          -26.776426315307617,
          4.960451126098633,
          5.61263370513916,
          5.61263370513916,
          -2.9082984924316406,
          13.361414909362793,
          -4.376220226287842,
          10.130316734313965,
          -17.417524337768555,
          -19.958850860595703,
          57.33750915527344,
          37.17090606689453,
          18.23579216003418,
          -22.427133560180664,
          -35.228355407714844,
          -35.77861404418945,
          -35.77861404418945,
          -27.4276123046875,
          26.694700241088867,
          73.2109375,
          74.51990509033203,
          30.34688949584961,
          -20.283878326416016,
          3.5828304290771484,
          -33.27671432495117,
          -17.165435791015625,
          -17.12912940979004,
          -17.01280975341797,
          -39.00405502319336,
          75.5756607055664,
          51.482505798339844,
          10.293627738952637,
          0.02566342242062092,
          0.02566342242062092,
          -19.811010360717773,
          33.977420806884766,
          33.977691650390625,
          1.5269547700881958,
          -33.17301559448242,
          -19.054113388061523,
          -36.001136779785156,
          -25.962055206298828,
          -33.29359436035156,
          40.640445709228516,
          -20.188274383544922,
          34.83545684814453,
          20.6678524017334,
          35.89328384399414,
          6.657694339752197,
          76.80525207519531,
          75.7304458618164,
          5.4069929122924805,
          -55.4898681640625,
          -37.59769821166992,
          53.662384033203125,
          7.588581085205078,
          7.588581085205078,
          7.588581085205078,
          67.36358642578125,
          -36.23512268066406,
          -57.59012222290039,
          -57.59012222290039,
          -37.37134552001953,
          -37.34149932861328,
          -36.813812255859375,
          -36.813812255859375,
          -50.40630340576172,
          -32.37213897705078,
          -45.04519271850586,
          -79.83479309082031,
          -78.23033142089844,
          -78.88782501220703,
          66.08335876464844,
          72.42339324951172,
          71.75347137451172,
          71.1668472290039,
          76.02997589111328,
          72.61553192138672,
          72.61553192138672,
          70.3092041015625,
          63.204349517822266,
          11.027068138122559,
          2.0781216621398926,
          2.5787370204925537,
          2.5787370204925537,
          9.18454647064209,
          9.657337188720703,
          8.41242790222168,
          10.041370391845703,
          7.712215900421143,
          6.704960346221924,
          6.704960346221924,
          5.108510494232178,
          30.89757537841797,
          30.964614868164062,
          30.964614868164062,
          43.08662414550781,
          -6.326789855957031,
          -6.932538986206055,
          -39.70821762084961,
          -39.51869583129883,
          74.71992492675781,
          40.75990295410156,
          -30.598432540893555,
          -20.432758331298828,
          -12.384411811828613,
          -12.384411811828613,
          0.7333354949951172,
          42.046783447265625,
          -13.721261024475098,
          -20.45643424987793,
          -21.04789161682129,
          78.81201934814453,
          64.010986328125,
          61.17817687988281,
          43.29436492919922,
          58.856666564941406,
          66.2001724243164,
          64.32269287109375,
          64.32269287109375,
          73.99205017089844,
          73.99205017089844,
          61.78697967529297,
          69.42825317382812,
          62.17192840576172,
          81.01664733886719,
          -26.605077743530273,
          -29.978208541870117,
          -29.978208541870117,
          -35.488216400146484,
          65.57452392578125,
          54.86231994628906,
          70.05946350097656,
          64.77764892578125,
          59.8946533203125,
          70.19242858886719,
          81.0059814453125,
          72.37921142578125,
          72.37921142578125,
          72.37921142578125,
          54.674400329589844,
          54.674400329589844,
          -42.80248260498047,
          -42.80248260498047,
          -43.3363037109375,
          -43.3363037109375,
          77.56153869628906,
          70.9029769897461,
          81.35211944580078,
          81.39402770996094,
          76.92156982421875,
          -48.040565490722656,
          76.18375396728516,
          73.78651428222656,
          54.75463104248047,
          68.89696502685547,
          58.764225006103516,
          51.175865173339844,
          63.71091079711914,
          67.40181732177734,
          55.268287658691406,
          22.470142364501953,
          74.85564422607422,
          22.512582778930664,
          22.512582778930664,
          22.512582778930664,
          22.512582778930664,
          55.70977020263672,
          73.79684448242188,
          78.20991516113281,
          77.7210922241211,
          -38.72557830810547,
          -65.0102310180664,
          -65.0102310180664,
          72.66065216064453,
          69.2636489868164,
          80.44831085205078,
          12.547348976135254,
          27.569927215576172,
          33.20036697387695,
          30.972583770751953,
          63.86507797241211,
          59.30130386352539,
          79.44345092773438,
          -16.95012664794922,
          -16.40229606628418,
          66.43567657470703,
          -25.826648712158203,
          16.735624313354492,
          15.15330696105957,
          15.30935287475586,
          -57.40790939331055,
          -57.40790939331055,
          -45.11712646484375,
          27.91542625427246,
          18.423023223876953,
          18.422712326049805,
          34.76879119873047,
          30.26325225830078,
          27.25372314453125,
          27.25372314453125,
          4.387573719024658,
          5.629787445068359,
          37.69955825805664,
          12.4906005859375,
          66.56710052490234,
          66.56710052490234,
          -21.92475700378418,
          -7.570068836212158,
          -8.275260925292969,
          2.3572683334350586,
          -46.39124298095703,
          -8.831036567687988,
          -30.084157943725586,
          -29.93955421447754,
          12.34968376159668,
          -2.864558458328247,
          -4.291451930999756,
          -6.4255828857421875,
          7.898560523986816,
          -9.631235122680664,
          -7.065608024597168,
          65.02577209472656,
          65.02577209472656,
          19.1334171295166,
          -52.75775909423828,
          -10.434370040893555,
          -10.276965141296387,
          62.39441680908203,
          62.46879959106445,
          52.800071716308594,
          52.800071716308594,
          16.82954978942871,
          -40.2798957824707,
          -40.2798957824707,
          -55.0539436340332,
          -55.054039001464844,
          -22.49225616455078,
          -2.96156644821167
         ],
         "yaxis": "y"
        },
        {
         "customdata": [
          [
           "repair_shop"
          ],
          [
           "apron"
          ],
          [
           "movie_theater/indoor"
          ],
          [
           "art_gallery"
          ],
          [
           "diner/outdoor"
          ],
          [
           "entrance_hall"
          ],
          [
           "aquarium"
          ],
          [
           "Sculpture"
          ],
          [
           "Refrigerator"
          ],
          [
           "beer_garden"
          ],
          [
           "frying pan"
          ],
          [
           "Crock Pot"
          ],
          [
           "microwave"
          ],
          [
           "dining table"
          ],
          [
           "Treadmill"
          ],
          [
           "playroom"
          ],
          [
           "Car alarm"
          ],
          [
           "dining_room"
          ],
          [
           "patio"
          ],
          [
           "Houseplant"
          ],
          [
           "greenhouse"
          ],
          [
           "greenhouse/outdoor"
          ],
          [
           "formal_garden"
          ],
          [
           "japanese_garden"
          ],
          [
           "botanical_garden"
          ],
          [
           "roof_garden"
          ],
          [
           "vegetable_garden"
          ],
          [
           "coffeepot"
          ],
          [
           "refrigerator"
          ],
          [
           "washer"
          ],
          [
           "Washing machine"
          ],
          [
           "Toaster"
          ],
          [
           "Dishwasher"
          ],
          [
           "dishwasher"
          ],
          [
           "Oven"
          ],
          [
           "House"
          ],
          [
           "house"
          ],
          [
           "beach_house"
          ],
          [
           "garage/indoor"
          ],
          [
           "construction_site"
          ],
          [
           "garage/outdoor"
          ],
          [
           "lawn"
          ],
          [
           "lawn"
          ],
          [
           "Countertop"
          ],
          [
           "apartment_building/outdoor"
          ],
          [
           "balcony/exterior"
          ],
          [
           "dining_hall"
          ],
          [
           "gazebo/exterior"
          ],
          [
           "driveway"
          ],
          [
           "farm"
          ],
          [
           "pasture"
          ],
          [
           "office_building"
          ],
          [
           "gift_shop"
          ],
          [
           "Sunflower"
          ],
          [
           "florist_shop/indoor"
          ],
          [
           "Bathroom cabinet"
          ],
          [
           "Bathroom cabinet"
          ],
          [
           "bathroom"
          ],
          [
           "Bathtub"
          ],
          [
           "bathtub"
          ],
          [
           "Hair dryer"
          ],
          [
           "Sewing machine"
          ],
          [
           "remote control"
          ],
          [
           "remote control"
          ],
          [
           "home theater"
          ],
          [
           "television_room"
          ],
          [
           "television_room"
          ],
          [
           "home_theater"
          ],
          [
           "Palm tree"
          ],
          [
           "swimming_pool/outdoor"
          ],
          [
           "hotel/outdoor"
          ],
          [
           "yoga"
          ],
          [
           "'medicine cabinet'"
          ],
          [
           "'home theater'"
          ],
          [
           "'home theatre'"
          ],
          [
           "'movie house'"
          ],
          [
           "Domestic animals, pets"
          ],
          [
           "outdoor"
          ],
          [
           "indoor"
          ],
          [
           "indoor"
          ],
          [
           "indoor"
          ],
          [
           "indoor"
          ],
          [
           "bedroom"
          ],
          [
           "building_facade"
          ],
          [
           "exterior"
          ],
          [
           "exterior"
          ],
          [
           "golf_course"
          ],
          [
           "kitchen"
          ],
          [
           "mansion"
          ],
          [
           "manufactured_home"
          ],
          [
           "nursery"
          ],
          [
           "recreation_room"
          ],
          [
           "yard"
          ],
          [
           "yard"
          ],
          [
           "zen_garden"
          ],
          [
           "Electric guitar"
          ],
          [
           "Electric shaver, electric razor"
          ],
          [
           "Fire alarm"
          ],
          [
           "House music"
          ],
          [
           "Inside, large room or hall"
          ],
          [
           "Microwave oven"
          ],
          [
           "Outside, rural or natural"
          ],
          [
           "Outside, rural or natural"
          ],
          [
           "Outside, urban or manmade"
          ],
          [
           "Power windows, electric windows"
          ],
          [
           "Reggae"
          ],
          [
           "celebrating"
          ],
          [
           "golf putting"
          ],
          [
           "playing tennis"
          ],
          [
           "jogging"
          ],
          [
           "arranging flowers"
          ],
          [
           "arranging flowers"
          ],
          [
           "playing guitar"
          ],
          [
           "trimming trees"
          ],
          [
           "trimming trees"
          ],
          [
           "mowing lawn"
          ],
          [
           "mowing lawn"
          ],
          [
           "mowing lawn"
          ],
          [
           "building shed"
          ],
          [
           "building shed"
          ],
          [
           "building shed"
          ],
          [
           "building cabinet"
          ],
          [
           "building cabinet"
          ],
          [
           "watering plants"
          ],
          [
           "watering plants"
          ],
          [
           "feeding goats"
          ],
          [
           "'Holiday'"
          ],
          [
           "'Home'"
          ],
          [
           "Home appliance"
          ],
          [
           "Tree house"
          ],
          [
           "Gas stove"
          ],
          [
           "Salt and pepper shakers"
          ],
          [
           "Food processor"
          ],
          [
           "Wood-burning stove"
          ],
          [
           "Frying pan"
          ],
          [
           "Kitchen knife"
          ],
          [
           "Cooking spray"
          ],
          [
           "Bowling equipment"
          ],
          [
           "Wok"
          ],
          [
           "Furniture"
          ],
          [
           "Vegetable"
          ],
          [
           "Salad"
          ],
          [
           "Bathroom accessory"
          ],
          [
           "Pressure cooker"
          ],
          [
           "'house finch'"
          ],
          [
           "'garden cart'"
          ],
          [
           "'birdhouse'"
          ],
          [
           "'birdhouse'"
          ],
          [
           "'combination lock'"
          ],
          [
           "'dishwasher'"
          ],
          [
           "'dish washer'"
          ],
          [
           "'dishwashing machine'"
          ],
          [
           "'electric fan'"
          ],
          [
           "'blower'"
          ],
          [
           "'espresso maker'"
          ],
          [
           "'greenhouse'"
          ],
          [
           "'nursery'"
          ],
          [
           "'hand blower'"
          ],
          [
           "'blow dryer'"
          ],
          [
           "'blow drier'"
          ],
          [
           "'hair dryer'"
          ],
          [
           "'hair drier'"
          ],
          [
           "'lawn mower'"
          ],
          [
           "'lawn mower'"
          ],
          [
           "'lawn mower'"
          ],
          [
           "'mower'"
          ],
          [
           "'mower'"
          ],
          [
           "'microwave'"
          ],
          [
           "'microwave oven'"
          ],
          [
           "'mobile home'"
          ],
          [
           "'manufactured home'"
          ],
          [
           "'padlock'"
          ],
          [
           "'patio'"
          ],
          [
           "'flowerpot'"
          ],
          [
           "'power drill'"
          ],
          [
           "'radiator'"
          ],
          [
           "'wireless'"
          ],
          [
           "'refrigerator'"
          ],
          [
           "'remote control'"
          ],
          [
           "'remote'"
          ],
          [
           "'eating house'"
          ],
          [
           "'eating place'"
          ],
          [
           "'sewing machine'"
          ],
          [
           "'solar dish'"
          ],
          [
           "'solar furnace'"
          ],
          [
           "'space heater'"
          ],
          [
           "'space heater'"
          ],
          [
           "'electric switch'"
          ],
          [
           "'electric switch'"
          ],
          [
           "'electrical switch'"
          ],
          [
           "'electrical switch'"
          ],
          [
           "'toaster'"
          ],
          [
           "'vacuum cleaner'"
          ],
          [
           "'vacuum cleaner'"
          ],
          [
           "'vending machine'"
          ],
          [
           "'waffle iron'"
          ],
          [
           "'washer'"
          ],
          [
           "'automatic washer'"
          ],
          [
           "'washing machine'"
          ],
          [
           "'window screen'"
          ],
          [
           "'window shade'"
          ],
          [
           "'guacamole'"
          ],
          [
           "'artichoke'"
          ],
          [
           "'bee house'"
          ],
          [
           "'hack'"
          ],
          [
           "'can opener'"
          ],
          [
           "'tin opener'"
          ],
          [
           "'ring mail'"
          ],
          [
           "'chain armor'"
          ],
          [
           "'chain armour'"
          ],
          [
           "'ring armor'"
          ],
          [
           "'ring armour'"
          ],
          [
           "'dining table'"
          ]
         ],
         "hovertemplate": "label=Home & Garden<br>x=%{x}<br>y=%{y}<br>items=%{customdata[0]}<extra></extra>",
         "legendgroup": "Home & Garden",
         "marker": {
          "color": "#EF553B",
          "symbol": "circle"
         },
         "mode": "markers",
         "name": "Home & Garden",
         "showlegend": true,
         "type": "scattergl",
         "x": [
          -39.183414459228516,
          -5.198483943939209,
          69.31568145751953,
          60.875831604003906,
          67.31341552734375,
          72.42693328857422,
          8.290067672729492,
          24.343334197998047,
          23.53245735168457,
          60.75188446044922,
          12.175567626953125,
          17.350343704223633,
          24.349185943603516,
          68.3348388671875,
          8.899930000305176,
          74.15193939208984,
          -49.961299896240234,
          72.04573822021484,
          60.789024353027344,
          5.258624076843262,
          40.7816162109375,
          69.83586120605469,
          54.583229064941406,
          57.948097229003906,
          55.46108627319336,
          55.68149948120117,
          53.46454620361328,
          -2.439566135406494,
          22.925260543823242,
          16.651607513427734,
          22.545991897583008,
          19.234140396118164,
          18.546375274658203,
          18.19495964050293,
          19.069223403930664,
          42.739173889160156,
          42.897911071777344,
          49.98954772949219,
          73.51924896240234,
          54.84937286376953,
          72.07722473144531,
          42.581485748291016,
          42.27627182006836,
          31.02040672302246,
          64.85865020751953,
          64.4103012084961,
          70.08723449707031,
          62.646636962890625,
          47.09066390991211,
          43.253238677978516,
          49.73197937011719,
          84.87654113769531,
          -35.75320053100586,
          -63.69316864013672,
          39.239749908447266,
          11.502480506896973,
          11.556584358215332,
          32.459373474121094,
          9.989184379577637,
          8.55968952178955,
          20.442703247070312,
          26.292566299438477,
          50.951881408691406,
          50.951881408691406,
          73.1744384765625,
          75.56542205810547,
          75.56542205810547,
          72.30774688720703,
          -71.77434539794922,
          71.0305404663086,
          67.53866577148438,
          12.56987190246582,
          30.453826904296875,
          70.73841094970703,
          69.35596466064453,
          66.22212219238281,
          -92.55233001708984,
          67.4098129272461,
          75.06685638427734,
          75.7646255493164,
          75.06685638427734,
          75.06685638427734,
          77.2337646484375,
          62.49861526489258,
          64.0988540649414,
          64.0988540649414,
          1.4440851211547852,
          29.687307357788086,
          48.94641876220703,
          90.1675796508789,
          40.37924575805664,
          75.49042510986328,
          45.74296569824219,
          45.74296569824219,
          57.761192321777344,
          37.37746810913086,
          16.464569091796875,
          -50.253929138183594,
          70.75366973876953,
          80.02031707763672,
          22.403919219970703,
          68.3030776977539,
          68.3030776977539,
          70.38818359375,
          15.591085433959961,
          61.96747589111328,
          86.9154281616211,
          4.202484130859375,
          6.896779537200928,
          11.132253646850586,
          -63.74991989135742,
          -63.74991989135742,
          26.741466522216797,
          14.60947322845459,
          14.60947322845459,
          24.485187530517578,
          24.451457977294922,
          24.485187530517578,
          44.95833206176758,
          45.5151252746582,
          44.95833206176758,
          30.985485076904297,
          30.985485076904297,
          -23.40142059326172,
          -23.427974700927734,
          -19.108951568603516,
          -39.21379089355469,
          -41.260581970214844,
          19.266525268554688,
          43.557281494140625,
          21.346298217773438,
          10.468512535095215,
          15.4993314743042,
          24.423521041870117,
          12.271659851074219,
          12.719961166381836,
          14.884361267089844,
          -21.695322036743164,
          10.630216598510742,
          18.268720626831055,
          -62.557044982910156,
          -16.154111862182617,
          9.488934516906738,
          16.104049682617188,
          -53.661712646484375,
          16.758750915527344,
          37.16282272338867,
          37.326751708984375,
          -27.757312774658203,
          19.80845832824707,
          19.054759979248047,
          20.044841766357422,
          28.27778434753418,
          24.353469848632812,
          -3.3204782009124756,
          39.173702239990234,
          37.59650421142578,
          24.8320369720459,
          24.42400360107422,
          23.3374080657959,
          22.965492248535156,
          21.464834213256836,
          20.944494247436523,
          19.97455596923828,
          19.97455596923828,
          20.0809383392334,
          19.576641082763672,
          24.98158073425293,
          23.70438575744629,
          88.83927154541016,
          90.90979766845703,
          -27.757661819458008,
          59.15114212036133,
          -0.1783035695552826,
          19.033838272094727,
          32.06877136230469,
          45.6369743347168,
          25.524044036865234,
          48.45494079589844,
          47.44379425048828,
          36.7553825378418,
          35.75457763671875,
          26.504304885864258,
          35.452301025390625,
          32.9654655456543,
          29.183561325073242,
          29.183561325073242,
          21.601743698120117,
          21.601743698120117,
          21.842998504638672,
          21.842998504638672,
          20.57146644592285,
          23.205965042114258,
          23.169466018676758,
          24.885936737060547,
          22.612285614013672,
          18.873952865600586,
          21.161712646484375,
          20.74051284790039,
          1.691017746925354,
          1.5245301723480225,
          -40.63766860961914,
          -43.46999740600586,
          39.25799560546875,
          -27.723066329956055,
          5.054600715637207,
          5.022355079650879,
          -31.117074966430664,
          -31.098854064941406,
          -31.080106735229492,
          -30.277612686157227,
          -30.25926399230957,
          66.51615905761719
         ],
         "xaxis": "x",
         "y": [
          46.69572448730469,
          -32.132015228271484,
          2.596096992492676,
          -8.3679838180542,
          -28.938899993896484,
          -16.39130210876465,
          4.700462341308594,
          13.361414909362793,
          -13.940403938293457,
          -19.71713638305664,
          -3.744539499282837,
          -1.9559202194213867,
          -6.70890474319458,
          -22.427133560180664,
          12.707502365112305,
          -9.265474319458008,
          52.45210266113281,
          -20.283878326416016,
          -29.590810775756836,
          8.517820358276367,
          -21.119592666625977,
          -33.27671432495117,
          -21.106426239013672,
          -17.384502410888672,
          -17.01280975341797,
          -19.11347770690918,
          -18.114700317382812,
          4.636157512664795,
          -15.790575981140137,
          -23.465497970581055,
          -23.415794372558594,
          -9.852542877197266,
          -17.981473922729492,
          -18.961328506469727,
          -6.719415664672852,
          -1.500617265701294,
          -3.5584514141082764,
          -21.323707580566406,
          -32.0563850402832,
          -12.374434471130371,
          -33.29080581665039,
          -39.00405502319336,
          -38.37339401245117,
          -21.629968643188477,
          -33.40885543823242,
          -35.672122955322266,
          -19.392200469970703,
          -36.001136779785156,
          -45.19319152832031,
          -7.968408584594727,
          -33.29359436035156,
          -7.395545959472656,
          44.14189910888672,
          -0.6020660996437073,
          6.657694339752197,
          -26.991056442260742,
          -26.315114974975586,
          -26.634422302246094,
          -31.5214900970459,
          -32.59391403198242,
          -34.55470275878906,
          -23.6722469329834,
          28.32106590270996,
          28.32106590270996,
          10.415550231933594,
          3.6894428730010986,
          3.6894428730010986,
          8.51799201965332,
          5.4069929122924805,
          -36.96824264526367,
          -32.14284896850586,
          88.5628890991211,
          -16.89354705810547,
          11.8234224319458,
          11.027068138122559,
          6.704960346221924,
          -39.20710754394531,
          -34.84219741821289,
          -30.08040428161621,
          -30.598432540893555,
          -30.08040428161621,
          -30.08040428161621,
          -20.432758331298828,
          -16.525325775146484,
          -38.72319412231445,
          -38.72319412231445,
          86.36256408691406,
          -7.850847244262695,
          -25.343875885009766,
          5.947480201721191,
          -28.026376724243164,
          -12.874176025390625,
          -10.97582721710205,
          -10.97582721710205,
          -20.45643424987793,
          63.65541458129883,
          -33.504966735839844,
          51.48716354370117,
          62.17192840576172,
          -26.60472869873047,
          -7.768075942993164,
          -42.80248260498047,
          -42.80248260498047,
          -43.3363037109375,
          99.30622100830078,
          81.39402770996094,
          22.512582778930664,
          84.8165283203125,
          77.7210922241211,
          83.34366607666016,
          55.838890075683594,
          55.838890075683594,
          68.40313720703125,
          -91.42605590820312,
          -91.42605590820312,
          -49.2608642578125,
          -48.35004806518555,
          -49.2608642578125,
          -21.78455352783203,
          -21.991722106933594,
          -21.78455352783203,
          -12.392887115478516,
          -12.392887115478516,
          24.983585357666016,
          25.08857536315918,
          -87.5591812133789,
          64.8467788696289,
          68.50946044921875,
          -14.787921905517578,
          -16.083749771118164,
          -2.8433947563171387,
          -15.517568588256836,
          -14.586042404174805,
          -1.1340386867523193,
          -5.026831150054932,
          -10.379800796508789,
          -7.710423469543457,
          0.425601601600647,
          -0.3092294931411743,
          12.338805198669434,
          5.11164665222168,
          11.625330924987793,
          -27.549036026000977,
          -4.054832935333252,
          -37.059059143066406,
          -53.36662673950195,
          -17.95768165588379,
          -17.55733871459961,
          -4.071568012237549,
          -19.87285804748535,
          -20.698467254638672,
          -21.75617790222168,
          -41.059898376464844,
          -40.75459289550781,
          7.8386616706848145,
          -21.063247680664062,
          -27.282329559326172,
          -40.38432693481445,
          -37.96708297729492,
          -38.977386474609375,
          -36.787418365478516,
          -37.514259338378906,
          -48.630306243896484,
          -48.852630615234375,
          -48.852630615234375,
          -46.841190338134766,
          -46.5900993347168,
          -9.961324691772461,
          -9.562993049621582,
          7.750937461853027,
          6.8993072509765625,
          -4.0843400955200195,
          -29.27004051208496,
          2.4077794551849365,
          -30.73963737487793,
          -40.51714324951172,
          24.689790725708008,
          -14.380863189697266,
          27.366424560546875,
          27.021366119384766,
          -5.42236328125,
          -4.148751258850098,
          -25.711917877197266,
          -34.48371505737305,
          -36.18644714355469,
          -37.381587982177734,
          -37.381587982177734,
          94.62535095214844,
          94.62535095214844,
          95.82160949707031,
          95.82160949707031,
          -10.78436279296875,
          -31.240352630615234,
          -30.555376052856445,
          -26.826322555541992,
          -11.426928520202637,
          -24.919157028198242,
          -26.163192749023438,
          -23.976709365844727,
          -27.76824378967285,
          -27.75353240966797,
          1.5656445026397705,
          1.7305678129196167,
          -15.452699661254883,
          -40.02857971191406,
          -10.291516304016113,
          -10.271120071411133,
          -6.828056812286377,
          -9.591594696044922,
          -9.57540512084961,
          -7.850329875946045,
          -7.868242263793945,
          -22.49225616455078
         ],
         "yaxis": "y"
        },
        {
         "customdata": [
          [
           "Helmet"
          ],
          [
           "wardrobe"
          ],
          [
           "apron"
          ],
          [
           "cardigan"
          ],
          [
           "cardigan"
          ],
          [
           "cardigan"
          ],
          [
           "cardigan"
          ],
          [
           "cowboy boot"
          ],
          [
           "Clothing"
          ],
          [
           "clothing_store"
          ],
          [
           "drugstore"
          ],
          [
           "Chair"
          ],
          [
           "Bathtub (filling or washing)"
          ],
          [
           "Bathtub (filling or washing)"
          ],
          [
           "Bird"
          ],
          [
           "Box"
          ],
          [
           "jewelry_shop"
          ],
          [
           "Clock"
          ],
          [
           "Human body"
          ],
          [
           "Girl"
          ],
          [
           "paintbrush"
          ],
          [
           "paintbrush"
          ],
          [
           "paintbrush"
          ],
          [
           "Human eye"
          ],
          [
           "art_school"
          ],
          [
           "Cake"
          ],
          [
           "academic gown"
          ],
          [
           "academic gown"
          ],
          [
           "academic gown"
          ],
          [
           "Tie"
          ],
          [
           "bow tie"
          ],
          [
           "suit"
          ],
          [
           "gown"
          ],
          [
           "gown"
          ],
          [
           "gown"
          ],
          [
           "gown"
          ],
          [
           "gown"
          ],
          [
           "Dress"
          ],
          [
           "groom"
          ],
          [
           "groom"
          ],
          [
           "groom"
          ],
          [
           "Human hair"
          ],
          [
           "Human hair"
          ],
          [
           "Human hair"
          ],
          [
           "Human hair"
          ],
          [
           "Boiling"
          ],
          [
           "dressing_room"
          ],
          [
           "sarong"
          ],
          [
           "sarong"
          ],
          [
           "runway"
          ],
          [
           "Human mouth"
          ],
          [
           "Human mouth"
          ],
          [
           "art_gallery"
          ],
          [
           "Umbrella"
          ],
          [
           "Butterfly"
          ],
          [
           "Tree"
          ],
          [
           "Starfish"
          ],
          [
           "Bear"
          ],
          [
           "artists_loft"
          ],
          [
           "Sculpture"
          ],
          [
           "art_studio"
          ],
          [
           "Drinking straw"
          ],
          [
           "corn"
          ],
          [
           "cocktail shaker"
          ],
          [
           "Beer"
          ],
          [
           "Boy"
          ],
          [
           "Cookie"
          ],
          [
           "Juice"
          ],
          [
           "barbell"
          ],
          [
           "Flower"
          ],
          [
           "formal_garden"
          ],
          [
           "formal_garden"
          ],
          [
           "Washing machine"
          ],
          [
           "gasmask"
          ],
          [
           "Cash register"
          ],
          [
           "Angora"
          ],
          [
           "ox"
          ],
          [
           "Swimming pool"
          ],
          [
           "bannister"
          ],
          [
           "Jeans"
          ],
          [
           "Footwear"
          ],
          [
           "fabric_store"
          ],
          [
           "Rose"
          ],
          [
           "hip"
          ],
          [
           "Lily"
          ],
          [
           "fur coat"
          ],
          [
           "fur coat"
          ],
          [
           "Scissors"
          ],
          [
           "Scissors"
          ],
          [
           "Scissors"
          ],
          [
           "Bathroom cabinet"
          ],
          [
           "Trousers"
          ],
          [
           "Jacket"
          ],
          [
           "abaya"
          ],
          [
           "abaya"
          ],
          [
           "abaya"
          ],
          [
           "abaya"
          ],
          [
           "abaya"
          ],
          [
           "trench coat"
          ],
          [
           "Handbag"
          ],
          [
           "Coat"
          ],
          [
           "Wardrobe"
          ],
          [
           "Fashion accessory"
          ],
          [
           "Cowboy hat"
          ],
          [
           "Cowboy hat"
          ],
          [
           "Cowboy hat"
          ],
          [
           "Cowboy hat"
          ],
          [
           "Cowboy hat"
          ],
          [
           "cowboy hat"
          ],
          [
           "Windsor tie"
          ],
          [
           "Windsor tie"
          ],
          [
           "Chopping (food)"
          ],
          [
           "miniskirt"
          ],
          [
           "Luggage and bags"
          ],
          [
           "wallet"
          ],
          [
           "wallet"
          ],
          [
           "purse"
          ],
          [
           "purse"
          ],
          [
           "necklace"
          ],
          [
           "necklace"
          ],
          [
           "necklace"
          ],
          [
           "necklace"
          ],
          [
           "Earrings"
          ],
          [
           "Necklace"
          ],
          [
           "bathroom"
          ],
          [
           "Bathtub"
          ],
          [
           "Bathtub"
          ],
          [
           "Towel"
          ],
          [
           "Towel"
          ],
          [
           "Towel"
          ],
          [
           "Soap dispenser"
          ],
          [
           "Soap dispenser"
          ],
          [
           "Soap dispenser"
          ],
          [
           "Soap dispenser"
          ],
          [
           "soap dispenser"
          ],
          [
           "soap dispenser"
          ],
          [
           "soap dispenser"
          ],
          [
           "soap dispenser"
          ],
          [
           "bathtub"
          ],
          [
           "bath towel"
          ],
          [
           "bath towel"
          ],
          [
           "shower"
          ],
          [
           "shower"
          ],
          [
           "shower"
          ],
          [
           "sunscreen"
          ],
          [
           "sunscreen"
          ],
          [
           "sunscreen"
          ],
          [
           "sunscreen"
          ],
          [
           "sunscreen"
          ],
          [
           "Perfume"
          ],
          [
           "perfume"
          ],
          [
           "perfume"
          ],
          [
           "perfume"
          ],
          [
           "perfume"
          ],
          [
           "wig"
          ],
          [
           "wig"
          ],
          [
           "hair slide"
          ],
          [
           "hair slide"
          ],
          [
           "hair slide"
          ],
          [
           "Hair dryer"
          ],
          [
           "Hair dryer"
          ],
          [
           "Hair dryer"
          ],
          [
           "hair spray"
          ],
          [
           "Hair spray"
          ],
          [
           "beauty_salon"
          ],
          [
           "Cosmetics"
          ],
          [
           "Face powder"
          ],
          [
           "Face powder"
          ],
          [
           "Face powder"
          ],
          [
           "Face powder"
          ],
          [
           "Face powder"
          ],
          [
           "face powder"
          ],
          [
           "face powder"
          ],
          [
           "face powder"
          ],
          [
           "lipstick"
          ],
          [
           "Lipstick"
          ],
          [
           "Nail"
          ],
          [
           "Nail"
          ],
          [
           "Nail"
          ],
          [
           "Nail"
          ],
          [
           "Nail"
          ],
          [
           "Toothbrush"
          ],
          [
           "Toothbrush"
          ],
          [
           "Toothbrush"
          ],
          [
           "Toothbrush"
          ],
          [
           "Scarf"
          ],
          [
           "sweatshirt"
          ],
          [
           "sweatshirt"
          ],
          [
           "sweatshirt"
          ],
          [
           "sweatshirt"
          ],
          [
           "bikini"
          ],
          [
           "brassiere"
          ],
          [
           "brassiere"
          ],
          [
           "brassiere"
          ],
          [
           "digital clock"
          ],
          [
           "Sewing machine"
          ],
          [
           "Digital clock"
          ],
          [
           "digital watch"
          ],
          [
           "swimming_pool/outdoor"
          ],
          [
           "backpack"
          ],
          [
           "geyser"
          ],
          [
           "Human hand"
          ],
          [
           "Human hand"
          ],
          [
           "'groom'"
          ],
          [
           "'groom'"
          ],
          [
           "'groom'"
          ],
          [
           "'groom'"
          ],
          [
           "'bridegroom'"
          ],
          [
           "'bridegroom'"
          ],
          [
           "Dental drill, dentist's drill"
          ],
          [
           "strawberry"
          ],
          [
           "massaging person's head"
          ],
          [
           "massaging person's head"
          ],
          [
           "Orange"
          ],
          [
           "oxygen mask"
          ],
          [
           "oxygen mask"
          ],
          [
           "'medicine cabinet'"
          ],
          [
           "'medicine cabinet'"
          ],
          [
           "'Showbiz'"
          ],
          [
           "'theater curtain'"
          ],
          [
           "'Culture'"
          ],
          [
           "Football helmet"
          ],
          [
           "Sports uniform"
          ],
          [
           "Shorts"
          ],
          [
           "'running shoe'"
          ],
          [
           "'cardigan'"
          ],
          [
           "'cardigan'"
          ],
          [
           "'cardigan'"
          ],
          [
           "'cardigan'"
          ],
          [
           "'T-shirt'"
          ],
          [
           "'tee shirt'"
          ],
          [
           "'tee shirt'"
          ],
          [
           "'tee shirt'"
          ],
          [
           "'suit'"
          ],
          [
           "'suit of clothes'"
          ],
          [
           "sandal"
          ],
          [
           "'Fashion'"
          ],
          [
           "'Lifestyle'"
          ],
          [
           "Sandal"
          ],
          [
           "'shoe shop'"
          ],
          [
           "'shoe-shop'"
          ],
          [
           "'shoe-shop'"
          ],
          [
           "'shoe store'"
          ],
          [
           "'shoe store'"
          ],
          [
           "High heels"
          ],
          [
           "hockey"
          ],
          [
           "shop"
          ],
          [
           "bedroom"
          ],
          [
           "clean_room"
          ],
          [
           "nursery"
          ],
          [
           "sauna"
          ],
          [
           "sauna"
          ],
          [
           "sauna"
          ],
          [
           "yard"
          ],
          [
           "Electric shaver, electric razor"
          ],
          [
           "Electric shaver, electric razor"
          ],
          [
           "Jazz"
          ],
          [
           "Organ"
          ],
          [
           "Pop music"
          ],
          [
           "Punk rock"
          ],
          [
           "Rock and roll"
          ],
          [
           "Song"
          ],
          [
           "trimming or shaving beard"
          ],
          [
           "trimming or shaving beard"
          ],
          [
           "trimming or shaving beard"
          ],
          [
           "trimming or shaving beard"
          ],
          [
           "washing feet"
          ],
          [
           "washing feet"
          ],
          [
           "washing feet"
          ],
          [
           "washing feet"
          ],
          [
           "washing feet"
          ],
          [
           "shaving head"
          ],
          [
           "shaving head"
          ],
          [
           "shaving head"
          ],
          [
           "golf putting"
          ],
          [
           "taking a shower"
          ],
          [
           "taking a shower"
          ],
          [
           "taking a shower"
          ],
          [
           "taking a shower"
          ],
          [
           "dying hair"
          ],
          [
           "dying hair"
          ],
          [
           "dying hair"
          ],
          [
           "grooming horse"
          ],
          [
           "grooming horse"
          ],
          [
           "grooming horse"
          ],
          [
           "grooming horse"
          ],
          [
           "jogging"
          ],
          [
           "applying cream"
          ],
          [
           "applying cream"
          ],
          [
           "applying cream"
          ],
          [
           "applying cream"
          ],
          [
           "waxing legs"
          ],
          [
           "waxing legs"
          ],
          [
           "waxing legs"
          ],
          [
           "trimming trees"
          ],
          [
           "curling hair"
          ],
          [
           "curling hair"
          ],
          [
           "curling hair"
          ],
          [
           "curling hair"
          ],
          [
           "grooming dog"
          ],
          [
           "grooming dog"
          ],
          [
           "grooming dog"
          ],
          [
           "grooming dog"
          ],
          [
           "mowing lawn"
          ],
          [
           "waxing chest"
          ],
          [
           "braiding hair"
          ],
          [
           "braiding hair"
          ],
          [
           "braiding hair"
          ],
          [
           "braiding hair"
          ],
          [
           "brush painting"
          ],
          [
           "brush painting"
          ],
          [
           "brush painting"
          ],
          [
           "brushing hair"
          ],
          [
           "brushing hair"
          ],
          [
           "brushing hair"
          ],
          [
           "brushing hair"
          ],
          [
           "cleaning floor"
          ],
          [
           "cleaning floor"
          ],
          [
           "drawing"
          ],
          [
           "waxing back"
          ],
          [
           "waxing back"
          ],
          [
           "waxing back"
          ],
          [
           "cleaning pool"
          ],
          [
           "doing nails"
          ],
          [
           "doing nails"
          ],
          [
           "doing nails"
          ],
          [
           "doing nails"
          ],
          [
           "shooting basketball"
          ],
          [
           "cutting nails"
          ],
          [
           "cutting nails"
          ],
          [
           "cutting nails"
          ],
          [
           "cutting nails"
          ],
          [
           "waxing eyebrows"
          ],
          [
           "waxing eyebrows"
          ],
          [
           "waxing eyebrows"
          ],
          [
           "getting a haircut"
          ],
          [
           "getting a haircut"
          ],
          [
           "getting a haircut"
          ],
          [
           "getting a haircut"
          ],
          [
           "Baseball glove"
          ],
          [
           "'Politics'"
          ],
          [
           "'Economy'"
          ],
          [
           "'Health'"
          ],
          [
           "'Literature'"
          ],
          [
           "'Shopping'"
          ],
          [
           "Boot"
          ],
          [
           "Sun hat"
          ],
          [
           "Sun hat"
          ],
          [
           "Sun hat"
          ],
          [
           "Sun hat"
          ],
          [
           "Salt and pepper shakers"
          ],
          [
           "Human foot"
          ],
          [
           "Human head"
          ],
          [
           "Human head"
          ],
          [
           "Kitchen knife"
          ],
          [
           "Cooking spray"
          ],
          [
           "Chicken"
          ],
          [
           "Ice cream"
          ],
          [
           "Watch"
          ],
          [
           "Bathroom accessory"
          ],
          [
           "'Sydney silky'"
          ],
          [
           "'Mexican hairless'"
          ],
          [
           "'Mexican hairless'"
          ],
          [
           "'abaya'"
          ],
          [
           "'abaya'"
          ],
          [
           "'abaya'"
          ],
          [
           "'abaya'"
          ],
          [
           "'abaya'"
          ],
          [
           "'academic gown'"
          ],
          [
           "'academic gown'"
          ],
          [
           "'academic gown'"
          ],
          [
           "'academic robe'"
          ],
          [
           "'academic robe'"
          ],
          [
           "\"judge's robe\""
          ],
          [
           "\"judge's robe\""
          ],
          [
           "'backpack'"
          ],
          [
           "'back pack'"
          ],
          [
           "'knapsack'"
          ],
          [
           "'rucksack'"
          ],
          [
           "'haversack'"
          ],
          [
           "'balance beam'"
          ],
          [
           "'beam'"
          ],
          [
           "'bathtub'"
          ],
          [
           "'bathing tub'"
          ],
          [
           "'bath'"
          ],
          [
           "'tub'"
          ],
          [
           "'bikini'"
          ],
          [
           "'two-piece'"
          ],
          [
           "'two-piece'"
          ],
          [
           "'two-piece'"
          ],
          [
           "'bow tie'"
          ],
          [
           "'bow-tie'"
          ],
          [
           "'bowtie'"
          ],
          [
           "'cleaver'"
          ],
          [
           "'trumpet'"
          ],
          [
           "'cowboy boot'"
          ],
          [
           "'digital clock'"
          ],
          [
           "'digital watch'"
          ],
          [
           "'digital watch'"
          ],
          [
           "'tympan'"
          ],
          [
           "'fur coat'"
          ],
          [
           "'gown'"
          ],
          [
           "'gown'"
          ],
          [
           "'gown'"
          ],
          [
           "'gown'"
          ],
          [
           "'nursery'"
          ],
          [
           "'hair slide'"
          ],
          [
           "'hair slide'"
          ],
          [
           "'blow dryer'"
          ],
          [
           "'blow dryer'"
          ],
          [
           "'blow drier'"
          ],
          [
           "'blow drier'"
          ],
          [
           "'hair dryer'"
          ],
          [
           "'hair dryer'"
          ],
          [
           "'hair drier'"
          ],
          [
           "'hair drier'"
          ],
          [
           "'mouth organ'"
          ],
          [
           "'hoopskirt'"
          ],
          [
           "'crinoline'"
          ],
          [
           "'hourglass'"
          ],
          [
           "'blue jean'"
          ],
          [
           "'kimono'"
          ],
          [
           "'lab coat'"
          ],
          [
           "'laboratory coat'"
          ],
          [
           "'mower'"
          ],
          [
           "'lens cover'"
          ],
          [
           "'lipstick'"
          ],
          [
           "'lip rouge'"
          ],
          [
           "'maillot'"
          ],
          [
           "'tank suit'"
          ],
          [
           "'tank suit'"
          ],
          [
           "'mask'"
          ],
          [
           "'military uniform'"
          ],
          [
           "'miniskirt'"
          ],
          [
           "'miniskirt'"
          ],
          [
           "'Model T'"
          ],
          [
           "'overskirt'"
          ],
          [
           "'pajama'"
          ],
          [
           "'pajama'"
          ],
          [
           "'pajama'"
          ],
          [
           "'pyjama'"
          ],
          [
           "'perfume'"
          ],
          [
           "'perfume'"
          ],
          [
           "'perfume'"
          ],
          [
           "'essence'"
          ],
          [
           "'essence'"
          ],
          [
           "'sarong'"
          ],
          [
           "'scale'"
          ],
          [
           "'sewing machine'"
          ],
          [
           "'shopping basket'"
          ],
          [
           "'shower cap'"
          ],
          [
           "'shower cap'"
          ],
          [
           "'shower cap'"
          ],
          [
           "'shower curtain'"
          ],
          [
           "'ski mask'"
          ],
          [
           "'slipstick'"
          ],
          [
           "'sliding door'"
          ],
          [
           "'stove'"
          ],
          [
           "'sunglasses'"
          ],
          [
           "'dark glasses'"
          ],
          [
           "'sweatshirt'"
          ],
          [
           "'sweatshirt'"
          ],
          [
           "'sweatshirt'"
          ],
          [
           "'sweatshirt'"
          ],
          [
           "'swimming trunks'"
          ],
          [
           "'swimming trunks'"
          ],
          [
           "'swimming trunks'"
          ],
          [
           "'bathing trunks'"
          ],
          [
           "'bathing trunks'"
          ],
          [
           "'bathing trunks'"
          ],
          [
           "'bathing trunks'"
          ],
          [
           "'toilet seat'"
          ],
          [
           "'trench coat'"
          ],
          [
           "'wall clock'"
          ],
          [
           "'wallet'"
          ],
          [
           "'wallet'"
          ],
          [
           "'billfold'"
          ],
          [
           "'pocketbook'"
          ],
          [
           "'wardrobe'"
          ],
          [
           "'closet'"
          ],
          [
           "'wig'"
          ],
          [
           "'wig'"
          ],
          [
           "'dust cover'"
          ],
          [
           "'dust jacket'"
          ],
          [
           "'menu'"
          ],
          [
           "'beigel'"
          ],
          [
           "'bell pepper'"
          ],
          [
           "'strawberry'"
          ],
          [
           "\"yellow lady's slipper\""
          ],
          [
           "\"yellow lady's slipper\""
          ],
          [
           "\"yellow lady's slipper\""
          ],
          [
           "'yellow lady-slipper'"
          ],
          [
           "'yellow lady-slipper'"
          ],
          [
           "'yellow lady-slipper'"
          ],
          [
           "'hair spray'"
          ],
          [
           "'hair spray'"
          ],
          [
           "'hair spray'"
          ],
          [
           "'hair spray'"
          ],
          [
           "'hair spray'"
          ],
          [
           "kissing"
          ],
          [
           "Wedding music"
          ],
          [
           "Writing"
          ],
          [
           "texting"
          ],
          [
           "Zipper (clothing)"
          ],
          [
           "'bathing cap'"
          ],
          [
           "'bathing cap'"
          ],
          [
           "'bathing cap'"
          ],
          [
           "'chain mail'"
          ],
          [
           "'geyser'"
          ],
          [
           "'hay'"
          ],
          [
           "'manhole cover'"
          ],
          [
           "'oxygen mask'"
          ],
          [
           "'stole'"
          ],
          [
           "Cutting board"
          ],
          [
           "Cutting board"
          ]
         ],
         "hovertemplate": "label=Style & Fashion<br>x=%{x}<br>y=%{y}<br>items=%{customdata[0]}<extra></extra>",
         "legendgroup": "Style & Fashion",
         "marker": {
          "color": "#00cc96",
          "symbol": "circle"
         },
         "mode": "markers",
         "name": "Style & Fashion",
         "showlegend": true,
         "type": "scattergl",
         "x": [
          -14.866551399230957,
          -8.38187313079834,
          -5.198483943939209,
          -16.207828521728516,
          -16.207828521728516,
          -16.207828521728516,
          -16.207828521728516,
          -26.731536865234375,
          -10.891560554504395,
          -32.02269744873047,
          -26.48013687133789,
          -0.346996933221817,
          11.258209228515625,
          11.258209228515625,
          -80.10760498046875,
          3.7618160247802734,
          -35.13961410522461,
          31.16368293762207,
          -101.08210754394531,
          -17.486642837524414,
          29.684669494628906,
          29.684669494628906,
          29.736120223999023,
          -100.40548706054688,
          58.45859146118164,
          -5.599536418914795,
          -15.299562454223633,
          -15.299562454223633,
          -15.051656723022461,
          -24.707149505615234,
          -26.136245727539062,
          -16.763715744018555,
          -15.917012214660645,
          -15.917012214660645,
          -15.917012214660645,
          -16.102140426635742,
          -16.102140426635742,
          -8.295812606811523,
          -10.782750129699707,
          -10.782750129699707,
          -10.782750129699707,
          4.7497878074646,
          4.7497878074646,
          4.7497878074646,
          4.7497878074646,
          23.298124313354492,
          73.55191040039062,
          -10.76664924621582,
          -10.76664924621582,
          50.05908203125,
          -99.6953353881836,
          -99.6953353881836,
          61.55842208862305,
          -20.056631088256836,
          -67.11077880859375,
          36.12145233154297,
          -63.72935104370117,
          -85.54750061035156,
          59.322696685791016,
          24.343334197998047,
          61.788822174072266,
          -18.32976531982422,
          -19.075916290283203,
          -8.593700408935547,
          -10.15319538116455,
          -15.537650108337402,
          -8.73523998260498,
          -22.428298950195312,
          -30.317081451416016,
          -66.6775894165039,
          54.583229064941406,
          54.583229064941406,
          22.545991897583008,
          -35.585723876953125,
          40.71075439453125,
          -67.4439697265625,
          -8.36074161529541,
          71.9653091430664,
          42.514854431152344,
          -12.12971305847168,
          -8.755722999572754,
          -32.33175277709961,
          -20.11716079711914,
          -11.829251289367676,
          -70.42820739746094,
          -34.49026870727539,
          -34.48815155029297,
          6.148382186889648,
          6.7233171463012695,
          6.7233171463012695,
          12.300180435180664,
          -11.595586776733398,
          -15.089394569396973,
          -18.889965057373047,
          -18.889965057373047,
          -18.889965057373047,
          -18.889965057373047,
          -18.889965057373047,
          -18.676467895507812,
          -17.659990310668945,
          -16.857419967651367,
          -9.126664161682129,
          -11.637743949890137,
          -25.304506301879883,
          -24.27996063232422,
          -24.6268310546875,
          -24.843143463134766,
          -24.6268310546875,
          -25.588777542114258,
          -23.77953338623047,
          -23.77953338623047,
          12.672786712646484,
          -24.452722549438477,
          -15.19102954864502,
          -6.509910583496094,
          -5.88697624206543,
          -16.699935913085938,
          -16.699935913085938,
          -15.575146675109863,
          -15.701305389404297,
          -15.229013442993164,
          -15.955313682556152,
          -13.313902854919434,
          -14.500033378601074,
          32.14350128173828,
          8.782797813415527,
          8.782797813415527,
          -0.6251174211502075,
          0.18286287784576416,
          -0.46411430835723877,
          12.23280143737793,
          11.18766975402832,
          12.23280143737793,
          12.23280143737793,
          12.019591331481934,
          12.019591331481934,
          13.111544609069824,
          13.111544609069824,
          8.55968952178955,
          1.1554529666900635,
          1.1554529666900635,
          8.687922477722168,
          9.114076614379883,
          8.696703910827637,
          -2.2339813709259033,
          -2.2339813709259033,
          -2.2339813709259033,
          -2.2339813709259033,
          -1.775517225265503,
          -0.534700870513916,
          0.09721186757087708,
          1.009177327156067,
          1.009177327156067,
          0.09721186757087708,
          -10.092117309570312,
          -10.092117309570312,
          8.033955574035645,
          8.033955574035645,
          8.033955574035645,
          20.442703247070312,
          20.442703247070312,
          19.891002655029297,
          17.033084869384766,
          16.668962478637695,
          -34.93177032470703,
          -1.5146129131317139,
          1.4577430486679077,
          2.5026910305023193,
          2.5026910305023193,
          2.5026910305023193,
          1.4577430486679077,
          2.177104949951172,
          2.177104949951172,
          2.177104949951172,
          -8.455944061279297,
          -8.39987850189209,
          -4.604877948760986,
          -4.604877948760986,
          -4.844128131866455,
          -4.844128131866455,
          -4.604877948760986,
          15.416330337524414,
          15.416330337524414,
          15.416330337524414,
          15.416330337524414,
          -14.591907501220703,
          -11.957013130187988,
          -11.957013130187988,
          -11.957013130187988,
          -11.957013130187988,
          -5.6559929847717285,
          -12.628423690795898,
          -12.628423690795898,
          -12.628423690795898,
          35.560359954833984,
          26.292566299438477,
          34.67216873168945,
          36.483375549316406,
          70.9456787109375,
          -20.730506896972656,
          26.701120376586914,
          -98.34532165527344,
          -98.34532165527344,
          -10.610016822814941,
          -10.610016822814941,
          -10.610016822814941,
          -10.610016822814941,
          -12.302919387817383,
          -12.302919387817383,
          18.519550323486328,
          -42.63335037231445,
          8.100504875183105,
          8.100504875183105,
          -46.537803649902344,
          1.9166196584701538,
          1.9166196584701538,
          30.453826904296875,
          30.453826904296875,
          -21.395902633666992,
          29.977304458618164,
          -29.52342414855957,
          -24.51030158996582,
          -21.52381706237793,
          -8.291378021240234,
          -44.607059478759766,
          -16.34988784790039,
          -16.85848045349121,
          -17.39457893371582,
          -17.22791862487793,
          -9.961371421813965,
          -10.454757690429688,
          -10.454757690429688,
          -10.457226753234863,
          -14.31772518157959,
          -14.798555374145508,
          -4.596076488494873,
          -29.295907974243164,
          -29.720252990722656,
          -5.263965606689453,
          -41.39586639404297,
          -42.61050033569336,
          -42.61050033569336,
          -42.52078628540039,
          -42.52078628540039,
          -7.59561014175415,
          2.536503553390503,
          -22.681385040283203,
          77.2337646484375,
          78.60333251953125,
          40.21702194213867,
          30.3535099029541,
          31.098661422729492,
          31.098661422729492,
          45.74296569824219,
          16.464569091796875,
          16.185565948486328,
          57.89915084838867,
          -10.114226341247559,
          65.9499740600586,
          67.81462860107422,
          65.59300994873047,
          69.08274841308594,
          -5.042744159698486,
          -5.042744159698486,
          -5.042744159698486,
          -5.042744159698486,
          11.902688026428223,
          11.902688026428223,
          11.584064483642578,
          11.902688026428223,
          11.902688026428223,
          -1.75800621509552,
          -1.75800621509552,
          -1.720007300376892,
          4.202484130859375,
          8.018513679504395,
          8.018513679504395,
          7.211297512054443,
          8.018513679504395,
          3.8704404830932617,
          3.8704404830932617,
          3.8704404830932617,
          -6.511168003082275,
          -6.511168003082275,
          -6.511168003082275,
          -6.511168003082275,
          11.132253646850586,
          3.4365386962890625,
          3.8264076709747314,
          3.7675533294677734,
          4.15933895111084,
          -4.849974632263184,
          -4.849974632263184,
          -4.849974632263184,
          14.60947322845459,
          5.547837734222412,
          5.547837734222412,
          5.547837734222412,
          5.547837734222412,
          -9.16580867767334,
          -9.158010482788086,
          -9.16580867767334,
          -9.158010482788086,
          24.485187530517578,
          -3.4212875366210938,
          3.4108121395111084,
          3.4108121395111084,
          3.4108121395111084,
          3.4108121395111084,
          27.862211227416992,
          27.70151710510254,
          27.70151710510254,
          1.7132072448730469,
          1.7132072448730469,
          1.7132072448730469,
          1.7132072448730469,
          30.7645320892334,
          30.7645320892334,
          21.33457374572754,
          -1.8042731285095215,
          -1.8042731285095215,
          -1.8042731285095215,
          31.82514190673828,
          8.109441757202148,
          7.848095893859863,
          7.848095893859863,
          7.848095893859863,
          2.425856113433838,
          10.107416152954102,
          10.107416152954102,
          10.28101634979248,
          10.107416152954102,
          -2.3568334579467773,
          -2.3568334579467773,
          -2.3568334579467773,
          0.023880546912550926,
          0.023880546912550926,
          0.023880546912550926,
          0.023880546912550926,
          -7.318397521972656,
          -32.414588928222656,
          -33.09947204589844,
          -36.40212631225586,
          -25.661949157714844,
          -45.17448806762695,
          2.5891387462615967,
          -4.76749324798584,
          -4.153042316436768,
          -4.850180625915527,
          -4.76749324798584,
          10.468512535095215,
          -97.0375747680664,
          -99.31968688964844,
          -99.31968688964844,
          12.767512321472168,
          14.884361267089844,
          -85.3065414428711,
          -37.672706604003906,
          21.018569946289062,
          9.48893928527832,
          -40.553279876708984,
          -56.961483001708984,
          -56.961509704589844,
          -20.721817016601562,
          -20.721817016601562,
          -20.721817016601562,
          -20.721817016601562,
          -20.721817016601562,
          -17.41375160217285,
          -17.41375160217285,
          -17.41375160217285,
          -18.838409423828125,
          -18.838409423828125,
          -21.398799896240234,
          -21.398799896240234,
          -21.841508865356445,
          -23.287317276000977,
          -24.969663619995117,
          -22.67007064819336,
          -24.577241897583008,
          -28.716238021850586,
          -28.698461532592773,
          6.367412567138672,
          6.443027496337891,
          5.307217121124268,
          5.057009696960449,
          -6.192243576049805,
          -9.075565338134766,
          -9.06175708770752,
          -9.06175708770752,
          -26.16683006286621,
          -26.23598861694336,
          -26.46993637084961,
          -44.55215072631836,
          -8.855023384094238,
          -26.97934913635254,
          33.85637283325195,
          35.510746002197266,
          34.82107162475586,
          37.485469818115234,
          -33.7370719909668,
          -18.445674896240234,
          -18.006378173828125,
          -17.920705795288086,
          -17.70001792907715,
          38.252567291259766,
          9.84161376953125,
          9.84161376953125,
          24.42400360107422,
          24.653045654296875,
          23.3374080657959,
          23.3374080657959,
          22.185956954956055,
          23.23316764831543,
          21.464834213256836,
          21.464834213256836,
          22.433088302612305,
          -26.005817413330078,
          8.814360618591309,
          -10.436653137207031,
          -81.27767181396484,
          -17.869979858398438,
          -23.55661964416504,
          -23.436620712280273,
          20.072967529296875,
          -16.439817428588867,
          -8.982471466064453,
          -9.77953815460205,
          -32.71460723876953,
          -12.391509056091309,
          -12.391509056091309,
          -35.715171813964844,
          -52.2397346496582,
          -25.152324676513672,
          -25.152324676513672,
          -8.776445388793945,
          -25.318084716796875,
          -19.96163558959961,
          -19.964603424072266,
          -19.964603424072266,
          -19.066194534301758,
          1.1534099578857422,
          1.1534099578857422,
          0.4507710039615631,
          -47.62107849121094,
          -47.68037033081055,
          -10.540875434875488,
          -3.466780662536621,
          26.056705474853516,
          -38.23320770263672,
          2.679960250854492,
          2.679960250854492,
          2.7765283584594727,
          4.3742475509643555,
          -36.62220001220703,
          -8.832233428955078,
          3.003868341445923,
          -34.93426513671875,
          -10.651506423950195,
          -11.622465133666992,
          -12.660730361938477,
          -12.486544609069824,
          -11.895365715026855,
          -11.895365715026855,
          -5.006618499755859,
          -5.006618499755859,
          -5.006618499755859,
          -3.228036880493164,
          -3.228036880493164,
          -2.9747941493988037,
          -3.228036880493164,
          5.633147239685059,
          -18.795839309692383,
          32.609336853027344,
          -20.186655044555664,
          -20.103696823120117,
          -21.179988861083984,
          -20.16494369506836,
          -8.60165023803711,
          4.5249857902526855,
          1.610947847366333,
          1.610947847366333,
          -17.27008056640625,
          -16.814640045166016,
          9.102117538452148,
          -27.42239761352539,
          -32.36121368408203,
          -42.588294982910156,
          -47.12871170043945,
          -46.4409294128418,
          -47.071048736572266,
          -46.1192626953125,
          -46.1192626953125,
          -45.75200653076172,
          18.254487991333008,
          18.68128204345703,
          18.68128204345703,
          18.254487991333008,
          18.254487991333008,
          16.542984008789062,
          82.88984680175781,
          73.30518341064453,
          39.261348724365234,
          -12.654065132141113,
          0.2778985798358917,
          0.2778985798358917,
          0.4079093933105469,
          -31.643430709838867,
          26.647216796875,
          11.934349060058594,
          -17.238162994384766,
          2.3472235202789307,
          -34.9221076965332,
          9.720356941223145,
          9.284506797790527
         ],
         "xaxis": "x",
         "y": [
          33.49440002441406,
          -28.306528091430664,
          -32.132015228271484,
          -31.558799743652344,
          -31.558799743652344,
          -31.558799743652344,
          -31.558799743652344,
          -27.694103240966797,
          -24.788156509399414,
          42.50685501098633,
          44.89284896850586,
          38.286277770996094,
          -33.34042739868164,
          -33.34042739868164,
          -7.375892162322998,
          40.6878547668457,
          46.675411224365234,
          24.084369659423828,
          -16.883092880249023,
          56.195945739746094,
          9.682967185974121,
          9.682967185974121,
          8.965304374694824,
          -14.667325019836426,
          -7.196194171905518,
          19.790658950805664,
          -45.39385223388672,
          -45.39385223388672,
          -46.354034423828125,
          -31.153505325317383,
          -31.469472885131836,
          37.18712615966797,
          -42.06040573120117,
          -42.06040573120117,
          -42.06040573120117,
          -41.134883880615234,
          -41.134883880615234,
          -24.909212112426758,
          -82.08478546142578,
          -82.08478546142578,
          -82.08478546142578,
          -83.8768081665039,
          -83.8768081665039,
          -83.8768081665039,
          -83.8768081665039,
          3.953904867172241,
          -19.26068687438965,
          -43.990562438964844,
          -43.990562438964844,
          -50.506378173828125,
          -12.479084968566895,
          -12.479084968566895,
          -7.827158451080322,
          -25.755752563476562,
          -11.471869468688965,
          9.614574432373047,
          -15.968320846557617,
          2.692232608795166,
          -2.9082984924316406,
          13.361414909362793,
          -5.007137775421143,
          6.1228532791137695,
          29.8972225189209,
          0.9047020077705383,
          27.5621280670166,
          57.33750915527344,
          21.16217803955078,
          17.488399505615234,
          10.557514190673828,
          1.2179806232452393,
          -21.106426239013672,
          -21.106426239013672,
          -23.415794372558594,
          0.4308554232120514,
          23.764192581176758,
          -61.17094039916992,
          58.59119415283203,
          -37.97730255126953,
          -25.12826919555664,
          -27.13785743713379,
          -21.505477905273438,
          44.64821243286133,
          48.58489990234375,
          35.89328384399414,
          -0.5785190463066101,
          -51.6961555480957,
          -51.69567108154297,
          -18.179311752319336,
          -18.043106079101562,
          -18.043106079101562,
          -26.57170867919922,
          -29.430116653442383,
          -25.614986419677734,
          -51.232425689697266,
          -51.232425689697266,
          -51.232425689697266,
          -51.232425689697266,
          -51.232425689697266,
          -29.300809860229492,
          -15.757200241088867,
          -27.370380401611328,
          -27.709793090820312,
          -22.189285278320312,
          -25.8670597076416,
          -25.924026489257812,
          -26.611391067504883,
          -25.573396682739258,
          -26.611391067504883,
          -26.592958450317383,
          -30.39264488220215,
          -30.39264488220215,
          6.152029514312744,
          -35.92618942260742,
          -16.209081649780273,
          37.80321502685547,
          37.062744140625,
          -13.01022720336914,
          -13.01022720336914,
          -20.900814056396484,
          -22.040136337280273,
          -21.543380737304688,
          -21.470821380615234,
          -21.055217742919922,
          -22.3341064453125,
          -26.498279571533203,
          -31.149810791015625,
          -31.149810791015625,
          -31.881778717041016,
          -31.468605041503906,
          -31.042619705200195,
          -22.137020111083984,
          -21.68610382080078,
          -22.137020111083984,
          -22.137020111083984,
          -20.501564025878906,
          -20.501564025878906,
          -20.86382293701172,
          -20.86382293701172,
          -32.59391403198242,
          -33.4084587097168,
          -33.4084587097168,
          -36.6401481628418,
          -36.75935363769531,
          -36.30636215209961,
          -25.774246215820312,
          -25.774246215820312,
          -25.774246215820312,
          -25.774246215820312,
          -26.47547149658203,
          -17.3226375579834,
          -18.352102279663086,
          -18.232940673828125,
          -18.232940673828125,
          -18.352102279663086,
          38.58173751831055,
          38.58173751831055,
          -87.58082580566406,
          -87.58082580566406,
          -87.58082580566406,
          -34.55470275878906,
          -34.55470275878906,
          -35.121734619140625,
          -41.06247329711914,
          -40.768131256103516,
          47.97802734375,
          -21.93109703063965,
          -22.728347778320312,
          -22.521970748901367,
          -22.521970748901367,
          -22.521970748901367,
          -22.728347778320312,
          -23.874225616455078,
          -23.874225616455078,
          -23.874225616455078,
          -18.085838317871094,
          -18.223093032836914,
          -19.74337387084961,
          -19.74337387084961,
          -20.526742935180664,
          -20.526742935180664,
          -19.74337387084961,
          -29.42504119873047,
          -29.42504119873047,
          -29.42504119873047,
          -29.42504119873047,
          -28.36037254333496,
          -32.6083984375,
          -32.6083984375,
          -32.6083984375,
          -32.6083984375,
          -36.37653350830078,
          -18.56937599182129,
          -18.56937599182129,
          -18.56937599182129,
          21.843759536743164,
          -23.6722469329834,
          22.82939338684082,
          20.142276763916016,
          -36.23512268066406,
          -17.159334182739258,
          -33.61054992675781,
          -15.383410453796387,
          -15.383410453796387,
          -79.83479309082031,
          -79.83479309082031,
          -79.83479309082031,
          -79.83479309082031,
          -78.88782501220703,
          -78.88782501220703,
          -30.54403305053711,
          6.025753021240234,
          -95.79106140136719,
          -95.79106140136719,
          9.867964744567871,
          -44.961402893066406,
          -44.961402893066406,
          -16.89354705810547,
          -16.89354705810547,
          66.18656921386719,
          -34.477413177490234,
          75.22509765625,
          -7.935461044311523,
          -6.1139631271362305,
          -31.358264923095703,
          40.449546813964844,
          -33.48240661621094,
          -34.063758850097656,
          -33.55885696411133,
          -33.04105758666992,
          -35.62334442138672,
          -36.89299774169922,
          -36.89299774169922,
          -36.887149810791016,
          -38.19230651855469,
          -37.25481414794922,
          -15.432534217834473,
          66.8274154663086,
          70.62866973876953,
          -15.94716739654541,
          39.45843505859375,
          38.79248809814453,
          38.79248809814453,
          40.75990295410156,
          40.75990295410156,
          -22.221742630004883,
          68.18606567382812,
          39.75602722167969,
          -20.432758331298828,
          -12.799723625183105,
          -28.96393585205078,
          -30.282657623291016,
          -30.62932586669922,
          -30.62932586669922,
          -10.97582721710205,
          -33.504966735839844,
          -34.272674560546875,
          73.46015930175781,
          54.674400329589844,
          70.9029769897461,
          77.87013244628906,
          76.150146484375,
          42.41427993774414,
          -91.15233612060547,
          -91.15233612060547,
          -91.15233612060547,
          -91.15233612060547,
          -40.0189094543457,
          -40.0189094543457,
          -40.775978088378906,
          -40.0189094543457,
          -40.0189094543457,
          -90.2447509765625,
          -90.2447509765625,
          -90.40323638916016,
          84.8165283203125,
          -39.1831169128418,
          -39.1831169128418,
          -38.940673828125,
          -39.1831169128418,
          -88.3895263671875,
          -88.3895263671875,
          -88.3895263671875,
          -86.3136978149414,
          -86.3136978149414,
          -86.3136978149414,
          -86.3136978149414,
          83.34366607666016,
          -98.98579406738281,
          -98.6612548828125,
          -99.37389373779297,
          -99.04637908935547,
          -96.03955841064453,
          -96.03955841064453,
          -96.03955841064453,
          -91.42605590820312,
          -91.77985382080078,
          -91.77985382080078,
          -91.77985382080078,
          -91.77985382080078,
          -86.0583724975586,
          -86.94874572753906,
          -86.0583724975586,
          -86.94874572753906,
          -49.2608642578125,
          -96.78153228759766,
          -93.6363754272461,
          -93.6363754272461,
          -93.6363754272461,
          -93.6363754272461,
          8.645761489868164,
          9.385223388671875,
          9.385223388671875,
          -91.20006561279297,
          -91.20006561279297,
          -91.20006561279297,
          -91.20006561279297,
          -49.67213439941406,
          -49.67213439941406,
          33.000816345214844,
          -97.73064422607422,
          -97.73064422607422,
          -97.73064422607422,
          -49.65016174316406,
          -44.16171646118164,
          -44.83651351928711,
          -44.83651351928711,
          -44.83651351928711,
          74.28265380859375,
          -45.464786529541016,
          -45.464786529541016,
          -44.775047302246094,
          -45.464786529541016,
          -94.90293884277344,
          -94.90293884277344,
          -94.90293884277344,
          -86.99573516845703,
          -86.99573516845703,
          -86.99573516845703,
          -86.99573516845703,
          75.13230895996094,
          83.34324645996094,
          78.70372772216797,
          75.0188217163086,
          76.31771850585938,
          35.12774658203125,
          43.35715103149414,
          -27.42405891418457,
          -28.01676368713379,
          -28.254310607910156,
          -27.42405891418457,
          -15.517568588256836,
          -17.623046875,
          -18.842050552368164,
          -18.842050552368164,
          -11.207040786743164,
          -7.710423469543457,
          -6.171261310577393,
          15.464544296264648,
          46.096954345703125,
          -27.54895782470703,
          -84.04108428955078,
          -55.28875732421875,
          -55.288692474365234,
          -50.249759674072266,
          -50.249759674072266,
          -50.249759674072266,
          -50.249759674072266,
          -50.249759674072266,
          -45.11712646484375,
          -45.11712646484375,
          -45.11712646484375,
          -46.354434967041016,
          -46.354434967041016,
          -45.08896255493164,
          -45.08896255493164,
          -18.32022476196289,
          -17.937976837158203,
          -19.244853973388672,
          -20.208080291748047,
          -21.122941970825195,
          7.265382766723633,
          7.239915370941162,
          -32.15485763549805,
          -33.80575942993164,
          -33.92504119873047,
          -32.3536262512207,
          -37.58892822265625,
          -40.49856185913086,
          -40.47595977783203,
          -40.47595977783203,
          -32.42465591430664,
          -32.62322235107422,
          -32.66237258911133,
          28.771852493286133,
          -61.04901123046875,
          -27.90459632873535,
          20.752859115600586,
          18.671953201293945,
          19.100414276123047,
          89.16477966308594,
          -51.26859664916992,
          -41.779300689697266,
          -41.178409576416016,
          -42.1849250793457,
          -41.64176559448242,
          -27.22332763671875,
          -86.56055450439453,
          -86.56055450439453,
          -37.96708297729492,
          -38.71510696411133,
          -38.977386474609375,
          -38.977386474609375,
          -36.02093505859375,
          -35.83790969848633,
          -37.514259338378906,
          -37.514259338378906,
          82.54977416992188,
          -37.303466796875,
          -56.311798095703125,
          -4.191842079162598,
          12.043115615844727,
          -36.535194396972656,
          -43.002532958984375,
          -42.914466857910156,
          -46.11419677734375,
          -4.349587440490723,
          -17.17045021057129,
          -16.621076583862305,
          -5.353013515472412,
          -39.47700500488281,
          -39.47700500488281,
          -1.0598481893539429,
          -13.724857330322266,
          -36.383548736572266,
          -36.383548736572266,
          -35.241004943847656,
          -37.58360290527344,
          -37.329139709472656,
          -37.336368560791016,
          -37.336368560791016,
          -37.64548110961914,
          -16.18659210205078,
          -16.18659210205078,
          -15.946877479553223,
          72.83811950683594,
          72.87519836425781,
          -44.79159927368164,
          -4.0672478675842285,
          -26.054859161376953,
          23.34041404724121,
          -38.30963134765625,
          -38.30963134765625,
          -38.68754577636719,
          -36.88623046875,
          -1.8079978227615356,
          -17.04859161376953,
          -28.758331298828125,
          -11.123817443847656,
          -13.46420669555664,
          -13.306612014770508,
          -34.23616409301758,
          -34.78580093383789,
          -34.40834426879883,
          -34.40834426879883,
          -40.72829055786133,
          -40.72829055786133,
          -40.72829055786133,
          -39.640811920166016,
          -39.640811920166016,
          -40.590267181396484,
          -39.640811920166016,
          -30.645418167114258,
          -29.39297866821289,
          20.68758773803711,
          -11.829309463500977,
          -11.8449068069458,
          -12.880845069885254,
          -13.108562469482422,
          -28.652254104614258,
          -14.681061744689941,
          -80.24467468261719,
          -80.24467468261719,
          -7.6982855796813965,
          -8.21281909942627,
          19.1334171295166,
          10.745402336120605,
          8.819733619689941,
          6.037699222564697,
          -39.90068817138672,
          -38.96761703491211,
          -39.04794692993164,
          -40.439632415771484,
          -40.439632415771484,
          -39.36571502685547,
          -39.82695007324219,
          -40.62638473510742,
          -40.62638473510742,
          -39.82695007324219,
          -39.82695007324219,
          62.46879959106445,
          52.800071716308594,
          33.31840515136719,
          50.769203186035156,
          -25.12150764465332,
          -38.36671829223633,
          -38.36671829223633,
          -37.69276428222656,
          -8.991008758544922,
          -33.62799072265625,
          -52.00764846801758,
          -5.4048590660095215,
          -44.9008674621582,
          -11.121213912963867,
          -10.407071113586426,
          -11.113443374633789
         ],
         "yaxis": "y"
        },
        {
         "customdata": [
          [
           "Cell phone"
          ],
          [
           "Helicopter"
          ],
          [
           "Airplane"
          ],
          [
           "laptop"
          ],
          [
           "Laptop"
          ],
          [
           "Microphone"
          ],
          [
           "entertainment center"
          ],
          [
           "cinema"
          ],
          [
           "Television"
          ],
          [
           "Computer keyboard"
          ],
          [
           "Glasses"
          ],
          [
           "basketball"
          ],
          [
           "Camera"
          ],
          [
           "Boat"
          ],
          [
           "microwave"
          ],
          [
           "Tea"
          ],
          [
           "Guitar"
          ],
          [
           "Kitchen appliance"
          ],
          [
           "Toaster"
          ],
          [
           "Oven"
          ],
          [
           "Headphones"
          ],
          [
           "Studio couch"
          ],
          [
           "Bathtub"
          ],
          [
           "Remote control"
          ],
          [
           "Computer mouse"
          ],
          [
           "Computer monitor"
          ],
          [
           "Tablet computer"
          ],
          [
           "remote control"
          ],
          [
           "projector"
          ],
          [
           "radio"
          ],
          [
           "home theater"
          ],
          [
           "television_room"
          ],
          [
           "home_theater"
          ],
          [
           "screen"
          ],
          [
           "television_studio"
          ],
          [
           "television"
          ],
          [
           "'television'"
          ],
          [
           "'television system'"
          ],
          [
           "'Entertainment'"
          ],
          [
           "'Film'"
          ],
          [
           "'home theater'"
          ],
          [
           "'home theatre'"
          ],
          [
           "'cinema'"
          ],
          [
           "Electronic tuner"
          ],
          [
           "Piano"
          ],
          [
           "Radio"
          ],
          [
           "'Technology'"
          ],
          [
           "Football"
          ],
          [
           "Home appliance"
          ],
          [
           "'entertainment center'"
          ],
          [
           "'radio'"
          ],
          [
           "'radio telescope'"
          ],
          [
           "'radio reflector'"
          ],
          [
           "'screen'"
          ],
          [
           "'CRT screen'"
          ]
         ],
         "hovertemplate": "label=Television<br>x=%{x}<br>y=%{y}<br>items=%{customdata[0]}<extra></extra>",
         "legendgroup": "Television",
         "marker": {
          "color": "#ab63fa",
          "symbol": "circle"
         },
         "mode": "markers",
         "name": "Television",
         "showlegend": true,
         "type": "scattergl",
         "x": [
          40.69709777832031,
          -54.727500915527344,
          -55.255062103271484,
          32.83261489868164,
          32.723636627197266,
          49.600250244140625,
          78.59315490722656,
          60.29600524902344,
          64.27376556396484,
          40.24103927612305,
          -11.980048179626465,
          0.3446306586265564,
          9.820371627807617,
          -63.347164154052734,
          24.98225212097168,
          -17.59758758544922,
          35.82243347167969,
          18.580434799194336,
          19.234140396118164,
          19.660381317138672,
          45.15258026123047,
          81.5933609008789,
          9.633391380310059,
          50.00596618652344,
          38.214378356933594,
          38.817935943603516,
          33.0648307800293,
          50.951881408691406,
          46.733219146728516,
          54.78953552246094,
          73.1744384765625,
          75.43248748779297,
          72.30774688720703,
          18.606653213500977,
          68.26795196533203,
          63.9859504699707,
          60.15104675292969,
          61.48445510864258,
          -23.335491180419922,
          -27.28239631652832,
          71.03385925292969,
          69.35596466064453,
          60.0491943359375,
          46.4541015625,
          40.530303955078125,
          56.36021423339844,
          -22.230398178100586,
          57.81474304199219,
          19.266525268554688,
          78.4630126953125,
          53.04551315307617,
          54.352333068847656,
          53.38899612426758,
          23.462804794311523,
          23.199220657348633
         ],
         "xaxis": "x",
         "y": [
          42.12297058105469,
          -6.025784015655518,
          -7.398446559906006,
          35.44091796875,
          34.057884216308594,
          46.3823127746582,
          10.919756889343262,
          7.008678436279297,
          21.4996337890625,
          31.10215950012207,
          -14.09843921661377,
          72.3402099609375,
          48.95357131958008,
          24.22765350341797,
          -6.456596374511719,
          19.213123321533203,
          67.61656951904297,
          -13.388957977294922,
          -9.852542877197266,
          -6.141005039215088,
          50.58729553222656,
          2.2716100215911865,
          -32.04702377319336,
          29.339521408081055,
          32.20475387573242,
          28.79259490966797,
          30.9910888671875,
          28.32106590270996,
          19.75259780883789,
          25.18348503112793,
          10.415550231933594,
          4.589526176452637,
          8.51799201965332,
          41.40217590332031,
          17.307167053222656,
          19.629417419433594,
          17.430830001831055,
          15.619976997375488,
          70.83844757080078,
          62.79214859008789,
          11.134174346923828,
          11.027068138122559,
          9.943835258483887,
          57.75079345703125,
          69.20655822753906,
          25.62647819519043,
          82.02591705322266,
          34.89910125732422,
          -14.787921905517578,
          12.869759559631348,
          21.13597869873047,
          19.072025299072266,
          19.597814559936523,
          39.04160690307617,
          38.05707931518555
         ],
         "yaxis": "y"
        },
        {
         "customdata": [
          [
           "bookcase"
          ],
          [
           "book jacket"
          ],
          [
           "library"
          ],
          [
           "bookshop"
          ],
          [
           "comic book"
          ],
          [
           "Bookcase"
          ],
          [
           "bookstore"
          ],
          [
           "Book"
          ],
          [
           "Office supplies"
          ],
          [
           "bib"
          ],
          [
           "cinema"
          ],
          [
           "Television"
          ],
          [
           "art_school"
          ],
          [
           "Baked goods"
          ],
          [
           "church"
          ],
          [
           "Sculpture"
          ],
          [
           "Wine"
          ],
          [
           "Candy"
          ],
          [
           "EntleBucher"
          ],
          [
           "Christian music"
          ],
          [
           "Classical music"
          ],
          [
           "'Life'"
          ],
          [
           "'Showbiz'"
          ],
          [
           "'Film'"
          ],
          [
           "'Culture'"
          ],
          [
           "'Sports'"
          ],
          [
           "Folk music"
          ],
          [
           "Gospel music"
          ],
          [
           "Jazz"
          ],
          [
           "Music"
          ],
          [
           "Music for children"
          ],
          [
           "Music of Bollywood"
          ],
          [
           "Opera"
          ],
          [
           "Pop music"
          ],
          [
           "Rock and roll"
          ],
          [
           "Rock music"
          ],
          [
           "reading book"
          ],
          [
           "writing"
          ],
          [
           "Person"
          ],
          [
           "'Politics'"
          ],
          [
           "'Economy'"
          ],
          [
           "'Literature'"
          ],
          [
           "'Pets'"
          ],
          [
           "'Education'"
          ],
          [
           "'Living'"
          ],
          [
           "'Music'"
          ],
          [
           "'Science'"
          ],
          [
           "Football"
          ],
          [
           "Cheese"
          ],
          [
           "Bread"
          ],
          [
           "'book jacket'"
          ],
          [
           "Vocal music"
          ],
          [
           "Writing"
          ]
         ],
         "hovertemplate": "label=Books and Literature<br>x=%{x}<br>y=%{y}<br>items=%{customdata[0]}<extra></extra>",
         "legendgroup": "Books and Literature",
         "marker": {
          "color": "#FFA15A",
          "symbol": "circle"
         },
         "mode": "markers",
         "name": "Books and Literature",
         "showlegend": true,
         "type": "scattergl",
         "x": [
          16.008129119873047,
          -13.829471588134766,
          11.961468696594238,
          -27.0146484375,
          12.662952423095703,
          14.623872756958008,
          -27.165637969970703,
          8.156120300292969,
          41.46025848388672,
          4.538790225982666,
          60.52126693725586,
          62.99348831176758,
          59.08308029174805,
          -6.885407447814941,
          49.28580856323242,
          24.343334197998047,
          -19.427148818969727,
          -29.43214988708496,
          -42.427032470703125,
          74.12796783447266,
          61.731632232666016,
          -34.40934753417969,
          -21.395902633666992,
          -27.030776977539062,
          -30.107357025146484,
          -18.127906799316406,
          66.22811126708984,
          75.59873962402344,
          59.09394836425781,
          67.0831527709961,
          70.52757263183594,
          86.90880584716797,
          13.228973388671875,
          65.9499740600586,
          65.10582733154297,
          68.34234619140625,
          7.9413652420043945,
          73.28729248046875,
          -13.810929298400879,
          -32.414588928222656,
          -33.09947204589844,
          -24.319211959838867,
          -80.55892181396484,
          -29.081605911254883,
          -34.00144577026367,
          65.40462493896484,
          -26.23776626586914,
          58.25254821777344,
          -56.164764404296875,
          -11.377233505249023,
          -14.590195655822754,
          62.96833419799805,
          71.8416519165039
         ],
         "xaxis": "x",
         "y": [
          18.54033660888672,
          -7.349132537841797,
          31.81064796447754,
          39.247215270996094,
          25.095130920410156,
          18.538131713867188,
          40.84218215942383,
          28.407094955444336,
          16.820905685424805,
          30.62713623046875,
          6.020973205566406,
          21.337369918823242,
          -6.3610310554504395,
          13.545770645141602,
          2.3911569118499756,
          13.361414909362793,
          15.009047508239746,
          19.220598220825195,
          -91.808837890625,
          76.80525207519531,
          66.24400329589844,
          72.42339324951172,
          66.18656921386719,
          62.22690963745117,
          76.09487915039062,
          74.95494842529297,
          66.01742553710938,
          74.9178466796875,
          74.05903625488281,
          46.632476806640625,
          54.86231994628906,
          59.8946533203125,
          43.17668914794922,
          70.9029769897461,
          77.17671966552734,
          73.78651428222656,
          24.368896484375,
          31.243127822875977,
          49.928184509277344,
          83.34324645996094,
          78.70372772216797,
          76.7636947631836,
          -56.48051834106445,
          79.18822479248047,
          69.46236419677734,
          58.42579650878906,
          84.66960144042969,
          33.80461120605469,
          10.090166091918945,
          13.120257377624512,
          -8.786608695983887,
          62.703250885009766,
          32.980918884277344
         ],
         "yaxis": "y"
        },
        {
         "customdata": [
          [
           "library"
          ],
          [
           "Book"
          ],
          [
           "Building"
          ],
          [
           "bib"
          ],
          [
           "campus"
          ],
          [
           "classroom"
          ],
          [
           "Food"
          ],
          [
           "Chair"
          ],
          [
           "Bus"
          ],
          [
           "Box"
          ],
          [
           "kindergarden_classroom"
          ],
          [
           "art_school"
          ],
          [
           "stage"
          ],
          [
           "academic gown"
          ],
          [
           "Table"
          ],
          [
           "restaurant"
          ],
          [
           "church"
          ],
          [
           "Drink"
          ],
          [
           "Beer"
          ],
          [
           "House"
          ],
          [
           "house"
          ],
          [
           "Bed"
          ],
          [
           "vestment"
          ],
          [
           "Children shouting"
          ],
          [
           "Woman"
          ],
          [
           "radio"
          ],
          [
           "screen"
          ],
          [
           "Train"
          ],
          [
           "Country"
          ],
          [
           "hospital"
          ],
          [
           "performance"
          ],
          [
           "shop"
          ],
          [
           "nursery"
          ],
          [
           "football"
          ],
          [
           "Engine"
          ],
          [
           "Music"
          ],
          [
           "Opera"
          ],
          [
           "Radio"
          ],
          [
           "Ship"
          ],
          [
           "Tools"
          ],
          [
           "writing"
          ],
          [
           "Person"
          ],
          [
           "Pizza"
          ],
          [
           "'Education'"
          ],
          [
           "Football"
          ],
          [
           "'academic gown'"
          ],
          [
           "'academic robe'"
          ],
          [
           "'nursery'"
          ],
          [
           "Water"
          ],
          [
           "Writing"
          ]
         ],
         "hovertemplate": "label=Education<br>x=%{x}<br>y=%{y}<br>items=%{customdata[0]}<extra></extra>",
         "legendgroup": "Education",
         "marker": {
          "color": "#19d3f3",
          "symbol": "circle"
         },
         "mode": "markers",
         "name": "Education",
         "showlegend": true,
         "type": "scattergl",
         "x": [
          11.961468696594238,
          8.156120300292969,
          43.14616775512695,
          4.538790225982666,
          54.25300598144531,
          77.23147583007812,
          -1.7657591104507446,
          -1.4599196910858154,
          -0.1559746265411377,
          3.544231653213501,
          79.43354797363281,
          58.081703186035156,
          14.00531005859375,
          -15.835653305053711,
          5.5470967292785645,
          36.20685958862305,
          48.28461837768555,
          -14.152514457702637,
          -10.15319538116455,
          42.739173889160156,
          42.897911071777344,
          -1.0682255029678345,
          19.332462310791016,
          88.12629699707031,
          -17.392017364501953,
          55.10972213745117,
          19.512474060058594,
          2.6479578018188477,
          43.94859313964844,
          48.21577835083008,
          17.525955200195312,
          -22.24905776977539,
          40.21702194213867,
          58.879783630371094,
          -5.978529453277588,
          66.26055145263672,
          12.029285430908203,
          56.61171340942383,
          -9.179045677185059,
          6.776512145996094,
          73.28729248046875,
          -13.071563720703125,
          -6.539334774017334,
          -28.092527389526367,
          56.517425537109375,
          -17.41375160217285,
          -18.838409423828125,
          38.30582046508789,
          -18.899282455444336,
          71.24483489990234
         ],
         "xaxis": "x",
         "y": [
          31.81064796447754,
          28.407094955444336,
          3.303529977798462,
          30.62713623046875,
          -32.6550178527832,
          -7.318429470062256,
          23.6828556060791,
          38.34736633300781,
          47.351314544677734,
          41.84524154663086,
          -5.820196628570557,
          -6.2663116455078125,
          38.53997039794922,
          -46.3455924987793,
          36.57307052612305,
          0.5096819996833801,
          1.835100531578064,
          26.688800811767578,
          27.5621280670166,
          -1.500617265701294,
          -3.5584514141082764,
          29.864320755004883,
          26.10026741027832,
          36.778167724609375,
          53.01888656616211,
          23.624921798706055,
          40.751407623291016,
          49.096649169921875,
          10.990507125854492,
          -3.39363169670105,
          36.38679122924805,
          40.64418029785156,
          -28.96393585205078,
          35.76890182495117,
          50.72813415527344,
          46.64080047607422,
          43.010074615478516,
          26.72856903076172,
          46.90861129760742,
          45.14662170410156,
          31.243127822875977,
          51.12015914916992,
          23.72437286376953,
          79.51083374023438,
          35.072269439697266,
          -45.11712646484375,
          -46.354434967041016,
          -27.854719161987305,
          23.81179428100586,
          31.600950241088867
         ],
         "yaxis": "y"
        },
        {
         "customdata": [
          [
           "library"
          ],
          [
           "comic book"
          ],
          [
           "archive"
          ],
          [
           "Book"
          ],
          [
           "Building"
          ],
          [
           "bib"
          ],
          [
           "movie_theater/indoor"
          ],
          [
           "cinema"
          ],
          [
           "Television"
          ],
          [
           "Food"
          ],
          [
           "Chair"
          ],
          [
           "Bird"
          ],
          [
           "Box"
          ],
          [
           "Clock"
          ],
          [
           "stage"
          ],
          [
           "Cake"
          ],
          [
           "Suit"
          ],
          [
           "Table"
          ],
          [
           "restaurant"
          ],
          [
           "Camera"
          ],
          [
           "park"
          ],
          [
           "church"
          ],
          [
           "Fish"
          ],
          [
           "Drink"
          ],
          [
           "Beer"
          ],
          [
           "Coffee"
          ],
          [
           "House"
          ],
          [
           "house"
          ],
          [
           "ram"
          ],
          [
           "ox"
          ],
          [
           "Cart"
          ],
          [
           "swing"
          ],
          [
           "Toy"
          ],
          [
           "Woman"
          ],
          [
           "wallet"
          ],
          [
           "printer"
          ],
          [
           "monitor"
          ],
          [
           "radio"
          ],
          [
           "home theater"
          ],
          [
           "home_theater"
          ],
          [
           "screen"
          ],
          [
           "television"
          ],
          [
           "Train"
          ],
          [
           "Country"
          ],
          [
           "'Entertainment'"
          ],
          [
           "'Showbiz'"
          ],
          [
           "'Film'"
          ],
          [
           "'home theater'"
          ],
          [
           "'home theatre'"
          ],
          [
           "'cinema'"
          ],
          [
           "'movie theater'"
          ],
          [
           "'movie theatre'"
          ],
          [
           "'movie house'"
          ],
          [
           "ski"
          ],
          [
           "Shorts"
          ],
          [
           "'Loafer'"
          ],
          [
           "performance"
          ],
          [
           "football"
          ],
          [
           "Funny music"
          ],
          [
           "Jazz"
          ],
          [
           "Music"
          ],
          [
           "Music of Bollywood"
          ],
          [
           "Opera"
          ],
          [
           "Radio"
          ],
          [
           "Ship"
          ],
          [
           "Song"
          ],
          [
           "Soundtrack music"
          ],
          [
           "Theme music"
          ],
          [
           "Tools"
          ],
          [
           "writing"
          ],
          [
           "drawing"
          ],
          [
           "Person"
          ],
          [
           "Pizza"
          ],
          [
           "'Literature'"
          ],
          [
           "'Music'"
          ],
          [
           "Football"
          ],
          [
           "Chicken"
          ],
          [
           "Watch"
          ],
          [
           "'malinois'"
          ],
          [
           "'malemute'"
          ],
          [
           "'mike'"
          ],
          [
           "'modem'"
          ],
          [
           "'mousetrap'"
          ],
          [
           "\"pj's\""
          ],
          [
           "'slide rule'"
          ],
          [
           "'spider web'"
          ],
          [
           "\"spider's web\""
          ],
          [
           "'spotlight'"
          ],
          [
           "'stopwatch'"
          ],
          [
           "'stop watch'"
          ],
          [
           "Water"
          ],
          [
           "'screen'"
          ],
          [
           "Writing"
          ]
         ],
         "hovertemplate": "label=Movies<br>x=%{x}<br>y=%{y}<br>items=%{customdata[0]}<extra></extra>",
         "legendgroup": "Movies",
         "marker": {
          "color": "#FF6692",
          "symbol": "circle"
         },
         "mode": "markers",
         "name": "Movies",
         "showlegend": true,
         "type": "scattergl",
         "x": [
          11.961468696594238,
          12.662952423095703,
          9.67096996307373,
          8.156120300292969,
          43.085731506347656,
          4.538790225982666,
          69.31568145751953,
          59.259742736816406,
          62.99348831176758,
          -1.3963288068771362,
          -0.7713040113449097,
          -79.66202545166016,
          2.945188522338867,
          31.16368293762207,
          14.00531005859375,
          -6.33690881729126,
          -15.387672424316406,
          5.5470967292785645,
          36.20685958862305,
          10.958494186401367,
          49.83245086669922,
          49.28580856323242,
          -79.42251586914062,
          -14.152514457702637,
          -10.15319538116455,
          -13.615004539489746,
          42.739173889160156,
          44.177730560302734,
          -2.366384506225586,
          -8.908706665039062,
          -0.4433644115924835,
          -11.874573707580566,
          -2.1174278259277344,
          -17.392017364501953,
          -6.509910583496094,
          16.34040069580078,
          20.640382766723633,
          55.55438995361328,
          73.1744384765625,
          72.30774688720703,
          19.512474060058594,
          62.626792907714844,
          3.232866048812866,
          43.94859313964844,
          -24.45128631591797,
          -21.395902633666992,
          -26.275001525878906,
          70.79077911376953,
          69.35596466064453,
          60.0491943359375,
          65.62702178955078,
          63.77910614013672,
          66.22212219238281,
          -15.638605117797852,
          -8.291595458984375,
          -30.871318817138672,
          17.525955200195312,
          57.48343276977539,
          76.94196319580078,
          58.310726165771484,
          67.02300262451172,
          87.51611328125,
          13.228973388671875,
          57.40830612182617,
          -9.560792922973633,
          69.08274841308594,
          78.66575622558594,
          75.92254638671875,
          6.776512145996094,
          73.28729248046875,
          21.34880256652832,
          -13.071563720703125,
          -5.478909015655518,
          -24.74953842163086,
          65.40462493896484,
          56.517425537109375,
          -86.23123168945312,
          21.018569946289062,
          -49.10715103149414,
          -33.59957504272461,
          -30.93233871459961,
          -38.71794128417969,
          -31.654293060302734,
          -21.318756103515625,
          11.026880264282227,
          -40.645729064941406,
          -40.65530014038086,
          -23.626445770263672,
          35.168373107910156,
          35.17249298095703,
          -19.533676147460938,
          23.464941024780273,
          71.8416519165039
         ],
         "xaxis": "x",
         "y": [
          31.81064796447754,
          25.095130920410156,
          34.858192443847656,
          28.407094955444336,
          4.2298970222473145,
          30.62713623046875,
          2.596096992492676,
          7.327319622039795,
          21.337369918823242,
          23.13985252380371,
          38.806312561035156,
          -6.682413101196289,
          40.92394256591797,
          24.084369659423828,
          38.53997039794922,
          20.175954818725586,
          38.41635513305664,
          36.57307052612305,
          0.5096819996833801,
          48.77360153198242,
          -10.095325469970703,
          2.3911569118499756,
          0.22930553555488586,
          26.688800811767578,
          27.5621280670166,
          22.1566162109375,
          -1.500617265701294,
          -2.9550390243530273,
          33.977420806884766,
          59.40441131591797,
          43.288143157958984,
          42.72068786621094,
          55.666725158691406,
          53.01888656616211,
          37.80321502685547,
          30.608991622924805,
          42.55612564086914,
          24.608678817749023,
          10.415550231933594,
          8.51799201965332,
          40.751407623291016,
          19.541297912597656,
          48.164268493652344,
          10.990507125854492,
          70.3092041015625,
          66.18656921386719,
          62.9035530090332,
          10.243107795715332,
          11.027068138122559,
          9.943835258483887,
          9.042642593383789,
          8.828201293945312,
          6.704960346221924,
          43.73830032348633,
          -31.35818862915039,
          -31.396289825439453,
          36.38679122924805,
          36.72183609008789,
          64.3352279663086,
          74.44264221191406,
          48.569915771484375,
          59.12024688720703,
          43.17668914794922,
          26.015899658203125,
          46.244632720947266,
          42.41427993774414,
          54.75463104248047,
          51.34614181518555,
          45.14662170410156,
          31.243127822875977,
          31.584638595581055,
          51.12015914916992,
          24.50107765197754,
          75.31278228759766,
          58.42579650878906,
          35.072269439697266,
          -6.55367374420166,
          46.096954345703125,
          -62.67688751220703,
          -3.407320499420166,
          -2.5524234771728516,
          -5.578214168548584,
          -0.1895764321088791,
          -36.786956787109375,
          -86.06969451904297,
          -38.092491149902344,
          -38.09505844116211,
          9.2225980758667,
          14.685855865478516,
          14.688082695007324,
          22.769121170043945,
          39.040042877197266,
          32.980918884277344
         ],
         "yaxis": "y"
        },
        {
         "customdata": [
          [
           "library"
          ],
          [
           "Book"
          ],
          [
           "Building"
          ],
          [
           "bib"
          ],
          [
           "space shuttle"
          ],
          [
           "abacus"
          ],
          [
           "biology_laboratory"
          ],
          [
           "classroom"
          ],
          [
           "cinema"
          ],
          [
           "Television"
          ],
          [
           "Food"
          ],
          [
           "Camera"
          ],
          [
           "science_museum"
          ],
          [
           "church"
          ],
          [
           "Starfish"
          ],
          [
           "starfish"
          ],
          [
           "Fish"
          ],
          [
           "aquarium"
          ],
          [
           "Sculpture"
          ],
          [
           "art_studio"
          ],
          [
           "Drink"
          ],
          [
           "Falcon"
          ],
          [
           "Sparrow"
          ],
          [
           "Bed"
          ],
          [
           "vestment"
          ],
          [
           "Petri dish"
          ],
          [
           "beaker"
          ],
          [
           "chemistry_lab"
          ],
          [
           "physics_laboratory"
          ],
          [
           "Woman"
          ],
          [
           "radio"
          ],
          [
           "screen"
          ],
          [
           "Train"
          ],
          [
           "Country"
          ],
          [
           "ski"
          ],
          [
           "'Sports'"
          ],
          [
           "performance"
          ],
          [
           "shop"
          ],
          [
           "football"
          ],
          [
           "Engine"
          ],
          [
           "Inside, public space"
          ],
          [
           "Jazz"
          ],
          [
           "Music"
          ],
          [
           "Radio"
          ],
          [
           "Ship"
          ],
          [
           "Song"
          ],
          [
           "Tools"
          ],
          [
           "writing"
          ],
          [
           "drawing"
          ],
          [
           "Person"
          ],
          [
           "Pizza"
          ],
          [
           "'Politics'"
          ],
          [
           "'Policy'"
          ],
          [
           "'Literature'"
          ],
          [
           "'Education'"
          ],
          [
           "'Technology'"
          ],
          [
           "'Science'"
          ],
          [
           "Football"
          ],
          [
           "'Scottie'"
          ],
          [
           "'abacus'"
          ],
          [
           "'barometer'"
          ],
          [
           "'organ'"
          ],
          [
           "'planetarium'"
          ],
          [
           "'radio telescope'"
          ],
          [
           "'solar dish'"
          ],
          [
           "'solar collector'"
          ],
          [
           "'space bar'"
          ],
          [
           "'space heater'"
          ],
          [
           "Water"
          ],
          [
           "Writing"
          ]
         ],
         "hovertemplate": "label=Science<br>x=%{x}<br>y=%{y}<br>items=%{customdata[0]}<extra></extra>",
         "legendgroup": "Science",
         "marker": {
          "color": "#B6E880",
          "symbol": "circle"
         },
         "mode": "markers",
         "name": "Science",
         "showlegend": true,
         "type": "scattergl",
         "x": [
          11.991223335266113,
          8.156120300292969,
          42.34082794189453,
          4.538790225982666,
          39.55913543701172,
          38.36627960205078,
          64.4686508178711,
          77.23147583007812,
          59.13760757446289,
          61.735321044921875,
          -2.408712387084961,
          9.67365837097168,
          61.98512268066406,
          49.3375244140625,
          -64.20579528808594,
          -62.295013427734375,
          -80.11495971679688,
          7.879249572753906,
          24.343334197998047,
          62.678550720214844,
          -14.152514457702637,
          -80.19263458251953,
          -78.48038482666016,
          -0.8673768043518066,
          19.332462310791016,
          9.406609535217285,
          -8.608077049255371,
          64.5963363647461,
          64.55541229248047,
          -18.374427795410156,
          56.23797607421875,
          18.606653213500977,
          3.232866048812866,
          43.94859313964844,
          -16.37662696838379,
          -18.127906799316406,
          17.525955200195312,
          -22.24905776977539,
          58.879783630371094,
          -6.503322124481201,
          80.77046203613281,
          58.633914947509766,
          65.61688232421875,
          56.88254165649414,
          -8.651062965393066,
          69.08274841308594,
          6.776512145996094,
          73.28729248046875,
          21.34880256652832,
          -13.071563720703125,
          -5.617187976837158,
          -31.3646240234375,
          -33.16732406616211,
          -24.10158348083496,
          -29.225645065307617,
          -22.49936294555664,
          -26.668975830078125,
          58.65802764892578,
          -39.41746520996094,
          38.336936950683594,
          -8.576464653015137,
          22.522674560546875,
          54.91291427612305,
          54.352333068847656,
          35.452301025390625,
          35.38630294799805,
          -3.738741397857666,
          29.340078353881836,
          -18.899282455444336,
          71.8416519165039
         ],
         "xaxis": "x",
         "y": [
          30.71232795715332,
          28.407094955444336,
          3.953881025314331,
          30.62713623046875,
          -70.10279083251953,
          -42.488670349121094,
          -11.461925506591797,
          -7.318429470062256,
          6.580440998077393,
          21.08794593811035,
          23.963151931762695,
          49.65622329711914,
          -12.070076942443848,
          1.3094215393066406,
          -15.07888412475586,
          -15.981576919555664,
          -0.37915584444999695,
          5.182920455932617,
          13.361414909362793,
          -5.197042465209961,
          26.688800811767578,
          -17.693336486816406,
          -14.174474716186523,
          30.502546310424805,
          26.10026741027832,
          -7.154875755310059,
          3.8314297199249268,
          -11.680624961853027,
          -10.84762954711914,
          52.62053680419922,
          23.274511337280273,
          41.40217590332031,
          48.164268493652344,
          10.990507125854492,
          43.08662414550781,
          74.95494842529297,
          36.38679122924805,
          40.64418029785156,
          35.76890182495117,
          50.447383880615234,
          -29.978208541870117,
          72.30970764160156,
          47.146366119384766,
          25.035837173461914,
          45.876949310302734,
          42.41427993774414,
          45.14662170410156,
          31.243127822875977,
          31.584638595581055,
          51.12015914916992,
          25.257080078125,
          83.25538635253906,
          85.16403198242188,
          75.91373443603516,
          80.07890319824219,
          81.47459411621094,
          83.21843719482422,
          34.50745391845703,
          -78.47505950927734,
          -42.482059478759766,
          -6.35807991027832,
          83.5068130493164,
          12.34968376159668,
          19.072025299072266,
          -34.48371505737305,
          -36.816619873046875,
          -7.065608024597168,
          -37.406707763671875,
          23.81179428100586,
          32.980918884277344
         ],
         "yaxis": "y"
        },
        {
         "customdata": [
          [
           "comic book"
          ],
          [
           "entertainment center"
          ],
          [
           "Television"
          ],
          [
           "Burst, pop"
          ],
          [
           "Fast food"
          ],
          [
           "pop bottle"
          ],
          [
           "Candy"
          ],
          [
           "Cookie"
          ],
          [
           "Juice"
          ],
          [
           "Christian music"
          ],
          [
           "television"
          ],
          [
           "Christmas music"
          ],
          [
           "Classical music"
          ],
          [
           "Dance music"
          ],
          [
           "'Family'"
          ],
          [
           "'People'"
          ],
          [
           "'television'"
          ],
          [
           "'Entertainment'"
          ],
          [
           "'Showbiz'"
          ],
          [
           "'Culture'"
          ],
          [
           "'Sports'"
          ],
          [
           "'Fashion'"
          ],
          [
           "'Lifestyle'"
          ],
          [
           "Electronic music"
          ],
          [
           "Folk music"
          ],
          [
           "Funny music"
          ],
          [
           "Gospel music"
          ],
          [
           "Happy music"
          ],
          [
           "Hip hop music"
          ],
          [
           "House music"
          ],
          [
           "Jazz"
          ],
          [
           "Music"
          ],
          [
           "Music of Bollywood"
          ],
          [
           "New-age music"
          ],
          [
           "Opera"
          ],
          [
           "Pop music"
          ],
          [
           "Progressive rock"
          ],
          [
           "Psychedelic rock"
          ],
          [
           "Punk rock"
          ],
          [
           "Reggae"
          ],
          [
           "Rhythm and blues"
          ],
          [
           "Rock and roll"
          ],
          [
           "Rock music"
          ],
          [
           "Song"
          ],
          [
           "Soul music"
          ],
          [
           "Soundtrack music"
          ],
          [
           "Swing music"
          ],
          [
           "Theme music"
          ],
          [
           "Traditional music"
          ],
          [
           "Trance music"
          ],
          [
           "Person"
          ],
          [
           "'Politics'"
          ],
          [
           "'Literature'"
          ],
          [
           "'Pets'"
          ],
          [
           "'Music'"
          ],
          [
           "'Public'"
          ],
          [
           "'entertainment center'"
          ],
          [
           "'iPod'"
          ],
          [
           "'maypole'"
          ],
          [
           "'pop bottle'"
          ],
          [
           "'popsicle'"
          ],
          [
           "'bubble'"
          ],
          [
           "'hip'"
          ],
          [
           "Vocal music"
          ]
         ],
         "hovertemplate": "label=Pop Culture<br>x=%{x}<br>y=%{y}<br>items=%{customdata[0]}<extra></extra>",
         "legendgroup": "Pop Culture",
         "marker": {
          "color": "#FF97FF",
          "symbol": "circle"
         },
         "mode": "markers",
         "name": "Pop Culture",
         "showlegend": true,
         "type": "scattergl",
         "x": [
          12.662952423095703,
          78.59315490722656,
          62.99348831176758,
          -43.929046630859375,
          28.941726684570312,
          -13.172500610351562,
          -29.43214988708496,
          -9.168984413146973,
          -23.204540252685547,
          72.97817993164062,
          62.626792907714844,
          66.19031524658203,
          61.80183792114258,
          71.39569854736328,
          -38.282676696777344,
          -38.98459243774414,
          61.080936431884766,
          -24.45128631591797,
          -21.395902633666992,
          -30.513105392456055,
          -18.04153060913086,
          -29.593738555908203,
          -31.108104705810547,
          55.30330276489258,
          67.11762237548828,
          77.47347259521484,
          76.28620147705078,
          74.86576080322266,
          77.2951431274414,
          70.75366973876953,
          57.89915084838867,
          66.24742126464844,
          86.90880584716797,
          71.72782135009766,
          12.497468948364258,
          65.9499740600586,
          66.46525573730469,
          66.72608184814453,
          67.81462860107422,
          61.96747589111328,
          61.37308120727539,
          65.10582733154297,
          68.34234619140625,
          69.08274841308594,
          72.81932830810547,
          78.66575622558594,
          70.19061279296875,
          75.92254638671875,
          66.75629425048828,
          74.38416290283203,
          -13.810929298400879,
          -32.414588928222656,
          -25.661949157714844,
          -81.27176666259766,
          66.3038558959961,
          -36.327308654785156,
          78.4630126953125,
          30.005586624145508,
          -59.68279266357422,
          -12.55021858215332,
          -37.09297180175781,
          -45.21730422973633,
          -49.351341247558594,
          63.01981735229492
         ],
         "xaxis": "x",
         "y": [
          25.095130920410156,
          10.919756889343262,
          21.337369918823242,
          18.171916961669922,
          2.597003698348999,
          3.439974308013916,
          19.220598220825195,
          20.53260040283203,
          18.316232681274414,
          76.5791244506836,
          19.541297912597656,
          53.662384033203125,
          67.3835220336914,
          66.08335876464844,
          71.1668472290039,
          79.13855743408203,
          17.834613800048828,
          70.3092041015625,
          66.18656921386719,
          75.67023468017578,
          73.65751647949219,
          67.21014404296875,
          71.55882263183594,
          62.1137809753418,
          66.2001724243164,
          63.40238952636719,
          74.78748321533203,
          61.78697967529297,
          69.42825317382812,
          62.17192840576172,
          73.46015930175781,
          48.61575698852539,
          59.8946533203125,
          81.0059814453125,
          44.123619079589844,
          70.9029769897461,
          79.67496490478516,
          81.35211944580078,
          77.87013244628906,
          81.39402770996094,
          76.92156982421875,
          77.17671966552734,
          73.78651428222656,
          42.41427993774414,
          71.04163360595703,
          54.75463104248047,
          68.77762603759766,
          51.34614181518555,
          63.71091079711914,
          66.8088150024414,
          49.928184509277344,
          83.34324645996094,
          76.31771850585938,
          -56.52354049682617,
          59.180641174316406,
          84.00582122802734,
          12.869759559631348,
          44.264163970947266,
          39.979270935058594,
          2.6767070293426514,
          8.676691055297852,
          18.242197036743164,
          12.729077339172363,
          61.852569580078125
         ],
         "yaxis": "y"
        },
        {
         "customdata": [
          [
           "Office building"
          ],
          [
           "office_cubicles"
          ],
          [
           "office_cubicles"
          ],
          [
           "office_cubicles"
          ],
          [
           "campus"
          ],
          [
           "department_store"
          ],
          [
           "banquet_hall"
          ],
          [
           "plaza"
          ],
          [
           "downtown"
          ],
          [
           "valley"
          ],
          [
           "artists_loft"
          ],
          [
           "Wine"
          ],
          [
           "patio"
          ],
          [
           "greenhouse"
          ],
          [
           "tree_farm"
          ],
          [
           "beach_house"
          ],
          [
           "beach_house"
          ],
          [
           "construction_site"
          ],
          [
           "lawn"
          ],
          [
           "Appenzeller"
          ],
          [
           "veterinarians_office"
          ],
          [
           "Cattle"
          ],
          [
           "apartment_building/outdoor"
          ],
          [
           "Studio couch"
          ],
          [
           "studio couch"
          ],
          [
           "barn"
          ],
          [
           "barn"
          ],
          [
           "corn_field"
          ],
          [
           "farm"
          ],
          [
           "pasture"
          ],
          [
           "wheat_field"
          ],
          [
           "office_building"
          ],
          [
           "vestment"
          ],
          [
           "computer_room"
          ],
          [
           "server_room"
          ],
          [
           "television_studio"
          ],
          [
           "hotel_room"
          ],
          [
           "motel"
          ],
          [
           "motel"
          ],
          [
           "operating_room"
          ],
          [
           "'movie house'"
          ],
          [
           "bedroom"
          ],
          [
           "building_facade"
          ],
          [
           "conference_room"
          ],
          [
           "cottage"
          ],
          [
           "cottage"
          ],
          [
           "cottage"
          ],
          [
           "cottage"
          ],
          [
           "football_field"
          ],
          [
           "industrial_area"
          ],
          [
           "mansion"
          ],
          [
           "manufactured_home"
          ],
          [
           "residential_neighborhood"
          ],
          [
           "tree_house"
          ],
          [
           "tree_house"
          ],
          [
           "tree_house"
          ],
          [
           "village"
          ],
          [
           "village"
          ],
          [
           "Inside, public space"
          ],
          [
           "Inside, public space"
          ],
          [
           "Livestock, farm animals, working animals"
          ],
          [
           "Piano"
          ],
          [
           "feeding goats"
          ],
          [
           "'Business'"
          ],
          [
           "'Economy'"
          ],
          [
           "'Education'"
          ],
          [
           "'Living'"
          ],
          [
           "'Home'"
          ],
          [
           "'Residence'"
          ],
          [
           "Tree house"
          ],
          [
           "Milk"
          ],
          [
           "Bread"
          ],
          [
           "Furniture"
          ],
          [
           "'house finch'"
          ],
          [
           "'Shetland'"
          ],
          [
           "'Appenzeller'"
          ],
          [
           "'birdhouse'"
          ],
          [
           "'church building'"
          ],
          [
           "'candy store'"
          ],
          [
           "'greenhouse'"
          ],
          [
           "'glasshouse'"
          ],
          [
           "'mobile home'"
          ],
          [
           "'manufactured home'"
          ],
          [
           "'photocopier'"
          ],
          [
           "'plow'"
          ],
          [
           "'plough'"
          ],
          [
           "'Polaroid Land camera'"
          ],
          [
           "'reel'"
          ],
          [
           "'eating house'"
          ],
          [
           "'tractor'"
          ],
          [
           "'lakeshore'"
          ],
          [
           "'bee house'"
          ],
          [
           "'castle'"
          ],
          [
           "'docking facility'"
          ],
          [
           "'dome'"
          ],
          [
           "'filing cabinet'"
          ]
         ],
         "hovertemplate": "label=Real Estate<br>x=%{x}<br>y=%{y}<br>items=%{customdata[0]}<extra></extra>",
         "legendgroup": "Real Estate",
         "marker": {
          "color": "#FECB52",
          "symbol": "circle"
         },
         "mode": "markers",
         "name": "Real Estate",
         "showlegend": true,
         "type": "scattergl",
         "x": [
          86.23040771484375,
          85.44831848144531,
          85.44831848144531,
          85.44831848144531,
          54.837039947509766,
          -29.85670280456543,
          69.82989501953125,
          55.07414245605469,
          59.028907775878906,
          51.65462875366211,
          60.04103469848633,
          -19.427148818969727,
          60.652408599853516,
          40.79629898071289,
          48.481590270996094,
          50.06459045410156,
          49.4909553527832,
          54.84937286376953,
          42.581485748291016,
          -43.006160736083984,
          -93.66600036621094,
          -91.3797607421875,
          64.76313781738281,
          81.5933609008789,
          81.41270446777344,
          44.93328857421875,
          44.922122955322266,
          40.116188049316406,
          43.343719482421875,
          49.73197937011719,
          40.72896194458008,
          84.87654113769531,
          18.2280216217041,
          78.45953369140625,
          79.0053482055664,
          68.26795196533203,
          78.78202819824219,
          52.25148010253906,
          52.25148010253906,
          80.26034545898438,
          66.22212219238281,
          77.2337646484375,
          62.49861526489258,
          80.98943328857422,
          46.90829849243164,
          46.1707763671875,
          46.35619354248047,
          46.987144470214844,
          62.60364532470703,
          86.18366241455078,
          48.94780731201172,
          90.1675796508789,
          62.434959411621094,
          45.16815948486328,
          45.16815948486328,
          45.16815948486328,
          50.3234977722168,
          50.3234977722168,
          80.77046203613281,
          81.43538665771484,
          -93.3482894897461,
          40.29593276977539,
          -19.108951568603516,
          -35.84257125854492,
          -33.09947204589844,
          -28.092527389526367,
          -34.00144577026367,
          -41.260581970214844,
          -33.4107780456543,
          43.557281494140625,
          -59.533206939697266,
          -11.208831787109375,
          17.907001495361328,
          -53.4963264465332,
          -44.38365173339844,
          -43.02159881591797,
          36.834877014160156,
          50.911258697509766,
          -32.85747528076172,
          39.26763916015625,
          36.21696472167969,
          88.83927154541016,
          90.90979766845703,
          25.74707794189453,
          14.582979202270508,
          13.523967742919922,
          11.960099220275879,
          -32.555171966552734,
          37.26428985595703,
          10.93559455871582,
          -11.801568984985352,
          39.258445739746094,
          53.38447952270508,
          -26.319002151489258,
          36.719879150390625,
          32.73386764526367
         ],
         "xaxis": "x",
         "y": [
          -6.7816290855407715,
          -10.636078834533691,
          -10.636078834533691,
          -10.636078834533691,
          -32.10585403442383,
          43.63646697998047,
          -15.861995697021484,
          -27.121450424194336,
          -42.9395866394043,
          -29.025609970092773,
          -2.4394924640655518,
          15.009047508239746,
          -28.99863624572754,
          -21.770845413208008,
          -16.596696853637695,
          -21.9647159576416,
          -21.6804256439209,
          -12.374434471130371,
          -39.00405502319336,
          -90.66749572753906,
          10.506572723388672,
          -30.17494773864746,
          -33.17301559448242,
          2.2716100215911865,
          3.7142932415008545,
          -25.897550582885742,
          -25.425926208496094,
          -10.961737632751465,
          -7.8820390701293945,
          -33.29359436035156,
          -11.370004653930664,
          -7.395545959472656,
          26.0010929107666,
          -11.164227485656738,
          -14.672173500061035,
          17.307167053222656,
          -16.26959228515625,
          -41.374725341796875,
          -41.374725341796875,
          -14.352034568786621,
          6.704960346221924,
          -20.432758331298828,
          -16.525325775146484,
          -12.384411811828613,
          -28.786685943603516,
          -28.91293716430664,
          -29.512887954711914,
          -29.533037185668945,
          34.914451599121094,
          -22.458219528198242,
          -25.343881607055664,
          5.947480201721191,
          -32.51740264892578,
          -17.5725154876709,
          -17.5725154876709,
          -17.5725154876709,
          -28.598691940307617,
          -28.598691940307617,
          -29.978208541870117,
          -29.46776008605957,
          -35.488216400146484,
          68.62801361083984,
          -87.5591812133789,
          80.70088195800781,
          78.70372772216797,
          79.51083374023438,
          69.46236419677734,
          68.50946044921875,
          63.86507797241211,
          -16.083749771118164,
          12.428139686584473,
          13.68164348602295,
          12.84012222290039,
          -37.17628479003906,
          -65.6786880493164,
          -90.62847137451172,
          -17.361129760742188,
          5.629787445068359,
          37.93937683105469,
          -21.811941146850586,
          -21.924711227416992,
          7.750937461853027,
          6.8993072509765625,
          26.812278747558594,
          -48.77430725097656,
          -49.01215744018555,
          56.59695816040039,
          59.12680435180664,
          -5.331911563873291,
          -63.3768310546875,
          -52.75775909423828,
          -15.45104694366455,
          5.16917610168457,
          -49.79782485961914,
          -19.737625122070312,
          -14.3527193069458
         ],
         "yaxis": "y"
        },
        {
         "customdata": [
          [
           "Clothing"
          ],
          [
           "movie_theater/indoor"
          ],
          [
           "confectionery"
          ],
          [
           "bakery/shop"
          ],
          [
           "Food"
          ],
          [
           "Dutch oven"
          ],
          [
           "Dutch oven"
          ],
          [
           "Dutch oven"
          ],
          [
           "Dutch oven"
          ],
          [
           "butcher shop"
          ],
          [
           "basketball"
          ],
          [
           "Baked goods"
          ],
          [
           "Cake stand"
          ],
          [
           "Muffin"
          ],
          [
           "Donut"
          ],
          [
           "Cake"
          ],
          [
           "restaurant_patio"
          ],
          [
           "sushi_bar"
          ],
          [
           "Dining table"
          ],
          [
           "restaurant"
          ],
          [
           "Boiling"
          ],
          [
           "Boiling"
          ],
          [
           "Boiling"
          ],
          [
           "downtown"
          ],
          [
           "Human mouth"
          ],
          [
           "Frisbee"
          ],
          [
           "croquet ball"
          ],
          [
           "bazaar/outdoor"
          ],
          [
           "diner/outdoor"
          ],
          [
           "Fish"
          ],
          [
           "ice cream"
          ],
          [
           "delicatessen"
          ],
          [
           "Sandwich"
          ],
          [
           "Bottle"
          ],
          [
           "Wine glass"
          ],
          [
           "cheeseburger"
          ],
          [
           "Drinking straw"
          ],
          [
           "eggnog"
          ],
          [
           "espresso"
          ],
          [
           "Fast food"
          ],
          [
           "pop bottle"
          ],
          [
           "wine bottle"
          ],
          [
           "beer glass"
          ],
          [
           "Drink"
          ],
          [
           "beer bottle"
          ],
          [
           "Coffee cup"
          ],
          [
           "Bowl"
          ],
          [
           "Cocktail"
          ],
          [
           "beer_hall"
          ],
          [
           "Refrigerator"
          ],
          [
           "beer_garden"
          ],
          [
           "Wine rack"
          ],
          [
           "red wine"
          ],
          [
           "Beer"
          ],
          [
           "Wine"
          ],
          [
           "Hot dog"
          ],
          [
           "hotdog"
          ],
          [
           "wok"
          ],
          [
           "frying pan"
          ],
          [
           "frying pan"
          ],
          [
           "Crock Pot"
          ],
          [
           "Crock Pot"
          ],
          [
           "Crock Pot"
          ],
          [
           "microwave"
          ],
          [
           "ice_cream_parlor"
          ],
          [
           "bakery"
          ],
          [
           "pretzel"
          ],
          [
           "Candy"
          ],
          [
           "dough"
          ],
          [
           "custard apple"
          ],
          [
           "Cookie"
          ],
          [
           "chocolate sauce"
          ],
          [
           "Dessert"
          ],
          [
           "dining table"
          ],
          [
           "restaurant_kitchen"
          ],
          [
           "water bottle"
          ],
          [
           "Juice"
          ],
          [
           "Tea"
          ],
          [
           "coffee mug"
          ],
          [
           "Coffee"
          ],
          [
           "dining_room"
          ],
          [
           "patio"
          ],
          [
           "coffeepot"
          ],
          [
           "refrigerator"
          ],
          [
           "Toaster"
          ],
          [
           "Dishwasher"
          ],
          [
           "Oven"
          ],
          [
           "Oven"
          ],
          [
           "Oven"
          ],
          [
           "Chicken, rooster"
          ],
          [
           "chow"
          ],
          [
           "Cattle"
          ],
          [
           "Bed"
          ],
          [
           "dining_hall"
          ],
          [
           "gazebo/exterior"
          ],
          [
           "coffee_shop"
          ],
          [
           "grocery store"
          ],
          [
           "Chopping (food)"
          ],
          [
           "watering_hole"
          ],
          [
           "desert/sand"
          ],
          [
           "swimming_pool/outdoor"
          ],
          [
           "Dishes, pots, and pans"
          ],
          [
           "Carrot"
          ],
          [
           "'Culture'"
          ],
          [
           "Domestic animals, pets"
          ],
          [
           "'bars'"
          ],
          [
           "hockey"
          ],
          [
           "fastfood_restaurant"
          ],
          [
           "food_court"
          ],
          [
           "kitchen"
          ],
          [
           "picnic_area"
          ],
          [
           "sauna"
          ],
          [
           "Fowl"
          ],
          [
           "Frying (food)"
          ],
          [
           "Livestock, farm animals, working animals"
          ],
          [
           "Microwave oven"
          ],
          [
           "Microwave oven"
          ],
          [
           "Microwave oven"
          ],
          [
           "Music of Asia"
          ],
          [
           "dining"
          ],
          [
           "tasting beer"
          ],
          [
           "tasting food"
          ],
          [
           "barbequing"
          ],
          [
           "barbequing"
          ],
          [
           "taking a shower"
          ],
          [
           "jogging"
          ],
          [
           "playing guitar"
          ],
          [
           "making bed"
          ],
          [
           "baking cookies"
          ],
          [
           "baking cookies"
          ],
          [
           "blowing glass"
          ],
          [
           "eating burger"
          ],
          [
           "playing basketball"
          ],
          [
           "playing piano"
          ],
          [
           "eating hotdog"
          ],
          [
           "clay pottery making"
          ],
          [
           "feeding birds"
          ],
          [
           "cooking on campfire"
          ],
          [
           "cooking on campfire"
          ],
          [
           "cooking on campfire"
          ],
          [
           "drinking beer"
          ],
          [
           "tossing salad"
          ],
          [
           "making pizza"
          ],
          [
           "making pizza"
          ],
          [
           "making pizza"
          ],
          [
           "shooting basketball"
          ],
          [
           "cooking chicken"
          ],
          [
           "cooking chicken"
          ],
          [
           "cooking chicken"
          ],
          [
           "cooking chicken"
          ],
          [
           "eating watermelon"
          ],
          [
           "cooking egg"
          ],
          [
           "cooking egg"
          ],
          [
           "eating doughnuts"
          ],
          [
           "making tea"
          ],
          [
           "eating chips"
          ],
          [
           "eating cake"
          ],
          [
           "grinding meat"
          ],
          [
           "grinding meat"
          ],
          [
           "Pizza"
          ],
          [
           "'World'"
          ],
          [
           "'International'"
          ],
          [
           "'Health'"
          ],
          [
           "'Pets'"
          ],
          [
           "'Food'"
          ],
          [
           "Cheese"
          ],
          [
           "Dairy"
          ],
          [
           "Slow cooker"
          ],
          [
           "Gas stove"
          ],
          [
           "Gas stove"
          ],
          [
           "Fruit"
          ],
          [
           "Tart"
          ],
          [
           "Egg"
          ],
          [
           "Mixing bowl"
          ],
          [
           "Mixing bowl"
          ],
          [
           "Kitchen utensil"
          ],
          [
           "Food processor"
          ],
          [
           "Wood-burning stove"
          ],
          [
           "Wood-burning stove"
          ],
          [
           "Frying pan"
          ],
          [
           "Frying pan"
          ],
          [
           "Milk"
          ],
          [
           "Kitchen knife"
          ],
          [
           "Potato"
          ],
          [
           "Pasta"
          ],
          [
           "Seafood"
          ],
          [
           "Cooking spray"
          ],
          [
           "Wok"
          ],
          [
           "Wok"
          ],
          [
           "Wok"
          ],
          [
           "Bread"
          ],
          [
           "Chicken"
          ],
          [
           "Ice cream"
          ],
          [
           "Vegetable"
          ],
          [
           "Salad"
          ],
          [
           "Pressure cooker"
          ],
          [
           "Pastry"
          ],
          [
           "'chow'"
          ],
          [
           "'Brabancon griffon'"
          ],
          [
           "'bakery'"
          ],
          [
           "'bakeshop'"
          ],
          [
           "'bakehouse'"
          ],
          [
           "'beer bottle'"
          ],
          [
           "'beer glass'"
          ],
          [
           "'meat market'"
          ],
          [
           "'caldron'"
          ],
          [
           "'cauldron'"
          ],
          [
           "'china cabinet'"
          ],
          [
           "'meat cleaver'"
          ],
          [
           "'cocktail shaker'"
          ],
          [
           "'cocktail shaker'"
          ],
          [
           "'coffee mug'"
          ],
          [
           "'confectionery'"
          ],
          [
           "'confectionary'"
          ],
          [
           "'frying pan'"
          ],
          [
           "'frypan'"
          ],
          [
           "'skillet'"
          ],
          [
           "'grille'"
          ],
          [
           "'radiator grille'"
          ],
          [
           "'grocery'"
          ],
          [
           "'food market'"
          ],
          [
           "'microwave'"
          ],
          [
           "'milk can'"
          ],
          [
           "'mixing bowl'"
          ],
          [
           "'patio'"
          ],
          [
           "'soda bottle'"
          ],
          [
           "'pot'"
          ],
          [
           "'restaurant'"
          ],
          [
           "'eating house'"
          ],
          [
           "'eating place'"
          ],
          [
           "'eatery'"
          ],
          [
           "'rotisserie'"
          ],
          [
           "'soup bowl'"
          ],
          [
           "'spatula'"
          ],
          [
           "'tobacconist'"
          ],
          [
           "'water bottle'"
          ],
          [
           "'wine bottle'"
          ],
          [
           "'menu'"
          ],
          [
           "'hot pot'"
          ],
          [
           "'hot pot'"
          ],
          [
           "'hot pot'"
          ],
          [
           "'hotpot'"
          ],
          [
           "'hotpot'"
          ],
          [
           "'ice cream'"
          ],
          [
           "'icecream'"
          ],
          [
           "'French loaf'"
          ],
          [
           "'French loaf'"
          ],
          [
           "'cheeseburger'"
          ],
          [
           "'hotdog'"
          ],
          [
           "'mashed potato'"
          ],
          [
           "'head cabbage'"
          ],
          [
           "'spaghetti squash'"
          ],
          [
           "'globe artichoke'"
          ],
          [
           "'custard apple'"
          ],
          [
           "'carbonara'"
          ],
          [
           "'chocolate sauce'"
          ],
          [
           "'chocolate syrup'"
          ],
          [
           "'dough'"
          ],
          [
           "'meat loaf'"
          ],
          [
           "'meatloaf'"
          ],
          [
           "'pizza'"
          ],
          [
           "'pizza pie'"
          ],
          [
           "'potpie'"
          ],
          [
           "'burrito'"
          ],
          [
           "'red wine'"
          ],
          [
           "'eggnog'"
          ],
          [
           "'sandbar'"
          ],
          [
           "'sand bar'"
          ],
          [
           "Water"
          ],
          [
           "kissing"
          ],
          [
           "'dining table'"
          ],
          [
           "Cutting board"
          ]
         ],
         "hovertemplate": "label=Food & Drink<br>x=%{x}<br>y=%{y}<br>items=%{customdata[0]}<extra></extra>",
         "legendgroup": "Food & Drink",
         "marker": {
          "color": "#636efa",
          "symbol": "circle"
         },
         "mode": "markers",
         "name": "Food & Drink",
         "showlegend": true,
         "type": "scattergl",
         "x": [
          -10.891560554504395,
          69.31568145751953,
          -30.549795150756836,
          -29.263643264770508,
          -2.737926721572876,
          14.089495658874512,
          14.089495658874512,
          14.181838989257812,
          14.181838989257812,
          -36.36424255371094,
          0.3446306586265564,
          -6.931447982788086,
          -5.939887523651123,
          -9.703285217285156,
          -9.174894332885742,
          -5.877951622009277,
          61.73883056640625,
          35.62303161621094,
          68.11753845214844,
          36.20685958862305,
          23.298124313354492,
          23.233898162841797,
          23.233898162841797,
          59.028907775878906,
          -99.6953353881836,
          -55.37016296386719,
          -5.183307647705078,
          67.59040069580078,
          67.42819213867188,
          -80.97343444824219,
          -36.42083740234375,
          -28.796113967895508,
          -13.93410873413086,
          -14.757722854614258,
          -10.376672744750977,
          -39.49885940551758,
          -18.32976531982422,
          -52.79236602783203,
          -4.335153579711914,
          29.321977615356445,
          -13.172500610351562,
          -12.681766510009766,
          -9.723807334899902,
          -14.152514457702637,
          -12.533727645874023,
          -5.774515628814697,
          5.3670244216918945,
          -19.463581085205078,
          65.89897155761719,
          22.96493911743164,
          60.75188446044922,
          -11.925259590148926,
          -21.230772018432617,
          -10.177302360534668,
          -19.427148818969727,
          -42.80900955200195,
          -42.060707092285156,
          9.585565567016602,
          11.590508460998535,
          11.378793716430664,
          17.97394371032715,
          17.603580474853516,
          18.090970993041992,
          24.434066772460938,
          -37.49032974243164,
          -29.15117835998535,
          -25.932546615600586,
          -29.43214988708496,
          -9.04255199432373,
          -41.95998001098633,
          -9.168984413146973,
          -34.294673919677734,
          -15.216083526611328,
          68.3348388671875,
          31.064537048339844,
          -15.519617080688477,
          -23.268779754638672,
          -17.59758758544922,
          -5.210410118103027,
          -13.615004539489746,
          72.04573822021484,
          60.789024353027344,
          -2.439566135406494,
          22.760034561157227,
          19.234140396118164,
          18.795495986938477,
          19.660381317138672,
          19.660381317138672,
          19.660381317138672,
          -86.54270935058594,
          -47.929141998291016,
          -91.3797607421875,
          -0.08942645788192749,
          70.08723449707031,
          62.646636962890625,
          -35.28277587890625,
          -30.491010665893555,
          12.672786712646484,
          -24.565208435058594,
          -2.2934610843658447,
          71.72130584716797,
          11.701769828796387,
          -60.22801208496094,
          -30.320093154907227,
          -92.55233001708984,
          -6.959511756896973,
          2.536503553390503,
          31.244001388549805,
          33.768943786621094,
          29.835506439208984,
          63.10464096069336,
          30.3535099029541,
          -82.82041931152344,
          12.969120025634766,
          -93.3482894897461,
          22.403919219970703,
          22.523799896240234,
          22.403919219970703,
          88.82789611816406,
          70.61105346679688,
          4.52741003036499,
          5.1818623542785645,
          20.798757553100586,
          20.807865142822266,
          8.018513679504395,
          11.132253646850586,
          26.741466522216797,
          3.3812766075134277,
          -2.731492042541504,
          -2.634561777114868,
          -8.58178997039795,
          1.5587280988693237,
          4.252292156219482,
          23.989864349365234,
          -40.838226318359375,
          1.594779133796692,
          -74.65242004394531,
          19.510927200317383,
          19.510927200317383,
          19.510927200317383,
          3.7377164363861084,
          -15.266959190368652,
          1.127384901046753,
          1.3096847534179688,
          1.3096847534179688,
          2.425856113433838,
          16.85508155822754,
          16.85508155822754,
          16.85508155822754,
          16.85508155822754,
          1.227623701095581,
          16.161518096923828,
          16.161518096923828,
          -1.6196353435516357,
          -16.30794334411621,
          -0.005018638446927071,
          -3.688755512237549,
          13.997617721557617,
          13.997617721557617,
          -7.087887763977051,
          -41.77518844604492,
          -38.521148681640625,
          -37.39570236206055,
          -80.89109802246094,
          1.0798486471176147,
          -56.164764404296875,
          -61.24264144897461,
          17.69729995727539,
          22.24718475341797,
          21.66893196105957,
          -58.984378814697266,
          -55.099815368652344,
          -66.4856185913086,
          6.882496356964111,
          6.882496356964111,
          14.412910461425781,
          15.624314308166504,
          24.423521041870117,
          24.423521041870117,
          12.271659851074219,
          12.271659851074219,
          -59.533206939697266,
          12.767512321472168,
          -57.423583984375,
          -52.48988342285156,
          -65.80860900878906,
          15.49425983428955,
          10.630216598510742,
          10.078659057617188,
          10.450523376464844,
          -11.377233505249023,
          -85.3065414428711,
          -37.672706604003906,
          -62.557044982910156,
          -16.154111862182617,
          16.104049682617188,
          -11.98974323272705,
          -47.86894607543945,
          -29.792098999023438,
          -31.02704620361328,
          -32.23978042602539,
          -33.469642639160156,
          -11.293758392333984,
          -10.246131896972656,
          -40.74134826660156,
          -0.3159559667110443,
          -0.33103516697883606,
          5.841107368469238,
          -44.294246673583984,
          -8.76186752319336,
          -8.76186752319336,
          -4.979119777679443,
          -32.02106475830078,
          -32.54336929321289,
          10.40091609954834,
          9.653902053833008,
          -35.27301025390625,
          -0.5847361087799072,
          32.56325912475586,
          -31.913715362548828,
          -37.581546783447266,
          25.32903480529785,
          -60.35874938964844,
          5.73811674118042,
          59.15114212036133,
          -13.66743278503418,
          -0.9310904741287231,
          31.944242477416992,
          36.503211975097656,
          35.75457763671875,
          33.99763870239258,
          30.217411041259766,
          3.35654354095459,
          2.343033790588379,
          -41.73807144165039,
          -14.84524917602539,
          -11.913675308227539,
          9.108839988708496,
          1.3441553115844727,
          1.5815929174423218,
          1.3441553115844727,
          0.8179664611816406,
          0.5934748649597168,
          -37.31627655029297,
          -36.59342575073242,
          -27.302127838134766,
          -27.30189323425293,
          -39.523494720458984,
          -40.251285552978516,
          -47.33349609375,
          -49.98671340942383,
          -47.205650329589844,
          -43.30424499511719,
          -41.946044921875,
          -48.423194885253906,
          -34.160362243652344,
          -33.74037551879883,
          -9.006614685058594,
          -43.2862434387207,
          -43.28197479248047,
          -1.5837570428848267,
          -1.564277172088623,
          -0.7551052570343018,
          -40.213218688964844,
          -36.28425598144531,
          -52.775108337402344,
          -4.437065124511719,
          -5.584327697753906,
          -18.899282455444336,
          16.542984008789062,
          66.63765716552734,
          8.93478775024414
         ],
         "xaxis": "x",
         "y": [
          -24.788156509399414,
          2.596096992492676,
          23.15947914123535,
          29.73238754272461,
          23.120498657226562,
          -1.1133601665496826,
          -1.1133601665496826,
          -0.5334412455558777,
          -0.5334412455558777,
          35.94107437133789,
          72.3402099609375,
          13.598067283630371,
          16.600191116333008,
          17.456451416015625,
          15.789081573486328,
          19.173843383789062,
          -26.61562156677246,
          -10.160167694091797,
          -23.55941390991211,
          0.5096819996833801,
          3.953904867172241,
          3.145393133163452,
          3.145393133163452,
          -42.9395866394043,
          -12.479084968566895,
          19.678478240966797,
          80.49951934814453,
          -38.135589599609375,
          -29.46733283996582,
          -0.20372125506401062,
          15.353779792785645,
          24.73564910888672,
          13.805013656616211,
          5.913298606872559,
          7.178158283233643,
          4.385679244995117,
          6.1228532791137695,
          14.443312644958496,
          7.853786945343018,
          3.1366167068481445,
          3.439974308013916,
          6.23037576675415,
          4.915621757507324,
          26.688800811767578,
          4.672183513641357,
          4.345635414123535,
          0.33890148997306824,
          10.130316734313965,
          -17.417524337768555,
          -14.034295082092285,
          -19.71713638305664,
          8.357501029968262,
          13.156476020812988,
          26.446748733520508,
          15.009047508239746,
          -48.01677703857422,
          -46.85682678222656,
          0.18920572102069855,
          -3.7021467685699463,
          -4.223634243011475,
          -1.9443141222000122,
          -1.1601011753082275,
          -1.4670345783233643,
          -7.460100173950195,
          18.23579216003418,
          28.101280212402344,
          13.12613582611084,
          19.220598220825195,
          11.250301361083984,
          13.646392822265625,
          20.53260040283203,
          19.21598243713379,
          16.38890266418457,
          -22.427133560180664,
          -6.321300029754639,
          3.4208579063415527,
          17.390897750854492,
          19.213123321533203,
          4.251523494720459,
          22.1566162109375,
          -20.283878326416016,
          -29.590810775756836,
          4.636157512664795,
          -15.146658897399902,
          -9.852542877197266,
          -18.060949325561523,
          -6.141005039215088,
          -6.141005039215088,
          -6.141005039215088,
          -12.809656143188477,
          -50.29116439819336,
          -30.17494773864746,
          30.286895751953125,
          -19.392200469970703,
          -36.001136779785156,
          40.640445709228516,
          35.18925476074219,
          6.152029514312744,
          22.410091400146484,
          -12.805895805358887,
          -36.10081481933594,
          -6.924339771270752,
          1.9720652103424072,
          75.08148956298828,
          -39.20710754394531,
          -6.932538986206055,
          68.18606567382812,
          1.4818906784057617,
          4.473699569702148,
          -7.982355117797852,
          -25.28327178955078,
          -30.282657623291016,
          -10.934682846069336,
          2.931645631790161,
          -35.488216400146484,
          -7.768075942993164,
          -6.799386501312256,
          -7.768075942993164,
          64.77764892578125,
          -22.432201385498047,
          18.855165481567383,
          16.69155502319336,
          6.967007160186768,
          6.880053520202637,
          -39.1831169128418,
          83.34366607666016,
          68.40313720703125,
          13.261781692504883,
          14.14891242980957,
          14.250097274780273,
          6.376151084899902,
          17.05825424194336,
          74.34280395507812,
          70.5107421875,
          -46.22042465209961,
          10.134156227111816,
          -6.6229424476623535,
          2.2745277881622314,
          2.2745277881622314,
          2.2745277881622314,
          20.21021270751953,
          10.44705581665039,
          13.670047760009766,
          13.10356330871582,
          13.10356330871582,
          74.28265380859375,
          5.201091766357422,
          5.201091766357422,
          5.201091766357422,
          5.201091766357422,
          18.84358024597168,
          2.6583197116851807,
          2.6583197116851807,
          17.462356567382812,
          19.49677085876465,
          17.84403419494629,
          18.23960304260254,
          9.33447265625,
          9.33447265625,
          24.22265625,
          81.75235748291016,
          83.78478240966797,
          75.44490814208984,
          -56.865177154541016,
          23.798002243041992,
          10.090166091918945,
          10.329230308532715,
          -3.1639294624328613,
          -3.1899056434631348,
          -3.314434766769409,
          6.484447002410889,
          -17.941694259643555,
          -4.086204528808594,
          -2.6130497455596924,
          -2.6130497455596924,
          -10.746274948120117,
          -13.780200004577637,
          -1.1340386867523193,
          -1.1340386867523193,
          -5.026831150054932,
          -5.026831150054932,
          12.428139686584473,
          -11.207040786743164,
          2.903965473175049,
          8.908808708190918,
          9.579520225524902,
          -7.211940288543701,
          -0.3092294931411743,
          -0.527961790561676,
          0.2562844455242157,
          13.120257377624512,
          -6.171261310577393,
          15.464544296264648,
          5.11164665222168,
          11.625330924987793,
          -4.054832935333252,
          16.735624313354492,
          -50.687400817871094,
          -80.09281158447266,
          27.386472702026367,
          29.273357391357422,
          27.91542625427246,
          3.953592538833618,
          4.416538715362549,
          30.165367126464844,
          -3.7911770343780518,
          -3.7760169506073,
          -13.871147155761719,
          28.84886932373047,
          0.3229377269744873,
          0.3229377269744873,
          3.7967350482940674,
          22.774837493896484,
          23.83572006225586,
          -4.193840026855469,
          -4.341205596923828,
          -7.361992835998535,
          -8.125216484069824,
          -41.12192153930664,
          33.01611328125,
          29.579221725463867,
          -9.55424690246582,
          13.912962913513184,
          -2.4467930793762207,
          -29.27004051208496,
          1.0434932708740234,
          1.261725664138794,
          -2.899219512939453,
          -6.000133514404297,
          -4.148751258850098,
          -6.4253668785095215,
          -3.261349678039551,
          -2.910831928253174,
          -5.894643783569336,
          34.31608200073242,
          2.0400428771972656,
          5.535327911376953,
          19.089603424072266,
          -0.15141937136650085,
          -0.7445055246353149,
          -0.15141937136650085,
          -0.998924195766449,
          -0.6290392875671387,
          13.027621269226074,
          12.665716171264648,
          16.086360931396484,
          16.086206436157227,
          4.3393168449401855,
          -47.71705627441406,
          6.373128890991211,
          0.9811475276947021,
          2.3988420963287354,
          1.0126909017562866,
          13.617395401000977,
          3.8004627227783203,
          19.404191970825195,
          19.89175796508789,
          11.054350852966309,
          25.443756103515625,
          25.389537811279297,
          11.109023094177246,
          11.075199127197266,
          0.2917439341545105,
          1.6902015209197998,
          -46.56318664550781,
          14.439640045166016,
          -10.434370040893555,
          -10.276965141296387,
          23.81179428100586,
          62.46879959106445,
          -21.872282028198242,
          -10.359395027160645
         ],
         "yaxis": "y"
        },
        {
         "customdata": [
          [
           "Baby cry"
          ],
          [
           "Baby laughter"
          ],
          [
           "Clock"
          ],
          [
           "Girl"
          ],
          [
           "kindergarden_classroom"
          ],
          [
           "kindergarden_classroom"
          ],
          [
           "stage"
          ],
          [
           "Cake"
          ],
          [
           "church"
          ],
          [
           "Boy"
          ],
          [
           "Coffee"
          ],
          [
           "playroom"
          ],
          [
           "Child singing"
          ],
          [
           "ox"
          ],
          [
           "Child speech, kid speaking"
          ],
          [
           "Child speech, kid speaking"
          ],
          [
           "swing"
          ],
          [
           "Children shouting"
          ],
          [
           "Children shouting"
          ],
          [
           "'Life'"
          ],
          [
           "'Family'"
          ],
          [
           "'Relationship'"
          ],
          [
           "'Love'"
          ],
          [
           "carrying baby"
          ],
          [
           "baby waking up"
          ],
          [
           "'People'"
          ],
          [
           "Domestic animals, pets"
          ],
          [
           "'Lifestyle'"
          ],
          [
           "nursery"
          ],
          [
           "nursery"
          ],
          [
           "Independent music"
          ],
          [
           "Single-lens reflex camera"
          ],
          [
           "Song"
          ],
          [
           "writing"
          ],
          [
           "country line dancing"
          ],
          [
           "drawing"
          ],
          [
           "Person"
          ],
          [
           "'Health'"
          ],
          [
           "'Living'"
          ],
          [
           "'Home'"
          ],
          [
           "'nursery'"
          ],
          [
           "'nursery'"
          ],
          [
           "'teddy'"
          ],
          [
           "'press'"
          ],
          [
           "'red hot'"
          ],
          [
           "kissing"
          ],
          [
           "texting"
          ],
          [
           "texting"
          ],
          [
           "'tandem'"
          ],
          [
           "infant cry"
          ]
         ],
         "hovertemplate": "label=Family and Relationships<br>x=%{x}<br>y=%{y}<br>items=%{customdata[0]}<extra></extra>",
         "legendgroup": "Family and Relationships",
         "marker": {
          "color": "#EF553B",
          "symbol": "circle"
         },
         "mode": "markers",
         "name": "Family and Relationships",
         "showlegend": true,
         "type": "scattergl",
         "x": [
          89.96038818359375,
          89.06512451171875,
          30.40013313293457,
          -17.486642837524414,
          79.43354797363281,
          79.43354797363281,
          14.00531005859375,
          -6.708375453948975,
          49.28580856323242,
          -15.537650108337402,
          -13.615004539489746,
          74.58837890625,
          86.11216735839844,
          -7.924685478210449,
          85.74007415771484,
          85.42095184326172,
          -11.565936088562012,
          88.12629699707031,
          88.12629699707031,
          -34.40934753417969,
          -38.282676696777344,
          -42.072635650634766,
          -41.68089294433594,
          -57.92647933959961,
          90.4612045288086,
          -38.98459243774414,
          -92.55233001708984,
          -30.299165725708008,
          40.37924575805664,
          40.37924575805664,
          77.64696502685547,
          17.311363220214844,
          69.08274841308594,
          73.28729248046875,
          68.94639587402344,
          21.34880256652832,
          -13.071563720703125,
          -37.39570236206055,
          -34.82798767089844,
          -41.113624572753906,
          37.449485778808594,
          37.98086929321289,
          -51.27189254760742,
          -6.317396640777588,
          -37.65745162963867,
          16.542984008789062,
          39.261348724365234,
          39.261348724365234,
          -49.899208068847656,
          90.21517181396484
         ],
         "xaxis": "x",
         "y": [
          40.039207458496094,
          40.70542907714844,
          23.754472732543945,
          56.195945739746094,
          -5.820196628570557,
          -5.820196628570557,
          38.53997039794922,
          19.318151473999023,
          2.3911569118499756,
          57.33750915527344,
          22.1566162109375,
          -9.892661094665527,
          41.72764587402344,
          59.46151351928711,
          38.9823112487793,
          38.88526153564453,
          41.73656463623047,
          36.778167724609375,
          36.778167724609375,
          72.42339324951172,
          71.1668472290039,
          76.02997589111328,
          72.61553192138672,
          64.88960266113281,
          41.25880432128906,
          79.13855743408203,
          -39.20710754394531,
          71.19353485107422,
          -28.026376724243164,
          -28.026376724243164,
          81.01664733886719,
          53.35087585449219,
          42.41427993774414,
          31.243127822875977,
          65.35169982910156,
          31.584638595581055,
          51.12015914916992,
          75.44490814208984,
          68.65538024902344,
          68.53784942626953,
          -27.908466339111328,
          -28.356327056884766,
          -31.49667739868164,
          9.001457214355469,
          -47.15821838378906,
          62.46879959106445,
          50.769203186035156,
          50.769203186035156,
          -26.5223388671875,
          39.532325744628906
         ],
         "yaxis": "y"
        },
        {
         "customdata": [
          [
           "Food"
          ],
          [
           "Human body"
          ],
          [
           "Fast food"
          ],
          [
           "Juice"
          ],
          [
           "dumbbell"
          ],
          [
           "Treadmill"
          ],
          [
           "Stationary bicycle"
          ],
          [
           "gymnasium/indoor"
          ],
          [
           "Human leg"
          ],
          [
           "Training bench"
          ],
          [
           "Houseplant"
          ],
          [
           "Chopping (food)"
          ],
          [
           "Human hand"
          ],
          [
           "'Life'"
          ],
          [
           "exercising arm"
          ],
          [
           "yoga"
          ],
          [
           "exercising with an exercise ball"
          ],
          [
           "'Lifestyle'"
          ],
          [
           "food_court"
          ],
          [
           "sauna"
          ],
          [
           "Happy music"
          ],
          [
           "celebrating"
          ],
          [
           "jogging"
          ],
          [
           "walking the dog"
          ],
          [
           "training dog"
          ],
          [
           "drinking beer"
          ],
          [
           "running on treadmill"
          ],
          [
           "snatch weight lifting"
          ],
          [
           "'Health'"
          ],
          [
           "'Living'"
          ],
          [
           "'Food'"
          ],
          [
           "Personal care"
          ],
          [
           "Fruit"
          ],
          [
           "Bread"
          ],
          [
           "Vegetable"
          ],
          [
           "Salad"
          ],
          [
           "'barbell'"
          ],
          [
           "'greenhouse'"
          ],
          [
           "'ewer'"
          ],
          [
           "'eating house'"
          ],
          [
           "'eating place'"
          ],
          [
           "'strainer'"
          ],
          [
           "'vestment'"
          ],
          [
           "Water"
          ]
         ],
         "hovertemplate": "label=Healthy Living<br>x=%{x}<br>y=%{y}<br>items=%{customdata[0]}<extra></extra>",
         "legendgroup": "Healthy Living",
         "marker": {
          "color": "#00cc96",
          "symbol": "circle"
         },
         "mode": "markers",
         "name": "Healthy Living",
         "showlegend": true,
         "type": "scattergl",
         "x": [
          -2.7367942333221436,
          -101.08210754394531,
          28.941726684570312,
          -22.359811782836914,
          -30.4332332611084,
          7.98430871963501,
          -48.8891487121582,
          75.72306823730469,
          -98.77401733398438,
          11.838947296142578,
          5.258624076843262,
          12.672786712646484,
          -98.34532165527344,
          -34.40934753417969,
          9.071928024291992,
          12.435216903686523,
          8.812621116638184,
          -31.070341110229492,
          33.230430603027344,
          30.416675567626953,
          74.86576080322266,
          86.9154281616211,
          12.216232299804688,
          -23.234560012817383,
          -27.55826187133789,
          3.2543792724609375,
          9.081136703491211,
          -50.703216552734375,
          -37.39570236206055,
          -34.95124435424805,
          1.475382685661316,
          7.156443119049072,
          -58.984378814697266,
          -11.377233505249023,
          -62.557044982910156,
          -16.154111862182617,
          -30.308399200439453,
          38.71123504638672,
          17.88142204284668,
          37.129188537597656,
          35.35085678100586,
          -34.63810348510742,
          -28.464784622192383,
          -19.533676147460938
         ],
         "xaxis": "x",
         "y": [
          22.20847511291504,
          -16.883092880249023,
          2.597003698348999,
          18.193695068359375,
          11.302058219909668,
          12.783697128295898,
          -18.260683059692383,
          -27.4276123046875,
          -17.23473358154297,
          14.683877944946289,
          8.517820358276367,
          6.152029514312744,
          -15.383410453796387,
          72.42339324951172,
          85.24227905273438,
          87.75066375732422,
          85.25384521484375,
          70.81343078613281,
          4.766814231872559,
          -31.07750701904297,
          61.78697967529297,
          22.512582778930664,
          83.59932708740234,
          -65.0102310180664,
          -65.1872787475586,
          19.811887741088867,
          11.234373092651367,
          28.397689819335938,
          75.44490814208984,
          69.48983001708984,
          24.247394561767578,
          -23.032609939575195,
          6.484447002410889,
          13.120257377624512,
          5.11164665222168,
          11.625330924987793,
          10.333321571350098,
          -21.256669998168945,
          -26.33199691772461,
          -6.033300399780273,
          -4.821686744689941,
          -40.695152282714844,
          -43.688724517822266,
          22.769121170043945
         ],
         "yaxis": "y"
        },
        {
         "customdata": [
          [
           "Human body"
          ],
          [
           "veterinarians_office"
          ],
          [
           "Ambulance"
          ],
          [
           "'medicine chest'"
          ],
          [
           "'medicine cabinet'"
          ],
          [
           "Medical equipment"
          ],
          [
           "hospital_room"
          ],
          [
           "hospital"
          ],
          [
           "'Health'"
          ],
          [
           "'Science'"
          ],
          [
           "Personal care"
          ]
         ],
         "hovertemplate": "label=Medical Health<br>x=%{x}<br>y=%{y}<br>items=%{customdata[0]}<extra></extra>",
         "legendgroup": "Medical Health",
         "marker": {
          "color": "#ab63fa",
          "symbol": "circle"
         },
         "mode": "markers",
         "name": "Medical Health",
         "showlegend": true,
         "type": "scattergl",
         "x": [
          -101.08210754394531,
          -94.1394271850586,
          4.781077861785889,
          31.38242530822754,
          30.453826904296875,
          0.9768034219741821,
          81.15167236328125,
          48.21577835083008,
          -36.48290252685547,
          -27.00604248046875,
          7.156443119049072
         ],
         "xaxis": "x",
         "y": [
          -16.883092880249023,
          10.903895378112793,
          -73.6825942993164,
          -17.989412307739258,
          -16.89354705810547,
          7.297515869140625,
          -16.537158966064453,
          -3.39363169670105,
          76.05848693847656,
          83.7405776977539,
          -23.032609939575195
         ],
         "yaxis": "y"
        },
        {
         "customdata": [
          [
           "paintbrush"
          ],
          [
           "art_school"
          ],
          [
           "Picture frame"
          ],
          [
           "science_museum"
          ],
          [
           "natural_history_museum"
          ],
          [
           "museum/outdoor"
          ],
          [
           "art_gallery"
          ],
          [
           "artists_loft"
          ],
          [
           "Bronze sculpture"
          ],
          [
           "Sculpture"
          ],
          [
           "art_studio"
          ],
          [
           "Violin"
          ],
          [
           "Vase"
          ],
          [
           "Classical music"
          ],
          [
           "Human hand"
          ],
          [
           "'Film'"
          ],
          [
           "'Fashion'"
          ],
          [
           "Electronic music"
          ],
          [
           "Flute"
          ],
          [
           "Folk music"
          ],
          [
           "Funny music"
          ],
          [
           "Happy music"
          ],
          [
           "House music"
          ],
          [
           "Jazz"
          ],
          [
           "Music"
          ],
          [
           "New-age music"
          ],
          [
           "Pop music"
          ],
          [
           "Rock music"
          ],
          [
           "Soul music"
          ],
          [
           "Traditional music"
          ],
          [
           "brush painting"
          ],
          [
           "drawing"
          ],
          [
           "'Literature'"
          ],
          [
           "'Music'"
          ],
          [
           "'Science'"
          ],
          [
           "Pastry"
          ],
          [
           "'Cacatua galerita'"
          ],
          [
           "'grand piano'"
          ],
          [
           "'globe artichoke'"
          ],
          [
           "Vocal music"
          ],
          [
           "'painter'"
          ]
         ],
         "hovertemplate": "label=Fine Art<br>x=%{x}<br>y=%{y}<br>items=%{customdata[0]}<extra></extra>",
         "legendgroup": "Fine Art",
         "marker": {
          "color": "#FFA15A",
          "symbol": "circle"
         },
         "mode": "markers",
         "name": "Fine Art",
         "showlegend": true,
         "type": "scattergl",
         "x": [
          30.263900756835938,
          58.081703186035156,
          19.81066131591797,
          61.98512268066406,
          59.4508056640625,
          70.35440826416016,
          60.875831604003906,
          59.322696685791016,
          23.78887367248535,
          24.343334197998047,
          62.3868522644043,
          34.973793029785156,
          3.5560054779052734,
          62.47294235229492,
          -98.34532165527344,
          -26.410688400268555,
          -29.16046142578125,
          54.301456451416016,
          34.940399169921875,
          66.13114929199219,
          78.04094696044922,
          74.86576080322266,
          71.59756469726562,
          59.34645462036133,
          66.9524917602539,
          71.72782135009766,
          65.9499740600586,
          68.34234619140625,
          72.81932830810547,
          66.75629425048828,
          27.70151710510254,
          21.34880256652832,
          -25.548498153686523,
          66.65432739257812,
          -26.864444732666016,
          -12.086966514587402,
          29.72751808166504,
          27.730009078979492,
          -43.303977966308594,
          62.21326446533203,
          29.467992782592773
         ],
         "xaxis": "x",
         "y": [
          9.394156455993652,
          -6.2663116455078125,
          21.054269790649414,
          -12.070076942443848,
          -12.648612022399902,
          -30.336902618408203,
          -8.3679838180542,
          -2.9082984924316406,
          11.628288269042969,
          13.361414909362793,
          -4.376220226287842,
          74.08052062988281,
          4.246156215667725,
          66.54835510253906,
          -15.383410453796387,
          62.2973747253418,
          67.49830627441406,
          61.24589538574219,
          77.33673095703125,
          67.14850616455078,
          64.32269287109375,
          61.78697967529297,
          62.84404754638672,
          73.15021514892578,
          47.50648880004883,
          81.0059814453125,
          70.9029769897461,
          73.78651428222656,
          71.04163360595703,
          63.71091079711914,
          9.385223388671875,
          31.584638595581055,
          75.37901306152344,
          58.41463088989258,
          84.34667205810547,
          17.33635139465332,
          15.309347152709961,
          84.34917449951172,
          1.0128947496414185,
          61.52123260498047,
          11.24461841583252
         ],
         "yaxis": "y"
        },
        {
         "customdata": [
          [
           "church"
          ],
          [
           "prayer rug"
          ],
          [
           "Sculpture"
          ],
          [
           "agama"
          ],
          [
           "Christian music"
          ],
          [
           "Church bell"
          ],
          [
           "'Life'"
          ],
          [
           "'Relationship'"
          ],
          [
           "yoga"
          ],
          [
           "'Culture'"
          ],
          [
           "'Sports'"
          ],
          [
           "'Lifestyle'"
          ],
          [
           "Folk music"
          ],
          [
           "Gospel music"
          ],
          [
           "Jazz"
          ],
          [
           "New-age music"
          ],
          [
           "Reggae"
          ],
          [
           "Rhythm and blues"
          ],
          [
           "Rock and roll"
          ],
          [
           "Soul music"
          ],
          [
           "'Politics'"
          ],
          [
           "'Health'"
          ],
          [
           "'Literature'"
          ],
          [
           "'Education'"
          ],
          [
           "'Living'"
          ],
          [
           "'Science'"
          ],
          [
           "'church'"
          ],
          [
           "'church building'"
          ],
          [
           "'essence'"
          ]
         ],
         "hovertemplate": "label=Religion & Spirituality<br>x=%{x}<br>y=%{y}<br>items=%{customdata[0]}<extra></extra>",
         "legendgroup": "Religion & Spirituality",
         "marker": {
          "color": "#19d3f3",
          "symbol": "circle"
         },
         "mode": "markers",
         "name": "Religion & Spirituality",
         "showlegend": true,
         "type": "scattergl",
         "x": [
          48.4418830871582,
          -2.952805757522583,
          24.343334197998047,
          55.14579391479492,
          74.12796783447266,
          48.527198791503906,
          -34.40934753417969,
          -42.072635650634766,
          12.435216903686523,
          -29.4575138092041,
          -19.167617797851562,
          -29.384172439575195,
          65.93243408203125,
          75.97980499267578,
          57.89915084838867,
          71.72782135009766,
          61.96747589111328,
          61.37308120727539,
          65.59300994873047,
          72.81932830810547,
          -31.831729888916016,
          -36.48290252685547,
          -25.05684471130371,
          -28.552892684936523,
          -34.087730407714844,
          -25.791505813598633,
          51.82752990722656,
          50.911258697509766,
          -47.6772575378418
         ],
         "xaxis": "x",
         "y": [
          1.198410153388977,
          -34.611663818359375,
          13.361414909362793,
          1.5269547700881958,
          76.80525207519531,
          7.588581085205078,
          72.42339324951172,
          76.02997589111328,
          87.75066375732422,
          75.99725341796875,
          73.85409545898438,
          71.32406616210938,
          66.52470397949219,
          73.39346313476562,
          73.46015930175781,
          81.0059814453125,
          81.39402770996094,
          76.92156982421875,
          76.150146484375,
          71.04163360595703,
          84.24746704101562,
          76.05848693847656,
          77.06132507324219,
          80.38091278076172,
          68.62692260742188,
          83.9380874633789,
          4.387573719024658,
          5.629787445068359,
          72.8603515625
         ],
         "yaxis": "y"
        }
       ],
       "layout": {
        "legend": {
         "title": {
          "text": "label"
         },
         "tracegroupgap": 0
        },
        "template": {
         "data": {
          "bar": [
           {
            "error_x": {
             "color": "#2a3f5f"
            },
            "error_y": {
             "color": "#2a3f5f"
            },
            "marker": {
             "line": {
              "color": "#E5ECF6",
              "width": 0.5
             },
             "pattern": {
              "fillmode": "overlay",
              "size": 10,
              "solidity": 0.2
             }
            },
            "type": "bar"
           }
          ],
          "barpolar": [
           {
            "marker": {
             "line": {
              "color": "#E5ECF6",
              "width": 0.5
             },
             "pattern": {
              "fillmode": "overlay",
              "size": 10,
              "solidity": 0.2
             }
            },
            "type": "barpolar"
           }
          ],
          "carpet": [
           {
            "aaxis": {
             "endlinecolor": "#2a3f5f",
             "gridcolor": "white",
             "linecolor": "white",
             "minorgridcolor": "white",
             "startlinecolor": "#2a3f5f"
            },
            "baxis": {
             "endlinecolor": "#2a3f5f",
             "gridcolor": "white",
             "linecolor": "white",
             "minorgridcolor": "white",
             "startlinecolor": "#2a3f5f"
            },
            "type": "carpet"
           }
          ],
          "choropleth": [
           {
            "colorbar": {
             "outlinewidth": 0,
             "ticks": ""
            },
            "type": "choropleth"
           }
          ],
          "contour": [
           {
            "colorbar": {
             "outlinewidth": 0,
             "ticks": ""
            },
            "colorscale": [
             [
              0,
              "#0d0887"
             ],
             [
              0.1111111111111111,
              "#46039f"
             ],
             [
              0.2222222222222222,
              "#7201a8"
             ],
             [
              0.3333333333333333,
              "#9c179e"
             ],
             [
              0.4444444444444444,
              "#bd3786"
             ],
             [
              0.5555555555555556,
              "#d8576b"
             ],
             [
              0.6666666666666666,
              "#ed7953"
             ],
             [
              0.7777777777777778,
              "#fb9f3a"
             ],
             [
              0.8888888888888888,
              "#fdca26"
             ],
             [
              1,
              "#f0f921"
             ]
            ],
            "type": "contour"
           }
          ],
          "contourcarpet": [
           {
            "colorbar": {
             "outlinewidth": 0,
             "ticks": ""
            },
            "type": "contourcarpet"
           }
          ],
          "heatmap": [
           {
            "colorbar": {
             "outlinewidth": 0,
             "ticks": ""
            },
            "colorscale": [
             [
              0,
              "#0d0887"
             ],
             [
              0.1111111111111111,
              "#46039f"
             ],
             [
              0.2222222222222222,
              "#7201a8"
             ],
             [
              0.3333333333333333,
              "#9c179e"
             ],
             [
              0.4444444444444444,
              "#bd3786"
             ],
             [
              0.5555555555555556,
              "#d8576b"
             ],
             [
              0.6666666666666666,
              "#ed7953"
             ],
             [
              0.7777777777777778,
              "#fb9f3a"
             ],
             [
              0.8888888888888888,
              "#fdca26"
             ],
             [
              1,
              "#f0f921"
             ]
            ],
            "type": "heatmap"
           }
          ],
          "heatmapgl": [
           {
            "colorbar": {
             "outlinewidth": 0,
             "ticks": ""
            },
            "colorscale": [
             [
              0,
              "#0d0887"
             ],
             [
              0.1111111111111111,
              "#46039f"
             ],
             [
              0.2222222222222222,
              "#7201a8"
             ],
             [
              0.3333333333333333,
              "#9c179e"
             ],
             [
              0.4444444444444444,
              "#bd3786"
             ],
             [
              0.5555555555555556,
              "#d8576b"
             ],
             [
              0.6666666666666666,
              "#ed7953"
             ],
             [
              0.7777777777777778,
              "#fb9f3a"
             ],
             [
              0.8888888888888888,
              "#fdca26"
             ],
             [
              1,
              "#f0f921"
             ]
            ],
            "type": "heatmapgl"
           }
          ],
          "histogram": [
           {
            "marker": {
             "pattern": {
              "fillmode": "overlay",
              "size": 10,
              "solidity": 0.2
             }
            },
            "type": "histogram"
           }
          ],
          "histogram2d": [
           {
            "colorbar": {
             "outlinewidth": 0,
             "ticks": ""
            },
            "colorscale": [
             [
              0,
              "#0d0887"
             ],
             [
              0.1111111111111111,
              "#46039f"
             ],
             [
              0.2222222222222222,
              "#7201a8"
             ],
             [
              0.3333333333333333,
              "#9c179e"
             ],
             [
              0.4444444444444444,
              "#bd3786"
             ],
             [
              0.5555555555555556,
              "#d8576b"
             ],
             [
              0.6666666666666666,
              "#ed7953"
             ],
             [
              0.7777777777777778,
              "#fb9f3a"
             ],
             [
              0.8888888888888888,
              "#fdca26"
             ],
             [
              1,
              "#f0f921"
             ]
            ],
            "type": "histogram2d"
           }
          ],
          "histogram2dcontour": [
           {
            "colorbar": {
             "outlinewidth": 0,
             "ticks": ""
            },
            "colorscale": [
             [
              0,
              "#0d0887"
             ],
             [
              0.1111111111111111,
              "#46039f"
             ],
             [
              0.2222222222222222,
              "#7201a8"
             ],
             [
              0.3333333333333333,
              "#9c179e"
             ],
             [
              0.4444444444444444,
              "#bd3786"
             ],
             [
              0.5555555555555556,
              "#d8576b"
             ],
             [
              0.6666666666666666,
              "#ed7953"
             ],
             [
              0.7777777777777778,
              "#fb9f3a"
             ],
             [
              0.8888888888888888,
              "#fdca26"
             ],
             [
              1,
              "#f0f921"
             ]
            ],
            "type": "histogram2dcontour"
           }
          ],
          "mesh3d": [
           {
            "colorbar": {
             "outlinewidth": 0,
             "ticks": ""
            },
            "type": "mesh3d"
           }
          ],
          "parcoords": [
           {
            "line": {
             "colorbar": {
              "outlinewidth": 0,
              "ticks": ""
             }
            },
            "type": "parcoords"
           }
          ],
          "pie": [
           {
            "automargin": true,
            "type": "pie"
           }
          ],
          "scatter": [
           {
            "fillpattern": {
             "fillmode": "overlay",
             "size": 10,
             "solidity": 0.2
            },
            "type": "scatter"
           }
          ],
          "scatter3d": [
           {
            "line": {
             "colorbar": {
              "outlinewidth": 0,
              "ticks": ""
             }
            },
            "marker": {
             "colorbar": {
              "outlinewidth": 0,
              "ticks": ""
             }
            },
            "type": "scatter3d"
           }
          ],
          "scattercarpet": [
           {
            "marker": {
             "colorbar": {
              "outlinewidth": 0,
              "ticks": ""
             }
            },
            "type": "scattercarpet"
           }
          ],
          "scattergeo": [
           {
            "marker": {
             "colorbar": {
              "outlinewidth": 0,
              "ticks": ""
             }
            },
            "type": "scattergeo"
           }
          ],
          "scattergl": [
           {
            "marker": {
             "colorbar": {
              "outlinewidth": 0,
              "ticks": ""
             }
            },
            "type": "scattergl"
           }
          ],
          "scattermapbox": [
           {
            "marker": {
             "colorbar": {
              "outlinewidth": 0,
              "ticks": ""
             }
            },
            "type": "scattermapbox"
           }
          ],
          "scatterpolar": [
           {
            "marker": {
             "colorbar": {
              "outlinewidth": 0,
              "ticks": ""
             }
            },
            "type": "scatterpolar"
           }
          ],
          "scatterpolargl": [
           {
            "marker": {
             "colorbar": {
              "outlinewidth": 0,
              "ticks": ""
             }
            },
            "type": "scatterpolargl"
           }
          ],
          "scatterternary": [
           {
            "marker": {
             "colorbar": {
              "outlinewidth": 0,
              "ticks": ""
             }
            },
            "type": "scatterternary"
           }
          ],
          "surface": [
           {
            "colorbar": {
             "outlinewidth": 0,
             "ticks": ""
            },
            "colorscale": [
             [
              0,
              "#0d0887"
             ],
             [
              0.1111111111111111,
              "#46039f"
             ],
             [
              0.2222222222222222,
              "#7201a8"
             ],
             [
              0.3333333333333333,
              "#9c179e"
             ],
             [
              0.4444444444444444,
              "#bd3786"
             ],
             [
              0.5555555555555556,
              "#d8576b"
             ],
             [
              0.6666666666666666,
              "#ed7953"
             ],
             [
              0.7777777777777778,
              "#fb9f3a"
             ],
             [
              0.8888888888888888,
              "#fdca26"
             ],
             [
              1,
              "#f0f921"
             ]
            ],
            "type": "surface"
           }
          ],
          "table": [
           {
            "cells": {
             "fill": {
              "color": "#EBF0F8"
             },
             "line": {
              "color": "white"
             }
            },
            "header": {
             "fill": {
              "color": "#C8D4E3"
             },
             "line": {
              "color": "white"
             }
            },
            "type": "table"
           }
          ]
         },
         "layout": {
          "annotationdefaults": {
           "arrowcolor": "#2a3f5f",
           "arrowhead": 0,
           "arrowwidth": 1
          },
          "autotypenumbers": "strict",
          "coloraxis": {
           "colorbar": {
            "outlinewidth": 0,
            "ticks": ""
           }
          },
          "colorscale": {
           "diverging": [
            [
             0,
             "#8e0152"
            ],
            [
             0.1,
             "#c51b7d"
            ],
            [
             0.2,
             "#de77ae"
            ],
            [
             0.3,
             "#f1b6da"
            ],
            [
             0.4,
             "#fde0ef"
            ],
            [
             0.5,
             "#f7f7f7"
            ],
            [
             0.6,
             "#e6f5d0"
            ],
            [
             0.7,
             "#b8e186"
            ],
            [
             0.8,
             "#7fbc41"
            ],
            [
             0.9,
             "#4d9221"
            ],
            [
             1,
             "#276419"
            ]
           ],
           "sequential": [
            [
             0,
             "#0d0887"
            ],
            [
             0.1111111111111111,
             "#46039f"
            ],
            [
             0.2222222222222222,
             "#7201a8"
            ],
            [
             0.3333333333333333,
             "#9c179e"
            ],
            [
             0.4444444444444444,
             "#bd3786"
            ],
            [
             0.5555555555555556,
             "#d8576b"
            ],
            [
             0.6666666666666666,
             "#ed7953"
            ],
            [
             0.7777777777777778,
             "#fb9f3a"
            ],
            [
             0.8888888888888888,
             "#fdca26"
            ],
            [
             1,
             "#f0f921"
            ]
           ],
           "sequentialminus": [
            [
             0,
             "#0d0887"
            ],
            [
             0.1111111111111111,
             "#46039f"
            ],
            [
             0.2222222222222222,
             "#7201a8"
            ],
            [
             0.3333333333333333,
             "#9c179e"
            ],
            [
             0.4444444444444444,
             "#bd3786"
            ],
            [
             0.5555555555555556,
             "#d8576b"
            ],
            [
             0.6666666666666666,
             "#ed7953"
            ],
            [
             0.7777777777777778,
             "#fb9f3a"
            ],
            [
             0.8888888888888888,
             "#fdca26"
            ],
            [
             1,
             "#f0f921"
            ]
           ]
          },
          "colorway": [
           "#636efa",
           "#EF553B",
           "#00cc96",
           "#ab63fa",
           "#FFA15A",
           "#19d3f3",
           "#FF6692",
           "#B6E880",
           "#FF97FF",
           "#FECB52"
          ],
          "font": {
           "color": "#2a3f5f"
          },
          "geo": {
           "bgcolor": "white",
           "lakecolor": "white",
           "landcolor": "#E5ECF6",
           "showlakes": true,
           "showland": true,
           "subunitcolor": "white"
          },
          "hoverlabel": {
           "align": "left"
          },
          "hovermode": "closest",
          "mapbox": {
           "style": "light"
          },
          "paper_bgcolor": "white",
          "plot_bgcolor": "#E5ECF6",
          "polar": {
           "angularaxis": {
            "gridcolor": "white",
            "linecolor": "white",
            "ticks": ""
           },
           "bgcolor": "#E5ECF6",
           "radialaxis": {
            "gridcolor": "white",
            "linecolor": "white",
            "ticks": ""
           }
          },
          "scene": {
           "xaxis": {
            "backgroundcolor": "#E5ECF6",
            "gridcolor": "white",
            "gridwidth": 2,
            "linecolor": "white",
            "showbackground": true,
            "ticks": "",
            "zerolinecolor": "white"
           },
           "yaxis": {
            "backgroundcolor": "#E5ECF6",
            "gridcolor": "white",
            "gridwidth": 2,
            "linecolor": "white",
            "showbackground": true,
            "ticks": "",
            "zerolinecolor": "white"
           },
           "zaxis": {
            "backgroundcolor": "#E5ECF6",
            "gridcolor": "white",
            "gridwidth": 2,
            "linecolor": "white",
            "showbackground": true,
            "ticks": "",
            "zerolinecolor": "white"
           }
          },
          "shapedefaults": {
           "line": {
            "color": "#2a3f5f"
           }
          },
          "ternary": {
           "aaxis": {
            "gridcolor": "white",
            "linecolor": "white",
            "ticks": ""
           },
           "baxis": {
            "gridcolor": "white",
            "linecolor": "white",
            "ticks": ""
           },
           "bgcolor": "#E5ECF6",
           "caxis": {
            "gridcolor": "white",
            "linecolor": "white",
            "ticks": ""
           }
          },
          "title": {
           "x": 0.05
          },
          "xaxis": {
           "automargin": true,
           "gridcolor": "white",
           "linecolor": "white",
           "ticks": "",
           "title": {
            "standoff": 15
           },
           "zerolinecolor": "white",
           "zerolinewidth": 2
          },
          "yaxis": {
           "automargin": true,
           "gridcolor": "white",
           "linecolor": "white",
           "ticks": "",
           "title": {
            "standoff": 15
           },
           "zerolinecolor": "white",
           "zerolinewidth": 2
          }
         }
        },
        "title": {
         "text": "Tier1"
        },
        "xaxis": {
         "anchor": "y",
         "domain": [
          0,
          1
         ],
         "title": {
          "text": "x"
         }
        },
        "yaxis": {
         "anchor": "x",
         "domain": [
          0,
          1
         ],
         "title": {
          "text": "y"
         }
        }
       }
      }
     },
     "metadata": {},
     "output_type": "display_data"
    }
   ],
   "source": [
    "fig = px.scatter(\n",
    "    df_embeddings, x='x', y='y',\n",
    "    color='label', labels={'color': 'label'},\n",
    "    hover_data=['items'], title = 'Tier1')\n",
    "fig.show()"
   ]
  },
  {
   "cell_type": "code",
   "execution_count": 66,
   "metadata": {},
   "outputs": [],
   "source": [
    "fig.write_image(\"Tier1.png\")"
   ]
  },
  {
   "cell_type": "code",
   "execution_count": 67,
   "metadata": {},
   "outputs": [],
   "source": [
    "fig.write_html(\"Tier1.html\")\n"
   ]
  }
 ],
 "metadata": {
  "kernelspec": {
   "display_name": "KG",
   "language": "python",
   "name": "python3"
  },
  "language_info": {
   "codemirror_mode": {
    "name": "ipython",
    "version": 3
   },
   "file_extension": ".py",
   "mimetype": "text/x-python",
   "name": "python",
   "nbconvert_exporter": "python",
   "pygments_lexer": "ipython3",
   "version": "3.11.4"
  },
  "orig_nbformat": 4
 },
 "nbformat": 4,
 "nbformat_minor": 2
}
