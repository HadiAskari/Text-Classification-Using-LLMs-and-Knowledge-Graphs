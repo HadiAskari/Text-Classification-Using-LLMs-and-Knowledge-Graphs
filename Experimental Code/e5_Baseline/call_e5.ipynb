{
 "cells": [
  {
   "cell_type": "code",
   "execution_count": 96,
   "metadata": {},
   "outputs": [],
   "source": [
    "import requests\n",
    "import json\n",
    "from sklearn.metrics.pairwise import cosine_similarity\n",
    "import pandas as pd\n",
    "from time import sleep\n",
    "from tqdm.auto import tqdm\n",
    "import numpy as np\n",
    "import ast\n",
    "from sentence_transformers import SentenceTransformer"
   ]
  },
  {
   "cell_type": "code",
   "execution_count": 97,
   "metadata": {},
   "outputs": [],
   "source": [
    "model = SentenceTransformer('intfloat/e5-large-v2')"
   ]
  },
  {
   "cell_type": "code",
   "execution_count": 98,
   "metadata": {},
   "outputs": [],
   "source": [
    "df_MAF=pd.read_csv('data/MAF_Evaluation.csv')"
   ]
  },
  {
   "cell_type": "code",
   "execution_count": 99,
   "metadata": {},
   "outputs": [
    {
     "data": {
      "text/plain": [
       "Index(['item', 'node_id', 'IAB_Candidates', 'H_Scores'], dtype='object')"
      ]
     },
     "execution_count": 99,
     "metadata": {},
     "output_type": "execute_result"
    }
   ],
   "source": [
    "df_MAF.columns"
   ]
  },
  {
   "cell_type": "code",
   "execution_count": 100,
   "metadata": {},
   "outputs": [],
   "source": [
    "df_IAB=pd.read_csv('data/IAB_Evaluation.csv')"
   ]
  },
  {
   "cell_type": "code",
   "execution_count": 101,
   "metadata": {},
   "outputs": [
    {
     "data": {
      "text/plain": [
       "Index(['IAB_Label', 'node_ids'], dtype='object')"
      ]
     },
     "execution_count": 101,
     "metadata": {},
     "output_type": "execute_result"
    }
   ],
   "source": [
    "df_IAB.columns"
   ]
  },
  {
   "cell_type": "code",
   "execution_count": 102,
   "metadata": {},
   "outputs": [],
   "source": [
    "iab_labels=df_IAB['IAB_Label'].to_list()"
   ]
  },
  {
   "cell_type": "code",
   "execution_count": 103,
   "metadata": {},
   "outputs": [
    {
     "data": {
      "text/plain": [
       "160"
      ]
     },
     "execution_count": 103,
     "metadata": {},
     "output_type": "execute_result"
    }
   ],
   "source": [
    "len(iab_labels)"
   ]
  },
  {
   "cell_type": "code",
   "execution_count": 104,
   "metadata": {},
   "outputs": [],
   "source": [
    "maf=df_MAF['item'].to_list()"
   ]
  },
  {
   "cell_type": "code",
   "execution_count": 105,
   "metadata": {},
   "outputs": [
    {
     "data": {
      "text/plain": [
       "942"
      ]
     },
     "execution_count": 105,
     "metadata": {},
     "output_type": "execute_result"
    }
   ],
   "source": [
    "len(maf)"
   ]
  },
  {
   "cell_type": "code",
   "execution_count": 106,
   "metadata": {},
   "outputs": [],
   "source": [
    "for i,x in enumerate(maf):\n",
    "    try: \n",
    "        x=x.replace(\"_\",\" \")\n",
    "    except:\n",
    "        pass\n",
    "    maf[i]=x"
   ]
  },
  {
   "cell_type": "code",
   "execution_count": 107,
   "metadata": {},
   "outputs": [],
   "source": [
    "call=iab_labels+maf"
   ]
  },
  {
   "cell_type": "code",
   "execution_count": 108,
   "metadata": {},
   "outputs": [
    {
     "data": {
      "text/plain": [
       "1102"
      ]
     },
     "execution_count": 108,
     "metadata": {},
     "output_type": "execute_result"
    }
   ],
   "source": [
    "len(call)"
   ]
  },
  {
   "cell_type": "code",
   "execution_count": 109,
   "metadata": {},
   "outputs": [
    {
     "name": "stdout",
     "output_type": "stream",
     "text": [
      "['Hair Care', 'Shaving', 'Motorcycles', \"Women's Formal Wear\", \"Women's Clothing\", 'Retail Industry', 'Comedy Events', 'Household Supplies', 'Home Security', 'Polar Travel']\n"
     ]
    }
   ],
   "source": [
    "print(call[0:10])"
   ]
  },
  {
   "cell_type": "code",
   "execution_count": 110,
   "metadata": {},
   "outputs": [],
   "source": [
    "total_embeddings=[]"
   ]
  },
  {
   "cell_type": "code",
   "execution_count": 111,
   "metadata": {},
   "outputs": [],
   "source": [
    "total_embeddings=model.encode(call, normalize_embeddings=True)"
   ]
  },
  {
   "cell_type": "code",
   "execution_count": 112,
   "metadata": {},
   "outputs": [],
   "source": [
    "iab_embeddings=total_embeddings[0:160]"
   ]
  },
  {
   "cell_type": "code",
   "execution_count": 113,
   "metadata": {},
   "outputs": [
    {
     "data": {
      "text/plain": [
       "numpy.float32"
      ]
     },
     "execution_count": 113,
     "metadata": {},
     "output_type": "execute_result"
    }
   ],
   "source": [
    "type(iab_embeddings[0][0])"
   ]
  },
  {
   "cell_type": "code",
   "execution_count": 114,
   "metadata": {},
   "outputs": [],
   "source": [
    "maf_embeddings=total_embeddings[160:]"
   ]
  },
  {
   "cell_type": "code",
   "execution_count": 115,
   "metadata": {},
   "outputs": [
    {
     "data": {
      "text/plain": [
       "942"
      ]
     },
     "execution_count": 115,
     "metadata": {},
     "output_type": "execute_result"
    }
   ],
   "source": [
    "len(maf_embeddings)"
   ]
  },
  {
   "cell_type": "code",
   "execution_count": 116,
   "metadata": {},
   "outputs": [
    {
     "data": {
      "text/plain": [
       "array([ 0.01664113, -0.05357603,  0.04887162, ..., -0.06031791,\n",
       "        0.02185748,  0.03875877], dtype=float32)"
      ]
     },
     "execution_count": 116,
     "metadata": {},
     "output_type": "execute_result"
    }
   ],
   "source": [
    "iab_embeddings[0]"
   ]
  },
  {
   "cell_type": "code",
   "execution_count": 117,
   "metadata": {},
   "outputs": [
    {
     "data": {
      "text/plain": [
       "array([ 0.01973327, -0.04324522,  0.01025429, ..., -0.02802336,\n",
       "        0.00969677,  0.05434723], dtype=float32)"
      ]
     },
     "execution_count": 117,
     "metadata": {},
     "output_type": "execute_result"
    }
   ],
   "source": [
    "maf_embeddings[0]"
   ]
  },
  {
   "cell_type": "code",
   "execution_count": 118,
   "metadata": {},
   "outputs": [],
   "source": [
    "def calculate_precision_recall(true_labels, predictions):\n",
    "    true_positives = sum(1 for pred in predictions if pred in true_labels)\n",
    "    false_positives = len(predictions) - true_positives\n",
    "    false_negatives = len(true_labels) - true_positives\n",
    "    \n",
    "    precision = true_positives / (true_positives + false_positives)\n",
    "    recall = true_positives / (true_positives + false_negatives)\n",
    "    \n",
    "    return precision, recall"
   ]
  },
  {
   "cell_type": "code",
   "execution_count": 119,
   "metadata": {},
   "outputs": [],
   "source": [
    "def calculate_f1_score(precision, recall):\n",
    "    if precision + recall == 0:\n",
    "        return 0\n",
    "    f1_score = 2 * (precision * recall) / (precision + recall)\n",
    "    return f1_score"
   ]
  },
  {
   "cell_type": "code",
   "execution_count": 120,
   "metadata": {},
   "outputs": [],
   "source": [
    "nodes=df_MAF['item'].to_list()\n",
    "node_id=df_MAF['node_id'].to_list()\n",
    "IAB_Candidates=df_MAF['IAB_Candidates'].to_list()\n",
    "H_Mappings=df_MAF['H_Scores'].to_list()"
   ]
  },
  {
   "cell_type": "code",
   "execution_count": 121,
   "metadata": {},
   "outputs": [
    {
     "name": "stdout",
     "output_type": "stream",
     "text": [
      "[[0.7622761]]\n"
     ]
    }
   ],
   "source": [
    "cos_sim=cosine_similarity(np.array(iab_embeddings[98]).reshape(1,-1),np.array(maf_embeddings[1]).reshape(1,-1))\n",
    "print(cos_sim)"
   ]
  },
  {
   "cell_type": "code",
   "execution_count": 122,
   "metadata": {},
   "outputs": [
    {
     "name": "stderr",
     "output_type": "stream",
     "text": [
      "  0%|          | 0/942 [00:00<?, ?it/s]"
     ]
    },
    {
     "name": "stderr",
     "output_type": "stream",
     "text": [
      "100%|██████████| 942/942 [01:07<00:00, 13.98it/s]\n"
     ]
    }
   ],
   "source": [
    "top_n_labels_new=[]\n",
    "top_n_cosines_new=[]\n",
    "top_n_nodes=[]\n",
    "top_n_node_ids=[]\n",
    "top_n_IAB_Candidates=[]\n",
    "top_n_H_scores=[]\n",
    "top_n_labels=[]\n",
    "top_n_cosines=[]\n",
    "\n",
    "for i in tqdm(range(len(maf_embeddings))):\n",
    "    similarities=[]\n",
    "    for j in range(len(iab_embeddings)):\n",
    "        cos_sim=cosine_similarity(np.array(iab_embeddings[j]).reshape(1,-1),np.array(maf_embeddings[i]).reshape(1,-1))\n",
    "        similarities.append([call[160+j],call[j],cos_sim])\n",
    "    \n",
    "    similarities.sort(key=lambda x: x[2], reverse=True)\n",
    "\n",
    "\n",
    "    #threshold logic needed\n",
    "    similarities=[x for x in similarities if x[2]>=0.7375]\n",
    "\n",
    "    \n",
    "    \n",
    "    if len(similarities)==0:\n",
    "        similarities.append(['No_Pred','No_Pred',[[0]]])\n",
    "    \n",
    "    temp_iab_labels=[]\n",
    "    temp_cosines=[]\n",
    "\n",
    "\n",
    "    for items in similarities:\n",
    "        #print(items[1])\n",
    "        temp_iab_labels.append(items[1])\n",
    "        temp_cosines.append(items[2][0])\n",
    "        \n",
    "        top_n_labels_new.append(items[1])\n",
    "        top_n_cosines_new.append(items[2][0])\n",
    "        top_n_nodes.append(nodes[i])\n",
    "        top_n_node_ids.append(node_id[i])\n",
    "        top_n_IAB_Candidates.append(IAB_Candidates[i])\n",
    "        top_n_H_scores.append(H_Mappings[i])\n",
    "\n",
    "\n",
    "    \n",
    "    top_n_labels.append(temp_iab_labels)\n",
    "    top_n_cosines.append(temp_cosines)\n"
   ]
  },
  {
   "cell_type": "code",
   "execution_count": 123,
   "metadata": {},
   "outputs": [
    {
     "data": {
      "text/plain": [
       "942"
      ]
     },
     "execution_count": 123,
     "metadata": {},
     "output_type": "execute_result"
    }
   ],
   "source": [
    "len(top_n_labels)"
   ]
  },
  {
   "cell_type": "code",
   "execution_count": 124,
   "metadata": {},
   "outputs": [
    {
     "data": {
      "text/plain": [
       "101008"
      ]
     },
     "execution_count": 124,
     "metadata": {},
     "output_type": "execute_result"
    }
   ],
   "source": [
    "len(top_n_labels_new)"
   ]
  },
  {
   "cell_type": "code",
   "execution_count": 125,
   "metadata": {},
   "outputs": [
    {
     "data": {
      "text/plain": [
       "942"
      ]
     },
     "execution_count": 125,
     "metadata": {},
     "output_type": "execute_result"
    }
   ],
   "source": [
    "len(top_n_cosines)"
   ]
  },
  {
   "cell_type": "code",
   "execution_count": 126,
   "metadata": {},
   "outputs": [],
   "source": [
    "# print(top_n_labels)\n",
    "# print(top_n_cosines)"
   ]
  },
  {
   "cell_type": "code",
   "execution_count": 127,
   "metadata": {},
   "outputs": [],
   "source": [
    "MAF_predictions=df_MAF['IAB_Candidates'].to_list()"
   ]
  },
  {
   "cell_type": "code",
   "execution_count": 128,
   "metadata": {},
   "outputs": [
    {
     "data": {
      "text/plain": [
       "\"['Business and Finance', 'Education industry', 'Entertainment Industry', 'Financial Industry', 'Healthcare Industry', 'Logistics and Transportation Industry', 'Media Industry', 'Technology Industry', 'Telecommunications Industry', 'Automotive Industry', 'Aviation Industry', 'Events and Attractions', 'Fashion Events', 'Concerts & Music Events', 'Medical Health', 'Travel', 'Africa Travel', 'Asia Travel', 'Australia and Oceania Travel', 'Europe Travel', 'North America Travel', 'South America Travel', 'Air Travel', 'Entertainment Industry', 'Media Industry']\""
      ]
     },
     "execution_count": 128,
     "metadata": {},
     "output_type": "execute_result"
    }
   ],
   "source": [
    "MAF_predictions[230]"
   ]
  },
  {
   "cell_type": "code",
   "execution_count": 129,
   "metadata": {},
   "outputs": [],
   "source": [
    "candidate_count=0\n",
    "hit_count=0\n",
    "precision=0\n",
    "recall=0\n",
    "count=0\n",
    "f1=0\n",
    "\n",
    "for predictions, labels in zip(MAF_predictions,top_n_labels):\n",
    "    count+=1\n",
    "    proper=ast.literal_eval(predictions)\n",
    "    prec, reca=calculate_precision_recall(predictions, labels)\n",
    "\n",
    "    f=calculate_f1_score(prec, reca)\n",
    "    precision+=prec\n",
    "    recall+=reca\n",
    "    f1+=f\n",
    "\n",
    "\n",
    "    candidate_count+=len(proper)\n",
    "    for items in labels:\n",
    "        if items in proper:\n",
    "            hit_count+=1"
   ]
  },
  {
   "cell_type": "code",
   "execution_count": 130,
   "metadata": {},
   "outputs": [
    {
     "data": {
      "text/plain": [
       "0.8713096139288418"
      ]
     },
     "execution_count": 130,
     "metadata": {},
     "output_type": "execute_result"
    }
   ],
   "source": [
    "hit_count/candidate_count"
   ]
  },
  {
   "cell_type": "code",
   "execution_count": 131,
   "metadata": {},
   "outputs": [
    {
     "data": {
      "text/plain": [
       "0.028025503377093076"
      ]
     },
     "execution_count": 131,
     "metadata": {},
     "output_type": "execute_result"
    }
   ],
   "source": [
    "precision/942"
   ]
  },
  {
   "cell_type": "code",
   "execution_count": 132,
   "metadata": {},
   "outputs": [
    {
     "data": {
      "text/plain": [
       "0.06680706646499002"
      ]
     },
     "execution_count": 132,
     "metadata": {},
     "output_type": "execute_result"
    }
   ],
   "source": [
    "recall/942"
   ]
  },
  {
   "cell_type": "code",
   "execution_count": 133,
   "metadata": {},
   "outputs": [
    {
     "data": {
      "text/plain": [
       "0.030797604420095312"
      ]
     },
     "execution_count": 133,
     "metadata": {},
     "output_type": "execute_result"
    }
   ],
   "source": [
    "f1/942"
   ]
  },
  {
   "cell_type": "code",
   "execution_count": 134,
   "metadata": {},
   "outputs": [
    {
     "data": {
      "text/plain": [
       "942"
      ]
     },
     "execution_count": 134,
     "metadata": {},
     "output_type": "execute_result"
    }
   ],
   "source": [
    "count"
   ]
  },
  {
   "cell_type": "code",
   "execution_count": 135,
   "metadata": {},
   "outputs": [
    {
     "data": {
      "text/plain": [
       "2642"
      ]
     },
     "execution_count": 135,
     "metadata": {},
     "output_type": "execute_result"
    }
   ],
   "source": [
    "candidate_count"
   ]
  },
  {
   "cell_type": "code",
   "execution_count": 136,
   "metadata": {},
   "outputs": [],
   "source": [
    "dic={'item':top_n_nodes, 'node_id': top_n_node_ids, 'IAB_Candidates': top_n_IAB_Candidates,\n",
    "'predictions': top_n_labels_new, 'cosine_predicted': top_n_cosines_new, \"H_Mapping_scores\": top_n_H_scores }"
   ]
  },
  {
   "cell_type": "code",
   "execution_count": 137,
   "metadata": {},
   "outputs": [],
   "source": [
    "df_MAF_new=pd.DataFrame.from_dict(dic)"
   ]
  },
  {
   "cell_type": "code",
   "execution_count": 139,
   "metadata": {},
   "outputs": [],
   "source": [
    "df_MAF_new.to_excel('results/e5_results_0.7375_new.xlsx')"
   ]
  },
  {
   "cell_type": "code",
   "execution_count": 140,
   "metadata": {},
   "outputs": [
    {
     "data": {
      "text/plain": [
       "(101008, 6)"
      ]
     },
     "execution_count": 140,
     "metadata": {},
     "output_type": "execute_result"
    }
   ],
   "source": [
    "df_MAF_new.shape"
   ]
  },
  {
   "cell_type": "code",
   "execution_count": 141,
   "metadata": {},
   "outputs": [],
   "source": [
    "#Top 100 in predictions but not in embedding"
   ]
  },
  {
   "cell_type": "code",
   "execution_count": 142,
   "metadata": {},
   "outputs": [],
   "source": [
    "df_MAF_new=df_MAF_new.sort_values(by='cosine_predicted', ascending=False)"
   ]
  },
  {
   "cell_type": "code",
   "execution_count": 143,
   "metadata": {},
   "outputs": [
    {
     "data": {
      "text/plain": [
       "item                convertible\n",
       "node_id                    6584\n",
       "IAB_Candidates       ['Travel']\n",
       "predictions         Convertible\n",
       "cosine_predicted    [1.0000002]\n",
       "H_Mapping_scores          [1.0]\n",
       "Name: 11398, dtype: object"
      ]
     },
     "execution_count": 143,
     "metadata": {},
     "output_type": "execute_result"
    }
   ],
   "source": [
    "df_MAF_new.iloc[0]"
   ]
  },
  {
   "cell_type": "code",
   "execution_count": 144,
   "metadata": {},
   "outputs": [],
   "source": [
    "top_100_node=[]\n",
    "top_100_embedding_pred=[]\n",
    "top_100_H_pred=[]\n",
    "top_100_cos_pred=[]\n",
    "top_100_H_score=[]"
   ]
  },
  {
   "cell_type": "code",
   "execution_count": 145,
   "metadata": {},
   "outputs": [],
   "source": [
    "items=df_MAF_new['item'].to_list()\n",
    "IAB_Candidates=df_MAF_new['IAB_Candidates'].to_list()\n",
    "predictions=df_MAF_new['predictions'].to_list()\n",
    "cosine_predicted=df_MAF_new['cosine_predicted'].to_list()\n",
    "H_Mapping_scores=df_MAF_new['H_Mapping_scores'].to_list()"
   ]
  },
  {
   "cell_type": "code",
   "execution_count": 146,
   "metadata": {},
   "outputs": [
    {
     "name": "stderr",
     "output_type": "stream",
     "text": [
      "240it [00:00, 7508.43it/s]\n"
     ]
    }
   ],
   "source": [
    "for item,IAB,pred,cos,H_map in tqdm(zip(items,IAB_Candidates,predictions,cosine_predicted,H_Mapping_scores)):\n",
    "    pred_list=ast.literal_eval(IAB)\n",
    "    if pred not in pred_list:\n",
    "        top_100_node.append(item)\n",
    "        top_100_embedding_pred.append(pred)\n",
    "        top_100_H_pred.append(IAB)\n",
    "        top_100_cos_pred.append(cos)\n",
    "        top_100_H_score.append(H_map)\n",
    "    if len(top_100_node)==100:\n",
    "        break"
   ]
  },
  {
   "cell_type": "code",
   "execution_count": 147,
   "metadata": {},
   "outputs": [],
   "source": [
    "top_100_dic={'items':top_100_node, 'Embedding Predictions': top_100_embedding_pred,\n",
    " \"H_Mapping_Pred\": top_100_H_pred, 'Predicted Cosine': top_100_cos_pred, \n",
    " 'H Mapping Cosine': top_100_H_score}"
   ]
  },
  {
   "cell_type": "code",
   "execution_count": 148,
   "metadata": {},
   "outputs": [],
   "source": [
    "df_top_100=pd.DataFrame.from_dict(top_100_dic)"
   ]
  },
  {
   "cell_type": "code",
   "execution_count": 149,
   "metadata": {},
   "outputs": [],
   "source": [
    "df_top_100.to_excel('results/e5_Top_100_Not_In_H.xlsx', index=False)"
   ]
  },
  {
   "cell_type": "code",
   "execution_count": null,
   "metadata": {},
   "outputs": [],
   "source": [
    "#Top 100 in H but not in Embedding"
   ]
  },
  {
   "cell_type": "code",
   "execution_count": 150,
   "metadata": {},
   "outputs": [
    {
     "name": "stdout",
     "output_type": "stream",
     "text": [
      "['Dogs', 'Large Animals', 'Cats', 'Pets', 'Commercial Trucks', 'Reptiles', 'Polar Travel', 'Shaving', 'Pickup Trucks', 'Grocery Shopping', 'SUV', 'Smart Home', 'Oral care', 'Single Life', 'Bath and Shower', 'Home Security', 'Perfume and Fragrance', 'Healthy Living', 'Zoos & Aquariums', 'Sedan', 'Fitness and Exercise', 'Wellness', 'Station Wagon', 'Hair Care', 'Parks & Nature', 'Luxury Cars', 'Auto Type', 'North America Travel', 'Parenting', 'Beauty', 'Home Improvement', 'Medical Health', 'Family and Relationships', 'Hobbies & Interests', 'Home Appliances', 'Automotive', 'Auto Repair', 'Graduation', 'Convertible', 'Deodorant and Antiperspirant', 'Smartphones', 'Holiday Shopping', 'Science', 'Minivan', 'Music and Audio', 'Makeup and Accessories', 'Camping', 'Prom', 'Daycare and Pre-School', 'Birthday', 'Auto Parts', 'Birds', 'Style & Fashion', 'Cameras and Camcorders', 'Desktops', 'Home & Garden', 'Video Gaming', 'Laptops', 'Motorcycles', 'Home Entertaining', 'Healthcare Industry', 'Malls & Shopping Centers', 'Religion & Spirituality', 'Air Travel', 'Asia Travel', 'Van', 'Landscaping', 'Apartments', 'Fine Art', 'Rail Travel', 'Household Supplies', 'Flower Shopping', 'Non-Alcoholic Beverages']\n",
      "[array([0.8186742], dtype=float32), array([0.8101541], dtype=float32), array([0.80155396], dtype=float32), array([0.79299104], dtype=float32), array([0.7738803], dtype=float32), array([0.77344036], dtype=float32), array([0.7724657], dtype=float32), array([0.77023536], dtype=float32), array([0.7678447], dtype=float32), array([0.76561904], dtype=float32), array([0.764642], dtype=float32), array([0.7627585], dtype=float32), array([0.76255274], dtype=float32), array([0.7602618], dtype=float32), array([0.7594846], dtype=float32), array([0.75940585], dtype=float32), array([0.75825405], dtype=float32), array([0.7570921], dtype=float32), array([0.75690883], dtype=float32), array([0.75632894], dtype=float32), array([0.75580347], dtype=float32), array([0.7551437], dtype=float32), array([0.75513494], dtype=float32), array([0.75474024], dtype=float32), array([0.7544021], dtype=float32), array([0.7532651], dtype=float32), array([0.75266886], dtype=float32), array([0.7508058], dtype=float32), array([0.7504462], dtype=float32), array([0.7498683], dtype=float32), array([0.74982417], dtype=float32), array([0.7491493], dtype=float32), array([0.74901366], dtype=float32), array([0.74846876], dtype=float32), array([0.7470599], dtype=float32), array([0.7461732], dtype=float32), array([0.7456445], dtype=float32), array([0.74557495], dtype=float32), array([0.7446283], dtype=float32), array([0.7445086], dtype=float32), array([0.74440795], dtype=float32), array([0.74433696], dtype=float32), array([0.7440256], dtype=float32), array([0.7434818], dtype=float32), array([0.74334353], dtype=float32), array([0.7432684], dtype=float32), array([0.7430062], dtype=float32), array([0.74281824], dtype=float32), array([0.7426133], dtype=float32), array([0.74240774], dtype=float32), array([0.7422025], dtype=float32), array([0.74196684], dtype=float32), array([0.7419063], dtype=float32), array([0.74166274], dtype=float32), array([0.7415803], dtype=float32), array([0.7415669], dtype=float32), array([0.74155927], dtype=float32), array([0.7413042], dtype=float32), array([0.7411224], dtype=float32), array([0.74090755], dtype=float32), array([0.74089795], dtype=float32), array([0.74077153], dtype=float32), array([0.7407441], dtype=float32), array([0.740707], dtype=float32), array([0.74050534], dtype=float32), array([0.74030936], dtype=float32), array([0.74003696], dtype=float32), array([0.738968], dtype=float32), array([0.73874426], dtype=float32), array([0.73852664], dtype=float32), array([0.73848426], dtype=float32), array([0.7383325], dtype=float32), array([0.73751986], dtype=float32)]\n"
     ]
    }
   ],
   "source": [
    "print(top_n_labels[5])\n",
    "print(top_n_cosines[5])"
   ]
  },
  {
   "cell_type": "code",
   "execution_count": 151,
   "metadata": {},
   "outputs": [],
   "source": [
    "nodes=df_MAF['item'].to_list()\n",
    "# node_id=df_MAF['node_id'].to_list()\n",
    "IAB_Candidates=df_MAF['IAB_Candidates'].to_list()\n",
    "H_Mappings=df_MAF['H_Scores'].to_list()"
   ]
  },
  {
   "cell_type": "code",
   "execution_count": 152,
   "metadata": {},
   "outputs": [
    {
     "name": "stderr",
     "output_type": "stream",
     "text": [
      "942it [00:00, 16919.32it/s]\n"
     ]
    }
   ],
   "source": [
    "mid_node=[]\n",
    "mid_IAB=[]\n",
    "mid_label=[]\n",
    "mid_cos=[]\n",
    "mid_H_map=[]\n",
    "\n",
    "for node, IAB, label, cos, H_map in tqdm(zip(nodes,IAB_Candidates,top_n_labels,top_n_cosines,H_Mappings)):\n",
    "    IAB_list=ast.literal_eval(IAB)\n",
    "    H_Map_list=ast.literal_eval(H_map)\n",
    "    for IAB_item, H_Map_item in zip(IAB_list,H_Map_list):\n",
    "        mid_node.append(node)\n",
    "        mid_IAB.append(IAB_item)\n",
    "        mid_label.append(label)\n",
    "        mid_cos.append(cos)\n",
    "        mid_H_map.append(H_Map_item)"
   ]
  },
  {
   "cell_type": "code",
   "execution_count": 153,
   "metadata": {},
   "outputs": [],
   "source": [
    "dic={'item':mid_node, 'IAB_Candidates': mid_IAB,\n",
    "'predictions': mid_label, 'cosine_predicted': mid_cos, \"H_Mapping_scores\": mid_H_map}"
   ]
  },
  {
   "cell_type": "code",
   "execution_count": 154,
   "metadata": {},
   "outputs": [],
   "source": [
    "df_lol_100=pd.DataFrame.from_dict(dic)"
   ]
  },
  {
   "cell_type": "code",
   "execution_count": 155,
   "metadata": {},
   "outputs": [
    {
     "data": {
      "text/html": [
       "<div>\n",
       "<style scoped>\n",
       "    .dataframe tbody tr th:only-of-type {\n",
       "        vertical-align: middle;\n",
       "    }\n",
       "\n",
       "    .dataframe tbody tr th {\n",
       "        vertical-align: top;\n",
       "    }\n",
       "\n",
       "    .dataframe thead th {\n",
       "        text-align: right;\n",
       "    }\n",
       "</style>\n",
       "<table border=\"1\" class=\"dataframe\">\n",
       "  <thead>\n",
       "    <tr style=\"text-align: right;\">\n",
       "      <th></th>\n",
       "      <th>item</th>\n",
       "      <th>IAB_Candidates</th>\n",
       "      <th>predictions</th>\n",
       "      <th>cosine_predicted</th>\n",
       "      <th>H_Mapping_scores</th>\n",
       "    </tr>\n",
       "  </thead>\n",
       "  <tbody>\n",
       "    <tr>\n",
       "      <th>0</th>\n",
       "      <td>closet</td>\n",
       "      <td>Style &amp; Fashion</td>\n",
       "      <td>[Shopping, Convertible, Camping, Birthday, Van...</td>\n",
       "      <td>[[0.81433314], [0.8021967], [0.80011946], [0.7...</td>\n",
       "      <td>0.726366</td>\n",
       "    </tr>\n",
       "    <tr>\n",
       "      <th>1</th>\n",
       "      <td>closet</td>\n",
       "      <td>Women's Clothing</td>\n",
       "      <td>[Shopping, Convertible, Camping, Birthday, Van...</td>\n",
       "      <td>[[0.81433314], [0.8021967], [0.80011946], [0.7...</td>\n",
       "      <td>0.718773</td>\n",
       "    </tr>\n",
       "    <tr>\n",
       "      <th>2</th>\n",
       "      <td>closet</td>\n",
       "      <td>Men's Clothing</td>\n",
       "      <td>[Shopping, Convertible, Camping, Birthday, Van...</td>\n",
       "      <td>[[0.81433314], [0.8021967], [0.80011946], [0.7...</td>\n",
       "      <td>0.723078</td>\n",
       "    </tr>\n",
       "    <tr>\n",
       "      <th>3</th>\n",
       "      <td>closet</td>\n",
       "      <td>Men's Formal Wear</td>\n",
       "      <td>[Shopping, Convertible, Camping, Birthday, Van...</td>\n",
       "      <td>[[0.81433314], [0.8021967], [0.80011946], [0.7...</td>\n",
       "      <td>0.710873</td>\n",
       "    </tr>\n",
       "    <tr>\n",
       "      <th>4</th>\n",
       "      <td>rosehip</td>\n",
       "      <td>Flower Shopping</td>\n",
       "      <td>[Flower Shopping, Oral care, Hair Care, Green ...</td>\n",
       "      <td>[[0.77521855], [0.77189094], [0.76413876], [0....</td>\n",
       "      <td>0.742494</td>\n",
       "    </tr>\n",
       "  </tbody>\n",
       "</table>\n",
       "</div>"
      ],
      "text/plain": [
       "      item     IAB_Candidates  \\\n",
       "0   closet    Style & Fashion   \n",
       "1   closet   Women's Clothing   \n",
       "2   closet     Men's Clothing   \n",
       "3   closet  Men's Formal Wear   \n",
       "4  rosehip    Flower Shopping   \n",
       "\n",
       "                                         predictions  \\\n",
       "0  [Shopping, Convertible, Camping, Birthday, Van...   \n",
       "1  [Shopping, Convertible, Camping, Birthday, Van...   \n",
       "2  [Shopping, Convertible, Camping, Birthday, Van...   \n",
       "3  [Shopping, Convertible, Camping, Birthday, Van...   \n",
       "4  [Flower Shopping, Oral care, Hair Care, Green ...   \n",
       "\n",
       "                                    cosine_predicted  H_Mapping_scores  \n",
       "0  [[0.81433314], [0.8021967], [0.80011946], [0.7...          0.726366  \n",
       "1  [[0.81433314], [0.8021967], [0.80011946], [0.7...          0.718773  \n",
       "2  [[0.81433314], [0.8021967], [0.80011946], [0.7...          0.723078  \n",
       "3  [[0.81433314], [0.8021967], [0.80011946], [0.7...          0.710873  \n",
       "4  [[0.77521855], [0.77189094], [0.76413876], [0....          0.742494  "
      ]
     },
     "execution_count": 155,
     "metadata": {},
     "output_type": "execute_result"
    }
   ],
   "source": [
    "df_lol_100.head()"
   ]
  },
  {
   "cell_type": "code",
   "execution_count": 156,
   "metadata": {},
   "outputs": [],
   "source": [
    "df_lol_100=df_lol_100.sort_values(by='H_Mapping_scores', ascending=False)"
   ]
  },
  {
   "cell_type": "code",
   "execution_count": 157,
   "metadata": {},
   "outputs": [
    {
     "data": {
      "text/html": [
       "<div>\n",
       "<style scoped>\n",
       "    .dataframe tbody tr th:only-of-type {\n",
       "        vertical-align: middle;\n",
       "    }\n",
       "\n",
       "    .dataframe tbody tr th {\n",
       "        vertical-align: top;\n",
       "    }\n",
       "\n",
       "    .dataframe thead th {\n",
       "        text-align: right;\n",
       "    }\n",
       "</style>\n",
       "<table border=\"1\" class=\"dataframe\">\n",
       "  <thead>\n",
       "    <tr style=\"text-align: right;\">\n",
       "      <th></th>\n",
       "      <th>item</th>\n",
       "      <th>IAB_Candidates</th>\n",
       "      <th>predictions</th>\n",
       "      <th>cosine_predicted</th>\n",
       "      <th>H_Mapping_scores</th>\n",
       "    </tr>\n",
       "  </thead>\n",
       "  <tbody>\n",
       "    <tr>\n",
       "      <th>2613</th>\n",
       "      <td>wagon</td>\n",
       "      <td>Travel</td>\n",
       "      <td>[Station Wagon, Van, Sedan, SUV, Coupe, Campin...</td>\n",
       "      <td>[[0.883122], [0.8603968], [0.8480902], [0.8441...</td>\n",
       "      <td>1.0</td>\n",
       "    </tr>\n",
       "    <tr>\n",
       "      <th>2614</th>\n",
       "      <td>drop</td>\n",
       "      <td>Real Estate</td>\n",
       "      <td>[Graduation, Convertible, Dating, Science, Cou...</td>\n",
       "      <td>[[0.8278803], [0.82517684], [0.81389654], [0.8...</td>\n",
       "      <td>1.0</td>\n",
       "    </tr>\n",
       "    <tr>\n",
       "      <th>2615</th>\n",
       "      <td>drop</td>\n",
       "      <td>Travel</td>\n",
       "      <td>[Graduation, Convertible, Dating, Science, Cou...</td>\n",
       "      <td>[[0.8278803], [0.82517684], [0.81389654], [0.8...</td>\n",
       "      <td>1.0</td>\n",
       "    </tr>\n",
       "    <tr>\n",
       "      <th>2629</th>\n",
       "      <td>mousetrap</td>\n",
       "      <td>Home &amp; Garden</td>\n",
       "      <td>[Cats, Convertible, Reptiles, Pets, Station Wa...</td>\n",
       "      <td>[[0.80222684], [0.7876469], [0.7850667], [0.77...</td>\n",
       "      <td>1.0</td>\n",
       "    </tr>\n",
       "    <tr>\n",
       "      <th>2626</th>\n",
       "      <td>ring_mail</td>\n",
       "      <td>Events and Attractions</td>\n",
       "      <td>[Home Security, Smart Home, Wedding, Home Ente...</td>\n",
       "      <td>[[0.7973201], [0.796212], [0.7920143], [0.7918...</td>\n",
       "      <td>1.0</td>\n",
       "    </tr>\n",
       "  </tbody>\n",
       "</table>\n",
       "</div>"
      ],
      "text/plain": [
       "           item          IAB_Candidates  \\\n",
       "2613      wagon                  Travel   \n",
       "2614       drop             Real Estate   \n",
       "2615       drop                  Travel   \n",
       "2629  mousetrap           Home & Garden   \n",
       "2626  ring_mail  Events and Attractions   \n",
       "\n",
       "                                            predictions  \\\n",
       "2613  [Station Wagon, Van, Sedan, SUV, Coupe, Campin...   \n",
       "2614  [Graduation, Convertible, Dating, Science, Cou...   \n",
       "2615  [Graduation, Convertible, Dating, Science, Cou...   \n",
       "2629  [Cats, Convertible, Reptiles, Pets, Station Wa...   \n",
       "2626  [Home Security, Smart Home, Wedding, Home Ente...   \n",
       "\n",
       "                                       cosine_predicted  H_Mapping_scores  \n",
       "2613  [[0.883122], [0.8603968], [0.8480902], [0.8441...               1.0  \n",
       "2614  [[0.8278803], [0.82517684], [0.81389654], [0.8...               1.0  \n",
       "2615  [[0.8278803], [0.82517684], [0.81389654], [0.8...               1.0  \n",
       "2629  [[0.80222684], [0.7876469], [0.7850667], [0.77...               1.0  \n",
       "2626  [[0.7973201], [0.796212], [0.7920143], [0.7918...               1.0  "
      ]
     },
     "execution_count": 157,
     "metadata": {},
     "output_type": "execute_result"
    }
   ],
   "source": [
    "df_lol_100.head()"
   ]
  },
  {
   "cell_type": "code",
   "execution_count": 158,
   "metadata": {},
   "outputs": [],
   "source": [
    "top_100_node=[]\n",
    "top_100_embedding_pred=[]\n",
    "top_100_H_pred=[]\n",
    "top_100_cos_pred=[]\n",
    "top_100_H_score=[]"
   ]
  },
  {
   "cell_type": "code",
   "execution_count": 159,
   "metadata": {},
   "outputs": [],
   "source": [
    "items=df_lol_100['item'].to_list()\n",
    "IAB_Candidates=df_lol_100['IAB_Candidates'].to_list()\n",
    "predictions=df_lol_100['predictions'].to_list()\n",
    "cosine_predicted=df_lol_100['cosine_predicted'].to_list()\n",
    "H_Mapping_scores=df_lol_100['H_Mapping_scores'].to_list()"
   ]
  },
  {
   "cell_type": "code",
   "execution_count": 160,
   "metadata": {},
   "outputs": [
    {
     "name": "stderr",
     "output_type": "stream",
     "text": [
      "1005it [00:00, 269088.77it/s]\n"
     ]
    }
   ],
   "source": [
    "for item,IAB,pred,cos,H_map in tqdm(zip(items,IAB_Candidates,predictions,cosine_predicted,H_Mapping_scores)):\n",
    "    #pred_list=ast.literal_eval(pred)\n",
    "    if IAB not in pred:\n",
    "        top_100_node.append(item)\n",
    "        top_100_embedding_pred.append(pred)\n",
    "        top_100_H_pred.append(IAB)\n",
    "        top_100_cos_pred.append(cos)\n",
    "        top_100_H_score.append(H_map)\n",
    "    if len(top_100_node)==100:\n",
    "        break"
   ]
  },
  {
   "cell_type": "code",
   "execution_count": 161,
   "metadata": {},
   "outputs": [],
   "source": [
    "top_100_dic={'items':top_100_node, 'Embedding Predictions': top_100_embedding_pred,\n",
    " \"H_Mapping_Pred\": top_100_H_pred, 'Predicted Cosine': top_100_cos_pred, \n",
    " 'H Mapping Cosine': top_100_H_score}"
   ]
  },
  {
   "cell_type": "code",
   "execution_count": 162,
   "metadata": {},
   "outputs": [],
   "source": [
    "df_top_100=pd.DataFrame.from_dict(top_100_dic)"
   ]
  },
  {
   "cell_type": "code",
   "execution_count": 163,
   "metadata": {},
   "outputs": [],
   "source": [
    "df_top_100.to_excel('results/e5_Top_100_Not_In_e5.xlsx', index=False)"
   ]
  }
 ],
 "metadata": {
  "kernelspec": {
   "display_name": "KG",
   "language": "python",
   "name": "python3"
  },
  "language_info": {
   "codemirror_mode": {
    "name": "ipython",
    "version": 3
   },
   "file_extension": ".py",
   "mimetype": "text/x-python",
   "name": "python",
   "nbconvert_exporter": "python",
   "pygments_lexer": "ipython3",
   "version": "3.11.4"
  },
  "orig_nbformat": 4
 },
 "nbformat": 4,
 "nbformat_minor": 2
}
