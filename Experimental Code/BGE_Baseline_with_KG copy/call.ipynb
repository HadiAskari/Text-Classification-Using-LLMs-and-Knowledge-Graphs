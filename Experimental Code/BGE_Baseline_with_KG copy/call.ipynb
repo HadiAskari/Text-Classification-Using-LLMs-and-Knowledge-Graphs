{
 "cells": [
  {
   "cell_type": "code",
   "execution_count": 13,
   "metadata": {},
   "outputs": [],
   "source": [
    "import os\n",
    "import requests\n",
    "import json\n",
    "import openai\n",
    "import pickle as pkl\n",
    "import requests\n",
    "import json\n",
    "from sklearn.metrics.pairwise import cosine_similarity\n",
    "import pandas as pd\n",
    "from time import sleep\n",
    "from tqdm.auto import tqdm\n",
    "import numpy as np\n",
    "import ast\n",
    "from sentence_transformers import SentenceTransformer\n",
    "import tiktoken"
   ]
  },
  {
   "cell_type": "code",
   "execution_count": 147,
   "metadata": {},
   "outputs": [],
   "source": [
    "with open('Data/KG_with_ConceptNet_Two_hop.pkl', 'rb') as f:\n",
    "    IAB_KG=pkl.load(f)"
   ]
  },
  {
   "cell_type": "code",
   "execution_count": 3,
   "metadata": {},
   "outputs": [],
   "source": [
    "with open('Data/KG_with_ConceptNet_One_hop.pkl', 'rb') as f:\n",
    "    IAB_KG=pkl.load(f)"
   ]
  },
  {
   "cell_type": "code",
   "execution_count": 4,
   "metadata": {},
   "outputs": [],
   "source": [
    "with open('Data/MAF_KG.pkl', 'rb') as f1:\n",
    "    MAF_KG=pkl.load(f1)"
   ]
  },
  {
   "cell_type": "code",
   "execution_count": 5,
   "metadata": {},
   "outputs": [
    {
     "data": {
      "text/plain": [
       "('head_south', 'is_related_to', 'Birds')"
      ]
     },
     "execution_count": 5,
     "metadata": {},
     "output_type": "execute_result"
    }
   ],
   "source": [
    "IAB_KG[0]"
   ]
  },
  {
   "cell_type": "code",
   "execution_count": 6,
   "metadata": {},
   "outputs": [
    {
     "data": {
      "text/plain": [
       "('brassware', 'is_related_to', 'brass')"
      ]
     },
     "execution_count": 6,
     "metadata": {},
     "output_type": "execute_result"
    }
   ],
   "source": [
    "MAF_KG[0]"
   ]
  },
  {
   "cell_type": "code",
   "execution_count": 148,
   "metadata": {},
   "outputs": [
    {
     "name": "stderr",
     "output_type": "stream",
     "text": [
      "100%|██████████| 835757/835757 [00:00<00:00, 2652270.90it/s]\n"
     ]
    }
   ],
   "source": [
    "head=[]\n",
    "relation=[]\n",
    "tail=[]\n",
    "for items in tqdm(IAB_KG):\n",
    "    head.append(items[0])\n",
    "    relation.append(items[1])\n",
    "    tail.append(items[2])\n",
    "dic={\"IAB Keyword\": tail, \"Relation\": relation, \"Object\": head}\n",
    "df_IAB_KG=pd.DataFrame.from_dict(dic)"
   ]
  },
  {
   "cell_type": "code",
   "execution_count": 150,
   "metadata": {},
   "outputs": [
    {
     "name": "stderr",
     "output_type": "stream",
     "text": [
      "100%|██████████| 181703/181703 [00:00<00:00, 1734616.46it/s]\n"
     ]
    }
   ],
   "source": [
    "head=[]\n",
    "relation=[]\n",
    "tail=[]\n",
    "for items in tqdm(MAF_KG):\n",
    "    head.append(items[0])\n",
    "    relation.append(items[1])\n",
    "    tail.append(items[2])\n",
    "dic={\"MAF Keyword\": tail, \"Relation\": relation, \"Object\": head}\n",
    "df_MAF_KG=pd.DataFrame.from_dict(dic)"
   ]
  },
  {
   "cell_type": "code",
   "execution_count": 152,
   "metadata": {},
   "outputs": [],
   "source": [
    "df_initialKG_only_H=pd.read_csv('data/InitialKG_Only_H.csv')"
   ]
  },
  {
   "cell_type": "code",
   "execution_count": 153,
   "metadata": {},
   "outputs": [],
   "source": [
    "IAB_keywords=df_initialKG_only_H.columns.to_list()"
   ]
  },
  {
   "cell_type": "code",
   "execution_count": 154,
   "metadata": {},
   "outputs": [
    {
     "name": "stdout",
     "output_type": "stream",
     "text": [
      "1536\n"
     ]
    }
   ],
   "source": [
    "with open('azure-configuration.json') as inputfile:\n",
    "    azureconfig = json.load(inputfile)\n",
    "openai.api_key = azureconfig['key'] \n",
    "openai.api_base = azureconfig['endpoint'] \n",
    "openai.api_type = 'azure'\n",
    "openai.api_version = '2023-05-15' # this may change in the future\n",
    "\n",
    "deployment_name= azureconfig['deployment_name']\n",
    "\n",
    "response = openai.Embedding.create(\n",
    "    input=\"Your text string goes here\",\n",
    "    engine=deployment_name\n",
    ")\n",
    "embeddings = response['data'][0]['embedding']\n",
    "print(len(embeddings))"
   ]
  },
  {
   "cell_type": "code",
   "execution_count": 155,
   "metadata": {},
   "outputs": [],
   "source": [
    "df_MAF=pd.read_csv('data/MAF_Evaluation.csv')"
   ]
  },
  {
   "cell_type": "code",
   "execution_count": 156,
   "metadata": {},
   "outputs": [],
   "source": [
    "df_IAB=pd.read_csv('data/IAB_Evaluation.csv')"
   ]
  },
  {
   "cell_type": "code",
   "execution_count": 157,
   "metadata": {},
   "outputs": [],
   "source": [
    "iab_labels=df_IAB['IAB_Label'].to_list()"
   ]
  },
  {
   "cell_type": "code",
   "execution_count": 158,
   "metadata": {},
   "outputs": [],
   "source": [
    "maf=df_MAF['item'].to_list()"
   ]
  },
  {
   "cell_type": "code",
   "execution_count": 159,
   "metadata": {},
   "outputs": [],
   "source": [
    "call=iab_labels+maf"
   ]
  },
  {
   "cell_type": "code",
   "execution_count": 160,
   "metadata": {},
   "outputs": [
    {
     "data": {
      "text/plain": [
       "1102"
      ]
     },
     "execution_count": 160,
     "metadata": {},
     "output_type": "execute_result"
    }
   ],
   "source": [
    "len(call)"
   ]
  },
  {
   "cell_type": "code",
   "execution_count": 161,
   "metadata": {},
   "outputs": [
    {
     "name": "stdout",
     "output_type": "stream",
     "text": [
      "['Hair Care', 'Shaving', 'Motorcycles', \"Women's Formal Wear\", \"Women's Clothing\", 'Retail Industry', 'Comedy Events', 'Household Supplies', 'Home Security', 'Polar Travel']\n"
     ]
    }
   ],
   "source": [
    "print(call[0:10])"
   ]
  },
  {
   "cell_type": "code",
   "execution_count": 162,
   "metadata": {},
   "outputs": [],
   "source": [
    "tokenizer = tiktoken.get_encoding(\"cl100k_base\")"
   ]
  },
  {
   "cell_type": "code",
   "execution_count": 163,
   "metadata": {},
   "outputs": [
    {
     "data": {
      "text/plain": [
       "<bound method NDFrame.head of                    IAB_Label  node_ids\n",
       "0                  Hair Care      1547\n",
       "1                    Shaving      6342\n",
       "2                Motorcycles     20159\n",
       "3        Women's Formal Wear     11540\n",
       "4           Women's Clothing       729\n",
       "..                       ...       ...\n",
       "155                Education       674\n",
       "156                     Cats      4362\n",
       "157        Primary Education     23605\n",
       "158     Books and Literature       460\n",
       "159  Non-Alcoholic Beverages     62645\n",
       "\n",
       "[160 rows x 2 columns]>"
      ]
     },
     "execution_count": 163,
     "metadata": {},
     "output_type": "execute_result"
    }
   ],
   "source": [
    "df_IAB.head"
   ]
  },
  {
   "cell_type": "code",
   "execution_count": 164,
   "metadata": {},
   "outputs": [
    {
     "name": "stderr",
     "output_type": "stream",
     "text": [
      "100%|██████████| 160/160 [00:09<00:00, 17.50it/s]\n"
     ]
    }
   ],
   "source": [
    "#create doc query\n",
    "expanded_call=[]\n",
    "\n",
    "for items in tqdm(iab_labels):\n",
    "    list_items=df_IAB_KG[df_IAB_KG['IAB Keyword']==items]['Object'].tolist()\n",
    "    string_list=\" \".join(list_items)\n",
    "    length=len(tokenizer.encode(string_list))\n",
    "    if length>=8192:\n",
    "        print(items)\n",
    "    expanded_call.append(string_list)\n",
    "\n"
   ]
  },
  {
   "cell_type": "code",
   "execution_count": 165,
   "metadata": {},
   "outputs": [
    {
     "name": "stderr",
     "output_type": "stream",
     "text": [
      "  0%|          | 0/942 [00:00<?, ?it/s]"
     ]
    },
    {
     "name": "stderr",
     "output_type": "stream",
     "text": [
      "100%|██████████| 942/942 [00:08<00:00, 105.07it/s]\n"
     ]
    }
   ],
   "source": [
    "for items in tqdm(maf):\n",
    "    list_items=df_MAF_KG[df_MAF_KG['MAF Keyword']==items]['Object'].tolist()\n",
    "    string_list=\" \".join(list_items)\n",
    "    length=len(tokenizer.encode(string_list))\n",
    "    if length>=8192:\n",
    "        print(items)\n",
    "    expanded_call.append(string_list)"
   ]
  },
  {
   "cell_type": "code",
   "execution_count": 241,
   "metadata": {},
   "outputs": [
    {
     "data": {
      "text/plain": [
       "'university action_performed_by_animals daylight greensman gardening green_roof brandscaping xeriscaping streetscaping find_outside intelligent_agent_activity landscape_gardening lawnmower weedeat parkomania lilyturf hard_landscaping rosebush garden artifact greensperson making yardwork landscape weedeating rock_garden potscaping'"
      ]
     },
     "execution_count": 241,
     "metadata": {},
     "output_type": "execute_result"
    }
   ],
   "source": [
    "expanded_call[21]"
   ]
  },
  {
   "cell_type": "code",
   "execution_count": 169,
   "metadata": {},
   "outputs": [],
   "source": [
    "total_embeddings=[]"
   ]
  },
  {
   "cell_type": "code",
   "execution_count": 170,
   "metadata": {},
   "outputs": [],
   "source": [
    "def create_embeddings(item,total_embeddings):\n",
    "    deployment_name= azureconfig['deployment_name']\n",
    "\n",
    "    response = openai.Embedding.create(\n",
    "        input=item,\n",
    "        engine=deployment_name\n",
    "    )\n",
    "    embeddings = response['data'][0]['embedding']\n",
    "    total_embeddings.append(embeddings)\n",
    "\n",
    "    "
   ]
  },
  {
   "cell_type": "code",
   "execution_count": 171,
   "metadata": {},
   "outputs": [
    {
     "name": "stderr",
     "output_type": "stream",
     "text": [
      "100%|██████████| 1102/1102 [03:03<00:00,  6.01it/s]\n"
     ]
    }
   ],
   "source": [
    "for items in tqdm(expanded_call):\n",
    "    create_embeddings(items,total_embeddings)"
   ]
  },
  {
   "cell_type": "code",
   "execution_count": 172,
   "metadata": {},
   "outputs": [
    {
     "data": {
      "text/plain": [
       "1102"
      ]
     },
     "execution_count": 172,
     "metadata": {},
     "output_type": "execute_result"
    }
   ],
   "source": [
    "len(total_embeddings)"
   ]
  },
  {
   "cell_type": "code",
   "execution_count": 173,
   "metadata": {},
   "outputs": [],
   "source": [
    "iab_embeddings=total_embeddings[0:160]"
   ]
  },
  {
   "cell_type": "code",
   "execution_count": 174,
   "metadata": {},
   "outputs": [],
   "source": [
    "maf_embeddings=total_embeddings[160:]"
   ]
  },
  {
   "cell_type": "code",
   "execution_count": 175,
   "metadata": {},
   "outputs": [],
   "source": [
    "def calculate_precision_recall(true_labels, predictions):\n",
    "    true_positives = sum(1 for pred in predictions if pred in true_labels)\n",
    "    false_positives = len(predictions) - true_positives\n",
    "    false_negatives = len(true_labels) - true_positives\n",
    "    \n",
    "    precision = true_positives / (true_positives + false_positives)\n",
    "    recall = true_positives / (true_positives + false_negatives)\n",
    "    \n",
    "    return precision, recall"
   ]
  },
  {
   "cell_type": "code",
   "execution_count": 176,
   "metadata": {},
   "outputs": [],
   "source": [
    "def calculate_f1_score(precision, recall):\n",
    "    if precision + recall == 0:\n",
    "        return 0\n",
    "    f1_score = 2 * (precision * recall) / (precision + recall)\n",
    "    return f1_score"
   ]
  },
  {
   "cell_type": "code",
   "execution_count": 177,
   "metadata": {},
   "outputs": [],
   "source": [
    "nodes=df_MAF['item'].to_list()\n",
    "node_id=df_MAF['node_id'].to_list()\n",
    "IAB_Candidates=df_MAF['IAB_Candidates'].to_list()\n",
    "H_Mappings=df_MAF['H_Scores'].to_list()"
   ]
  },
  {
   "cell_type": "code",
   "execution_count": 178,
   "metadata": {},
   "outputs": [
    {
     "name": "stdout",
     "output_type": "stream",
     "text": [
      "[[0.74721684]]\n"
     ]
    }
   ],
   "source": [
    "cos_sim=cosine_similarity(np.array(iab_embeddings[90]).reshape(1,-1),np.array(maf_embeddings[12]).reshape(1,-1))\n",
    "print(cos_sim)"
   ]
  },
  {
   "cell_type": "code",
   "execution_count": 229,
   "metadata": {},
   "outputs": [
    {
     "name": "stderr",
     "output_type": "stream",
     "text": [
      "100%|██████████| 942/942 [01:05<00:00, 14.30it/s]\n"
     ]
    }
   ],
   "source": [
    "top_n_labels_new=[]\n",
    "top_n_cosines_new=[]\n",
    "top_n_nodes=[]\n",
    "top_n_node_ids=[]\n",
    "top_n_IAB_Candidates=[]\n",
    "top_n_H_scores=[]\n",
    "top_n_labels=[]\n",
    "top_n_cosines=[]\n",
    "\n",
    "for i in tqdm(range(len(maf_embeddings))):\n",
    "    similarities=[]\n",
    "    for j in range(len(iab_embeddings)):\n",
    "        cos_sim=cosine_similarity(np.array(iab_embeddings[j]).reshape(1,-1),np.array(maf_embeddings[i]).reshape(1,-1))\n",
    "        similarities.append([call[160+j],call[j],cos_sim])\n",
    "    \n",
    "    similarities.sort(key=lambda x: x[2], reverse=True)\n",
    "\n",
    "\n",
    "    #threshold logic needed\n",
    "    similarities=[x for x in similarities if x[2]>=0.68]\n",
    "\n",
    "    \n",
    "    \n",
    "    if len(similarities)==0:\n",
    "        similarities.append(['No_Pred','No_Pred',[[0]]])\n",
    "    \n",
    "    temp_iab_labels=[]\n",
    "    temp_cosines=[]\n",
    "\n",
    "\n",
    "    for items in similarities:\n",
    "        #print(items[1])\n",
    "        temp_iab_labels.append(items[1])\n",
    "        temp_cosines.append(items[2][0])\n",
    "        \n",
    "        top_n_labels_new.append(items[1])\n",
    "        top_n_cosines_new.append(items[2][0])\n",
    "        top_n_nodes.append(nodes[i])\n",
    "        top_n_node_ids.append(node_id[i])\n",
    "        top_n_IAB_Candidates.append(IAB_Candidates[i])\n",
    "        top_n_H_scores.append(H_Mappings[i])\n",
    "\n",
    "\n",
    "    \n",
    "    top_n_labels.append(temp_iab_labels)\n",
    "    top_n_cosines.append(temp_cosines)\n"
   ]
  },
  {
   "cell_type": "code",
   "execution_count": 230,
   "metadata": {},
   "outputs": [
    {
     "data": {
      "text/plain": [
       "942"
      ]
     },
     "execution_count": 230,
     "metadata": {},
     "output_type": "execute_result"
    }
   ],
   "source": [
    "len(top_n_labels)"
   ]
  },
  {
   "cell_type": "code",
   "execution_count": 231,
   "metadata": {},
   "outputs": [
    {
     "data": {
      "text/plain": [
       "147512"
      ]
     },
     "execution_count": 231,
     "metadata": {},
     "output_type": "execute_result"
    }
   ],
   "source": [
    "len(top_n_labels_new)"
   ]
  },
  {
   "cell_type": "code",
   "execution_count": 232,
   "metadata": {},
   "outputs": [
    {
     "data": {
      "text/plain": [
       "942"
      ]
     },
     "execution_count": 232,
     "metadata": {},
     "output_type": "execute_result"
    }
   ],
   "source": [
    "len(top_n_cosines)"
   ]
  },
  {
   "cell_type": "code",
   "execution_count": 233,
   "metadata": {},
   "outputs": [],
   "source": [
    "MAF_predictions=df_MAF['IAB_Candidates'].to_list()"
   ]
  },
  {
   "cell_type": "code",
   "execution_count": 234,
   "metadata": {},
   "outputs": [],
   "source": [
    "candidate_count=0\n",
    "hit_count=0\n",
    "precision=0\n",
    "recall=0\n",
    "count=0\n",
    "f1=0\n",
    "\n",
    "for predictions, labels in zip(MAF_predictions,top_n_labels):\n",
    "    count+=1\n",
    "    proper=ast.literal_eval(predictions)\n",
    "    prec, reca=calculate_precision_recall(predictions, labels)\n",
    "\n",
    "    f=calculate_f1_score(prec, reca)\n",
    "    precision+=prec\n",
    "    recall+=reca\n",
    "    f1+=f\n",
    "\n",
    "\n",
    "    candidate_count+=len(proper)\n",
    "    for items in labels:\n",
    "        if items in proper:\n",
    "            hit_count+=1"
   ]
  },
  {
   "cell_type": "code",
   "execution_count": 235,
   "metadata": {},
   "outputs": [
    {
     "data": {
      "text/plain": [
       "0.9148372445117335"
      ]
     },
     "execution_count": 235,
     "metadata": {},
     "output_type": "execute_result"
    }
   ],
   "source": [
    "hit_count/candidate_count"
   ]
  },
  {
   "cell_type": "code",
   "execution_count": 236,
   "metadata": {},
   "outputs": [
    {
     "data": {
      "text/plain": [
       "0.017185849669570204"
      ]
     },
     "execution_count": 236,
     "metadata": {},
     "output_type": "execute_result"
    }
   ],
   "source": [
    "precision/942"
   ]
  },
  {
   "cell_type": "code",
   "execution_count": 237,
   "metadata": {},
   "outputs": [
    {
     "data": {
      "text/plain": [
       "0.07356003319116432"
      ]
     },
     "execution_count": 237,
     "metadata": {},
     "output_type": "execute_result"
    }
   ],
   "source": [
    "recall/942"
   ]
  },
  {
   "cell_type": "code",
   "execution_count": 238,
   "metadata": {},
   "outputs": [
    {
     "data": {
      "text/plain": [
       "0.022420642113156877"
      ]
     },
     "execution_count": 238,
     "metadata": {},
     "output_type": "execute_result"
    }
   ],
   "source": [
    "f1/942"
   ]
  },
  {
   "cell_type": "code",
   "execution_count": 104,
   "metadata": {},
   "outputs": [],
   "source": [
    "dic={'item':top_n_nodes, 'node_id': top_n_node_ids, 'IAB_Candidates': top_n_IAB_Candidates,\n",
    "'predictions': top_n_labels_new, 'cosine_predicted': top_n_cosines_new, \"H_Mapping_scores\": top_n_H_scores }"
   ]
  },
  {
   "cell_type": "code",
   "execution_count": 105,
   "metadata": {},
   "outputs": [],
   "source": [
    "df_MAF_new=pd.DataFrame.from_dict(dic)"
   ]
  },
  {
   "cell_type": "code",
   "execution_count": 106,
   "metadata": {},
   "outputs": [],
   "source": [
    "df_MAF_new.to_excel('results/OpenAI_results_0.755_new.xlsx')"
   ]
  },
  {
   "cell_type": "code",
   "execution_count": 107,
   "metadata": {},
   "outputs": [
    {
     "data": {
      "text/plain": [
       "(77838, 6)"
      ]
     },
     "execution_count": 107,
     "metadata": {},
     "output_type": "execute_result"
    }
   ],
   "source": [
    "df_MAF_new.shape"
   ]
  },
  {
   "cell_type": "code",
   "execution_count": null,
   "metadata": {},
   "outputs": [],
   "source": [
    "#Top 100 in predictions but not in embedding"
   ]
  },
  {
   "cell_type": "code",
   "execution_count": 108,
   "metadata": {},
   "outputs": [],
   "source": [
    "df_MAF_new=df_MAF_new.sort_values(by='cosine_predicted', ascending=False)"
   ]
  },
  {
   "cell_type": "code",
   "execution_count": 109,
   "metadata": {},
   "outputs": [
    {
     "data": {
      "text/plain": [
       "item                                       minivan\n",
       "node_id                                       4867\n",
       "IAB_Candidates      ['Auto Parts', 'Auto Rentals']\n",
       "predictions                                Minivan\n",
       "cosine_predicted              [0.9860634986725173]\n",
       "H_Mapping_scores        [0.724198355, 0.730903592]\n",
       "Name: 37363, dtype: object"
      ]
     },
     "execution_count": 109,
     "metadata": {},
     "output_type": "execute_result"
    }
   ],
   "source": [
    "df_MAF_new.iloc[0]"
   ]
  },
  {
   "cell_type": "code",
   "execution_count": 110,
   "metadata": {},
   "outputs": [],
   "source": [
    "top_100_node=[]\n",
    "top_100_embedding_pred=[]\n",
    "top_100_H_pred=[]\n",
    "top_100_cos_pred=[]\n",
    "top_100_H_score=[]"
   ]
  },
  {
   "cell_type": "code",
   "execution_count": 111,
   "metadata": {},
   "outputs": [],
   "source": [
    "items=df_MAF_new['item'].to_list()\n",
    "IAB_Candidates=df_MAF_new['IAB_Candidates'].to_list()\n",
    "predictions=df_MAF_new['predictions'].to_list()\n",
    "cosine_predicted=df_MAF_new['cosine_predicted'].to_list()\n",
    "H_Mapping_scores=df_MAF_new['H_Mapping_scores'].to_list()"
   ]
  },
  {
   "cell_type": "code",
   "execution_count": 112,
   "metadata": {},
   "outputs": [
    {
     "name": "stderr",
     "output_type": "stream",
     "text": [
      "253it [00:00, 19364.57it/s]\n"
     ]
    }
   ],
   "source": [
    "for item,IAB,pred,cos,H_map in tqdm(zip(items,IAB_Candidates,predictions,cosine_predicted,H_Mapping_scores)):\n",
    "    pred_list=ast.literal_eval(IAB)\n",
    "    if pred not in pred_list:\n",
    "        top_100_node.append(item)\n",
    "        top_100_embedding_pred.append(pred)\n",
    "        top_100_H_pred.append(IAB)\n",
    "        top_100_cos_pred.append(cos)\n",
    "        top_100_H_score.append(H_map)\n",
    "    if len(top_100_node)==100:\n",
    "        break"
   ]
  },
  {
   "cell_type": "code",
   "execution_count": 113,
   "metadata": {},
   "outputs": [],
   "source": [
    "top_100_dic={'items':top_100_node, 'Embedding Predictions': top_100_embedding_pred,\n",
    " \"H_Mapping_Pred\": top_100_H_pred, 'Predicted Cosine': top_100_cos_pred, \n",
    " 'H Mapping Cosine': top_100_H_score}"
   ]
  },
  {
   "cell_type": "code",
   "execution_count": 114,
   "metadata": {},
   "outputs": [],
   "source": [
    "df_top_100=pd.DataFrame.from_dict(top_100_dic)"
   ]
  },
  {
   "cell_type": "code",
   "execution_count": 115,
   "metadata": {},
   "outputs": [],
   "source": [
    "df_top_100.to_excel('results/OpenAI_Top_100_Not_In_H.xlsx', index=False)"
   ]
  },
  {
   "cell_type": "code",
   "execution_count": null,
   "metadata": {},
   "outputs": [],
   "source": [
    "#Top 100 in H but not in Embedding"
   ]
  },
  {
   "cell_type": "code",
   "execution_count": 116,
   "metadata": {},
   "outputs": [
    {
     "name": "stdout",
     "output_type": "stream",
     "text": [
      "['Dogs', 'SUV', 'Cats', 'Large Animals', 'Sedan', 'Pets', 'Polar Travel', 'Camping', 'Beauty', 'Desktops', 'Wellness', 'Science', 'Minivan', 'Reptiles', 'Pickup Trucks', 'Laptops', 'Sports', 'Travel', 'Outdoor Activities', 'Hair Care', 'Hobbies & Interests', 'Birds', 'Cruises', 'Parenting', 'Dating', 'Convertible', 'Games and Puzzles', 'Movies', 'Shaving', 'Smartphones', 'Motorcycles', 'Shopping', 'Graduation', 'Cooking', 'Parks & Nature', 'Holiday Shopping', 'Space and Astronomy', 'Luxury Cars', 'Healthy Living', 'Single Life', 'Education', 'Commercial Trucks', 'Rail Travel', 'Houses', 'Station Wagon', 'Wedding', 'Travel Locations', \"Women's Handbags and Wallets\", 'Coupe', 'Travel Accessories', 'Beach Travel', 'Apartments', 'Grocery Shopping', 'Asia Travel', 'South America Travel', 'Board Games and Puzzles', 'Barbecues and Grilling', 'Bath and Shower', 'Europe Travel', 'Landscaping', 'Fitness and Exercise', 'Home Security', 'Smart Home', 'Air Travel', 'Home & Garden', 'Gardening', 'Zoos & Aquariums', 'Food & Drink', 'Medical Health', 'Religion & Spirituality', 'Card Games', 'North America Travel', 'Road-Side Assistance', 'Household Supplies', 'Birthday', 'Casinos & Gambling', 'Automotive', 'Flower Shopping', 'Dining Out', 'Style & Fashion', 'Video Gaming', 'Technology & Computing', 'Green Vehicles', \"Men's Clothing\", 'Hotel Properties', 'Auto Type', 'Television', 'Musical Instruments', \"Men's Formal Wear\", 'Family and Relationships', 'Home Appliances', 'Real Estate']\n",
      "[array([0.83079248]), array([0.80508639]), array([0.80033914]), array([0.79569899]), array([0.7936165]), array([0.79347338]), array([0.7919894]), array([0.78356257]), array([0.783423]), array([0.7827431]), array([0.78262921]), array([0.78199663]), array([0.78114842]), array([0.78099573]), array([0.77942207]), array([0.7788574]), array([0.77862157]), array([0.77858443]), array([0.77844861]), array([0.77806113]), array([0.77797323]), array([0.77772243]), array([0.77748418]), array([0.77679047]), array([0.77614545]), array([0.77548749]), array([0.77538151]), array([0.77418431]), array([0.7741294]), array([0.77377289]), array([0.77360122]), array([0.77316363]), array([0.7724006]), array([0.77220388]), array([0.7720564]), array([0.77190884]), array([0.77189925]), array([0.77079895]), array([0.77059728]), array([0.7703153]), array([0.7702977]), array([0.76987396]), array([0.76937836]), array([0.7691803]), array([0.76914394]), array([0.76906507]), array([0.7687275]), array([0.76840325]), array([0.76790343]), array([0.76666119]), array([0.76639645]), array([0.76610396]), array([0.76605561]), array([0.7656431]), array([0.7653301]), array([0.76528094]), array([0.76437526]), array([0.76435034]), array([0.76399184]), array([0.76321815]), array([0.763211]), array([0.76316008]), array([0.76270119]), array([0.7623807]), array([0.76222899]), array([0.76211327]), array([0.76141623]), array([0.76107506]), array([0.76041288]), array([0.76023517]), array([0.76007824]), array([0.76005948]), array([0.75961387]), array([0.75931865]), array([0.75930088]), array([0.75904557]), array([0.75840525]), array([0.7582168]), array([0.75817307]), array([0.75731049]), array([0.75697199]), array([0.75696905]), array([0.75687388]), array([0.75687318]), array([0.75600791]), array([0.75600639]), array([0.75583063]), array([0.75565941]), array([0.75562494]), array([0.75543601]), array([0.75522287]), array([0.755064])]\n"
     ]
    }
   ],
   "source": [
    "print(top_n_labels[5])\n",
    "print(top_n_cosines[5])"
   ]
  },
  {
   "cell_type": "code",
   "execution_count": 117,
   "metadata": {},
   "outputs": [],
   "source": [
    "nodes=df_MAF['item'].to_list()\n",
    "# node_id=df_MAF['node_id'].to_list()\n",
    "IAB_Candidates=df_MAF['IAB_Candidates'].to_list()\n",
    "H_Mappings=df_MAF['H_Scores'].to_list()"
   ]
  },
  {
   "cell_type": "code",
   "execution_count": 118,
   "metadata": {},
   "outputs": [
    {
     "name": "stderr",
     "output_type": "stream",
     "text": [
      "942it [00:00, 34295.68it/s]\n"
     ]
    }
   ],
   "source": [
    "mid_node=[]\n",
    "mid_IAB=[]\n",
    "mid_label=[]\n",
    "mid_cos=[]\n",
    "mid_H_map=[]\n",
    "\n",
    "for node, IAB, label, cos, H_map in tqdm(zip(nodes,IAB_Candidates,top_n_labels,top_n_cosines,H_Mappings)):\n",
    "    IAB_list=ast.literal_eval(IAB)\n",
    "    H_Map_list=ast.literal_eval(H_map)\n",
    "    for IAB_item, H_Map_item in zip(IAB_list,H_Map_list):\n",
    "        mid_node.append(node)\n",
    "        mid_IAB.append(IAB_item)\n",
    "        mid_label.append(label)\n",
    "        mid_cos.append(cos)\n",
    "        mid_H_map.append(H_Map_item)"
   ]
  },
  {
   "cell_type": "code",
   "execution_count": 119,
   "metadata": {},
   "outputs": [],
   "source": [
    "dic={'item':mid_node, 'IAB_Candidates': mid_IAB,\n",
    "'predictions': mid_label, 'cosine_predicted': mid_cos, \"H_Mapping_scores\": mid_H_map}"
   ]
  },
  {
   "cell_type": "code",
   "execution_count": 120,
   "metadata": {},
   "outputs": [],
   "source": [
    "df_lol_100=pd.DataFrame.from_dict(dic)"
   ]
  },
  {
   "cell_type": "code",
   "execution_count": 121,
   "metadata": {},
   "outputs": [],
   "source": [
    "df_lol_100=df_lol_100.sort_values(by='H_Mapping_scores', ascending=False)"
   ]
  },
  {
   "cell_type": "code",
   "execution_count": 122,
   "metadata": {},
   "outputs": [
    {
     "data": {
      "text/html": [
       "<div>\n",
       "<style scoped>\n",
       "    .dataframe tbody tr th:only-of-type {\n",
       "        vertical-align: middle;\n",
       "    }\n",
       "\n",
       "    .dataframe tbody tr th {\n",
       "        vertical-align: top;\n",
       "    }\n",
       "\n",
       "    .dataframe thead th {\n",
       "        text-align: right;\n",
       "    }\n",
       "</style>\n",
       "<table border=\"1\" class=\"dataframe\">\n",
       "  <thead>\n",
       "    <tr style=\"text-align: right;\">\n",
       "      <th></th>\n",
       "      <th>item</th>\n",
       "      <th>IAB_Candidates</th>\n",
       "      <th>predictions</th>\n",
       "      <th>cosine_predicted</th>\n",
       "      <th>H_Mapping_scores</th>\n",
       "    </tr>\n",
       "  </thead>\n",
       "  <tbody>\n",
       "    <tr>\n",
       "      <th>2613</th>\n",
       "      <td>wagon</td>\n",
       "      <td>Travel</td>\n",
       "      <td>[Station Wagon, Minivan, SUV, Convertible, Tra...</td>\n",
       "      <td>[[0.8676690064930836], [0.8482987892336509], [...</td>\n",
       "      <td>1.0</td>\n",
       "    </tr>\n",
       "    <tr>\n",
       "      <th>2614</th>\n",
       "      <td>drop</td>\n",
       "      <td>Real Estate</td>\n",
       "      <td>[Dating, Travel, Graduation, Movies, Shopping,...</td>\n",
       "      <td>[[0.8176049105530151], [0.8087438873386152], [...</td>\n",
       "      <td>1.0</td>\n",
       "    </tr>\n",
       "    <tr>\n",
       "      <th>2615</th>\n",
       "      <td>drop</td>\n",
       "      <td>Travel</td>\n",
       "      <td>[Dating, Travel, Graduation, Movies, Shopping,...</td>\n",
       "      <td>[[0.8176049105530151], [0.8087438873386152], [...</td>\n",
       "      <td>1.0</td>\n",
       "    </tr>\n",
       "    <tr>\n",
       "      <th>2629</th>\n",
       "      <td>mousetrap</td>\n",
       "      <td>Home &amp; Garden</td>\n",
       "      <td>[Cats, Movies, Coupe, Birds, Games and Puzzles...</td>\n",
       "      <td>[[0.7973278023641381], [0.7922019973205039], [...</td>\n",
       "      <td>1.0</td>\n",
       "    </tr>\n",
       "    <tr>\n",
       "      <th>2626</th>\n",
       "      <td>ring_mail</td>\n",
       "      <td>Events and Attractions</td>\n",
       "      <td>[Rail Travel, Travel, Birds, Nail Care, Hair C...</td>\n",
       "      <td>[[0.7915800550643299], [0.7658795812872278], [...</td>\n",
       "      <td>1.0</td>\n",
       "    </tr>\n",
       "  </tbody>\n",
       "</table>\n",
       "</div>"
      ],
      "text/plain": [
       "           item          IAB_Candidates  \\\n",
       "2613      wagon                  Travel   \n",
       "2614       drop             Real Estate   \n",
       "2615       drop                  Travel   \n",
       "2629  mousetrap           Home & Garden   \n",
       "2626  ring_mail  Events and Attractions   \n",
       "\n",
       "                                            predictions  \\\n",
       "2613  [Station Wagon, Minivan, SUV, Convertible, Tra...   \n",
       "2614  [Dating, Travel, Graduation, Movies, Shopping,...   \n",
       "2615  [Dating, Travel, Graduation, Movies, Shopping,...   \n",
       "2629  [Cats, Movies, Coupe, Birds, Games and Puzzles...   \n",
       "2626  [Rail Travel, Travel, Birds, Nail Care, Hair C...   \n",
       "\n",
       "                                       cosine_predicted  H_Mapping_scores  \n",
       "2613  [[0.8676690064930836], [0.8482987892336509], [...               1.0  \n",
       "2614  [[0.8176049105530151], [0.8087438873386152], [...               1.0  \n",
       "2615  [[0.8176049105530151], [0.8087438873386152], [...               1.0  \n",
       "2629  [[0.7973278023641381], [0.7922019973205039], [...               1.0  \n",
       "2626  [[0.7915800550643299], [0.7658795812872278], [...               1.0  "
      ]
     },
     "execution_count": 122,
     "metadata": {},
     "output_type": "execute_result"
    }
   ],
   "source": [
    "df_lol_100.head()"
   ]
  },
  {
   "cell_type": "code",
   "execution_count": 123,
   "metadata": {},
   "outputs": [],
   "source": [
    "top_100_node=[]\n",
    "top_100_embedding_pred=[]\n",
    "top_100_H_pred=[]\n",
    "top_100_cos_pred=[]\n",
    "top_100_H_score=[]"
   ]
  },
  {
   "cell_type": "code",
   "execution_count": 124,
   "metadata": {},
   "outputs": [],
   "source": [
    "items=df_lol_100['item'].to_list()\n",
    "IAB_Candidates=df_lol_100['IAB_Candidates'].to_list()\n",
    "predictions=df_lol_100['predictions'].to_list()\n",
    "cosine_predicted=df_lol_100['cosine_predicted'].to_list()\n",
    "H_Mapping_scores=df_lol_100['H_Mapping_scores'].to_list()"
   ]
  },
  {
   "cell_type": "code",
   "execution_count": 125,
   "metadata": {},
   "outputs": [
    {
     "name": "stderr",
     "output_type": "stream",
     "text": [
      "1311it [00:00, 678855.87it/s]\n"
     ]
    }
   ],
   "source": [
    "for item,IAB,pred,cos,H_map in tqdm(zip(items,IAB_Candidates,predictions,cosine_predicted,H_Mapping_scores)):\n",
    "    #pred_list=ast.literal_eval(pred)\n",
    "    if IAB not in pred:\n",
    "        top_100_node.append(item)\n",
    "        top_100_embedding_pred.append(pred)\n",
    "        top_100_H_pred.append(IAB)\n",
    "        top_100_cos_pred.append(cos)\n",
    "        top_100_H_score.append(H_map)\n",
    "    if len(top_100_node)==100:\n",
    "        break"
   ]
  },
  {
   "cell_type": "code",
   "execution_count": 126,
   "metadata": {},
   "outputs": [],
   "source": [
    "top_100_dic={'items':top_100_node, 'Embedding Predictions': top_100_embedding_pred,\n",
    " \"H_Mapping_Pred\": top_100_H_pred, 'Predicted Cosine': top_100_cos_pred, \n",
    " 'H Mapping Cosine': top_100_H_score}"
   ]
  },
  {
   "cell_type": "code",
   "execution_count": 127,
   "metadata": {},
   "outputs": [],
   "source": [
    "df_top_100=pd.DataFrame.from_dict(top_100_dic)"
   ]
  },
  {
   "cell_type": "code",
   "execution_count": 128,
   "metadata": {},
   "outputs": [],
   "source": [
    "df_top_100.to_excel('results/Top_100_Not_In_OpenAI.xlsx', index=False)"
   ]
  }
 ],
 "metadata": {
  "kernelspec": {
   "display_name": "KG",
   "language": "python",
   "name": "python3"
  },
  "language_info": {
   "codemirror_mode": {
    "name": "ipython",
    "version": 3
   },
   "file_extension": ".py",
   "mimetype": "text/x-python",
   "name": "python",
   "nbconvert_exporter": "python",
   "pygments_lexer": "ipython3",
   "version": "3.11.4"
  },
  "orig_nbformat": 4
 },
 "nbformat": 4,
 "nbformat_minor": 2
}
