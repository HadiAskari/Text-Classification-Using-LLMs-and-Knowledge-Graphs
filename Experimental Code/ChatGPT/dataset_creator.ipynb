{
 "cells": [
  {
   "cell_type": "code",
   "execution_count": null,
   "metadata": {},
   "outputs": [],
   "source": [
    "import os\n",
    "import openai\n",
    "import pandas as pd\n",
    "\n",
    "import json\n",
    "import requests\n",
    "import pickle as pkl\n",
    "from collections import defaultdict\n",
    "from tqdm.auto import tqdm\n",
    "from bs4 import BeautifulSoup\n",
    "import re\n",
    "from time import sleep"
   ]
  },
  {
   "cell_type": "code",
   "execution_count": null,
   "metadata": {},
   "outputs": [],
   "source": [
    "with open('data/List_of_IAB.pkl', 'rb') as f:\n",
    "    Iab_labels=pkl.load(f)"
   ]
  },
  {
   "cell_type": "code",
   "execution_count": null,
   "metadata": {},
   "outputs": [],
   "source": [
    "Iab_labels"
   ]
  },
  {
   "cell_type": "code",
   "execution_count": null,
   "metadata": {},
   "outputs": [],
   "source": [
    "# with open('data/test_list.pkl', 'rb') as f:\n",
    "#     maf_labels=pkl.load(f)"
   ]
  },
  {
   "cell_type": "code",
   "execution_count": null,
   "metadata": {},
   "outputs": [],
   "source": [
    "df_maf=pd.read_csv('data/MAF_Evaluation.csv')"
   ]
  },
  {
   "cell_type": "code",
   "execution_count": null,
   "metadata": {},
   "outputs": [],
   "source": [
    "df_maf.columns"
   ]
  },
  {
   "cell_type": "code",
   "execution_count": null,
   "metadata": {},
   "outputs": [],
   "source": [
    "maf_labels=df_maf['item'].to_list()"
   ]
  },
  {
   "cell_type": "code",
   "execution_count": null,
   "metadata": {},
   "outputs": [],
   "source": [
    "maf_labels"
   ]
  },
  {
   "cell_type": "code",
   "execution_count": 77,
   "metadata": {},
   "outputs": [],
   "source": [
    "def deployment_stuff():\n",
    "    with open('azure-configuration.json') as inputfile:\n",
    "        azureconfig = json.load(inputfile)\n",
    "    openai.api_key = azureconfig['key'] \n",
    "    openai.api_base = azureconfig['endpoint'] \n",
    "    openai.api_type = 'azure'\n",
    "    openai.api_version = '2023-05-15' # this may change in the future\n",
    "\n",
    "    deployment_name= azureconfig['deployment_name']\n",
    "\n",
    "    return deployment_name"
   ]
  },
  {
   "cell_type": "code",
   "execution_count": null,
   "metadata": {},
   "outputs": [],
   "source": [
    "def prompt(keyword):\n",
    "    \n",
    "    prompt=\"\"\"Give me as many relevant keywords for the topic {} as possible in bullets\n",
    "\n",
    "\"\"\".format(keyword)\n",
    "    \n",
    "    return prompt"
   ]
  },
  {
   "cell_type": "code",
   "execution_count": null,
   "metadata": {},
   "outputs": [],
   "source": [
    "def prompt_output_parse(response):\n",
    "    res=[]\n",
    "    first_split=response.split('\\n')\n",
    "    for splits in first_split:\n",
    "        second_split=splits.split('-')[1].strip()\n",
    "        res.append(second_split)\n",
    "    \n",
    "    return res\n",
    "\n",
    "    "
   ]
  },
  {
   "cell_type": "code",
   "execution_count": 79,
   "metadata": {},
   "outputs": [],
   "source": [
    "def call(deployment_name, keyword):\n",
    "    system_message={\"role\": \"system\", \"content\": \"You are a helpful assistant.\"}\n",
    "    conversation = []\n",
    "    conversation.append(system_message)\n",
    "    user_input = prompt(keyword)\n",
    "    conversation.append({\"role\": \"user\", \"content\": user_input})\n",
    "\n",
    "    response = openai.ChatCompletion.create(\n",
    "        engine=deployment_name, # The deployment name you chose when you deployed the GPT-35-Turbo or GPT-4 model.\n",
    "        messages=conversation,\n",
    "        temperature=0.7,\n",
    "        # max_tokens=max_response_tokens,\n",
    "    )\n",
    "\n",
    "    conversation.append({\"role\": \"assistant\", \"content\": response['choices'][0]['message']['content']})\n",
    "\n",
    "    #print(conversation)\n",
    "\n",
    "    responses=prompt_output_parse(response['choices'][0]['message']['content'])\n",
    "\n",
    "    #print(responses)\n",
    "\n",
    "    dic={keyword:responses}\n",
    "\n",
    "    return dic\n",
    "\n",
    "\n"
   ]
  },
  {
   "cell_type": "code",
   "execution_count": 87,
   "metadata": {},
   "outputs": [
    {
     "name": "stderr",
     "output_type": "stream",
     "text": [
      "  0%|          | 0/161 [00:00<?, ?it/s]"
     ]
    },
    {
     "name": "stdout",
     "output_type": "stream",
     "text": [
      "Graduation\n"
     ]
    },
    {
     "name": "stderr",
     "output_type": "stream",
     "text": [
      "  1%|          | 1/161 [00:03<08:18,  3.12s/it]"
     ]
    },
    {
     "name": "stdout",
     "output_type": "stream",
     "text": [
      "Shopping\n"
     ]
    },
    {
     "name": "stderr",
     "output_type": "stream",
     "text": [
      "  1%|          | 2/161 [00:06<09:18,  3.51s/it]"
     ]
    },
    {
     "name": "stdout",
     "output_type": "stream",
     "text": [
      "Automotive\n"
     ]
    },
    {
     "name": "stderr",
     "output_type": "stream",
     "text": [
      "  2%|▏         | 3/161 [00:09<08:28,  3.22s/it]"
     ]
    },
    {
     "name": "stdout",
     "output_type": "stream",
     "text": [
      "Houses\n"
     ]
    },
    {
     "name": "stderr",
     "output_type": "stream",
     "text": [
      "  2%|▏         | 4/161 [00:12<08:09,  3.12s/it]"
     ]
    },
    {
     "name": "stdout",
     "output_type": "stream",
     "text": [
      "Commercial Trucks\n"
     ]
    },
    {
     "name": "stderr",
     "output_type": "stream",
     "text": [
      "  3%|▎         | 5/161 [00:16<09:01,  3.47s/it]"
     ]
    },
    {
     "name": "stdout",
     "output_type": "stream",
     "text": [
      "Station Wagon\n"
     ]
    },
    {
     "name": "stderr",
     "output_type": "stream",
     "text": [
      "  4%|▎         | 6/161 [00:19<08:26,  3.27s/it]"
     ]
    },
    {
     "name": "stdout",
     "output_type": "stream",
     "text": [
      "South America Travel\n"
     ]
    },
    {
     "name": "stderr",
     "output_type": "stream",
     "text": [
      "  4%|▍         | 7/161 [00:24<09:25,  3.67s/it]"
     ]
    },
    {
     "name": "stdout",
     "output_type": "stream",
     "text": [
      "Bath and Shower\n"
     ]
    },
    {
     "name": "stderr",
     "output_type": "stream",
     "text": [
      "  5%|▍         | 8/161 [00:31<11:57,  4.69s/it]"
     ]
    },
    {
     "name": "stdout",
     "output_type": "stream",
     "text": [
      "Theater Venues and Events\n"
     ]
    },
    {
     "name": "stderr",
     "output_type": "stream",
     "text": [
      "  6%|▌         | 9/161 [00:35<11:33,  4.56s/it]"
     ]
    },
    {
     "name": "stdout",
     "output_type": "stream",
     "text": [
      "Books and Literature\n"
     ]
    },
    {
     "name": "stderr",
     "output_type": "stream",
     "text": [
      "  6%|▌         | 10/161 [00:39<11:13,  4.46s/it]"
     ]
    },
    {
     "name": "stdout",
     "output_type": "stream",
     "text": [
      "Makeup and Accessories\n"
     ]
    },
    {
     "name": "stderr",
     "output_type": "stream",
     "text": [
      "  7%|▋         | 11/161 [00:45<12:06,  4.84s/it]"
     ]
    },
    {
     "name": "stdout",
     "output_type": "stream",
     "text": [
      "Non-Alcoholic Beverages\n"
     ]
    },
    {
     "name": "stderr",
     "output_type": "stream",
     "text": [
      "  7%|▋         | 12/161 [00:48<10:55,  4.40s/it]"
     ]
    },
    {
     "name": "stdout",
     "output_type": "stream",
     "text": [
      "Parks & Nature\n"
     ]
    },
    {
     "name": "stderr",
     "output_type": "stream",
     "text": [
      "  8%|▊         | 13/161 [00:51<09:51,  4.00s/it]"
     ]
    },
    {
     "name": "stdout",
     "output_type": "stream",
     "text": [
      "Cameras and Camcorders\n"
     ]
    },
    {
     "name": "stderr",
     "output_type": "stream",
     "text": [
      "  9%|▊         | 14/161 [00:56<10:05,  4.12s/it]"
     ]
    },
    {
     "name": "stdout",
     "output_type": "stream",
     "text": [
      "Nail Care\n"
     ]
    },
    {
     "name": "stderr",
     "output_type": "stream",
     "text": [
      "  9%|▉         | 15/161 [00:59<09:28,  3.90s/it]"
     ]
    },
    {
     "name": "stdout",
     "output_type": "stream",
     "text": [
      "Auto Repair\n"
     ]
    },
    {
     "name": "stderr",
     "output_type": "stream",
     "text": [
      " 10%|▉         | 16/161 [01:04<10:09,  4.20s/it]"
     ]
    },
    {
     "name": "stdout",
     "output_type": "stream",
     "text": [
      "Zoos & Aquariums\n"
     ]
    },
    {
     "name": "stderr",
     "output_type": "stream",
     "text": [
      " 11%|█         | 17/161 [01:07<09:16,  3.86s/it]"
     ]
    },
    {
     "name": "stdout",
     "output_type": "stream",
     "text": [
      "Home Improvement\n"
     ]
    },
    {
     "name": "stderr",
     "output_type": "stream",
     "text": [
      " 11%|█         | 18/161 [01:09<08:02,  3.37s/it]"
     ]
    },
    {
     "name": "stdout",
     "output_type": "stream",
     "text": [
      "Air Travel\n"
     ]
    },
    {
     "name": "stderr",
     "output_type": "stream",
     "text": [
      " 12%|█▏        | 19/161 [01:13<08:13,  3.47s/it]"
     ]
    },
    {
     "name": "stdout",
     "output_type": "stream",
     "text": [
      "Dating\n"
     ]
    },
    {
     "name": "stderr",
     "output_type": "stream",
     "text": [
      " 12%|█▏        | 20/161 [01:16<08:09,  3.48s/it]"
     ]
    },
    {
     "name": "stdout",
     "output_type": "stream",
     "text": [
      "Personal Celebrations & Life Events\n"
     ]
    },
    {
     "name": "stderr",
     "output_type": "stream",
     "text": [
      " 13%|█▎        | 21/161 [01:21<08:45,  3.75s/it]"
     ]
    },
    {
     "name": "stdout",
     "output_type": "stream",
     "text": [
      "Auto Parts\n"
     ]
    },
    {
     "name": "stderr",
     "output_type": "stream",
     "text": [
      " 14%|█▎        | 22/161 [01:25<08:52,  3.83s/it]"
     ]
    },
    {
     "name": "stdout",
     "output_type": "stream",
     "text": [
      "Board Games and Puzzles\n"
     ]
    },
    {
     "name": "stderr",
     "output_type": "stream",
     "text": [
      " 14%|█▍        | 23/161 [01:31<10:22,  4.51s/it]"
     ]
    },
    {
     "name": "stdout",
     "output_type": "stream",
     "text": [
      "Polar Travel\n"
     ]
    },
    {
     "name": "stderr",
     "output_type": "stream",
     "text": [
      " 15%|█▍        | 24/161 [01:34<09:04,  3.97s/it]"
     ]
    },
    {
     "name": "stdout",
     "output_type": "stream",
     "text": [
      "Smart Home\n"
     ]
    },
    {
     "name": "stderr",
     "output_type": "stream",
     "text": [
      " 16%|█▌        | 25/161 [01:37<08:29,  3.75s/it]"
     ]
    },
    {
     "name": "stdout",
     "output_type": "stream",
     "text": [
      "Technology Industry\n",
      "list index out of range\n",
      "Technology Industry\n"
     ]
    },
    {
     "name": "stderr",
     "output_type": "stream",
     "text": [
      " 16%|█▌        | 26/161 [01:43<10:03,  4.47s/it]"
     ]
    },
    {
     "name": "stdout",
     "output_type": "stream",
     "text": [
      "Desserts and Baking\n"
     ]
    },
    {
     "name": "stderr",
     "output_type": "stream",
     "text": [
      " 17%|█▋        | 27/161 [01:50<11:31,  5.16s/it]"
     ]
    },
    {
     "name": "stdout",
     "output_type": "stream",
     "text": [
      "Home Appliances\n"
     ]
    },
    {
     "name": "stderr",
     "output_type": "stream",
     "text": [
      " 17%|█▋        | 28/161 [01:52<09:46,  4.41s/it]"
     ]
    },
    {
     "name": "stdout",
     "output_type": "stream",
     "text": [
      "Space and Astronomy\n"
     ]
    },
    {
     "name": "stderr",
     "output_type": "stream",
     "text": [
      " 18%|█▊        | 29/161 [01:55<08:45,  3.98s/it]"
     ]
    },
    {
     "name": "stdout",
     "output_type": "stream",
     "text": [
      "Reptiles\n"
     ]
    },
    {
     "name": "stderr",
     "output_type": "stream",
     "text": [
      " 19%|█▊        | 30/161 [01:59<08:05,  3.71s/it]"
     ]
    },
    {
     "name": "stdout",
     "output_type": "stream",
     "text": [
      "Primary Education\n"
     ]
    },
    {
     "name": "stderr",
     "output_type": "stream",
     "text": [
      " 19%|█▉        | 31/161 [02:02<07:41,  3.55s/it]"
     ]
    },
    {
     "name": "stdout",
     "output_type": "stream",
     "text": [
      "Beauty\n"
     ]
    },
    {
     "name": "stderr",
     "output_type": "stream",
     "text": [
      " 20%|█▉        | 32/161 [02:06<08:06,  3.77s/it]"
     ]
    },
    {
     "name": "stdout",
     "output_type": "stream",
     "text": [
      "Tablets and E-readers\n"
     ]
    },
    {
     "name": "stderr",
     "output_type": "stream",
     "text": [
      " 20%|██        | 33/161 [02:10<07:55,  3.72s/it]"
     ]
    },
    {
     "name": "stdout",
     "output_type": "stream",
     "text": [
      "Men's Formal Wear\n"
     ]
    },
    {
     "name": "stderr",
     "output_type": "stream",
     "text": [
      " 21%|██        | 34/161 [02:12<07:00,  3.31s/it]"
     ]
    },
    {
     "name": "stdout",
     "output_type": "stream",
     "text": [
      "Africa Travel\n"
     ]
    },
    {
     "name": "stderr",
     "output_type": "stream",
     "text": [
      " 22%|██▏       | 35/161 [02:15<06:28,  3.09s/it]"
     ]
    },
    {
     "name": "stdout",
     "output_type": "stream",
     "text": [
      "Barbecues and Grilling\n"
     ]
    },
    {
     "name": "stderr",
     "output_type": "stream",
     "text": [
      " 22%|██▏       | 36/161 [02:19<07:26,  3.57s/it]"
     ]
    },
    {
     "name": "stdout",
     "output_type": "stream",
     "text": [
      "Gardening\n"
     ]
    },
    {
     "name": "stderr",
     "output_type": "stream",
     "text": [
      " 23%|██▎       | 37/161 [02:22<07:04,  3.42s/it]"
     ]
    },
    {
     "name": "stdout",
     "output_type": "stream",
     "text": [
      "Asia Travel\n"
     ]
    },
    {
     "name": "stderr",
     "output_type": "stream",
     "text": [
      " 24%|██▎       | 38/161 [02:26<06:55,  3.38s/it]"
     ]
    },
    {
     "name": "stdout",
     "output_type": "stream",
     "text": [
      "Men's Clothing\n"
     ]
    },
    {
     "name": "stderr",
     "output_type": "stream",
     "text": [
      " 24%|██▍       | 39/161 [02:30<07:37,  3.75s/it]"
     ]
    },
    {
     "name": "stdout",
     "output_type": "stream",
     "text": [
      "Van\n"
     ]
    },
    {
     "name": "stderr",
     "output_type": "stream",
     "text": [
      " 25%|██▍       | 40/161 [02:33<07:16,  3.61s/it]"
     ]
    },
    {
     "name": "stdout",
     "output_type": "stream",
     "text": [
      "Retail Property\n"
     ]
    },
    {
     "name": "stderr",
     "output_type": "stream",
     "text": [
      " 25%|██▌       | 41/161 [02:38<07:43,  3.86s/it]"
     ]
    },
    {
     "name": "stdout",
     "output_type": "stream",
     "text": [
      "Home Entertaining\n"
     ]
    },
    {
     "name": "stderr",
     "output_type": "stream",
     "text": [
      " 26%|██▌       | 42/161 [02:45<09:25,  4.76s/it]"
     ]
    },
    {
     "name": "stdout",
     "output_type": "stream",
     "text": [
      "Logistics and Transportation Industry\n"
     ]
    },
    {
     "name": "stderr",
     "output_type": "stream",
     "text": [
      " 27%|██▋       | 43/161 [02:48<08:34,  4.36s/it]"
     ]
    },
    {
     "name": "stdout",
     "output_type": "stream",
     "text": [
      "Dining Out\n"
     ]
    },
    {
     "name": "stderr",
     "output_type": "stream",
     "text": [
      " 27%|██▋       | 44/161 [02:52<08:04,  4.14s/it]"
     ]
    },
    {
     "name": "stdout",
     "output_type": "stream",
     "text": [
      "Dogs\n"
     ]
    },
    {
     "name": "stderr",
     "output_type": "stream",
     "text": [
      " 28%|██▊       | 45/161 [02:58<09:09,  4.73s/it]"
     ]
    },
    {
     "name": "stdout",
     "output_type": "stream",
     "text": [
      "Auto Rentals\n"
     ]
    },
    {
     "name": "stderr",
     "output_type": "stream",
     "text": [
      " 29%|██▊       | 46/161 [03:04<09:52,  5.15s/it]"
     ]
    },
    {
     "name": "stdout",
     "output_type": "stream",
     "text": [
      "Birds\n"
     ]
    },
    {
     "name": "stderr",
     "output_type": "stream",
     "text": [
      " 29%|██▉       | 47/161 [03:09<09:32,  5.02s/it]"
     ]
    },
    {
     "name": "stdout",
     "output_type": "stream",
     "text": [
      "Card Games\n"
     ]
    },
    {
     "name": "stderr",
     "output_type": "stream",
     "text": [
      " 30%|██▉       | 48/161 [03:12<08:34,  4.56s/it]"
     ]
    },
    {
     "name": "stdout",
     "output_type": "stream",
     "text": [
      "Malls & Shopping Centers\n"
     ]
    },
    {
     "name": "stderr",
     "output_type": "stream",
     "text": [
      " 30%|███       | 49/161 [03:19<09:39,  5.18s/it]"
     ]
    },
    {
     "name": "stdout",
     "output_type": "stream",
     "text": [
      "Home Security\n"
     ]
    },
    {
     "name": "stderr",
     "output_type": "stream",
     "text": [
      " 31%|███       | 50/161 [03:22<08:12,  4.43s/it]"
     ]
    },
    {
     "name": "stdout",
     "output_type": "stream",
     "text": [
      "Pets\n"
     ]
    },
    {
     "name": "stderr",
     "output_type": "stream",
     "text": [
      " 32%|███▏      | 51/161 [03:24<07:07,  3.88s/it]"
     ]
    },
    {
     "name": "stdout",
     "output_type": "stream",
     "text": [
      "Food Industry\n"
     ]
    },
    {
     "name": "stderr",
     "output_type": "stream",
     "text": [
      " 32%|███▏      | 52/161 [03:28<06:59,  3.85s/it]"
     ]
    },
    {
     "name": "stdout",
     "output_type": "stream",
     "text": [
      "Women's Formal Wear\n"
     ]
    },
    {
     "name": "stderr",
     "output_type": "stream",
     "text": [
      " 33%|███▎      | 53/161 [03:30<05:53,  3.27s/it]"
     ]
    },
    {
     "name": "stdout",
     "output_type": "stream",
     "text": [
      "Daycare and Pre-School\n",
      "list index out of range\n",
      "Daycare and Pre-School\n"
     ]
    },
    {
     "name": "stderr",
     "output_type": "stream",
     "text": [
      " 34%|███▎      | 54/161 [03:37<07:55,  4.44s/it]"
     ]
    },
    {
     "name": "stdout",
     "output_type": "stream",
     "text": [
      "Fine Art\n"
     ]
    },
    {
     "name": "stderr",
     "output_type": "stream",
     "text": [
      " 34%|███▍      | 55/161 [03:41<07:30,  4.25s/it]"
     ]
    },
    {
     "name": "stdout",
     "output_type": "stream",
     "text": [
      "Comedy Events\n"
     ]
    },
    {
     "name": "stderr",
     "output_type": "stream",
     "text": [
      " 35%|███▍      | 56/161 [03:44<07:04,  4.04s/it]"
     ]
    },
    {
     "name": "stdout",
     "output_type": "stream",
     "text": [
      "Children's Games and Toys\n"
     ]
    },
    {
     "name": "stderr",
     "output_type": "stream",
     "text": [
      " 35%|███▌      | 57/161 [03:50<07:47,  4.49s/it]"
     ]
    },
    {
     "name": "stdout",
     "output_type": "stream",
     "text": [
      "Movies\n"
     ]
    },
    {
     "name": "stderr",
     "output_type": "stream",
     "text": [
      " 36%|███▌      | 58/161 [03:54<07:21,  4.28s/it]"
     ]
    },
    {
     "name": "stdout",
     "output_type": "stream",
     "text": [
      "Australia and Oceania Travel\n",
      "list index out of range\n",
      "Australia and Oceania Travel\n",
      "list index out of range\n",
      "Australia and Oceania Travel\n"
     ]
    },
    {
     "name": "stderr",
     "output_type": "stream",
     "text": [
      " 37%|███▋      | 59/161 [04:10<13:29,  7.93s/it]"
     ]
    },
    {
     "name": "stdout",
     "output_type": "stream",
     "text": [
      "Hair Care\n"
     ]
    },
    {
     "name": "stderr",
     "output_type": "stream",
     "text": [
      " 37%|███▋      | 60/161 [04:13<10:48,  6.42s/it]"
     ]
    },
    {
     "name": "stdout",
     "output_type": "stream",
     "text": [
      "Consumer Electronics\n"
     ]
    },
    {
     "name": "stderr",
     "output_type": "stream",
     "text": [
      " 38%|███▊      | 61/161 [04:17<09:32,  5.72s/it]"
     ]
    },
    {
     "name": "stdout",
     "output_type": "stream",
     "text": [
      "Household Supplies\n"
     ]
    },
    {
     "name": "stderr",
     "output_type": "stream",
     "text": [
      " 39%|███▊      | 62/161 [04:21<08:29,  5.14s/it]"
     ]
    },
    {
     "name": "stdout",
     "output_type": "stream",
     "text": [
      "Individual Brands\n"
     ]
    },
    {
     "name": "stderr",
     "output_type": "stream",
     "text": [
      " 39%|███▉      | 63/161 [04:25<07:50,  4.80s/it]"
     ]
    },
    {
     "name": "stdout",
     "output_type": "stream",
     "text": [
      "Concerts & Music Events\n"
     ]
    },
    {
     "name": "stderr",
     "output_type": "stream",
     "text": [
      " 40%|███▉      | 64/161 [04:31<08:16,  5.12s/it]"
     ]
    },
    {
     "name": "stdout",
     "output_type": "stream",
     "text": [
      "Religion & Spirituality\n"
     ]
    },
    {
     "name": "stderr",
     "output_type": "stream",
     "text": [
      " 40%|████      | 65/161 [04:36<07:58,  4.99s/it]"
     ]
    },
    {
     "name": "stdout",
     "output_type": "stream",
     "text": [
      "College Education\n"
     ]
    },
    {
     "name": "stderr",
     "output_type": "stream",
     "text": [
      " 41%|████      | 66/161 [04:40<07:49,  4.94s/it]"
     ]
    },
    {
     "name": "stdout",
     "output_type": "stream",
     "text": [
      "Landscaping\n"
     ]
    },
    {
     "name": "stderr",
     "output_type": "stream",
     "text": [
      " 42%|████▏     | 67/161 [04:45<07:25,  4.74s/it]"
     ]
    },
    {
     "name": "stdout",
     "output_type": "stream",
     "text": [
      "Financial Industry\n"
     ]
    },
    {
     "name": "stderr",
     "output_type": "stream",
     "text": [
      " 42%|████▏     | 68/161 [04:49<07:08,  4.61s/it]"
     ]
    },
    {
     "name": "stdout",
     "output_type": "stream",
     "text": [
      "North America Travel\n"
     ]
    },
    {
     "name": "stderr",
     "output_type": "stream",
     "text": [
      " 43%|████▎     | 69/161 [04:54<07:04,  4.61s/it]"
     ]
    },
    {
     "name": "stdout",
     "output_type": "stream",
     "text": [
      "Perfume and Fragrance\n"
     ]
    },
    {
     "name": "stderr",
     "output_type": "stream",
     "text": [
      " 43%|████▎     | 70/161 [04:59<07:10,  4.73s/it]"
     ]
    },
    {
     "name": "stdout",
     "output_type": "stream",
     "text": [
      "Men's Casual Wear\n"
     ]
    },
    {
     "name": "stderr",
     "output_type": "stream",
     "text": [
      " 44%|████▍     | 71/161 [05:01<05:55,  3.95s/it]"
     ]
    },
    {
     "name": "stdout",
     "output_type": "stream",
     "text": [
      "Minivan\n"
     ]
    },
    {
     "name": "stderr",
     "output_type": "stream",
     "text": [
      " 45%|████▍     | 72/161 [05:04<05:28,  3.69s/it]"
     ]
    },
    {
     "name": "stdout",
     "output_type": "stream",
     "text": [
      "Food & Drink\n"
     ]
    },
    {
     "name": "stderr",
     "output_type": "stream",
     "text": [
      " 45%|████▌     | 73/161 [05:09<06:16,  4.28s/it]"
     ]
    },
    {
     "name": "stdout",
     "output_type": "stream",
     "text": [
      "Grocery Shopping\n"
     ]
    },
    {
     "name": "stderr",
     "output_type": "stream",
     "text": [
      " 46%|████▌     | 74/161 [05:15<06:39,  4.59s/it]"
     ]
    },
    {
     "name": "stdout",
     "output_type": "stream",
     "text": [
      "Music and Audio\n"
     ]
    },
    {
     "name": "stderr",
     "output_type": "stream",
     "text": [
      " 47%|████▋     | 75/161 [05:20<06:58,  4.87s/it]"
     ]
    },
    {
     "name": "stdout",
     "output_type": "stream",
     "text": [
      "Rail Travel\n"
     ]
    },
    {
     "name": "stderr",
     "output_type": "stream",
     "text": [
      " 47%|████▋     | 76/161 [05:24<06:27,  4.56s/it]"
     ]
    },
    {
     "name": "stdout",
     "output_type": "stream",
     "text": [
      "Green Vehicles\n"
     ]
    },
    {
     "name": "stderr",
     "output_type": "stream",
     "text": [
      " 48%|████▊     | 77/161 [05:27<05:38,  4.03s/it]"
     ]
    },
    {
     "name": "stdout",
     "output_type": "stream",
     "text": [
      "Medical Health\n"
     ]
    },
    {
     "name": "stderr",
     "output_type": "stream",
     "text": [
      " 48%|████▊     | 78/161 [05:32<05:59,  4.33s/it]"
     ]
    },
    {
     "name": "stdout",
     "output_type": "stream",
     "text": [
      "Shaving\n"
     ]
    },
    {
     "name": "stderr",
     "output_type": "stream",
     "text": [
      " 49%|████▉     | 79/161 [05:38<06:29,  4.75s/it]"
     ]
    },
    {
     "name": "stdout",
     "output_type": "stream",
     "text": [
      "Home & Garden\n"
     ]
    },
    {
     "name": "stderr",
     "output_type": "stream",
     "text": [
      " 50%|████▉     | 80/161 [05:41<05:44,  4.25s/it]"
     ]
    },
    {
     "name": "stdout",
     "output_type": "stream",
     "text": [
      "SUV\n"
     ]
    },
    {
     "name": "stderr",
     "output_type": "stream",
     "text": [
      " 50%|█████     | 81/161 [05:44<05:14,  3.93s/it]"
     ]
    },
    {
     "name": "stdout",
     "output_type": "stream",
     "text": [
      "Retail Industry\n"
     ]
    },
    {
     "name": "stderr",
     "output_type": "stream",
     "text": [
      " 51%|█████     | 82/161 [05:47<04:59,  3.80s/it]"
     ]
    },
    {
     "name": "stdout",
     "output_type": "stream",
     "text": [
      "Education industry\n"
     ]
    },
    {
     "name": "stderr",
     "output_type": "stream",
     "text": [
      " 52%|█████▏    | 83/161 [05:51<05:00,  3.85s/it]"
     ]
    },
    {
     "name": "stdout",
     "output_type": "stream",
     "text": [
      "Real Estate\n"
     ]
    },
    {
     "name": "stderr",
     "output_type": "stream",
     "text": [
      " 52%|█████▏    | 84/161 [05:55<04:54,  3.83s/it]"
     ]
    },
    {
     "name": "stdout",
     "output_type": "stream",
     "text": [
      "Media Industry\n"
     ]
    },
    {
     "name": "stderr",
     "output_type": "stream",
     "text": [
      " 53%|█████▎    | 85/161 [05:59<04:43,  3.73s/it]"
     ]
    },
    {
     "name": "stdout",
     "output_type": "stream",
     "text": [
      "Style & Fashion\n"
     ]
    },
    {
     "name": "stderr",
     "output_type": "stream",
     "text": [
      " 53%|█████▎    | 86/161 [06:04<05:11,  4.15s/it]"
     ]
    },
    {
     "name": "stdout",
     "output_type": "stream",
     "text": [
      "Oral care\n"
     ]
    },
    {
     "name": "stderr",
     "output_type": "stream",
     "text": [
      " 54%|█████▍    | 87/161 [06:07<04:42,  3.82s/it]"
     ]
    },
    {
     "name": "stdout",
     "output_type": "stream",
     "text": [
      "Hotel Properties\n"
     ]
    },
    {
     "name": "stderr",
     "output_type": "stream",
     "text": [
      " 55%|█████▍    | 88/161 [06:10<04:24,  3.63s/it]"
     ]
    },
    {
     "name": "stdout",
     "output_type": "stream",
     "text": [
      "Healthy Living\n"
     ]
    },
    {
     "name": "stderr",
     "output_type": "stream",
     "text": [
      " 55%|█████▌    | 89/161 [06:15<04:44,  3.95s/it]"
     ]
    },
    {
     "name": "stdout",
     "output_type": "stream",
     "text": [
      "World Cuisines\n"
     ]
    },
    {
     "name": "stderr",
     "output_type": "stream",
     "text": [
      " 56%|█████▌    | 90/161 [06:18<04:27,  3.76s/it]"
     ]
    },
    {
     "name": "stdout",
     "output_type": "stream",
     "text": [
      "Coupe\n"
     ]
    },
    {
     "name": "stderr",
     "output_type": "stream",
     "text": [
      " 57%|█████▋    | 91/161 [06:22<04:25,  3.79s/it]"
     ]
    },
    {
     "name": "stdout",
     "output_type": "stream",
     "text": [
      "Healthcare Industry\n"
     ]
    },
    {
     "name": "stderr",
     "output_type": "stream",
     "text": [
      " 57%|█████▋    | 92/161 [06:25<03:57,  3.44s/it]"
     ]
    },
    {
     "name": "stdout",
     "output_type": "stream",
     "text": [
      "Business and Finance\n"
     ]
    },
    {
     "name": "stderr",
     "output_type": "stream",
     "text": [
      " 58%|█████▊    | 93/161 [06:29<04:20,  3.83s/it]"
     ]
    },
    {
     "name": "stdout",
     "output_type": "stream",
     "text": [
      "Religious Events\n"
     ]
    },
    {
     "name": "stderr",
     "output_type": "stream",
     "text": [
      " 58%|█████▊    | 94/161 [06:34<04:26,  3.97s/it]"
     ]
    },
    {
     "name": "stdout",
     "output_type": "stream",
     "text": [
      "Sports\n"
     ]
    },
    {
     "name": "stderr",
     "output_type": "stream",
     "text": [
      " 59%|█████▉    | 95/161 [06:38<04:28,  4.07s/it]"
     ]
    },
    {
     "name": "stdout",
     "output_type": "stream",
     "text": [
      "Bars & Restaurants\n"
     ]
    },
    {
     "name": "stderr",
     "output_type": "stream",
     "text": [
      " 60%|█████▉    | 96/161 [06:41<04:10,  3.86s/it]"
     ]
    },
    {
     "name": "stdout",
     "output_type": "stream",
     "text": [
      "Telecommunications Industry\n"
     ]
    },
    {
     "name": "stderr",
     "output_type": "stream",
     "text": [
      " 60%|██████    | 97/161 [06:45<04:07,  3.87s/it]"
     ]
    },
    {
     "name": "stdout",
     "output_type": "stream",
     "text": [
      "Outdoor Activities\n"
     ]
    },
    {
     "name": "stderr",
     "output_type": "stream",
     "text": [
      " 61%|██████    | 98/161 [06:50<04:15,  4.06s/it]"
     ]
    },
    {
     "name": "stdout",
     "output_type": "stream",
     "text": [
      "Education\n"
     ]
    },
    {
     "name": "stderr",
     "output_type": "stream",
     "text": [
      " 61%|██████▏   | 99/161 [06:53<04:04,  3.95s/it]"
     ]
    },
    {
     "name": "stdout",
     "output_type": "stream",
     "text": [
      "Travel Accessories\n"
     ]
    },
    {
     "name": "stderr",
     "output_type": "stream",
     "text": [
      " 62%|██████▏   | 100/161 [06:56<03:31,  3.47s/it]"
     ]
    },
    {
     "name": "stdout",
     "output_type": "stream",
     "text": [
      "Motorcycles\n"
     ]
    },
    {
     "name": "stderr",
     "output_type": "stream",
     "text": [
      " 63%|██████▎   | 101/161 [07:03<04:41,  4.69s/it]"
     ]
    },
    {
     "name": "stdout",
     "output_type": "stream",
     "text": [
      "Birthday\n"
     ]
    },
    {
     "name": "stderr",
     "output_type": "stream",
     "text": [
      " 63%|██████▎   | 102/161 [07:06<04:03,  4.12s/it]"
     ]
    },
    {
     "name": "stdout",
     "output_type": "stream",
     "text": [
      "Sedan\n"
     ]
    },
    {
     "name": "stderr",
     "output_type": "stream",
     "text": [
      " 64%|██████▍   | 103/161 [07:08<03:26,  3.56s/it]"
     ]
    },
    {
     "name": "stdout",
     "output_type": "stream",
     "text": [
      "Aviation Industry\n"
     ]
    },
    {
     "name": "stderr",
     "output_type": "stream",
     "text": [
      " 65%|██████▍   | 104/161 [07:12<03:25,  3.60s/it]"
     ]
    },
    {
     "name": "stdout",
     "output_type": "stream",
     "text": [
      "Wedding\n"
     ]
    },
    {
     "name": "stderr",
     "output_type": "stream",
     "text": [
      " 65%|██████▌   | 105/161 [07:16<03:24,  3.66s/it]"
     ]
    },
    {
     "name": "stdout",
     "output_type": "stream",
     "text": [
      "Travel\n"
     ]
    },
    {
     "name": "stderr",
     "output_type": "stream",
     "text": [
      " 66%|██████▌   | 106/161 [07:20<03:28,  3.79s/it]"
     ]
    },
    {
     "name": "stdout",
     "output_type": "stream",
     "text": [
      "Road-Side Assistance\n"
     ]
    },
    {
     "name": "stderr",
     "output_type": "stream",
     "text": [
      " 66%|██████▋   | 107/161 [07:22<03:01,  3.36s/it]"
     ]
    },
    {
     "name": "stdout",
     "output_type": "stream",
     "text": [
      "Apartments\n"
     ]
    },
    {
     "name": "stderr",
     "output_type": "stream",
     "text": [
      " 67%|██████▋   | 108/161 [07:25<02:50,  3.21s/it]"
     ]
    },
    {
     "name": "stdout",
     "output_type": "stream",
     "text": [
      "Desktops\n"
     ]
    },
    {
     "name": "stderr",
     "output_type": "stream",
     "text": [
      " 68%|██████▊   | 109/161 [07:27<02:30,  2.89s/it]"
     ]
    },
    {
     "name": "stdout",
     "output_type": "stream",
     "text": [
      "Casinos & Gambling\n"
     ]
    },
    {
     "name": "stderr",
     "output_type": "stream",
     "text": [
      " 68%|██████▊   | 110/161 [07:30<02:20,  2.75s/it]"
     ]
    },
    {
     "name": "stdout",
     "output_type": "stream",
     "text": [
      "Entertainment Industry\n"
     ]
    },
    {
     "name": "stderr",
     "output_type": "stream",
     "text": [
      " 69%|██████▉   | 111/161 [07:33<02:29,  2.98s/it]"
     ]
    },
    {
     "name": "stdout",
     "output_type": "stream",
     "text": [
      "Awards Shows\n"
     ]
    },
    {
     "name": "stderr",
     "output_type": "stream",
     "text": [
      " 70%|██████▉   | 112/161 [07:36<02:24,  2.95s/it]"
     ]
    },
    {
     "name": "stdout",
     "output_type": "stream",
     "text": [
      "Pickup Trucks\n"
     ]
    },
    {
     "name": "stderr",
     "output_type": "stream",
     "text": [
      " 70%|███████   | 113/161 [07:42<02:59,  3.73s/it]"
     ]
    },
    {
     "name": "stdout",
     "output_type": "stream",
     "text": [
      "Events and Attractions\n"
     ]
    },
    {
     "name": "stderr",
     "output_type": "stream",
     "text": [
      " 71%|███████   | 114/161 [07:45<02:51,  3.64s/it]"
     ]
    },
    {
     "name": "stdout",
     "output_type": "stream",
     "text": [
      "Cats\n"
     ]
    },
    {
     "name": "stderr",
     "output_type": "stream",
     "text": [
      " 71%|███████▏  | 115/161 [07:49<02:49,  3.69s/it]"
     ]
    },
    {
     "name": "stdout",
     "output_type": "stream",
     "text": [
      "Cruises\n"
     ]
    },
    {
     "name": "stderr",
     "output_type": "stream",
     "text": [
      " 72%|███████▏  | 116/161 [07:53<02:53,  3.85s/it]"
     ]
    },
    {
     "name": "stdout",
     "output_type": "stream",
     "text": [
      "Auto Shows\n"
     ]
    },
    {
     "name": "stderr",
     "output_type": "stream",
     "text": [
      " 73%|███████▎  | 117/161 [07:56<02:43,  3.71s/it]"
     ]
    },
    {
     "name": "stdout",
     "output_type": "stream",
     "text": [
      "Holiday Shopping\n"
     ]
    },
    {
     "name": "stderr",
     "output_type": "stream",
     "text": [
      " 73%|███████▎  | 118/161 [08:01<02:45,  3.86s/it]"
     ]
    },
    {
     "name": "stdout",
     "output_type": "stream",
     "text": [
      "Auto Body Styles\n"
     ]
    },
    {
     "name": "stderr",
     "output_type": "stream",
     "text": [
      " 74%|███████▍  | 119/161 [08:05<02:52,  4.11s/it]"
     ]
    },
    {
     "name": "stdout",
     "output_type": "stream",
     "text": [
      "Hobbies & Interests\n"
     ]
    },
    {
     "name": "stderr",
     "output_type": "stream",
     "text": [
      " 75%|███████▍  | 120/161 [08:15<04:02,  5.92s/it]"
     ]
    },
    {
     "name": "stdout",
     "output_type": "stream",
     "text": [
      "Video Gaming\n"
     ]
    },
    {
     "name": "stderr",
     "output_type": "stream",
     "text": [
      " 75%|███████▌  | 121/161 [08:19<03:27,  5.19s/it]"
     ]
    },
    {
     "name": "stdout",
     "output_type": "stream",
     "text": [
      "Women's Jewelry and Watches\n"
     ]
    },
    {
     "name": "stderr",
     "output_type": "stream",
     "text": [
      " 76%|███████▌  | 122/161 [08:25<03:36,  5.54s/it]"
     ]
    },
    {
     "name": "stdout",
     "output_type": "stream",
     "text": [
      "Parenting\n"
     ]
    },
    {
     "name": "stderr",
     "output_type": "stream",
     "text": [
      " 76%|███████▋  | 123/161 [08:29<03:09,  4.98s/it]"
     ]
    },
    {
     "name": "stdout",
     "output_type": "stream",
     "text": [
      "Deodorant and Antiperspirant\n"
     ]
    },
    {
     "name": "stderr",
     "output_type": "stream",
     "text": [
      " 77%|███████▋  | 124/161 [08:37<03:38,  5.90s/it]"
     ]
    },
    {
     "name": "stdout",
     "output_type": "stream",
     "text": [
      "Science\n"
     ]
    },
    {
     "name": "stderr",
     "output_type": "stream",
     "text": [
      " 78%|███████▊  | 125/161 [08:40<03:04,  5.13s/it]"
     ]
    },
    {
     "name": "stdout",
     "output_type": "stream",
     "text": [
      "Fashion Events\n"
     ]
    },
    {
     "name": "stderr",
     "output_type": "stream",
     "text": [
      " 78%|███████▊  | 126/161 [08:44<02:45,  4.73s/it]"
     ]
    },
    {
     "name": "stdout",
     "output_type": "stream",
     "text": [
      "Television\n"
     ]
    },
    {
     "name": "stderr",
     "output_type": "stream",
     "text": [
      " 79%|███████▉  | 127/161 [08:48<02:32,  4.49s/it]"
     ]
    },
    {
     "name": "stdout",
     "output_type": "stream",
     "text": [
      "Flower Shopping\n"
     ]
    },
    {
     "name": "stderr",
     "output_type": "stream",
     "text": [
      " 80%|███████▉  | 128/161 [08:53<02:27,  4.48s/it]"
     ]
    },
    {
     "name": "stdout",
     "output_type": "stream",
     "text": [
      "Single Life\n"
     ]
    },
    {
     "name": "stderr",
     "output_type": "stream",
     "text": [
      " 80%|████████  | 129/161 [08:57<02:18,  4.33s/it]"
     ]
    },
    {
     "name": "stdout",
     "output_type": "stream",
     "text": [
      "Hotels and Motels\n"
     ]
    },
    {
     "name": "stderr",
     "output_type": "stream",
     "text": [
      " 81%|████████  | 130/161 [09:01<02:11,  4.24s/it]"
     ]
    },
    {
     "name": "stdout",
     "output_type": "stream",
     "text": [
      "Museums & Galleries\n"
     ]
    },
    {
     "name": "stderr",
     "output_type": "stream",
     "text": [
      " 81%|████████▏ | 131/161 [09:04<01:57,  3.91s/it]"
     ]
    },
    {
     "name": "stdout",
     "output_type": "stream",
     "text": [
      "Luxury Cars\n"
     ]
    },
    {
     "name": "stderr",
     "output_type": "stream",
     "text": [
      " 82%|████████▏ | 132/161 [09:10<02:10,  4.51s/it]"
     ]
    },
    {
     "name": "stdout",
     "output_type": "stream",
     "text": [
      "Europe Travel\n"
     ]
    },
    {
     "name": "stderr",
     "output_type": "stream",
     "text": [
      " 83%|████████▎ | 133/161 [09:14<02:03,  4.40s/it]"
     ]
    },
    {
     "name": "stdout",
     "output_type": "stream",
     "text": [
      "Games and Puzzles\n"
     ]
    },
    {
     "name": "stderr",
     "output_type": "stream",
     "text": [
      " 83%|████████▎ | 134/161 [09:17<01:47,  3.97s/it]"
     ]
    },
    {
     "name": "stdout",
     "output_type": "stream",
     "text": [
      "Convertible\n"
     ]
    },
    {
     "name": "stderr",
     "output_type": "stream",
     "text": [
      " 84%|████████▍ | 135/161 [09:20<01:36,  3.70s/it]"
     ]
    },
    {
     "name": "stdout",
     "output_type": "stream",
     "text": [
      "Cooking\n"
     ]
    },
    {
     "name": "stderr",
     "output_type": "stream",
     "text": [
      " 84%|████████▍ | 136/161 [09:22<01:23,  3.33s/it]"
     ]
    },
    {
     "name": "stdout",
     "output_type": "stream",
     "text": [
      "Apparel Industry\n"
     ]
    },
    {
     "name": "stderr",
     "output_type": "stream",
     "text": [
      " 85%|████████▌ | 137/161 [09:24<01:10,  2.95s/it]"
     ]
    },
    {
     "name": "stdout",
     "output_type": "stream",
     "text": [
      "Alcoholic Beverages\n"
     ]
    },
    {
     "name": "stderr",
     "output_type": "stream",
     "text": [
      " 86%|████████▌ | 138/161 [09:28<01:11,  3.11s/it]"
     ]
    },
    {
     "name": "stdout",
     "output_type": "stream",
     "text": [
      "Large Animals\n"
     ]
    },
    {
     "name": "stderr",
     "output_type": "stream",
     "text": [
      " 86%|████████▋ | 139/161 [09:31<01:08,  3.09s/it]"
     ]
    },
    {
     "name": "stdout",
     "output_type": "stream",
     "text": [
      "Travel Locations\n"
     ]
    },
    {
     "name": "stderr",
     "output_type": "stream",
     "text": [
      " 87%|████████▋ | 140/161 [09:34<01:05,  3.12s/it]"
     ]
    },
    {
     "name": "stdout",
     "output_type": "stream",
     "text": [
      "Women's Shoes and Footwear\n"
     ]
    },
    {
     "name": "stderr",
     "output_type": "stream",
     "text": [
      " 88%|████████▊ | 141/161 [09:40<01:22,  4.10s/it]"
     ]
    },
    {
     "name": "stdout",
     "output_type": "stream",
     "text": [
      "Laptops\n"
     ]
    },
    {
     "name": "stderr",
     "output_type": "stream",
     "text": [
      " 88%|████████▊ | 142/161 [09:45<01:21,  4.27s/it]"
     ]
    },
    {
     "name": "stdout",
     "output_type": "stream",
     "text": [
      "Fitness and Exercise\n"
     ]
    },
    {
     "name": "stderr",
     "output_type": "stream",
     "text": [
      " 89%|████████▉ | 143/161 [09:50<01:19,  4.40s/it]"
     ]
    },
    {
     "name": "stdout",
     "output_type": "stream",
     "text": [
      "Office Property\n"
     ]
    },
    {
     "name": "stderr",
     "output_type": "stream",
     "text": [
      " 89%|████████▉ | 144/161 [09:53<01:07,  3.99s/it]"
     ]
    },
    {
     "name": "stdout",
     "output_type": "stream",
     "text": [
      "Remodeling & Construction\n"
     ]
    },
    {
     "name": "stderr",
     "output_type": "stream",
     "text": [
      " 90%|█████████ | 145/161 [09:59<01:14,  4.65s/it]"
     ]
    },
    {
     "name": "stdout",
     "output_type": "stream",
     "text": [
      "Pop Culture\n"
     ]
    },
    {
     "name": "stderr",
     "output_type": "stream",
     "text": [
      " 91%|█████████ | 146/161 [10:01<00:59,  3.99s/it]"
     ]
    },
    {
     "name": "stdout",
     "output_type": "stream",
     "text": [
      "Hospitality Industry\n"
     ]
    },
    {
     "name": "stderr",
     "output_type": "stream",
     "text": [
      " 91%|█████████▏| 147/161 [10:06<00:58,  4.15s/it]"
     ]
    },
    {
     "name": "stdout",
     "output_type": "stream",
     "text": [
      "Camping\n"
     ]
    },
    {
     "name": "stderr",
     "output_type": "stream",
     "text": [
      " 92%|█████████▏| 148/161 [10:09<00:49,  3.82s/it]"
     ]
    },
    {
     "name": "stdout",
     "output_type": "stream",
     "text": [
      "Beach Travel\n"
     ]
    },
    {
     "name": "stderr",
     "output_type": "stream",
     "text": [
      " 93%|█████████▎| 149/161 [10:12<00:41,  3.49s/it]"
     ]
    },
    {
     "name": "stdout",
     "output_type": "stream",
     "text": [
      "Technology & Computing\n"
     ]
    },
    {
     "name": "stderr",
     "output_type": "stream",
     "text": [
      " 93%|█████████▎| 150/161 [10:14<00:35,  3.23s/it]"
     ]
    },
    {
     "name": "stdout",
     "output_type": "stream",
     "text": [
      "Land and Farms\n"
     ]
    },
    {
     "name": "stderr",
     "output_type": "stream",
     "text": [
      " 94%|█████████▍| 151/161 [10:20<00:38,  3.83s/it]"
     ]
    },
    {
     "name": "stdout",
     "output_type": "stream",
     "text": [
      "Automotive Industry\n"
     ]
    },
    {
     "name": "stderr",
     "output_type": "stream",
     "text": [
      " 94%|█████████▍| 152/161 [10:23<00:34,  3.80s/it]"
     ]
    },
    {
     "name": "stdout",
     "output_type": "stream",
     "text": [
      "Women's Clothing\n"
     ]
    },
    {
     "name": "stderr",
     "output_type": "stream",
     "text": [
      " 95%|█████████▌| 153/161 [10:29<00:33,  4.24s/it]"
     ]
    },
    {
     "name": "stdout",
     "output_type": "stream",
     "text": [
      "Family and Relationships\n"
     ]
    },
    {
     "name": "stderr",
     "output_type": "stream",
     "text": [
      " 96%|█████████▌| 154/161 [10:33<00:29,  4.25s/it]"
     ]
    },
    {
     "name": "stdout",
     "output_type": "stream",
     "text": [
      "Auto Type\n"
     ]
    },
    {
     "name": "stderr",
     "output_type": "stream",
     "text": [
      " 96%|█████████▋| 155/161 [10:38<00:26,  4.46s/it]"
     ]
    },
    {
     "name": "stdout",
     "output_type": "stream",
     "text": [
      "Women's Handbags and Wallets\n"
     ]
    },
    {
     "name": "stderr",
     "output_type": "stream",
     "text": [
      " 97%|█████████▋| 156/161 [10:43<00:23,  4.63s/it]"
     ]
    },
    {
     "name": "stdout",
     "output_type": "stream",
     "text": [
      "Musical Instruments\n"
     ]
    },
    {
     "name": "stderr",
     "output_type": "stream",
     "text": [
      " 98%|█████████▊| 157/161 [10:47<00:18,  4.56s/it]"
     ]
    },
    {
     "name": "stdout",
     "output_type": "stream",
     "text": [
      "Wellness\n"
     ]
    },
    {
     "name": "stderr",
     "output_type": "stream",
     "text": [
      " 98%|█████████▊| 158/161 [10:52<00:13,  4.57s/it]"
     ]
    },
    {
     "name": "stdout",
     "output_type": "stream",
     "text": [
      "Smartphones\n"
     ]
    },
    {
     "name": "stderr",
     "output_type": "stream",
     "text": [
      " 99%|█████████▉| 159/161 [10:57<00:09,  4.77s/it]"
     ]
    },
    {
     "name": "stdout",
     "output_type": "stream",
     "text": [
      "Prom\n"
     ]
    },
    {
     "name": "stderr",
     "output_type": "stream",
     "text": [
      " 99%|█████████▉| 160/161 [10:59<00:04,  4.03s/it]"
     ]
    },
    {
     "name": "stdout",
     "output_type": "stream",
     "text": [
      "Cinemas and Events\n"
     ]
    },
    {
     "name": "stderr",
     "output_type": "stream",
     "text": [
      "100%|██████████| 161/161 [11:03<00:00,  4.12s/it]"
     ]
    },
    {
     "name": "stdout",
     "output_type": "stream",
     "text": [
      "[{'Graduation': ['Graduation ceremony', 'Graduation cap and gown', 'Diploma', 'Commencement', 'Graduation party', 'Graduation speech', 'Graduation announcement', 'Graduation gifts', 'Graduation photos', 'Graduation date', 'Graduation requirements', 'Graduation invitation', 'Graduation honors', 'Graduation decorations', 'Graduation year']}, {'Shopping': ['Online shopping', 'Retail stores', 'E', 'Shopping malls', 'Discounts', 'Coupons', 'Deals', 'Sales', 'Loyalty programs', 'Shopping carts', 'Payment methods', 'Product reviews', 'Customer service', 'Returns', 'Exchanges', 'Fashion', 'Electronics', 'Home goods', 'Groceries', 'Accessories', 'Beauty products', 'Gifts', 'Holiday shopping', 'Black Friday', 'Cyber Monday', 'Prime Day.']}, {'Automotive': ['Car', 'Vehicle', 'Automobile', 'Engine', 'Transmission', 'Suspension', 'Brakes', 'Tires', 'Fuel efficiency', 'Emissions', 'Electric vehicles', 'Hybrid vehicles', 'Battery technology', 'Autonomous driving', 'Driver assistance systems', 'Car safety', 'Car maintenance', 'Car repair', 'Car customization', 'Car accessories.']}, {'Houses': ['Real estate', 'Mortgage', 'Property value', 'Homeownership', 'Architecture', 'Interior design', 'Home improvement', 'Neighborhood', 'Renting', 'Housing market', 'Property taxes', 'Home inspection', 'Home insurance', 'Energy efficiency', 'Home security', 'Landscaping', 'Moving', 'Home renovation', 'Roommates', 'Home staging']}, {'Commercial Trucks': ['Commercial vehicles', 'Semi', 'Big rigs', 'Freight trucks', 'Heavy', 'Delivery trucks', 'Box trucks', 'Flatbed trucks', 'Dump trucks', 'Tow trucks', 'Tractor', 'Commercial drivers', 'Fleet management', 'Cargo transportation', 'Trucking industry', 'Transportation logistics', 'Commercial vehicle maintenance', 'Commercial vehicle regulations', 'Commercial vehicle safety.']}, {'Station Wagon': ['Family car', 'Estate car', 'Large trunk space', 'Cargo capacity', 'Rear seats', 'Third', 'All', 'Gas mileage', 'Safety features', 'Towing capacity', 'Roof rails', 'Ground clearance', 'Versatility', 'Utility vehicle', 'Road trip car']}, {'South America Travel': ['South America', 'Travel', 'Adventure', 'Culture', 'Cuisine', 'Wildlife', 'Nature', 'Landscapes', 'History', 'Beaches', 'Mountains', 'Rainforest', 'Amazon', 'Machu Picchu', 'Galapagos Islands', 'Patagonia', 'Andes', 'Amazon River', 'Carnival', 'Samba', 'Tango', 'Spanish', 'Portuguese', 'Backpacking', 'Budget travel', 'Luxury travel', 'Solo travel', 'Group tours', 'Sustainable tourism.']}, {'Bath and Shower': ['Bath', 'Shower', 'Bathtub', 'Showerhead', 'Faucet', 'Drain', 'Bathrobe', 'Bathmat', 'Bubble bath', 'Bath salts', 'Shower gel', 'Shampoo', 'Conditioner', 'Body wash', 'Soap', 'Loofah', 'Scrub', 'Towel', 'Bath towel', 'Hand towel', 'Washcloth', 'Bath oil', 'Shower cap', 'Bath pillow', 'Bath caddy', 'Bathrobe', 'Shower curtain', 'Shower rack', 'Waterproof speaker', 'Bath bombs', 'Bath sponge', 'Shower radio', 'Bathrobe', 'Bath accessories', 'Showerhead filter', 'Steam shower', 'Rain showerhead.']}, {'Theater Venues and Events': ['Theater', 'Venue', 'Events', 'Performance', 'Stage', 'Production', 'Acting', 'Drama', 'Play', 'Musical', 'Concert', 'Auditorium', 'Seating', 'Lighting', 'Sound', 'Backstage', 'Props', 'Set design', 'Costume design', 'Box office', 'Ticketing', 'Usher', 'Audience', 'Intermission', 'Rehearsal', 'Director', 'Casting', 'Script', 'Playwright', 'Choreography.']}, {'Books and Literature': ['Fiction', 'Non', 'Poetry', 'Memoir', 'Autobiography', 'Biography', 'Classic literature', 'Contemporary literature', 'Young adult literature', \"Children's literature\", 'Science fiction', 'Fantasy', 'Mystery', 'Romance', 'Historical fiction', 'Literary criticism', 'Bestsellers', 'Pulitzer Prize', 'Nobel Prize for Literature', 'National Book Award', 'Book clubs', 'Literature festivals', 'Libraries', 'E', 'Audiobooks', 'Bookstores', 'Publishing industry', 'Writing techniques', 'Reading habits', 'Book recommendations', 'Book reviews', 'Literary analysis.']}, {'Makeup and Accessories': ['cosmetics', 'beauty', 'lipstick', 'eyeshadow', 'foundation', 'mascara', 'blush', 'bronzer', 'highlighter', 'makeup brushes', 'makeup sponges', 'eyelash curler', 'makeup remover', 'setting spray', 'primer', 'lip liner', 'eyebrow pencil', 'contour', 'concealer', 'beauty blender', 'makeup palette', 'makeup kit', 'mirror', 'vanity table', 'makeup bag', 'cosmetic case', 'storage containers', 'jewelry', 'hair accessories', 'headbands', 'hair clips', 'hair ties', 'hair pins', 'hair combs', 'sunglasses', 'hats', 'scarves', 'handbags', 'wallets', 'watches', 'belts', 'shoes', 'perfume', 'nail polish', 'nail file', 'nail clippers']}, {'Non-Alcoholic Beverages': ['Mocktails', 'Juices', 'Smoothies', 'Tea', 'Coffee', 'Sodas', 'Energy drinks', 'Herbal drinks', 'Infused water', 'Kombucha', 'Lemonade', 'Iced tea', 'Milkshakes', 'Hot chocolate', 'Sparkling water', 'Non', 'Punches', 'Fruit punches', 'Vegetable juices', 'Coconut water.']}, {'Parks & Nature': ['National parks', 'State parks', 'City parks', 'Wilderness areas', 'Nature reserves', 'Hiking trails', 'Camping', 'Picnicking', 'Wildlife watching', 'Bird watching', 'Forests', 'Mountains', 'Lakes', 'Rivers', 'Oceans', 'Beaches', 'Conservation', 'Environmentalism', 'Outdoor recreation', 'Nature education']}, {'Cameras and Camcorders': ['DSLR', 'Mirrorless', 'Point', 'Zoom lens', 'Wide', 'Telephoto lens', 'Aperture', 'Shutter speed', 'ISO', 'Autofocus', 'Manual focus', 'Image stabilization', 'Megapixels', 'Full', 'Crop sensor', 'Video resolution', 'Microphone input', 'HDMI output', 'Viewfinder', 'LCD screen', 'Battery life', 'Memory card', 'RAW file format', 'JPEG file format', 'Video format', 'Tripod']}, {'Nail Care': ['Manicure', 'Pedicure', 'Nail polish', 'Cuticle care', 'Nail health', 'Nail art', 'Nail treatment', 'Nail shaping', 'Nail tools', 'Nail file', 'Nail buffer', 'Nail strengthening', 'Nail growth', 'Nail salon', 'Acrylic nails', 'Gel nails', 'French manicure', 'Nail care products', 'Nail care routine', 'Nail fungus', 'Nail biting', 'Nail maintenance']}, {'Auto Repair': ['Car maintenance', 'Engine repair', 'Brake repair', 'Transmission repair', 'Oil change', 'Tire rotation', 'Wheel alignment', 'Suspension repair', 'Exhaust system repair', 'Battery replacement', 'Electrical system repair', 'Cooling system repair', 'Fuel system repair', 'Diagnostic testing', 'Car detailing', 'Auto body repair', 'Paint touch', 'Windshield replacement', 'Car audio installation', 'Car customization', 'Car wash', 'Car rental', 'Towing service', 'Roadside assistance', 'Car insurance', 'Car buying guide']}, {'Zoos & Aquariums': ['Wildlife conservation', 'Animal welfare', 'Captive breeding', 'Endangered species', 'Education', 'Entertainment', 'Exhibits', 'Marine life', 'Terrestrial life', 'Habitats', 'Tourist attraction', 'Zoological parks', 'Animal behavior', 'Animal care', 'Animal enrichment', 'Animal research', 'Animal husbandry']}, {'Home Improvement': ['DIY', 'Renovation', 'Remodeling', 'Interior design', 'Painting', 'Flooring', 'Plumbing', 'Electrical', 'Carpentry', 'Landscaping', 'Home organization', 'Home maintenance', 'Energy efficiency', 'Kitchen renovation', 'Bathroom renovation', 'Home security', 'Home automation', 'Furniture', 'Decor', 'Lighting.']}, {'Air Travel': ['Airline', 'Flight', 'Ticket', 'Boarding pass', 'Check', 'Baggage', 'Security', 'Terminal', 'Gate', 'Cabin', 'Seat', 'In', 'Meal service', 'Flight attendant', 'Pilot', 'Aircraft', 'Airports', 'International travel', 'Domestic travel', 'Connecting flights', 'Layover', 'Delay', 'Cancellation', 'Overbooking', 'Upgrade', 'Frequent flyer program', 'TSA', 'Customs', 'Immigration', 'Jet lag', 'Airline regulations', 'Safety measures', 'Route planning', 'Air traffic control', 'Ground crew.']}, {'Dating': ['Relationships', 'Love', 'Romance', 'Compatibility', 'Communication', 'Trust', 'Commitment', 'Intimacy', 'Attraction', 'Chemistry', 'Dating apps', 'Online dating', 'Blind dates', 'First impressions', 'Red flags', 'Compatibility tests', 'Flirting', 'Breakups', 'Dating advice', 'Single life', 'Dating culture', 'Gender roles', 'Expectations', 'Boundaries', 'Jealousy', 'Infidelity', 'Long distance relationships', 'Marriage']}, {'Personal Celebrations & Life Events': ['Birthdays', 'Anniversaries', 'Weddings', 'Graduations', 'Retirement', 'Baptisms', 'Bar/Bat Mitzvahs', 'Quinceañeras', 'Sweet 16 parties', 'Baby showers', 'Bridal showers', 'Engagement parties', 'Gender reveal parties', 'Housewarming parties', 'Reunions', 'Funerals', 'Memorials', 'Holiday parties', \"New Year's Eve parties\", 'Religious holidays', 'Festivals', 'Cultural celebrations']}, {'Auto Parts': ['Car parts', 'Automotive components', 'Replacement parts', 'Engine parts', 'Suspension parts', 'Brake parts', 'Transmission parts', 'Exhaust systems', 'Electrical components', 'Filters', 'Belts and hoses', 'Fuel system parts', 'Cooling system parts', 'Ignition system parts', 'Steering parts', 'Wheels and tires', 'Body parts', 'Interior parts', 'Aftermarket parts', 'OEM parts', 'Performance parts', 'Maintenance parts', 'Car accessories.']}, {'Board Games and Puzzles': ['Board games', 'Puzzles', 'Strategy games', 'Card games', 'Cooperative games', 'Competitive games', 'Classic games', 'Family games', \"Children's games\", 'Educational games', 'Word games', 'Party games', 'Trivia games', 'Chess', 'Checkers', 'Scrabble', 'Monopoly', 'Risk', 'Clue', 'Jigsaw puzzles', 'Crossword puzzles', 'Sudoku', 'Brain teasers', 'Logic puzzles', \"Rubik's cube\", 'Memory games', 'Dominoes', 'Mahjong', 'Backgammon', 'Catan', 'Ticket to Ride', 'Pandemic', 'Carcassonne', 'Codenames', 'Sequence', 'Bananagrams', 'Apples to Apples', 'Settlers of Catan', 'Trivial Pursuit', 'Guess Who?']}, {'Polar Travel': ['Arctic', 'Antarctic', 'Polar regions', 'Ice caps', 'Glaciers', 'Polar bears', 'Penguins', 'Aurora borealis', 'Snowshoeing', 'Dog sledding', 'Ice fishing', 'Northern lights', 'Snowmobiling', 'Expedition', 'Ice climbing', 'Wildlife', 'Climate change', 'Extreme weather', 'Adventure', 'Survival skills', 'Research stations', 'Icebreakers', 'Inuit culture', 'Arctic Circle', 'South Pole', 'North Pole', 'Tundra']}, {'Smart Home': ['Home automation', 'Internet of Things (IoT)', 'Voice assistants (e.g. Alexa, Google Assistant)', 'Smart thermostats', 'Smart lighting', 'Smart security systems', 'Smart locks', 'Energy efficiency', 'Remote access', 'Smart appliances', 'Smart entertainment systems', 'Smart sensors', 'Home monitoring', 'Home control', 'Smart speakers', 'Smart hubs', 'Connected devices', 'Artificial intelligence', 'Machine learning', 'Home connectivity', 'Home integration', 'Home technology.']}, {'Technology Industry': ['Artificial intelligence', 'Big data', 'Cloud computing', 'Cybersecurity', 'Digital transformation', 'E', 'Internet of Things (IoT)', 'Machine learning', 'Mobile devices', 'Network infrastructure', 'Robotics', 'Software development', 'Virtual reality', 'Wearable technology', '5G technology']}, {'Desserts and Baking': ['Desserts', 'Baking', 'Cookies', 'Cakes', 'Pies', 'Brownies', 'Cupcakes', 'Muffins', 'Cheesecake', 'Dessert bars', 'Pastry', 'Bread', 'Chocolate', 'Vanilla', 'Fruit', 'Nuts', 'Sugar', 'Flour', 'Butter', 'Eggs', 'Milk', 'Cream', 'Frosting', 'Icing', 'Whipped cream', 'Ganache', 'Caramel', 'Pudding', 'Custard', 'Tarts', 'Crumbles', 'Ice cream', 'Sorbet', 'Sherbet', 'Trifles', 'Parfaits', 'Biscuits', 'Shortbread', 'Scones', 'Danish pastries', 'Croissants', 'Pâte à choux.']}, {'Home Appliances': ['Refrigerator', 'Stove', 'Oven', 'Microwave', 'Dishwasher', 'Washing machine', 'Dryer', 'Vacuum cleaner', 'Air conditioner', 'Heater', 'Blender', 'Toaster', 'Coffee maker', 'Kettle', 'Iron', 'Hair dryer', 'Electric fan', 'Water dispenser', 'Food processor', 'Juicer']}, {'Space and Astronomy': ['Stars', 'Planets', 'Galaxies', 'Black holes', 'Nebulae', 'Comets', 'Asteroids', 'Satellites', 'Telescopes', 'Spacecraft', 'Exoplanets', 'Universe', 'Gravity', 'Cosmic radiation', 'Dark matter', 'Astronomy', 'Astrophysics', 'Astronauts', 'Space exploration', 'Space missions', 'Space technology', 'Space stations', 'Lunar exploration', 'Mars exploration', 'Solar system', 'Outer space', 'Astrobiology']}, {'Reptiles': ['Lizards', 'Snakes', 'Turtles', 'Crocodiles', 'Chameleons', 'Geckos', 'Iguanas', 'Skinks', 'Komodo Dragons', 'Gila Monsters', 'Reptile care', 'Reptile habitat', 'Reptile behavior', 'Reptile diet', 'Reptile anatomy', 'Venomous reptiles', 'Cold', 'Herpetology', 'Reptile conservation']}, {'Primary Education': ['Elementary education', 'Early childhood education', 'Classroom management', 'Curriculum development', 'Instructional strategies', 'Student assessment', 'Literacy development', 'Numeracy development', 'Educational technology', 'Learning disabilities', 'Special needs education', 'Teacher training', 'Parent involvement', 'School readiness', 'Play', 'Inquiry', 'STEM education', 'Social', 'Multicultural education', 'Gifted education']}, {'Beauty': ['skincare', 'makeup', 'hair care', 'beauty products', 'cosmetics', 'grooming', 'beauty routine', 'beauty tips', 'beauty trends', 'beauty industry', 'beauty standards', 'natural beauty', 'beauty influencers', 'beauty bloggers', 'beauty vloggers', 'beauty tutorials', 'beauty hacks', 'beauty salons', 'beauty treatments', 'anti', 'beauty tools', 'beauty subscription boxes', 'beauty services', 'beauty community', 'beauty events', 'beauty pageants', 'beauty contests', 'beauty schools', 'beauty certifications', 'beauty therapy', 'beauty insurance', 'beauty jobs', 'beauty career']}, {'Tablets and E-readers': ['Tablets', 'E', 'Touchscreen', 'Display', 'Battery life', 'Operating system', 'Wi', 'Bluetooth', 'Storage', 'Screen size', 'Resolution', 'Processor', 'RAM', 'Front', 'Rear', 'Audio', 'Video playback', 'Connectivity', 'Internet browsing', 'Apps', 'eBooks', 'Reading experience', 'Digital content', 'Portable', 'Lightweight', 'Durable', 'User', 'Cost', 'Brand options', 'Popular models.']}, {\"Men's Formal Wear\": [\"Men's suits\", 'Tuxedos', 'Dress shirts', 'Neckties', 'Bow ties', 'Pocket squares', 'Dress shoes', 'Cufflinks', 'Waistcoats', 'Blazers', 'Dress pants', 'Dress socks', 'Cummerbunds', 'Top hats', 'Dress watches', 'Tie clips', 'Lapel pins', 'Black tie attire', 'Formal events', 'Business attire']}, {'Africa Travel': ['Safari', 'Wildlife', 'Culture', 'Adventure', 'Beaches', 'National Parks', 'History', 'Landscapes', 'Conservation', 'Cuisine', 'Music', 'Festivals', 'Eco', 'Volunteering', 'Gorilla trekking', 'Mount Kilimanjaro', 'Victoria Falls', 'Nile River', 'Serengeti', 'Cape Town', 'Marrakech', 'Pyramids', 'Sahara Desert']}, {'Barbecues and Grilling': ['Barbecue', 'Grilling', 'BBQ', 'Charcoal', 'Gas grill', 'Smoker', 'Meat', 'Vegetables', 'Marinade', 'Rubs', 'Sauce', 'Charcoal briquettes', 'Wood chips', 'Skewers', 'Grill basket', 'Grilling utensils', 'Charcoal chimney', 'Steak', 'Burger', 'Hotdog', 'Chicken', 'Ribs', 'Pork', 'Beef', 'Seafood', 'Kabobs', 'Grilled vegetables', 'BBQ pit', 'Temperature control', 'Barbecue competition', 'Barbecue sauce recipe', 'Grilling techniques', 'Outdoor cooking', 'Grill cleaning', 'Grill cover', 'Grill mat', 'Grill light', 'Grill thermometer.']}, {'Gardening': ['Plants', 'Soil', 'Seeds', 'Watering', 'Fertilizers', 'Composting', 'Pruning', 'Landscaping', 'Pests', 'Flowers', 'Vegetables', 'Fruit trees', 'Garden tools', 'Garden design', 'Garden maintenance', 'Sunlight', 'Shade', 'Mulching', 'Irrigation', 'Garden pests control', 'Raised beds', 'Container gardening', 'Organic gardening', 'Garden beds', 'Garden structures', 'Garden accessories.']}, {'Asia Travel': ['Asia', 'Travel', 'Tourism', 'Backpacking', 'Culture', 'Adventure', 'Food', 'Landmarks', 'Sightseeing', 'Beaches', 'Mountains', 'Temples', 'History', 'Festivals', 'Cities', 'Nature', 'Wildlife', 'Budget', 'Luxury', 'Accommodation', 'Transportation', 'Languages', 'Visa', 'Currency', 'Safety', 'Health', 'Climate']}, {\"Men's Clothing\": [\"Men's fashion\", \"Men's clothing styles\", \"Men's formal wear\", \"Men's casual wear\", \"Men's streetwear\", \"Men's suits\", \"Men's blazers\", \"Men's dress shirts\", \"Men's t\", \"Men's polo shirts\", \"Men's jeans\", \"Men's pants\", \"Men's shorts\", \"Men's jackets\", \"Men's coats\", \"Men's sweaters\", \"Men's hoodies\", \"Men's accessories (belts, ties, hats, watches, etc.)\"]}, {'Van': ['Van life', 'Cargo van', 'Minivan', 'Passenger van', 'Camper van', 'Conversion van', 'Van rental', 'Van conversion', 'Sprinter van', 'Transit van', 'Chevy van', 'Ford van', 'Dodge van', 'Volkswagen van', 'Roof rack', 'Van accessories', 'Van camping', 'Van interior design', 'Van insulation', 'Van insulation kit']}, {'Retail Property': ['Commercial real estate', 'Shopping center', 'Mall', 'High street', 'Leasing', 'Tenant', 'Landlord', 'Foot traffic', 'Retail trends', 'Sales performance', 'Vacancy rate', 'Anchor tenant', 'Retail mix', 'Zoning', 'Location', 'Property management', 'Lease negotiation', 'Marketing strategy', 'Consumer behavior', 'Demographics', 'Competitor analysis', 'Renovation', 'Expansion', 'Franchising', 'E', 'Technology integration in retail property.']}, {'Home Entertaining': ['Home entertainment', 'Hosting', 'Parties', 'Food and drinks', 'Decorations', 'Music', 'Games', 'Invitations', 'Themes', 'Guest list', 'Entertaining spaces', 'Table settings', 'Centerpieces', 'Appetizers', 'Cocktails', 'Wine', 'Beer', 'Desserts', 'Party favors', 'Entertainment options', 'Outdoor entertaining', 'Indoor entertaining', 'Hosting tips', 'Budget', 'Special occasions', 'Holidays', 'Seasonal events', 'DIY projects', 'Party planning', 'Socializing', 'Atmosphere', 'Lighting', 'Seating arrangements', 'Conversation starters', 'Photo opportunities', 'Clean', 'Thank you notes', 'Hosting etiquette']}, {'Logistics and Transportation Industry': ['Supply chain management', 'Freight forwarding', 'Warehouse management', 'Inventory control', 'Transportation infrastructure', 'Route optimization', 'Last', 'Carrier selection', 'Freight rates', 'Customs clearance', 'Intermodal transportation', 'Global trade', 'Reverse logistics', 'E', 'Fleet management', 'Logistics technology', 'Sustainability in logistics', 'Outsourcing logistics services', 'Third', 'Fourth', 'Cold chain logistics.']}, {'Dining Out': ['Restaurants', 'Menus', 'Cuisine', 'Food', 'Beverages', 'Dining experience', 'Reservations', 'Ambiance', 'Service', 'Waitstaff', 'Special occasions', 'Dietary restrictions', 'Pricing', 'Reviews', 'Recommendations', 'Location', 'Atmosphere', 'Outdoor dining', 'Takeout', 'Delivery', 'Fine dining', 'Casual dining', 'Ethnic cuisine', 'Fast food', 'Chain restaurants', 'Local eateries', 'Bar and grill', 'Wine selection', 'Cocktails', 'Happy hour.']}, {'Dogs': ['Canine', 'Pet', 'Breed', 'Training', 'Behavior', 'Health', 'Nutrition', 'Exercise', 'Grooming', 'Obedience', 'Agility', 'Socialization', 'Therapy', 'Working dogs', 'Rescue dogs', 'Service dogs', 'Guard dogs', 'Hunting dogs', 'Toy dogs', 'Terrier', 'Spaniel', 'Retriever', 'Bulldog', 'Poodle', 'German Shepherd', 'Labrador', 'Golden Retriever', 'Dachshund', 'Chihuahua', 'Pitbull', 'Husky', 'Beagle', 'Shih Tzu', 'Boxer', 'Jack Russell Terrier', 'Border Collie', 'Great Dane', 'Mastiff', 'Rottweiler', 'Doberman', 'Cocker Spaniel', 'Bichon Frise', 'Sheepdog', 'Greyhound', 'Saint Bernard', 'Hound', 'Schnauzer', 'Weimaraner', 'Samoyed', 'Maltese', 'Yorkie.']}, {'Auto Rentals': ['Car rental', 'Auto rental', 'Vehicle rental', 'Rent a car', 'Car hire', 'Auto hire', 'Vehicle hire', 'Renting cars', 'Car leasing', 'Auto leasing', 'Vehicle leasing', 'Car rental companies', 'Auto rental services', 'Car rental rates', 'Auto rental prices', 'Car rental insurance', 'Auto rental policies', 'Car rental reservations', 'Auto rental booking', 'Car rental locations', 'Auto rental availability', 'Car rental discounts', 'Auto rental deals', 'Car rental promotions', 'Auto rental coupons', 'Car rental loyalty programs', 'Auto rental rewards', 'Car rental benefits', 'Auto rental advantages']}, {'Birds': ['Beaks', 'Feathers', 'Wings', 'Migration', 'Nests', 'Eggs', 'Plumage', 'Flight', 'Avian communication', 'Bird watching', 'Ornithology', 'Raptors', 'Songbirds', 'Waterfowl', 'Endangered species', 'Habitat conservation', 'Bird behavior', 'Bird anatomy', 'Bird songs', 'Bird of prey']}, {'Card Games': ['Poker', 'Blackjack', 'Solitaire', 'Bridge', 'Rummy', 'Spades', 'Hearts', 'Go Fish', 'Uno', 'War', 'Old Maid', 'Euchre', 'Pinochle', 'Cribbage', 'Canasta', 'Gin Rummy', 'Crazy Eights', 'Tarot cards', 'Playing cards', 'Shuffling', 'Dealing', 'Hand ranking', 'Betting', 'Strategy', 'Bluffing', 'Tricking', 'Trump cards', 'Table games', 'Casino games', 'Family games', 'Multiplayer games', 'Competitive games', 'Classic games.']}, {'Malls & Shopping Centers': ['Shopping', 'Retail', 'Stores', 'Department stores', 'Boutiques', 'Food court', 'Parking', 'Fashion', 'Entertainment', 'Cinemas', 'Coffee shops', 'Restaurants', 'Convenience', 'Consumerism', 'Discounts', 'Sales', 'Promotions', 'Convenience', 'Convenience stores', 'Gift shops', 'Shopping experience', 'Shopping mall', 'Shopping center', 'Shopping plaza', 'Convenience shopping', 'Shopping therapy', 'Retail therapy', 'Window shopping', 'Shopaholic', 'Brand names', 'Luxury brands', 'High', 'Budget shopping', 'Mall culture', 'Family shopping', 'Shopping spree', 'Indoor shopping', 'Outdoor shopping', 'Big box stores', 'Anchor stores', 'Shopping destination', 'Retail park', 'Shopping arcade', 'Shopping complex', 'Discount stores', 'Hypermarkets', 'Supermarkets', 'Designer stores', 'Specialty stores', 'Convenience stores', 'Shopping malls near me', 'Online shopping', 'E', 'Retail industry.']}, {'Home Security': ['Burglar alarm', 'Surveillance cameras', 'Motion sensors', 'Door locks', 'Window locks', 'Security doors', 'Intercom systems', 'Smart home security systems', 'Home automation', 'Panic buttons', 'Security lighting', 'Smoke detectors', 'Carbon monoxide detectors', 'Home security signs', 'Security guards', 'Neighborhood watch.']}, {'Pets': ['Dogs', 'Cats', 'Birds', 'Fish', 'Reptiles', 'Hamsters', 'Guinea pigs', 'Rabbits', 'Pet care', 'Pet food', 'Pet grooming', 'Pet training', 'Pet adoption', 'Pet health', 'Pet toys', 'Pet accessories', 'Pet behavior', 'Pet insurance', 'Pet', 'Pet', 'Pet transportation', 'Pet ownership', 'Animal shelters', 'Animal welfare.']}, {'Food Industry': ['Agriculture', 'Farming', 'Food production', 'Food processing', 'Food safety', 'Food distribution', 'Food packaging', 'Food marketing', 'Food labeling', 'Food regulations', 'Restaurant industry', 'Fast food industry', 'Grocery stores', 'Food waste', 'Sustainable agriculture', 'Organic food', 'Genetically modified organisms (GMOs)', 'Food trends', 'Food technology', 'Food innovation', 'Food packaging materials', 'Food delivery services', 'Food service equipment', 'Food supply chain', 'Food nutrition', 'Food allergies', 'Food recalls', 'Food certification', 'Food service management', 'Food industry associations', 'Food industry research', 'Food industry employment', 'Food industry trade shows']}, {\"Women's Formal Wear\": [\"Women's formal dresses\", 'Evening gowns', 'Cocktail dresses', 'Black', 'Formal suits', 'Formal jumpsuits', 'Dress shoes', 'Jewelry', 'Clutch purse', 'Hair accessories', 'Makeup', 'Nail polish', 'Hosiery', 'Shapewear', 'Formal outerwear']}, {'Daycare and Pre-School': ['Child care', 'Early childhood education', 'Nursery school', 'Play', 'Curriculum', 'Learning through play', 'Socialization', 'Child development', 'Parent involvement', 'Licensed facilities', 'Safety regulations', 'Age', 'Kindergarten readiness', 'Developmental milestones', 'Nutrition and meals', 'Classroom environment', 'Teacher qualifications', 'Accreditation', 'Daily schedule', 'Nap time', 'Outdoor play', 'Enrichment programs', 'Field trips', 'Assessments', 'Progress reports', 'Communication with parents', 'After', 'Summer camps.']}, {'Fine Art': ['Painting', 'Sculpture', 'Drawing', 'Printmaking', 'Photography', 'Ceramics', 'Glass blowing', 'Abstract art', 'Realism', 'Impressionism', 'Expressionism', 'Surrealism', 'Pop art', 'Contemporary art', 'Installation art', 'Performance art', 'Art history', 'Art criticism', 'Art theory', 'Art education', 'Museums', 'Galleries', 'Exhibitions', 'Art auctions', 'Art collectors', 'Art market.']}, {'Comedy Events': ['Comedy shows', 'Comedians', 'Stand', 'Improv comedy', 'Comedy festivals', 'Sketch comedy', 'Laugh', 'Humor', 'Jokes', 'Satire', 'Parody', 'Roast comedy', 'Comedy clubs', 'Comedy movies', 'Funny', 'Hilarious', 'Entertainment', 'Laughter', 'Stand', 'Comedy tours', 'Comedic timing', 'Audience participation.']}, {\"Children's Games and Toys\": ['Board games', 'Card games', 'Puzzles', 'Building blocks', 'Dolls', 'Action figures', 'Stuffed animals', 'Arts and crafts', 'Educational games', 'Outdoor games', 'Video games', 'Musical toys', 'Pretend play toys', 'STEM toys', 'Sensory toys', 'Interactive toys', 'Electronic toys', 'Ride', 'Sports equipment', 'Play kitchens', 'Playhouses', 'Play tents', 'Play tunnels', 'Play mats', 'Playsets', 'Toy vehicles', 'Play food', 'Learning tablets', 'Building sets', 'Construction toys', 'Water toys', 'Sand toys', 'Pool toys', 'Bath toys', 'Role', 'Play instruments', 'Tricycles', 'Scooters', 'Skateboards', 'Balance bikes.']}, {'Movies': ['Film', 'Cinema', 'Actor', 'Actress', 'Director', 'Screenplay', 'Plot', 'Genre', 'Box office', 'Soundtrack', 'Sequel', 'Prequel', 'Remake', 'Adaptation', 'Special effects', 'Cinematography', 'Dialogue', 'Character development', 'Plot twists', 'Film festival', 'Awards ceremony', 'Blockbuster', 'Indie film', 'Documentary', 'Animated film', 'Horror', 'Comedy', 'Drama', 'Action', 'Romance', 'Science fiction', 'Fantasy', 'Thriller']}, {'Australia and Oceania Travel': ['Australia', 'Oceania', 'New Zealand', 'Fiji', 'Tahiti', 'Papua New Guinea', 'Vanuatu', 'Samoa', 'Micronesia', 'Polynesia', 'Melanesia', 'Coral reefs', 'Surfing', 'Scuba diving', 'Beaches', 'Wildlife', 'National parks', 'Great Barrier Reef', 'Outback', 'Uluru', 'Sydney Opera House', 'Aboriginal culture', 'Maori culture', 'Pacific Islands', 'Adventure tourism', 'Backpacking', 'Luxury travel', 'Cruise vacations', 'Hiking trails', 'Water sports', 'Cultural experiences', 'Food and wine', 'Road trips', 'Island hopping', 'Volcanic landscapes', 'Tropical climate', 'Travel photography', 'Eco', 'Sustainable travel.']}, {'Hair Care': ['Shampoo', 'Conditioner', 'Hair oil', 'Hair serum', 'Hair mask', 'Hair treatment', 'Hair growth', 'Hair texture', 'Hair styling', 'Hair tools', 'Hair color', 'Hair extensions', 'Scalp care', 'Dandruff', 'Frizz control', 'Heat protection', 'Split ends', 'Hair loss', 'Hair vitamins', 'Natural hair care', 'Professional hair care.']}, {'Consumer Electronics': ['Smartphones', 'Tablets', 'Laptops', 'Desktop Computers', 'Televisions', 'Home audio systems', 'Digital cameras', 'Gaming consoles', 'Wearable technology', 'Virtual reality devices', 'Drones', 'Smart home devices', 'Home security systems', 'Personal assistant devices (e.g. Amazon Echo, Google Home)', 'GPS navigation systems', 'Portable chargers/power banks', 'Headphones/earbuds', 'Bluetooth speakers', 'Fitness trackers/smartwatches', 'E']}, {'Household Supplies': ['Cleaning products', 'Laundry detergent', 'Dish soap', 'Paper towels', 'Toilet paper', 'Trash bags', 'Sponges', 'Cleaning tools (mops, brooms, dustpans, etc.)', 'Air fresheners', 'Glass cleaner', 'Furniture polish', 'Floor cleaner', 'Stain remover', 'Fabric softener', 'Bleach', 'All', 'Window cleaner', 'Oven cleaner', 'Hand soap', 'Disinfectant spray/wipes', 'Carpet cleaner']}, {'Individual Brands': ['Brand identity', 'Personal branding', 'Brand personality', 'Brand reputation', 'Brand loyalty', 'Brand image', 'Brand equity', 'Brand positioning', 'Brand differentiation', 'Brand recognition', 'Brand management', 'Brand strategy', 'Brand messaging', 'Brand voice', 'Brand perception', 'Brand awareness', 'Brand experience', 'Brand values', 'Brand culture']}, {'Concerts & Music Events': ['Concerts', 'Live music', 'Music festivals', 'Performances', 'Bands', 'Musicians', 'Stage', 'Sound systems', 'Lighting', 'Venue', 'Tickets', 'Crowd', 'Singing', 'Dancing', 'Genres (rock, pop, hip', 'Headliners', 'Opening acts', 'Setlists', 'Merchandise', 'Meet and greets', 'Fan interactions', 'Audiovisuals', 'Touring', 'Soundcheck', 'Backstage', 'Green room', 'Recording', 'Streaming', 'Soundtracks', 'Sound engineering', 'Music production.']}, {'Religion & Spirituality': ['Christianity', 'Islam', 'Judaism', 'Buddhism', 'Hinduism', 'Taoism', 'Confucianism', 'Atheism', 'Agnosticism', 'Spirituality', 'Faith', 'Belief', 'Worship', 'Prayer', 'Meditation', 'Sacred texts', 'Religious practices', 'Rituals', 'Morality', 'Afterlife', 'Salvation', 'Enlightenment', 'Divine intervention', 'Higher power', 'Ethics', 'God', 'Goddess', 'Deity', 'Soul', 'Karma', 'Reincarnation', 'Yoga', 'Pilgrimage', 'Sacrifice', 'Sin', 'Forgiveness', 'Love', 'Peace', 'Unity', 'Intolerance', 'Sectarianism', 'Dogma']}, {'College Education': ['Higher Education', 'University', 'Degree', 'Major', 'Minor', 'Campus', 'Coursework', 'Credits', 'Graduation', 'Student Loans', 'Scholarships', 'Financial Aid', 'Tuition', 'Dormitory', 'Extracurricular Activities', 'Academic Advising', 'Faculty', 'Research', 'Internship', 'Career Development', 'Alumni Network', 'Student Life', 'Academic Calendar', 'Campus Resources', 'Academic Programs', 'Admission Requirements', 'Syllabus', 'GPA', 'Academic Excellence', 'Academic Support', 'Liberal Arts Education', 'STEM Education', 'Diversity and Inclusion', 'Campus Safety', 'Educational Technology', 'Student Organizations', 'Study Abroad', 'Academic Integrity', 'Student Success', 'Learning Outcomes', 'Academic Progression', 'Student Services']}, {'Landscaping': ['Garden design', 'Lawn care', 'Plant selection', 'Irrigation', 'Hardscaping', 'Outdoor living spaces', 'Tree trimming', 'Landscape lighting', 'Soil preparation', 'Mulching', 'Edging', 'Fertilization', 'Drainage', 'Retaining walls', 'Water features', 'Environmental sustainability', 'Landscaping maintenance', 'Seasonal color', 'Native plants', 'Outdoor kitchens', 'Pergolas', 'Arbors', 'Gazebos', 'Poolscaping', 'Xeriscaping', 'Drought']}, {'Financial Industry': ['Banking', 'Investment', 'Stock market', 'Insurance', 'Finance', 'Credit', 'Debt', 'Asset management', 'Financial planning', 'Risk management', 'Wealth management', 'Hedge funds', 'Securities', 'Capital markets', 'Derivatives', 'Commodities', 'Foreign exchange', 'Corporate finance', 'Mergers and acquisitions', 'Credit cards', 'Retirement planning', 'Taxation', 'Economic policy', 'Financial regulation', 'Cryptocurrency', 'Fintech', 'Microfinance', 'Online banking', 'Mobile payment', 'Financial literacy', 'Consumer protection']}, {'North America Travel': ['North America', 'United States of America', 'Canada', 'Mexico', 'travel destinations', 'tourist attractions', 'national parks', 'cities', 'coastlines', 'mountains', 'lakes', 'beaches', 'festivals', 'cultural experiences', 'adventure activities', 'road trips', 'historical sites', 'cuisine', 'accommodation options', 'transportation', 'visa requirements', 'travel tips']}, {'Perfume and Fragrance': ['Fragrance', 'Perfume', 'Scent', 'Aroma', 'Cologne', 'Eau de toilette', 'Essential oils', 'Fragrance notes', 'Fragrance families', 'Perfume ingredients', 'Perfume bottles', 'Perfume history', 'Perfume making', 'Perfume brands', 'Perfume marketing', 'Perfume industry', 'Fragrance sensitivity', 'Natural perfume', 'Synthetic perfume', 'Perfume reviews', 'Fragrance trends', 'Fragrance longevity', 'Fragrance concentration', 'Fragrance strength', 'Perfume classification', 'Perfume composition', 'Perfume chemistry', 'Perfume application', 'Perfume layering', 'Perfume gift sets', 'Perfume storage', 'Fragrance oils', 'Perfume samples', 'Artisanal perfume', 'Perfume blog', 'Perfume enthusiasts', 'Perfume collectors', 'Perfume sales']}, {\"Men's Casual Wear\": [\"Men's fashion\", 'Casual clothing', 'Outfit ideas', 'Style tips', 'Trendy looks', 'Comfortable wear', 'Weekend outfits', 'Street style', 'Fashionable accessories', 'Denim jeans', 'T', 'Sneakers', 'Hoodies', 'Jackets', 'Shorts', 'Chinos', 'Polo shirts', 'Sports shoes', 'Sunglasses', 'Watches']}, {'Minivan': ['Minivan', 'Family car', 'Passenger vehicle', 'Large capacity', 'Multipurpose vehicle', 'Sliding doors', 'Third row seating', 'Comfortable', 'Roomy', 'Cargo space', 'Fuel', 'Safety features', 'Child', 'Entertainment system', 'Rearview camera', 'All', 'Hybrid technology', 'Affordable', 'Practical']}, {'Food & Drink': ['cuisine', 'recipes', 'cooking', 'ingredients', 'food allergies', 'beverages', 'nutrition', 'diet', 'restaurants', 'grocery shopping', 'meal planning', 'food safety', 'cooking techniques', 'food trends', 'food culture', 'wine', 'beer', 'spirits', 'coffee', 'tea', 'dessert', 'snacks', 'organic', 'vegetarian', 'vegan', 'gluten', 'dairy', 'sugar', 'healthy eating', 'indulgent eating', 'international cuisine', 'fast food', 'comfort food', 'holiday food', 'party food', 'gourmet food', 'farm', 'culinary arts', 'cooking shows', 'food blogging', 'food delivery', 'meal kit services']}, {'Grocery Shopping': ['grocery store', 'supermarket', 'shopping cart', 'shopping list', 'aisle', 'checkout', 'cash register', 'coupon', 'sale', 'discount', 'loyalty program', 'organic', 'produce', 'meat', 'dairy', 'bakery', 'frozen foods', 'canned goods', 'snacks', 'beverages', 'household items', 'personal care products', 'shopping bags', 'reusable bags', 'online grocery shopping', 'curbside pickup', 'home delivery', 'meal planning', 'budgeting', 'shopping habits', 'shopping frequency', 'nutrition', 'food safety', 'expiration dates', 'best before dates', 'meal prep', 'cooking', 'recipes', 'dietary restrictions', 'allergies', 'meal kit delivery services']}, {'Music and Audio': ['Music production', 'Audio engineering', 'Recording', 'Mixing', 'Mastering', 'Sound design', 'Music theory', 'Composition', 'Arrangement', 'Performance', 'Audio equipment', 'Live sound', 'DJing', 'Music software', 'Sampling', 'Synthesizers', 'MIDI', 'DAWs', 'Audio plugins', 'Music education', 'Music history', 'Music genres', 'Music business', 'Music marketing', 'Music licensing', 'Music distribution']}, {'Rail Travel': ['Train', 'Railway', 'Station', 'Platform', 'Ticket', 'Reservation', 'Schedule', 'Route', 'Coach', 'Passenger', 'Luggage', 'Conductor', 'Dining car', 'Sleeper car', 'Commute', 'Transit', 'Transport', 'High', 'Local train', 'Express train', 'Underground train', 'Metro', 'Subway', 'Tram', 'Monorail', 'Freight train', 'Railroad tracks', 'Crossing gates', 'Signal lights', 'Train station architecture', 'Train station history', 'Train travel safety', 'Train travel etiquette', 'Train travel tips', 'Train travel technology.']}, {'Green Vehicles': ['Electric vehicles', 'Hybrid vehicles', 'Fuel', 'Renewable energy', 'Battery technology', 'Charging infrastructure', 'Sustainable transportation', 'Carbon emissions reduction', 'Energy efficiency', 'Eco', 'Clean energy', 'Alternative fuels', 'Plug', 'Low', 'Zero', 'Energy conservation', 'Green energy', 'Energy storage', 'Regenerative braking', 'Solar']}, {'Medical Health': ['Health care', 'Medicine', 'Disease', 'Treatment', 'Diagnosis', 'Symptoms', 'Prevention', 'Wellness', 'Nutrition', 'Exercise', 'Mental health', 'Therapy', 'Rehabilitation', 'Surgery', 'Pharmacology', 'Vaccination', 'Public health', 'Epidemiology', 'Genetics', 'Anatomy', 'Physiology', 'Pathology', 'Radiology', 'Oncology', 'Cardiology', 'Neurology', 'Pediatrics', 'Geriatrics', 'Obstetrics', 'Gynecology', 'Dermatology', 'Allergies', 'Infectious diseases', 'Chronic diseases', 'Disability', 'Health insurance', 'Healthcare administration']}, {'Shaving': ['Razor', 'Shaving cream', 'Shaving gel', 'Shaving oil', 'Electric shaver', 'Manual razor', 'Safety razor', 'Straight razor', 'Disposable razor', 'Razor blades', 'Ingrown hair', 'Razor burn', 'Razor bumps', 'Shaving brush', 'Pre', 'Aftershave', 'Beard trimmer', 'Facial hair', 'Body hair', 'Shaving technique', 'Shaving frequency', 'Shaving tips']}, {'Home & Garden': ['Home decor', 'Furniture', 'Garden design', 'Outdoor living', 'Landscaping', 'Gardening tools', 'Lawn care', 'Interior design', 'Home improvement', 'DIY projects', 'Kitchen appliances', 'Bathroom fixtures', 'Lighting', 'Window treatments', 'Home organization']}, {'SUV': ['Sport Utility Vehicle', 'SUV', 'Four', 'All', 'Off', 'Towing capacity', 'Cargo space', 'Ground clearance', 'Passenger capacity', 'Fuel efficiency', 'Safety features', 'Luxury SUV', 'Compact SUV', 'Mid', 'Full', 'Crossover SUV', 'Hybrid SUV', 'Electric SUV', 'SUV accessories', 'SUV maintenance']}, {'Retail Industry': ['E', 'Brick', 'Point of sale systems', 'Inventory management', 'Supply chain', 'Customer experience', 'Consumer behavior', 'Merchandising', 'Pricing strategy', 'Sales forecasting', 'Store layout', 'Promotions and advertising', 'Retail analytics', 'Retail trends', 'Omni', 'Retail technology', 'Retail operations', 'Retail management', 'Retail staffing and training', 'Sustainability in retail.']}, {'Education industry': ['Schools', 'Universities', 'Colleges', 'Student loans', 'Online learning', 'Distance education', 'Curriculum', 'Teachers', 'Professors', 'Degree programs', 'Academic research', 'Educational technology', 'Learning management systems', 'Accreditation', 'Standardized testing', 'Scholarships', 'Grants', 'Extracurricular activities', 'Student organizations', 'Internships', 'Career counseling', 'Continuing education', 'Adult education', 'Early childhood education', 'Special education', 'Educational policy', 'Education reform']}, {'Real Estate': ['Property', 'Homes', 'Mortgages', 'Investments', 'Sales', 'Rentals', 'Listings', 'Agents', 'Appraisals', 'Closing costs', 'Home inspections', 'Title insurance', 'Homeowners associations', 'Property management', 'Real estate market trends', 'Commercial real estate', 'Residential real estate', 'Real estate development', 'Real estate financing', 'Real estate laws and regulations']}, {'Media Industry': ['Journalism', 'Broadcasting', 'Publishing', 'Advertising', 'Social media', 'Entertainment', 'Film', 'Television', 'News', 'Press', 'Print media', 'Digital media', 'Marketing', 'Public relations', 'Communications', 'Content creation', 'Streaming', 'Video production', 'Audio production', 'Media regulation', 'Media ownership', 'Media ethics', 'Media literacy', 'Media convergence', 'Media consumption', 'Media distribution', 'Media technology', 'Media trends']}, {'Style & Fashion': ['Fashion trends', 'Clothing', 'Accessories', 'Footwear', 'Makeup', 'Hairstyles', 'Color schemes', 'Designer brands', 'Street style', 'Runway shows', 'Fashion blogging', 'Fashion magazines', 'Personal style', 'Fashion icons', 'Fashion history', 'Sustainable fashion', 'Vintage fashion', 'Fashion industry', 'Fashion merchandising', 'Fashion design', 'Textiles', 'Body positivity', 'Plus', \"Men's fashion\", \"Women's fashion\", \"Children's fashion\", 'Fashion photography']}, {'Oral care': ['Toothbrush', 'Toothpaste', 'Mouthwash', 'Floss', 'Dental floss', 'Dental hygiene', 'Gum disease', 'Tooth decay', 'Halitosis (bad breath)', 'Oral health', 'Plaque', 'Tartar', 'Dental cleaning', 'Tooth sensitivity', 'Electric toothbrush', 'Braces', 'Dentures', 'Oral cancer', 'Gingivitis', 'Periodontitis', 'Root canal', 'Dental implants', 'Wisdom teeth', 'Oral surgery']}, {'Hotel Properties': ['Hotel amenities', 'Room types', 'Location', 'Ratings and reviews', 'Price range', 'Room service', 'Conference facilities', 'Dining options', 'Fitness center', 'Spa services', 'Parking options', 'Wi', 'Accessibility features', 'Loyalty programs', 'Pet', 'Sustainability initiatives', 'Brand affiliation', 'Room decor and design', 'Staff and customer service', 'Booking and cancellation policies']}, {'Healthy Living': ['Nutrition', 'Exercise', 'Sleep', 'Stress management', 'Mental health', 'Hydration', 'Balanced diet', 'Weight management', 'Physical activity', 'Self', 'Healthy habits', 'Wellness', 'Meditation', 'Yoga', 'Mindfulness', 'Relaxation', 'Health education', 'Disease prevention', 'Healthy lifestyle', 'Clean eating', 'Smoking cessation', 'Alcohol moderation', 'Substance abuse avoidance', 'Social support', 'Preventive care', 'Screenings', 'Immunizations', 'Environmental health.']}, {'World Cuisines': ['International cuisine', 'Ethnic food', 'Regional dishes', 'Traditional cuisine', 'Fusion cuisine', 'Street food', 'Gourmet food', 'Culinary diversity', 'Authentic cuisine', 'Spices and herbs', 'Cooking techniques', 'Food culture', 'Gastronomy', 'Indigenous cuisine', 'Exotic dishes', 'Multi', 'National dishes', 'World flavors', 'Food traditions', 'Culinary arts', 'Global cuisine', 'Local specialties', 'Culinary tourism', 'Food history', 'Regional ingredients', 'Seasonal dishes']}, {'Coupe': ['Two', 'Sports car', 'Luxury car', 'Fastback design', 'Coupe de ville', 'Hardtop', 'Grand tourer', 'Fixed', 'Pillarless', 'Coupé utility', 'Muscle car', 'Aerodynamic', 'Low', 'Sleek design', 'High performance', 'Coupe convertible', 'Personal luxury car', 'Coupe SUV', 'Coupe wagon', '2+2 seating configuration']}, {'Healthcare Industry': ['Hospitals', 'Healthcare providers', 'Doctors', 'Nurses', 'Patients', 'Medical equipment', 'Pharmaceuticals', 'Health insurance', 'Electronic health records', 'Medical research', 'Medical ethics', 'Health policies', 'Healthcare technology', 'Medical billing and coding', 'Healthcare management', 'Healthcare education and training', 'Public health', 'Mental health', 'Chronic disease management', 'Emergency medicine', 'Rehabilitation services', 'Home healthcare', 'Telemedicine', 'Healthcare financing.']}, {'Business and Finance': ['Accounting', 'Advertising', 'Asset management', 'Auditing', 'Banking', 'Bonds', 'Budgeting', 'Business strategy', 'Capital', 'Cash flow', 'Commercial law', 'Corporate finance', 'Credit management', 'Debt', 'Economic indicators', 'Entrepreneurship', 'Equity', 'Financial analysis', 'Financial planning', 'Government regulations', 'Insurance', 'Interest rates', 'Investment', 'Mergers and acquisitions', 'Money market', 'Payroll', 'Profit and loss', 'Real estate', 'Retirement planning', 'Risk management', 'Sales', 'Securities', 'Stock market', 'Taxation', 'Trade', 'Venture capital']}, {'Religious Events': ['Religious festivals', 'Religious holidays', 'Pilgrimages', 'Worship services', 'Religious ceremonies', 'Holy days', 'Celebrations', 'Rituals', 'Observances', 'Commemorations', 'Masses', 'Prayers', 'Processions', 'Sacraments', 'Retreats', 'Lent', 'Advent', 'Easter', 'Christmas', 'Hanukkah', 'Ramadan', 'Diwali', 'Vesak', 'Yom Kippur', 'Passover', 'Eid al', 'Rosh Hashanah.']}, {'Sports': ['Athletics', 'Competitions', 'Events', 'Training', 'Fitness', 'Teamwork', 'Rules', 'Equipment', 'Sportsmanship', 'Health', 'Exercise', 'Physical activity', 'Athletics', 'Performance', 'Coaching', 'Strategy', 'Stamina', 'Endurance', 'Strength', 'Agility', 'Speed', 'Precision', 'Fair play', 'Strategy', 'Nutrition', 'Injury prevention', 'Rehabilitation', 'Sports psychology', 'Olympics', 'Paralympics', 'Professional sports', 'College sports', 'High school sports', 'Youth sports']}, {'Bars & Restaurants': ['Bars', 'Restaurants', 'Food', 'Drinks', 'Menu', 'Cuisine', 'Dining', 'Cocktails', 'Happy Hour', 'Wine', 'Beer', 'Atmosphere', 'Ambience', 'Local', 'International', 'Fine Dining', 'Casual Dining', 'Outdoor Seating', 'Live Music', 'Sports Bar', 'Pub', 'Gastropub', 'Nightlife']}, {'Telecommunications Industry': ['Mobile phones', 'Network providers', 'Broadband internet', 'Fiber optic cables', '5G technology', 'Telecommunication infrastructure', 'Satellite communication', 'Wireless communication', 'Telecommunication equipment', 'VoIP', 'Data centers', 'Internet of Things (IoT)', 'Cloud computing', 'Digital transformation', 'Telecommunication regulations', 'Telecommunication services.']}, {'Outdoor Activities': ['Hiking', 'Camping', 'Fishing', 'Hunting', 'Rock climbing', 'Canoeing', 'Kayaking', 'Rafting', 'Biking', 'Horseback riding', 'Swimming', 'Picnicking', 'Geocaching', 'Birdwatching', 'Nature walks', 'Backpacking', 'Mountaineering', 'Skiing', 'Snowboarding', 'Snowshoeing', 'Orienteering', 'Archery', 'Boating', 'Scuba diving', 'Surfing', 'Stand', 'Skateboarding', 'Rollerblading', 'Frisbee golf', 'Ziplining', 'Adventure racing', 'Paragliding', 'Bungee jumping', 'Skydiving', 'Base jumping.']}, {'Education': ['Learning', 'Curriculum', 'Classroom', 'Teacher', 'Student', 'Pedagogy', 'Assessment', 'Instruction', 'Syllabus', 'Academic', 'Degree', 'Knowledge', 'Skill', 'Career', 'University', 'College', 'Training', 'E', 'Schooling', 'Literacy', 'Numeracy', 'Technology', 'Research', 'Scholarship', 'Accreditation', 'Standardization', 'Development']}, {'Travel Accessories': ['Luggage', 'Packing cubes', 'Travel pillows', 'Eye masks', 'Earplugs', 'Portable chargers', 'Travel adapters', 'Travel bottles', 'Toiletry bags', 'Neck wallets', 'RFID', 'Compression socks', 'Travel towels', 'First aid kits', 'Travel umbrellas', 'Travel locks', 'Travel journals', 'Travel guides', 'Waterproof phone cases']}, {'Motorcycles': ['Motorcycles', 'Bikes', 'Two', 'Riding', 'Motorcycle clubs', 'Harley', 'Honda', 'Kawasaki', 'Yamaha', 'Ducati', 'Triumph', 'BMW', 'Indian', 'Motorcycling gear', 'Helmets', 'Leather jackets', 'Gloves', 'Boots', 'Motorcycle maintenance', 'Engine', 'Tires', 'Suspension', 'Brakes', 'Motorcycle racing', 'MotoGP', 'Superbike racing', 'Enduro racing', 'Motocross', 'Stunt riding', 'Motorcycle safety', 'Defensive driving', 'Motorcycle laws', 'Motorcycle insurance', 'Motorcycle accessories', 'Saddlebags', 'Windshield', 'Backrest', 'Motorcycle tours']}, {'Birthday': ['Celebration', 'Cake', 'Gifts', 'Party', 'Balloons', 'Presents', 'Age', 'Friends', 'Family', 'Decorations', 'Invitations', 'Happy Birthday', 'Wishes', 'Greetings', 'Surprises', 'Candle', 'Blowout', 'Milestone', 'Festivities', 'Fun', 'Joy']}, {'Sedan': ['Sedan body type', 'Four', 'Passenger vehicle', 'Family car', 'Mid', 'Automotive industry', 'Luxury sedan', 'Economy sedan', 'Compact sedan', 'Sedan features', 'Sedan performance', 'Sedan design', 'Sedan fuel efficiency', 'Sedan safety features', 'Sedan technology']}, {'Aviation Industry': ['Airplanes', 'Airlines', 'Airports', 'Air traffic control', 'Flight safety', 'Aviation regulations', 'Aviation technology', 'Aircraft maintenance', 'Aviation fuel', 'Airline economics', 'Pilot training', 'Aviation security', 'Airline alliances', 'Aviation insurance', 'Aviation careers', 'Airline routes', 'Airport management', 'Airline passenger experience', 'Aviation environmental impact', 'Airline scheduling', 'Aviation communication systems', 'Airline customer service', 'Aviation research and development', 'Airline industry trends', 'Aviation accidents and incidents.']}, {'Wedding': ['Bride', 'Groom', 'Venue', 'Decorations', 'Flowers', 'Wedding dress', 'Tuxedo', 'Rings', 'Invitations', 'Wedding cake', 'Photography', 'Videography', 'Music/entertainment', 'Catering', 'Favors/gifts', 'Honeymoon', 'Wedding planner/coordinator', 'Bridal party', 'Seating arrangement', 'Wedding vows', 'Marriage license', 'Wedding ceremony', 'Reception', 'Centerpieces', 'Wedding favors', 'Wedding favors', 'Wedding registry', 'Wedding guests', 'Wedding budget.']}, {'Travel': ['Tourism', 'Adventure', 'Sightseeing', 'Vacation', 'Accommodation', 'Transportation', 'Exploration', 'Culture', 'Food', 'Souvenirs', 'Passport', 'Visa', 'Currency', 'Itinerary', 'Safety', 'Budget', 'Backpacking', 'Luxury', 'Beaches', 'Mountains', 'Landmarks', 'Attractions', 'Airlines', 'Travel insurance', 'Photography', 'Tour guides', 'Language barriers']}, {'Road-Side Assistance': ['Roadside assistance services', 'Towing', 'Jump', 'Flat tire repair', 'Fuel delivery', 'Lockout services', 'Battery replacement', 'Emergency roadside assistance', 'Vehicle breakdown', 'Auto mechanic', 'Roadside assistance providers', '24', 'Roadside assistance app', 'Roadside assistance membership', 'Car breakdown assistance', 'Motorist assistance.']}, {'Apartments': ['Rent', 'Lease', 'Amenities', 'Location', 'Square footage', 'Floor plan', 'Property management', 'Utilities', 'Parking', 'Security', 'Maintenance', 'Move', 'Pet policy', 'Furnished apartments', 'Community features', 'Renters insurance', 'Subletting', 'Roommates', 'Accessibility', 'Deposit']}, {'Desktops': ['Desktop computers', 'Personal computers', 'Towers', 'All', 'Gaming desktops', 'Workstations', 'Mini desktops', 'Thin client', 'Desktop accessories', 'Desktop monitors', 'Desktop keyboards', 'Desktop mice', 'Desktop speakers', 'Desktop webcams', 'Desktop microphones']}, {'Casinos & Gambling': ['Casinos', 'Gambling', 'Betting', 'Slot machines', 'Poker', 'Blackjack', 'Roulette', 'Craps', 'Baccarat', 'Sports betting', 'Online gambling', 'Casino chips', 'High rollers', 'House edge', 'Gambling addiction', 'Las Vegas', 'Atlantic City', 'Monte Carlo', 'Macau', 'Casino games', 'Gambling laws', 'Casino security', 'Casino management', 'Casino employees', 'Casino industry.']}, {'Entertainment Industry': ['Film', 'Television', 'Music', 'Gaming', 'Theater', 'Comedy', 'Celebrities', 'Awards', 'Streaming', 'Box office', 'Pop culture', 'Entertainment news', 'Red carpet', 'Production', 'Animation', 'Special effects', 'Sound design', 'Screenwriting', 'Directing', 'Acting', 'Reality TV', 'Broadcast network', 'Cable network', 'Satellite', 'Video on demand', 'Social media', 'Fanbase', 'Merchandise', 'Ticket sales']}, {'Awards Shows': ['Academy Awards', 'Golden Globes', 'Emmy Awards', 'Grammy Awards', 'Tony Awards', 'Red carpet', 'Best actor/actress', 'Best picture', 'Nominees', 'Presenters', 'Host', 'Speeches', 'Nominations', 'Winners', 'Statues/trophies', \"Critics' Choice Awards\", \"People's Choice Awards\", 'Screen Actors Guild Awards', 'Cannes Film Festival', 'Sundance Film Festival.']}, {'Pickup Trucks': ['Pickup Trucks', 'Payload Capacity', 'Towing Capacity', 'Four', 'Bed Length', 'Cab Size', 'Engine Size', 'Fuel Efficiency', 'Off', 'Utility', 'Hauling', 'Cargo Space', 'Suspension', 'Ground Clearance', 'Horsepower', 'Torque', 'Trailer Brake Controller', 'Hitch Receiver', 'Rearview Camera', 'Blind Spot Monitoring', 'Lane Departure Warning', 'Collision Avoidance System', 'Trailer Sway Control', 'Rear Cross Traffic Alert', 'Adaptive Cruise Control', 'Apple CarPlay', 'Android Auto', 'Wi', 'Satellite Radio', 'Touchscreen Infotainment System', 'Navigation System', 'Power Seats', 'Heated Seats', 'Ventilated Seats', 'Leather Upholstery', 'Keyless Entry', 'Push']}, {'Events and Attractions': ['Festivals', 'Music concerts', 'Art exhibits', 'Museums', 'Theme parks', 'Zoos', 'Aquariums', 'Theaters', 'Sporting events', 'Amusement parks', 'Exhibitions', 'Cultural events', 'Food and beverage festivals', 'Parades', 'Fairs', 'Trade shows', 'Carnivals', 'Conventions', 'Historical landmarks', 'Natural attractions', 'Adventure activities', 'Tours', 'Nightlife', 'Entertainment venues']}, {'Cats': ['Feline', 'Domesticated', 'Mammal', 'Whiskers', 'Paws', 'Fur', 'Meowing', 'Hissing', 'Scratching', 'Hunting', 'Litter box', 'Kitten', 'Adult', 'Playful', 'Independent', 'Curious', 'Affectionate', 'Nap', 'Bengal', 'Siamese', 'Persian', 'Tabby', 'Tortoiseshell', 'Calico', 'Maine Coon', 'Abyssinian', 'Sphynx', 'Scottish Fold', 'Toyger', 'Savannah', 'Birman', 'Oriental Shorthair', 'Himalayan', 'Ragdoll.']}, {'Cruises': ['Cruise ships', 'Luxury cruises', 'River cruises', 'Ocean cruises', 'Caribbean cruises', 'Mediterranean cruises', 'Alaskan cruises', 'European river cruises', 'Family cruises', 'Senior cruises', 'All', 'Cruise lines', 'Cruise packages', 'Cruise itineraries', 'Cruise discounts', 'Onboard activities', 'Shore excursions', 'Dining options on cruises', 'Entertainment on cruises', 'Cruise cabins', 'Cruise ports', 'Cruise safety measures', 'Cruise vaccination requirements', 'Cruise travel insurance']}, {'Auto Shows': ['Automobiles', 'Concept cars', 'New models', 'Exhibitions', 'Industry events', 'Trade shows', 'Launches', 'Demonstrations', 'Dealerships', 'Test drives', 'Car enthusiasts', 'Motor shows', 'Automotive technology', 'Innovation', 'Design', 'Performance', 'Luxury cars', 'Sports cars', 'Hybrid vehicles', 'Electric cars', 'Supercars', 'SUVs', 'Sedans', 'Crossovers', 'Trucks', 'Vans', 'Motorcycles', 'Accessories', 'Aftermarket parts', 'Car culture']}, {'Holiday Shopping': ['Holiday season', 'Black Friday', 'Cyber Monday', 'Christmas shopping', 'Gift ideas', 'Deals and discounts', 'Online shopping', 'In', 'Holiday sales', 'Shopping list', 'Gift wrapping', 'Stocking stuffers', 'Secret Santa', 'White elephant gift exchange', 'Holiday decorations', 'Holiday outfits', 'Last', 'Shopping malls', 'Small business Saturday', 'Gift cards', 'Wish lists', 'Shipping deadlines', 'Return policies', 'Budgeting', 'Comparison shopping', 'Popular gifts', 'Electronics', 'Toys', 'Clothing', 'Home goods', 'Food and beverages', 'Travel deals', 'Holiday cards and invitations.']}, {'Auto Body Styles': ['Sedan', 'Coupe', 'Hatchback', 'Convertible', 'SUV', 'Pickup truck', 'Van', 'Wagon', 'Crossover', 'Roadster', 'Muscle car', 'Sports car', 'Supercar', 'Electric car', 'Hybrid car', 'Classic car', 'Luxury car', 'Compact car', 'Mid', 'Full', 'Off', '4x4 vehicle', 'Station wagon', 'Panel van', 'Box truck', 'Dump truck', 'Flatbed truck', 'Tanker truck']}, {'Hobbies & Interests': ['Arts and crafts', 'Music', 'Dancing', 'Sports', 'Gaming', 'Reading', 'Writing', 'Cooking', 'Baking', 'Gardening', 'Photography', 'Traveling', 'Fishing', 'Hunting', 'Collecting', 'Hiking', 'Camping', 'DIY projects', 'Painting', 'Drawing', 'Sculpting', 'Sewing', 'Knitting', 'Crocheting', 'Pottery', 'Woodworking', 'Calligraphy', 'Meditation', 'Yoga', 'Fitness', 'Cycling', 'Running', 'Swimming', 'Surfing', 'Skateboarding', 'Skiing', 'Snowboarding', 'Climbing', 'Horseback riding', 'Bird watching', 'Astronomy', 'Film making', 'Acting', 'Stand', 'Podcasting', 'Social media influencing', 'Volunteering', 'Charity work', 'Wine tasting', 'Beer brewing', 'Whiskey tasting', 'Tea tasting', 'Board games', 'Card games', 'Video games', 'Puzzle solving', 'Crosswords', 'Sudoku', \"Rubik's cube\"]}, {'Video Gaming': ['Video games', 'Console gaming', 'PC gaming', 'Mobile gaming', 'Online gaming', 'Multiplayer gaming', 'Single player gaming', 'Esports', 'Gaming industry', 'Gaming culture', 'Gaming addiction', 'Gaming communities', 'Gaming events', 'Gaming platforms', 'Gaming accessories', 'Gaming hardware', 'Gaming software', 'Gaming graphics', 'Gaming sound', 'Gaming controllers', 'Gaming keyboards', 'Gaming mice', 'Gaming headsets', 'Virtual reality gaming', 'Augmented reality gaming', 'Game development', 'Game design', 'Game programming', 'Game engines', 'Game mods.']}, {\"Women's Jewelry and Watches\": [\"Women's watches\", \"Women's jewelry\", 'Bracelets', 'Necklaces', 'Earrings', 'Rings', 'Fine jewelry', 'Fashion jewelry', 'Diamond jewelry', 'Gold jewelry', 'Silver jewelry', 'Gemstones', 'Precious metals', 'Luxury watches', 'Designer watches', 'Chronograph watches', 'Smartwatches', 'Vintage watches', 'Watch bands', 'Watch batteries', 'Jewelry boxes', 'Jewelry organizers', 'Personalized jewelry', 'Custom jewelry', 'Birthstone jewelry', 'Statement jewelry', 'Bridal jewelry', 'Bridesmaid jewelry', \"Mother's jewelry\", 'Anniversary gifts', 'Birthday gifts', \"Valentine's Day gifts\", 'Christmas gifts']}, {'Parenting': ['Child development', 'Discipline', 'Communication', 'Love and affection', 'Patience', 'Nurturing', 'Empathy', 'Boundaries', 'Education', 'Role modeling', 'Time management', 'Consistency', 'Positive reinforcement', 'Responsibility', 'Healthy habits', 'Safety', 'Conflict resolution', 'Emotional intelligence', 'Self', 'Encouragement.']}, {'Deodorant and Antiperspirant': ['Sweat', 'Body odor', 'Perspiration', 'Fragrance', 'Sweat glands', 'Aluminum', 'Active ingredients', 'Natural deodorant', 'Chemicals', 'Skin irritation', 'Hypoallergenic', 'Clinical strength', 'Roll', 'Spray', 'Stick', 'Gel', 'Scented', 'Unscented', \"Men's deodorant\", \"Women's deodorant\", 'Sweat proof', 'Long', 'Moisture absorbent', 'Sweat blockers', 'Non', 'Organic', 'Cruelty', 'Vegan', 'Eco', 'Packaging waste', 'Health concerns', 'Dermatologist tested', 'Sensitive skin', 'Hyperhidrosis', 'Antiperspirant efficacy', 'Deodorant effectiveness', 'Sweat control', 'Sweat stains', 'Underarm hygiene', 'Sweat marks', 'Sweat patches', 'Sweat protection', 'Body care.']}, {'Science': ['Biology', 'Chemistry', 'Physics', 'Astronomy', 'Geology', 'Ecology', 'Genetics', 'Microbiology', 'Neuroscience', 'Botany', 'Zoology', 'Environmental science', 'Anatomy', 'Physiology', 'Biochemistry', 'Biotechnology', 'Climate science', 'Earth science', 'Oceanography', 'Paleontology', 'Quantum mechanics', 'Thermodynamics', 'Scientific method', 'Scientific research', 'Experimentation', 'Data analysis.']}, {'Fashion Events': ['Fashion shows', 'Runway', 'Designers', 'Models', 'Catwalk', 'Backstage', 'Fashion weeks', 'Haute couture', 'Fashion industry', 'Fashion exhibitions', 'Fashion parties', 'Fashion conferences', 'Trade shows', 'Fashion brands', 'Fashion industry professionals', 'Fashion influencers', 'Fashion bloggers', 'Red carpet events', 'Fashion awards ceremonies', 'Fashion showrooms', 'Pop', 'Fashion launches', 'Fashion collaborations', 'Fashion trends', 'Fashion styling', 'Fashion photography.']}, {'Television': ['TV Shows', 'Streaming', 'Channels', 'Cable', 'Satellite', 'Broadcast', 'Networks', 'Antenna', 'HDTV', 'Smart TV', 'DVR', 'Remote Control', 'Entertainment', 'Series', 'Episodes', 'Binge', 'Ratings', 'Advertising', 'News Programs', 'Sports Programs', 'Reality TV', 'Sitcoms', 'Drama', 'Action', 'Comedy', 'Romance', 'Sci', 'Horror', 'Documentary', 'Game Shows', 'Talk Shows', \"Children's Programs\", 'Educational Programs', 'Premium Channels', 'Pay']}, {'Flower Shopping': ['Flower arrangements', 'Bouquets', 'Floral delivery', 'Online florist', 'Local florist', 'Flower shops', 'Floral gifts', 'Flower types (roses, lilies, tulips, etc.)', 'Flower care tips', 'Seasonal flowers', \"Occasions (Valentine's Day, Mother's Day, birthdays, weddings, funerals, etc.)\", 'Flower symbolism', 'Flower vases and containers', 'Flower accessories (balloons, chocolates, cards, etc.)']}, {'Single Life': ['Solo living', 'Independence', 'Self', 'Freedom', 'Solo travel', 'Solo hobbies', 'Solo adventures', 'Self', 'Self', 'Dating', 'Relationships', 'Solitude', 'Empowerment', 'Social life', 'Career', 'Financial independence', 'Emotional wellbeing', 'Personal growth', 'Self', 'Confidence', 'Self', 'Loneliness', 'Friendships', 'Support system', 'Self', 'Self', 'Life goals', 'Fulfillment']}, {'Hotels and Motels': ['Accommodation', 'Lodging', 'Hospitality', 'Travel', 'Tourism', 'Guest rooms', 'Suites', 'Amenities', 'Reservation', 'Check', 'Check', 'Room service', 'Front desk', 'Housekeeping', 'Room rates', 'Discounts', 'Loyalty programs', 'Reviews', 'Ratings', 'Location', 'Accessibility', 'Conference facilities', 'Meeting rooms', 'Events', 'Dining options', 'Fitness center', 'Swimming pool', 'Spa services', 'Pet', 'Family', 'Business travel', 'Vacation', 'Staycation', 'Budget', 'Luxury', 'Boutique', 'Chain hotels', 'Motels', 'Bed and breakfasts', 'Hostels', 'Resorts', 'Vacation rentals', 'Accommodation booking platforms']}, {'Museums & Galleries': ['Art', 'History', 'Exhibitions', 'Collections', 'Culture', 'Preservation', 'Education', 'Interpretation', 'Conservation', 'Artifact', 'Curator', 'Visitor', 'Tour', 'Display', 'Gallery', 'Antiquities', 'Archaeology', 'Fine art', 'Contemporary art', 'Sculpture', 'Painting', 'Photography', 'Architecture', 'Heritage']}, {'Luxury Cars': ['Luxury vehicles', 'High', 'Premium automobiles', 'Exotic automobiles', 'Prestige vehicles', 'Elite cars', 'Performance cars', 'Supercars', 'Sports cars', 'Convertibles', 'Sedans', 'Coupes', 'SUVs', 'Hybrid cars', 'Electric cars', 'Classic cars', 'Vintage cars', 'Custom cars', 'Limited edition cars', 'Top', 'Expensive cars', 'High', 'Luxury car brands (e.g. Mercedes']}, {'Europe Travel': ['Europe', 'Travel', 'Tourism', 'European countries', 'European cities', 'European landmarks', 'European culture', 'European cuisine', 'European history', 'European architecture', 'European art and museums', 'European beaches', 'European mountains', 'European transportation', 'European languages', 'European festivals and events', 'European budget travel', 'European luxury travel', 'European backpacking', 'European road trip.']}, {'Games and Puzzles': ['Board games', 'Card games', 'Video games', 'Puzzle games', 'Crossword puzzles', 'Sudoku puzzles', 'Jigsaw puzzles', 'Word games', 'Trivia games', 'Strategy games', 'Role', 'Escape room games', 'Brain teasers', 'Logic puzzles', 'Memory games', 'Educational games', 'Multiplayer games', 'Adventure games', 'Party games', \"Children's games\"]}, {'Convertible': ['Convertible car', 'Convertible sofa', 'Convertible laptop', 'Convertible dress', 'Convertible crib', 'Convertible bond', 'Convertible furniture', 'Convertible note', 'Convertible backpack', 'Convertible top', 'Convertible pants', 'Convertible luggage', 'Convertible chair', 'Convertible bed', 'Convertible handbag', 'Convertible coffee table', 'Convertible car seat', 'Convertible desk', 'Convertible messenger bag', 'Convertible dining table']}, {'Cooking': ['Recipes', 'Ingredients', 'Cooking techniques', 'Kitchen utensils', 'Meal planning', 'Culinary arts', 'Baking', 'Healthy eating', 'Food safety', 'Flavor profiles', 'Meal prep', 'Cooking styles', 'Ethnic cuisine', 'Cooking appliances', 'Meal presentation', 'Seasonal cooking', 'Cooking blogs', 'Cooking shows']}, {'Apparel Industry': ['Fashion', 'Clothing', 'Textiles', 'Garments', 'Manufacturing', 'Design', 'Retail', 'E', 'Supply chain', 'Distribution', 'Marketing', 'Branding', 'Sustainability', 'Trends', 'Consumer behavior', 'Production', 'Quality control', 'Raw materials', 'Labor practices', 'Trade policies', 'Globalization']}, {'Alcoholic Beverages': ['Beer', 'Wine', 'Spirits', 'Liquor', 'Cocktails', 'Distilling', 'Brewing', 'Winemaking', 'Alcohol content', 'Alcohol by volume (ABV)', 'Alcoholism', 'Hangover', 'Drinking culture', 'Drinking laws', 'Alcohol advertising', 'Alcohol consumption', 'Alcohol production', 'Alcohol taxes', 'Alcoholic drinks industry', 'Wine regions', 'Grape varieties', 'Brewing methods', 'Drinking games', 'Alcohol addiction', 'Alcohol abuse', 'Alcohol treatment', 'Alcohol rehabilitation', 'Alcohol tolerance', 'Alcohol poisoning']}, {'Large Animals': ['Elephants', 'Giraffes', 'Rhinoceroses', 'Hippos', 'Whales', 'Dolphins', 'Sharks', 'Bears', 'Lions', 'Tigers', 'Gorillas', 'Moose', 'Elk', 'Bison', 'Horses', 'Camels', 'Cows', 'Buffalos', 'Kangaroos', 'Crocodiles', 'Alligators']}, {'Travel Locations': ['tourism', 'vacation', 'adventure', 'culture', 'landmarks', 'attractions', 'accommodation', 'sightseeing', 'transportation', 'beaches', 'mountains', 'countryside', 'city breaks', 'road trips', 'cruises', 'islands', 'historical sites', 'national parks', 'camping', 'hiking', 'food and drink', 'festivals', 'museums', 'theme parks', 'wildlife', 'photography', 'budget travel', 'luxury travel', 'solo travel', 'family travel', 'eco']}, {\"Women's Shoes and Footwear\": [\"Women's shoes\", \"Women's footwear\", 'Heels', 'Flats', 'Sandals', 'Boots', 'Sneakers', 'Wedges', 'Pumps', 'Loafers', 'Slippers', 'Mules', 'Espadrilles', 'Athletic shoes', 'Running shoes', 'Walking shoes', 'Comfort shoes', 'Formal shoes', 'Casual shoes', 'Designer shoes', 'Leather shoes', 'Vegan shoes', 'Orthopedic shoes', 'Narrow shoes', 'Wide shoes', 'High arch shoes', 'Arch support shoes', 'Plantar fasciitis shoes', 'Bunions shoes', 'Diabetic shoes', 'Flat feet shoes', 'Fashion shoes', 'Summer shoes', 'Winter shoes', 'Work shoes', 'Dance shoes', 'Bridal shoes']}, {'Laptops': ['laptops', 'notebook computers', 'portable computers', 'PC laptops', 'MacBooks', 'Chromebooks', 'Ultrabooks', 'gaming laptops', 'business laptops', '2', 'touch screen laptops', 'lightweight laptops', 'budget laptops', 'professional laptops', 'student laptops', 'laptop accessories', 'laptop bags and cases', 'laptop batteries', 'laptop chargers', 'laptop stands and docking stations', 'laptop cooling pads', 'laptop sleeves', 'laptop security and locks', 'laptop repair services']}, {'Fitness and Exercise': ['Gym', 'Workout', 'Strength training', 'Cardio', 'Endurance', 'Flexibility', 'Agility', 'Balance', 'Weightlifting', 'Aerobics', 'Yoga', 'Pilates', 'HIIT (High', 'CrossFit', 'Bodyweight exercises', 'Calisthenics', 'Resistance bands', 'Running', 'Cycling', 'Swimming', 'Walking', 'Sports', 'Nutrition', 'Supplements', 'Recovery', 'Rest', 'Motivation', 'Mind', 'Lifestyle']}, {'Office Property': ['Commercial real estate', 'Office building', 'Office space', 'Lease', 'Rent', 'Tenant', 'Landlord', 'Property management', 'Maintenance', 'Utilities', 'Location', 'Square footage', 'Amenities', 'Furnishings', 'Parking', 'Security', 'Accessibility', 'Zoning', 'Building codes', 'Insurance', 'Taxes', 'Lease negotiation', 'Lease renewal', 'Tenant improvements', 'Subleasing', 'Co', 'Virtual offices.']}, {'Remodeling & Construction': ['Home renovation', 'Building construction', 'Renovation contractor', 'Structural design', 'Interior design', 'Construction materials', 'Home improvement', 'Plumbing', 'Electrical wiring', 'Roofing', 'Flooring', 'Painting', 'Kitchen remodeling', 'Bathroom remodeling', 'Cabinet installation', 'Window installation', 'Door installation', 'Deck construction', 'Landscaping', 'Site preparation', 'Building permits', 'Code compliance', 'Project management', 'Budgeting', 'Green building', 'Sustainable design', 'Energy', 'Demolition', 'Concrete work', 'Masonry', 'Lighting design', 'HVAC installation', 'Plumbing fixtures', 'Electrical fixtures', 'Insulation', 'Framing', 'Drywall', 'Finish carpentry', 'Trim work', 'Custom millwork', 'Project scheduling', 'Quality control', 'Safety protocols.']}, {'Pop Culture': ['Music', 'Movies', 'TV shows', 'Celebrities', 'Fashion', 'Art', 'Social media', 'Internet memes', 'Video games', 'Comic books', 'Animation', 'Sports', 'Reality TV', 'Tabloids', 'Trends', 'Fan culture', 'Influencers', 'Streaming services', 'Award shows']}, {'Hospitality Industry': ['Hotels', 'Restaurants', 'Tourism', 'Travel', 'Accommodation', 'Customer service', 'Food and beverage', 'Resort', 'Events', 'Guest experience', 'Housekeeping', 'Front desk', 'Revenue management', 'Marketing', 'Operations', 'Concierge', 'Staff training', 'Loyalty programs', 'Technology', 'Sustainability', 'Branding', 'Online booking', 'Corporate travel', 'Banquets', 'Meetings', 'Convention centers', 'Guest satisfaction', 'Budgeting', 'Forecasting', 'Inventory management', 'Sales and marketing', 'Destination management', 'Room service', 'Spa services', 'Entertainment', 'Safety and security', 'Regulations and compliance', 'International hospitality.']}, {'Camping': ['Tent', 'Sleeping bag', 'Campfire', 'Hiking', 'Backpacking', 'Outdoor cooking', 'Nature', 'Wildlife', 'Adventure', 'RV', 'Campsite', 'Hammock', 'Fishing', 'Kayaking', 'Canoeing', 'National parks', 'Trail mix', 'Lantern', 'Water filtration', 'First aid kit', 'Sunscreen', 'Insect repellent', 'Map and compass.']}, {'Beach Travel': ['Beach vacation', 'Sunbathing', 'Swimming', 'Surfing', 'Beach sports', 'Snorkeling', 'Scuba diving', 'Beach relaxation', 'Beach activities', 'Beach accommodation', 'Beach destination', 'Beach equipment', 'Beach safety', 'Beach weather', 'Beach fashion', 'Beach food and drinks', 'Beach attractions', 'Beach nightlife', 'Beach photography', 'Beach souvenirs', 'Beach conservation', 'Beach clean', 'Beach community.']}, {'Technology & Computing': ['Artificial intelligence', 'Machine learning', 'Robotics', 'Virtual reality', 'Augmented reality', 'Internet of Things (IoT)', 'Cloud computing', 'Big data', 'Cybersecurity', 'Blockchain', 'Cryptocurrency', 'Mobile computing', 'Social media', 'Gaming', 'Programming', 'Operating systems', 'Hardware', 'Software', 'Networking', 'Data analytics']}, {'Land and Farms': ['Agriculture', 'Rural', 'Homestead', 'Crops', 'Livestock', 'Soil', 'Irrigation', 'Harvest', 'Farmland', 'Agricultural land', 'Ranch', 'Farmhouse', 'Barns', 'Fertile', 'Cultivation', 'Agriculture industry', 'Agribusiness', 'Pasture', 'Sustainable farming', 'Organic farming', 'Agricultural equipment', 'Tractors', 'Harvesting equipment', 'Agricultural subsidies', 'Agricultural policy', 'Agricultural technology', 'Agroecology', 'Land management.']}, {'Automotive Industry': ['Cars', 'Trucks', 'SUVs', 'Manufacturing', 'Assembly Line', 'Engine', 'Fuel Efficiency', 'Emissions', 'Electric Vehicles', 'Autonomous Vehicles', 'Car Brands', 'Dealerships', 'Maintenance', 'Repair', 'Aftermarket', 'Accessories', 'Tires', 'Safety', 'Regulations', 'Technology', 'Innovation', 'Design', 'Sales', 'Marketing', 'Customer Service', 'Supply Chain', 'Logistics', 'Transportation', 'Infrastructure', 'Fuel Stations', 'Oil Industry', 'Environmental Impact', 'Economy', 'Jobs', 'Trade', 'Globalization', 'Competition']}, {\"Women's Clothing\": ['Dresses', 'Skirts', 'Tops', 'Blouses', 'Pants', 'Jeans', 'Shorts', 'Jumpsuits', 'Rompers', 'Swimwear', 'Activewear', 'Blazers', 'Jackets', 'Coats', 'Sweaters', 'Cardigans', 'Hoodies', 'Sweatshirts', 'T', 'Tunics', 'Bodysuits', 'Bras', 'Underwear', 'Lingerie', 'Shapewear', 'Socks', 'Hosiery', 'Scarves', 'Hats', 'Belts', 'Bags', 'Jewelry', 'Watches', 'Sunglasses', 'Shoes', 'Boots', 'Sandals', 'Sneakers', 'Heels', 'Flats', 'Wedges', 'Espadrilles', 'Mules', 'Slides', 'Pumps', 'Loafers']}, {'Family and Relationships': ['Love', 'Marriage', 'Parenting', 'Communication', 'Trust', 'Respect', 'Loyalty', 'Conflict resolution', 'Compromise', 'Unity', 'Intimacy', 'Affection', 'Forgiveness', 'Understanding', 'Support', 'Empathy', 'Listening', 'Boundaries', 'Dependability', 'Teamwork', 'Responsibility', 'Cooperation', 'Togetherness', 'Diversity', 'Blended families', 'Adoption', 'Infidelity', 'Divorce', 'Single parenting', 'Child custody', 'Abuse', 'Domestic violence', 'Mental health', 'Counseling', 'Family therapy', 'Gender roles', 'Cultural differences', 'Aging parents', 'Sibling relationships', 'Extended family.']}, {'Auto Type': ['Auto', 'Auto', 'Keyboard automation', 'Typing automation', 'Text expansion', 'Macro typing', 'Keyboard shortcuts', 'Productivity tool', 'Efficiency tool', 'Time', 'Automatic typing', 'Automated text entry', 'Rapid typing', 'Keyboard macros', 'Text snippet tool', 'Keyboard recorder', 'Text macro software', 'Rapid typing software', 'Keyboard automation software', 'Typing automation software', 'Text expansion software', 'Auto']}, {\"Women's Handbags and Wallets\": [\"Women's handbags\", \"Women's wallets\", 'Designer handbags', 'Leather handbags', 'Tote bags', 'Crossbody bags', 'Shoulder bags', 'Clutch bags', 'Satchel bags', 'Hobo bags', 'Backpack purses', 'Wristlet wallets', 'Coin purses', 'Card holders', 'Zip', 'Bi', 'Tri', 'Chain strap bags', 'Top handle bags', 'Evening bags', 'Work bags', 'Travel bags', 'Fashion accessories']}, {'Musical Instruments': ['Guitar', 'Piano', 'Drums', 'Violin', 'Saxophone', 'Trumpet', 'Flute', 'Clarinet', 'Bass guitar', 'Cello', 'Banjo', 'Ukulele', 'Mandolin', 'Harp', 'Accordion', 'Harmonica', 'Bagpipes', 'Didgeridoo', 'Tambourine', 'Maracas', 'Triangle', 'Xylophone', 'Glockenspiel', 'Bells', 'Chimes', 'Gong', 'Timpani', 'Cajon', 'Djembe', 'Congas', 'Bongos', 'Steel drums', 'Synthesizer', 'Keyboard']}, {'Wellness': ['Health', 'Nutrition', 'Exercise', 'Mental health', 'Self', 'Meditation', 'Yoga', 'Mindfulness', 'Holistic', 'Wellness programs', 'Fitness', 'Wellness retreats', 'Stress management', 'Sleep hygiene', 'Hydration', 'Healthy habits', 'Balance', 'Well', 'Self', 'Relaxation', 'Alternative medicine', 'Natural remedies', 'Wellness coaching', 'Goal setting', 'Positive mindset', 'Gratitude', 'Community support.']}, {'Smartphones': ['Smartphone', 'Mobile phone', 'Android', 'iOS', 'Operating system', 'App', 'Touchscreen', 'Camera', 'Battery life', 'Storage', 'RAM', 'Processor', 'Network', 'Wireless charging', 'Fast charging', 'Headphone jack', 'Bluetooth', 'NFC', 'Mobile payment', 'Security features', 'Screen size', 'Resolution', '5G', 'LTE', 'Wi', 'GPS', 'Water resistant', 'Dust resistant', 'Gorilla Glass', 'Augmented reality', 'Virtual assistant', 'Siri', 'Google Assistant', 'Bixby', 'Face recognition', 'Fingerprint scanner', 'Dual SIM', 'Battery capacity', 'USB Type', 'MicroSD card slot', 'Edge', 'Notch display', 'Foldable display', 'Price range', 'Brand names (Apple, Samsung, Google, etc.)']}, {'Prom': ['Prom dress', 'Tuxedo', 'Corsage', 'Boutonniere', 'Limousine', 'Prom king and queen', 'Dance', 'Music', 'Photography', 'Hairstyle', 'Makeup', 'Promposal', 'Prom night', 'Prom tickets', 'Prom theme', 'Prom decorations', 'After', 'Prom committee', 'Prom traditions', 'Prom expenses.']}, {'Cinemas and Events': ['Movie theaters', 'Film screenings', 'Red carpet events', 'Film premieres', 'Film festivals', 'Cinema experience', 'Movie releases', 'Box office', 'Movie tickets', 'Film industry', 'Popcorn', 'Movie snacks', 'Movie merchandising', 'Movie trailers', 'Movie ratings', 'Film critics', 'Sound systems', 'Projection', 'Movie genres', 'Hollywood', 'Blockbuster movies', 'Indie films', 'Film awards', 'Film industry trends.']}]\n"
     ]
    },
    {
     "name": "stderr",
     "output_type": "stream",
     "text": [
      "\n"
     ]
    }
   ],
   "source": [
    "dep_name=deployment_stuff()\n",
    "IAB_output_list=[]\n",
    "Maf_output_list=[]\n",
    "\n",
    "for items in tqdm(Iab_labels):\n",
    "    count=0\n",
    "    while count<1:\n",
    "        try:\n",
    "            print(items)\n",
    "            IAB_output_list.append(call(dep_name,items))\n",
    "            count+=1\n",
    "        except Exception as e:\n",
    "            print(e)\n",
    "            if \"The response was filtered\" in str(e):\n",
    "                count+=1\n",
    "                continue\n",
    "\n",
    "print(IAB_output_list)\n",
    "with open(\"chat_gpt_iab.pkl\", 'wb') as f:\n",
    "    pkl.dump(IAB_output_list,f)\n",
    "\n",
    "# names=os.listdir('progress')\n",
    "# for items in tqdm(maf_labels):\n",
    "#     count=0\n",
    "#     while count<1:\n",
    "#         try:\n",
    "#             print(items)           \n",
    "#             if items in names:\n",
    "#                 count+=1\n",
    "#                 continue\n",
    "#             new_items=items.replace(\"_\", \" \")   \n",
    "#             res=call(dep_name,new_items)\n",
    "#             count+=1\n",
    "#             with open(\"progress/{}\".format(items), 'wb') as f:\n",
    "#                 pkl.dump(res,f)\n",
    "#         except Exception as e:\n",
    "#             print(\"In Exception\")\n",
    "#             print(e)\n",
    "#             if \"The response was filtered\" in str(e):\n",
    "#                 count+=1\n",
    "#                 continue\n",
    "\n",
    "# with open(\"chat_gpt_maf.pkl\", 'wb') as f:\n",
    "#     pkl.dump(Maf_output_list,f)"
   ]
  },
  {
   "cell_type": "code",
   "execution_count": 88,
   "metadata": {},
   "outputs": [
    {
     "data": {
      "text/plain": [
       "[{'Graduation': ['Graduation ceremony',\n",
       "   'Graduation cap and gown',\n",
       "   'Diploma',\n",
       "   'Commencement',\n",
       "   'Graduation party',\n",
       "   'Graduation speech',\n",
       "   'Graduation announcement',\n",
       "   'Graduation gifts',\n",
       "   'Graduation photos',\n",
       "   'Graduation date',\n",
       "   'Graduation requirements',\n",
       "   'Graduation invitation',\n",
       "   'Graduation honors',\n",
       "   'Graduation decorations',\n",
       "   'Graduation year']},\n",
       " {'Shopping': ['Online shopping',\n",
       "   'Retail stores',\n",
       "   'E',\n",
       "   'Shopping malls',\n",
       "   'Discounts',\n",
       "   'Coupons',\n",
       "   'Deals',\n",
       "   'Sales',\n",
       "   'Loyalty programs',\n",
       "   'Shopping carts',\n",
       "   'Payment methods',\n",
       "   'Product reviews',\n",
       "   'Customer service',\n",
       "   'Returns',\n",
       "   'Exchanges',\n",
       "   'Fashion',\n",
       "   'Electronics',\n",
       "   'Home goods',\n",
       "   'Groceries',\n",
       "   'Accessories',\n",
       "   'Beauty products',\n",
       "   'Gifts',\n",
       "   'Holiday shopping',\n",
       "   'Black Friday',\n",
       "   'Cyber Monday',\n",
       "   'Prime Day.']},\n",
       " {'Automotive': ['Car',\n",
       "   'Vehicle',\n",
       "   'Automobile',\n",
       "   'Engine',\n",
       "   'Transmission',\n",
       "   'Suspension',\n",
       "   'Brakes',\n",
       "   'Tires',\n",
       "   'Fuel efficiency',\n",
       "   'Emissions',\n",
       "   'Electric vehicles',\n",
       "   'Hybrid vehicles',\n",
       "   'Battery technology',\n",
       "   'Autonomous driving',\n",
       "   'Driver assistance systems',\n",
       "   'Car safety',\n",
       "   'Car maintenance',\n",
       "   'Car repair',\n",
       "   'Car customization',\n",
       "   'Car accessories.']},\n",
       " {'Houses': ['Real estate',\n",
       "   'Mortgage',\n",
       "   'Property value',\n",
       "   'Homeownership',\n",
       "   'Architecture',\n",
       "   'Interior design',\n",
       "   'Home improvement',\n",
       "   'Neighborhood',\n",
       "   'Renting',\n",
       "   'Housing market',\n",
       "   'Property taxes',\n",
       "   'Home inspection',\n",
       "   'Home insurance',\n",
       "   'Energy efficiency',\n",
       "   'Home security',\n",
       "   'Landscaping',\n",
       "   'Moving',\n",
       "   'Home renovation',\n",
       "   'Roommates',\n",
       "   'Home staging']},\n",
       " {'Commercial Trucks': ['Commercial vehicles',\n",
       "   'Semi',\n",
       "   'Big rigs',\n",
       "   'Freight trucks',\n",
       "   'Heavy',\n",
       "   'Delivery trucks',\n",
       "   'Box trucks',\n",
       "   'Flatbed trucks',\n",
       "   'Dump trucks',\n",
       "   'Tow trucks',\n",
       "   'Tractor',\n",
       "   'Commercial drivers',\n",
       "   'Fleet management',\n",
       "   'Cargo transportation',\n",
       "   'Trucking industry',\n",
       "   'Transportation logistics',\n",
       "   'Commercial vehicle maintenance',\n",
       "   'Commercial vehicle regulations',\n",
       "   'Commercial vehicle safety.']},\n",
       " {'Station Wagon': ['Family car',\n",
       "   'Estate car',\n",
       "   'Large trunk space',\n",
       "   'Cargo capacity',\n",
       "   'Rear seats',\n",
       "   'Third',\n",
       "   'All',\n",
       "   'Gas mileage',\n",
       "   'Safety features',\n",
       "   'Towing capacity',\n",
       "   'Roof rails',\n",
       "   'Ground clearance',\n",
       "   'Versatility',\n",
       "   'Utility vehicle',\n",
       "   'Road trip car']},\n",
       " {'South America Travel': ['South America',\n",
       "   'Travel',\n",
       "   'Adventure',\n",
       "   'Culture',\n",
       "   'Cuisine',\n",
       "   'Wildlife',\n",
       "   'Nature',\n",
       "   'Landscapes',\n",
       "   'History',\n",
       "   'Beaches',\n",
       "   'Mountains',\n",
       "   'Rainforest',\n",
       "   'Amazon',\n",
       "   'Machu Picchu',\n",
       "   'Galapagos Islands',\n",
       "   'Patagonia',\n",
       "   'Andes',\n",
       "   'Amazon River',\n",
       "   'Carnival',\n",
       "   'Samba',\n",
       "   'Tango',\n",
       "   'Spanish',\n",
       "   'Portuguese',\n",
       "   'Backpacking',\n",
       "   'Budget travel',\n",
       "   'Luxury travel',\n",
       "   'Solo travel',\n",
       "   'Group tours',\n",
       "   'Sustainable tourism.']},\n",
       " {'Bath and Shower': ['Bath',\n",
       "   'Shower',\n",
       "   'Bathtub',\n",
       "   'Showerhead',\n",
       "   'Faucet',\n",
       "   'Drain',\n",
       "   'Bathrobe',\n",
       "   'Bathmat',\n",
       "   'Bubble bath',\n",
       "   'Bath salts',\n",
       "   'Shower gel',\n",
       "   'Shampoo',\n",
       "   'Conditioner',\n",
       "   'Body wash',\n",
       "   'Soap',\n",
       "   'Loofah',\n",
       "   'Scrub',\n",
       "   'Towel',\n",
       "   'Bath towel',\n",
       "   'Hand towel',\n",
       "   'Washcloth',\n",
       "   'Bath oil',\n",
       "   'Shower cap',\n",
       "   'Bath pillow',\n",
       "   'Bath caddy',\n",
       "   'Bathrobe',\n",
       "   'Shower curtain',\n",
       "   'Shower rack',\n",
       "   'Waterproof speaker',\n",
       "   'Bath bombs',\n",
       "   'Bath sponge',\n",
       "   'Shower radio',\n",
       "   'Bathrobe',\n",
       "   'Bath accessories',\n",
       "   'Showerhead filter',\n",
       "   'Steam shower',\n",
       "   'Rain showerhead.']},\n",
       " {'Theater Venues and Events': ['Theater',\n",
       "   'Venue',\n",
       "   'Events',\n",
       "   'Performance',\n",
       "   'Stage',\n",
       "   'Production',\n",
       "   'Acting',\n",
       "   'Drama',\n",
       "   'Play',\n",
       "   'Musical',\n",
       "   'Concert',\n",
       "   'Auditorium',\n",
       "   'Seating',\n",
       "   'Lighting',\n",
       "   'Sound',\n",
       "   'Backstage',\n",
       "   'Props',\n",
       "   'Set design',\n",
       "   'Costume design',\n",
       "   'Box office',\n",
       "   'Ticketing',\n",
       "   'Usher',\n",
       "   'Audience',\n",
       "   'Intermission',\n",
       "   'Rehearsal',\n",
       "   'Director',\n",
       "   'Casting',\n",
       "   'Script',\n",
       "   'Playwright',\n",
       "   'Choreography.']},\n",
       " {'Books and Literature': ['Fiction',\n",
       "   'Non',\n",
       "   'Poetry',\n",
       "   'Memoir',\n",
       "   'Autobiography',\n",
       "   'Biography',\n",
       "   'Classic literature',\n",
       "   'Contemporary literature',\n",
       "   'Young adult literature',\n",
       "   \"Children's literature\",\n",
       "   'Science fiction',\n",
       "   'Fantasy',\n",
       "   'Mystery',\n",
       "   'Romance',\n",
       "   'Historical fiction',\n",
       "   'Literary criticism',\n",
       "   'Bestsellers',\n",
       "   'Pulitzer Prize',\n",
       "   'Nobel Prize for Literature',\n",
       "   'National Book Award',\n",
       "   'Book clubs',\n",
       "   'Literature festivals',\n",
       "   'Libraries',\n",
       "   'E',\n",
       "   'Audiobooks',\n",
       "   'Bookstores',\n",
       "   'Publishing industry',\n",
       "   'Writing techniques',\n",
       "   'Reading habits',\n",
       "   'Book recommendations',\n",
       "   'Book reviews',\n",
       "   'Literary analysis.']},\n",
       " {'Makeup and Accessories': ['cosmetics',\n",
       "   'beauty',\n",
       "   'lipstick',\n",
       "   'eyeshadow',\n",
       "   'foundation',\n",
       "   'mascara',\n",
       "   'blush',\n",
       "   'bronzer',\n",
       "   'highlighter',\n",
       "   'makeup brushes',\n",
       "   'makeup sponges',\n",
       "   'eyelash curler',\n",
       "   'makeup remover',\n",
       "   'setting spray',\n",
       "   'primer',\n",
       "   'lip liner',\n",
       "   'eyebrow pencil',\n",
       "   'contour',\n",
       "   'concealer',\n",
       "   'beauty blender',\n",
       "   'makeup palette',\n",
       "   'makeup kit',\n",
       "   'mirror',\n",
       "   'vanity table',\n",
       "   'makeup bag',\n",
       "   'cosmetic case',\n",
       "   'storage containers',\n",
       "   'jewelry',\n",
       "   'hair accessories',\n",
       "   'headbands',\n",
       "   'hair clips',\n",
       "   'hair ties',\n",
       "   'hair pins',\n",
       "   'hair combs',\n",
       "   'sunglasses',\n",
       "   'hats',\n",
       "   'scarves',\n",
       "   'handbags',\n",
       "   'wallets',\n",
       "   'watches',\n",
       "   'belts',\n",
       "   'shoes',\n",
       "   'perfume',\n",
       "   'nail polish',\n",
       "   'nail file',\n",
       "   'nail clippers']},\n",
       " {'Non-Alcoholic Beverages': ['Mocktails',\n",
       "   'Juices',\n",
       "   'Smoothies',\n",
       "   'Tea',\n",
       "   'Coffee',\n",
       "   'Sodas',\n",
       "   'Energy drinks',\n",
       "   'Herbal drinks',\n",
       "   'Infused water',\n",
       "   'Kombucha',\n",
       "   'Lemonade',\n",
       "   'Iced tea',\n",
       "   'Milkshakes',\n",
       "   'Hot chocolate',\n",
       "   'Sparkling water',\n",
       "   'Non',\n",
       "   'Punches',\n",
       "   'Fruit punches',\n",
       "   'Vegetable juices',\n",
       "   'Coconut water.']},\n",
       " {'Parks & Nature': ['National parks',\n",
       "   'State parks',\n",
       "   'City parks',\n",
       "   'Wilderness areas',\n",
       "   'Nature reserves',\n",
       "   'Hiking trails',\n",
       "   'Camping',\n",
       "   'Picnicking',\n",
       "   'Wildlife watching',\n",
       "   'Bird watching',\n",
       "   'Forests',\n",
       "   'Mountains',\n",
       "   'Lakes',\n",
       "   'Rivers',\n",
       "   'Oceans',\n",
       "   'Beaches',\n",
       "   'Conservation',\n",
       "   'Environmentalism',\n",
       "   'Outdoor recreation',\n",
       "   'Nature education']},\n",
       " {'Cameras and Camcorders': ['DSLR',\n",
       "   'Mirrorless',\n",
       "   'Point',\n",
       "   'Zoom lens',\n",
       "   'Wide',\n",
       "   'Telephoto lens',\n",
       "   'Aperture',\n",
       "   'Shutter speed',\n",
       "   'ISO',\n",
       "   'Autofocus',\n",
       "   'Manual focus',\n",
       "   'Image stabilization',\n",
       "   'Megapixels',\n",
       "   'Full',\n",
       "   'Crop sensor',\n",
       "   'Video resolution',\n",
       "   'Microphone input',\n",
       "   'HDMI output',\n",
       "   'Viewfinder',\n",
       "   'LCD screen',\n",
       "   'Battery life',\n",
       "   'Memory card',\n",
       "   'RAW file format',\n",
       "   'JPEG file format',\n",
       "   'Video format',\n",
       "   'Tripod']},\n",
       " {'Nail Care': ['Manicure',\n",
       "   'Pedicure',\n",
       "   'Nail polish',\n",
       "   'Cuticle care',\n",
       "   'Nail health',\n",
       "   'Nail art',\n",
       "   'Nail treatment',\n",
       "   'Nail shaping',\n",
       "   'Nail tools',\n",
       "   'Nail file',\n",
       "   'Nail buffer',\n",
       "   'Nail strengthening',\n",
       "   'Nail growth',\n",
       "   'Nail salon',\n",
       "   'Acrylic nails',\n",
       "   'Gel nails',\n",
       "   'French manicure',\n",
       "   'Nail care products',\n",
       "   'Nail care routine',\n",
       "   'Nail fungus',\n",
       "   'Nail biting',\n",
       "   'Nail maintenance']},\n",
       " {'Auto Repair': ['Car maintenance',\n",
       "   'Engine repair',\n",
       "   'Brake repair',\n",
       "   'Transmission repair',\n",
       "   'Oil change',\n",
       "   'Tire rotation',\n",
       "   'Wheel alignment',\n",
       "   'Suspension repair',\n",
       "   'Exhaust system repair',\n",
       "   'Battery replacement',\n",
       "   'Electrical system repair',\n",
       "   'Cooling system repair',\n",
       "   'Fuel system repair',\n",
       "   'Diagnostic testing',\n",
       "   'Car detailing',\n",
       "   'Auto body repair',\n",
       "   'Paint touch',\n",
       "   'Windshield replacement',\n",
       "   'Car audio installation',\n",
       "   'Car customization',\n",
       "   'Car wash',\n",
       "   'Car rental',\n",
       "   'Towing service',\n",
       "   'Roadside assistance',\n",
       "   'Car insurance',\n",
       "   'Car buying guide']},\n",
       " {'Zoos & Aquariums': ['Wildlife conservation',\n",
       "   'Animal welfare',\n",
       "   'Captive breeding',\n",
       "   'Endangered species',\n",
       "   'Education',\n",
       "   'Entertainment',\n",
       "   'Exhibits',\n",
       "   'Marine life',\n",
       "   'Terrestrial life',\n",
       "   'Habitats',\n",
       "   'Tourist attraction',\n",
       "   'Zoological parks',\n",
       "   'Animal behavior',\n",
       "   'Animal care',\n",
       "   'Animal enrichment',\n",
       "   'Animal research',\n",
       "   'Animal husbandry']},\n",
       " {'Home Improvement': ['DIY',\n",
       "   'Renovation',\n",
       "   'Remodeling',\n",
       "   'Interior design',\n",
       "   'Painting',\n",
       "   'Flooring',\n",
       "   'Plumbing',\n",
       "   'Electrical',\n",
       "   'Carpentry',\n",
       "   'Landscaping',\n",
       "   'Home organization',\n",
       "   'Home maintenance',\n",
       "   'Energy efficiency',\n",
       "   'Kitchen renovation',\n",
       "   'Bathroom renovation',\n",
       "   'Home security',\n",
       "   'Home automation',\n",
       "   'Furniture',\n",
       "   'Decor',\n",
       "   'Lighting.']},\n",
       " {'Air Travel': ['Airline',\n",
       "   'Flight',\n",
       "   'Ticket',\n",
       "   'Boarding pass',\n",
       "   'Check',\n",
       "   'Baggage',\n",
       "   'Security',\n",
       "   'Terminal',\n",
       "   'Gate',\n",
       "   'Cabin',\n",
       "   'Seat',\n",
       "   'In',\n",
       "   'Meal service',\n",
       "   'Flight attendant',\n",
       "   'Pilot',\n",
       "   'Aircraft',\n",
       "   'Airports',\n",
       "   'International travel',\n",
       "   'Domestic travel',\n",
       "   'Connecting flights',\n",
       "   'Layover',\n",
       "   'Delay',\n",
       "   'Cancellation',\n",
       "   'Overbooking',\n",
       "   'Upgrade',\n",
       "   'Frequent flyer program',\n",
       "   'TSA',\n",
       "   'Customs',\n",
       "   'Immigration',\n",
       "   'Jet lag',\n",
       "   'Airline regulations',\n",
       "   'Safety measures',\n",
       "   'Route planning',\n",
       "   'Air traffic control',\n",
       "   'Ground crew.']},\n",
       " {'Dating': ['Relationships',\n",
       "   'Love',\n",
       "   'Romance',\n",
       "   'Compatibility',\n",
       "   'Communication',\n",
       "   'Trust',\n",
       "   'Commitment',\n",
       "   'Intimacy',\n",
       "   'Attraction',\n",
       "   'Chemistry',\n",
       "   'Dating apps',\n",
       "   'Online dating',\n",
       "   'Blind dates',\n",
       "   'First impressions',\n",
       "   'Red flags',\n",
       "   'Compatibility tests',\n",
       "   'Flirting',\n",
       "   'Breakups',\n",
       "   'Dating advice',\n",
       "   'Single life',\n",
       "   'Dating culture',\n",
       "   'Gender roles',\n",
       "   'Expectations',\n",
       "   'Boundaries',\n",
       "   'Jealousy',\n",
       "   'Infidelity',\n",
       "   'Long distance relationships',\n",
       "   'Marriage']},\n",
       " {'Personal Celebrations & Life Events': ['Birthdays',\n",
       "   'Anniversaries',\n",
       "   'Weddings',\n",
       "   'Graduations',\n",
       "   'Retirement',\n",
       "   'Baptisms',\n",
       "   'Bar/Bat Mitzvahs',\n",
       "   'Quinceañeras',\n",
       "   'Sweet 16 parties',\n",
       "   'Baby showers',\n",
       "   'Bridal showers',\n",
       "   'Engagement parties',\n",
       "   'Gender reveal parties',\n",
       "   'Housewarming parties',\n",
       "   'Reunions',\n",
       "   'Funerals',\n",
       "   'Memorials',\n",
       "   'Holiday parties',\n",
       "   \"New Year's Eve parties\",\n",
       "   'Religious holidays',\n",
       "   'Festivals',\n",
       "   'Cultural celebrations']},\n",
       " {'Auto Parts': ['Car parts',\n",
       "   'Automotive components',\n",
       "   'Replacement parts',\n",
       "   'Engine parts',\n",
       "   'Suspension parts',\n",
       "   'Brake parts',\n",
       "   'Transmission parts',\n",
       "   'Exhaust systems',\n",
       "   'Electrical components',\n",
       "   'Filters',\n",
       "   'Belts and hoses',\n",
       "   'Fuel system parts',\n",
       "   'Cooling system parts',\n",
       "   'Ignition system parts',\n",
       "   'Steering parts',\n",
       "   'Wheels and tires',\n",
       "   'Body parts',\n",
       "   'Interior parts',\n",
       "   'Aftermarket parts',\n",
       "   'OEM parts',\n",
       "   'Performance parts',\n",
       "   'Maintenance parts',\n",
       "   'Car accessories.']},\n",
       " {'Board Games and Puzzles': ['Board games',\n",
       "   'Puzzles',\n",
       "   'Strategy games',\n",
       "   'Card games',\n",
       "   'Cooperative games',\n",
       "   'Competitive games',\n",
       "   'Classic games',\n",
       "   'Family games',\n",
       "   \"Children's games\",\n",
       "   'Educational games',\n",
       "   'Word games',\n",
       "   'Party games',\n",
       "   'Trivia games',\n",
       "   'Chess',\n",
       "   'Checkers',\n",
       "   'Scrabble',\n",
       "   'Monopoly',\n",
       "   'Risk',\n",
       "   'Clue',\n",
       "   'Jigsaw puzzles',\n",
       "   'Crossword puzzles',\n",
       "   'Sudoku',\n",
       "   'Brain teasers',\n",
       "   'Logic puzzles',\n",
       "   \"Rubik's cube\",\n",
       "   'Memory games',\n",
       "   'Dominoes',\n",
       "   'Mahjong',\n",
       "   'Backgammon',\n",
       "   'Catan',\n",
       "   'Ticket to Ride',\n",
       "   'Pandemic',\n",
       "   'Carcassonne',\n",
       "   'Codenames',\n",
       "   'Sequence',\n",
       "   'Bananagrams',\n",
       "   'Apples to Apples',\n",
       "   'Settlers of Catan',\n",
       "   'Trivial Pursuit',\n",
       "   'Guess Who?']},\n",
       " {'Polar Travel': ['Arctic',\n",
       "   'Antarctic',\n",
       "   'Polar regions',\n",
       "   'Ice caps',\n",
       "   'Glaciers',\n",
       "   'Polar bears',\n",
       "   'Penguins',\n",
       "   'Aurora borealis',\n",
       "   'Snowshoeing',\n",
       "   'Dog sledding',\n",
       "   'Ice fishing',\n",
       "   'Northern lights',\n",
       "   'Snowmobiling',\n",
       "   'Expedition',\n",
       "   'Ice climbing',\n",
       "   'Wildlife',\n",
       "   'Climate change',\n",
       "   'Extreme weather',\n",
       "   'Adventure',\n",
       "   'Survival skills',\n",
       "   'Research stations',\n",
       "   'Icebreakers',\n",
       "   'Inuit culture',\n",
       "   'Arctic Circle',\n",
       "   'South Pole',\n",
       "   'North Pole',\n",
       "   'Tundra']},\n",
       " {'Smart Home': ['Home automation',\n",
       "   'Internet of Things (IoT)',\n",
       "   'Voice assistants (e.g. Alexa, Google Assistant)',\n",
       "   'Smart thermostats',\n",
       "   'Smart lighting',\n",
       "   'Smart security systems',\n",
       "   'Smart locks',\n",
       "   'Energy efficiency',\n",
       "   'Remote access',\n",
       "   'Smart appliances',\n",
       "   'Smart entertainment systems',\n",
       "   'Smart sensors',\n",
       "   'Home monitoring',\n",
       "   'Home control',\n",
       "   'Smart speakers',\n",
       "   'Smart hubs',\n",
       "   'Connected devices',\n",
       "   'Artificial intelligence',\n",
       "   'Machine learning',\n",
       "   'Home connectivity',\n",
       "   'Home integration',\n",
       "   'Home technology.']},\n",
       " {'Technology Industry': ['Artificial intelligence',\n",
       "   'Big data',\n",
       "   'Cloud computing',\n",
       "   'Cybersecurity',\n",
       "   'Digital transformation',\n",
       "   'E',\n",
       "   'Internet of Things (IoT)',\n",
       "   'Machine learning',\n",
       "   'Mobile devices',\n",
       "   'Network infrastructure',\n",
       "   'Robotics',\n",
       "   'Software development',\n",
       "   'Virtual reality',\n",
       "   'Wearable technology',\n",
       "   '5G technology']},\n",
       " {'Desserts and Baking': ['Desserts',\n",
       "   'Baking',\n",
       "   'Cookies',\n",
       "   'Cakes',\n",
       "   'Pies',\n",
       "   'Brownies',\n",
       "   'Cupcakes',\n",
       "   'Muffins',\n",
       "   'Cheesecake',\n",
       "   'Dessert bars',\n",
       "   'Pastry',\n",
       "   'Bread',\n",
       "   'Chocolate',\n",
       "   'Vanilla',\n",
       "   'Fruit',\n",
       "   'Nuts',\n",
       "   'Sugar',\n",
       "   'Flour',\n",
       "   'Butter',\n",
       "   'Eggs',\n",
       "   'Milk',\n",
       "   'Cream',\n",
       "   'Frosting',\n",
       "   'Icing',\n",
       "   'Whipped cream',\n",
       "   'Ganache',\n",
       "   'Caramel',\n",
       "   'Pudding',\n",
       "   'Custard',\n",
       "   'Tarts',\n",
       "   'Crumbles',\n",
       "   'Ice cream',\n",
       "   'Sorbet',\n",
       "   'Sherbet',\n",
       "   'Trifles',\n",
       "   'Parfaits',\n",
       "   'Biscuits',\n",
       "   'Shortbread',\n",
       "   'Scones',\n",
       "   'Danish pastries',\n",
       "   'Croissants',\n",
       "   'Pâte à choux.']},\n",
       " {'Home Appliances': ['Refrigerator',\n",
       "   'Stove',\n",
       "   'Oven',\n",
       "   'Microwave',\n",
       "   'Dishwasher',\n",
       "   'Washing machine',\n",
       "   'Dryer',\n",
       "   'Vacuum cleaner',\n",
       "   'Air conditioner',\n",
       "   'Heater',\n",
       "   'Blender',\n",
       "   'Toaster',\n",
       "   'Coffee maker',\n",
       "   'Kettle',\n",
       "   'Iron',\n",
       "   'Hair dryer',\n",
       "   'Electric fan',\n",
       "   'Water dispenser',\n",
       "   'Food processor',\n",
       "   'Juicer']},\n",
       " {'Space and Astronomy': ['Stars',\n",
       "   'Planets',\n",
       "   'Galaxies',\n",
       "   'Black holes',\n",
       "   'Nebulae',\n",
       "   'Comets',\n",
       "   'Asteroids',\n",
       "   'Satellites',\n",
       "   'Telescopes',\n",
       "   'Spacecraft',\n",
       "   'Exoplanets',\n",
       "   'Universe',\n",
       "   'Gravity',\n",
       "   'Cosmic radiation',\n",
       "   'Dark matter',\n",
       "   'Astronomy',\n",
       "   'Astrophysics',\n",
       "   'Astronauts',\n",
       "   'Space exploration',\n",
       "   'Space missions',\n",
       "   'Space technology',\n",
       "   'Space stations',\n",
       "   'Lunar exploration',\n",
       "   'Mars exploration',\n",
       "   'Solar system',\n",
       "   'Outer space',\n",
       "   'Astrobiology']},\n",
       " {'Reptiles': ['Lizards',\n",
       "   'Snakes',\n",
       "   'Turtles',\n",
       "   'Crocodiles',\n",
       "   'Chameleons',\n",
       "   'Geckos',\n",
       "   'Iguanas',\n",
       "   'Skinks',\n",
       "   'Komodo Dragons',\n",
       "   'Gila Monsters',\n",
       "   'Reptile care',\n",
       "   'Reptile habitat',\n",
       "   'Reptile behavior',\n",
       "   'Reptile diet',\n",
       "   'Reptile anatomy',\n",
       "   'Venomous reptiles',\n",
       "   'Cold',\n",
       "   'Herpetology',\n",
       "   'Reptile conservation']},\n",
       " {'Primary Education': ['Elementary education',\n",
       "   'Early childhood education',\n",
       "   'Classroom management',\n",
       "   'Curriculum development',\n",
       "   'Instructional strategies',\n",
       "   'Student assessment',\n",
       "   'Literacy development',\n",
       "   'Numeracy development',\n",
       "   'Educational technology',\n",
       "   'Learning disabilities',\n",
       "   'Special needs education',\n",
       "   'Teacher training',\n",
       "   'Parent involvement',\n",
       "   'School readiness',\n",
       "   'Play',\n",
       "   'Inquiry',\n",
       "   'STEM education',\n",
       "   'Social',\n",
       "   'Multicultural education',\n",
       "   'Gifted education']},\n",
       " {'Beauty': ['skincare',\n",
       "   'makeup',\n",
       "   'hair care',\n",
       "   'beauty products',\n",
       "   'cosmetics',\n",
       "   'grooming',\n",
       "   'beauty routine',\n",
       "   'beauty tips',\n",
       "   'beauty trends',\n",
       "   'beauty industry',\n",
       "   'beauty standards',\n",
       "   'natural beauty',\n",
       "   'beauty influencers',\n",
       "   'beauty bloggers',\n",
       "   'beauty vloggers',\n",
       "   'beauty tutorials',\n",
       "   'beauty hacks',\n",
       "   'beauty salons',\n",
       "   'beauty treatments',\n",
       "   'anti',\n",
       "   'beauty tools',\n",
       "   'beauty subscription boxes',\n",
       "   'beauty services',\n",
       "   'beauty community',\n",
       "   'beauty events',\n",
       "   'beauty pageants',\n",
       "   'beauty contests',\n",
       "   'beauty schools',\n",
       "   'beauty certifications',\n",
       "   'beauty therapy',\n",
       "   'beauty insurance',\n",
       "   'beauty jobs',\n",
       "   'beauty career']},\n",
       " {'Tablets and E-readers': ['Tablets',\n",
       "   'E',\n",
       "   'Touchscreen',\n",
       "   'Display',\n",
       "   'Battery life',\n",
       "   'Operating system',\n",
       "   'Wi',\n",
       "   'Bluetooth',\n",
       "   'Storage',\n",
       "   'Screen size',\n",
       "   'Resolution',\n",
       "   'Processor',\n",
       "   'RAM',\n",
       "   'Front',\n",
       "   'Rear',\n",
       "   'Audio',\n",
       "   'Video playback',\n",
       "   'Connectivity',\n",
       "   'Internet browsing',\n",
       "   'Apps',\n",
       "   'eBooks',\n",
       "   'Reading experience',\n",
       "   'Digital content',\n",
       "   'Portable',\n",
       "   'Lightweight',\n",
       "   'Durable',\n",
       "   'User',\n",
       "   'Cost',\n",
       "   'Brand options',\n",
       "   'Popular models.']},\n",
       " {\"Men's Formal Wear\": [\"Men's suits\",\n",
       "   'Tuxedos',\n",
       "   'Dress shirts',\n",
       "   'Neckties',\n",
       "   'Bow ties',\n",
       "   'Pocket squares',\n",
       "   'Dress shoes',\n",
       "   'Cufflinks',\n",
       "   'Waistcoats',\n",
       "   'Blazers',\n",
       "   'Dress pants',\n",
       "   'Dress socks',\n",
       "   'Cummerbunds',\n",
       "   'Top hats',\n",
       "   'Dress watches',\n",
       "   'Tie clips',\n",
       "   'Lapel pins',\n",
       "   'Black tie attire',\n",
       "   'Formal events',\n",
       "   'Business attire']},\n",
       " {'Africa Travel': ['Safari',\n",
       "   'Wildlife',\n",
       "   'Culture',\n",
       "   'Adventure',\n",
       "   'Beaches',\n",
       "   'National Parks',\n",
       "   'History',\n",
       "   'Landscapes',\n",
       "   'Conservation',\n",
       "   'Cuisine',\n",
       "   'Music',\n",
       "   'Festivals',\n",
       "   'Eco',\n",
       "   'Volunteering',\n",
       "   'Gorilla trekking',\n",
       "   'Mount Kilimanjaro',\n",
       "   'Victoria Falls',\n",
       "   'Nile River',\n",
       "   'Serengeti',\n",
       "   'Cape Town',\n",
       "   'Marrakech',\n",
       "   'Pyramids',\n",
       "   'Sahara Desert']},\n",
       " {'Barbecues and Grilling': ['Barbecue',\n",
       "   'Grilling',\n",
       "   'BBQ',\n",
       "   'Charcoal',\n",
       "   'Gas grill',\n",
       "   'Smoker',\n",
       "   'Meat',\n",
       "   'Vegetables',\n",
       "   'Marinade',\n",
       "   'Rubs',\n",
       "   'Sauce',\n",
       "   'Charcoal briquettes',\n",
       "   'Wood chips',\n",
       "   'Skewers',\n",
       "   'Grill basket',\n",
       "   'Grilling utensils',\n",
       "   'Charcoal chimney',\n",
       "   'Steak',\n",
       "   'Burger',\n",
       "   'Hotdog',\n",
       "   'Chicken',\n",
       "   'Ribs',\n",
       "   'Pork',\n",
       "   'Beef',\n",
       "   'Seafood',\n",
       "   'Kabobs',\n",
       "   'Grilled vegetables',\n",
       "   'BBQ pit',\n",
       "   'Temperature control',\n",
       "   'Barbecue competition',\n",
       "   'Barbecue sauce recipe',\n",
       "   'Grilling techniques',\n",
       "   'Outdoor cooking',\n",
       "   'Grill cleaning',\n",
       "   'Grill cover',\n",
       "   'Grill mat',\n",
       "   'Grill light',\n",
       "   'Grill thermometer.']},\n",
       " {'Gardening': ['Plants',\n",
       "   'Soil',\n",
       "   'Seeds',\n",
       "   'Watering',\n",
       "   'Fertilizers',\n",
       "   'Composting',\n",
       "   'Pruning',\n",
       "   'Landscaping',\n",
       "   'Pests',\n",
       "   'Flowers',\n",
       "   'Vegetables',\n",
       "   'Fruit trees',\n",
       "   'Garden tools',\n",
       "   'Garden design',\n",
       "   'Garden maintenance',\n",
       "   'Sunlight',\n",
       "   'Shade',\n",
       "   'Mulching',\n",
       "   'Irrigation',\n",
       "   'Garden pests control',\n",
       "   'Raised beds',\n",
       "   'Container gardening',\n",
       "   'Organic gardening',\n",
       "   'Garden beds',\n",
       "   'Garden structures',\n",
       "   'Garden accessories.']},\n",
       " {'Asia Travel': ['Asia',\n",
       "   'Travel',\n",
       "   'Tourism',\n",
       "   'Backpacking',\n",
       "   'Culture',\n",
       "   'Adventure',\n",
       "   'Food',\n",
       "   'Landmarks',\n",
       "   'Sightseeing',\n",
       "   'Beaches',\n",
       "   'Mountains',\n",
       "   'Temples',\n",
       "   'History',\n",
       "   'Festivals',\n",
       "   'Cities',\n",
       "   'Nature',\n",
       "   'Wildlife',\n",
       "   'Budget',\n",
       "   'Luxury',\n",
       "   'Accommodation',\n",
       "   'Transportation',\n",
       "   'Languages',\n",
       "   'Visa',\n",
       "   'Currency',\n",
       "   'Safety',\n",
       "   'Health',\n",
       "   'Climate']},\n",
       " {\"Men's Clothing\": [\"Men's fashion\",\n",
       "   \"Men's clothing styles\",\n",
       "   \"Men's formal wear\",\n",
       "   \"Men's casual wear\",\n",
       "   \"Men's streetwear\",\n",
       "   \"Men's suits\",\n",
       "   \"Men's blazers\",\n",
       "   \"Men's dress shirts\",\n",
       "   \"Men's t\",\n",
       "   \"Men's polo shirts\",\n",
       "   \"Men's jeans\",\n",
       "   \"Men's pants\",\n",
       "   \"Men's shorts\",\n",
       "   \"Men's jackets\",\n",
       "   \"Men's coats\",\n",
       "   \"Men's sweaters\",\n",
       "   \"Men's hoodies\",\n",
       "   \"Men's accessories (belts, ties, hats, watches, etc.)\"]},\n",
       " {'Van': ['Van life',\n",
       "   'Cargo van',\n",
       "   'Minivan',\n",
       "   'Passenger van',\n",
       "   'Camper van',\n",
       "   'Conversion van',\n",
       "   'Van rental',\n",
       "   'Van conversion',\n",
       "   'Sprinter van',\n",
       "   'Transit van',\n",
       "   'Chevy van',\n",
       "   'Ford van',\n",
       "   'Dodge van',\n",
       "   'Volkswagen van',\n",
       "   'Roof rack',\n",
       "   'Van accessories',\n",
       "   'Van camping',\n",
       "   'Van interior design',\n",
       "   'Van insulation',\n",
       "   'Van insulation kit']},\n",
       " {'Retail Property': ['Commercial real estate',\n",
       "   'Shopping center',\n",
       "   'Mall',\n",
       "   'High street',\n",
       "   'Leasing',\n",
       "   'Tenant',\n",
       "   'Landlord',\n",
       "   'Foot traffic',\n",
       "   'Retail trends',\n",
       "   'Sales performance',\n",
       "   'Vacancy rate',\n",
       "   'Anchor tenant',\n",
       "   'Retail mix',\n",
       "   'Zoning',\n",
       "   'Location',\n",
       "   'Property management',\n",
       "   'Lease negotiation',\n",
       "   'Marketing strategy',\n",
       "   'Consumer behavior',\n",
       "   'Demographics',\n",
       "   'Competitor analysis',\n",
       "   'Renovation',\n",
       "   'Expansion',\n",
       "   'Franchising',\n",
       "   'E',\n",
       "   'Technology integration in retail property.']},\n",
       " {'Home Entertaining': ['Home entertainment',\n",
       "   'Hosting',\n",
       "   'Parties',\n",
       "   'Food and drinks',\n",
       "   'Decorations',\n",
       "   'Music',\n",
       "   'Games',\n",
       "   'Invitations',\n",
       "   'Themes',\n",
       "   'Guest list',\n",
       "   'Entertaining spaces',\n",
       "   'Table settings',\n",
       "   'Centerpieces',\n",
       "   'Appetizers',\n",
       "   'Cocktails',\n",
       "   'Wine',\n",
       "   'Beer',\n",
       "   'Desserts',\n",
       "   'Party favors',\n",
       "   'Entertainment options',\n",
       "   'Outdoor entertaining',\n",
       "   'Indoor entertaining',\n",
       "   'Hosting tips',\n",
       "   'Budget',\n",
       "   'Special occasions',\n",
       "   'Holidays',\n",
       "   'Seasonal events',\n",
       "   'DIY projects',\n",
       "   'Party planning',\n",
       "   'Socializing',\n",
       "   'Atmosphere',\n",
       "   'Lighting',\n",
       "   'Seating arrangements',\n",
       "   'Conversation starters',\n",
       "   'Photo opportunities',\n",
       "   'Clean',\n",
       "   'Thank you notes',\n",
       "   'Hosting etiquette']},\n",
       " {'Logistics and Transportation Industry': ['Supply chain management',\n",
       "   'Freight forwarding',\n",
       "   'Warehouse management',\n",
       "   'Inventory control',\n",
       "   'Transportation infrastructure',\n",
       "   'Route optimization',\n",
       "   'Last',\n",
       "   'Carrier selection',\n",
       "   'Freight rates',\n",
       "   'Customs clearance',\n",
       "   'Intermodal transportation',\n",
       "   'Global trade',\n",
       "   'Reverse logistics',\n",
       "   'E',\n",
       "   'Fleet management',\n",
       "   'Logistics technology',\n",
       "   'Sustainability in logistics',\n",
       "   'Outsourcing logistics services',\n",
       "   'Third',\n",
       "   'Fourth',\n",
       "   'Cold chain logistics.']},\n",
       " {'Dining Out': ['Restaurants',\n",
       "   'Menus',\n",
       "   'Cuisine',\n",
       "   'Food',\n",
       "   'Beverages',\n",
       "   'Dining experience',\n",
       "   'Reservations',\n",
       "   'Ambiance',\n",
       "   'Service',\n",
       "   'Waitstaff',\n",
       "   'Special occasions',\n",
       "   'Dietary restrictions',\n",
       "   'Pricing',\n",
       "   'Reviews',\n",
       "   'Recommendations',\n",
       "   'Location',\n",
       "   'Atmosphere',\n",
       "   'Outdoor dining',\n",
       "   'Takeout',\n",
       "   'Delivery',\n",
       "   'Fine dining',\n",
       "   'Casual dining',\n",
       "   'Ethnic cuisine',\n",
       "   'Fast food',\n",
       "   'Chain restaurants',\n",
       "   'Local eateries',\n",
       "   'Bar and grill',\n",
       "   'Wine selection',\n",
       "   'Cocktails',\n",
       "   'Happy hour.']},\n",
       " {'Dogs': ['Canine',\n",
       "   'Pet',\n",
       "   'Breed',\n",
       "   'Training',\n",
       "   'Behavior',\n",
       "   'Health',\n",
       "   'Nutrition',\n",
       "   'Exercise',\n",
       "   'Grooming',\n",
       "   'Obedience',\n",
       "   'Agility',\n",
       "   'Socialization',\n",
       "   'Therapy',\n",
       "   'Working dogs',\n",
       "   'Rescue dogs',\n",
       "   'Service dogs',\n",
       "   'Guard dogs',\n",
       "   'Hunting dogs',\n",
       "   'Toy dogs',\n",
       "   'Terrier',\n",
       "   'Spaniel',\n",
       "   'Retriever',\n",
       "   'Bulldog',\n",
       "   'Poodle',\n",
       "   'German Shepherd',\n",
       "   'Labrador',\n",
       "   'Golden Retriever',\n",
       "   'Dachshund',\n",
       "   'Chihuahua',\n",
       "   'Pitbull',\n",
       "   'Husky',\n",
       "   'Beagle',\n",
       "   'Shih Tzu',\n",
       "   'Boxer',\n",
       "   'Jack Russell Terrier',\n",
       "   'Border Collie',\n",
       "   'Great Dane',\n",
       "   'Mastiff',\n",
       "   'Rottweiler',\n",
       "   'Doberman',\n",
       "   'Cocker Spaniel',\n",
       "   'Bichon Frise',\n",
       "   'Sheepdog',\n",
       "   'Greyhound',\n",
       "   'Saint Bernard',\n",
       "   'Hound',\n",
       "   'Schnauzer',\n",
       "   'Weimaraner',\n",
       "   'Samoyed',\n",
       "   'Maltese',\n",
       "   'Yorkie.']},\n",
       " {'Auto Rentals': ['Car rental',\n",
       "   'Auto rental',\n",
       "   'Vehicle rental',\n",
       "   'Rent a car',\n",
       "   'Car hire',\n",
       "   'Auto hire',\n",
       "   'Vehicle hire',\n",
       "   'Renting cars',\n",
       "   'Car leasing',\n",
       "   'Auto leasing',\n",
       "   'Vehicle leasing',\n",
       "   'Car rental companies',\n",
       "   'Auto rental services',\n",
       "   'Car rental rates',\n",
       "   'Auto rental prices',\n",
       "   'Car rental insurance',\n",
       "   'Auto rental policies',\n",
       "   'Car rental reservations',\n",
       "   'Auto rental booking',\n",
       "   'Car rental locations',\n",
       "   'Auto rental availability',\n",
       "   'Car rental discounts',\n",
       "   'Auto rental deals',\n",
       "   'Car rental promotions',\n",
       "   'Auto rental coupons',\n",
       "   'Car rental loyalty programs',\n",
       "   'Auto rental rewards',\n",
       "   'Car rental benefits',\n",
       "   'Auto rental advantages']},\n",
       " {'Birds': ['Beaks',\n",
       "   'Feathers',\n",
       "   'Wings',\n",
       "   'Migration',\n",
       "   'Nests',\n",
       "   'Eggs',\n",
       "   'Plumage',\n",
       "   'Flight',\n",
       "   'Avian communication',\n",
       "   'Bird watching',\n",
       "   'Ornithology',\n",
       "   'Raptors',\n",
       "   'Songbirds',\n",
       "   'Waterfowl',\n",
       "   'Endangered species',\n",
       "   'Habitat conservation',\n",
       "   'Bird behavior',\n",
       "   'Bird anatomy',\n",
       "   'Bird songs',\n",
       "   'Bird of prey']},\n",
       " {'Card Games': ['Poker',\n",
       "   'Blackjack',\n",
       "   'Solitaire',\n",
       "   'Bridge',\n",
       "   'Rummy',\n",
       "   'Spades',\n",
       "   'Hearts',\n",
       "   'Go Fish',\n",
       "   'Uno',\n",
       "   'War',\n",
       "   'Old Maid',\n",
       "   'Euchre',\n",
       "   'Pinochle',\n",
       "   'Cribbage',\n",
       "   'Canasta',\n",
       "   'Gin Rummy',\n",
       "   'Crazy Eights',\n",
       "   'Tarot cards',\n",
       "   'Playing cards',\n",
       "   'Shuffling',\n",
       "   'Dealing',\n",
       "   'Hand ranking',\n",
       "   'Betting',\n",
       "   'Strategy',\n",
       "   'Bluffing',\n",
       "   'Tricking',\n",
       "   'Trump cards',\n",
       "   'Table games',\n",
       "   'Casino games',\n",
       "   'Family games',\n",
       "   'Multiplayer games',\n",
       "   'Competitive games',\n",
       "   'Classic games.']},\n",
       " {'Malls & Shopping Centers': ['Shopping',\n",
       "   'Retail',\n",
       "   'Stores',\n",
       "   'Department stores',\n",
       "   'Boutiques',\n",
       "   'Food court',\n",
       "   'Parking',\n",
       "   'Fashion',\n",
       "   'Entertainment',\n",
       "   'Cinemas',\n",
       "   'Coffee shops',\n",
       "   'Restaurants',\n",
       "   'Convenience',\n",
       "   'Consumerism',\n",
       "   'Discounts',\n",
       "   'Sales',\n",
       "   'Promotions',\n",
       "   'Convenience',\n",
       "   'Convenience stores',\n",
       "   'Gift shops',\n",
       "   'Shopping experience',\n",
       "   'Shopping mall',\n",
       "   'Shopping center',\n",
       "   'Shopping plaza',\n",
       "   'Convenience shopping',\n",
       "   'Shopping therapy',\n",
       "   'Retail therapy',\n",
       "   'Window shopping',\n",
       "   'Shopaholic',\n",
       "   'Brand names',\n",
       "   'Luxury brands',\n",
       "   'High',\n",
       "   'Budget shopping',\n",
       "   'Mall culture',\n",
       "   'Family shopping',\n",
       "   'Shopping spree',\n",
       "   'Indoor shopping',\n",
       "   'Outdoor shopping',\n",
       "   'Big box stores',\n",
       "   'Anchor stores',\n",
       "   'Shopping destination',\n",
       "   'Retail park',\n",
       "   'Shopping arcade',\n",
       "   'Shopping complex',\n",
       "   'Discount stores',\n",
       "   'Hypermarkets',\n",
       "   'Supermarkets',\n",
       "   'Designer stores',\n",
       "   'Specialty stores',\n",
       "   'Convenience stores',\n",
       "   'Shopping malls near me',\n",
       "   'Online shopping',\n",
       "   'E',\n",
       "   'Retail industry.']},\n",
       " {'Home Security': ['Burglar alarm',\n",
       "   'Surveillance cameras',\n",
       "   'Motion sensors',\n",
       "   'Door locks',\n",
       "   'Window locks',\n",
       "   'Security doors',\n",
       "   'Intercom systems',\n",
       "   'Smart home security systems',\n",
       "   'Home automation',\n",
       "   'Panic buttons',\n",
       "   'Security lighting',\n",
       "   'Smoke detectors',\n",
       "   'Carbon monoxide detectors',\n",
       "   'Home security signs',\n",
       "   'Security guards',\n",
       "   'Neighborhood watch.']},\n",
       " {'Pets': ['Dogs',\n",
       "   'Cats',\n",
       "   'Birds',\n",
       "   'Fish',\n",
       "   'Reptiles',\n",
       "   'Hamsters',\n",
       "   'Guinea pigs',\n",
       "   'Rabbits',\n",
       "   'Pet care',\n",
       "   'Pet food',\n",
       "   'Pet grooming',\n",
       "   'Pet training',\n",
       "   'Pet adoption',\n",
       "   'Pet health',\n",
       "   'Pet toys',\n",
       "   'Pet accessories',\n",
       "   'Pet behavior',\n",
       "   'Pet insurance',\n",
       "   'Pet',\n",
       "   'Pet',\n",
       "   'Pet transportation',\n",
       "   'Pet ownership',\n",
       "   'Animal shelters',\n",
       "   'Animal welfare.']},\n",
       " {'Food Industry': ['Agriculture',\n",
       "   'Farming',\n",
       "   'Food production',\n",
       "   'Food processing',\n",
       "   'Food safety',\n",
       "   'Food distribution',\n",
       "   'Food packaging',\n",
       "   'Food marketing',\n",
       "   'Food labeling',\n",
       "   'Food regulations',\n",
       "   'Restaurant industry',\n",
       "   'Fast food industry',\n",
       "   'Grocery stores',\n",
       "   'Food waste',\n",
       "   'Sustainable agriculture',\n",
       "   'Organic food',\n",
       "   'Genetically modified organisms (GMOs)',\n",
       "   'Food trends',\n",
       "   'Food technology',\n",
       "   'Food innovation',\n",
       "   'Food packaging materials',\n",
       "   'Food delivery services',\n",
       "   'Food service equipment',\n",
       "   'Food supply chain',\n",
       "   'Food nutrition',\n",
       "   'Food allergies',\n",
       "   'Food recalls',\n",
       "   'Food certification',\n",
       "   'Food service management',\n",
       "   'Food industry associations',\n",
       "   'Food industry research',\n",
       "   'Food industry employment',\n",
       "   'Food industry trade shows']},\n",
       " {\"Women's Formal Wear\": [\"Women's formal dresses\",\n",
       "   'Evening gowns',\n",
       "   'Cocktail dresses',\n",
       "   'Black',\n",
       "   'Formal suits',\n",
       "   'Formal jumpsuits',\n",
       "   'Dress shoes',\n",
       "   'Jewelry',\n",
       "   'Clutch purse',\n",
       "   'Hair accessories',\n",
       "   'Makeup',\n",
       "   'Nail polish',\n",
       "   'Hosiery',\n",
       "   'Shapewear',\n",
       "   'Formal outerwear']},\n",
       " {'Daycare and Pre-School': ['Child care',\n",
       "   'Early childhood education',\n",
       "   'Nursery school',\n",
       "   'Play',\n",
       "   'Curriculum',\n",
       "   'Learning through play',\n",
       "   'Socialization',\n",
       "   'Child development',\n",
       "   'Parent involvement',\n",
       "   'Licensed facilities',\n",
       "   'Safety regulations',\n",
       "   'Age',\n",
       "   'Kindergarten readiness',\n",
       "   'Developmental milestones',\n",
       "   'Nutrition and meals',\n",
       "   'Classroom environment',\n",
       "   'Teacher qualifications',\n",
       "   'Accreditation',\n",
       "   'Daily schedule',\n",
       "   'Nap time',\n",
       "   'Outdoor play',\n",
       "   'Enrichment programs',\n",
       "   'Field trips',\n",
       "   'Assessments',\n",
       "   'Progress reports',\n",
       "   'Communication with parents',\n",
       "   'After',\n",
       "   'Summer camps.']},\n",
       " {'Fine Art': ['Painting',\n",
       "   'Sculpture',\n",
       "   'Drawing',\n",
       "   'Printmaking',\n",
       "   'Photography',\n",
       "   'Ceramics',\n",
       "   'Glass blowing',\n",
       "   'Abstract art',\n",
       "   'Realism',\n",
       "   'Impressionism',\n",
       "   'Expressionism',\n",
       "   'Surrealism',\n",
       "   'Pop art',\n",
       "   'Contemporary art',\n",
       "   'Installation art',\n",
       "   'Performance art',\n",
       "   'Art history',\n",
       "   'Art criticism',\n",
       "   'Art theory',\n",
       "   'Art education',\n",
       "   'Museums',\n",
       "   'Galleries',\n",
       "   'Exhibitions',\n",
       "   'Art auctions',\n",
       "   'Art collectors',\n",
       "   'Art market.']},\n",
       " {'Comedy Events': ['Comedy shows',\n",
       "   'Comedians',\n",
       "   'Stand',\n",
       "   'Improv comedy',\n",
       "   'Comedy festivals',\n",
       "   'Sketch comedy',\n",
       "   'Laugh',\n",
       "   'Humor',\n",
       "   'Jokes',\n",
       "   'Satire',\n",
       "   'Parody',\n",
       "   'Roast comedy',\n",
       "   'Comedy clubs',\n",
       "   'Comedy movies',\n",
       "   'Funny',\n",
       "   'Hilarious',\n",
       "   'Entertainment',\n",
       "   'Laughter',\n",
       "   'Stand',\n",
       "   'Comedy tours',\n",
       "   'Comedic timing',\n",
       "   'Audience participation.']},\n",
       " {\"Children's Games and Toys\": ['Board games',\n",
       "   'Card games',\n",
       "   'Puzzles',\n",
       "   'Building blocks',\n",
       "   'Dolls',\n",
       "   'Action figures',\n",
       "   'Stuffed animals',\n",
       "   'Arts and crafts',\n",
       "   'Educational games',\n",
       "   'Outdoor games',\n",
       "   'Video games',\n",
       "   'Musical toys',\n",
       "   'Pretend play toys',\n",
       "   'STEM toys',\n",
       "   'Sensory toys',\n",
       "   'Interactive toys',\n",
       "   'Electronic toys',\n",
       "   'Ride',\n",
       "   'Sports equipment',\n",
       "   'Play kitchens',\n",
       "   'Playhouses',\n",
       "   'Play tents',\n",
       "   'Play tunnels',\n",
       "   'Play mats',\n",
       "   'Playsets',\n",
       "   'Toy vehicles',\n",
       "   'Play food',\n",
       "   'Learning tablets',\n",
       "   'Building sets',\n",
       "   'Construction toys',\n",
       "   'Water toys',\n",
       "   'Sand toys',\n",
       "   'Pool toys',\n",
       "   'Bath toys',\n",
       "   'Role',\n",
       "   'Play instruments',\n",
       "   'Tricycles',\n",
       "   'Scooters',\n",
       "   'Skateboards',\n",
       "   'Balance bikes.']},\n",
       " {'Movies': ['Film',\n",
       "   'Cinema',\n",
       "   'Actor',\n",
       "   'Actress',\n",
       "   'Director',\n",
       "   'Screenplay',\n",
       "   'Plot',\n",
       "   'Genre',\n",
       "   'Box office',\n",
       "   'Soundtrack',\n",
       "   'Sequel',\n",
       "   'Prequel',\n",
       "   'Remake',\n",
       "   'Adaptation',\n",
       "   'Special effects',\n",
       "   'Cinematography',\n",
       "   'Dialogue',\n",
       "   'Character development',\n",
       "   'Plot twists',\n",
       "   'Film festival',\n",
       "   'Awards ceremony',\n",
       "   'Blockbuster',\n",
       "   'Indie film',\n",
       "   'Documentary',\n",
       "   'Animated film',\n",
       "   'Horror',\n",
       "   'Comedy',\n",
       "   'Drama',\n",
       "   'Action',\n",
       "   'Romance',\n",
       "   'Science fiction',\n",
       "   'Fantasy',\n",
       "   'Thriller']},\n",
       " {'Australia and Oceania Travel': ['Australia',\n",
       "   'Oceania',\n",
       "   'New Zealand',\n",
       "   'Fiji',\n",
       "   'Tahiti',\n",
       "   'Papua New Guinea',\n",
       "   'Vanuatu',\n",
       "   'Samoa',\n",
       "   'Micronesia',\n",
       "   'Polynesia',\n",
       "   'Melanesia',\n",
       "   'Coral reefs',\n",
       "   'Surfing',\n",
       "   'Scuba diving',\n",
       "   'Beaches',\n",
       "   'Wildlife',\n",
       "   'National parks',\n",
       "   'Great Barrier Reef',\n",
       "   'Outback',\n",
       "   'Uluru',\n",
       "   'Sydney Opera House',\n",
       "   'Aboriginal culture',\n",
       "   'Maori culture',\n",
       "   'Pacific Islands',\n",
       "   'Adventure tourism',\n",
       "   'Backpacking',\n",
       "   'Luxury travel',\n",
       "   'Cruise vacations',\n",
       "   'Hiking trails',\n",
       "   'Water sports',\n",
       "   'Cultural experiences',\n",
       "   'Food and wine',\n",
       "   'Road trips',\n",
       "   'Island hopping',\n",
       "   'Volcanic landscapes',\n",
       "   'Tropical climate',\n",
       "   'Travel photography',\n",
       "   'Eco',\n",
       "   'Sustainable travel.']},\n",
       " {'Hair Care': ['Shampoo',\n",
       "   'Conditioner',\n",
       "   'Hair oil',\n",
       "   'Hair serum',\n",
       "   'Hair mask',\n",
       "   'Hair treatment',\n",
       "   'Hair growth',\n",
       "   'Hair texture',\n",
       "   'Hair styling',\n",
       "   'Hair tools',\n",
       "   'Hair color',\n",
       "   'Hair extensions',\n",
       "   'Scalp care',\n",
       "   'Dandruff',\n",
       "   'Frizz control',\n",
       "   'Heat protection',\n",
       "   'Split ends',\n",
       "   'Hair loss',\n",
       "   'Hair vitamins',\n",
       "   'Natural hair care',\n",
       "   'Professional hair care.']},\n",
       " {'Consumer Electronics': ['Smartphones',\n",
       "   'Tablets',\n",
       "   'Laptops',\n",
       "   'Desktop Computers',\n",
       "   'Televisions',\n",
       "   'Home audio systems',\n",
       "   'Digital cameras',\n",
       "   'Gaming consoles',\n",
       "   'Wearable technology',\n",
       "   'Virtual reality devices',\n",
       "   'Drones',\n",
       "   'Smart home devices',\n",
       "   'Home security systems',\n",
       "   'Personal assistant devices (e.g. Amazon Echo, Google Home)',\n",
       "   'GPS navigation systems',\n",
       "   'Portable chargers/power banks',\n",
       "   'Headphones/earbuds',\n",
       "   'Bluetooth speakers',\n",
       "   'Fitness trackers/smartwatches',\n",
       "   'E']},\n",
       " {'Household Supplies': ['Cleaning products',\n",
       "   'Laundry detergent',\n",
       "   'Dish soap',\n",
       "   'Paper towels',\n",
       "   'Toilet paper',\n",
       "   'Trash bags',\n",
       "   'Sponges',\n",
       "   'Cleaning tools (mops, brooms, dustpans, etc.)',\n",
       "   'Air fresheners',\n",
       "   'Glass cleaner',\n",
       "   'Furniture polish',\n",
       "   'Floor cleaner',\n",
       "   'Stain remover',\n",
       "   'Fabric softener',\n",
       "   'Bleach',\n",
       "   'All',\n",
       "   'Window cleaner',\n",
       "   'Oven cleaner',\n",
       "   'Hand soap',\n",
       "   'Disinfectant spray/wipes',\n",
       "   'Carpet cleaner']},\n",
       " {'Individual Brands': ['Brand identity',\n",
       "   'Personal branding',\n",
       "   'Brand personality',\n",
       "   'Brand reputation',\n",
       "   'Brand loyalty',\n",
       "   'Brand image',\n",
       "   'Brand equity',\n",
       "   'Brand positioning',\n",
       "   'Brand differentiation',\n",
       "   'Brand recognition',\n",
       "   'Brand management',\n",
       "   'Brand strategy',\n",
       "   'Brand messaging',\n",
       "   'Brand voice',\n",
       "   'Brand perception',\n",
       "   'Brand awareness',\n",
       "   'Brand experience',\n",
       "   'Brand values',\n",
       "   'Brand culture']},\n",
       " {'Concerts & Music Events': ['Concerts',\n",
       "   'Live music',\n",
       "   'Music festivals',\n",
       "   'Performances',\n",
       "   'Bands',\n",
       "   'Musicians',\n",
       "   'Stage',\n",
       "   'Sound systems',\n",
       "   'Lighting',\n",
       "   'Venue',\n",
       "   'Tickets',\n",
       "   'Crowd',\n",
       "   'Singing',\n",
       "   'Dancing',\n",
       "   'Genres (rock, pop, hip',\n",
       "   'Headliners',\n",
       "   'Opening acts',\n",
       "   'Setlists',\n",
       "   'Merchandise',\n",
       "   'Meet and greets',\n",
       "   'Fan interactions',\n",
       "   'Audiovisuals',\n",
       "   'Touring',\n",
       "   'Soundcheck',\n",
       "   'Backstage',\n",
       "   'Green room',\n",
       "   'Recording',\n",
       "   'Streaming',\n",
       "   'Soundtracks',\n",
       "   'Sound engineering',\n",
       "   'Music production.']},\n",
       " {'Religion & Spirituality': ['Christianity',\n",
       "   'Islam',\n",
       "   'Judaism',\n",
       "   'Buddhism',\n",
       "   'Hinduism',\n",
       "   'Taoism',\n",
       "   'Confucianism',\n",
       "   'Atheism',\n",
       "   'Agnosticism',\n",
       "   'Spirituality',\n",
       "   'Faith',\n",
       "   'Belief',\n",
       "   'Worship',\n",
       "   'Prayer',\n",
       "   'Meditation',\n",
       "   'Sacred texts',\n",
       "   'Religious practices',\n",
       "   'Rituals',\n",
       "   'Morality',\n",
       "   'Afterlife',\n",
       "   'Salvation',\n",
       "   'Enlightenment',\n",
       "   'Divine intervention',\n",
       "   'Higher power',\n",
       "   'Ethics',\n",
       "   'God',\n",
       "   'Goddess',\n",
       "   'Deity',\n",
       "   'Soul',\n",
       "   'Karma',\n",
       "   'Reincarnation',\n",
       "   'Yoga',\n",
       "   'Pilgrimage',\n",
       "   'Sacrifice',\n",
       "   'Sin',\n",
       "   'Forgiveness',\n",
       "   'Love',\n",
       "   'Peace',\n",
       "   'Unity',\n",
       "   'Intolerance',\n",
       "   'Sectarianism',\n",
       "   'Dogma']},\n",
       " {'College Education': ['Higher Education',\n",
       "   'University',\n",
       "   'Degree',\n",
       "   'Major',\n",
       "   'Minor',\n",
       "   'Campus',\n",
       "   'Coursework',\n",
       "   'Credits',\n",
       "   'Graduation',\n",
       "   'Student Loans',\n",
       "   'Scholarships',\n",
       "   'Financial Aid',\n",
       "   'Tuition',\n",
       "   'Dormitory',\n",
       "   'Extracurricular Activities',\n",
       "   'Academic Advising',\n",
       "   'Faculty',\n",
       "   'Research',\n",
       "   'Internship',\n",
       "   'Career Development',\n",
       "   'Alumni Network',\n",
       "   'Student Life',\n",
       "   'Academic Calendar',\n",
       "   'Campus Resources',\n",
       "   'Academic Programs',\n",
       "   'Admission Requirements',\n",
       "   'Syllabus',\n",
       "   'GPA',\n",
       "   'Academic Excellence',\n",
       "   'Academic Support',\n",
       "   'Liberal Arts Education',\n",
       "   'STEM Education',\n",
       "   'Diversity and Inclusion',\n",
       "   'Campus Safety',\n",
       "   'Educational Technology',\n",
       "   'Student Organizations',\n",
       "   'Study Abroad',\n",
       "   'Academic Integrity',\n",
       "   'Student Success',\n",
       "   'Learning Outcomes',\n",
       "   'Academic Progression',\n",
       "   'Student Services']},\n",
       " {'Landscaping': ['Garden design',\n",
       "   'Lawn care',\n",
       "   'Plant selection',\n",
       "   'Irrigation',\n",
       "   'Hardscaping',\n",
       "   'Outdoor living spaces',\n",
       "   'Tree trimming',\n",
       "   'Landscape lighting',\n",
       "   'Soil preparation',\n",
       "   'Mulching',\n",
       "   'Edging',\n",
       "   'Fertilization',\n",
       "   'Drainage',\n",
       "   'Retaining walls',\n",
       "   'Water features',\n",
       "   'Environmental sustainability',\n",
       "   'Landscaping maintenance',\n",
       "   'Seasonal color',\n",
       "   'Native plants',\n",
       "   'Outdoor kitchens',\n",
       "   'Pergolas',\n",
       "   'Arbors',\n",
       "   'Gazebos',\n",
       "   'Poolscaping',\n",
       "   'Xeriscaping',\n",
       "   'Drought']},\n",
       " {'Financial Industry': ['Banking',\n",
       "   'Investment',\n",
       "   'Stock market',\n",
       "   'Insurance',\n",
       "   'Finance',\n",
       "   'Credit',\n",
       "   'Debt',\n",
       "   'Asset management',\n",
       "   'Financial planning',\n",
       "   'Risk management',\n",
       "   'Wealth management',\n",
       "   'Hedge funds',\n",
       "   'Securities',\n",
       "   'Capital markets',\n",
       "   'Derivatives',\n",
       "   'Commodities',\n",
       "   'Foreign exchange',\n",
       "   'Corporate finance',\n",
       "   'Mergers and acquisitions',\n",
       "   'Credit cards',\n",
       "   'Retirement planning',\n",
       "   'Taxation',\n",
       "   'Economic policy',\n",
       "   'Financial regulation',\n",
       "   'Cryptocurrency',\n",
       "   'Fintech',\n",
       "   'Microfinance',\n",
       "   'Online banking',\n",
       "   'Mobile payment',\n",
       "   'Financial literacy',\n",
       "   'Consumer protection']},\n",
       " {'North America Travel': ['North America',\n",
       "   'United States of America',\n",
       "   'Canada',\n",
       "   'Mexico',\n",
       "   'travel destinations',\n",
       "   'tourist attractions',\n",
       "   'national parks',\n",
       "   'cities',\n",
       "   'coastlines',\n",
       "   'mountains',\n",
       "   'lakes',\n",
       "   'beaches',\n",
       "   'festivals',\n",
       "   'cultural experiences',\n",
       "   'adventure activities',\n",
       "   'road trips',\n",
       "   'historical sites',\n",
       "   'cuisine',\n",
       "   'accommodation options',\n",
       "   'transportation',\n",
       "   'visa requirements',\n",
       "   'travel tips']},\n",
       " {'Perfume and Fragrance': ['Fragrance',\n",
       "   'Perfume',\n",
       "   'Scent',\n",
       "   'Aroma',\n",
       "   'Cologne',\n",
       "   'Eau de toilette',\n",
       "   'Essential oils',\n",
       "   'Fragrance notes',\n",
       "   'Fragrance families',\n",
       "   'Perfume ingredients',\n",
       "   'Perfume bottles',\n",
       "   'Perfume history',\n",
       "   'Perfume making',\n",
       "   'Perfume brands',\n",
       "   'Perfume marketing',\n",
       "   'Perfume industry',\n",
       "   'Fragrance sensitivity',\n",
       "   'Natural perfume',\n",
       "   'Synthetic perfume',\n",
       "   'Perfume reviews',\n",
       "   'Fragrance trends',\n",
       "   'Fragrance longevity',\n",
       "   'Fragrance concentration',\n",
       "   'Fragrance strength',\n",
       "   'Perfume classification',\n",
       "   'Perfume composition',\n",
       "   'Perfume chemistry',\n",
       "   'Perfume application',\n",
       "   'Perfume layering',\n",
       "   'Perfume gift sets',\n",
       "   'Perfume storage',\n",
       "   'Fragrance oils',\n",
       "   'Perfume samples',\n",
       "   'Artisanal perfume',\n",
       "   'Perfume blog',\n",
       "   'Perfume enthusiasts',\n",
       "   'Perfume collectors',\n",
       "   'Perfume sales']},\n",
       " {\"Men's Casual Wear\": [\"Men's fashion\",\n",
       "   'Casual clothing',\n",
       "   'Outfit ideas',\n",
       "   'Style tips',\n",
       "   'Trendy looks',\n",
       "   'Comfortable wear',\n",
       "   'Weekend outfits',\n",
       "   'Street style',\n",
       "   'Fashionable accessories',\n",
       "   'Denim jeans',\n",
       "   'T',\n",
       "   'Sneakers',\n",
       "   'Hoodies',\n",
       "   'Jackets',\n",
       "   'Shorts',\n",
       "   'Chinos',\n",
       "   'Polo shirts',\n",
       "   'Sports shoes',\n",
       "   'Sunglasses',\n",
       "   'Watches']},\n",
       " {'Minivan': ['Minivan',\n",
       "   'Family car',\n",
       "   'Passenger vehicle',\n",
       "   'Large capacity',\n",
       "   'Multipurpose vehicle',\n",
       "   'Sliding doors',\n",
       "   'Third row seating',\n",
       "   'Comfortable',\n",
       "   'Roomy',\n",
       "   'Cargo space',\n",
       "   'Fuel',\n",
       "   'Safety features',\n",
       "   'Child',\n",
       "   'Entertainment system',\n",
       "   'Rearview camera',\n",
       "   'All',\n",
       "   'Hybrid technology',\n",
       "   'Affordable',\n",
       "   'Practical']},\n",
       " {'Food & Drink': ['cuisine',\n",
       "   'recipes',\n",
       "   'cooking',\n",
       "   'ingredients',\n",
       "   'food allergies',\n",
       "   'beverages',\n",
       "   'nutrition',\n",
       "   'diet',\n",
       "   'restaurants',\n",
       "   'grocery shopping',\n",
       "   'meal planning',\n",
       "   'food safety',\n",
       "   'cooking techniques',\n",
       "   'food trends',\n",
       "   'food culture',\n",
       "   'wine',\n",
       "   'beer',\n",
       "   'spirits',\n",
       "   'coffee',\n",
       "   'tea',\n",
       "   'dessert',\n",
       "   'snacks',\n",
       "   'organic',\n",
       "   'vegetarian',\n",
       "   'vegan',\n",
       "   'gluten',\n",
       "   'dairy',\n",
       "   'sugar',\n",
       "   'healthy eating',\n",
       "   'indulgent eating',\n",
       "   'international cuisine',\n",
       "   'fast food',\n",
       "   'comfort food',\n",
       "   'holiday food',\n",
       "   'party food',\n",
       "   'gourmet food',\n",
       "   'farm',\n",
       "   'culinary arts',\n",
       "   'cooking shows',\n",
       "   'food blogging',\n",
       "   'food delivery',\n",
       "   'meal kit services']},\n",
       " {'Grocery Shopping': ['grocery store',\n",
       "   'supermarket',\n",
       "   'shopping cart',\n",
       "   'shopping list',\n",
       "   'aisle',\n",
       "   'checkout',\n",
       "   'cash register',\n",
       "   'coupon',\n",
       "   'sale',\n",
       "   'discount',\n",
       "   'loyalty program',\n",
       "   'organic',\n",
       "   'produce',\n",
       "   'meat',\n",
       "   'dairy',\n",
       "   'bakery',\n",
       "   'frozen foods',\n",
       "   'canned goods',\n",
       "   'snacks',\n",
       "   'beverages',\n",
       "   'household items',\n",
       "   'personal care products',\n",
       "   'shopping bags',\n",
       "   'reusable bags',\n",
       "   'online grocery shopping',\n",
       "   'curbside pickup',\n",
       "   'home delivery',\n",
       "   'meal planning',\n",
       "   'budgeting',\n",
       "   'shopping habits',\n",
       "   'shopping frequency',\n",
       "   'nutrition',\n",
       "   'food safety',\n",
       "   'expiration dates',\n",
       "   'best before dates',\n",
       "   'meal prep',\n",
       "   'cooking',\n",
       "   'recipes',\n",
       "   'dietary restrictions',\n",
       "   'allergies',\n",
       "   'meal kit delivery services']},\n",
       " {'Music and Audio': ['Music production',\n",
       "   'Audio engineering',\n",
       "   'Recording',\n",
       "   'Mixing',\n",
       "   'Mastering',\n",
       "   'Sound design',\n",
       "   'Music theory',\n",
       "   'Composition',\n",
       "   'Arrangement',\n",
       "   'Performance',\n",
       "   'Audio equipment',\n",
       "   'Live sound',\n",
       "   'DJing',\n",
       "   'Music software',\n",
       "   'Sampling',\n",
       "   'Synthesizers',\n",
       "   'MIDI',\n",
       "   'DAWs',\n",
       "   'Audio plugins',\n",
       "   'Music education',\n",
       "   'Music history',\n",
       "   'Music genres',\n",
       "   'Music business',\n",
       "   'Music marketing',\n",
       "   'Music licensing',\n",
       "   'Music distribution']},\n",
       " {'Rail Travel': ['Train',\n",
       "   'Railway',\n",
       "   'Station',\n",
       "   'Platform',\n",
       "   'Ticket',\n",
       "   'Reservation',\n",
       "   'Schedule',\n",
       "   'Route',\n",
       "   'Coach',\n",
       "   'Passenger',\n",
       "   'Luggage',\n",
       "   'Conductor',\n",
       "   'Dining car',\n",
       "   'Sleeper car',\n",
       "   'Commute',\n",
       "   'Transit',\n",
       "   'Transport',\n",
       "   'High',\n",
       "   'Local train',\n",
       "   'Express train',\n",
       "   'Underground train',\n",
       "   'Metro',\n",
       "   'Subway',\n",
       "   'Tram',\n",
       "   'Monorail',\n",
       "   'Freight train',\n",
       "   'Railroad tracks',\n",
       "   'Crossing gates',\n",
       "   'Signal lights',\n",
       "   'Train station architecture',\n",
       "   'Train station history',\n",
       "   'Train travel safety',\n",
       "   'Train travel etiquette',\n",
       "   'Train travel tips',\n",
       "   'Train travel technology.']},\n",
       " {'Green Vehicles': ['Electric vehicles',\n",
       "   'Hybrid vehicles',\n",
       "   'Fuel',\n",
       "   'Renewable energy',\n",
       "   'Battery technology',\n",
       "   'Charging infrastructure',\n",
       "   'Sustainable transportation',\n",
       "   'Carbon emissions reduction',\n",
       "   'Energy efficiency',\n",
       "   'Eco',\n",
       "   'Clean energy',\n",
       "   'Alternative fuels',\n",
       "   'Plug',\n",
       "   'Low',\n",
       "   'Zero',\n",
       "   'Energy conservation',\n",
       "   'Green energy',\n",
       "   'Energy storage',\n",
       "   'Regenerative braking',\n",
       "   'Solar']},\n",
       " {'Medical Health': ['Health care',\n",
       "   'Medicine',\n",
       "   'Disease',\n",
       "   'Treatment',\n",
       "   'Diagnosis',\n",
       "   'Symptoms',\n",
       "   'Prevention',\n",
       "   'Wellness',\n",
       "   'Nutrition',\n",
       "   'Exercise',\n",
       "   'Mental health',\n",
       "   'Therapy',\n",
       "   'Rehabilitation',\n",
       "   'Surgery',\n",
       "   'Pharmacology',\n",
       "   'Vaccination',\n",
       "   'Public health',\n",
       "   'Epidemiology',\n",
       "   'Genetics',\n",
       "   'Anatomy',\n",
       "   'Physiology',\n",
       "   'Pathology',\n",
       "   'Radiology',\n",
       "   'Oncology',\n",
       "   'Cardiology',\n",
       "   'Neurology',\n",
       "   'Pediatrics',\n",
       "   'Geriatrics',\n",
       "   'Obstetrics',\n",
       "   'Gynecology',\n",
       "   'Dermatology',\n",
       "   'Allergies',\n",
       "   'Infectious diseases',\n",
       "   'Chronic diseases',\n",
       "   'Disability',\n",
       "   'Health insurance',\n",
       "   'Healthcare administration']},\n",
       " {'Shaving': ['Razor',\n",
       "   'Shaving cream',\n",
       "   'Shaving gel',\n",
       "   'Shaving oil',\n",
       "   'Electric shaver',\n",
       "   'Manual razor',\n",
       "   'Safety razor',\n",
       "   'Straight razor',\n",
       "   'Disposable razor',\n",
       "   'Razor blades',\n",
       "   'Ingrown hair',\n",
       "   'Razor burn',\n",
       "   'Razor bumps',\n",
       "   'Shaving brush',\n",
       "   'Pre',\n",
       "   'Aftershave',\n",
       "   'Beard trimmer',\n",
       "   'Facial hair',\n",
       "   'Body hair',\n",
       "   'Shaving technique',\n",
       "   'Shaving frequency',\n",
       "   'Shaving tips']},\n",
       " {'Home & Garden': ['Home decor',\n",
       "   'Furniture',\n",
       "   'Garden design',\n",
       "   'Outdoor living',\n",
       "   'Landscaping',\n",
       "   'Gardening tools',\n",
       "   'Lawn care',\n",
       "   'Interior design',\n",
       "   'Home improvement',\n",
       "   'DIY projects',\n",
       "   'Kitchen appliances',\n",
       "   'Bathroom fixtures',\n",
       "   'Lighting',\n",
       "   'Window treatments',\n",
       "   'Home organization']},\n",
       " {'SUV': ['Sport Utility Vehicle',\n",
       "   'SUV',\n",
       "   'Four',\n",
       "   'All',\n",
       "   'Off',\n",
       "   'Towing capacity',\n",
       "   'Cargo space',\n",
       "   'Ground clearance',\n",
       "   'Passenger capacity',\n",
       "   'Fuel efficiency',\n",
       "   'Safety features',\n",
       "   'Luxury SUV',\n",
       "   'Compact SUV',\n",
       "   'Mid',\n",
       "   'Full',\n",
       "   'Crossover SUV',\n",
       "   'Hybrid SUV',\n",
       "   'Electric SUV',\n",
       "   'SUV accessories',\n",
       "   'SUV maintenance']},\n",
       " {'Retail Industry': ['E',\n",
       "   'Brick',\n",
       "   'Point of sale systems',\n",
       "   'Inventory management',\n",
       "   'Supply chain',\n",
       "   'Customer experience',\n",
       "   'Consumer behavior',\n",
       "   'Merchandising',\n",
       "   'Pricing strategy',\n",
       "   'Sales forecasting',\n",
       "   'Store layout',\n",
       "   'Promotions and advertising',\n",
       "   'Retail analytics',\n",
       "   'Retail trends',\n",
       "   'Omni',\n",
       "   'Retail technology',\n",
       "   'Retail operations',\n",
       "   'Retail management',\n",
       "   'Retail staffing and training',\n",
       "   'Sustainability in retail.']},\n",
       " {'Education industry': ['Schools',\n",
       "   'Universities',\n",
       "   'Colleges',\n",
       "   'Student loans',\n",
       "   'Online learning',\n",
       "   'Distance education',\n",
       "   'Curriculum',\n",
       "   'Teachers',\n",
       "   'Professors',\n",
       "   'Degree programs',\n",
       "   'Academic research',\n",
       "   'Educational technology',\n",
       "   'Learning management systems',\n",
       "   'Accreditation',\n",
       "   'Standardized testing',\n",
       "   'Scholarships',\n",
       "   'Grants',\n",
       "   'Extracurricular activities',\n",
       "   'Student organizations',\n",
       "   'Internships',\n",
       "   'Career counseling',\n",
       "   'Continuing education',\n",
       "   'Adult education',\n",
       "   'Early childhood education',\n",
       "   'Special education',\n",
       "   'Educational policy',\n",
       "   'Education reform']},\n",
       " {'Real Estate': ['Property',\n",
       "   'Homes',\n",
       "   'Mortgages',\n",
       "   'Investments',\n",
       "   'Sales',\n",
       "   'Rentals',\n",
       "   'Listings',\n",
       "   'Agents',\n",
       "   'Appraisals',\n",
       "   'Closing costs',\n",
       "   'Home inspections',\n",
       "   'Title insurance',\n",
       "   'Homeowners associations',\n",
       "   'Property management',\n",
       "   'Real estate market trends',\n",
       "   'Commercial real estate',\n",
       "   'Residential real estate',\n",
       "   'Real estate development',\n",
       "   'Real estate financing',\n",
       "   'Real estate laws and regulations']},\n",
       " {'Media Industry': ['Journalism',\n",
       "   'Broadcasting',\n",
       "   'Publishing',\n",
       "   'Advertising',\n",
       "   'Social media',\n",
       "   'Entertainment',\n",
       "   'Film',\n",
       "   'Television',\n",
       "   'News',\n",
       "   'Press',\n",
       "   'Print media',\n",
       "   'Digital media',\n",
       "   'Marketing',\n",
       "   'Public relations',\n",
       "   'Communications',\n",
       "   'Content creation',\n",
       "   'Streaming',\n",
       "   'Video production',\n",
       "   'Audio production',\n",
       "   'Media regulation',\n",
       "   'Media ownership',\n",
       "   'Media ethics',\n",
       "   'Media literacy',\n",
       "   'Media convergence',\n",
       "   'Media consumption',\n",
       "   'Media distribution',\n",
       "   'Media technology',\n",
       "   'Media trends']},\n",
       " {'Style & Fashion': ['Fashion trends',\n",
       "   'Clothing',\n",
       "   'Accessories',\n",
       "   'Footwear',\n",
       "   'Makeup',\n",
       "   'Hairstyles',\n",
       "   'Color schemes',\n",
       "   'Designer brands',\n",
       "   'Street style',\n",
       "   'Runway shows',\n",
       "   'Fashion blogging',\n",
       "   'Fashion magazines',\n",
       "   'Personal style',\n",
       "   'Fashion icons',\n",
       "   'Fashion history',\n",
       "   'Sustainable fashion',\n",
       "   'Vintage fashion',\n",
       "   'Fashion industry',\n",
       "   'Fashion merchandising',\n",
       "   'Fashion design',\n",
       "   'Textiles',\n",
       "   'Body positivity',\n",
       "   'Plus',\n",
       "   \"Men's fashion\",\n",
       "   \"Women's fashion\",\n",
       "   \"Children's fashion\",\n",
       "   'Fashion photography']},\n",
       " {'Oral care': ['Toothbrush',\n",
       "   'Toothpaste',\n",
       "   'Mouthwash',\n",
       "   'Floss',\n",
       "   'Dental floss',\n",
       "   'Dental hygiene',\n",
       "   'Gum disease',\n",
       "   'Tooth decay',\n",
       "   'Halitosis (bad breath)',\n",
       "   'Oral health',\n",
       "   'Plaque',\n",
       "   'Tartar',\n",
       "   'Dental cleaning',\n",
       "   'Tooth sensitivity',\n",
       "   'Electric toothbrush',\n",
       "   'Braces',\n",
       "   'Dentures',\n",
       "   'Oral cancer',\n",
       "   'Gingivitis',\n",
       "   'Periodontitis',\n",
       "   'Root canal',\n",
       "   'Dental implants',\n",
       "   'Wisdom teeth',\n",
       "   'Oral surgery']},\n",
       " {'Hotel Properties': ['Hotel amenities',\n",
       "   'Room types',\n",
       "   'Location',\n",
       "   'Ratings and reviews',\n",
       "   'Price range',\n",
       "   'Room service',\n",
       "   'Conference facilities',\n",
       "   'Dining options',\n",
       "   'Fitness center',\n",
       "   'Spa services',\n",
       "   'Parking options',\n",
       "   'Wi',\n",
       "   'Accessibility features',\n",
       "   'Loyalty programs',\n",
       "   'Pet',\n",
       "   'Sustainability initiatives',\n",
       "   'Brand affiliation',\n",
       "   'Room decor and design',\n",
       "   'Staff and customer service',\n",
       "   'Booking and cancellation policies']},\n",
       " {'Healthy Living': ['Nutrition',\n",
       "   'Exercise',\n",
       "   'Sleep',\n",
       "   'Stress management',\n",
       "   'Mental health',\n",
       "   'Hydration',\n",
       "   'Balanced diet',\n",
       "   'Weight management',\n",
       "   'Physical activity',\n",
       "   'Self',\n",
       "   'Healthy habits',\n",
       "   'Wellness',\n",
       "   'Meditation',\n",
       "   'Yoga',\n",
       "   'Mindfulness',\n",
       "   'Relaxation',\n",
       "   'Health education',\n",
       "   'Disease prevention',\n",
       "   'Healthy lifestyle',\n",
       "   'Clean eating',\n",
       "   'Smoking cessation',\n",
       "   'Alcohol moderation',\n",
       "   'Substance abuse avoidance',\n",
       "   'Social support',\n",
       "   'Preventive care',\n",
       "   'Screenings',\n",
       "   'Immunizations',\n",
       "   'Environmental health.']},\n",
       " {'World Cuisines': ['International cuisine',\n",
       "   'Ethnic food',\n",
       "   'Regional dishes',\n",
       "   'Traditional cuisine',\n",
       "   'Fusion cuisine',\n",
       "   'Street food',\n",
       "   'Gourmet food',\n",
       "   'Culinary diversity',\n",
       "   'Authentic cuisine',\n",
       "   'Spices and herbs',\n",
       "   'Cooking techniques',\n",
       "   'Food culture',\n",
       "   'Gastronomy',\n",
       "   'Indigenous cuisine',\n",
       "   'Exotic dishes',\n",
       "   'Multi',\n",
       "   'National dishes',\n",
       "   'World flavors',\n",
       "   'Food traditions',\n",
       "   'Culinary arts',\n",
       "   'Global cuisine',\n",
       "   'Local specialties',\n",
       "   'Culinary tourism',\n",
       "   'Food history',\n",
       "   'Regional ingredients',\n",
       "   'Seasonal dishes']},\n",
       " {'Coupe': ['Two',\n",
       "   'Sports car',\n",
       "   'Luxury car',\n",
       "   'Fastback design',\n",
       "   'Coupe de ville',\n",
       "   'Hardtop',\n",
       "   'Grand tourer',\n",
       "   'Fixed',\n",
       "   'Pillarless',\n",
       "   'Coupé utility',\n",
       "   'Muscle car',\n",
       "   'Aerodynamic',\n",
       "   'Low',\n",
       "   'Sleek design',\n",
       "   'High performance',\n",
       "   'Coupe convertible',\n",
       "   'Personal luxury car',\n",
       "   'Coupe SUV',\n",
       "   'Coupe wagon',\n",
       "   '2+2 seating configuration']},\n",
       " {'Healthcare Industry': ['Hospitals',\n",
       "   'Healthcare providers',\n",
       "   'Doctors',\n",
       "   'Nurses',\n",
       "   'Patients',\n",
       "   'Medical equipment',\n",
       "   'Pharmaceuticals',\n",
       "   'Health insurance',\n",
       "   'Electronic health records',\n",
       "   'Medical research',\n",
       "   'Medical ethics',\n",
       "   'Health policies',\n",
       "   'Healthcare technology',\n",
       "   'Medical billing and coding',\n",
       "   'Healthcare management',\n",
       "   'Healthcare education and training',\n",
       "   'Public health',\n",
       "   'Mental health',\n",
       "   'Chronic disease management',\n",
       "   'Emergency medicine',\n",
       "   'Rehabilitation services',\n",
       "   'Home healthcare',\n",
       "   'Telemedicine',\n",
       "   'Healthcare financing.']},\n",
       " {'Business and Finance': ['Accounting',\n",
       "   'Advertising',\n",
       "   'Asset management',\n",
       "   'Auditing',\n",
       "   'Banking',\n",
       "   'Bonds',\n",
       "   'Budgeting',\n",
       "   'Business strategy',\n",
       "   'Capital',\n",
       "   'Cash flow',\n",
       "   'Commercial law',\n",
       "   'Corporate finance',\n",
       "   'Credit management',\n",
       "   'Debt',\n",
       "   'Economic indicators',\n",
       "   'Entrepreneurship',\n",
       "   'Equity',\n",
       "   'Financial analysis',\n",
       "   'Financial planning',\n",
       "   'Government regulations',\n",
       "   'Insurance',\n",
       "   'Interest rates',\n",
       "   'Investment',\n",
       "   'Mergers and acquisitions',\n",
       "   'Money market',\n",
       "   'Payroll',\n",
       "   'Profit and loss',\n",
       "   'Real estate',\n",
       "   'Retirement planning',\n",
       "   'Risk management',\n",
       "   'Sales',\n",
       "   'Securities',\n",
       "   'Stock market',\n",
       "   'Taxation',\n",
       "   'Trade',\n",
       "   'Venture capital']},\n",
       " {'Religious Events': ['Religious festivals',\n",
       "   'Religious holidays',\n",
       "   'Pilgrimages',\n",
       "   'Worship services',\n",
       "   'Religious ceremonies',\n",
       "   'Holy days',\n",
       "   'Celebrations',\n",
       "   'Rituals',\n",
       "   'Observances',\n",
       "   'Commemorations',\n",
       "   'Masses',\n",
       "   'Prayers',\n",
       "   'Processions',\n",
       "   'Sacraments',\n",
       "   'Retreats',\n",
       "   'Lent',\n",
       "   'Advent',\n",
       "   'Easter',\n",
       "   'Christmas',\n",
       "   'Hanukkah',\n",
       "   'Ramadan',\n",
       "   'Diwali',\n",
       "   'Vesak',\n",
       "   'Yom Kippur',\n",
       "   'Passover',\n",
       "   'Eid al',\n",
       "   'Rosh Hashanah.']},\n",
       " {'Sports': ['Athletics',\n",
       "   'Competitions',\n",
       "   'Events',\n",
       "   'Training',\n",
       "   'Fitness',\n",
       "   'Teamwork',\n",
       "   'Rules',\n",
       "   'Equipment',\n",
       "   'Sportsmanship',\n",
       "   'Health',\n",
       "   'Exercise',\n",
       "   'Physical activity',\n",
       "   'Athletics',\n",
       "   'Performance',\n",
       "   'Coaching',\n",
       "   'Strategy',\n",
       "   'Stamina',\n",
       "   'Endurance',\n",
       "   'Strength',\n",
       "   'Agility',\n",
       "   'Speed',\n",
       "   'Precision',\n",
       "   'Fair play',\n",
       "   'Strategy',\n",
       "   'Nutrition',\n",
       "   'Injury prevention',\n",
       "   'Rehabilitation',\n",
       "   'Sports psychology',\n",
       "   'Olympics',\n",
       "   'Paralympics',\n",
       "   'Professional sports',\n",
       "   'College sports',\n",
       "   'High school sports',\n",
       "   'Youth sports']},\n",
       " {'Bars & Restaurants': ['Bars',\n",
       "   'Restaurants',\n",
       "   'Food',\n",
       "   'Drinks',\n",
       "   'Menu',\n",
       "   'Cuisine',\n",
       "   'Dining',\n",
       "   'Cocktails',\n",
       "   'Happy Hour',\n",
       "   'Wine',\n",
       "   'Beer',\n",
       "   'Atmosphere',\n",
       "   'Ambience',\n",
       "   'Local',\n",
       "   'International',\n",
       "   'Fine Dining',\n",
       "   'Casual Dining',\n",
       "   'Outdoor Seating',\n",
       "   'Live Music',\n",
       "   'Sports Bar',\n",
       "   'Pub',\n",
       "   'Gastropub',\n",
       "   'Nightlife']},\n",
       " {'Telecommunications Industry': ['Mobile phones',\n",
       "   'Network providers',\n",
       "   'Broadband internet',\n",
       "   'Fiber optic cables',\n",
       "   '5G technology',\n",
       "   'Telecommunication infrastructure',\n",
       "   'Satellite communication',\n",
       "   'Wireless communication',\n",
       "   'Telecommunication equipment',\n",
       "   'VoIP',\n",
       "   'Data centers',\n",
       "   'Internet of Things (IoT)',\n",
       "   'Cloud computing',\n",
       "   'Digital transformation',\n",
       "   'Telecommunication regulations',\n",
       "   'Telecommunication services.']},\n",
       " {'Outdoor Activities': ['Hiking',\n",
       "   'Camping',\n",
       "   'Fishing',\n",
       "   'Hunting',\n",
       "   'Rock climbing',\n",
       "   'Canoeing',\n",
       "   'Kayaking',\n",
       "   'Rafting',\n",
       "   'Biking',\n",
       "   'Horseback riding',\n",
       "   'Swimming',\n",
       "   'Picnicking',\n",
       "   'Geocaching',\n",
       "   'Birdwatching',\n",
       "   'Nature walks',\n",
       "   'Backpacking',\n",
       "   'Mountaineering',\n",
       "   'Skiing',\n",
       "   'Snowboarding',\n",
       "   'Snowshoeing',\n",
       "   'Orienteering',\n",
       "   'Archery',\n",
       "   'Boating',\n",
       "   'Scuba diving',\n",
       "   'Surfing',\n",
       "   'Stand',\n",
       "   'Skateboarding',\n",
       "   'Rollerblading',\n",
       "   'Frisbee golf',\n",
       "   'Ziplining',\n",
       "   'Adventure racing',\n",
       "   'Paragliding',\n",
       "   'Bungee jumping',\n",
       "   'Skydiving',\n",
       "   'Base jumping.']},\n",
       " {'Education': ['Learning',\n",
       "   'Curriculum',\n",
       "   'Classroom',\n",
       "   'Teacher',\n",
       "   'Student',\n",
       "   'Pedagogy',\n",
       "   'Assessment',\n",
       "   'Instruction',\n",
       "   'Syllabus',\n",
       "   'Academic',\n",
       "   'Degree',\n",
       "   'Knowledge',\n",
       "   'Skill',\n",
       "   'Career',\n",
       "   'University',\n",
       "   'College',\n",
       "   'Training',\n",
       "   'E',\n",
       "   'Schooling',\n",
       "   'Literacy',\n",
       "   'Numeracy',\n",
       "   'Technology',\n",
       "   'Research',\n",
       "   'Scholarship',\n",
       "   'Accreditation',\n",
       "   'Standardization',\n",
       "   'Development']},\n",
       " {'Travel Accessories': ['Luggage',\n",
       "   'Packing cubes',\n",
       "   'Travel pillows',\n",
       "   'Eye masks',\n",
       "   'Earplugs',\n",
       "   'Portable chargers',\n",
       "   'Travel adapters',\n",
       "   'Travel bottles',\n",
       "   'Toiletry bags',\n",
       "   'Neck wallets',\n",
       "   'RFID',\n",
       "   'Compression socks',\n",
       "   'Travel towels',\n",
       "   'First aid kits',\n",
       "   'Travel umbrellas',\n",
       "   'Travel locks',\n",
       "   'Travel journals',\n",
       "   'Travel guides',\n",
       "   'Waterproof phone cases']},\n",
       " {'Motorcycles': ['Motorcycles',\n",
       "   'Bikes',\n",
       "   'Two',\n",
       "   'Riding',\n",
       "   'Motorcycle clubs',\n",
       "   'Harley',\n",
       "   'Honda',\n",
       "   'Kawasaki',\n",
       "   'Yamaha',\n",
       "   'Ducati',\n",
       "   'Triumph',\n",
       "   'BMW',\n",
       "   'Indian',\n",
       "   'Motorcycling gear',\n",
       "   'Helmets',\n",
       "   'Leather jackets',\n",
       "   'Gloves',\n",
       "   'Boots',\n",
       "   'Motorcycle maintenance',\n",
       "   'Engine',\n",
       "   'Tires',\n",
       "   'Suspension',\n",
       "   'Brakes',\n",
       "   'Motorcycle racing',\n",
       "   'MotoGP',\n",
       "   'Superbike racing',\n",
       "   'Enduro racing',\n",
       "   'Motocross',\n",
       "   'Stunt riding',\n",
       "   'Motorcycle safety',\n",
       "   'Defensive driving',\n",
       "   'Motorcycle laws',\n",
       "   'Motorcycle insurance',\n",
       "   'Motorcycle accessories',\n",
       "   'Saddlebags',\n",
       "   'Windshield',\n",
       "   'Backrest',\n",
       "   'Motorcycle tours']},\n",
       " {'Birthday': ['Celebration',\n",
       "   'Cake',\n",
       "   'Gifts',\n",
       "   'Party',\n",
       "   'Balloons',\n",
       "   'Presents',\n",
       "   'Age',\n",
       "   'Friends',\n",
       "   'Family',\n",
       "   'Decorations',\n",
       "   'Invitations',\n",
       "   'Happy Birthday',\n",
       "   'Wishes',\n",
       "   'Greetings',\n",
       "   'Surprises',\n",
       "   'Candle',\n",
       "   'Blowout',\n",
       "   'Milestone',\n",
       "   'Festivities',\n",
       "   'Fun',\n",
       "   'Joy']},\n",
       " {'Sedan': ['Sedan body type',\n",
       "   'Four',\n",
       "   'Passenger vehicle',\n",
       "   'Family car',\n",
       "   'Mid',\n",
       "   'Automotive industry',\n",
       "   'Luxury sedan',\n",
       "   'Economy sedan',\n",
       "   'Compact sedan',\n",
       "   'Sedan features',\n",
       "   'Sedan performance',\n",
       "   'Sedan design',\n",
       "   'Sedan fuel efficiency',\n",
       "   'Sedan safety features',\n",
       "   'Sedan technology']},\n",
       " {'Aviation Industry': ['Airplanes',\n",
       "   'Airlines',\n",
       "   'Airports',\n",
       "   'Air traffic control',\n",
       "   'Flight safety',\n",
       "   'Aviation regulations',\n",
       "   'Aviation technology',\n",
       "   'Aircraft maintenance',\n",
       "   'Aviation fuel',\n",
       "   'Airline economics',\n",
       "   'Pilot training',\n",
       "   'Aviation security',\n",
       "   'Airline alliances',\n",
       "   'Aviation insurance',\n",
       "   'Aviation careers',\n",
       "   'Airline routes',\n",
       "   'Airport management',\n",
       "   'Airline passenger experience',\n",
       "   'Aviation environmental impact',\n",
       "   'Airline scheduling',\n",
       "   'Aviation communication systems',\n",
       "   'Airline customer service',\n",
       "   'Aviation research and development',\n",
       "   'Airline industry trends',\n",
       "   'Aviation accidents and incidents.']},\n",
       " {'Wedding': ['Bride',\n",
       "   'Groom',\n",
       "   'Venue',\n",
       "   'Decorations',\n",
       "   'Flowers',\n",
       "   'Wedding dress',\n",
       "   'Tuxedo',\n",
       "   'Rings',\n",
       "   'Invitations',\n",
       "   'Wedding cake',\n",
       "   'Photography',\n",
       "   'Videography',\n",
       "   'Music/entertainment',\n",
       "   'Catering',\n",
       "   'Favors/gifts',\n",
       "   'Honeymoon',\n",
       "   'Wedding planner/coordinator',\n",
       "   'Bridal party',\n",
       "   'Seating arrangement',\n",
       "   'Wedding vows',\n",
       "   'Marriage license',\n",
       "   'Wedding ceremony',\n",
       "   'Reception',\n",
       "   'Centerpieces',\n",
       "   'Wedding favors',\n",
       "   'Wedding favors',\n",
       "   'Wedding registry',\n",
       "   'Wedding guests',\n",
       "   'Wedding budget.']},\n",
       " {'Travel': ['Tourism',\n",
       "   'Adventure',\n",
       "   'Sightseeing',\n",
       "   'Vacation',\n",
       "   'Accommodation',\n",
       "   'Transportation',\n",
       "   'Exploration',\n",
       "   'Culture',\n",
       "   'Food',\n",
       "   'Souvenirs',\n",
       "   'Passport',\n",
       "   'Visa',\n",
       "   'Currency',\n",
       "   'Itinerary',\n",
       "   'Safety',\n",
       "   'Budget',\n",
       "   'Backpacking',\n",
       "   'Luxury',\n",
       "   'Beaches',\n",
       "   'Mountains',\n",
       "   'Landmarks',\n",
       "   'Attractions',\n",
       "   'Airlines',\n",
       "   'Travel insurance',\n",
       "   'Photography',\n",
       "   'Tour guides',\n",
       "   'Language barriers']},\n",
       " {'Road-Side Assistance': ['Roadside assistance services',\n",
       "   'Towing',\n",
       "   'Jump',\n",
       "   'Flat tire repair',\n",
       "   'Fuel delivery',\n",
       "   'Lockout services',\n",
       "   'Battery replacement',\n",
       "   'Emergency roadside assistance',\n",
       "   'Vehicle breakdown',\n",
       "   'Auto mechanic',\n",
       "   'Roadside assistance providers',\n",
       "   '24',\n",
       "   'Roadside assistance app',\n",
       "   'Roadside assistance membership',\n",
       "   'Car breakdown assistance',\n",
       "   'Motorist assistance.']},\n",
       " {'Apartments': ['Rent',\n",
       "   'Lease',\n",
       "   'Amenities',\n",
       "   'Location',\n",
       "   'Square footage',\n",
       "   'Floor plan',\n",
       "   'Property management',\n",
       "   'Utilities',\n",
       "   'Parking',\n",
       "   'Security',\n",
       "   'Maintenance',\n",
       "   'Move',\n",
       "   'Pet policy',\n",
       "   'Furnished apartments',\n",
       "   'Community features',\n",
       "   'Renters insurance',\n",
       "   'Subletting',\n",
       "   'Roommates',\n",
       "   'Accessibility',\n",
       "   'Deposit']},\n",
       " {'Desktops': ['Desktop computers',\n",
       "   'Personal computers',\n",
       "   'Towers',\n",
       "   'All',\n",
       "   'Gaming desktops',\n",
       "   'Workstations',\n",
       "   'Mini desktops',\n",
       "   'Thin client',\n",
       "   'Desktop accessories',\n",
       "   'Desktop monitors',\n",
       "   'Desktop keyboards',\n",
       "   'Desktop mice',\n",
       "   'Desktop speakers',\n",
       "   'Desktop webcams',\n",
       "   'Desktop microphones']},\n",
       " {'Casinos & Gambling': ['Casinos',\n",
       "   'Gambling',\n",
       "   'Betting',\n",
       "   'Slot machines',\n",
       "   'Poker',\n",
       "   'Blackjack',\n",
       "   'Roulette',\n",
       "   'Craps',\n",
       "   'Baccarat',\n",
       "   'Sports betting',\n",
       "   'Online gambling',\n",
       "   'Casino chips',\n",
       "   'High rollers',\n",
       "   'House edge',\n",
       "   'Gambling addiction',\n",
       "   'Las Vegas',\n",
       "   'Atlantic City',\n",
       "   'Monte Carlo',\n",
       "   'Macau',\n",
       "   'Casino games',\n",
       "   'Gambling laws',\n",
       "   'Casino security',\n",
       "   'Casino management',\n",
       "   'Casino employees',\n",
       "   'Casino industry.']},\n",
       " {'Entertainment Industry': ['Film',\n",
       "   'Television',\n",
       "   'Music',\n",
       "   'Gaming',\n",
       "   'Theater',\n",
       "   'Comedy',\n",
       "   'Celebrities',\n",
       "   'Awards',\n",
       "   'Streaming',\n",
       "   'Box office',\n",
       "   'Pop culture',\n",
       "   'Entertainment news',\n",
       "   'Red carpet',\n",
       "   'Production',\n",
       "   'Animation',\n",
       "   'Special effects',\n",
       "   'Sound design',\n",
       "   'Screenwriting',\n",
       "   'Directing',\n",
       "   'Acting',\n",
       "   'Reality TV',\n",
       "   'Broadcast network',\n",
       "   'Cable network',\n",
       "   'Satellite',\n",
       "   'Video on demand',\n",
       "   'Social media',\n",
       "   'Fanbase',\n",
       "   'Merchandise',\n",
       "   'Ticket sales']},\n",
       " {'Awards Shows': ['Academy Awards',\n",
       "   'Golden Globes',\n",
       "   'Emmy Awards',\n",
       "   'Grammy Awards',\n",
       "   'Tony Awards',\n",
       "   'Red carpet',\n",
       "   'Best actor/actress',\n",
       "   'Best picture',\n",
       "   'Nominees',\n",
       "   'Presenters',\n",
       "   'Host',\n",
       "   'Speeches',\n",
       "   'Nominations',\n",
       "   'Winners',\n",
       "   'Statues/trophies',\n",
       "   \"Critics' Choice Awards\",\n",
       "   \"People's Choice Awards\",\n",
       "   'Screen Actors Guild Awards',\n",
       "   'Cannes Film Festival',\n",
       "   'Sundance Film Festival.']},\n",
       " {'Pickup Trucks': ['Pickup Trucks',\n",
       "   'Payload Capacity',\n",
       "   'Towing Capacity',\n",
       "   'Four',\n",
       "   'Bed Length',\n",
       "   'Cab Size',\n",
       "   'Engine Size',\n",
       "   'Fuel Efficiency',\n",
       "   'Off',\n",
       "   'Utility',\n",
       "   'Hauling',\n",
       "   'Cargo Space',\n",
       "   'Suspension',\n",
       "   'Ground Clearance',\n",
       "   'Horsepower',\n",
       "   'Torque',\n",
       "   'Trailer Brake Controller',\n",
       "   'Hitch Receiver',\n",
       "   'Rearview Camera',\n",
       "   'Blind Spot Monitoring',\n",
       "   'Lane Departure Warning',\n",
       "   'Collision Avoidance System',\n",
       "   'Trailer Sway Control',\n",
       "   'Rear Cross Traffic Alert',\n",
       "   'Adaptive Cruise Control',\n",
       "   'Apple CarPlay',\n",
       "   'Android Auto',\n",
       "   'Wi',\n",
       "   'Satellite Radio',\n",
       "   'Touchscreen Infotainment System',\n",
       "   'Navigation System',\n",
       "   'Power Seats',\n",
       "   'Heated Seats',\n",
       "   'Ventilated Seats',\n",
       "   'Leather Upholstery',\n",
       "   'Keyless Entry',\n",
       "   'Push']},\n",
       " {'Events and Attractions': ['Festivals',\n",
       "   'Music concerts',\n",
       "   'Art exhibits',\n",
       "   'Museums',\n",
       "   'Theme parks',\n",
       "   'Zoos',\n",
       "   'Aquariums',\n",
       "   'Theaters',\n",
       "   'Sporting events',\n",
       "   'Amusement parks',\n",
       "   'Exhibitions',\n",
       "   'Cultural events',\n",
       "   'Food and beverage festivals',\n",
       "   'Parades',\n",
       "   'Fairs',\n",
       "   'Trade shows',\n",
       "   'Carnivals',\n",
       "   'Conventions',\n",
       "   'Historical landmarks',\n",
       "   'Natural attractions',\n",
       "   'Adventure activities',\n",
       "   'Tours',\n",
       "   'Nightlife',\n",
       "   'Entertainment venues']},\n",
       " {'Cats': ['Feline',\n",
       "   'Domesticated',\n",
       "   'Mammal',\n",
       "   'Whiskers',\n",
       "   'Paws',\n",
       "   'Fur',\n",
       "   'Meowing',\n",
       "   'Hissing',\n",
       "   'Scratching',\n",
       "   'Hunting',\n",
       "   'Litter box',\n",
       "   'Kitten',\n",
       "   'Adult',\n",
       "   'Playful',\n",
       "   'Independent',\n",
       "   'Curious',\n",
       "   'Affectionate',\n",
       "   'Nap',\n",
       "   'Bengal',\n",
       "   'Siamese',\n",
       "   'Persian',\n",
       "   'Tabby',\n",
       "   'Tortoiseshell',\n",
       "   'Calico',\n",
       "   'Maine Coon',\n",
       "   'Abyssinian',\n",
       "   'Sphynx',\n",
       "   'Scottish Fold',\n",
       "   'Toyger',\n",
       "   'Savannah',\n",
       "   'Birman',\n",
       "   'Oriental Shorthair',\n",
       "   'Himalayan',\n",
       "   'Ragdoll.']},\n",
       " {'Cruises': ['Cruise ships',\n",
       "   'Luxury cruises',\n",
       "   'River cruises',\n",
       "   'Ocean cruises',\n",
       "   'Caribbean cruises',\n",
       "   'Mediterranean cruises',\n",
       "   'Alaskan cruises',\n",
       "   'European river cruises',\n",
       "   'Family cruises',\n",
       "   'Senior cruises',\n",
       "   'All',\n",
       "   'Cruise lines',\n",
       "   'Cruise packages',\n",
       "   'Cruise itineraries',\n",
       "   'Cruise discounts',\n",
       "   'Onboard activities',\n",
       "   'Shore excursions',\n",
       "   'Dining options on cruises',\n",
       "   'Entertainment on cruises',\n",
       "   'Cruise cabins',\n",
       "   'Cruise ports',\n",
       "   'Cruise safety measures',\n",
       "   'Cruise vaccination requirements',\n",
       "   'Cruise travel insurance']},\n",
       " {'Auto Shows': ['Automobiles',\n",
       "   'Concept cars',\n",
       "   'New models',\n",
       "   'Exhibitions',\n",
       "   'Industry events',\n",
       "   'Trade shows',\n",
       "   'Launches',\n",
       "   'Demonstrations',\n",
       "   'Dealerships',\n",
       "   'Test drives',\n",
       "   'Car enthusiasts',\n",
       "   'Motor shows',\n",
       "   'Automotive technology',\n",
       "   'Innovation',\n",
       "   'Design',\n",
       "   'Performance',\n",
       "   'Luxury cars',\n",
       "   'Sports cars',\n",
       "   'Hybrid vehicles',\n",
       "   'Electric cars',\n",
       "   'Supercars',\n",
       "   'SUVs',\n",
       "   'Sedans',\n",
       "   'Crossovers',\n",
       "   'Trucks',\n",
       "   'Vans',\n",
       "   'Motorcycles',\n",
       "   'Accessories',\n",
       "   'Aftermarket parts',\n",
       "   'Car culture']},\n",
       " {'Holiday Shopping': ['Holiday season',\n",
       "   'Black Friday',\n",
       "   'Cyber Monday',\n",
       "   'Christmas shopping',\n",
       "   'Gift ideas',\n",
       "   'Deals and discounts',\n",
       "   'Online shopping',\n",
       "   'In',\n",
       "   'Holiday sales',\n",
       "   'Shopping list',\n",
       "   'Gift wrapping',\n",
       "   'Stocking stuffers',\n",
       "   'Secret Santa',\n",
       "   'White elephant gift exchange',\n",
       "   'Holiday decorations',\n",
       "   'Holiday outfits',\n",
       "   'Last',\n",
       "   'Shopping malls',\n",
       "   'Small business Saturday',\n",
       "   'Gift cards',\n",
       "   'Wish lists',\n",
       "   'Shipping deadlines',\n",
       "   'Return policies',\n",
       "   'Budgeting',\n",
       "   'Comparison shopping',\n",
       "   'Popular gifts',\n",
       "   'Electronics',\n",
       "   'Toys',\n",
       "   'Clothing',\n",
       "   'Home goods',\n",
       "   'Food and beverages',\n",
       "   'Travel deals',\n",
       "   'Holiday cards and invitations.']},\n",
       " {'Auto Body Styles': ['Sedan',\n",
       "   'Coupe',\n",
       "   'Hatchback',\n",
       "   'Convertible',\n",
       "   'SUV',\n",
       "   'Pickup truck',\n",
       "   'Van',\n",
       "   'Wagon',\n",
       "   'Crossover',\n",
       "   'Roadster',\n",
       "   'Muscle car',\n",
       "   'Sports car',\n",
       "   'Supercar',\n",
       "   'Electric car',\n",
       "   'Hybrid car',\n",
       "   'Classic car',\n",
       "   'Luxury car',\n",
       "   'Compact car',\n",
       "   'Mid',\n",
       "   'Full',\n",
       "   'Off',\n",
       "   '4x4 vehicle',\n",
       "   'Station wagon',\n",
       "   'Panel van',\n",
       "   'Box truck',\n",
       "   'Dump truck',\n",
       "   'Flatbed truck',\n",
       "   'Tanker truck']},\n",
       " {'Hobbies & Interests': ['Arts and crafts',\n",
       "   'Music',\n",
       "   'Dancing',\n",
       "   'Sports',\n",
       "   'Gaming',\n",
       "   'Reading',\n",
       "   'Writing',\n",
       "   'Cooking',\n",
       "   'Baking',\n",
       "   'Gardening',\n",
       "   'Photography',\n",
       "   'Traveling',\n",
       "   'Fishing',\n",
       "   'Hunting',\n",
       "   'Collecting',\n",
       "   'Hiking',\n",
       "   'Camping',\n",
       "   'DIY projects',\n",
       "   'Painting',\n",
       "   'Drawing',\n",
       "   'Sculpting',\n",
       "   'Sewing',\n",
       "   'Knitting',\n",
       "   'Crocheting',\n",
       "   'Pottery',\n",
       "   'Woodworking',\n",
       "   'Calligraphy',\n",
       "   'Meditation',\n",
       "   'Yoga',\n",
       "   'Fitness',\n",
       "   'Cycling',\n",
       "   'Running',\n",
       "   'Swimming',\n",
       "   'Surfing',\n",
       "   'Skateboarding',\n",
       "   'Skiing',\n",
       "   'Snowboarding',\n",
       "   'Climbing',\n",
       "   'Horseback riding',\n",
       "   'Bird watching',\n",
       "   'Astronomy',\n",
       "   'Film making',\n",
       "   'Acting',\n",
       "   'Stand',\n",
       "   'Podcasting',\n",
       "   'Social media influencing',\n",
       "   'Volunteering',\n",
       "   'Charity work',\n",
       "   'Wine tasting',\n",
       "   'Beer brewing',\n",
       "   'Whiskey tasting',\n",
       "   'Tea tasting',\n",
       "   'Board games',\n",
       "   'Card games',\n",
       "   'Video games',\n",
       "   'Puzzle solving',\n",
       "   'Crosswords',\n",
       "   'Sudoku',\n",
       "   \"Rubik's cube\"]},\n",
       " {'Video Gaming': ['Video games',\n",
       "   'Console gaming',\n",
       "   'PC gaming',\n",
       "   'Mobile gaming',\n",
       "   'Online gaming',\n",
       "   'Multiplayer gaming',\n",
       "   'Single player gaming',\n",
       "   'Esports',\n",
       "   'Gaming industry',\n",
       "   'Gaming culture',\n",
       "   'Gaming addiction',\n",
       "   'Gaming communities',\n",
       "   'Gaming events',\n",
       "   'Gaming platforms',\n",
       "   'Gaming accessories',\n",
       "   'Gaming hardware',\n",
       "   'Gaming software',\n",
       "   'Gaming graphics',\n",
       "   'Gaming sound',\n",
       "   'Gaming controllers',\n",
       "   'Gaming keyboards',\n",
       "   'Gaming mice',\n",
       "   'Gaming headsets',\n",
       "   'Virtual reality gaming',\n",
       "   'Augmented reality gaming',\n",
       "   'Game development',\n",
       "   'Game design',\n",
       "   'Game programming',\n",
       "   'Game engines',\n",
       "   'Game mods.']},\n",
       " {\"Women's Jewelry and Watches\": [\"Women's watches\",\n",
       "   \"Women's jewelry\",\n",
       "   'Bracelets',\n",
       "   'Necklaces',\n",
       "   'Earrings',\n",
       "   'Rings',\n",
       "   'Fine jewelry',\n",
       "   'Fashion jewelry',\n",
       "   'Diamond jewelry',\n",
       "   'Gold jewelry',\n",
       "   'Silver jewelry',\n",
       "   'Gemstones',\n",
       "   'Precious metals',\n",
       "   'Luxury watches',\n",
       "   'Designer watches',\n",
       "   'Chronograph watches',\n",
       "   'Smartwatches',\n",
       "   'Vintage watches',\n",
       "   'Watch bands',\n",
       "   'Watch batteries',\n",
       "   'Jewelry boxes',\n",
       "   'Jewelry organizers',\n",
       "   'Personalized jewelry',\n",
       "   'Custom jewelry',\n",
       "   'Birthstone jewelry',\n",
       "   'Statement jewelry',\n",
       "   'Bridal jewelry',\n",
       "   'Bridesmaid jewelry',\n",
       "   \"Mother's jewelry\",\n",
       "   'Anniversary gifts',\n",
       "   'Birthday gifts',\n",
       "   \"Valentine's Day gifts\",\n",
       "   'Christmas gifts']},\n",
       " {'Parenting': ['Child development',\n",
       "   'Discipline',\n",
       "   'Communication',\n",
       "   'Love and affection',\n",
       "   'Patience',\n",
       "   'Nurturing',\n",
       "   'Empathy',\n",
       "   'Boundaries',\n",
       "   'Education',\n",
       "   'Role modeling',\n",
       "   'Time management',\n",
       "   'Consistency',\n",
       "   'Positive reinforcement',\n",
       "   'Responsibility',\n",
       "   'Healthy habits',\n",
       "   'Safety',\n",
       "   'Conflict resolution',\n",
       "   'Emotional intelligence',\n",
       "   'Self',\n",
       "   'Encouragement.']},\n",
       " {'Deodorant and Antiperspirant': ['Sweat',\n",
       "   'Body odor',\n",
       "   'Perspiration',\n",
       "   'Fragrance',\n",
       "   'Sweat glands',\n",
       "   'Aluminum',\n",
       "   'Active ingredients',\n",
       "   'Natural deodorant',\n",
       "   'Chemicals',\n",
       "   'Skin irritation',\n",
       "   'Hypoallergenic',\n",
       "   'Clinical strength',\n",
       "   'Roll',\n",
       "   'Spray',\n",
       "   'Stick',\n",
       "   'Gel',\n",
       "   'Scented',\n",
       "   'Unscented',\n",
       "   \"Men's deodorant\",\n",
       "   \"Women's deodorant\",\n",
       "   'Sweat proof',\n",
       "   'Long',\n",
       "   'Moisture absorbent',\n",
       "   'Sweat blockers',\n",
       "   'Non',\n",
       "   'Organic',\n",
       "   'Cruelty',\n",
       "   'Vegan',\n",
       "   'Eco',\n",
       "   'Packaging waste',\n",
       "   'Health concerns',\n",
       "   'Dermatologist tested',\n",
       "   'Sensitive skin',\n",
       "   'Hyperhidrosis',\n",
       "   'Antiperspirant efficacy',\n",
       "   'Deodorant effectiveness',\n",
       "   'Sweat control',\n",
       "   'Sweat stains',\n",
       "   'Underarm hygiene',\n",
       "   'Sweat marks',\n",
       "   'Sweat patches',\n",
       "   'Sweat protection',\n",
       "   'Body care.']},\n",
       " {'Science': ['Biology',\n",
       "   'Chemistry',\n",
       "   'Physics',\n",
       "   'Astronomy',\n",
       "   'Geology',\n",
       "   'Ecology',\n",
       "   'Genetics',\n",
       "   'Microbiology',\n",
       "   'Neuroscience',\n",
       "   'Botany',\n",
       "   'Zoology',\n",
       "   'Environmental science',\n",
       "   'Anatomy',\n",
       "   'Physiology',\n",
       "   'Biochemistry',\n",
       "   'Biotechnology',\n",
       "   'Climate science',\n",
       "   'Earth science',\n",
       "   'Oceanography',\n",
       "   'Paleontology',\n",
       "   'Quantum mechanics',\n",
       "   'Thermodynamics',\n",
       "   'Scientific method',\n",
       "   'Scientific research',\n",
       "   'Experimentation',\n",
       "   'Data analysis.']},\n",
       " {'Fashion Events': ['Fashion shows',\n",
       "   'Runway',\n",
       "   'Designers',\n",
       "   'Models',\n",
       "   'Catwalk',\n",
       "   'Backstage',\n",
       "   'Fashion weeks',\n",
       "   'Haute couture',\n",
       "   'Fashion industry',\n",
       "   'Fashion exhibitions',\n",
       "   'Fashion parties',\n",
       "   'Fashion conferences',\n",
       "   'Trade shows',\n",
       "   'Fashion brands',\n",
       "   'Fashion industry professionals',\n",
       "   'Fashion influencers',\n",
       "   'Fashion bloggers',\n",
       "   'Red carpet events',\n",
       "   'Fashion awards ceremonies',\n",
       "   'Fashion showrooms',\n",
       "   'Pop',\n",
       "   'Fashion launches',\n",
       "   'Fashion collaborations',\n",
       "   'Fashion trends',\n",
       "   'Fashion styling',\n",
       "   'Fashion photography.']},\n",
       " {'Television': ['TV Shows',\n",
       "   'Streaming',\n",
       "   'Channels',\n",
       "   'Cable',\n",
       "   'Satellite',\n",
       "   'Broadcast',\n",
       "   'Networks',\n",
       "   'Antenna',\n",
       "   'HDTV',\n",
       "   'Smart TV',\n",
       "   'DVR',\n",
       "   'Remote Control',\n",
       "   'Entertainment',\n",
       "   'Series',\n",
       "   'Episodes',\n",
       "   'Binge',\n",
       "   'Ratings',\n",
       "   'Advertising',\n",
       "   'News Programs',\n",
       "   'Sports Programs',\n",
       "   'Reality TV',\n",
       "   'Sitcoms',\n",
       "   'Drama',\n",
       "   'Action',\n",
       "   'Comedy',\n",
       "   'Romance',\n",
       "   'Sci',\n",
       "   'Horror',\n",
       "   'Documentary',\n",
       "   'Game Shows',\n",
       "   'Talk Shows',\n",
       "   \"Children's Programs\",\n",
       "   'Educational Programs',\n",
       "   'Premium Channels',\n",
       "   'Pay']},\n",
       " {'Flower Shopping': ['Flower arrangements',\n",
       "   'Bouquets',\n",
       "   'Floral delivery',\n",
       "   'Online florist',\n",
       "   'Local florist',\n",
       "   'Flower shops',\n",
       "   'Floral gifts',\n",
       "   'Flower types (roses, lilies, tulips, etc.)',\n",
       "   'Flower care tips',\n",
       "   'Seasonal flowers',\n",
       "   \"Occasions (Valentine's Day, Mother's Day, birthdays, weddings, funerals, etc.)\",\n",
       "   'Flower symbolism',\n",
       "   'Flower vases and containers',\n",
       "   'Flower accessories (balloons, chocolates, cards, etc.)']},\n",
       " {'Single Life': ['Solo living',\n",
       "   'Independence',\n",
       "   'Self',\n",
       "   'Freedom',\n",
       "   'Solo travel',\n",
       "   'Solo hobbies',\n",
       "   'Solo adventures',\n",
       "   'Self',\n",
       "   'Self',\n",
       "   'Dating',\n",
       "   'Relationships',\n",
       "   'Solitude',\n",
       "   'Empowerment',\n",
       "   'Social life',\n",
       "   'Career',\n",
       "   'Financial independence',\n",
       "   'Emotional wellbeing',\n",
       "   'Personal growth',\n",
       "   'Self',\n",
       "   'Confidence',\n",
       "   'Self',\n",
       "   'Loneliness',\n",
       "   'Friendships',\n",
       "   'Support system',\n",
       "   'Self',\n",
       "   'Self',\n",
       "   'Life goals',\n",
       "   'Fulfillment']},\n",
       " {'Hotels and Motels': ['Accommodation',\n",
       "   'Lodging',\n",
       "   'Hospitality',\n",
       "   'Travel',\n",
       "   'Tourism',\n",
       "   'Guest rooms',\n",
       "   'Suites',\n",
       "   'Amenities',\n",
       "   'Reservation',\n",
       "   'Check',\n",
       "   'Check',\n",
       "   'Room service',\n",
       "   'Front desk',\n",
       "   'Housekeeping',\n",
       "   'Room rates',\n",
       "   'Discounts',\n",
       "   'Loyalty programs',\n",
       "   'Reviews',\n",
       "   'Ratings',\n",
       "   'Location',\n",
       "   'Accessibility',\n",
       "   'Conference facilities',\n",
       "   'Meeting rooms',\n",
       "   'Events',\n",
       "   'Dining options',\n",
       "   'Fitness center',\n",
       "   'Swimming pool',\n",
       "   'Spa services',\n",
       "   'Pet',\n",
       "   'Family',\n",
       "   'Business travel',\n",
       "   'Vacation',\n",
       "   'Staycation',\n",
       "   'Budget',\n",
       "   'Luxury',\n",
       "   'Boutique',\n",
       "   'Chain hotels',\n",
       "   'Motels',\n",
       "   'Bed and breakfasts',\n",
       "   'Hostels',\n",
       "   'Resorts',\n",
       "   'Vacation rentals',\n",
       "   'Accommodation booking platforms']},\n",
       " {'Museums & Galleries': ['Art',\n",
       "   'History',\n",
       "   'Exhibitions',\n",
       "   'Collections',\n",
       "   'Culture',\n",
       "   'Preservation',\n",
       "   'Education',\n",
       "   'Interpretation',\n",
       "   'Conservation',\n",
       "   'Artifact',\n",
       "   'Curator',\n",
       "   'Visitor',\n",
       "   'Tour',\n",
       "   'Display',\n",
       "   'Gallery',\n",
       "   'Antiquities',\n",
       "   'Archaeology',\n",
       "   'Fine art',\n",
       "   'Contemporary art',\n",
       "   'Sculpture',\n",
       "   'Painting',\n",
       "   'Photography',\n",
       "   'Architecture',\n",
       "   'Heritage']},\n",
       " {'Luxury Cars': ['Luxury vehicles',\n",
       "   'High',\n",
       "   'Premium automobiles',\n",
       "   'Exotic automobiles',\n",
       "   'Prestige vehicles',\n",
       "   'Elite cars',\n",
       "   'Performance cars',\n",
       "   'Supercars',\n",
       "   'Sports cars',\n",
       "   'Convertibles',\n",
       "   'Sedans',\n",
       "   'Coupes',\n",
       "   'SUVs',\n",
       "   'Hybrid cars',\n",
       "   'Electric cars',\n",
       "   'Classic cars',\n",
       "   'Vintage cars',\n",
       "   'Custom cars',\n",
       "   'Limited edition cars',\n",
       "   'Top',\n",
       "   'Expensive cars',\n",
       "   'High',\n",
       "   'Luxury car brands (e.g. Mercedes']},\n",
       " {'Europe Travel': ['Europe',\n",
       "   'Travel',\n",
       "   'Tourism',\n",
       "   'European countries',\n",
       "   'European cities',\n",
       "   'European landmarks',\n",
       "   'European culture',\n",
       "   'European cuisine',\n",
       "   'European history',\n",
       "   'European architecture',\n",
       "   'European art and museums',\n",
       "   'European beaches',\n",
       "   'European mountains',\n",
       "   'European transportation',\n",
       "   'European languages',\n",
       "   'European festivals and events',\n",
       "   'European budget travel',\n",
       "   'European luxury travel',\n",
       "   'European backpacking',\n",
       "   'European road trip.']},\n",
       " {'Games and Puzzles': ['Board games',\n",
       "   'Card games',\n",
       "   'Video games',\n",
       "   'Puzzle games',\n",
       "   'Crossword puzzles',\n",
       "   'Sudoku puzzles',\n",
       "   'Jigsaw puzzles',\n",
       "   'Word games',\n",
       "   'Trivia games',\n",
       "   'Strategy games',\n",
       "   'Role',\n",
       "   'Escape room games',\n",
       "   'Brain teasers',\n",
       "   'Logic puzzles',\n",
       "   'Memory games',\n",
       "   'Educational games',\n",
       "   'Multiplayer games',\n",
       "   'Adventure games',\n",
       "   'Party games',\n",
       "   \"Children's games\"]},\n",
       " {'Convertible': ['Convertible car',\n",
       "   'Convertible sofa',\n",
       "   'Convertible laptop',\n",
       "   'Convertible dress',\n",
       "   'Convertible crib',\n",
       "   'Convertible bond',\n",
       "   'Convertible furniture',\n",
       "   'Convertible note',\n",
       "   'Convertible backpack',\n",
       "   'Convertible top',\n",
       "   'Convertible pants',\n",
       "   'Convertible luggage',\n",
       "   'Convertible chair',\n",
       "   'Convertible bed',\n",
       "   'Convertible handbag',\n",
       "   'Convertible coffee table',\n",
       "   'Convertible car seat',\n",
       "   'Convertible desk',\n",
       "   'Convertible messenger bag',\n",
       "   'Convertible dining table']},\n",
       " {'Cooking': ['Recipes',\n",
       "   'Ingredients',\n",
       "   'Cooking techniques',\n",
       "   'Kitchen utensils',\n",
       "   'Meal planning',\n",
       "   'Culinary arts',\n",
       "   'Baking',\n",
       "   'Healthy eating',\n",
       "   'Food safety',\n",
       "   'Flavor profiles',\n",
       "   'Meal prep',\n",
       "   'Cooking styles',\n",
       "   'Ethnic cuisine',\n",
       "   'Cooking appliances',\n",
       "   'Meal presentation',\n",
       "   'Seasonal cooking',\n",
       "   'Cooking blogs',\n",
       "   'Cooking shows']},\n",
       " {'Apparel Industry': ['Fashion',\n",
       "   'Clothing',\n",
       "   'Textiles',\n",
       "   'Garments',\n",
       "   'Manufacturing',\n",
       "   'Design',\n",
       "   'Retail',\n",
       "   'E',\n",
       "   'Supply chain',\n",
       "   'Distribution',\n",
       "   'Marketing',\n",
       "   'Branding',\n",
       "   'Sustainability',\n",
       "   'Trends',\n",
       "   'Consumer behavior',\n",
       "   'Production',\n",
       "   'Quality control',\n",
       "   'Raw materials',\n",
       "   'Labor practices',\n",
       "   'Trade policies',\n",
       "   'Globalization']},\n",
       " {'Alcoholic Beverages': ['Beer',\n",
       "   'Wine',\n",
       "   'Spirits',\n",
       "   'Liquor',\n",
       "   'Cocktails',\n",
       "   'Distilling',\n",
       "   'Brewing',\n",
       "   'Winemaking',\n",
       "   'Alcohol content',\n",
       "   'Alcohol by volume (ABV)',\n",
       "   'Alcoholism',\n",
       "   'Hangover',\n",
       "   'Drinking culture',\n",
       "   'Drinking laws',\n",
       "   'Alcohol advertising',\n",
       "   'Alcohol consumption',\n",
       "   'Alcohol production',\n",
       "   'Alcohol taxes',\n",
       "   'Alcoholic drinks industry',\n",
       "   'Wine regions',\n",
       "   'Grape varieties',\n",
       "   'Brewing methods',\n",
       "   'Drinking games',\n",
       "   'Alcohol addiction',\n",
       "   'Alcohol abuse',\n",
       "   'Alcohol treatment',\n",
       "   'Alcohol rehabilitation',\n",
       "   'Alcohol tolerance',\n",
       "   'Alcohol poisoning']},\n",
       " {'Large Animals': ['Elephants',\n",
       "   'Giraffes',\n",
       "   'Rhinoceroses',\n",
       "   'Hippos',\n",
       "   'Whales',\n",
       "   'Dolphins',\n",
       "   'Sharks',\n",
       "   'Bears',\n",
       "   'Lions',\n",
       "   'Tigers',\n",
       "   'Gorillas',\n",
       "   'Moose',\n",
       "   'Elk',\n",
       "   'Bison',\n",
       "   'Horses',\n",
       "   'Camels',\n",
       "   'Cows',\n",
       "   'Buffalos',\n",
       "   'Kangaroos',\n",
       "   'Crocodiles',\n",
       "   'Alligators']},\n",
       " {'Travel Locations': ['tourism',\n",
       "   'vacation',\n",
       "   'adventure',\n",
       "   'culture',\n",
       "   'landmarks',\n",
       "   'attractions',\n",
       "   'accommodation',\n",
       "   'sightseeing',\n",
       "   'transportation',\n",
       "   'beaches',\n",
       "   'mountains',\n",
       "   'countryside',\n",
       "   'city breaks',\n",
       "   'road trips',\n",
       "   'cruises',\n",
       "   'islands',\n",
       "   'historical sites',\n",
       "   'national parks',\n",
       "   'camping',\n",
       "   'hiking',\n",
       "   'food and drink',\n",
       "   'festivals',\n",
       "   'museums',\n",
       "   'theme parks',\n",
       "   'wildlife',\n",
       "   'photography',\n",
       "   'budget travel',\n",
       "   'luxury travel',\n",
       "   'solo travel',\n",
       "   'family travel',\n",
       "   'eco']},\n",
       " {\"Women's Shoes and Footwear\": [\"Women's shoes\",\n",
       "   \"Women's footwear\",\n",
       "   'Heels',\n",
       "   'Flats',\n",
       "   'Sandals',\n",
       "   'Boots',\n",
       "   'Sneakers',\n",
       "   'Wedges',\n",
       "   'Pumps',\n",
       "   'Loafers',\n",
       "   'Slippers',\n",
       "   'Mules',\n",
       "   'Espadrilles',\n",
       "   'Athletic shoes',\n",
       "   'Running shoes',\n",
       "   'Walking shoes',\n",
       "   'Comfort shoes',\n",
       "   'Formal shoes',\n",
       "   'Casual shoes',\n",
       "   'Designer shoes',\n",
       "   'Leather shoes',\n",
       "   'Vegan shoes',\n",
       "   'Orthopedic shoes',\n",
       "   'Narrow shoes',\n",
       "   'Wide shoes',\n",
       "   'High arch shoes',\n",
       "   'Arch support shoes',\n",
       "   'Plantar fasciitis shoes',\n",
       "   'Bunions shoes',\n",
       "   'Diabetic shoes',\n",
       "   'Flat feet shoes',\n",
       "   'Fashion shoes',\n",
       "   'Summer shoes',\n",
       "   'Winter shoes',\n",
       "   'Work shoes',\n",
       "   'Dance shoes',\n",
       "   'Bridal shoes']},\n",
       " {'Laptops': ['laptops',\n",
       "   'notebook computers',\n",
       "   'portable computers',\n",
       "   'PC laptops',\n",
       "   'MacBooks',\n",
       "   'Chromebooks',\n",
       "   'Ultrabooks',\n",
       "   'gaming laptops',\n",
       "   'business laptops',\n",
       "   '2',\n",
       "   'touch screen laptops',\n",
       "   'lightweight laptops',\n",
       "   'budget laptops',\n",
       "   'professional laptops',\n",
       "   'student laptops',\n",
       "   'laptop accessories',\n",
       "   'laptop bags and cases',\n",
       "   'laptop batteries',\n",
       "   'laptop chargers',\n",
       "   'laptop stands and docking stations',\n",
       "   'laptop cooling pads',\n",
       "   'laptop sleeves',\n",
       "   'laptop security and locks',\n",
       "   'laptop repair services']},\n",
       " {'Fitness and Exercise': ['Gym',\n",
       "   'Workout',\n",
       "   'Strength training',\n",
       "   'Cardio',\n",
       "   'Endurance',\n",
       "   'Flexibility',\n",
       "   'Agility',\n",
       "   'Balance',\n",
       "   'Weightlifting',\n",
       "   'Aerobics',\n",
       "   'Yoga',\n",
       "   'Pilates',\n",
       "   'HIIT (High',\n",
       "   'CrossFit',\n",
       "   'Bodyweight exercises',\n",
       "   'Calisthenics',\n",
       "   'Resistance bands',\n",
       "   'Running',\n",
       "   'Cycling',\n",
       "   'Swimming',\n",
       "   'Walking',\n",
       "   'Sports',\n",
       "   'Nutrition',\n",
       "   'Supplements',\n",
       "   'Recovery',\n",
       "   'Rest',\n",
       "   'Motivation',\n",
       "   'Mind',\n",
       "   'Lifestyle']},\n",
       " {'Office Property': ['Commercial real estate',\n",
       "   'Office building',\n",
       "   'Office space',\n",
       "   'Lease',\n",
       "   'Rent',\n",
       "   'Tenant',\n",
       "   'Landlord',\n",
       "   'Property management',\n",
       "   'Maintenance',\n",
       "   'Utilities',\n",
       "   'Location',\n",
       "   'Square footage',\n",
       "   'Amenities',\n",
       "   'Furnishings',\n",
       "   'Parking',\n",
       "   'Security',\n",
       "   'Accessibility',\n",
       "   'Zoning',\n",
       "   'Building codes',\n",
       "   'Insurance',\n",
       "   'Taxes',\n",
       "   'Lease negotiation',\n",
       "   'Lease renewal',\n",
       "   'Tenant improvements',\n",
       "   'Subleasing',\n",
       "   'Co',\n",
       "   'Virtual offices.']},\n",
       " {'Remodeling & Construction': ['Home renovation',\n",
       "   'Building construction',\n",
       "   'Renovation contractor',\n",
       "   'Structural design',\n",
       "   'Interior design',\n",
       "   'Construction materials',\n",
       "   'Home improvement',\n",
       "   'Plumbing',\n",
       "   'Electrical wiring',\n",
       "   'Roofing',\n",
       "   'Flooring',\n",
       "   'Painting',\n",
       "   'Kitchen remodeling',\n",
       "   'Bathroom remodeling',\n",
       "   'Cabinet installation',\n",
       "   'Window installation',\n",
       "   'Door installation',\n",
       "   'Deck construction',\n",
       "   'Landscaping',\n",
       "   'Site preparation',\n",
       "   'Building permits',\n",
       "   'Code compliance',\n",
       "   'Project management',\n",
       "   'Budgeting',\n",
       "   'Green building',\n",
       "   'Sustainable design',\n",
       "   'Energy',\n",
       "   'Demolition',\n",
       "   'Concrete work',\n",
       "   'Masonry',\n",
       "   'Lighting design',\n",
       "   'HVAC installation',\n",
       "   'Plumbing fixtures',\n",
       "   'Electrical fixtures',\n",
       "   'Insulation',\n",
       "   'Framing',\n",
       "   'Drywall',\n",
       "   'Finish carpentry',\n",
       "   'Trim work',\n",
       "   'Custom millwork',\n",
       "   'Project scheduling',\n",
       "   'Quality control',\n",
       "   'Safety protocols.']},\n",
       " {'Pop Culture': ['Music',\n",
       "   'Movies',\n",
       "   'TV shows',\n",
       "   'Celebrities',\n",
       "   'Fashion',\n",
       "   'Art',\n",
       "   'Social media',\n",
       "   'Internet memes',\n",
       "   'Video games',\n",
       "   'Comic books',\n",
       "   'Animation',\n",
       "   'Sports',\n",
       "   'Reality TV',\n",
       "   'Tabloids',\n",
       "   'Trends',\n",
       "   'Fan culture',\n",
       "   'Influencers',\n",
       "   'Streaming services',\n",
       "   'Award shows']},\n",
       " {'Hospitality Industry': ['Hotels',\n",
       "   'Restaurants',\n",
       "   'Tourism',\n",
       "   'Travel',\n",
       "   'Accommodation',\n",
       "   'Customer service',\n",
       "   'Food and beverage',\n",
       "   'Resort',\n",
       "   'Events',\n",
       "   'Guest experience',\n",
       "   'Housekeeping',\n",
       "   'Front desk',\n",
       "   'Revenue management',\n",
       "   'Marketing',\n",
       "   'Operations',\n",
       "   'Concierge',\n",
       "   'Staff training',\n",
       "   'Loyalty programs',\n",
       "   'Technology',\n",
       "   'Sustainability',\n",
       "   'Branding',\n",
       "   'Online booking',\n",
       "   'Corporate travel',\n",
       "   'Banquets',\n",
       "   'Meetings',\n",
       "   'Convention centers',\n",
       "   'Guest satisfaction',\n",
       "   'Budgeting',\n",
       "   'Forecasting',\n",
       "   'Inventory management',\n",
       "   'Sales and marketing',\n",
       "   'Destination management',\n",
       "   'Room service',\n",
       "   'Spa services',\n",
       "   'Entertainment',\n",
       "   'Safety and security',\n",
       "   'Regulations and compliance',\n",
       "   'International hospitality.']},\n",
       " {'Camping': ['Tent',\n",
       "   'Sleeping bag',\n",
       "   'Campfire',\n",
       "   'Hiking',\n",
       "   'Backpacking',\n",
       "   'Outdoor cooking',\n",
       "   'Nature',\n",
       "   'Wildlife',\n",
       "   'Adventure',\n",
       "   'RV',\n",
       "   'Campsite',\n",
       "   'Hammock',\n",
       "   'Fishing',\n",
       "   'Kayaking',\n",
       "   'Canoeing',\n",
       "   'National parks',\n",
       "   'Trail mix',\n",
       "   'Lantern',\n",
       "   'Water filtration',\n",
       "   'First aid kit',\n",
       "   'Sunscreen',\n",
       "   'Insect repellent',\n",
       "   'Map and compass.']},\n",
       " {'Beach Travel': ['Beach vacation',\n",
       "   'Sunbathing',\n",
       "   'Swimming',\n",
       "   'Surfing',\n",
       "   'Beach sports',\n",
       "   'Snorkeling',\n",
       "   'Scuba diving',\n",
       "   'Beach relaxation',\n",
       "   'Beach activities',\n",
       "   'Beach accommodation',\n",
       "   'Beach destination',\n",
       "   'Beach equipment',\n",
       "   'Beach safety',\n",
       "   'Beach weather',\n",
       "   'Beach fashion',\n",
       "   'Beach food and drinks',\n",
       "   'Beach attractions',\n",
       "   'Beach nightlife',\n",
       "   'Beach photography',\n",
       "   'Beach souvenirs',\n",
       "   'Beach conservation',\n",
       "   'Beach clean',\n",
       "   'Beach community.']},\n",
       " {'Technology & Computing': ['Artificial intelligence',\n",
       "   'Machine learning',\n",
       "   'Robotics',\n",
       "   'Virtual reality',\n",
       "   'Augmented reality',\n",
       "   'Internet of Things (IoT)',\n",
       "   'Cloud computing',\n",
       "   'Big data',\n",
       "   'Cybersecurity',\n",
       "   'Blockchain',\n",
       "   'Cryptocurrency',\n",
       "   'Mobile computing',\n",
       "   'Social media',\n",
       "   'Gaming',\n",
       "   'Programming',\n",
       "   'Operating systems',\n",
       "   'Hardware',\n",
       "   'Software',\n",
       "   'Networking',\n",
       "   'Data analytics']},\n",
       " {'Land and Farms': ['Agriculture',\n",
       "   'Rural',\n",
       "   'Homestead',\n",
       "   'Crops',\n",
       "   'Livestock',\n",
       "   'Soil',\n",
       "   'Irrigation',\n",
       "   'Harvest',\n",
       "   'Farmland',\n",
       "   'Agricultural land',\n",
       "   'Ranch',\n",
       "   'Farmhouse',\n",
       "   'Barns',\n",
       "   'Fertile',\n",
       "   'Cultivation',\n",
       "   'Agriculture industry',\n",
       "   'Agribusiness',\n",
       "   'Pasture',\n",
       "   'Sustainable farming',\n",
       "   'Organic farming',\n",
       "   'Agricultural equipment',\n",
       "   'Tractors',\n",
       "   'Harvesting equipment',\n",
       "   'Agricultural subsidies',\n",
       "   'Agricultural policy',\n",
       "   'Agricultural technology',\n",
       "   'Agroecology',\n",
       "   'Land management.']},\n",
       " {'Automotive Industry': ['Cars',\n",
       "   'Trucks',\n",
       "   'SUVs',\n",
       "   'Manufacturing',\n",
       "   'Assembly Line',\n",
       "   'Engine',\n",
       "   'Fuel Efficiency',\n",
       "   'Emissions',\n",
       "   'Electric Vehicles',\n",
       "   'Autonomous Vehicles',\n",
       "   'Car Brands',\n",
       "   'Dealerships',\n",
       "   'Maintenance',\n",
       "   'Repair',\n",
       "   'Aftermarket',\n",
       "   'Accessories',\n",
       "   'Tires',\n",
       "   'Safety',\n",
       "   'Regulations',\n",
       "   'Technology',\n",
       "   'Innovation',\n",
       "   'Design',\n",
       "   'Sales',\n",
       "   'Marketing',\n",
       "   'Customer Service',\n",
       "   'Supply Chain',\n",
       "   'Logistics',\n",
       "   'Transportation',\n",
       "   'Infrastructure',\n",
       "   'Fuel Stations',\n",
       "   'Oil Industry',\n",
       "   'Environmental Impact',\n",
       "   'Economy',\n",
       "   'Jobs',\n",
       "   'Trade',\n",
       "   'Globalization',\n",
       "   'Competition']},\n",
       " {\"Women's Clothing\": ['Dresses',\n",
       "   'Skirts',\n",
       "   'Tops',\n",
       "   'Blouses',\n",
       "   'Pants',\n",
       "   'Jeans',\n",
       "   'Shorts',\n",
       "   'Jumpsuits',\n",
       "   'Rompers',\n",
       "   'Swimwear',\n",
       "   'Activewear',\n",
       "   'Blazers',\n",
       "   'Jackets',\n",
       "   'Coats',\n",
       "   'Sweaters',\n",
       "   'Cardigans',\n",
       "   'Hoodies',\n",
       "   'Sweatshirts',\n",
       "   'T',\n",
       "   'Tunics',\n",
       "   'Bodysuits',\n",
       "   'Bras',\n",
       "   'Underwear',\n",
       "   'Lingerie',\n",
       "   'Shapewear',\n",
       "   'Socks',\n",
       "   'Hosiery',\n",
       "   'Scarves',\n",
       "   'Hats',\n",
       "   'Belts',\n",
       "   'Bags',\n",
       "   'Jewelry',\n",
       "   'Watches',\n",
       "   'Sunglasses',\n",
       "   'Shoes',\n",
       "   'Boots',\n",
       "   'Sandals',\n",
       "   'Sneakers',\n",
       "   'Heels',\n",
       "   'Flats',\n",
       "   'Wedges',\n",
       "   'Espadrilles',\n",
       "   'Mules',\n",
       "   'Slides',\n",
       "   'Pumps',\n",
       "   'Loafers']},\n",
       " {'Family and Relationships': ['Love',\n",
       "   'Marriage',\n",
       "   'Parenting',\n",
       "   'Communication',\n",
       "   'Trust',\n",
       "   'Respect',\n",
       "   'Loyalty',\n",
       "   'Conflict resolution',\n",
       "   'Compromise',\n",
       "   'Unity',\n",
       "   'Intimacy',\n",
       "   'Affection',\n",
       "   'Forgiveness',\n",
       "   'Understanding',\n",
       "   'Support',\n",
       "   'Empathy',\n",
       "   'Listening',\n",
       "   'Boundaries',\n",
       "   'Dependability',\n",
       "   'Teamwork',\n",
       "   'Responsibility',\n",
       "   'Cooperation',\n",
       "   'Togetherness',\n",
       "   'Diversity',\n",
       "   'Blended families',\n",
       "   'Adoption',\n",
       "   'Infidelity',\n",
       "   'Divorce',\n",
       "   'Single parenting',\n",
       "   'Child custody',\n",
       "   'Abuse',\n",
       "   'Domestic violence',\n",
       "   'Mental health',\n",
       "   'Counseling',\n",
       "   'Family therapy',\n",
       "   'Gender roles',\n",
       "   'Cultural differences',\n",
       "   'Aging parents',\n",
       "   'Sibling relationships',\n",
       "   'Extended family.']},\n",
       " {'Auto Type': ['Auto',\n",
       "   'Auto',\n",
       "   'Keyboard automation',\n",
       "   'Typing automation',\n",
       "   'Text expansion',\n",
       "   'Macro typing',\n",
       "   'Keyboard shortcuts',\n",
       "   'Productivity tool',\n",
       "   'Efficiency tool',\n",
       "   'Time',\n",
       "   'Automatic typing',\n",
       "   'Automated text entry',\n",
       "   'Rapid typing',\n",
       "   'Keyboard macros',\n",
       "   'Text snippet tool',\n",
       "   'Keyboard recorder',\n",
       "   'Text macro software',\n",
       "   'Rapid typing software',\n",
       "   'Keyboard automation software',\n",
       "   'Typing automation software',\n",
       "   'Text expansion software',\n",
       "   'Auto']},\n",
       " {\"Women's Handbags and Wallets\": [\"Women's handbags\",\n",
       "   \"Women's wallets\",\n",
       "   'Designer handbags',\n",
       "   'Leather handbags',\n",
       "   'Tote bags',\n",
       "   'Crossbody bags',\n",
       "   'Shoulder bags',\n",
       "   'Clutch bags',\n",
       "   'Satchel bags',\n",
       "   'Hobo bags',\n",
       "   'Backpack purses',\n",
       "   'Wristlet wallets',\n",
       "   'Coin purses',\n",
       "   'Card holders',\n",
       "   'Zip',\n",
       "   'Bi',\n",
       "   'Tri',\n",
       "   'Chain strap bags',\n",
       "   'Top handle bags',\n",
       "   'Evening bags',\n",
       "   'Work bags',\n",
       "   'Travel bags',\n",
       "   'Fashion accessories']},\n",
       " {'Musical Instruments': ['Guitar',\n",
       "   'Piano',\n",
       "   'Drums',\n",
       "   'Violin',\n",
       "   'Saxophone',\n",
       "   'Trumpet',\n",
       "   'Flute',\n",
       "   'Clarinet',\n",
       "   'Bass guitar',\n",
       "   'Cello',\n",
       "   'Banjo',\n",
       "   'Ukulele',\n",
       "   'Mandolin',\n",
       "   'Harp',\n",
       "   'Accordion',\n",
       "   'Harmonica',\n",
       "   'Bagpipes',\n",
       "   'Didgeridoo',\n",
       "   'Tambourine',\n",
       "   'Maracas',\n",
       "   'Triangle',\n",
       "   'Xylophone',\n",
       "   'Glockenspiel',\n",
       "   'Bells',\n",
       "   'Chimes',\n",
       "   'Gong',\n",
       "   'Timpani',\n",
       "   'Cajon',\n",
       "   'Djembe',\n",
       "   'Congas',\n",
       "   'Bongos',\n",
       "   'Steel drums',\n",
       "   'Synthesizer',\n",
       "   'Keyboard']},\n",
       " {'Wellness': ['Health',\n",
       "   'Nutrition',\n",
       "   'Exercise',\n",
       "   'Mental health',\n",
       "   'Self',\n",
       "   'Meditation',\n",
       "   'Yoga',\n",
       "   'Mindfulness',\n",
       "   'Holistic',\n",
       "   'Wellness programs',\n",
       "   'Fitness',\n",
       "   'Wellness retreats',\n",
       "   'Stress management',\n",
       "   'Sleep hygiene',\n",
       "   'Hydration',\n",
       "   'Healthy habits',\n",
       "   'Balance',\n",
       "   'Well',\n",
       "   'Self',\n",
       "   'Relaxation',\n",
       "   'Alternative medicine',\n",
       "   'Natural remedies',\n",
       "   'Wellness coaching',\n",
       "   'Goal setting',\n",
       "   'Positive mindset',\n",
       "   'Gratitude',\n",
       "   'Community support.']},\n",
       " {'Smartphones': ['Smartphone',\n",
       "   'Mobile phone',\n",
       "   'Android',\n",
       "   'iOS',\n",
       "   'Operating system',\n",
       "   'App',\n",
       "   'Touchscreen',\n",
       "   'Camera',\n",
       "   'Battery life',\n",
       "   'Storage',\n",
       "   'RAM',\n",
       "   'Processor',\n",
       "   'Network',\n",
       "   'Wireless charging',\n",
       "   'Fast charging',\n",
       "   'Headphone jack',\n",
       "   'Bluetooth',\n",
       "   'NFC',\n",
       "   'Mobile payment',\n",
       "   'Security features',\n",
       "   'Screen size',\n",
       "   'Resolution',\n",
       "   '5G',\n",
       "   'LTE',\n",
       "   'Wi',\n",
       "   'GPS',\n",
       "   'Water resistant',\n",
       "   'Dust resistant',\n",
       "   'Gorilla Glass',\n",
       "   'Augmented reality',\n",
       "   'Virtual assistant',\n",
       "   'Siri',\n",
       "   'Google Assistant',\n",
       "   'Bixby',\n",
       "   'Face recognition',\n",
       "   'Fingerprint scanner',\n",
       "   'Dual SIM',\n",
       "   'Battery capacity',\n",
       "   'USB Type',\n",
       "   'MicroSD card slot',\n",
       "   'Edge',\n",
       "   'Notch display',\n",
       "   'Foldable display',\n",
       "   'Price range',\n",
       "   'Brand names (Apple, Samsung, Google, etc.)']},\n",
       " {'Prom': ['Prom dress',\n",
       "   'Tuxedo',\n",
       "   'Corsage',\n",
       "   'Boutonniere',\n",
       "   'Limousine',\n",
       "   'Prom king and queen',\n",
       "   'Dance',\n",
       "   'Music',\n",
       "   'Photography',\n",
       "   'Hairstyle',\n",
       "   'Makeup',\n",
       "   'Promposal',\n",
       "   'Prom night',\n",
       "   'Prom tickets',\n",
       "   'Prom theme',\n",
       "   'Prom decorations',\n",
       "   'After',\n",
       "   'Prom committee',\n",
       "   'Prom traditions',\n",
       "   'Prom expenses.']},\n",
       " {'Cinemas and Events': ['Movie theaters',\n",
       "   'Film screenings',\n",
       "   'Red carpet events',\n",
       "   'Film premieres',\n",
       "   'Film festivals',\n",
       "   'Cinema experience',\n",
       "   'Movie releases',\n",
       "   'Box office',\n",
       "   'Movie tickets',\n",
       "   'Film industry',\n",
       "   'Popcorn',\n",
       "   'Movie snacks',\n",
       "   'Movie merchandising',\n",
       "   'Movie trailers',\n",
       "   'Movie ratings',\n",
       "   'Film critics',\n",
       "   'Sound systems',\n",
       "   'Projection',\n",
       "   'Movie genres',\n",
       "   'Hollywood',\n",
       "   'Blockbuster movies',\n",
       "   'Indie films',\n",
       "   'Film awards',\n",
       "   'Film industry trends.']}]"
      ]
     },
     "execution_count": 88,
     "metadata": {},
     "output_type": "execute_result"
    }
   ],
   "source": [
    "IAB_output_list"
   ]
  },
  {
   "cell_type": "code",
   "execution_count": 82,
   "metadata": {},
   "outputs": [],
   "source": [
    "items=os.listdir('progress')\n",
    "Maf_output_list=[]\n",
    "\n",
    "for item in items:\n",
    "    with open('progress/{}'.format(item), 'rb') as f:\n",
    "        Maf_output_list.append(pkl.load(f))\n"
   ]
  },
  {
   "cell_type": "code",
   "execution_count": 83,
   "metadata": {},
   "outputs": [
    {
     "data": {
      "text/plain": [
       "938"
      ]
     },
     "execution_count": 83,
     "metadata": {},
     "output_type": "execute_result"
    }
   ],
   "source": [
    "len(Maf_output_list)"
   ]
  },
  {
   "cell_type": "code",
   "execution_count": 84,
   "metadata": {},
   "outputs": [],
   "source": [
    "with open(\"chat_gpt_maf.pkl\", 'wb') as f:\n",
    "    pkl.dump(Maf_output_list,f)"
   ]
  },
  {
   "cell_type": "code",
   "execution_count": 85,
   "metadata": {},
   "outputs": [
    {
     "data": {
      "text/plain": [
       "{'limo': ['Limo rental',\n",
       "  'Luxury transportation',\n",
       "  'Chauffeur service',\n",
       "  'Stretch limo',\n",
       "  'Party bus',\n",
       "  'Wedding limo',\n",
       "  'Corporate transportation',\n",
       "  'Prom limo',\n",
       "  'Airport transfer',\n",
       "  'Limousine service',\n",
       "  'Limousine rental companies',\n",
       "  'Executive limo',\n",
       "  'VIP transportation',\n",
       "  'Limousine interior',\n",
       "  'Black car service']}"
      ]
     },
     "execution_count": 85,
     "metadata": {},
     "output_type": "execute_result"
    }
   ],
   "source": [
    "Maf_output_list[0]"
   ]
  },
  {
   "cell_type": "code",
   "execution_count": null,
   "metadata": {},
   "outputs": [],
   "source": []
  }
 ],
 "metadata": {
  "kernelspec": {
   "display_name": "KG",
   "language": "python",
   "name": "python3"
  },
  "language_info": {
   "codemirror_mode": {
    "name": "ipython",
    "version": 3
   },
   "file_extension": ".py",
   "mimetype": "text/x-python",
   "name": "python",
   "nbconvert_exporter": "python",
   "pygments_lexer": "ipython3",
   "version": "3.11.4"
  },
  "orig_nbformat": 4
 },
 "nbformat": 4,
 "nbformat_minor": 2
}
