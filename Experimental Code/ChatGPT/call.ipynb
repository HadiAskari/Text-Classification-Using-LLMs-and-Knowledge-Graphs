{
 "cells": [
  {
   "cell_type": "code",
   "execution_count": 398,
   "metadata": {},
   "outputs": [],
   "source": [
    "import os\n",
    "import requests\n",
    "import json\n",
    "import openai\n",
    "import pickle as pkl\n",
    "import requests\n",
    "import json\n",
    "from sklearn.metrics.pairwise import cosine_similarity\n",
    "import pandas as pd\n",
    "from time import sleep\n",
    "from tqdm.auto import tqdm\n",
    "import numpy as np\n",
    "import ast\n",
    "from sentence_transformers import SentenceTransformer\n",
    "import tiktoken"
   ]
  },
  {
   "cell_type": "code",
   "execution_count": 399,
   "metadata": {},
   "outputs": [],
   "source": [
    "with open('chat_gpt_iab.pkl', 'rb') as f:\n",
    "    IAB_KG=pkl.load(f)"
   ]
  },
  {
   "cell_type": "code",
   "execution_count": 400,
   "metadata": {},
   "outputs": [],
   "source": [
    "with open('chat_gpt_maf.pkl', 'rb') as f:\n",
    "    MAF_KG=pkl.load(f)"
   ]
  },
  {
   "cell_type": "code",
   "execution_count": 401,
   "metadata": {},
   "outputs": [
    {
     "data": {
      "text/plain": [
       "161"
      ]
     },
     "execution_count": 401,
     "metadata": {},
     "output_type": "execute_result"
    }
   ],
   "source": [
    "len(IAB_KG)"
   ]
  },
  {
   "cell_type": "code",
   "execution_count": 402,
   "metadata": {},
   "outputs": [
    {
     "data": {
      "text/plain": [
       "938"
      ]
     },
     "execution_count": 402,
     "metadata": {},
     "output_type": "execute_result"
    }
   ],
   "source": [
    "len(MAF_KG)"
   ]
  },
  {
   "cell_type": "code",
   "execution_count": 428,
   "metadata": {},
   "outputs": [
    {
     "name": "stdout",
     "output_type": "stream",
     "text": [
      "1536\n"
     ]
    }
   ],
   "source": [
    "with open('azure-configuration.json') as inputfile:\n",
    "    azureconfig = json.load(inputfile)\n",
    "openai.api_key = azureconfig['key'] \n",
    "openai.api_base = azureconfig['endpoint'] \n",
    "openai.api_type = 'azure'\n",
    "openai.api_version = '2023-05-15' # this may change in the future\n",
    "\n",
    "deployment_name= azureconfig['deployment_name']\n",
    "\n",
    "response = openai.Embedding.create(\n",
    "    input=\"Your text string goes here\",\n",
    "    engine=deployment_name\n",
    ")\n",
    "embeddings = response['data'][0]['embedding']\n",
    "print(len(embeddings))"
   ]
  },
  {
   "cell_type": "code",
   "execution_count": 404,
   "metadata": {},
   "outputs": [
    {
     "data": {
      "text/plain": [
       "{'Books and Literature': ['Fiction',\n",
       "  'Non',\n",
       "  'Biography',\n",
       "  'Autobiography',\n",
       "  'Memoir',\n",
       "  'Poetry',\n",
       "  'Drama',\n",
       "  'Classic',\n",
       "  'Bestseller',\n",
       "  'Award',\n",
       "  'Novels',\n",
       "  'Short stories',\n",
       "  'Essays',\n",
       "  'Literary criticism',\n",
       "  'Historical',\n",
       "  'Science fiction',\n",
       "  'Fantasy',\n",
       "  'Romance',\n",
       "  'Mystery',\n",
       "  'Thriller',\n",
       "  'Horror',\n",
       "  \"Children's literature\",\n",
       "  'Young adult',\n",
       "  'Bildungsroman',\n",
       "  'Satire',\n",
       "  'Humor',\n",
       "  'Tragedy',\n",
       "  'Comedy',\n",
       "  'Prose',\n",
       "  'Verse',\n",
       "  'Author',\n",
       "  'Publisher',\n",
       "  'Book club',\n",
       "  'Library',\n",
       "  'Reading']}"
      ]
     },
     "execution_count": 404,
     "metadata": {},
     "output_type": "execute_result"
    }
   ],
   "source": [
    "IAB_KG[9]"
   ]
  },
  {
   "cell_type": "code",
   "execution_count": null,
   "metadata": {},
   "outputs": [],
   "source": [
    "# iab_labels=[]\n",
    "# for i in IAB_KG:\n",
    "#     iab_labels.append(list(i.keys())[0])"
   ]
  },
  {
   "cell_type": "code",
   "execution_count": null,
   "metadata": {},
   "outputs": [],
   "source": [
    "# maf=[]\n",
    "# for i in MAF_KG:\n",
    "#     maf.append(list(i.keys())[0])"
   ]
  },
  {
   "cell_type": "code",
   "execution_count": 405,
   "metadata": {},
   "outputs": [],
   "source": [
    "df_IAB=pd.read_csv('data/IAB_Evaluation.csv')"
   ]
  },
  {
   "cell_type": "code",
   "execution_count": 406,
   "metadata": {},
   "outputs": [],
   "source": [
    "iab_labels=df_IAB['IAB_Label'].to_list()"
   ]
  },
  {
   "cell_type": "code",
   "execution_count": 407,
   "metadata": {},
   "outputs": [],
   "source": [
    "df_MAF=pd.read_csv('data/MAF_Evaluation.csv')"
   ]
  },
  {
   "cell_type": "code",
   "execution_count": 408,
   "metadata": {},
   "outputs": [],
   "source": [
    "maf=df_MAF['item'].to_list()"
   ]
  },
  {
   "cell_type": "code",
   "execution_count": 409,
   "metadata": {},
   "outputs": [],
   "source": [
    "call=iab_labels+maf"
   ]
  },
  {
   "cell_type": "code",
   "execution_count": 410,
   "metadata": {},
   "outputs": [
    {
     "data": {
      "text/plain": [
       "['closet',\n",
       " 'rosehip',\n",
       " 'appenzeller',\n",
       " 'english_springer',\n",
       " 'grocery',\n",
       " 'siberian_husky',\n",
       " 'man-eating_shark',\n",
       " 'upright_piano',\n",
       " 'miniature_poodle',\n",
       " 'washing_machine',\n",
       " 'mouth_organ',\n",
       " 'bee_house',\n",
       " 'beer_bottle',\n",
       " 'great_white_shark',\n",
       " 'border_collie',\n",
       " 'hungarian_pointer',\n",
       " 'kuvasz',\n",
       " 'pickup',\n",
       " 'globe_artichoke',\n",
       " 'residence',\n",
       " 'coach',\n",
       " 'wireless',\n",
       " 'acorn_squash',\n",
       " 'dock',\n",
       " 'hand_blower',\n",
       " 'birdhouse',\n",
       " 'medicine_cabinet',\n",
       " 'church_building',\n",
       " 'web_site',\n",
       " 'grampus',\n",
       " 'swimming_cap',\n",
       " 'curly-coated_retriever',\n",
       " 'desktop_computer',\n",
       " 'sealyham',\n",
       " 'grand',\n",
       " 'wardrobe',\n",
       " 'chain_armor',\n",
       " 'space_heater',\n",
       " 'loafer',\n",
       " 'chime',\n",
       " 'electric_fan',\n",
       " 'bow_tie',\n",
       " 'harp',\n",
       " 'mosque',\n",
       " 'aptenodytes_patagonica',\n",
       " 'peke',\n",
       " 'cd_player',\n",
       " 'ocarina',\n",
       " 'burrito',\n",
       " 'wrecker',\n",
       " 'quail',\n",
       " 'lawn_cart',\n",
       " 'english_springer_spaniel',\n",
       " 'husky',\n",
       " 'spaghetti_squash',\n",
       " 'padlock',\n",
       " 'cairn_terrier',\n",
       " 'pyjama',\n",
       " 'eating_place',\n",
       " 'racing_car',\n",
       " 'white_fox',\n",
       " 'carbonara',\n",
       " 'steel_arch_bridge',\n",
       " 'tank_suit',\n",
       " 'hen-of-the-woods',\n",
       " 'shetland',\n",
       " 'black_swan',\n",
       " 'monitor',\n",
       " 'sports',\n",
       " 'newfoundland',\n",
       " 'basenji',\n",
       " 'haliaeetus_leucocephalus',\n",
       " 'african_gray',\n",
       " 'grille',\n",
       " 'shoe_store',\n",
       " 'steel_drum',\n",
       " 'toaster',\n",
       " 'fiddle',\n",
       " 'trombone',\n",
       " 'mouth_harp',\n",
       " 'dogsled',\n",
       " 'beam',\n",
       " 'white_shark',\n",
       " 'sliding_door',\n",
       " 'trench_coat',\n",
       " 'rose_hip',\n",
       " 'bathtub',\n",
       " 'egretta_albus',\n",
       " 'scottish_deerhound',\n",
       " 'crinoline',\n",
       " 'dishwasher',\n",
       " 'can_opener',\n",
       " 'lawn_mower',\n",
       " 'cellular_telephone',\n",
       " 'cauldron',\n",
       " 'shih-tzu',\n",
       " 'menu',\n",
       " 'pay-station',\n",
       " 'business',\n",
       " 'cab',\n",
       " 'bassoon',\n",
       " 'chetah',\n",
       " 'tobacco_shop',\n",
       " 'tennis_ball',\n",
       " 'transportation',\n",
       " 'courgette',\n",
       " 'hornbill',\n",
       " 'convertible',\n",
       " 'packsack',\n",
       " 'arctic_fox',\n",
       " 'bath',\n",
       " 'greenhouse',\n",
       " 'beigel',\n",
       " 'ten-gallon_hat',\n",
       " 'mailbox',\n",
       " 'yurt',\n",
       " 'medicine_chest',\n",
       " 'espresso_maker',\n",
       " 'japanese_spaniel',\n",
       " 'mobile_home',\n",
       " 'water_hen',\n",
       " 'komodo_dragon',\n",
       " 'beer_glass',\n",
       " 'panda',\n",
       " 'radiator_grille',\n",
       " 'park_bench',\n",
       " 'prairie_fowl',\n",
       " 'panther',\n",
       " 'umbrella',\n",
       " 'maltese_dog',\n",
       " 'english_setter',\n",
       " 'linnet',\n",
       " 'bakery',\n",
       " 'swimming_trunks',\n",
       " 'weighing_machine',\n",
       " 'malinois',\n",
       " 'hoopskirt',\n",
       " 'english_foxhound',\n",
       " 'goldfinch',\n",
       " 'barrow',\n",
       " 'black_stork',\n",
       " 'american_staffordshire_terrier',\n",
       " 'cougar',\n",
       " 'popsicle',\n",
       " 'boxer',\n",
       " 'dockage',\n",
       " 'hair_dryer',\n",
       " 'acoustic_guitar',\n",
       " 'horse-cart',\n",
       " 'mini',\n",
       " 'backpack',\n",
       " 'trolley',\n",
       " 'eggnog',\n",
       " 'oxygen_mask',\n",
       " 'anemone_fish',\n",
       " 'german_police_dog',\n",
       " 'standard_poodle',\n",
       " 'power_drill',\n",
       " 'organ',\n",
       " 'scale',\n",
       " 'red_setter',\n",
       " 'ciconia_nigra',\n",
       " 'polaroid_camera',\n",
       " 'great_white_heron',\n",
       " 'king_penguin',\n",
       " 'lollipop',\n",
       " 'lakeland_terrier',\n",
       " 'loudspeaker',\n",
       " 'racket',\n",
       " 'vacuum',\n",
       " 'hack',\n",
       " 'picture_palace',\n",
       " 'table_lamp',\n",
       " 'trifle',\n",
       " 'cliff',\n",
       " 'trolley_car',\n",
       " 'cowboy_hat',\n",
       " 'window_shade',\n",
       " 'giant_panda',\n",
       " 'hot_pot',\n",
       " 'fringilla_montifringilla',\n",
       " 'acinonyx_jubatus',\n",
       " 'movie_house',\n",
       " 'two-piece',\n",
       " 'confectionery',\n",
       " 'airedale',\n",
       " 'polaroid_land_camera',\n",
       " 'oil_filter',\n",
       " 'schipperke',\n",
       " 'blower',\n",
       " 'tram',\n",
       " 'black-and-tan_coonhound',\n",
       " 'food_market',\n",
       " 'lemon',\n",
       " 'cat_bear',\n",
       " 'pot',\n",
       " 'suit',\n",
       " 'digital_clock',\n",
       " 'komondor',\n",
       " 'pay-phone',\n",
       " 'cell',\n",
       " 'consomme',\n",
       " 'mountain_lion',\n",
       " 'strix_nebulosa',\n",
       " 'file',\n",
       " 'anole',\n",
       " 'pembroke_welsh_corgi',\n",
       " 'remote_control',\n",
       " 'turnstile',\n",
       " 'grand_piano',\n",
       " 'shetland_sheep_dog',\n",
       " 'common_iguana',\n",
       " 'psittacus_erithacus',\n",
       " 'polyporus_frondosus',\n",
       " 'geyser',\n",
       " 'chesapeake_bay_retriever',\n",
       " 'corn',\n",
       " 'monkey_pinscher',\n",
       " 'american_coot',\n",
       " 'guacamole',\n",
       " 'scottie',\n",
       " 'rig',\n",
       " 'sock',\n",
       " 'flute',\n",
       " 'racquet',\n",
       " 'panthera_pardus',\n",
       " 'car_mirror',\n",
       " 'afghan_hound',\n",
       " 'science',\n",
       " 'weimaraner',\n",
       " 'news',\n",
       " 'lolly',\n",
       " 'coffee_mug',\n",
       " 'fire_truck',\n",
       " 'drilling_platform',\n",
       " 'pipe_organ',\n",
       " 'green_snake',\n",
       " 'wine_bottle',\n",
       " 'cock',\n",
       " 'high_bar',\n",
       " 'chain_armour',\n",
       " 'academic_gown',\n",
       " 'hautbois',\n",
       " 'dalmatian',\n",
       " 'shoe-shop',\n",
       " 'mollymawk',\n",
       " 'russian_wolfhound',\n",
       " 'sandal',\n",
       " 'gown',\n",
       " 'stopwatch',\n",
       " 'bathing_cap',\n",
       " 'balance_beam',\n",
       " 'beach_waggon',\n",
       " 'wheelbarrow',\n",
       " 'man-eater',\n",
       " 'indigo_bunting',\n",
       " 'pets',\n",
       " 'bottle_screw',\n",
       " 'desk',\n",
       " 'red_panda',\n",
       " 'maze',\n",
       " 'sea_wolf',\n",
       " 'teddy_bear',\n",
       " 'manufactured_home',\n",
       " 'one-armed_bandit',\n",
       " 'solar_collector',\n",
       " 'microwave_oven',\n",
       " 'spot',\n",
       " 'bathing_trunks',\n",
       " 'baseball_player',\n",
       " 'suit_of_clothes',\n",
       " 'icebox',\n",
       " 'painter',\n",
       " 'borzoi',\n",
       " 'snow_leopard',\n",
       " 'semi',\n",
       " 'west_highland_white_terrier',\n",
       " 'coon_bear',\n",
       " 'hair_spray',\n",
       " 'coach_dog',\n",
       " 'chow',\n",
       " 'combination_lock',\n",
       " 'megalithic_structure',\n",
       " 'pier',\n",
       " 'cape_hunting_dog',\n",
       " 'french_bulldog',\n",
       " 'mountain_bike',\n",
       " 'moving_van',\n",
       " 'frying_pan',\n",
       " 'staffordshire_terrier',\n",
       " 'flowerpot',\n",
       " 'market',\n",
       " 'television_system',\n",
       " 'vacuum_cleaner',\n",
       " 'relationship',\n",
       " 'fur_coat',\n",
       " 'garbage_truck',\n",
       " 'horse_cart',\n",
       " 'bell_pepper',\n",
       " 'radiator',\n",
       " 'trump',\n",
       " 'food',\n",
       " 'bell',\n",
       " 'boat_paddle',\n",
       " 'movie_theater',\n",
       " 'pop_bottle',\n",
       " 'racer',\n",
       " 'taxicab',\n",
       " 'movie_theatre',\n",
       " 'hand-held_computer',\n",
       " 'ipod',\n",
       " 'kerry_blue_terrier',\n",
       " 'pickup_truck',\n",
       " 'rotisserie',\n",
       " 'press',\n",
       " 'felis_concolor',\n",
       " 'electric_switch',\n",
       " 'water_ouzel',\n",
       " 'wig',\n",
       " 'pomeranian',\n",
       " 'tin_opener',\n",
       " 'public',\n",
       " 'puma',\n",
       " 'snorkel',\n",
       " 'harmonica',\n",
       " 'shoe_shop',\n",
       " 'home_theatre',\n",
       " 'music',\n",
       " 'albatross',\n",
       " 'maltese',\n",
       " 'velvet',\n",
       " 'grifola_frondosa',\n",
       " 'catamount',\n",
       " 'chocolate_syrup',\n",
       " 'american_pit_bull_terrier',\n",
       " 'cornet',\n",
       " 'trucking_rig',\n",
       " 'clumber_spaniel',\n",
       " 'off-roader',\n",
       " 'hodometer',\n",
       " 'cocker_spaniel',\n",
       " 'canoe',\n",
       " 'microphone',\n",
       " 'boston_bull',\n",
       " 'butternut_squash',\n",
       " 'four-poster',\n",
       " 'love',\n",
       " 'mashed_potato',\n",
       " 'lip_rouge',\n",
       " 'chrysanthemum_dog',\n",
       " 'carriage',\n",
       " 'speaker_system',\n",
       " 'notebook',\n",
       " 'black_grouse',\n",
       " 'kite',\n",
       " 'balloon',\n",
       " 'trumpet',\n",
       " 'horn',\n",
       " 'laptop',\n",
       " 'bittern',\n",
       " 'upright',\n",
       " 'bee_eater',\n",
       " 'cup',\n",
       " 'offshore_rig',\n",
       " 'wall_clock',\n",
       " 'freight_car',\n",
       " 'grass_snake',\n",
       " 'screen',\n",
       " 'irish_setter',\n",
       " 'motor_scooter',\n",
       " 'switch',\n",
       " 'vending_machine',\n",
       " 'american_chameleon',\n",
       " 'notebook_computer',\n",
       " 'cassette',\n",
       " 'afghan',\n",
       " 'bedlington_terrier',\n",
       " 'blow_drier',\n",
       " 'hotdog',\n",
       " 'cheetah',\n",
       " 'indigo_finch',\n",
       " 'scoreboard',\n",
       " 'violoncello',\n",
       " 'lipstick',\n",
       " 'pizza_pie',\n",
       " 'american_egret',\n",
       " 'wooden_spoon',\n",
       " 'rhodesian_ridgeback',\n",
       " 'car_wheel',\n",
       " 'trailer_truck',\n",
       " 'cleaver',\n",
       " 'welsh_springer_spaniel',\n",
       " 'bagel',\n",
       " 'all-terrain_bike',\n",
       " 'abacus',\n",
       " 'pit_bull_terrier',\n",
       " 'keypad',\n",
       " 'ailurus_fulgens',\n",
       " 'labyrinth',\n",
       " 'rottweiler',\n",
       " 'lakeside',\n",
       " 'sunglasses',\n",
       " 'greater_swiss_mountain_dog',\n",
       " 'home_theater',\n",
       " 'bubalus_bubalis',\n",
       " 'tibetan_terrier',\n",
       " 'internet_site',\n",
       " 'pekingese',\n",
       " 'church',\n",
       " 'thalarctos_maritimus',\n",
       " 'porphyrio_porphyrio',\n",
       " 'bakeshop',\n",
       " 'bikini',\n",
       " 'fashion',\n",
       " 'french_loaf',\n",
       " 'great_pyrenees',\n",
       " 'mexican_hairless',\n",
       " 'otter_hound',\n",
       " 'pretzel',\n",
       " 'pug-dog',\n",
       " 'hair_slide',\n",
       " 'space_bar',\n",
       " 'cacatua_galerita',\n",
       " 'keeshond',\n",
       " 'sulphur-crested_cockatoo',\n",
       " 'disk_brake',\n",
       " 'file_cabinet',\n",
       " 'little_blue_heron',\n",
       " 'microwave',\n",
       " 'slot',\n",
       " 'lhasa',\n",
       " 'accordion',\n",
       " 'samoyed',\n",
       " 'gordon_setter',\n",
       " 'stone_wall',\n",
       " 'beach_wagon',\n",
       " 'drop-off',\n",
       " 'electrical_switch',\n",
       " 'electric_guitar',\n",
       " 'soft-coated_wheaten_terrier',\n",
       " 'crt_screen',\n",
       " 'tub',\n",
       " 'lesser_panda',\n",
       " 'mower',\n",
       " 'jammies',\n",
       " 'street_sign',\n",
       " 'orca',\n",
       " 'labrador_retriever',\n",
       " 'tiger_cat',\n",
       " 'brabancon_griffon',\n",
       " 'squeeze_box',\n",
       " 'felis_onca',\n",
       " 'corkscrew',\n",
       " 'minivan',\n",
       " 'oboe',\n",
       " 'shopping_basket',\n",
       " 'television',\n",
       " 'house_finch',\n",
       " 'ring_armour',\n",
       " 'jean',\n",
       " 'walker_hound',\n",
       " 'haversack',\n",
       " 'gong',\n",
       " 'shades',\n",
       " 'technology',\n",
       " 'castle',\n",
       " 'pekinese',\n",
       " 'icecream',\n",
       " 'jaguar',\n",
       " 'killer',\n",
       " 'alsatian',\n",
       " 'milk_can',\n",
       " 'hair_drier',\n",
       " 'bow-tie',\n",
       " 'soup_bowl',\n",
       " 'toilet_seat',\n",
       " 'bakehouse',\n",
       " 'chain_mail',\n",
       " 'mitten',\n",
       " 'bulbul',\n",
       " 'international',\n",
       " 'parallel_bars',\n",
       " 'recreational_vehicle',\n",
       " 'remote',\n",
       " 'banana',\n",
       " 'tape_player',\n",
       " 'chow_chow',\n",
       " 'lens_cap',\n",
       " 'holiday',\n",
       " 'artichoke',\n",
       " 'dustcart',\n",
       " 'rv',\n",
       " 'skillet',\n",
       " 'education',\n",
       " 'miniskirt',\n",
       " 'site',\n",
       " 'african_grey',\n",
       " 'giant_schnauzer',\n",
       " 'blow_dryer',\n",
       " 'groom',\n",
       " 'radio',\n",
       " 'ice_cream',\n",
       " 'sleuthhound',\n",
       " 'denim',\n",
       " 'cello',\n",
       " 'sweet_potato',\n",
       " 'great_dane',\n",
       " 'carriage_dog',\n",
       " 'dish_washer',\n",
       " 'red_hot',\n",
       " 'asiatic_buffalo',\n",
       " 'bubble',\n",
       " 'african_hunting_dog',\n",
       " 'maillot',\n",
       " 'bluetick',\n",
       " 'staffordshire_bull_terrier',\n",
       " 'maltese_terrier',\n",
       " 'vizsla',\n",
       " 'leopard',\n",
       " 'eatery',\n",
       " 'billfold',\n",
       " 'literature',\n",
       " 'hyaena',\n",
       " 'culture',\n",
       " 'doberman_pinscher',\n",
       " 'gazelle_hound',\n",
       " 'water_ox',\n",
       " 'tee_shirt',\n",
       " 'living',\n",
       " 'sarong',\n",
       " 'shower_cap',\n",
       " 'tractor',\n",
       " 'home',\n",
       " 'modem',\n",
       " 'odometer',\n",
       " 'laptop_computer',\n",
       " 'collie',\n",
       " 'frilled_lizard',\n",
       " 'horizontal_bar',\n",
       " 'marine',\n",
       " 'poncho',\n",
       " 'chopper',\n",
       " 'border_terrier',\n",
       " 'lifestyle',\n",
       " 'film',\n",
       " 'slipstick',\n",
       " 'cellphone',\n",
       " 'pembroke',\n",
       " 'christmas_stocking',\n",
       " 'lab_coat',\n",
       " 'sports_car',\n",
       " 'goose',\n",
       " 'tobacconist',\n",
       " 'dandie_dinmont',\n",
       " 'basketball',\n",
       " 'dome',\n",
       " 'seacoast',\n",
       " 'german_shepherd_dog',\n",
       " 'entertainment',\n",
       " 'running_shoe',\n",
       " 'sea-coast',\n",
       " 'carpodacus_mexicanus',\n",
       " 'sand_bar',\n",
       " 'school_bus',\n",
       " 'eschrichtius_robustus',\n",
       " 'hyena_dog',\n",
       " 'bustard',\n",
       " 'chlamydosaurus_kingi',\n",
       " 'scotch_terrier',\n",
       " 'meatloaf',\n",
       " 'great_gray_owl',\n",
       " 'anolis_carolinensis',\n",
       " 'stop_watch',\n",
       " 'sussex_spaniel',\n",
       " 'english_cocker_spaniel',\n",
       " 'american_eagle',\n",
       " 'limpkin',\n",
       " 'limo',\n",
       " 'spatula',\n",
       " 'maypole',\n",
       " 'dipper',\n",
       " 'digital_watch',\n",
       " 'travel',\n",
       " 'cassette_player',\n",
       " 'gray_whale',\n",
       " 'whippet',\n",
       " 'papillon',\n",
       " 'carcharodon_carcharias',\n",
       " 'cheeseburger',\n",
       " 'photocopier',\n",
       " 'salt_shaker',\n",
       " 'loudspeaker_system',\n",
       " 'necklace',\n",
       " 'knapsack',\n",
       " 'military_uniform',\n",
       " 'kimono',\n",
       " 'family',\n",
       " 'limousine',\n",
       " 'ice_lolly',\n",
       " 'panthera_uncia',\n",
       " 'brittany_spaniel',\n",
       " 'mobile_phone',\n",
       " 'kakatoe_galerita',\n",
       " 'briard',\n",
       " 'patio',\n",
       " 'buckle',\n",
       " 'boston_terrier',\n",
       " 'grey_whale',\n",
       " 'australian_terrier',\n",
       " 'docking_facility',\n",
       " 'academic_robe',\n",
       " 'ursus_maritimus',\n",
       " 'ailuropoda_melanoleuca',\n",
       " 'plow',\n",
       " 'nursery',\n",
       " 'transverse_flute',\n",
       " 'redbone',\n",
       " 'lion',\n",
       " 'measuring_cup',\n",
       " 'computer_mouse',\n",
       " 'articulated_lorry',\n",
       " 'lycaon_pictus',\n",
       " 'estate_car',\n",
       " 'malamute',\n",
       " 'hautboy',\n",
       " 'bobtail',\n",
       " 'cypripedium_calceolus',\n",
       " 'broccoli',\n",
       " 'dragon_lizard',\n",
       " 'panda_bear',\n",
       " 'sewing_machine',\n",
       " 'water_buffalo',\n",
       " 'monkey_dog',\n",
       " 'sport_car',\n",
       " 'devilfish',\n",
       " 'varanus_komodoensis',\n",
       " 'samoyede',\n",
       " 'hay',\n",
       " 'golden_retriever',\n",
       " 'mortar',\n",
       " 'brambling',\n",
       " 'pitcher',\n",
       " 'affenpinscher',\n",
       " 'megalith',\n",
       " 'printer',\n",
       " 'walker_foxhound',\n",
       " 'tabby_cat',\n",
       " 'china_closet',\n",
       " 'people',\n",
       " 'sax',\n",
       " 'wallet',\n",
       " 'tray',\n",
       " 'road',\n",
       " 'irish_water_spaniel',\n",
       " 'ewer',\n",
       " 'solar_dish',\n",
       " 'malemute',\n",
       " 'persian_cat',\n",
       " 'ski',\n",
       " 'norfolk_terrier',\n",
       " 'volleyball',\n",
       " 'filing_cabinet',\n",
       " 'cocker',\n",
       " 'dog_sleigh',\n",
       " 'flagpole',\n",
       " 'website',\n",
       " 'chocolate_sauce',\n",
       " 'ballplayer',\n",
       " 'military_plane',\n",
       " 'bathing_tub',\n",
       " 'hot_dog',\n",
       " 'coucal',\n",
       " 'flagstaff',\n",
       " 'german_shepherd',\n",
       " 'dough',\n",
       " 'planetarium',\n",
       " 'radio_reflector',\n",
       " 'ski_mask',\n",
       " 'automatic_washer',\n",
       " 'go-kart',\n",
       " 'german_short-haired_pointer',\n",
       " 'polar_bear',\n",
       " 'shower_curtain',\n",
       " 'waffle_iron',\n",
       " 'tow_car',\n",
       " 'mask',\n",
       " 'typewriter_keyboard',\n",
       " 'world',\n",
       " 'automobile',\n",
       " 'miniature_schnauzer',\n",
       " 'mixing_bowl',\n",
       " 'siamese_cat',\n",
       " 'stove',\n",
       " 'egretta_caerulea',\n",
       " 'rucksack',\n",
       " 'barometer',\n",
       " 'crossword_puzzle',\n",
       " 'marimba',\n",
       " 'tiger',\n",
       " 'shopping',\n",
       " 'laboratory_coat',\n",
       " 'tow_truck',\n",
       " 'italian_greyhound',\n",
       " 'pizza',\n",
       " 'yellow_lady-slipper',\n",
       " 'bulletproof_vest',\n",
       " 'puck',\n",
       " 'pug',\n",
       " 'vacation',\n",
       " 'newfoundland_dog',\n",
       " 'station_waggon',\n",
       " 'passerina_cyanea',\n",
       " 'eskimo_dog',\n",
       " 'speaker',\n",
       " 'otterhound',\n",
       " 'saluki',\n",
       " 'sandbar',\n",
       " 'pocketbook',\n",
       " 'great_grey_owl',\n",
       " 'cliff_dwelling',\n",
       " 'football_helmet',\n",
       " 'teapot',\n",
       " 'dandie_dinmont_terrier',\n",
       " 'bridegroom',\n",
       " 'piano_accordion',\n",
       " 'cowboy_boot',\n",
       " 'ice_bear',\n",
       " 'blue_jean',\n",
       " 'prairie_grouse',\n",
       " 'cypripedium_parviflorum',\n",
       " 'vat',\n",
       " 'taxi',\n",
       " 'spotlight',\n",
       " 'milometer',\n",
       " 'hand-held_microcomputer',\n",
       " 'solar_furnace',\n",
       " 'french_horn',\n",
       " 'yorkshire_terrier',\n",
       " 'politics',\n",
       " 'eating_house',\n",
       " 'potpie',\n",
       " 'carduelis_carduelis',\n",
       " 'clumber',\n",
       " 'hourglass',\n",
       " 'fulica_americana',\n",
       " 'band_aid',\n",
       " 'red_wine',\n",
       " 'strainer',\n",
       " 'station_wagon',\n",
       " 'ambulance',\n",
       " 'cardigan',\n",
       " 'hyena',\n",
       " 'tramcar',\n",
       " 'teddy',\n",
       " 'speaker_unit',\n",
       " 'soda_bottle',\n",
       " 'saxophone',\n",
       " 'killer_whale',\n",
       " 'ring_armor',\n",
       " 'mileometer',\n",
       " 'restaurant',\n",
       " 'bull_mastiff',\n",
       " 'airedale_terrier',\n",
       " 'norwich_terrier',\n",
       " 'waggon',\n",
       " 'cauliflower',\n",
       " 'dust_cover',\n",
       " 'basset_hound',\n",
       " 'bowtie',\n",
       " 'irish_terrier',\n",
       " 'dining_table',\n",
       " 'sweatshirt',\n",
       " 'leonberg',\n",
       " 'head_cabbage',\n",
       " 'fire_engine',\n",
       " 'hen_of_the_woods',\n",
       " 'iguana_iguana',\n",
       " 'old_english_sheepdog',\n",
       " 'abaya',\n",
       " 'half_track',\n",
       " 'cloak',\n",
       " 'membranophone',\n",
       " 'computer_keyboard',\n",
       " 'european_gallinule',\n",
       " 'baseball',\n",
       " 'thatch',\n",
       " 'white_stork',\n",
       " 't-shirt',\n",
       " 'confectionary',\n",
       " 'thatched_roof',\n",
       " 'drumstick',\n",
       " 'essence',\n",
       " 'panthera_tigris',\n",
       " 'dishwashing_machine',\n",
       " 'flat-coated_retriever',\n",
       " 'wire-haired_fox_terrier',\n",
       " 'hockey_puck',\n",
       " 'chamaeleo_chamaeleon',\n",
       " 'prairie_chicken',\n",
       " 'meat_cleaver',\n",
       " 'passenger_car',\n",
       " 'barbell',\n",
       " 'radio_telescope',\n",
       " 'crane_(bird)',\n",
       " 'bicycle-built-for-two',\n",
       " 'miniature_pinscher',\n",
       " 'butcher_shop',\n",
       " 'bloodhound',\n",
       " 'scooter',\n",
       " 'cairn',\n",
       " 'life',\n",
       " 'barracouta',\n",
       " 'standard_schnauzer',\n",
       " 'reel',\n",
       " 'hotpot',\n",
       " 'orcinus_orca',\n",
       " 'pajama',\n",
       " 'mike',\n",
       " 'lynx',\n",
       " 'tile_roof',\n",
       " 'silky_terrier',\n",
       " 'dog_sled',\n",
       " 'theater_curtain',\n",
       " 'scottish_terrier',\n",
       " 'stole',\n",
       " 'slide_rule',\n",
       " 'cygnus_atratus',\n",
       " 'indigo_bird',\n",
       " 'blenheim_spaniel',\n",
       " 'grocery_store',\n",
       " 'sydney_silky',\n",
       " 'tripod',\n",
       " 'ciconia_ciconia',\n",
       " 'snoek',\n",
       " 'egyptian_cat',\n",
       " 'irish_wolfhound',\n",
       " 'joystick',\n",
       " 'lakeshore',\n",
       " 'dark_glasses',\n",
       " 'basset',\n",
       " 'panthera_onca',\n",
       " 'tibetan_mastiff',\n",
       " 'window_screen',\n",
       " 'crossword',\n",
       " 'violin',\n",
       " 'bernese_mountain_dog',\n",
       " 'hip',\n",
       " 'coast',\n",
       " 'tandem',\n",
       " 'back_pack',\n",
       " 'dust_wrapper',\n",
       " 'bullet',\n",
       " 'deerhound',\n",
       " 'staffordshire_bullterrier',\n",
       " 'candy_store',\n",
       " 'race_car',\n",
       " 'manhole_cover',\n",
       " 'eschrichtius_gibbosus',\n",
       " 'landrover',\n",
       " 'economy',\n",
       " 'mud_hen',\n",
       " 'pole',\n",
       " 'lhasa_apso',\n",
       " 'entlebucher',\n",
       " 'caldron',\n",
       " 'board',\n",
       " 'marsh_hen',\n",
       " 'plate',\n",
       " 'overskirt',\n",
       " 'seashore',\n",
       " 'book_jacket',\n",
       " 'magpie',\n",
       " 'health',\n",
       " 'jeep',\n",
       " 'aramus_pictus',\n",
       " 'bullet_train',\n",
       " 'espresso',\n",
       " 'komodo_lizard',\n",
       " 'mouse',\n",
       " 'vestment',\n",
       " 'entertainment_center',\n",
       " 'notecase',\n",
       " 'washer',\n",
       " 'king_of_beasts',\n",
       " 'xylophone',\n",
       " 'meat_loaf',\n",
       " 'cinema',\n",
       " 'shetland_sheepdog',\n",
       " 'bear_cat',\n",
       " 'stage',\n",
       " 'iguana',\n",
       " 'meat_market',\n",
       " 'terrace',\n",
       " 'goblet',\n",
       " 'plough',\n",
       " 'cellular_phone',\n",
       " 'lens_cover',\n",
       " 'drum',\n",
       " 'tractor_trailer',\n",
       " 'race',\n",
       " 'giant_lizard',\n",
       " 'refrigerator',\n",
       " 'zucchini',\n",
       " 'bars',\n",
       " 'dust_jacket',\n",
       " 'letter_box',\n",
       " 'tandem_bicycle',\n",
       " 'african_chameleon',\n",
       " 'frypan',\n",
       " 'lorikeet',\n",
       " 'tympan',\n",
       " 'ounce',\n",
       " 'mail',\n",
       " 'saltshaker',\n",
       " 'disc_brake',\n",
       " 'cocktail_shaker',\n",
       " 'siamese',\n",
       " 'fig',\n",
       " 'theatre_curtain',\n",
       " 'perfume',\n",
       " 'doberman',\n",
       " 'paddle',\n",
       " 'alopex_lagopus',\n",
       " 'r.v.',\n",
       " 'bald_eagle',\n",
       " 'model_t',\n",
       " 'glasshouse',\n",
       " 'garden_cart',\n",
       " 'tabby',\n",
       " 'wagon',\n",
       " 'drop',\n",
       " 'sealyham_terrier',\n",
       " 'warplane',\n",
       " 'jersey',\n",
       " 'ring_mail',\n",
       " 'mousetrap',\n",
       " 'china_cabinet',\n",
       " 'panthera_leo',\n",
       " 'tobacconist_shop',\n",
       " 'streetcar',\n",
       " 'alaskan_malamute',\n",
       " 'apiary']"
      ]
     },
     "execution_count": 410,
     "metadata": {},
     "output_type": "execute_result"
    }
   ],
   "source": [
    "maf"
   ]
  },
  {
   "cell_type": "code",
   "execution_count": 411,
   "metadata": {},
   "outputs": [
    {
     "data": {
      "text/plain": [
       "1102"
      ]
     },
     "execution_count": 411,
     "metadata": {},
     "output_type": "execute_result"
    }
   ],
   "source": [
    "len(call)"
   ]
  },
  {
   "cell_type": "code",
   "execution_count": 412,
   "metadata": {},
   "outputs": [
    {
     "name": "stdout",
     "output_type": "stream",
     "text": [
      "['Non-Alcoholic Beverages', 'closet', 'rosehip', 'appenzeller']\n"
     ]
    }
   ],
   "source": [
    "print(call[159:163])"
   ]
  },
  {
   "cell_type": "code",
   "execution_count": 413,
   "metadata": {},
   "outputs": [],
   "source": [
    "tokenizer = tiktoken.get_encoding(\"cl100k_base\")"
   ]
  },
  {
   "cell_type": "code",
   "execution_count": 414,
   "metadata": {},
   "outputs": [
    {
     "name": "stderr",
     "output_type": "stream",
     "text": [
      "100%|██████████| 160/160 [00:00<00:00, 3068.00it/s]\n"
     ]
    }
   ],
   "source": [
    "#create doc query\n",
    "expanded_call=[]\n",
    "\n",
    "for items in tqdm(iab_labels):\n",
    "    for dic in IAB_KG:\n",
    "        key=list(dic.keys())[0]\n",
    "        if items==key:\n",
    "            list_items=dic[key]\n",
    "\n",
    "\n",
    "    string_list=\" \".join(list_items)\n",
    "    string_list=string_list+' '+items\n",
    "    string_list=string_list.replace(\"_\", \" \")\n",
    "    length=len(tokenizer.encode(string_list))\n",
    "    if length>=8192:\n",
    "        print(items)\n",
    "    expanded_call.append(string_list)"
   ]
  },
  {
   "cell_type": "code",
   "execution_count": 415,
   "metadata": {},
   "outputs": [
    {
     "data": {
      "text/plain": [
       "'video games consoles PC gaming online gaming multiplayer single player gaming community eSports virtual reality mobile gaming gaming industry game development game design game genres game mechanics gaming peripherals gaming culture game streaming game reviews gaming addiction game mods gaming tournaments game marketing Video Gaming'"
      ]
     },
     "execution_count": 415,
     "metadata": {},
     "output_type": "execute_result"
    }
   ],
   "source": [
    "expanded_call[23]"
   ]
  },
  {
   "cell_type": "code",
   "execution_count": 416,
   "metadata": {},
   "outputs": [
    {
     "name": "stderr",
     "output_type": "stream",
     "text": [
      "100%|██████████| 942/942 [00:00<00:00, 2512.58it/s]\n"
     ]
    }
   ],
   "source": [
    "for items in tqdm(maf):\n",
    "    for dic in MAF_KG:\n",
    "        key=list(dic.keys())[0]\n",
    "        if items==key:\n",
    "            list_items=dic[key]\n",
    "\n",
    "\n",
    "    string_list=\" \".join(list_items)\n",
    "    string_list=string_list+' '+ items\n",
    "    string_list=string_list.replace(\"_\", \" \")\n",
    "    length=len(tokenizer.encode(string_list))\n",
    "    if length>=8192:\n",
    "        print(items)\n",
    "    expanded_call.append(string_list)\n",
    "\n"
   ]
  },
  {
   "cell_type": "code",
   "execution_count": 417,
   "metadata": {},
   "outputs": [
    {
     "data": {
      "text/plain": [
       "'Lynx Wildcat Carnivore Endangered species Habitat loss Forests Prey Hunting Conservation Animal behavior Predator Adaptation Camouflage Eurasian lynx Canada lynx Iberian lynx Bobcat Lynx kittens Ecosystems Biodiversity theater curtain'"
      ]
     },
     "execution_count": 417,
     "metadata": {},
     "output_type": "execute_result"
    }
   ],
   "source": [
    "expanded_call[982]"
   ]
  },
  {
   "cell_type": "code",
   "execution_count": 418,
   "metadata": {},
   "outputs": [
    {
     "data": {
      "text/plain": [
       "['Hair Care',\n",
       " 'Shaving',\n",
       " 'Motorcycles',\n",
       " \"Women's Formal Wear\",\n",
       " \"Women's Clothing\",\n",
       " 'Retail Industry',\n",
       " 'Comedy Events',\n",
       " 'Household Supplies',\n",
       " 'Home Security',\n",
       " 'Polar Travel']"
      ]
     },
     "execution_count": 418,
     "metadata": {},
     "output_type": "execute_result"
    }
   ],
   "source": [
    "call[0:10]"
   ]
  },
  {
   "cell_type": "code",
   "execution_count": 419,
   "metadata": {},
   "outputs": [],
   "source": [
    "total_embeddings_old=[]"
   ]
  },
  {
   "cell_type": "code",
   "execution_count": 475,
   "metadata": {},
   "outputs": [],
   "source": [
    "total_embeddings=[]"
   ]
  },
  {
   "cell_type": "code",
   "execution_count": 424,
   "metadata": {},
   "outputs": [],
   "source": [
    "def create_embeddings(item,total_embeddings):\n",
    "    deployment_name= azureconfig['deployment_name']\n",
    "\n",
    "    response = openai.Embedding.create(\n",
    "        input=item,\n",
    "        engine=deployment_name\n",
    "    )\n",
    "    embeddings = response['data'][0]['embedding']\n",
    "    total_embeddings.append(embeddings)\n",
    "\n",
    "    "
   ]
  },
  {
   "cell_type": "code",
   "execution_count": 471,
   "metadata": {},
   "outputs": [],
   "source": [
    "with open('data/two_hop_expanded.pkl', 'rb') as f:\n",
    "    expanded_call=pkl.load(f)"
   ]
  },
  {
   "cell_type": "code",
   "execution_count": 476,
   "metadata": {},
   "outputs": [
    {
     "name": "stderr",
     "output_type": "stream",
     "text": [
      "100%|██████████| 1102/1102 [02:33<00:00,  7.19it/s]\n"
     ]
    }
   ],
   "source": [
    "for items in tqdm(expanded_call):\n",
    "    create_embeddings(items,total_embeddings)"
   ]
  },
  {
   "cell_type": "code",
   "execution_count": 477,
   "metadata": {},
   "outputs": [
    {
     "data": {
      "text/plain": [
       "1102"
      ]
     },
     "execution_count": 477,
     "metadata": {},
     "output_type": "execute_result"
    }
   ],
   "source": [
    "len(total_embeddings)"
   ]
  },
  {
   "cell_type": "code",
   "execution_count": 478,
   "metadata": {},
   "outputs": [],
   "source": [
    "iab_embeddings=total_embeddings[0:160]"
   ]
  },
  {
   "cell_type": "code",
   "execution_count": 479,
   "metadata": {},
   "outputs": [],
   "source": [
    "maf_embeddings=total_embeddings[160:]"
   ]
  },
  {
   "cell_type": "code",
   "execution_count": 482,
   "metadata": {},
   "outputs": [],
   "source": [
    "def calculate_precision_recall(true_labels, predictions):\n",
    "    true_positives = sum(1 for pred in predictions if pred in true_labels)\n",
    "    false_positives = len(predictions) - true_positives\n",
    "    false_negatives = len(true_labels) - true_positives\n",
    "    \n",
    "    precision = true_positives / (true_positives + false_positives)\n",
    "    recall = true_positives / (true_positives + false_negatives)\n",
    "    \n",
    "    return precision, recall"
   ]
  },
  {
   "cell_type": "code",
   "execution_count": 483,
   "metadata": {},
   "outputs": [],
   "source": [
    "def calculate_f1_score(precision, recall):\n",
    "    if precision + recall == 0:\n",
    "        return 0\n",
    "    f1_score = 2 * (precision * recall) / (precision + recall)\n",
    "    return f1_score"
   ]
  },
  {
   "cell_type": "code",
   "execution_count": 484,
   "metadata": {},
   "outputs": [],
   "source": [
    "nodes=df_MAF['item'].to_list()\n",
    "node_id=df_MAF['node_id'].to_list()\n",
    "IAB_Candidates=df_MAF['IAB_Candidates'].to_list()\n",
    "H_Mappings=df_MAF['H_Scores'].to_list()"
   ]
  },
  {
   "cell_type": "code",
   "execution_count": 485,
   "metadata": {},
   "outputs": [
    {
     "name": "stdout",
     "output_type": "stream",
     "text": [
      "[[0.72195021]]\n"
     ]
    }
   ],
   "source": [
    "cos_sim=cosine_similarity(np.array(iab_embeddings[90]).reshape(1,-1),np.array(maf_embeddings[12]).reshape(1,-1))\n",
    "print(cos_sim)"
   ]
  },
  {
   "cell_type": "code",
   "execution_count": 530,
   "metadata": {},
   "outputs": [
    {
     "name": "stderr",
     "output_type": "stream",
     "text": [
      "100%|██████████| 942/942 [01:14<00:00, 12.56it/s]\n"
     ]
    }
   ],
   "source": [
    "top_n_labels_new=[]\n",
    "top_n_cosines_new=[]\n",
    "top_n_nodes=[]\n",
    "top_n_node_ids=[]\n",
    "top_n_IAB_Candidates=[]\n",
    "top_n_H_scores=[]\n",
    "top_n_labels=[]\n",
    "top_n_cosines=[]\n",
    "\n",
    "for i in tqdm(range(len(maf_embeddings))):\n",
    "    similarities=[]\n",
    "    for j in range(len(iab_embeddings)):\n",
    "        cos_sim=cosine_similarity(np.array(iab_embeddings[j]).reshape(1,-1),np.array(maf_embeddings[i]).reshape(1,-1))\n",
    "        similarities.append([call[160+j],call[j],cos_sim])\n",
    "    \n",
    "    similarities.sort(key=lambda x: x[2], reverse=True)\n",
    "\n",
    "\n",
    "    #threshold logic needed\n",
    "    similarities=[x for x in similarities if x[2]>=0.740]\n",
    "\n",
    "    \n",
    "    \n",
    "    if len(similarities)==0:\n",
    "        similarities.append(['No_Pred','No_Pred',[[0]]])\n",
    "    \n",
    "    temp_iab_labels=[]\n",
    "    temp_cosines=[]\n",
    "\n",
    "\n",
    "    for items in similarities:\n",
    "        #print(items[1])\n",
    "        temp_iab_labels.append(items[1])\n",
    "        temp_cosines.append(items[2][0])\n",
    "        \n",
    "        top_n_labels_new.append(items[1])\n",
    "        top_n_cosines_new.append(items[2][0])\n",
    "        top_n_nodes.append(nodes[i])\n",
    "        top_n_node_ids.append(node_id[i])\n",
    "        top_n_IAB_Candidates.append(IAB_Candidates[i])\n",
    "        top_n_H_scores.append(H_Mappings[i])\n",
    "\n",
    "\n",
    "    \n",
    "    top_n_labels.append(temp_iab_labels)\n",
    "    top_n_cosines.append(temp_cosines)\n"
   ]
  },
  {
   "cell_type": "code",
   "execution_count": 531,
   "metadata": {},
   "outputs": [
    {
     "data": {
      "text/plain": [
       "942"
      ]
     },
     "execution_count": 531,
     "metadata": {},
     "output_type": "execute_result"
    }
   ],
   "source": [
    "len(top_n_labels)"
   ]
  },
  {
   "cell_type": "code",
   "execution_count": 532,
   "metadata": {},
   "outputs": [
    {
     "data": {
      "text/plain": [
       "90880"
      ]
     },
     "execution_count": 532,
     "metadata": {},
     "output_type": "execute_result"
    }
   ],
   "source": [
    "len(top_n_labels_new)"
   ]
  },
  {
   "cell_type": "code",
   "execution_count": 533,
   "metadata": {},
   "outputs": [
    {
     "data": {
      "text/plain": [
       "942"
      ]
     },
     "execution_count": 533,
     "metadata": {},
     "output_type": "execute_result"
    }
   ],
   "source": [
    "len(top_n_cosines)"
   ]
  },
  {
   "cell_type": "code",
   "execution_count": 534,
   "metadata": {},
   "outputs": [],
   "source": [
    "MAF_predictions=df_MAF['IAB_Candidates'].to_list()"
   ]
  },
  {
   "cell_type": "code",
   "execution_count": 535,
   "metadata": {},
   "outputs": [
    {
     "data": {
      "text/plain": [
       "\"['Dogs']\""
      ]
     },
     "execution_count": 535,
     "metadata": {},
     "output_type": "execute_result"
    }
   ],
   "source": [
    "MAF_predictions[3]"
   ]
  },
  {
   "cell_type": "code",
   "execution_count": 536,
   "metadata": {},
   "outputs": [],
   "source": [
    "candidate_count=0\n",
    "hit_count=0\n",
    "precision=0\n",
    "recall=0\n",
    "count=0\n",
    "f1=0\n",
    "\n",
    "for predictions, labels in zip(MAF_predictions,top_n_labels):\n",
    "    count+=1\n",
    "    proper=ast.literal_eval(predictions)\n",
    "    prec, reca=calculate_precision_recall(predictions, labels)\n",
    "\n",
    "    f=calculate_f1_score(prec, reca)\n",
    "    precision+=prec\n",
    "    recall+=reca\n",
    "    f1+=f\n",
    "\n",
    "\n",
    "    candidate_count+=len(proper)\n",
    "    for items in labels:\n",
    "        if items in proper:\n",
    "            hit_count+=1"
   ]
  },
  {
   "cell_type": "code",
   "execution_count": 537,
   "metadata": {},
   "outputs": [
    {
     "data": {
      "text/plain": [
       "0.8633610900832702"
      ]
     },
     "execution_count": 537,
     "metadata": {},
     "output_type": "execute_result"
    }
   ],
   "source": [
    "hit_count/candidate_count"
   ]
  },
  {
   "cell_type": "code",
   "execution_count": 538,
   "metadata": {},
   "outputs": [
    {
     "data": {
      "text/plain": [
       "0.029679901153189588"
      ]
     },
     "execution_count": 538,
     "metadata": {},
     "output_type": "execute_result"
    }
   ],
   "source": [
    "precision/942"
   ]
  },
  {
   "cell_type": "code",
   "execution_count": 539,
   "metadata": {},
   "outputs": [
    {
     "data": {
      "text/plain": [
       "0.07043897367630077"
      ]
     },
     "execution_count": 539,
     "metadata": {},
     "output_type": "execute_result"
    }
   ],
   "source": [
    "recall/942"
   ]
  },
  {
   "cell_type": "code",
   "execution_count": 540,
   "metadata": {},
   "outputs": [
    {
     "data": {
      "text/plain": [
       "0.03269189868365176"
      ]
     },
     "execution_count": 540,
     "metadata": {},
     "output_type": "execute_result"
    }
   ],
   "source": [
    "f1/942"
   ]
  },
  {
   "cell_type": "code",
   "execution_count": null,
   "metadata": {},
   "outputs": [],
   "source": [
    "dic={'item':top_n_nodes, 'node_id': top_n_node_ids, 'IAB_Candidates': top_n_IAB_Candidates,\n",
    "'predictions': top_n_labels_new, 'cosine_predicted': top_n_cosines_new, \"H_Mapping_scores\": top_n_H_scores }"
   ]
  },
  {
   "cell_type": "code",
   "execution_count": null,
   "metadata": {},
   "outputs": [],
   "source": [
    "df_MAF_new=pd.DataFrame.from_dict(dic)"
   ]
  },
  {
   "cell_type": "code",
   "execution_count": null,
   "metadata": {},
   "outputs": [],
   "source": [
    "df_MAF_new.to_excel('results/OpenAI_results_0.755_new.xlsx')"
   ]
  },
  {
   "cell_type": "code",
   "execution_count": null,
   "metadata": {},
   "outputs": [],
   "source": [
    "df_MAF_new.shape"
   ]
  },
  {
   "cell_type": "code",
   "execution_count": null,
   "metadata": {},
   "outputs": [],
   "source": [
    "#Top 100 in predictions but not in embedding"
   ]
  },
  {
   "cell_type": "code",
   "execution_count": null,
   "metadata": {},
   "outputs": [],
   "source": [
    "df_MAF_new=df_MAF_new.sort_values(by='cosine_predicted', ascending=False)"
   ]
  },
  {
   "cell_type": "code",
   "execution_count": null,
   "metadata": {},
   "outputs": [],
   "source": [
    "df_MAF_new.iloc[0]"
   ]
  },
  {
   "cell_type": "code",
   "execution_count": null,
   "metadata": {},
   "outputs": [],
   "source": [
    "top_100_node=[]\n",
    "top_100_embedding_pred=[]\n",
    "top_100_H_pred=[]\n",
    "top_100_cos_pred=[]\n",
    "top_100_H_score=[]"
   ]
  },
  {
   "cell_type": "code",
   "execution_count": null,
   "metadata": {},
   "outputs": [],
   "source": [
    "items=df_MAF_new['item'].to_list()\n",
    "IAB_Candidates=df_MAF_new['IAB_Candidates'].to_list()\n",
    "predictions=df_MAF_new['predictions'].to_list()\n",
    "cosine_predicted=df_MAF_new['cosine_predicted'].to_list()\n",
    "H_Mapping_scores=df_MAF_new['H_Mapping_scores'].to_list()"
   ]
  },
  {
   "cell_type": "code",
   "execution_count": null,
   "metadata": {},
   "outputs": [],
   "source": [
    "for item,IAB,pred,cos,H_map in tqdm(zip(items,IAB_Candidates,predictions,cosine_predicted,H_Mapping_scores)):\n",
    "    pred_list=ast.literal_eval(IAB)\n",
    "    if pred not in pred_list:\n",
    "        top_100_node.append(item)\n",
    "        top_100_embedding_pred.append(pred)\n",
    "        top_100_H_pred.append(IAB)\n",
    "        top_100_cos_pred.append(cos)\n",
    "        top_100_H_score.append(H_map)\n",
    "    if len(top_100_node)==100:\n",
    "        break"
   ]
  },
  {
   "cell_type": "code",
   "execution_count": null,
   "metadata": {},
   "outputs": [],
   "source": [
    "top_100_dic={'items':top_100_node, 'Embedding Predictions': top_100_embedding_pred,\n",
    " \"H_Mapping_Pred\": top_100_H_pred, 'Predicted Cosine': top_100_cos_pred, \n",
    " 'H Mapping Cosine': top_100_H_score}"
   ]
  },
  {
   "cell_type": "code",
   "execution_count": null,
   "metadata": {},
   "outputs": [],
   "source": [
    "df_top_100=pd.DataFrame.from_dict(top_100_dic)"
   ]
  },
  {
   "cell_type": "code",
   "execution_count": null,
   "metadata": {},
   "outputs": [],
   "source": [
    "df_top_100.to_excel('results/OpenAI_Top_100_Not_In_H.xlsx', index=False)"
   ]
  },
  {
   "cell_type": "code",
   "execution_count": null,
   "metadata": {},
   "outputs": [],
   "source": [
    "#Top 100 in H but not in Embedding"
   ]
  },
  {
   "cell_type": "code",
   "execution_count": null,
   "metadata": {},
   "outputs": [],
   "source": [
    "print(top_n_labels[5])\n",
    "print(top_n_cosines[5])"
   ]
  },
  {
   "cell_type": "code",
   "execution_count": null,
   "metadata": {},
   "outputs": [],
   "source": [
    "nodes=df_MAF['item'].to_list()\n",
    "# node_id=df_MAF['node_id'].to_list()\n",
    "IAB_Candidates=df_MAF['IAB_Candidates'].to_list()\n",
    "H_Mappings=df_MAF['H_Scores'].to_list()"
   ]
  },
  {
   "cell_type": "code",
   "execution_count": null,
   "metadata": {},
   "outputs": [],
   "source": [
    "mid_node=[]\n",
    "mid_IAB=[]\n",
    "mid_label=[]\n",
    "mid_cos=[]\n",
    "mid_H_map=[]\n",
    "\n",
    "for node, IAB, label, cos, H_map in tqdm(zip(nodes,IAB_Candidates,top_n_labels,top_n_cosines,H_Mappings)):\n",
    "    IAB_list=ast.literal_eval(IAB)\n",
    "    H_Map_list=ast.literal_eval(H_map)\n",
    "    for IAB_item, H_Map_item in zip(IAB_list,H_Map_list):\n",
    "        mid_node.append(node)\n",
    "        mid_IAB.append(IAB_item)\n",
    "        mid_label.append(label)\n",
    "        mid_cos.append(cos)\n",
    "        mid_H_map.append(H_Map_item)"
   ]
  },
  {
   "cell_type": "code",
   "execution_count": null,
   "metadata": {},
   "outputs": [],
   "source": [
    "dic={'item':mid_node, 'IAB_Candidates': mid_IAB,\n",
    "'predictions': mid_label, 'cosine_predicted': mid_cos, \"H_Mapping_scores\": mid_H_map}"
   ]
  },
  {
   "cell_type": "code",
   "execution_count": null,
   "metadata": {},
   "outputs": [],
   "source": [
    "df_lol_100=pd.DataFrame.from_dict(dic)"
   ]
  },
  {
   "cell_type": "code",
   "execution_count": null,
   "metadata": {},
   "outputs": [],
   "source": [
    "df_lol_100=df_lol_100.sort_values(by='H_Mapping_scores', ascending=False)"
   ]
  },
  {
   "cell_type": "code",
   "execution_count": null,
   "metadata": {},
   "outputs": [],
   "source": [
    "df_lol_100.head()"
   ]
  },
  {
   "cell_type": "code",
   "execution_count": null,
   "metadata": {},
   "outputs": [],
   "source": [
    "top_100_node=[]\n",
    "top_100_embedding_pred=[]\n",
    "top_100_H_pred=[]\n",
    "top_100_cos_pred=[]\n",
    "top_100_H_score=[]"
   ]
  },
  {
   "cell_type": "code",
   "execution_count": null,
   "metadata": {},
   "outputs": [],
   "source": [
    "items=df_lol_100['item'].to_list()\n",
    "IAB_Candidates=df_lol_100['IAB_Candidates'].to_list()\n",
    "predictions=df_lol_100['predictions'].to_list()\n",
    "cosine_predicted=df_lol_100['cosine_predicted'].to_list()\n",
    "H_Mapping_scores=df_lol_100['H_Mapping_scores'].to_list()"
   ]
  },
  {
   "cell_type": "code",
   "execution_count": null,
   "metadata": {},
   "outputs": [],
   "source": [
    "for item,IAB,pred,cos,H_map in tqdm(zip(items,IAB_Candidates,predictions,cosine_predicted,H_Mapping_scores)):\n",
    "    #pred_list=ast.literal_eval(pred)\n",
    "    if IAB not in pred:\n",
    "        top_100_node.append(item)\n",
    "        top_100_embedding_pred.append(pred)\n",
    "        top_100_H_pred.append(IAB)\n",
    "        top_100_cos_pred.append(cos)\n",
    "        top_100_H_score.append(H_map)\n",
    "    if len(top_100_node)==100:\n",
    "        break"
   ]
  },
  {
   "cell_type": "code",
   "execution_count": null,
   "metadata": {},
   "outputs": [],
   "source": [
    "top_100_dic={'items':top_100_node, 'Embedding Predictions': top_100_embedding_pred,\n",
    " \"H_Mapping_Pred\": top_100_H_pred, 'Predicted Cosine': top_100_cos_pred, \n",
    " 'H Mapping Cosine': top_100_H_score}"
   ]
  },
  {
   "cell_type": "code",
   "execution_count": null,
   "metadata": {},
   "outputs": [],
   "source": [
    "df_top_100=pd.DataFrame.from_dict(top_100_dic)"
   ]
  },
  {
   "cell_type": "code",
   "execution_count": null,
   "metadata": {},
   "outputs": [],
   "source": [
    "df_top_100.to_excel('results/Top_100_Not_In_OpenAI.xlsx', index=False)"
   ]
  }
 ],
 "metadata": {
  "kernelspec": {
   "display_name": "KG",
   "language": "python",
   "name": "python3"
  },
  "language_info": {
   "codemirror_mode": {
    "name": "ipython",
    "version": 3
   },
   "file_extension": ".py",
   "mimetype": "text/x-python",
   "name": "python",
   "nbconvert_exporter": "python",
   "pygments_lexer": "ipython3",
   "version": "3.11.4"
  },
  "orig_nbformat": 4
 },
 "nbformat": 4,
 "nbformat_minor": 2
}
