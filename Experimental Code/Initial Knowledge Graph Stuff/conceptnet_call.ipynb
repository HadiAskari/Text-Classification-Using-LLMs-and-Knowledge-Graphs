{
 "cells": [
  {
   "cell_type": "code",
   "execution_count": 1,
   "metadata": {},
   "outputs": [
    {
     "name": "stderr",
     "output_type": "stream",
     "text": [
      "/Users/haskar140/anaconda3/envs/KG/lib/python3.11/site-packages/tqdm/auto.py:21: TqdmWarning: IProgress not found. Please update jupyter and ipywidgets. See https://ipywidgets.readthedocs.io/en/stable/user_install.html\n",
      "  from .autonotebook import tqdm as notebook_tqdm\n"
     ]
    }
   ],
   "source": [
    "import requests\n",
    "import pandas as pd\n",
    "import pickle as pkl\n",
    "import csv\n",
    "from tqdm.auto import tqdm\n",
    "from time import sleep"
   ]
  },
  {
   "cell_type": "code",
   "execution_count": 911,
   "metadata": {},
   "outputs": [],
   "source": [
    "obj = requests.get(\"http://api.conceptnet.io/query?node=/c/en/swimming_pool_outdoor&limit=10000\").json()"
   ]
  },
  {
   "cell_type": "code",
   "execution_count": 907,
   "metadata": {},
   "outputs": [
    {
     "data": {
      "text/plain": [
       "dict_keys(['@context', '@id', 'edges', 'version', 'view'])"
      ]
     },
     "execution_count": 907,
     "metadata": {},
     "output_type": "execute_result"
    }
   ],
   "source": [
    "obj.keys()"
   ]
  },
  {
   "cell_type": "code",
   "execution_count": 912,
   "metadata": {},
   "outputs": [
    {
     "data": {
      "text/plain": [
       "0"
      ]
     },
     "execution_count": 912,
     "metadata": {},
     "output_type": "execute_result"
    }
   ],
   "source": [
    "len(obj['edges'])"
   ]
  },
  {
   "cell_type": "code",
   "execution_count": 905,
   "metadata": {},
   "outputs": [
    {
     "data": {
      "text/plain": [
       "{'@id': '/a/[/r/ExternalURL/,/c/en/playing_squash/n/,/http://sw.opencyc.org/2012/05/10/concept/en/Playing_squash/]',\n",
       " '@type': 'Edge',\n",
       " 'dataset': '/d/opencyc',\n",
       " 'end': {'@id': 'http://sw.opencyc.org/2012/05/10/concept/en/Playing_squash',\n",
       "  '@type': 'Node',\n",
       "  'label': 'Playing squash',\n",
       "  'path': '/2012/05/10/concept/en/Playing_squash',\n",
       "  'site': 'sw.opencyc.org',\n",
       "  'site_available': False,\n",
       "  'term': 'http://sw.opencyc.org/2012/05/10/concept/en/Playing_squash'},\n",
       " 'license': 'cc:by/4.0',\n",
       " 'rel': {'@id': '/r/ExternalURL', '@type': 'Relation', 'label': 'ExternalURL'},\n",
       " 'sources': [{'@id': '/s/resource/opencyc/2012',\n",
       "   '@type': 'Source',\n",
       "   'contributor': '/s/resource/opencyc/2012'}],\n",
       " 'start': {'@id': '/c/en/playing_squash/n',\n",
       "  '@type': 'Node',\n",
       "  'label': 'playing squash',\n",
       "  'language': 'en',\n",
       "  'sense_label': 'n',\n",
       "  'term': '/c/en/playing_squash'},\n",
       " 'surfaceText': None,\n",
       " 'weight': 1.0}"
      ]
     },
     "execution_count": 905,
     "metadata": {},
     "output_type": "execute_result"
    }
   ],
   "source": [
    "obj['edges'][3]"
   ]
  },
  {
   "cell_type": "code",
   "execution_count": null,
   "metadata": {},
   "outputs": [],
   "source": [
    "#'/related/c/en/tea_kettle'"
   ]
  },
  {
   "cell_type": "code",
   "execution_count": 886,
   "metadata": {},
   "outputs": [],
   "source": [
    "obj = requests.get(\"http://api.conceptnet.io/related/c/en/playing_poker\").json()"
   ]
  },
  {
   "cell_type": "code",
   "execution_count": 887,
   "metadata": {},
   "outputs": [
    {
     "name": "stdout",
     "output_type": "stream",
     "text": [
      "{'@id': '/c/en/playing_poker', 'related': [{'@id': '/c/en/playing', 'weight': 1.0}, {'@id': '/c/ru/игральный', 'weight': 0.828}, {'@id': '/c/de/geigenspiel', 'weight': 0.787}, {'@id': '/c/ru/игровой', 'weight': 0.777}, {'@id': '/c/de/flötenspiel', 'weight': 0.765}, {'@id': '/c/de/klavierspielen', 'weight': 0.765}, {'@id': '/c/ja/弾じる', 'weight': 0.758}, {'@id': '/c/en/play', 'weight': 0.749}, {'@id': '/c/fr/play', 'weight': 0.749}, {'@id': '/c/ja/ざれ合う', 'weight': 0.749}, {'@id': '/c/ja/しばい', 'weight': 0.749}, {'@id': '/c/ja/たわぶれる', 'weight': 0.749}, {'@id': '/c/ja/戯れ合う', 'weight': 0.749}, {'@id': '/c/ja/掻きならす', 'weight': 0.749}, {'@id': '/c/ja/掻鳴らす', 'weight': 0.749}, {'@id': '/c/ja/童戯', 'weight': 0.749}, {'@id': '/c/ja/試合ぶり', 'weight': 0.749}, {'@id': '/c/ja/軽く扱う', 'weight': 0.749}, {'@id': '/c/es/jugando', 'weight': 0.747}, {'@id': '/c/es/jugándole', 'weight': 0.747}, {'@id': '/c/es/jugándolo', 'weight': 0.747}, {'@id': '/c/es/jugándome', 'weight': 0.747}, {'@id': '/c/es/jugándose', 'weight': 0.747}, {'@id': '/c/es/jugándote', 'weight': 0.747}, {'@id': '/c/de/spielen', 'weight': 0.746}, {'@id': '/c/de/spielens', 'weight': 0.746}, {'@id': '/c/de/spielet', 'weight': 0.746}, {'@id': '/c/de/spielfrei', 'weight': 0.746}, {'@id': '/c/de/spielfähig', 'weight': 0.746}, {'@id': '/c/de/spieljahr', 'weight': 0.746}, {'@id': '/c/de/spielmobil', 'weight': 0.746}, {'@id': '/c/de/spieloper', 'weight': 0.746}, {'@id': '/c/de/spielschar', 'weight': 0.746}, {'@id': '/c/de/spielst', 'weight': 0.746}, {'@id': '/c/de/spielte', 'weight': 0.746}, {'@id': '/c/de/spielten', 'weight': 0.746}, {'@id': '/c/de/spieltest', 'weight': 0.746}, {'@id': '/c/de/weiterspielen', 'weight': 0.746}, {'@id': '/c/de/spielalter', 'weight': 0.745}, {'@id': '/c/de/spielminute', 'weight': 0.745}, {'@id': '/c/ja/サテュロス劇', 'weight': 0.744}, {'@id': '/c/zh/嬉耍', 'weight': 0.744}, {'@id': '/c/ru/поиграв', 'weight': 0.744}, {'@id': '/c/ru/поигравший', 'weight': 0.744}, {'@id': '/c/ru/поиграем', 'weight': 0.744}, {'@id': '/c/ru/поиграет', 'weight': 0.744}, {'@id': '/c/ru/поиграете', 'weight': 0.744}, {'@id': '/c/ru/поиграешь', 'weight': 0.744}, {'@id': '/c/ru/поиграй', 'weight': 0.744}, {'@id': '/c/ru/поиграйте', 'weight': 0.744}]}\n"
     ]
    }
   ],
   "source": [
    "print(obj)"
   ]
  },
  {
   "cell_type": "code",
   "execution_count": 743,
   "metadata": {},
   "outputs": [],
   "source": [
    "#list of the terms\n",
    "meta_list=[]"
   ]
  },
  {
   "cell_type": "code",
   "execution_count": 3,
   "metadata": {},
   "outputs": [],
   "source": [
    "df_initialKG_only_H=pd.read_csv('data/InitialKG_Only_H.csv')"
   ]
  },
  {
   "cell_type": "code",
   "execution_count": 4,
   "metadata": {},
   "outputs": [],
   "source": [
    "IAB_keywords=df_initialKG_only_H.columns.to_list()"
   ]
  },
  {
   "cell_type": "code",
   "execution_count": 5,
   "metadata": {},
   "outputs": [
    {
     "data": {
      "text/plain": [
       "161"
      ]
     },
     "execution_count": 5,
     "metadata": {},
     "output_type": "execute_result"
    }
   ],
   "source": [
    "len(IAB_keywords)"
   ]
  },
  {
   "cell_type": "code",
   "execution_count": 746,
   "metadata": {},
   "outputs": [
    {
     "data": {
      "text/plain": [
       "'[]'"
      ]
     },
     "execution_count": 746,
     "metadata": {},
     "output_type": "execute_result"
    }
   ],
   "source": [
    "df_initialKG_only_H['Books and Literature'].iloc[0]"
   ]
  },
  {
   "cell_type": "code",
   "execution_count": 747,
   "metadata": {},
   "outputs": [],
   "source": [
    "with open('initial_KG_dic.pkl', 'rb') as f:\n",
    "    dic=pkl.load(f)"
   ]
  },
  {
   "cell_type": "code",
   "execution_count": 748,
   "metadata": {},
   "outputs": [
    {
     "data": {
      "text/plain": [
       "['minibus',\n",
       " 'limousine',\n",
       " 'convertible',\n",
       " 'grille',\n",
       " 'Wheel',\n",
       " 'auto_showroom',\n",
       " 'Car',\n",
       " 'Car',\n",
       " 'Car alarm',\n",
       " 'Car passing by',\n",
       " 'auto_factory',\n",
       " 'car_interior',\n",
       " 'parking_lot',\n",
       " 'Motor vehicle (road)',\n",
       " 'Truck',\n",
       " 'Vehicle',\n",
       " 'Vehicle horn, car horn, honking',\n",
       " 'driving car',\n",
       " 'Car',\n",
       " \"['Automobile', 'Road']\",\n",
       " \"['Travel', 'Transportation']\",\n",
       " 'Limousine',\n",
       " 'Land vehicle',\n",
       " 'Truck',\n",
       " 'Vehicle',\n",
       " \"['car mirror']\",\n",
       " \"['car wheel']\",\n",
       " \"['jeep', 'landrover']\",\n",
       " \"['limousine', 'limo']\",\n",
       " \"['pickup', 'pickup truck']\",\n",
       " \"['sports car', 'sport car']\"]"
      ]
     },
     "execution_count": 748,
     "metadata": {},
     "output_type": "execute_result"
    }
   ],
   "source": [
    "dic['Luxury Cars']['Related']"
   ]
  },
  {
   "cell_type": "code",
   "execution_count": 749,
   "metadata": {},
   "outputs": [],
   "source": [
    "def add_child_relations(df_initialKG_only_H, meta_list,dic):\n",
    "    column_names=df_initialKG_only_H.columns.to_list()\n",
    "    for column_name in column_names:\n",
    "        child_list=dic[column_name]['Children']\n",
    "        if len(child_list)==0:\n",
    "            continue\n",
    "        else:\n",
    "            #print(child_list)\n",
    "            for child in child_list:\n",
    "                #print(child)\n",
    "                if len(child)==0:\n",
    "                    continue\n",
    "                temp=[child,'is_child_of',column_name]\n",
    "                meta_list.append(temp)\n",
    "    \n",
    "    return meta_list\n",
    "\n",
    "\n",
    "    \n",
    "\n"
   ]
  },
  {
   "cell_type": "code",
   "execution_count": 750,
   "metadata": {},
   "outputs": [],
   "source": [
    "meta_list=add_child_relations(df_initialKG_only_H,meta_list,dic)"
   ]
  },
  {
   "cell_type": "code",
   "execution_count": 751,
   "metadata": {},
   "outputs": [
    {
     "name": "stdout",
     "output_type": "stream",
     "text": [
      "169\n"
     ]
    }
   ],
   "source": [
    "print(len(meta_list))"
   ]
  },
  {
   "cell_type": "code",
   "execution_count": 752,
   "metadata": {},
   "outputs": [
    {
     "name": "stdout",
     "output_type": "stream",
     "text": [
      "['Green Vehicles', 'is_child_of', 'Automotive']\n"
     ]
    }
   ],
   "source": [
    "print(meta_list[16])"
   ]
  },
  {
   "cell_type": "code",
   "execution_count": 753,
   "metadata": {},
   "outputs": [],
   "source": [
    "with open('KG_with_Only_Children_Adwords.pkl', 'wb') as f:\n",
    "    pkl.dump(meta_list, f)"
   ]
  },
  {
   "cell_type": "code",
   "execution_count": 766,
   "metadata": {},
   "outputs": [],
   "source": [
    "with open('KG_with_Only_Children_Adwords.pkl', 'rb') as f:\n",
    "    meta_list=pkl.load(f)"
   ]
  },
  {
   "cell_type": "code",
   "execution_count": 767,
   "metadata": {},
   "outputs": [
    {
     "name": "stdout",
     "output_type": "stream",
     "text": [
      "[['Space and Astronomy', 'is_child_of', 'Science'], ['Hotel Properties', 'is_child_of', 'Real Estate'], ['Office Property', 'is_child_of', 'Real Estate'], ['Houses', 'is_child_of', 'Real Estate'], ['Apartments', 'is_child_of', 'Real Estate'], ['Land and Farms', 'is_child_of', 'Real Estate'], ['Retail Property', 'is_child_of', 'Real Estate'], [\"Children's Games and Toys\", 'is_child_of', 'Shopping'], ['Flower Shopping', 'is_child_of', 'Shopping'], ['Grocery Shopping', 'is_child_of', 'Shopping'], ['Household Supplies', 'is_child_of', 'Shopping'], ['Holiday Shopping', 'is_child_of', 'Shopping'], ['College Education', 'is_child_of', 'Education'], ['Primary Education', 'is_child_of', 'Education'], ['Auto Parts', 'is_child_of', 'Automotive'], ['Luxury Cars', 'is_child_of', 'Automotive'], ['Green Vehicles', 'is_child_of', 'Automotive'], ['Auto Body Styles', 'is_child_of', 'Automotive'], ['Convertible', 'is_child_of', 'Automotive'], ['Auto Shows', 'is_child_of', 'Automotive'], ['Van', 'is_child_of', 'Automotive'], ['Commercial Trucks', 'is_child_of', 'Automotive'], ['Road-Side Assistance', 'is_child_of', 'Automotive'], ['Pickup Trucks', 'is_child_of', 'Automotive'], ['Coupe', 'is_child_of', 'Automotive'], ['Motorcycles', 'is_child_of', 'Automotive'], ['SUV', 'is_child_of', 'Automotive'], ['Auto Type', 'is_child_of', 'Automotive'], ['Auto Rentals', 'is_child_of', 'Automotive'], ['Sedan', 'is_child_of', 'Automotive'], ['Auto Repair', 'is_child_of', 'Automotive'], ['Minivan', 'is_child_of', 'Automotive'], ['Station Wagon', 'is_child_of', 'Automotive'], ['Casinos & Gambling', 'is_child_of', 'Events and Attractions'], ['Graduation', 'is_child_of', 'Events and Attractions'], ['Prom', 'is_child_of', 'Events and Attractions'], ['Bars & Restaurants', 'is_child_of', 'Events and Attractions'], ['Birthday', 'is_child_of', 'Events and Attractions'], ['Outdoor Activities', 'is_child_of', 'Events and Attractions'], ['Personal Celebrations & Life Events', 'is_child_of', 'Events and Attractions'], ['Theater Venues and Events', 'is_child_of', 'Events and Attractions'], ['Wedding', 'is_child_of', 'Events and Attractions'], ['Malls & Shopping Centers', 'is_child_of', 'Events and Attractions'], ['Parks & Nature', 'is_child_of', 'Events and Attractions'], ['Concerts & Music Events', 'is_child_of', 'Events and Attractions'], ['Awards Shows', 'is_child_of', 'Events and Attractions'], ['Fashion Events', 'is_child_of', 'Events and Attractions'], ['Cinemas and Events', 'is_child_of', 'Events and Attractions'], ['Zoos & Aquariums', 'is_child_of', 'Events and Attractions'], ['Museums & Galleries', 'is_child_of', 'Events and Attractions'], ['Comedy Events', 'is_child_of', 'Events and Attractions'], ['Religious Events', 'is_child_of', 'Events and Attractions'], ['Cats', 'is_child_of', 'Pets'], ['Birds', 'is_child_of', 'Pets'], ['Dogs', 'is_child_of', 'Pets'], ['Large Animals', 'is_child_of', 'Pets'], ['Reptiles', 'is_child_of', 'Pets'], ['Beach Travel', 'is_child_of', 'Travel'], ['Camping', 'is_child_of', 'Travel'], ['Hotels and Motels', 'is_child_of', 'Travel'], ['Cruises', 'is_child_of', 'Travel'], ['Africa Travel', 'is_child_of', 'Travel'], ['Asia Travel', 'is_child_of', 'Travel'], ['Europe Travel', 'is_child_of', 'Travel'], ['Rail Travel', 'is_child_of', 'Travel'], ['Travel Type', 'is_child_of', 'Travel'], ['Travel Locations', 'is_child_of', 'Travel'], ['Polar Travel', 'is_child_of', 'Travel'], ['Travel Accessories', 'is_child_of', 'Travel'], ['Air Travel', 'is_child_of', 'Travel'], ['South America Travel', 'is_child_of', 'Travel'], ['North America Travel', 'is_child_of', 'Travel'], ['Home Appliances', 'is_child_of', 'Home & Garden'], ['Gardening', 'is_child_of', 'Home & Garden'], ['Smart Home', 'is_child_of', 'Home & Garden'], ['Landscaping', 'is_child_of', 'Home & Garden'], ['Home Security', 'is_child_of', 'Home & Garden'], ['Home Entertaining', 'is_child_of', 'Home & Garden'], ['Home Improvement', 'is_child_of', 'Home & Garden'], ['Remodeling & Construction', 'is_child_of', 'Home & Garden'], ['Games and Puzzles', 'is_child_of', 'Hobbies & Interests'], ['Musical Instruments', 'is_child_of', 'Hobbies & Interests'], ['Board Games and Puzzles', 'is_child_of', 'Hobbies & Interests'], ['Card Games', 'is_child_of', 'Hobbies & Interests'], ['Smartphones', 'is_child_of', 'Technology & Computing'], ['Laptops', 'is_child_of', 'Technology & Computing'], ['Desktops', 'is_child_of', 'Technology & Computing'], ['Cameras and Camcorders', 'is_child_of', 'Technology & Computing'], ['Tablets and E-readers', 'is_child_of', 'Technology & Computing'], ['Computing', 'is_child_of', 'Technology & Computing'], ['Consumer Electronics', 'is_child_of', 'Technology & Computing'], ['Wellness', 'is_child_of', 'Healthy Living'], ['Fitness and Exercise', 'is_child_of', 'Healthy Living'], ['World Cuisines', 'is_child_of', 'Food & Drink'], ['Desserts and Baking', 'is_child_of', 'Food & Drink'], ['Non-Alcoholic Beverages', 'is_child_of', 'Food & Drink'], ['Dining Out', 'is_child_of', 'Food & Drink'], ['Cooking', 'is_child_of', 'Food & Drink'], ['Alcoholic Beverages', 'is_child_of', 'Food & Drink'], ['Barbecues and Grilling', 'is_child_of', 'Food & Drink'], ['Parenting', 'is_child_of', 'Family and Relationships'], ['Single Life', 'is_child_of', 'Family and Relationships'], ['Daycare and Pre-School', 'is_child_of', 'Family and Relationships'], ['Dating', 'is_child_of', 'Family and Relationships'], [\"Men's Fashion\", 'is_child_of', 'Style & Fashion'], ['Deodorant and Antiperspirant', 'is_child_of', 'Style & Fashion'], ['Personal Care', 'is_child_of', 'Style & Fashion'], ['Oral care', 'is_child_of', 'Style & Fashion'], ['Hair Care', 'is_child_of', 'Style & Fashion'], ['Makeup and Accessories', 'is_child_of', 'Style & Fashion'], ['Nail Care', 'is_child_of', 'Style & Fashion'], ['Perfume and Fragrance', 'is_child_of', 'Style & Fashion'], [\"Women's Shoes and Footwear\", 'is_child_of', 'Style & Fashion'], [\"Women's Fashion\", 'is_child_of', 'Style & Fashion'], ['Beauty', 'is_child_of', 'Style & Fashion'], [\"Men's Clothing\", 'is_child_of', 'Style & Fashion'], ['Bath and Shower', 'is_child_of', 'Style & Fashion'], ['Shaving', 'is_child_of', 'Style & Fashion'], [\"Women's Clothing\", 'is_child_of', 'Style & Fashion'], ['Media Industry', 'is_child_of', 'Business and Finance'], ['Hospitality Industry', 'is_child_of', 'Business and Finance'], ['Automotive Industry', 'is_child_of', 'Business and Finance'], ['Apparel Industry', 'is_child_of', 'Business and Finance'], ['Entertainment Industry', 'is_child_of', 'Business and Finance'], ['Healthcare Industry', 'is_child_of', 'Business and Finance'], ['Education industry', 'is_child_of', 'Business and Finance'], ['Telecommunications Industry', 'is_child_of', 'Business and Finance'], ['Logistics and Transportation Industry', 'is_child_of', 'Business and Finance'], ['Financial Industry', 'is_child_of', 'Business and Finance'], ['Industries', 'is_child_of', 'Business and Finance'], ['Aviation Industry', 'is_child_of', 'Business and Finance'], ['Technology Industry', 'is_child_of', 'Business and Finance'], ['Retail Industry', 'is_child_of', 'Business and Finance'], ['Food Industry', 'is_child_of', 'Business and Finance'], ['Smartphones', 'is_child_of', 'Consumer Electronics'], ['Tablets and E-readers', 'is_child_of', 'Consumer Electronics'], ['Cameras and Camcorders', 'is_child_of', 'Consumer Electronics'], ['Australia and Oceania Travel', 'is_child_of', 'Travel Locations'], ['Asia Travel', 'is_child_of', 'Travel Locations'], ['Africa Travel', 'is_child_of', 'Travel Locations'], ['Europe Travel', 'is_child_of', 'Travel Locations'], ['Polar Travel', 'is_child_of', 'Travel Locations'], ['South America Travel', 'is_child_of', 'Travel Locations'], ['North America Travel', 'is_child_of', 'Travel Locations'], ['Perfume and Fragrance', 'is_child_of', 'Beauty'], ['Nail Care', 'is_child_of', 'Beauty'], ['Hair Care', 'is_child_of', 'Beauty'], ['Makeup and Accessories', 'is_child_of', 'Beauty'], ['Luxury Cars', 'is_child_of', 'Auto Type'], ['Green Vehicles', 'is_child_of', 'Auto Type'], ['Graduation', 'is_child_of', 'Personal Celebrations & Life Events'], ['Wedding', 'is_child_of', 'Personal Celebrations & Life Events'], ['Prom', 'is_child_of', 'Personal Celebrations & Life Events'], ['Birthday', 'is_child_of', 'Personal Celebrations & Life Events'], [\"Men's Casual Wear\", 'is_child_of', \"Men's Clothing\"], [\"Men's Formal Wear\", 'is_child_of', \"Men's Clothing\"], ['Board Games and Puzzles', 'is_child_of', 'Games and Puzzles'], ['Card Games', 'is_child_of', 'Games and Puzzles'], ['Daycare and Pre-School', 'is_child_of', 'Parenting'], ['Sedan', 'is_child_of', 'Auto Body Styles'], ['Minivan', 'is_child_of', 'Auto Body Styles'], ['Station Wagon', 'is_child_of', 'Auto Body Styles'], ['SUV', 'is_child_of', 'Auto Body Styles'], ['Pickup Trucks', 'is_child_of', 'Auto Body Styles'], ['Convertible', 'is_child_of', 'Auto Body Styles'], ['Van', 'is_child_of', 'Auto Body Styles'], ['Commercial Trucks', 'is_child_of', 'Auto Body Styles'], ['Coupe', 'is_child_of', 'Auto Body Styles'], [\"Women's Formal Wear\", 'is_child_of', \"Women's Clothing\"]]\n"
     ]
    }
   ],
   "source": [
    "print(meta_list)"
   ]
  },
  {
   "cell_type": "code",
   "execution_count": null,
   "metadata": {},
   "outputs": [],
   "source": [
    "column_names=df_initialKG_only_H.columns.to_list()"
   ]
  },
  {
   "cell_type": "code",
   "execution_count": 675,
   "metadata": {},
   "outputs": [],
   "source": [
    "def check_value_exists(df_initialKG_only_H):\n",
    "    original_names=[]\n",
    "    vals=[]\n",
    "    labels=[]\n",
    "    column_names=df_initialKG_only_H.columns.to_list()\n",
    "    for name in tqdm(column_names):\n",
    "        original_name=name\n",
    "        name=name.lower()\n",
    "        try:\n",
    "            name=name.replace(\"&\", \"and\")\n",
    "        except:\n",
    "            continue\n",
    "        try:\n",
    "            name=name.replace(\" \", \"_\")\n",
    "        except:\n",
    "            continue\n",
    "        #print(name)\n",
    "        obj = requests.get(\"http://api.conceptnet.io/query?node=/c/en/{}&limit=10\".format(name)).json()\n",
    "        if len(obj['edges'])==0:\n",
    "            vals.append('N')\n",
    "            labels.append(name)\n",
    "            original_names.append(original_name)\n",
    "        else:\n",
    "            vals.append('Y')\n",
    "            labels.append(name)\n",
    "            original_names.append(original_name)\n",
    "\n",
    "    dic={'IAB_Label':original_names, 'Label': labels,\"Value\": vals}\n",
    "\n",
    "    df=pd.DataFrame.from_dict(dic)\n",
    "\n",
    "    print(df['Value'].value_counts())\n",
    "    \n",
    "    return df\n",
    "        \n",
    "    "
   ]
  },
  {
   "cell_type": "code",
   "execution_count": 676,
   "metadata": {},
   "outputs": [
    {
     "name": "stderr",
     "output_type": "stream",
     "text": [
      "100%|██████████| 161/161 [01:52<00:00,  1.43it/s]"
     ]
    },
    {
     "name": "stdout",
     "output_type": "stream",
     "text": [
      "Y    81\n",
      "N    80\n",
      "Name: Value, dtype: int64\n"
     ]
    },
    {
     "name": "stderr",
     "output_type": "stream",
     "text": [
      "\n"
     ]
    }
   ],
   "source": [
    "df_check=check_value_exists(df_initialKG_only_H)"
   ]
  },
  {
   "cell_type": "code",
   "execution_count": 677,
   "metadata": {},
   "outputs": [
    {
     "data": {
      "text/html": [
       "<div>\n",
       "<style scoped>\n",
       "    .dataframe tbody tr th:only-of-type {\n",
       "        vertical-align: middle;\n",
       "    }\n",
       "\n",
       "    .dataframe tbody tr th {\n",
       "        vertical-align: top;\n",
       "    }\n",
       "\n",
       "    .dataframe thead th {\n",
       "        text-align: right;\n",
       "    }\n",
       "</style>\n",
       "<table border=\"1\" class=\"dataframe\">\n",
       "  <thead>\n",
       "    <tr style=\"text-align: right;\">\n",
       "      <th></th>\n",
       "      <th>IAB_Label</th>\n",
       "      <th>Label</th>\n",
       "      <th>Value</th>\n",
       "    </tr>\n",
       "  </thead>\n",
       "  <tbody>\n",
       "    <tr>\n",
       "      <th>0</th>\n",
       "      <td>Books and Literature</td>\n",
       "      <td>books_and_literature</td>\n",
       "      <td>N</td>\n",
       "    </tr>\n",
       "    <tr>\n",
       "      <th>1</th>\n",
       "      <td>Family and Relationships</td>\n",
       "      <td>family_and_relationships</td>\n",
       "      <td>N</td>\n",
       "    </tr>\n",
       "    <tr>\n",
       "      <th>2</th>\n",
       "      <td>Pets</td>\n",
       "      <td>pets</td>\n",
       "      <td>Y</td>\n",
       "    </tr>\n",
       "    <tr>\n",
       "      <th>3</th>\n",
       "      <td>Business and Finance</td>\n",
       "      <td>business_and_finance</td>\n",
       "      <td>N</td>\n",
       "    </tr>\n",
       "    <tr>\n",
       "      <th>4</th>\n",
       "      <td>Fine Art</td>\n",
       "      <td>fine_art</td>\n",
       "      <td>Y</td>\n",
       "    </tr>\n",
       "    <tr>\n",
       "      <th>...</th>\n",
       "      <td>...</td>\n",
       "      <td>...</td>\n",
       "      <td>...</td>\n",
       "    </tr>\n",
       "    <tr>\n",
       "      <th>156</th>\n",
       "      <td>Individual Brands</td>\n",
       "      <td>individual_brands</td>\n",
       "      <td>N</td>\n",
       "    </tr>\n",
       "    <tr>\n",
       "      <th>157</th>\n",
       "      <td>Women's Formal Wear</td>\n",
       "      <td>women's_formal_wear</td>\n",
       "      <td>N</td>\n",
       "    </tr>\n",
       "    <tr>\n",
       "      <th>158</th>\n",
       "      <td>Men's Formal Wear</td>\n",
       "      <td>men's_formal_wear</td>\n",
       "      <td>N</td>\n",
       "    </tr>\n",
       "    <tr>\n",
       "      <th>159</th>\n",
       "      <td>Australia and Oceania Travel</td>\n",
       "      <td>australia_and_oceania_travel</td>\n",
       "      <td>N</td>\n",
       "    </tr>\n",
       "    <tr>\n",
       "      <th>160</th>\n",
       "      <td>Women's Handbags and Wallets</td>\n",
       "      <td>women's_handbags_and_wallets</td>\n",
       "      <td>N</td>\n",
       "    </tr>\n",
       "  </tbody>\n",
       "</table>\n",
       "<p>161 rows × 3 columns</p>\n",
       "</div>"
      ],
      "text/plain": [
       "                        IAB_Label                         Label Value\n",
       "0            Books and Literature          books_and_literature     N\n",
       "1        Family and Relationships      family_and_relationships     N\n",
       "2                            Pets                          pets     Y\n",
       "3            Business and Finance          business_and_finance     N\n",
       "4                        Fine Art                      fine_art     Y\n",
       "..                            ...                           ...   ...\n",
       "156             Individual Brands             individual_brands     N\n",
       "157           Women's Formal Wear           women's_formal_wear     N\n",
       "158             Men's Formal Wear             men's_formal_wear     N\n",
       "159  Australia and Oceania Travel  australia_and_oceania_travel     N\n",
       "160  Women's Handbags and Wallets  women's_handbags_and_wallets     N\n",
       "\n",
       "[161 rows x 3 columns]"
      ]
     },
     "execution_count": 677,
     "metadata": {},
     "output_type": "execute_result"
    }
   ],
   "source": [
    "df_check"
   ]
  },
  {
   "cell_type": "code",
   "execution_count": 346,
   "metadata": {},
   "outputs": [
    {
     "name": "stdout",
     "output_type": "stream",
     "text": [
      "False\n"
     ]
    }
   ],
   "source": [
    "print(\" \" in df_check['Label'].values)"
   ]
  },
  {
   "cell_type": "code",
   "execution_count": 348,
   "metadata": {},
   "outputs": [],
   "source": [
    "df_check.to_excel('IAB_Labels_ConceptNet_Matching_with_original.xlsx', index=False)"
   ]
  },
  {
   "cell_type": "code",
   "execution_count": 737,
   "metadata": {},
   "outputs": [],
   "source": [
    "df_fixed=pd.read_excel('IAB_Labels_ConceptNet_Matching.xlsx')"
   ]
  },
  {
   "cell_type": "code",
   "execution_count": 738,
   "metadata": {},
   "outputs": [
    {
     "data": {
      "text/plain": [
       "Index(['Label', 'Value', 'Replacement'], dtype='object')"
      ]
     },
     "execution_count": 738,
     "metadata": {},
     "output_type": "execute_result"
    }
   ],
   "source": [
    "df_fixed.columns"
   ]
  },
  {
   "cell_type": "code",
   "execution_count": 739,
   "metadata": {},
   "outputs": [],
   "source": [
    "def create_dic_to_call(df_fixed, df_check):\n",
    "    dic_to_call={}\n",
    "    IAB_Labels_list=df_check['IAB_Label'].to_list()\n",
    "    for iab_label in IAB_Labels_list:\n",
    "        df_check_modified=df_check[df_check['IAB_Label']==iab_label]\n",
    "        conceptNet_label=df_check_modified['Label'].iloc[0]\n",
    "        try:\n",
    "            df_fixed_modified=df_fixed[df_fixed['Label']==conceptNet_label]\n",
    "            if df_fixed_modified['Value'].iloc[0]=='Y':\n",
    "                temp_dic={'Label':conceptNet_label, 'Call': conceptNet_label}\n",
    "                dic_to_call[iab_label]=temp_dic\n",
    "            else:\n",
    "                temp_dic={'Label':conceptNet_label, 'Call':df_fixed_modified['Replacement'].iloc[0]}\n",
    "                dic_to_call[iab_label]=temp_dic\n",
    "        except:\n",
    "            print(conceptNet_label)\n",
    "\n",
    "    return dic_to_call\n",
    "\n"
   ]
  },
  {
   "cell_type": "code",
   "execution_count": 740,
   "metadata": {},
   "outputs": [],
   "source": [
    "dic_to_call=create_dic_to_call(df_fixed,df_check)"
   ]
  },
  {
   "cell_type": "code",
   "execution_count": 741,
   "metadata": {},
   "outputs": [
    {
     "name": "stdout",
     "output_type": "stream",
     "text": [
      "{'Books and Literature': {'Label': 'books_and_literature', 'Call': 'book literature'}, 'Family and Relationships': {'Label': 'family_and_relationships', 'Call': 'family relationship'}, 'Pets': {'Label': 'pets', 'Call': 'pets'}, 'Business and Finance': {'Label': 'business_and_finance', 'Call': 'business fiNance'}, 'Fine Art': {'Label': 'fine_art', 'Call': 'fine_art'}, 'Healthy Living': {'Label': 'healthy_living', 'Call': 'healthy_living'}, 'Television': {'Label': 'television', 'Call': 'television'}, 'Home & Garden': {'Label': 'home_and_garden', 'Call': 'home garden'}, 'Religion & Spirituality': {'Label': 'religion_and_spirituality', 'Call': 'religion spirituality'}, 'Medical Health': {'Label': 'medical_health', 'Call': 'medicine'}, 'Science': {'Label': 'science', 'Call': 'science'}, 'Pop Culture': {'Label': 'pop_culture', 'Call': 'pop_culture'}, 'Events and Attractions': {'Label': 'events_and_attractions', 'Call': 'events attractions'}, 'Education': {'Label': 'education', 'Call': 'education'}, 'Technology & Computing': {'Label': 'technology_and_computing', 'Call': 'technology computing'}, 'Real Estate': {'Label': 'real_estate', 'Call': 'real_estate'}, 'Music and Audio': {'Label': 'music_and_audio', 'Call': 'music audio'}, 'Video Gaming': {'Label': 'video_gaming', 'Call': 'video_gaming'}, 'Style & Fashion': {'Label': 'style_and_fashion', 'Call': 'style fashion'}, 'Hobbies & Interests': {'Label': 'hobbies_and_interests', 'Call': 'hobbies interests'}, 'Automotive': {'Label': 'automotive', 'Call': 'automotive'}, 'Movies': {'Label': 'movies', 'Call': 'movies'}, 'Travel': {'Label': 'travel', 'Call': 'travel'}, 'Food & Drink': {'Label': 'food_and_drink', 'Call': 'food_and_drink'}, 'Shopping': {'Label': 'shopping', 'Call': 'shopping'}, 'Sports': {'Label': 'sports', 'Call': 'sports'}, 'Auto Rentals': {'Label': 'auto_rentals', 'Call': 'car_rental'}, 'Food Industry': {'Label': 'food_industry', 'Call': 'food_industry'}, 'Green Vehicles': {'Label': 'green_vehicles', 'Call': 'electric_vehicle'}, 'Auto Shows': {'Label': 'auto_shows', 'Call': 'auto_shows'}, 'Education industry': {'Label': 'education_industry', 'Call': 'education school college university'}, 'Large Animals': {'Label': 'large_animals', 'Call': 'large_animals'}, 'Apparel Industry': {'Label': 'apparel_industry', 'Call': 'apparel_industry'}, 'Travel Locations': {'Label': 'travel_locations', 'Call': 'tourism'}, 'Auto Type': {'Label': 'auto_type', 'Call': 'Na'}, 'Auto Parts': {'Label': 'auto_parts', 'Call': 'auto_parts'}, 'Cruises': {'Label': 'cruises', 'Call': 'cruises'}, 'Bars & Restaurants': {'Label': 'bars_and_restaurants', 'Call': 'bar restaurant'}, 'Alcoholic Beverages': {'Label': 'alcoholic_beverages', 'Call': 'alcoholic_beverages'}, 'Home Appliances': {'Label': 'home_appliances', 'Call': 'home_appliances'}, 'Commercial Trucks': {'Label': 'commercial_trucks', 'Call': 'Na'}, 'Card Games': {'Label': 'card_games', 'Call': 'card_games'}, 'Entertainment Industry': {'Label': 'entertainment_industry', 'Call': 'entertainment_industry'}, 'Grocery Shopping': {'Label': 'grocery_shopping', 'Call': 'grocery_shopping'}, \"Women's Shoes and Footwear\": {'Label': \"women's_shoes_and_footwear\", 'Call': 'womenswear footwear'}, 'Home Entertaining': {'Label': 'home_entertaining', 'Call': 'recreation_area '}, 'Pickup Trucks': {'Label': 'pickup_trucks', 'Call': 'pickup_trucks'}, 'Birthday': {'Label': 'birthday', 'Call': 'birthday'}, 'Wellness': {'Label': 'wellness', 'Call': 'wellness'}, 'Dating': {'Label': 'dating', 'Call': 'dating'}, 'Birds': {'Label': 'birds', 'Call': 'birds'}, 'Awards Shows': {'Label': 'awards_shows', 'Call': 'award_ceremony'}, 'Landscaping': {'Label': 'landscaping', 'Call': 'landscaping'}, 'World Cuisines': {'Label': 'world_cuisines', 'Call': 'Na'}, \"Men's Clothing\": {'Label': \"men's_clothing\", 'Call': \"men's_clothing\"}, 'Camping': {'Label': 'camping', 'Call': 'camping'}, 'Hotel Properties': {'Label': 'hotel_properties', 'Call': 'hotel'}, 'Automotive Industry': {'Label': 'automotive_industry', 'Call': 'automotive_industry'}, 'SUV': {'Label': 'suv', 'Call': 'suv'}, 'Polar Travel': {'Label': 'polar_travel', 'Call': 'antartica arctic skiing polar_bear'}, 'Board Games and Puzzles': {'Label': 'board_games_and_puzzles', 'Call': 'board_game puzzle'}, 'Outdoor Activities': {'Label': 'outdoor_activities', 'Call': 'Na'}, 'Museums & Galleries': {'Label': 'museums_and_galleries', 'Call': 'museums galleries'}, 'Wedding': {'Label': 'wedding', 'Call': 'wedding'}, 'Houses': {'Label': 'houses', 'Call': 'houses'}, 'Religious Events': {'Label': 'religious_events', 'Call': 'Na'}, 'Cooking': {'Label': 'cooking', 'Call': 'cooking'}, 'Theater Venues and Events': {'Label': 'theater_venues_and_events', 'Call': 'theater'}, 'Luxury Cars': {'Label': 'luxury_cars', 'Call': 'Na'}, 'Healthcare Industry': {'Label': 'healthcare_industry', 'Call': 'healthcare_industry'}, 'Concerts & Music Events': {'Label': 'concerts_and_music_events', 'Call': 'concert'}, 'Retail Property': {'Label': 'retail_property', 'Call': 'retail_outlet'}, 'Household Supplies': {'Label': 'household_supplies', 'Call': 'household_supplies'}, 'Non-Alcoholic Beverages': {'Label': 'non-alcoholic_beverages', 'Call': 'Na'}, 'Primary Education': {'Label': 'primary_education', 'Call': 'primary_education'}, 'Barbecues and Grilling': {'Label': 'barbecues_and_grilling', 'Call': 'barbeque grilling'}, 'Prom': {'Label': 'prom', 'Call': 'prom'}, 'Dogs': {'Label': 'dogs', 'Call': 'dogs'}, 'Telecommunications Industry': {'Label': 'telecommunications_industry', 'Call': 'telecommunications_industry'}, \"Women's Clothing\": {'Label': \"women's_clothing\", 'Call': \"women's_clothing\"}, 'Travel Accessories': {'Label': 'travel_accessories', 'Call': 'Na'}, 'Fitness and Exercise': {'Label': 'fitness_and_exercise', 'Call': 'fitness exercise'}, 'Hair Care': {'Label': 'hair_care', 'Call': 'hair_care'}, 'Perfume and Fragrance': {'Label': 'perfume_and_fragrance', 'Call': 'perfume fragrance'}, 'Media Industry': {'Label': 'media_industry', 'Call': 'media_industry'}, 'Cats': {'Label': 'cats', 'Call': 'cats'}, 'Sedan': {'Label': 'sedan', 'Call': 'sedan'}, 'Parenting': {'Label': 'parenting', 'Call': 'parenting'}, 'Coupe': {'Label': 'coupe', 'Call': 'coupe'}, 'Technology Industry': {'Label': 'technology_industry', 'Call': 'technology_industry'}, 'Casinos & Gambling': {'Label': 'casinos_and_gambling', 'Call': 'casino gambling'}, 'Consumer Electronics': {'Label': 'consumer_electronics', 'Call': 'consumer_electronics'}, 'Logistics and Transportation Industry': {'Label': 'logistics_and_transportation_industry', 'Call': 'transportation_industry logistics'}, 'Space and Astronomy': {'Label': 'space_and_astronomy', 'Call': 'space astronomy'}, 'Deodorant and Antiperspirant': {'Label': 'deodorant_and_antiperspirant', 'Call': 'deodorant antiperspirant'}, 'Laptops': {'Label': 'laptops', 'Call': 'laptops'}, \"Children's Games and Toys\": {'Label': \"children's_games_and_toys\", 'Call': 'toy '}, 'Home Security': {'Label': 'home_security', 'Call': 'Na'}, 'Daycare and Pre-School': {'Label': 'daycare_and_pre-school', 'Call': 'daycare preschool'}, 'Bath and Shower': {'Label': 'bath_and_shower', 'Call': 'bath shower'}, 'Nail Care': {'Label': 'nail_care', 'Call': 'nail_care'}, 'College Education': {'Label': 'college_education', 'Call': 'college_education'}, 'Africa Travel': {'Label': 'africa_travel', 'Call': 'Na'}, 'Convertible': {'Label': 'convertible', 'Call': 'convertible'}, 'Motorcycles': {'Label': 'motorcycles', 'Call': 'motorcycles'}, 'Aviation Industry': {'Label': 'aviation_industry', 'Call': 'aviation_industry'}, 'North America Travel': {'Label': 'north_america_travel', 'Call': 'Na'}, 'Europe Travel': {'Label': 'europe_travel', 'Call': 'Na'}, 'Single Life': {'Label': 'single_life', 'Call': 'single_life'}, 'Games and Puzzles': {'Label': 'games_and_puzzles', 'Call': 'games puzzle'}, 'Retail Industry': {'Label': 'retail_industry', 'Call': 'retail retail_outlet'}, 'Beach Travel': {'Label': 'beach_travel', 'Call': 'beach'}, 'Fashion Events': {'Label': 'fashion_events', 'Call': 'fashion_week fashion_show'}, 'Hospitality Industry': {'Label': 'hospitality_industry', 'Call': 'hospitality_industry'}, 'Minivan': {'Label': 'minivan', 'Call': 'minivan'}, 'Desserts and Baking': {'Label': 'desserts_and_baking', 'Call': 'dessert baking'}, 'Desktops': {'Label': 'desktops', 'Call': 'desktops'}, 'Air Travel': {'Label': 'air_travel', 'Call': 'air_travel'}, 'Land and Farms': {'Label': 'land_and_farms', 'Call': 'land farm'}, 'Remodeling & Construction': {'Label': 'remodeling_and_construction', 'Call': 'construction remodelling'}, 'Parks & Nature': {'Label': 'parks_and_nature', 'Call': 'parks Nature NatioNal_park'}, 'Station Wagon': {'Label': 'station_wagon', 'Call': 'station_wagon'}, 'Apartments': {'Label': 'apartments', 'Call': 'apartments'}, 'Makeup and Accessories': {'Label': 'makeup_and_accessories', 'Call': 'makeup accessories'}, 'Malls & Shopping Centers': {'Label': 'malls_and_shopping_centers', 'Call': 'mall shopping_center'}, 'Holiday Shopping': {'Label': 'holiday_shopping', 'Call': 'holiday_season'}, 'Van': {'Label': 'van', 'Call': 'van'}, 'Smartphones': {'Label': 'smartphones', 'Call': 'smartphones'}, 'Hotels and Motels': {'Label': 'hotels_and_motels', 'Call': 'hotels motels'}, 'Auto Body Styles': {'Label': 'auto_body_styles', 'Call': 'Na'}, 'Smart Home': {'Label': 'smart_home', 'Call': 'smart_home'}, 'Asia Travel': {'Label': 'asia_travel', 'Call': 'Na'}, 'Tablets and E-readers': {'Label': 'tablets_and_e-readers', 'Call': 'tablets '}, 'Home Improvement': {'Label': 'home_improvement', 'Call': 'home_improvement'}, 'Cinemas and Events': {'Label': 'cinemas_and_events', 'Call': 'cinema '}, 'Gardening': {'Label': 'gardening', 'Call': 'gardening'}, 'Rail Travel': {'Label': 'rail_travel', 'Call': 'rail_travel'}, 'Comedy Events': {'Label': 'comedy_events', 'Call': 'comedy'}, 'Road-Side Assistance': {'Label': 'road-side_assistance', 'Call': 'Na'}, 'Graduation': {'Label': 'graduation', 'Call': 'graduation'}, 'Financial Industry': {'Label': 'financial_industry', 'Call': 'financial_industry'}, 'Dining Out': {'Label': 'dining_out', 'Call': 'dining_out'}, 'Oral care': {'Label': 'oral_care', 'Call': 'dental_care dentist'}, 'Office Property': {'Label': 'office_property', 'Call': 'Na'}, 'Cameras and Camcorders': {'Label': 'cameras_and_camcorders', 'Call': 'camera camcorder'}, 'Beauty': {'Label': 'beauty', 'Call': 'beauty'}, 'Zoos & Aquariums': {'Label': 'zoos_and_aquariums', 'Call': 'zoo aquarium'}, 'South America Travel': {'Label': 'south_america_travel', 'Call': 'Na'}, 'Flower Shopping': {'Label': 'flower_shopping', 'Call': 'flower_shop'}, 'Shaving': {'Label': 'shaving', 'Call': 'shaving'}, 'Reptiles': {'Label': 'reptiles', 'Call': 'reptiles'}, 'Personal Celebrations & Life Events': {'Label': 'personal_celebrations_and_life_events', 'Call': 'Na'}, 'Musical Instruments': {'Label': 'musical_instruments', 'Call': 'musical_instruments'}, 'Auto Repair': {'Label': 'auto_repair', 'Call': 'auto_repair'}, \"Women's Jewelry and Watches\": {'Label': \"women's_jewelry_and_watches\", 'Call': 'watch jewelry'}, \"Men's Casual Wear\": {'Label': \"men's_casual_wear\", 'Call': 'menswear casual_attire'}, 'Individual Brands': {'Label': 'individual_brands', 'Call': 'Na'}, \"Women's Formal Wear\": {'Label': \"women's_formal_wear\", 'Call': 'womenswear formal_wear formal_attire'}, \"Men's Formal Wear\": {'Label': \"men's_formal_wear\", 'Call': 'menswear formal_wear formal_wear'}, 'Australia and Oceania Travel': {'Label': 'australia_and_oceania_travel', 'Call': 'Na'}, \"Women's Handbags and Wallets\": {'Label': \"women's_handbags_and_wallets\", 'Call': 'handbag wallet'}}\n"
     ]
    }
   ],
   "source": [
    "print(dic_to_call)"
   ]
  },
  {
   "cell_type": "code",
   "execution_count": 754,
   "metadata": {},
   "outputs": [],
   "source": [
    "def conceptNetfirstcall(dic_to_call,meta_list):\n",
    "    for k,v in tqdm(dic_to_call.items()):\n",
    "        call_list=v['Call'].split(\" \")\n",
    "        for item in call_list: #not adding NAN IAB label calls\n",
    "            if item=='Na':\n",
    "                print(item)\n",
    "                continue\n",
    "            obj = requests.get(\"http://api.conceptnet.io/query?node=/c/en/{}&limit=100000\".format(item)).json()\n",
    "            for edge in obj['edges']:\n",
    "                if edge['rel']['label']=='ExternalURL':\n",
    "                    continue\n",
    "                elif edge['end']['term']=='/c/en/{}'.format(item):\n",
    "                    if edge['start']['language'] == 'en':\n",
    "                        temp=[edge['start']['term'].split('/')[-1], 'is_related_to', k]\n",
    "                        meta_list.append(temp)\n",
    "                elif edge['start']['term']=='/c/en/{}'.format(item):\n",
    "                    if edge['end']['language'] == 'en':\n",
    "                        temp=[edge['end']['term'].split('/')[-1], 'is_related_to', k]\n",
    "                        meta_list.append(temp)\n",
    "    \n",
    "    return meta_list\n"
   ]
  },
  {
   "cell_type": "code",
   "execution_count": 755,
   "metadata": {},
   "outputs": [
    {
     "name": "stderr",
     "output_type": "stream",
     "text": [
      " 21%|██        | 34/161 [00:30<01:44,  1.22it/s]"
     ]
    },
    {
     "name": "stdout",
     "output_type": "stream",
     "text": [
      "Na\n"
     ]
    },
    {
     "name": "stderr",
     "output_type": "stream",
     "text": [
      " 25%|██▍       | 40/161 [00:36<02:01,  1.01s/it]"
     ]
    },
    {
     "name": "stdout",
     "output_type": "stream",
     "text": [
      "Na\n"
     ]
    },
    {
     "name": "stderr",
     "output_type": "stream",
     "text": [
      " 33%|███▎      | 53/161 [00:46<01:16,  1.42it/s]"
     ]
    },
    {
     "name": "stdout",
     "output_type": "stream",
     "text": [
      "Na\n"
     ]
    },
    {
     "name": "stderr",
     "output_type": "stream",
     "text": [
      " 38%|███▊      | 61/161 [00:55<02:40,  1.61s/it]"
     ]
    },
    {
     "name": "stdout",
     "output_type": "stream",
     "text": [
      "Na\n"
     ]
    },
    {
     "name": "stderr",
     "output_type": "stream",
     "text": [
      " 40%|████      | 65/161 [00:58<01:41,  1.06s/it]"
     ]
    },
    {
     "name": "stdout",
     "output_type": "stream",
     "text": [
      "Na\n"
     ]
    },
    {
     "name": "stderr",
     "output_type": "stream",
     "text": [
      " 42%|████▏     | 68/161 [01:01<01:36,  1.04s/it]"
     ]
    },
    {
     "name": "stdout",
     "output_type": "stream",
     "text": [
      "Na\n"
     ]
    },
    {
     "name": "stderr",
     "output_type": "stream",
     "text": [
      " 45%|████▌     | 73/161 [01:04<01:03,  1.39it/s]"
     ]
    },
    {
     "name": "stdout",
     "output_type": "stream",
     "text": [
      "Na\n"
     ]
    },
    {
     "name": "stderr",
     "output_type": "stream",
     "text": [
      " 50%|████▉     | 80/161 [01:09<00:54,  1.48it/s]"
     ]
    },
    {
     "name": "stdout",
     "output_type": "stream",
     "text": [
      "Na\n"
     ]
    },
    {
     "name": "stderr",
     "output_type": "stream",
     "text": [
      " 60%|██████    | 97/161 [01:32<01:59,  1.86s/it]"
     ]
    },
    {
     "name": "stdout",
     "output_type": "stream",
     "text": [
      "Na\n"
     ]
    },
    {
     "name": "stderr",
     "output_type": "stream",
     "text": [
      " 63%|██████▎   | 102/161 [01:37<01:09,  1.18s/it]"
     ]
    },
    {
     "name": "stdout",
     "output_type": "stream",
     "text": [
      "Na\n"
     ]
    },
    {
     "name": "stderr",
     "output_type": "stream",
     "text": [
      " 66%|██████▌   | 106/161 [01:39<00:40,  1.35it/s]"
     ]
    },
    {
     "name": "stdout",
     "output_type": "stream",
     "text": [
      "Na\n",
      "Na\n"
     ]
    },
    {
     "name": "stderr",
     "output_type": "stream",
     "text": [
      " 80%|████████  | 129/161 [02:08<00:35,  1.10s/it]"
     ]
    },
    {
     "name": "stdout",
     "output_type": "stream",
     "text": [
      "Na\n"
     ]
    },
    {
     "name": "stderr",
     "output_type": "stream",
     "text": [
      " 81%|████████▏ | 131/161 [02:08<00:21,  1.36it/s]"
     ]
    },
    {
     "name": "stdout",
     "output_type": "stream",
     "text": [
      "Na\n"
     ]
    },
    {
     "name": "stderr",
     "output_type": "stream",
     "text": [
      " 86%|████████▌ | 138/161 [02:14<00:20,  1.14it/s]"
     ]
    },
    {
     "name": "stdout",
     "output_type": "stream",
     "text": [
      "Na\n"
     ]
    },
    {
     "name": "stderr",
     "output_type": "stream",
     "text": [
      " 89%|████████▉ | 143/161 [02:18<00:16,  1.12it/s]"
     ]
    },
    {
     "name": "stdout",
     "output_type": "stream",
     "text": [
      "Na\n"
     ]
    },
    {
     "name": "stderr",
     "output_type": "stream",
     "text": [
      " 91%|█████████▏| 147/161 [02:23<00:18,  1.31s/it]"
     ]
    },
    {
     "name": "stdout",
     "output_type": "stream",
     "text": [
      "Na\n"
     ]
    },
    {
     "name": "stderr",
     "output_type": "stream",
     "text": [
      " 94%|█████████▍| 151/161 [02:25<00:07,  1.26it/s]"
     ]
    },
    {
     "name": "stdout",
     "output_type": "stream",
     "text": [
      "Na\n"
     ]
    },
    {
     "name": "stderr",
     "output_type": "stream",
     "text": [
      " 97%|█████████▋| 156/161 [02:31<00:06,  1.26s/it]"
     ]
    },
    {
     "name": "stdout",
     "output_type": "stream",
     "text": [
      "Na\n"
     ]
    },
    {
     "name": "stderr",
     "output_type": "stream",
     "text": [
      " 99%|█████████▉| 159/161 [02:35<00:02,  1.25s/it]"
     ]
    },
    {
     "name": "stdout",
     "output_type": "stream",
     "text": [
      "Na\n"
     ]
    },
    {
     "name": "stderr",
     "output_type": "stream",
     "text": [
      "100%|██████████| 161/161 [02:37<00:00,  1.02it/s]\n"
     ]
    }
   ],
   "source": [
    "meta_list=conceptNetfirstcall(dic_to_call,meta_list)"
   ]
  },
  {
   "cell_type": "code",
   "execution_count": 756,
   "metadata": {},
   "outputs": [
    {
     "name": "stdout",
     "output_type": "stream",
     "text": [
      "26952\n"
     ]
    }
   ],
   "source": [
    "print(len(meta_list))"
   ]
  },
  {
   "cell_type": "code",
   "execution_count": 764,
   "metadata": {},
   "outputs": [
    {
     "data": {
      "text/plain": [
       "['doornail', 'is_related_to', 'Remodeling & Construction']"
      ]
     },
     "execution_count": 764,
     "metadata": {},
     "output_type": "execute_result"
    }
   ],
   "source": [
    "meta_list[23005]"
   ]
  },
  {
   "cell_type": "code",
   "execution_count": 765,
   "metadata": {},
   "outputs": [],
   "source": [
    "with open('KG_with_ConceptNet_One_hop.pkl', 'wb') as f:\n",
    "    pkl.dump(meta_list, f)"
   ]
  },
  {
   "cell_type": "code",
   "execution_count": 771,
   "metadata": {},
   "outputs": [],
   "source": [
    "with open('KG_with_ConceptNet_One_hop.pkl', 'rb') as f:\n",
    "    meta_list=pkl.load(f)"
   ]
  },
  {
   "cell_type": "code",
   "execution_count": 878,
   "metadata": {},
   "outputs": [
    {
     "data": {
      "text/plain": [
       "26952"
      ]
     },
     "execution_count": 878,
     "metadata": {},
     "output_type": "execute_result"
    }
   ],
   "source": [
    "len(meta_list)"
   ]
  },
  {
   "cell_type": "code",
   "execution_count": 879,
   "metadata": {},
   "outputs": [
    {
     "name": "stdout",
     "output_type": "stream",
     "text": [
      "['Space and Astronomy', 'is_child_of', 'Science']\n"
     ]
    }
   ],
   "source": [
    "for items in meta_list:\n",
    "    if items[1]=='is_child_of':\n",
    "        print(items)\n",
    "        break"
   ]
  },
  {
   "cell_type": "code",
   "execution_count": 877,
   "metadata": {},
   "outputs": [
    {
     "data": {
      "text/plain": [
       "['motor_car', 'is_related_to', 'Auto Rentals']"
      ]
     },
     "execution_count": 877,
     "metadata": {},
     "output_type": "execute_result"
    }
   ],
   "source": [
    "meta_list[10003]"
   ]
  },
  {
   "cell_type": "code",
   "execution_count": 782,
   "metadata": {},
   "outputs": [],
   "source": [
    "def conceptNetsecondcall(meta_list):\n",
    "    second_metalist=[]\n",
    "    already_called=[]\n",
    "    count=0\n",
    "    for items in tqdm(meta_list):\n",
    "        second_metalist.append(items)\n",
    "        if items[1]=='is_child_of':\n",
    "            continue\n",
    "        \n",
    "        call=items[0]\n",
    "\n",
    "        if call in already_called:\n",
    "            continue\n",
    "\n",
    "        else:\n",
    "            count+=1\n",
    "            if count%3000==0:\n",
    "                sleep(3600)\n",
    "            obj = requests.get(\"http://api.conceptnet.io/query?node=/c/en/{}&limit=100000\".format(call)).json()\n",
    "            already_called.append(call)\n",
    "            for edge in obj['edges']:\n",
    "                if edge['rel']['label']=='ExternalURL':\n",
    "                    continue\n",
    "                elif edge['end']['term']=='/c/en/{}'.format(call):\n",
    "                    if edge['start']['language'] == 'en':\n",
    "                        temp=[edge['start']['term'].split('/')[-1], 'is_related_to', call]\n",
    "                        second_metalist.append(temp)\n",
    "                elif edge['start']['term']=='/c/en/{}'.format(call):\n",
    "                    if edge['end']['language'] == 'en':\n",
    "                        temp=[edge['end']['term'].split('/')[-1], 'is_related_to', call]\n",
    "                        second_metalist.append(temp)\n",
    "    \n",
    "    return second_metalist"
   ]
  },
  {
   "cell_type": "code",
   "execution_count": 783,
   "metadata": {},
   "outputs": [],
   "source": [
    "check_meta_list=meta_list[600:700]"
   ]
  },
  {
   "cell_type": "code",
   "execution_count": 784,
   "metadata": {},
   "outputs": [
    {
     "name": "stderr",
     "output_type": "stream",
     "text": [
      "100%|██████████| 100/100 [01:23<00:00,  1.19it/s]\n"
     ]
    }
   ],
   "source": [
    "lol=conceptNetsecondcall(check_meta_list)"
   ]
  },
  {
   "cell_type": "code",
   "execution_count": 785,
   "metadata": {},
   "outputs": [
    {
     "name": "stdout",
     "output_type": "stream",
     "text": [
      "9702\n"
     ]
    }
   ],
   "source": [
    "print(len(lol))"
   ]
  },
  {
   "cell_type": "code",
   "execution_count": 786,
   "metadata": {},
   "outputs": [
    {
     "name": "stdout",
     "output_type": "stream",
     "text": [
      "[['allegory', 'is_related_to', 'Books and Literature'], ['fable', 'is_related_to', 'allegory'], ['emblem', 'is_related_to', 'allegory'], ['expressive_style', 'is_related_to', 'allegory'], ['binary_relation', 'is_related_to', 'allegory'], ['communication', 'is_related_to', 'allegory'], ['alethetic', 'is_related_to', 'allegory'], ['metaphor', 'is_related_to', 'allegory'], ['brother_jonathan', 'is_related_to', 'allegory'], ['allegorist', 'is_related_to', 'allegory'], ['book', 'is_related_to', 'allegory'], ['symbolic', 'is_related_to', 'allegory'], ['mathematics', 'is_related_to', 'allegory'], ['picture', 'is_related_to', 'allegory'], ['allegorically', 'is_related_to', 'allegory'], ['allegorising', 'is_related_to', 'allegory'], ['tropology', 'is_related_to', 'allegory'], ['set', 'is_related_to', 'allegory'], ['allegorization', 'is_related_to', 'allegory'], ['form', 'is_related_to', 'allegory'], ['allegorization', 'is_related_to', 'allegory'], ['principle', 'is_related_to', 'allegory'], ['allegorise', 'is_related_to', 'allegory'], ['representation', 'is_related_to', 'allegory'], ['comely_maidens', 'is_related_to', 'allegory'], ['category', 'is_related_to', 'allegory'], ['allegorizing', 'is_related_to', 'allegory'], ['allegoric', 'is_related_to', 'allegory'], ['allegoric', 'is_related_to', 'allegory'], ['character', 'is_related_to', 'allegory'], ['allegories', 'is_related_to', 'allegory'], ['allegorically', 'is_related_to', 'allegory'], ['everywoman', 'is_related_to', 'allegory'], ['everyman', 'is_related_to', 'allegory'], ['allegorise', 'is_related_to', 'allegory'], ['parable', 'is_related_to', 'allegory'], ['allegories', 'is_related_to', 'allegory'], ['allegorical', 'is_related_to', 'allegory'], ['category_theory', 'is_related_to', 'allegory'], ['figure', 'is_related_to', 'allegory'], ['symbolic_representation', 'is_related_to', 'allegory'], ['allegoric', 'is_related_to', 'allegory'], ['abstract', 'is_related_to', 'allegory'], ['wind_horse', 'is_related_to', 'allegory'], ['allegorical', 'is_related_to', 'allegory'], ['allegoristic', 'is_related_to', 'allegory'], ['similitude', 'is_related_to', 'allegory'], ['lord_of_flies', 'is_related_to', 'allegory'], ['allegory', 'is_related_to', 'allegory'], ['allegory', 'is_related_to', 'allegory'], ['herman_melville', 'is_related_to', 'allegory'], ['artwork', 'is_related_to', 'allegory'], ['simile', 'is_related_to', 'allegory'], ['like', 'is_related_to', 'allegory'], ['like_simile', 'is_related_to', 'allegory'], ['chequebook', 'is_related_to', 'Books and Literature'], ['checkbook', 'is_related_to', 'chequebook'], ['cheque_book', 'is_related_to', 'chequebook'], ['chequebooks', 'is_related_to', 'chequebook'], ['preprinted', 'is_related_to', 'chequebook'], ['bankbook', 'is_related_to', 'chequebook'], ['counterfoil', 'is_related_to', 'chequebook'], ['book', 'is_related_to', 'chequebook'], ['chequebooks', 'is_related_to', 'chequebook'], ['folder', 'is_related_to', 'chequebook'], ['booklet', 'is_related_to', 'chequebook'], ['checkbook', 'is_related_to', 'chequebook'], ['cheque', 'is_related_to', 'chequebook'], ['cheque', 'is_related_to', 'chequebook'], ['bank_account', 'is_related_to', 'chequebook'], ['learning_about_building', 'is_related_to', 'Books and Literature'], ['book', 'is_related_to', 'learning_about_building'], ['filling_shelf', 'is_related_to', 'Books and Literature'], ['book', 'is_related_to', 'filling_shelf'], ['bookflap', 'is_related_to', 'Books and Literature'], ['jacket', 'is_related_to', 'bookflap'], ['book', 'is_related_to', 'bookflap'], ['flap', 'is_related_to', 'bookflap'], ['cover', 'is_related_to', 'bookflap'], ['bookflaps', 'is_related_to', 'bookflap'], ['book', 'is_related_to', 'bookflap'], ['doorstopper', 'is_related_to', 'Books and Literature'], ['doorstop', 'is_related_to', 'doorstopper'], ['jocular', 'is_related_to', 'doorstopper'], ['doorstop', 'is_related_to', 'doorstopper'], ['geophysics', 'is_related_to', 'doorstopper'], ['stopper', 'is_related_to', 'doorstopper'], ['book', 'is_related_to', 'doorstopper'], ['door', 'is_related_to', 'doorstopper'], ['gauge', 'is_related_to', 'doorstopper'], ['doorstoppers', 'is_related_to', 'doorstopper'], ['bookrunning', 'is_related_to', 'Books and Literature'], ['book', 'is_related_to', 'bookrunning'], ['running', 'is_related_to', 'bookrunning'], ['bookrunner', 'is_related_to', 'bookrunning'], ['lexiconophilist', 'is_related_to', 'Books and Literature'], ['lexiconophilists', 'is_related_to', 'lexiconophilist'], ['dictionary', 'is_related_to', 'lexiconophilist'], ['lexicon', 'is_related_to', 'lexiconophilist'], ['book', 'is_related_to', 'lexiconophilist'], ['lexiconophilia', 'is_related_to', 'lexiconophilist'], ['word', 'is_related_to', 'lexiconophilist'], ['lexiconophilists', 'is_related_to', 'lexiconophilist'], ['lexiconophilia', 'is_related_to', 'lexiconophilist'], ['lexicon', 'is_related_to', 'lexiconophilist'], ['bookmate', 'is_related_to', 'Books and Literature'], ['mate', 'is_related_to', 'bookmate'], ['study', 'is_related_to', 'bookmate'], ['schoolfellow', 'is_related_to', 'bookmate'], ['book', 'is_related_to', 'bookmate'], ['associate', 'is_related_to', 'bookmate'], ['bookmates', 'is_related_to', 'bookmate'], ['responsorial', 'is_related_to', 'Books and Literature'], ['response', 'is_related_to', 'responsorial'], ['response', 'is_related_to', 'responsorial'], ['book', 'is_related_to', 'responsorial'], ['prokeimenon', 'is_related_to', 'responsorial'], ['responsorially', 'is_related_to', 'responsorial'], ['responsive', 'is_related_to', 'responsorial'], ['responsorials', 'is_related_to', 'responsorial'], ['responsorials', 'is_related_to', 'responsorial'], ['response', 'is_related_to', 'responsorial'], ['responsorially', 'is_related_to', 'responsorial'], ['liturgical', 'is_related_to', 'responsorial'], ['responsive', 'is_related_to', 'responsorial'], ['author', 'is_related_to', 'Books and Literature'], ['write_book', 'is_related_to', 'author'], ['write_poem', 'is_related_to', 'author'], ['writing', 'is_related_to', 'author'], ['writer', 'is_related_to', 'author'], ['paper', 'is_related_to', 'author'], ['write', 'is_related_to', 'author'], ['generator', 'is_related_to', 'author'], ['writer', 'is_related_to', 'author'], ['ghost', 'is_related_to', 'author'], ['co_author', 'is_related_to', 'author'], ['writing', 'is_related_to', 'author'], ['poet', 'is_related_to', 'author'], ['writer', 'is_related_to', 'author'], ['book', 'is_related_to', 'author'], ['mozzer', 'is_related_to', 'author'], ['self_publishing', 'is_related_to', 'author'], ['anthological', 'is_related_to', 'author'], ['proscribed', 'is_related_to', 'author'], ['ghostwrite', 'is_related_to', 'author'], ['playwright', 'is_related_to', 'author'], ['poe', 'is_related_to', 'author'], ['reauthor', 'is_related_to', 'author'], ['notname', 'is_related_to', 'author'], ['write', 'is_related_to', 'author'], ['biobibliography', 'is_related_to', 'author'], ['authorable', 'is_related_to', 'author'], ['brennerian', 'is_related_to', 'author'], ['complete_book', 'is_related_to', 'author'], ['authorly', 'is_related_to', 'author'], ['moz', 'is_related_to', 'author'], ['louise_erdrich', 'is_related_to', 'author'], ['authorial', 'is_related_to', 'author'], ['authorlessness', 'is_related_to', 'author'], ['scriptwriter', 'is_related_to', 'author'], ['book', 'is_related_to', 'author'], ['allonymous', 'is_related_to', 'author'], ['creative_differences', 'is_related_to', 'author'], ['harmonist', 'is_related_to', 'author'], ['syllogist', 'is_related_to', 'author'], ['composer', 'is_related_to', 'author'], ['causer', 'is_related_to', 'author'], ['authorless', 'is_related_to', 'author'], ['robert_munch', 'is_related_to', 'author'], ['juvenilia', 'is_related_to', 'author'], ['authorish', 'is_related_to', 'author'], ['authress', 'is_related_to', 'author'], ['psychobiographer', 'is_related_to', 'author'], ['neepery', 'is_related_to', 'author'], ['originator', 'is_related_to', 'author'], ['hatefic', 'is_related_to', 'author'], ['a', 'is_related_to', 'author'], ['book_signing', 'is_related_to', 'author'], ['corpus', 'is_related_to', 'author'], ['authors', 'is_related_to', 'author'], ['authorless', 'is_related_to', 'author'], ['magnum_opus', 'is_related_to', 'author'], ['nonauthor', 'is_related_to', 'author'], ['who_writes_books', 'is_related_to', 'author'], ['colophon', 'is_related_to', 'author'], ['signing', 'is_related_to', 'author'], ['postscript', 'is_related_to', 'author'], ['neighboring_rights', 'is_related_to', 'author'], ['book', 'is_related_to', 'author'], ['sassoonian', 'is_related_to', 'author'], ['volumist', 'is_related_to', 'author'], ['traveloguer', 'is_related_to', 'author'], ['novelist', 'is_related_to', 'author'], ['unauthored', 'is_related_to', 'author'], ['credit_line', 'is_related_to', 'author'], ['litterateur', 'is_related_to', 'author'], ['book_deal', 'is_related_to', 'author'], ['trumpian', 'is_related_to', 'author'], ['coauthor', 'is_related_to', 'author'], ['people_to_buy_books', 'is_related_to', 'author'], ['authorable', 'is_related_to', 'author'], ['pseudepigraph', 'is_related_to', 'author'], ['attribution', 'is_related_to', 'author'], ['kureishian', 'is_related_to', 'author'], ['vernean', 'is_related_to', 'author'], ['douglas_adams', 'is_related_to', 'author'], ['joe', 'is_related_to', 'author'], ['fabulator', 'is_related_to', 'author'], ['authorship', 'is_related_to', 'author'], ['auctorial_descriptive', 'is_related_to', 'author'], ['graysonian', 'is_related_to', 'author'], ['classic', 'is_related_to', 'author'], ['stylesheet', 'is_related_to', 'author'], ['novel', 'is_related_to', 'author'], ['prophet', 'is_related_to', 'author'], ['authored', 'is_related_to', 'author'], ['begin_to_write_book', 'is_related_to', 'author'], ['coauthorship', 'is_related_to', 'author'], ['librettist', 'is_related_to', 'author'], ['butlerian', 'is_related_to', 'author'], ['lyricist', 'is_related_to', 'author'], ['or', 'is_related_to', 'author'], ['andersenian', 'is_related_to', 'author'], ['column', 'is_related_to', 'author'], ['plot_bunny', 'is_related_to', 'author'], ['authorling', 'is_related_to', 'author'], ['hooksian', 'is_related_to', 'author'], ['self_insertion', 'is_related_to', 'author'], ['whitean', 'is_related_to', 'author'], ['songwriter', 'is_related_to', 'author'], ['write', 'is_related_to', 'author'], ['auteur', 'is_related_to', 'author'], ['palinodist', 'is_related_to', 'author'], ['write_essay', 'is_related_to', 'author'], ['composer', 'is_related_to', 'author'], ['title_page', 'is_related_to', 'author'], ['anon', 'is_related_to', 'author'], ['authorially', 'is_related_to', 'author'], ['authorlike', 'is_related_to', 'author'], ['authorable', 'is_related_to', 'author'], ['authors', 'is_related_to', 'author'], ['suethor', 'is_related_to', 'author'], ['chain_story', 'is_related_to', 'author'], ['autotranslation', 'is_related_to', 'author'], ['unable_to_write', 'is_related_to', 'author'], ['work', 'is_related_to', 'author'], ['authorlike', 'is_related_to', 'author'], ['john_c_wright', 'is_related_to', 'author'], ['choreographer', 'is_related_to', 'author'], ['autograph', 'is_related_to', 'author'], ['auteur', 'is_related_to', 'author'], ['penman', 'is_related_to', 'author'], ['collectanea', 'is_related_to', 'author'], ['ending_story', 'is_related_to', 'author'], ['machenian', 'is_related_to', 'author'], ['original_character', 'is_related_to', 'author'], ['rejection_slip', 'is_related_to', 'author'], ['stylometry', 'is_related_to', 'author'], ['composition', 'is_related_to', 'author'], ['novelist', 'is_related_to', 'author'], ['authorial', 'is_related_to', 'author'], ['suethor', 'is_related_to', 'author'], ['finish_book', 'is_related_to', 'author'], ['writing', 'is_related_to', 'author'], ['authorism', 'is_related_to', 'author'], ['word_things_very_carefully', 'is_related_to', 'author'], ['authorization', 'is_related_to', 'author'], ['literary', 'is_related_to', 'author'], ['auctorial', 'is_related_to', 'author'], ['authoriality', 'is_related_to', 'author'], ['writer', 'is_related_to', 'author'], ['matherian', 'is_related_to', 'author'], ['garreteer', 'is_related_to', 'author'], ['coasean', 'is_related_to', 'author'], ['bedean', 'is_related_to', 'author'], ['chaucer', 'is_related_to', 'author'], ['post_mortem_auctoris', 'is_related_to', 'author'], ['authorish', 'is_related_to', 'author'], ['continue_story', 'is_related_to', 'author'], ['baconianism', 'is_related_to', 'author'], ['authorly', 'is_related_to', 'author'], ['round_robin_story', 'is_related_to', 'author'], ['adespota', 'is_related_to', 'author'], ['authority', 'is_related_to', 'author'], ['homer', 'is_related_to', 'author'], ['playwright', 'is_related_to', 'author'], ['ethopoeia', 'is_related_to', 'author'], ['authorship', 'is_related_to', 'author'], ['originator', 'is_related_to', 'author'], ['essayist', 'is_related_to', 'author'], ['zamyatinian', 'is_related_to', 'author'], ['urinterpretation', 'is_related_to', 'author'], ['cascade', 'is_related_to', 'author'], ['book_agent', 'is_related_to', 'author'], ['spillanian', 'is_related_to', 'author'], ['blog_carnival', 'is_related_to', 'author'], ['biobibliographer', 'is_related_to', 'author'], ['vanity_press', 'is_related_to', 'author'], ['person', 'is_related_to', 'author'], ['author_of_life', 'is_related_to', 'author'], ['multiauthored', 'is_related_to', 'author'], ['authoress', 'is_related_to', 'author'], ['authorization', 'is_related_to', 'author'], ['us', 'is_related_to', 'author'], ['hurstonian', 'is_related_to', 'author'], ['scholiast', 'is_related_to', 'author'], ['authordom', 'is_related_to', 'author'], ['manuscript_to_rejected', 'is_related_to', 'author'], ['create', 'is_related_to', 'author'], ['idiasm', 'is_related_to', 'author'], ['perfect_manuscript', 'is_related_to', 'author'], ['secondary_source', 'is_related_to', 'author'], ['schlockmeister', 'is_related_to', 'author'], ['creator', 'is_related_to', 'author'], ['authoring', 'is_related_to', 'author'], [\"author's_copy\", 'is_related_to', 'author'], ['bookwright', 'is_related_to', 'author'], ['authority', 'is_related_to', 'author'], ['revision', 'is_related_to', 'author'], ['authors', 'is_related_to', 'author'], ['authorhood', 'is_related_to', 'author'], ['memoir', 'is_related_to', 'author'], ['dramatist', 'is_related_to', 'author'], ['writer', 'is_related_to', 'author'], ['belligerati', 'is_related_to', 'author'], ['intentionalism', 'is_related_to', 'author'], ['authorcraft', 'is_related_to', 'author'], ['penman', 'is_related_to', 'author'], ['murdochian', 'is_related_to', 'author'], ['authoress', 'is_related_to', 'author'], ['authorling', 'is_related_to', 'author'], ['authordom', 'is_related_to', 'author'], ['commissioning_editor', 'is_related_to', 'author'], ['heteronym', 'is_related_to', 'author'], ['authored', 'is_related_to', 'author'], ['theatre', 'is_related_to', 'author'], ['autoperformance', 'is_related_to', 'author'], ['pen_name', 'is_related_to', 'author'], ['allonym', 'is_related_to', 'author'], ['atwoodian', 'is_related_to', 'author'], ['authors', 'is_related_to', 'author'], ['miscellanist', 'is_related_to', 'author'], ['posthumous', 'is_related_to', 'author'], ['book_fair', 'is_related_to', 'author'], ['fifth_wall', 'is_related_to', 'author'], ['ayn_rand', 'is_related_to', 'author'], ['zerzanian', 'is_related_to', 'author'], ['authors', 'is_related_to', 'author'], ['multiauthor', 'is_related_to', 'author'], ['creator', 'is_related_to', 'author'], ['authorcraft', 'is_related_to', 'author'], ['bookwright', 'is_related_to', 'author'], ['father_novel', 'is_related_to', 'author'], ['h_index', 'is_related_to', 'author'], ['reauthor', 'is_related_to', 'author'], ['milton', 'is_related_to', 'author'], ['authoress', 'is_related_to', 'author'], ['booklore', 'is_related_to', 'author'], ['manfiction', 'is_related_to', 'author'], ['guru1', 'is_related_to', 'author'], ['poet', 'is_related_to', 'author'], ['acrostic', 'is_related_to', 'author'], ['hamsunian', 'is_related_to', 'author'], ['authoress', 'is_related_to', 'author'], ['perzine', 'is_related_to', 'author'], ['multiauthor', 'is_related_to', 'author'], ['who_writes_book', 'is_related_to', 'author'], ['n', 'is_related_to', 'author'], ['authoring', 'is_related_to', 'author'], ['nonauthor', 'is_related_to', 'author'], ['authorhood', 'is_related_to', 'author'], ['authorial_intent', 'is_related_to', 'author'], ['coauthor', 'is_related_to', 'author'], ['synoptist', 'is_related_to', 'author'], ['nachleben', 'is_related_to', 'author'], ['word_passage_in_novel', 'is_related_to', 'author'], ['proofs', 'is_related_to', 'author'], ['book_writer', 'is_related_to', 'author'], ['books', 'is_related_to', 'author'], ['jewel', 'is_related_to', 'author'], ['pliny_elder', 'is_related_to', 'author'], ['jane_jacobs', 'is_related_to', 'author'], ['bob_hope', 'is_related_to', 'author'], ['thomas_wolfe', 'is_related_to', 'author'], ['alan_paton', 'is_related_to', 'author'], ['leonard_bernstein', 'is_related_to', 'author'], ['james_boswell', 'is_related_to', 'author'], ['prodigy', 'is_related_to', 'author'], ['john_law', 'is_related_to', 'author'], ['constant_lambert', 'is_related_to', 'author'], ['sojourner_truth', 'is_related_to', 'author'], ['gerard_kuiper', 'is_related_to', 'author'], ['frederick_douglass', 'is_related_to', 'author'], ['author', 'is_related_to', 'author'], ['che_guevara', 'is_related_to', 'author'], ['creator', 'is_related_to', 'author'], ['job', 'is_related_to', 'author'], ['book_write', 'is_related_to', 'author'], ['write', 'is_related_to', 'author'], ['authentic', 'is_related_to', 'author'], ['exauthorate', 'is_related_to', 'author'], ['frm', 'is_related_to', 'author'], ['authority', 'is_related_to', 'author'], ['made', 'is_related_to', 'author'], ['who', 'is_related_to', 'author'], ['who_made', 'is_related_to', 'author'], ['books_creator', 'is_related_to', 'author'], ['plagiarist', 'is_related_to', 'author'], ['writes_books', 'is_related_to', 'author'], ['writes', 'is_related_to', 'author'], ['publishing', 'is_related_to', 'author'], ['book', 'is_related_to', 'author'], ['hands', 'is_related_to', 'author'], ['reader', 'is_related_to', 'author'], ['person', 'is_related_to', 'author'], ['cover', 'is_related_to', 'author'], ['by', 'is_related_to', 'author'], ['mark', 'is_related_to', 'author'], ['paperbacker', 'is_related_to', 'Books and Literature'], ['book', 'is_related_to', 'paperbacker'], ['publisher', 'is_related_to', 'paperbacker'], ['paperback', 'is_related_to', 'paperbacker'], ['paperback', 'is_related_to', 'paperbacker'], ['paperbackers', 'is_related_to', 'paperbacker'], ['recase', 'is_related_to', 'Books and Literature'], ['case', 'is_related_to', 'recase'], ['book', 'is_related_to', 'recase'], ['recased', 'is_related_to', 'recase'], ['recases', 'is_related_to', 'recase'], ['upper_case', 'is_related_to', 'recase'], ['lower_case', 'is_related_to', 'recase'], ['recasing', 'is_related_to', 'recase'], ['repair', 'is_related_to', 'recase'], ['case', 'is_related_to', 'recase'], ['vice_versa', 'is_related_to', 'recase'], ['handbook', 'is_related_to', 'Books and Literature'], ['manual', 'is_related_to', 'handbook'], ['guidebook', 'is_related_to', 'handbook'], ['bible', 'is_related_to', 'handbook'], ['enchiridion', 'is_related_to', 'handbook'], ['reckoner', 'is_related_to', 'handbook'], ['reference_book', 'is_related_to', 'handbook'], ['vade_mecum', 'is_related_to', 'handbook'], ['book', 'is_related_to', 'handbook'], ['handbooks', 'is_related_to', 'handbook'], ['gradus', 'is_related_to', 'handbook'], ['patrology', 'is_related_to', 'handbook'], ['kloran', 'is_related_to', 'handbook'], ['reference', 'is_related_to', 'handbook'], ['enchiridion', 'is_related_to', 'handbook'], ['vade_mecum', 'is_related_to', 'handbook'], ['hand', 'is_related_to', 'handbook'], ['handguide', 'is_related_to', 'handbook'], ['databook', 'is_related_to', 'handbook'], ['manual', 'is_related_to', 'handbook'], ['manual', 'is_related_to', 'handbook'], ['handbooks', 'is_related_to', 'handbook'], ['manual', 'is_related_to', 'handbook'], ['book', 'is_related_to', 'handbook'], ['guidebook', 'is_related_to', 'handbook'], ['handbooks', 'is_related_to', 'handbook'], ['almanac', 'is_related_to', 'handbook'], ['referee', 'is_related_to', 'Books and Literature'], ['hockey_game', 'is_related_to', 'referee'], ['sport', 'is_related_to', 'referee'], ['lawyer', 'is_related_to', 'referee'], ['review', 'is_related_to', 'referee'], ['umpire', 'is_related_to', 'referee'], ['official', 'is_related_to', 'referee'], ['ref', 'is_related_to', 'referee'], ['peer_review', 'is_related_to', 'referee'], ['sport', 'is_related_to', 'referee'], ['football', 'is_related_to', 'referee'], ['time_race', 'is_related_to', 'referee'], ['reviewer', 'is_related_to', 'referee'], ['law', 'is_related_to', 'referee'], ['judge', 'is_related_to', 'referee'], ['infraction', 'is_related_to', 'referee'], ['officiate', 'is_related_to', 'referee'], ['playing_basketball', 'is_related_to', 'referee'], ['self_officiated', 'is_related_to', 'referee'], ['part_two_boxers', 'is_related_to', 'referee'], ['unrefereed', 'is_related_to', 'referee'], ['refereeing', 'is_related_to', 'referee'], ['crew_chief', 'is_related_to', 'referee'], ['drop_ball', 'is_related_to', 'referee'], ['daysman', 'is_related_to', 'referee'], ['referees', 'is_related_to', 'referee'], ['referees', 'is_related_to', 'referee'], ['article', 'is_related_to', 'referee'], ['technical_submission', 'is_related_to', 'referee'], ['sporting_event', 'is_related_to', 'referee'], ['judgment_call', 'is_related_to', 'referee'], ['count_out', 'is_related_to', 'referee'], ['letter', 'is_related_to', 'referee'], ['game', 'is_related_to', 'referee'], ['refereed', 'is_related_to', 'referee'], ['gyoji', 'is_related_to', 'referee'], ['refereeship', 'is_related_to', 'referee'], ['expert', 'is_related_to', 'referee'], ['dispute', 'is_related_to', 'referee'], ['refereed', 'is_related_to', 'referee'], ['buzzer_flag', 'is_related_to', 'referee'], ['man_in_black', 'is_related_to', 'referee'], ['final_whistle', 'is_related_to', 'referee'], ['sports', 'is_related_to', 'referee'], ['ref', 'is_related_to', 'referee'], ['play_to_whistle', 'is_related_to', 'referee'], ['book', 'is_related_to', 'referee'], ['sequester', 'is_related_to', 'referee'], ['video_assistant_referee', 'is_related_to', 'referee'], ['blow_whistle', 'is_related_to', 'referee'], ['manuscript', 'is_related_to', 'referee'], ['sports_judge', 'is_related_to', 'referee'], ['technical_knockout', 'is_related_to', 'referee'], ['settle', 'is_related_to', 'referee'], ['no_side', 'is_related_to', 'referee'], ['referees', 'is_related_to', 'referee'], ['noncall', 'is_related_to', 'referee'], ['reference', 'is_related_to', 'referee'], ['umpire', 'is_related_to', 'referee'], ['reference', 'is_related_to', 'referee'], ['refereeship', 'is_related_to', 'referee'], ['official', 'is_related_to', 'referee'], ['refer', 'is_related_to', 'referee'], ['rule', 'is_related_to', 'referee'], ['captain', 'is_related_to', 'referee'], ['reference', 'is_related_to', 'referee'], ['work_refs', 'is_related_to', 'referee'], ['soccer_game', 'is_related_to', 'referee'], ['makuuchi_kaku', 'is_related_to', 'referee'], ['peer_review', 'is_related_to', 'referee'], ['side_with_opponent', 'is_related_to', 'referee'], ['arbitrator', 'is_related_to', 'referee'], ['zebra', 'is_related_to', 'referee'], ['save_by_bell', 'is_related_to', 'referee'], ['stickler', 'is_related_to', 'referee'], ['umpire', 'is_related_to', 'referee'], ['face_off', 'is_related_to', 'referee'], ['ref', 'is_related_to', 'referee'], ['judge', 'is_related_to', 'referee'], ['second_yellow_card', 'is_related_to', 'referee'], ['arbiter', 'is_related_to', 'referee'], ['saved_by_bell', 'is_related_to', 'referee'], ['publish', 'is_related_to', 'referee'], ['wave_off', 'is_related_to', 'referee'], ['umpire', 'is_related_to', 'referee'], ['badminton', 'is_related_to', 'referee'], ['ref', 'is_related_to', 'referee'], ['official', 'is_related_to', 'referee'], ['umpire', 'is_related_to', 'referee'], ['sports', 'is_related_to', 'referee'], ['referee', 'is_related_to', 'referee'], ['sports_official', 'is_related_to', 'referee'], ['game', 'is_related_to', 'referee'], ['judge', 'is_related_to', 'referee'], ['shirt', 'is_related_to', 'referee'], ['game_judge', 'is_related_to', 'referee'], ['judge', 'is_related_to', 'referee'], ['umpire', 'is_related_to', 'referee'], ['boxing', 'is_related_to', 'referee'], ['boxing_official', 'is_related_to', 'referee'], ['controls', 'is_related_to', 'referee'], ['controls_game', 'is_related_to', 'referee'], ['stripe_shirt', 'is_related_to', 'referee'], ['stripe', 'is_related_to', 'referee'], ['stripes', 'is_related_to', 'referee'], ['football_official', 'is_related_to', 'referee'], ['football', 'is_related_to', 'referee'], ['striped', 'is_related_to', 'referee'], ['striped_shirt', 'is_related_to', 'referee'], ['rules', 'is_related_to', 'referee'], ['oversees', 'is_related_to', 'referee'], ['oversees_rules', 'is_related_to', 'referee'], ['epistle', 'is_related_to', 'Books and Literature'], ['book', 'is_related_to', 'epistle'], ['letter', 'is_related_to', 'epistle'], ['new_testament', 'is_related_to', 'epistle'], ['epistles', 'is_related_to', 'epistle'], ['letter', 'is_related_to', 'epistle'], ['epistoler', 'is_related_to', 'epistle'], ['paul', 'is_related_to', 'epistle'], ['literary', 'is_related_to', 'epistle'], ['2_corinthians', 'is_related_to', 'epistle'], ['corinthians', 'is_related_to', 'epistle'], ['book', 'is_related_to', 'epistle'], ['line', 'is_related_to', 'epistle'], ['colossians', 'is_related_to', 'epistle'], ['chapter', 'is_related_to', 'epistle'], ['james', 'is_related_to', 'epistle'], ['epistolography', 'is_related_to', 'epistle'], ['epistled', 'is_related_to', 'epistle'], ['new_testament', 'is_related_to', 'epistle'], ['new_testament', 'is_related_to', 'epistle'], ['introit', 'is_related_to', 'epistle'], ['epistolary', 'is_related_to', 'epistle'], ['epistolist', 'is_related_to', 'epistle'], ['epistles', 'is_related_to', 'epistle'], ['hebrews', 'is_related_to', 'epistle'], ['epistolic', 'is_related_to', 'epistle'], ['john', 'is_related_to', 'epistle'], ['form', 'is_related_to', 'epistle'], ['epistolizer', 'is_related_to', 'epistle'], ['2_thessalonians', 'is_related_to', 'epistle'], ['1_corinthians', 'is_related_to', 'epistle'], ['epistler', 'is_related_to', 'epistle'], ['letter', 'is_related_to', 'epistle'], ['subdeacon', 'is_related_to', 'epistle'], ['2_timothy', 'is_related_to', 'epistle'], ['1_timothy', 'is_related_to', 'epistle'], ['epistling', 'is_related_to', 'epistle'], ['letter', 'is_related_to', 'epistle'], ['epistolarian', 'is_related_to', 'epistle'], ['1_john', 'is_related_to', 'epistle'], ['epistolize', 'is_related_to', 'epistle'], ['1_thessalonians', 'is_related_to', 'epistle'], ['romans', 'is_related_to', 'epistle'], ['galatians', 'is_related_to', 'epistle'], ['epistler', 'is_related_to', 'epistle'], ['epistled', 'is_related_to', 'epistle'], ['philemon', 'is_related_to', 'epistle'], ['pistle', 'is_related_to', 'epistle'], ['epistolet', 'is_related_to', 'epistle'], ['2_john', 'is_related_to', 'epistle'], ['titus', 'is_related_to', 'epistle'], ['3_john', 'is_related_to', 'epistle'], ['ephesians', 'is_related_to', 'epistle'], ['christianity', 'is_related_to', 'epistle'], ['philippians', 'is_related_to', 'epistle'], ['composition', 'is_related_to', 'epistle'], ['epistler', 'is_related_to', 'epistle'], ['epistle', 'is_related_to', 'epistle'], ['pistle', 'is_related_to', 'epistle'], ['epistolary', 'is_related_to', 'epistle'], ['salesbook', 'is_related_to', 'Books and Literature'], ['book', 'is_related_to', 'salesbook'], ['sale', 'is_related_to', 'salesbook'], ['book', 'is_related_to', 'salesbook'], ['sale', 'is_related_to', 'salesbook'], ['salesbooks', 'is_related_to', 'salesbook'], ['learning_about_tennis', 'is_related_to', 'Books and Literature'], ['book', 'is_related_to', 'learning_about_tennis'], ['book_pahlavi', 'is_related_to', 'Books and Literature'], ['pahlavi', 'is_related_to', 'book_pahlavi'], ['book', 'is_related_to', 'book_pahlavi'], ['smooth', 'is_related_to', 'book_pahlavi'], ['script', 'is_related_to', 'book_pahlavi'], ['ligature', 'is_related_to', 'book_pahlavi'], ['pahlavi', 'is_related_to', 'book_pahlavi'], ['complicated', 'is_related_to', 'book_pahlavi'], ['pahlavi', 'is_related_to', 'book_pahlavi'], ['volume', 'is_related_to', 'Books and Literature'], ['library', 'is_related_to', 'volume'], ['gallon', 'is_related_to', 'volume'], ['ccf', 'is_related_to', 'volume'], ['crescendo', 'is_related_to', 'volume'], ['intensity', 'is_related_to', 'volume'], ['measure', 'is_related_to', 'volume'], ['set_of_books', 'is_related_to', 'volume'], ['sound_property', 'is_related_to', 'volume'], ['bulk', 'is_related_to', 'volume'], ['volume_unit', 'is_related_to', 'volume'], ['objects', 'is_related_to', 'volume'], ['set_of_encyclopedias', 'is_related_to', 'volume'], ['book', 'is_related_to', 'volume'], ['loudness', 'is_related_to', 'volume'], ['capacity', 'is_related_to', 'volume'], ['publication', 'is_related_to', 'volume'], ['sound', 'is_related_to', 'volume'], ['mass', 'is_related_to', 'volume'], ['book', 'is_related_to', 'volume'], ['quantity', 'is_related_to', 'volume'], ['alcohol_by_volume', 'is_related_to', 'volume'], ['femtoliter', 'is_related_to', 'volume'], ['supergrid', 'is_related_to', 'volume'], ['height', 'is_related_to', 'volume'], ['sphericity', 'is_related_to', 'volume'], ['isovolume', 'is_related_to', 'volume'], ['equivolume', 'is_related_to', 'volume'], ['cubation', 'is_related_to', 'volume'], ['fluid_ounce', 'is_related_to', 'volume'], ['hectostere', 'is_related_to', 'volume'], ['isovolumetric', 'is_related_to', 'volume'], ['kab', 'is_related_to', 'volume'], ['volumetrics', 'is_related_to', 'volume'], ['volumetrics', 'is_related_to', 'volume'], ['duplication_of_cube', 'is_related_to', 'volume'], ['normospermia', 'is_related_to', 'volume'], ['expand', 'is_related_to', 'volume'], ['disbound', 'is_related_to', 'volume'], ['concentration', 'is_related_to', 'volume'], ['whiteout', 'is_related_to', 'volume'], ['length', 'is_related_to', 'volume'], ['heavier_than_air', 'is_related_to', 'volume'], ['w_v', 'is_related_to', 'volume'], ['duck', 'is_related_to', 'volume'], ['isovolumic', 'is_related_to', 'volume'], ['diavolume', 'is_related_to', 'volume'], ['measure', 'is_related_to', 'volume'], ['shear_wave', 'is_related_to', 'volume'], ['teacupful', 'is_related_to', 'volume'], ['volumenometer', 'is_related_to', 'volume'], ['paralanguage', 'is_related_to', 'volume'], ['ventilometry', 'is_related_to', 'volume'], ['ghetto_blaster', 'is_related_to', 'volume'], ['charge_density', 'is_related_to', 'volume'], ['engine_displacement', 'is_related_to', 'volume'], ['gallon', 'is_related_to', 'volume'], ['biovolume', 'is_related_to', 'volume'], ['power_chord', 'is_related_to', 'volume'], ['bone_loss', 'is_related_to', 'volume'], ['z_average', 'is_related_to', 'volume'], ['isothermic', 'is_related_to', 'volume'], ['sidechaining', 'is_related_to', 'volume'], ['fodder', 'is_related_to', 'volume'], ['tomelet', 'is_related_to', 'volume'], ['multivolume', 'is_related_to', 'volume'], ['volumize', 'is_related_to', 'volume'], ['ticky', 'is_related_to', 'volume'], ['plethysmograph', 'is_related_to', 'volume'], ['space_charge', 'is_related_to', 'volume'], ['bulk_density', 'is_related_to', 'volume'], ['drown', 'is_related_to', 'volume'], ['vu_meter', 'is_related_to', 'volume'], ['lethek', 'is_related_to', 'volume'], ['section', 'is_related_to', 'volume'], ['hoppus_foot', 'is_related_to', 'volume'], ['shadow_volume', 'is_related_to', 'volume'], ['gomer', 'is_related_to', 'volume'], ['bathophobia', 'is_related_to', 'volume'], ['volumeter', 'is_related_to', 'volume'], ['money', 'is_related_to', 'volume'], ['envolume', 'is_related_to', 'volume'], ['volumes', 'is_related_to', 'volume'], ['sa_vol', 'is_related_to', 'volume'], ['d10w', 'is_related_to', 'volume'], ['scoop', 'is_related_to', 'volume'], ['table_wine', 'is_related_to', 'volume'], ['economics', 'is_related_to', 'volume'], ['encyclopedia_set', 'is_related_to', 'volume'], ['shrivelled', 'is_related_to', 'volume'], ['chomer', 'is_related_to', 'volume'], ['volumeless', 'is_related_to', 'volume'], ['volumetric_analysis', 'is_related_to', 'volume'], ['femtolitre', 'is_related_to', 'volume'], ['semibulk', 'is_related_to', 'volume'], ['seah', 'is_related_to', 'volume'], ['isochore', 'is_related_to', 'volume'], ['log', 'is_related_to', 'volume'], ['enophthalmos', 'is_related_to', 'volume'], ['blood_volume', 'is_related_to', 'volume'], ['centilitre', 'is_related_to', 'volume'], ['impedance_plethysmography', 'is_related_to', 'volume'], ['ssh', 'is_related_to', 'volume'], ['volumetry', 'is_related_to', 'volume'], ['volumed', 'is_related_to', 'volume'], ['attack', 'is_related_to', 'volume'], ['volumed', 'is_related_to', 'volume'], ['volumizer', 'is_related_to', 'volume'], ['equivolume', 'is_related_to', 'volume'], ['voxel', 'is_related_to', 'volume'], ['millipascal', 'is_related_to', 'volume'], ['outring', 'is_related_to', 'volume'], ['hectolitre', 'is_related_to', 'volume'], ['spatial_quantity', 'is_related_to', 'volume'], ['cube_out', 'is_related_to', 'volume'], ['fit_to_wake_dead', 'is_related_to', 'volume'], ['shriveled', 'is_related_to', 'volume'], ['chiaroscurist', 'is_related_to', 'volume'], ['size', 'is_related_to', 'volume'], ['volumes', 'is_related_to', 'volume'], ['lay_off', 'is_related_to', 'volume'], ['local_volume', 'is_related_to', 'volume'], ['bel', 'is_related_to', 'volume'], ['undertone', 'is_related_to', 'volume'], ['pile_it_high_sell_it_cheap', 'is_related_to', 'volume'], ['crossfade', 'is_related_to', 'volume'], ['hypervolume', 'is_related_to', 'volume'], ['flask', 'is_related_to', 'volume'], ['nonvolume', 'is_related_to', 'volume'], ['hematocrit', 'is_related_to', 'volume'], ['periodical', 'is_related_to', 'volume'], ['decibel', 'is_related_to', 'volume'], ['vital_capacity', 'is_related_to', 'volume'], ['chupa', 'is_related_to', 'volume'], ['volumescope', 'is_related_to', 'volume'], ['chiaroscuro', 'is_related_to', 'volume'], ['content', 'is_related_to', 'volume'], ['pinch', 'is_related_to', 'volume'], ['weight_gainer', 'is_related_to', 'volume'], ['volemic', 'is_related_to', 'volume'], ['minibag', 'is_related_to', 'volume'], ['space', 'is_related_to', 'volume'], ['medimnos', 'is_related_to', 'volume'], ['qafiz', 'is_related_to', 'volume'], ['crossing', 'is_related_to', 'volume'], ['chemical_flux', 'is_related_to', 'volume'], ['undulate', 'is_related_to', 'volume'], ['hoppus_ton', 'is_related_to', 'volume'], ['microformal', 'is_related_to', 'volume'], ['voluminous', 'is_related_to', 'volume'], ['microcanonical', 'is_related_to', 'volume'], ['mililiter', 'is_related_to', 'volume'], ['hypervolemia', 'is_related_to', 'volume'], [\"boyle's_law\", 'is_related_to', 'volume'], ['volumize', 'is_related_to', 'volume'], ['volumeless', 'is_related_to', 'volume'], ['capacity', 'is_related_to', 'volume'], ['volumescope', 'is_related_to', 'volume'], ['amount', 'is_related_to', 'volume'], ['gush', 'is_related_to', 'volume'], ['root_mean_square_velocity', 'is_related_to', 'volume'], ['ardeb', 'is_related_to', 'volume'], ['envolume', 'is_related_to', 'volume'], ['hypovolemic', 'is_related_to', 'volume'], ['book', 'is_related_to', 'volume'], ['space', 'is_related_to', 'volume'], ['convey', 'is_related_to', 'volume'], ['titrant', 'is_related_to', 'volume'], ['dynamic', 'is_related_to', 'volume'], ['subvolume', 'is_related_to', 'volume'], ['applauseometer', 'is_related_to', 'volume'], ['gruntometer', 'is_related_to', 'volume'], ['iceberg', 'is_related_to', 'volume'], [\"miner's_inch\", 'is_related_to', 'volume'], ['spacecut', 'is_related_to', 'volume'], ['normovolemia', 'is_related_to', 'volume'], ['magnetovolume', 'is_related_to', 'volume'], ['tome', 'is_related_to', 'volume'], ['displacement_ton', 'is_related_to', 'volume'], ['quarter', 'is_related_to', 'volume'], ['partition', 'is_related_to', 'volume'], ['menger_sponge', 'is_related_to', 'volume'], ['aeolian_attachment', 'is_related_to', 'volume'], ['diavolume', 'is_related_to', 'volume'], ['volumic', 'is_related_to', 'volume'], ['oligospermia', 'is_related_to', 'volume'], ['ephah', 'is_related_to', 'volume'], ['level', 'is_related_to', 'volume'], ['omer', 'is_related_to', 'volume'], ['spirometer', 'is_related_to', 'volume'], ['carrus', 'is_related_to', 'volume'], ['hypospermia', 'is_related_to', 'volume'], ['bubble', 'is_related_to', 'volume'], ['subvolume', 'is_related_to', 'volume'], ['dimed', 'is_related_to', 'volume'], ['tome', 'is_related_to', 'volume'], ['hydrostat', 'is_related_to', 'volume'], ['pocket', 'is_related_to', 'volume'], ['specific_gravity', 'is_related_to', 'volume'], ['cubic_metre', 'is_related_to', 'volume'], ['mensuration', 'is_related_to', 'volume'], ['homer', 'is_related_to', 'volume'], ['cubic_capacity', 'is_related_to', 'volume'], ['combined_gas_law', 'is_related_to', 'volume'], ['set_of_encylopedia', 'is_related_to', 'volume'], ['cor', 'is_related_to', 'volume'], ['water_potential', 'is_related_to', 'volume'], ['adjusting_amplitude', 'is_related_to', 'volume'], ['congius', 'is_related_to', 'volume'], ['ganta', 'is_related_to', 'volume'], ['pore_space', 'is_related_to', 'volume'], ['voluminous', 'is_related_to', 'volume'], ['water_meter', 'is_related_to', 'volume'], ['osmotherapy', 'is_related_to', 'volume'], ['microvolume', 'is_related_to', 'volume'], ['voluminal', 'is_related_to', 'volume'], ['intervolume', 'is_related_to', 'volume'], ['microdispensing', 'is_related_to', 'volume'], ['nonconserver', 'is_related_to', 'volume'], ['helmholtz_free_energy', 'is_related_to', 'volume'], ['matter', 'is_related_to', 'volume'], ['crank_out', 'is_related_to', 'volume'], ['modius', 'is_related_to', 'volume'], ['caseload', 'is_related_to', 'volume'], ['magnetovolume', 'is_related_to', 'volume'], ['hard_disk', 'is_related_to', 'volume'], ['isochoric', 'is_related_to', 'volume'], ['isovist', 'is_related_to', 'volume'], ['test_portion', 'is_related_to', 'volume'], ['nonconserving', 'is_related_to', 'volume'], ['quantity', 'is_related_to', 'volume'], ['debye_sphere', 'is_related_to', 'volume'], ['volumometer', 'is_related_to', 'volume'], ['cubic', 'is_related_to', 'volume'], ['sound_hole', 'is_related_to', 'volume'], ['winchester_measure', 'is_related_to', 'volume'], ['swell_box', 'is_related_to', 'volume'], ['multivolume', 'is_related_to', 'volume'], ['lethech', 'is_related_to', 'volume'], ['d20w', 'is_related_to', 'volume'], ['pressure_volume_diagram', 'is_related_to', 'volume'], ['fother', 'is_related_to', 'volume'], ['absolute_humidity', 'is_related_to', 'volume'], ['quadrupel', 'is_related_to', 'volume'], ['tablespoon', 'is_related_to', 'volume'], ['square_cube_law', 'is_related_to', 'volume'], ['hin', 'is_related_to', 'volume'], ['bulk_cargo', 'is_related_to', 'volume'], ['large_and_collected_amount', 'is_related_to', 'volume'], ['lebesgue_measure', 'is_related_to', 'volume'], ['worldvolume', 'is_related_to', 'volume'], ['eudiometer', 'is_related_to', 'volume'], ['nonvolume', 'is_related_to', 'volume'], ['book', 'is_related_to', 'volume'], ['hypervolume', 'is_related_to', 'volume'], ['completing_set_of_books', 'is_related_to', 'volume'], ['carenum', 'is_related_to', 'volume'], ['waft', 'is_related_to', 'volume'], ['bulk', 'is_related_to', 'volume'], ['dilatometry', 'is_related_to', 'volume'], ['drive_letter', 'is_related_to', 'volume'], ['drawbar', 'is_related_to', 'volume'], ['venturi_tube', 'is_related_to', 'volume'], ['bentonite', 'is_related_to', 'volume'], ['bath', 'is_related_to', 'volume'], ['pistonphone', 'is_related_to', 'volume'], ['stupendous', 'is_related_to', 'volume'], ['biovolume', 'is_related_to', 'volume'], ['collection_of_books', 'is_related_to', 'volume'], ['microvolume', 'is_related_to', 'volume'], ['voluming', 'is_related_to', 'volume'], ['fade', 'is_related_to', 'volume'], ['cubic_inch', 'is_related_to', 'volume'], ['up', 'is_related_to', 'volume'], ['volumist', 'is_related_to', 'volume'], ['loudly', 'is_related_to', 'volume'], ['nipperkin', 'is_related_to', 'volume'], ['headpiece', 'is_related_to', 'volume'], ['swell', 'is_related_to', 'volume'], ['volumist', 'is_related_to', 'volume'], ['eigenvolume', 'is_related_to', 'volume'], ['dynamic', 'is_related_to', 'volume'], ['piezocoefficient', 'is_related_to', 'volume'], ['cubic_decimetre', 'is_related_to', 'volume'], ['credit', 'is_related_to', 'volume'], ['ounce', 'is_related_to', 'volume'], ['d5w', 'is_related_to', 'volume'], ['equivolume', 'is_related_to', 'volume'], ['turn_up', 'is_related_to', 'volume'], ['qasab', 'is_related_to', 'volume'], ['volumeter', 'is_related_to', 'volume'], ['computing', 'is_related_to', 'volume'], ['plethysmometer', 'is_related_to', 'volume'], ['dessertspoonful', 'is_related_to', 'volume'], ['feet', 'is_related_to', 'volume'], ['ton', 'is_related_to', 'volume'], ['isovolume', 'is_related_to', 'volume'], ['cubic_centimetre', 'is_related_to', 'volume'], ['sapa', 'is_related_to', 'volume'], ['apothecaries_system', 'is_related_to', 'volume'], ['kor', 'is_related_to', 'volume'], ['crank_up', 'is_related_to', 'volume'], ['semenogram', 'is_related_to', 'volume'], ['volumenometry', 'is_related_to', 'volume'], ['biggest_knob_on_stereo', 'is_related_to', 'volume'], ['gigabarrel', 'is_related_to', 'volume'], ['turn_down', 'is_related_to', 'volume'], ['storage', 'is_related_to', 'volume'], ['equivolumetric', 'is_related_to', 'volume'], ['density', 'is_related_to', 'volume'], ['measuring_how_much_space_occupies', 'is_related_to', 'volume'], ['angels_share', 'is_related_to', 'volume'], ['electron_density', 'is_related_to', 'volume'], ['case_reporter', 'is_related_to', 'volume'], ['stere', 'is_related_to', 'volume'], ['cubic_quantity', 'is_related_to', 'volume'], ['imperial_pint', 'is_related_to', 'volume'], ['volumized', 'is_related_to', 'volume'], ['volume', 'is_related_to', 'volume'], ['defrutum', 'is_related_to', 'volume'], ['hypovolemia', 'is_related_to', 'volume'], ['pressurization', 'is_related_to', 'volume'], ['space_factor', 'is_related_to', 'volume'], ['acre_foot', 'is_related_to', 'volume'], ['measure', 'is_related_to', 'volume'], ['file_system', 'is_related_to', 'volume'], ['fader', 'is_related_to', 'volume'], ['measure_of_space', 'is_related_to', 'volume'], ['positive_displacement_pump', 'is_related_to', 'volume'], ['volumic', 'is_related_to', 'volume'], ['isometric', 'is_related_to', 'volume'], ['research', 'is_related_to', 'volume'], ['fluid_measure', 'is_related_to', 'volume'], ['non_aspectual_quantity', 'is_related_to', 'volume'], ['cartload', 'is_related_to', 'volume'], ['core', 'is_related_to', 'volume'], ['issaron', 'is_related_to', 'volume'], ['measuring_stock_market_activity', 'is_related_to', 'volume'], ['business', 'is_related_to', 'volume'], ['intervolume', 'is_related_to', 'volume'], ['solidity', 'is_related_to', 'volume'], ['spirometry', 'is_related_to', 'volume'], ['centimeter', 'is_related_to', 'volume'], ['log_scaler', 'is_related_to', 'volume'], ['measurement_ton', 'is_related_to', 'volume'], ['compression_ratio', 'is_related_to', 'volume'], ['measure_theory', 'is_related_to', 'volume'], ['cab', 'is_related_to', 'volume'], ['liquid_measure', 'is_related_to', 'volume']]\n"
     ]
    }
   ],
   "source": [
    "print(lol[0:1000])"
   ]
  },
  {
   "cell_type": "code",
   "execution_count": 788,
   "metadata": {},
   "outputs": [
    {
     "name": "stderr",
     "output_type": "stream",
     "text": [
      "100%|██████████| 26952/26952 [10:10:38<00:00,  1.36s/it]     \n"
     ]
    }
   ],
   "source": [
    "second_meta_list=conceptNetsecondcall(meta_list)\n",
    "with open('KG_with_ConceptNet_Two_hop.pkl', 'wb') as f:\n",
    "    pkl.dump(second_meta_list, f)"
   ]
  },
  {
   "cell_type": "code",
   "execution_count": 789,
   "metadata": {},
   "outputs": [
    {
     "name": "stdout",
     "output_type": "stream",
     "text": [
      "976650\n"
     ]
    }
   ],
   "source": [
    "print(len(second_meta_list))"
   ]
  },
  {
   "cell_type": "code",
   "execution_count": 790,
   "metadata": {},
   "outputs": [
    {
     "data": {
      "text/plain": [
       "26952"
      ]
     },
     "execution_count": 790,
     "metadata": {},
     "output_type": "execute_result"
    }
   ],
   "source": [
    "len(meta_list)"
   ]
  },
  {
   "cell_type": "code",
   "execution_count": 855,
   "metadata": {},
   "outputs": [],
   "source": [
    "one_hop_list=list(set(tuple(row) for row in meta_list))"
   ]
  },
  {
   "cell_type": "code",
   "execution_count": 858,
   "metadata": {},
   "outputs": [
    {
     "data": {
      "text/plain": [
       "23230"
      ]
     },
     "execution_count": 858,
     "metadata": {},
     "output_type": "execute_result"
    }
   ],
   "source": [
    "len(one_hop_list)"
   ]
  },
  {
   "cell_type": "code",
   "execution_count": 857,
   "metadata": {},
   "outputs": [],
   "source": [
    "with open('KG_with_ConceptNet_One_hop.pkl', 'wb') as f:\n",
    "    pkl.dump(one_hop_list, f)"
   ]
  },
  {
   "cell_type": "code",
   "execution_count": 794,
   "metadata": {},
   "outputs": [],
   "source": [
    "two_hop_list=list(set(tuple(row) for row in second_meta_list))"
   ]
  },
  {
   "cell_type": "code",
   "execution_count": 859,
   "metadata": {},
   "outputs": [
    {
     "data": {
      "text/plain": [
       "835757"
      ]
     },
     "execution_count": 859,
     "metadata": {},
     "output_type": "execute_result"
    }
   ],
   "source": [
    "len(two_hop_list)"
   ]
  },
  {
   "cell_type": "code",
   "execution_count": 796,
   "metadata": {},
   "outputs": [],
   "source": [
    "with open('KG_with_ConceptNet_Two_hop.pkl', 'wb') as f:\n",
    "    pkl.dump(two_hop_list, f)"
   ]
  },
  {
   "cell_type": "code",
   "execution_count": 860,
   "metadata": {},
   "outputs": [
    {
     "data": {
      "text/plain": [
       "('gyp', 'is_related_to', 'kitchen')"
      ]
     },
     "execution_count": 860,
     "metadata": {},
     "output_type": "execute_result"
    }
   ],
   "source": [
    "two_hop_list[100030]"
   ]
  },
  {
   "cell_type": "code",
   "execution_count": 861,
   "metadata": {},
   "outputs": [
    {
     "data": {
      "text/plain": [
       "('destruction', 'is_related_to', 'Remodeling & Construction')"
      ]
     },
     "execution_count": 861,
     "metadata": {},
     "output_type": "execute_result"
    }
   ],
   "source": [
    "one_hop_list[1000]"
   ]
  },
  {
   "cell_type": "code",
   "execution_count": 862,
   "metadata": {},
   "outputs": [],
   "source": [
    "statistics_dic_one_hop={}"
   ]
  },
  {
   "cell_type": "code",
   "execution_count": 863,
   "metadata": {},
   "outputs": [],
   "source": [
    "head=[]\n",
    "relation=[]\n",
    "tail=[]\n",
    "for items in tqdm(one_hop_list):\n",
    "    head.append(items[0])\n",
    "    relation.append(items[1])\n",
    "    tail.append(items[2])\n",
    "dic={\"IAB Keyword\": tail, \"Relation\": relation, \"Object\": head}\n",
    "df_statistics=pd.DataFrame.from_dict(dic)\n"
   ]
  },
  {
   "cell_type": "code",
   "execution_count": 873,
   "metadata": {},
   "outputs": [
    {
     "name": "stderr",
     "output_type": "stream",
     "text": [
      "100%|██████████| 835757/835757 [00:00<00:00, 1341906.83it/s]\n"
     ]
    }
   ],
   "source": [
    "head=[]\n",
    "relation=[]\n",
    "tail=[]\n",
    "for items in tqdm(two_hop_list):\n",
    "    head.append(items[0])\n",
    "    relation.append(items[1])\n",
    "    tail.append(items[2])\n",
    "dic={\"One_Hop_Call\": tail, \"Relation\": relation, \"Object\": head}\n",
    "df_statistics_two_hop=pd.DataFrame.from_dict(dic)"
   ]
  },
  {
   "cell_type": "code",
   "execution_count": 874,
   "metadata": {},
   "outputs": [
    {
     "data": {
      "text/html": [
       "<div>\n",
       "<style scoped>\n",
       "    .dataframe tbody tr th:only-of-type {\n",
       "        vertical-align: middle;\n",
       "    }\n",
       "\n",
       "    .dataframe tbody tr th {\n",
       "        vertical-align: top;\n",
       "    }\n",
       "\n",
       "    .dataframe thead th {\n",
       "        text-align: right;\n",
       "    }\n",
       "</style>\n",
       "<table border=\"1\" class=\"dataframe\">\n",
       "  <thead>\n",
       "    <tr style=\"text-align: right;\">\n",
       "      <th></th>\n",
       "      <th>One_Hop_Call</th>\n",
       "      <th>Relation</th>\n",
       "      <th>Object</th>\n",
       "    </tr>\n",
       "  </thead>\n",
       "  <tbody>\n",
       "    <tr>\n",
       "      <th>0</th>\n",
       "      <td>zoology</td>\n",
       "      <td>is_related_to</td>\n",
       "      <td>dimyarian</td>\n",
       "    </tr>\n",
       "    <tr>\n",
       "      <th>1</th>\n",
       "      <td>flies</td>\n",
       "      <td>is_related_to</td>\n",
       "      <td>flyswatter</td>\n",
       "    </tr>\n",
       "    <tr>\n",
       "      <th>2</th>\n",
       "      <td>relative</td>\n",
       "      <td>is_related_to</td>\n",
       "      <td>referral</td>\n",
       "    </tr>\n",
       "    <tr>\n",
       "      <th>3</th>\n",
       "      <td>buildings</td>\n",
       "      <td>is_related_to</td>\n",
       "      <td>shade</td>\n",
       "    </tr>\n",
       "    <tr>\n",
       "      <th>4</th>\n",
       "      <td>liquid</td>\n",
       "      <td>is_related_to</td>\n",
       "      <td>hexone</td>\n",
       "    </tr>\n",
       "    <tr>\n",
       "      <th>...</th>\n",
       "      <td>...</td>\n",
       "      <td>...</td>\n",
       "      <td>...</td>\n",
       "    </tr>\n",
       "    <tr>\n",
       "      <th>835752</th>\n",
       "      <td>despair</td>\n",
       "      <td>is_related_to</td>\n",
       "      <td>despairest</td>\n",
       "    </tr>\n",
       "    <tr>\n",
       "      <th>835753</th>\n",
       "      <td>smoke</td>\n",
       "      <td>is_related_to</td>\n",
       "      <td>smolder</td>\n",
       "    </tr>\n",
       "    <tr>\n",
       "      <th>835754</th>\n",
       "      <td>regress</td>\n",
       "      <td>is_related_to</td>\n",
       "      <td>regressand</td>\n",
       "    </tr>\n",
       "    <tr>\n",
       "      <th>835755</th>\n",
       "      <td>object</td>\n",
       "      <td>is_related_to</td>\n",
       "      <td>towfish</td>\n",
       "    </tr>\n",
       "    <tr>\n",
       "      <th>835756</th>\n",
       "      <td>cell</td>\n",
       "      <td>is_related_to</td>\n",
       "      <td>pyroptosome</td>\n",
       "    </tr>\n",
       "  </tbody>\n",
       "</table>\n",
       "<p>835757 rows × 3 columns</p>\n",
       "</div>"
      ],
      "text/plain": [
       "       One_Hop_Call       Relation       Object\n",
       "0           zoology  is_related_to    dimyarian\n",
       "1             flies  is_related_to   flyswatter\n",
       "2          relative  is_related_to     referral\n",
       "3         buildings  is_related_to        shade\n",
       "4            liquid  is_related_to       hexone\n",
       "...             ...            ...          ...\n",
       "835752      despair  is_related_to   despairest\n",
       "835753        smoke  is_related_to      smolder\n",
       "835754      regress  is_related_to   regressand\n",
       "835755       object  is_related_to      towfish\n",
       "835756         cell  is_related_to  pyroptosome\n",
       "\n",
       "[835757 rows x 3 columns]"
      ]
     },
     "execution_count": 874,
     "metadata": {},
     "output_type": "execute_result"
    }
   ],
   "source": [
    "df_statistics_two_hop"
   ]
  },
  {
   "cell_type": "code",
   "execution_count": 864,
   "metadata": {},
   "outputs": [],
   "source": [
    "unique_IAB=list(set(tail))"
   ]
  },
  {
   "cell_type": "code",
   "execution_count": 865,
   "metadata": {},
   "outputs": [
    {
     "data": {
      "text/html": [
       "<div>\n",
       "<style scoped>\n",
       "    .dataframe tbody tr th:only-of-type {\n",
       "        vertical-align: middle;\n",
       "    }\n",
       "\n",
       "    .dataframe tbody tr th {\n",
       "        vertical-align: top;\n",
       "    }\n",
       "\n",
       "    .dataframe thead th {\n",
       "        text-align: right;\n",
       "    }\n",
       "</style>\n",
       "<table border=\"1\" class=\"dataframe\">\n",
       "  <thead>\n",
       "    <tr style=\"text-align: right;\">\n",
       "      <th></th>\n",
       "      <th>IAB Keyword</th>\n",
       "      <th>Relation</th>\n",
       "      <th>Object</th>\n",
       "    </tr>\n",
       "  </thead>\n",
       "  <tbody>\n",
       "    <tr>\n",
       "      <th>0</th>\n",
       "      <td>Birds</td>\n",
       "      <td>is_related_to</td>\n",
       "      <td>head_south</td>\n",
       "    </tr>\n",
       "    <tr>\n",
       "      <th>1</th>\n",
       "      <td>Polar Travel</td>\n",
       "      <td>is_related_to</td>\n",
       "      <td>overshoe</td>\n",
       "    </tr>\n",
       "    <tr>\n",
       "      <th>2</th>\n",
       "      <td>Style &amp; Fashion</td>\n",
       "      <td>is_related_to</td>\n",
       "      <td>poufy</td>\n",
       "    </tr>\n",
       "    <tr>\n",
       "      <th>3</th>\n",
       "      <td>Dogs</td>\n",
       "      <td>is_related_to</td>\n",
       "      <td>get_lost</td>\n",
       "    </tr>\n",
       "    <tr>\n",
       "      <th>4</th>\n",
       "      <td>Musical Instruments</td>\n",
       "      <td>is_related_to</td>\n",
       "      <td>timbal</td>\n",
       "    </tr>\n",
       "  </tbody>\n",
       "</table>\n",
       "</div>"
      ],
      "text/plain": [
       "           IAB Keyword       Relation      Object\n",
       "0                Birds  is_related_to  head_south\n",
       "1         Polar Travel  is_related_to    overshoe\n",
       "2      Style & Fashion  is_related_to       poufy\n",
       "3                 Dogs  is_related_to    get_lost\n",
       "4  Musical Instruments  is_related_to      timbal"
      ]
     },
     "execution_count": 865,
     "metadata": {},
     "output_type": "execute_result"
    }
   ],
   "source": [
    "df_statistics.head()\n"
   ]
  },
  {
   "cell_type": "code",
   "execution_count": 880,
   "metadata": {},
   "outputs": [
    {
     "name": "stdout",
     "output_type": "stream",
     "text": [
      "116                 medicine_cabinet\n",
      "253               reducing_body_odor\n",
      "309      topically_applied_substance\n",
      "1137                        underarm\n",
      "1915                   grocery_store\n",
      "                    ...             \n",
      "21132                     smell_good\n",
      "21565                            axe\n",
      "21744                     hexetidine\n",
      "22402         prevent_foul_body_odor\n",
      "22416    covering_up_foul_body_odors\n",
      "Name: Object, Length: 68, dtype: object\n"
     ]
    }
   ],
   "source": [
    "print(df_statistics[df_statistics['IAB Keyword']=='Deodorant and Antiperspirant']['Object'])"
   ]
  },
  {
   "cell_type": "code",
   "execution_count": 881,
   "metadata": {},
   "outputs": [
    {
     "name": "stderr",
     "output_type": "stream",
     "text": [
      "100%|██████████| 161/161 [17:16<00:00,  6.44s/it]\n"
     ]
    }
   ],
   "source": [
    "counts=[]\n",
    "counts_two_hop=[]\n",
    "Ten_examples=[]\n",
    "\n",
    "for keyword in tqdm(IAB_keywords):\n",
    "    counts.append(df_statistics[df_statistics['IAB Keyword']==keyword].shape[0])\n",
    "    Ten_examples.append(df_statistics[df_statistics['IAB Keyword']==keyword]['Object'].tolist()[0:10])\n",
    "    listofcalls=df_statistics[df_statistics['IAB Keyword']==keyword]['Object'].to_list()\n",
    "    count=0\n",
    "    for call in listofcalls:\n",
    "        count=count+df_statistics_two_hop[df_statistics_two_hop['One_Hop_Call']==call].shape[0]\n",
    "    counts_two_hop.append(count)\n",
    "\n",
    "\n",
    "\n",
    "statistics_dic={\"IAB Keyword\": IAB_keywords, 'One_Hop_Edges_Count': counts, 'Two_Hop_Edges_Count':counts_two_hop, \"10 Examples\": Ten_examples}\n",
    "df_statistics_final=pd.DataFrame.from_dict(statistics_dic)\n",
    "\n",
    "df_statistics_final.to_csv('ConceptNet_KG_Statistics.csv',index=False)\n",
    "\n",
    "\n"
   ]
  },
  {
   "cell_type": "code",
   "execution_count": null,
   "metadata": {},
   "outputs": [],
   "source": []
  }
 ],
 "metadata": {
  "kernelspec": {
   "display_name": "KG",
   "language": "python",
   "name": "python3"
  },
  "language_info": {
   "codemirror_mode": {
    "name": "ipython",
    "version": 3
   },
   "file_extension": ".py",
   "mimetype": "text/x-python",
   "name": "python",
   "nbconvert_exporter": "python",
   "pygments_lexer": "ipython3",
   "version": "3.11.4"
  },
  "orig_nbformat": 4
 },
 "nbformat": 4,
 "nbformat_minor": 2
}
