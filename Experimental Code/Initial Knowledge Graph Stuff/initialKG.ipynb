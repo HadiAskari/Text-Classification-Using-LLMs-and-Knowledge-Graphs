{
 "cells": [
  {
   "cell_type": "code",
   "execution_count": 10,
   "metadata": {},
   "outputs": [],
   "source": [
    "import pandas as pd\n",
    "import pickle as pkl\n",
    "from tqdm.auto import tqdm\n",
    "from collections import defaultdict\n"
   ]
  },
  {
   "cell_type": "code",
   "execution_count": 11,
   "metadata": {},
   "outputs": [],
   "source": [
    "dfoldmappings=pd.read_csv('MAFlabel_to_Adword_mappings_202210_combined_mappings.csv')"
   ]
  },
  {
   "cell_type": "code",
   "execution_count": 12,
   "metadata": {},
   "outputs": [
    {
     "data": {
      "text/plain": [
       "Index(['Unnamed: 0', 'Recommended Mapping Category', 'Relevancy Label',\n",
       "       'refSource', 'category', 'label', 'targetType', 'adword',\n",
       "       'mappingModality', 'version', 'targetLabel', 'score', 'version.1'],\n",
       "      dtype='object')"
      ]
     },
     "execution_count": 12,
     "metadata": {},
     "output_type": "execute_result"
    }
   ],
   "source": [
    "dfoldmappings.columns"
   ]
  },
  {
   "cell_type": "code",
   "execution_count": 13,
   "metadata": {},
   "outputs": [],
   "source": [
    "listofadwords=dfoldmappings['adword'].to_list()"
   ]
  },
  {
   "cell_type": "code",
   "execution_count": 14,
   "metadata": {},
   "outputs": [],
   "source": [
    "listofadwords=[x.split('|') for x in listofadwords]"
   ]
  },
  {
   "cell_type": "code",
   "execution_count": 15,
   "metadata": {},
   "outputs": [],
   "source": [
    "for id, x in enumerate(listofadwords):\n",
    "    try:\n",
    "        x.remove('')\n",
    "        listofadwords[id]=x\n",
    "    except:\n",
    "        listofadwords[id]=x\n",
    "    "
   ]
  },
  {
   "cell_type": "code",
   "execution_count": 16,
   "metadata": {},
   "outputs": [],
   "source": [
    "listofadwords=[list(item) for item in set(tuple(row) for row in listofadwords)]"
   ]
  },
  {
   "cell_type": "code",
   "execution_count": 17,
   "metadata": {},
   "outputs": [
    {
     "data": {
      "text/plain": [
       "226"
      ]
     },
     "execution_count": 17,
     "metadata": {},
     "output_type": "execute_result"
    }
   ],
   "source": [
    "len(listofadwords)"
   ]
  },
  {
   "cell_type": "code",
   "execution_count": 18,
   "metadata": {},
   "outputs": [
    {
     "name": "stdout",
     "output_type": "stream",
     "text": [
      "[['Automotive', 'Auto Rentals'], ['Business and Finance', 'Food Industry'], ['Automotive', 'Green Vehicles'], ['Business and Finance', 'Industries', 'Entertainment Industry'], ['Automotive', 'Auto Shows'], ['Business and Finance', 'Education industry'], ['Pets', 'Large Animals'], ['Business and Finance', 'Apparel Industry'], ['Travel', 'Travel Locations'], ['Books and Literature'], ['Family and Relationships'], ['Pets'], ['Automotive', 'Auto Type'], ['Style & Fashion', '', \"Women's Jewelry and Watches\"], ['Automotive', 'Auto Parts'], ['Style & Fashion', '', \"Men's Casual Wear\"], ['Travel', 'Cruises'], ['Business and Finance'], ['Events and Attractions', 'Bars & Restaurants'], ['Technology & Computing', 'Computing', 'Desktops'], ['Travel', 'Travel Locations', 'Europe Travel'], ['Food & Drink', 'Alcoholic Beverages'], ['Business and Finance', 'Industries', 'Automotive Industry'], ['Technology & Computing', 'Consumer Electronics', 'Cameras and Camcorders'], ['Home & Garden', 'Home Appliances'], ['Automotive', 'Commercial Trucks'], ['Hobbies & Interests', 'Card Games'], ['Fine Art'], ['Travel', 'Travel Locations', 'Asia Travel'], ['Family and Relationships', 'Parenting', 'Daycare and Pre-School'], ['Business and Finance', 'Entertainment Industry'], ['Events and Attractions', 'Personal Celebrations & Life Events', 'Birthday'], ['Healthy Living'], ['Shopping', 'Grocery Shopping'], ['Style & Fashion', \"Women's Shoes and Footwear\"], ['Home & Garden', 'Home Entertaining'], ['Automotive', 'Pickup Trucks'], ['Events and Attractions', 'Birthday'], ['Healthy Living', 'Wellness'], ['Automotive', 'Auto Body Styles', 'Convertible'], ['Business and Finance', 'Industries', 'Healthcare Industry'], ['Television'], ['Home & Garden'], ['Religion & Spirituality'], ['Family and Relationships', 'Dating'], ['Pets', 'Birds'], ['Automotive', 'Auto Body Styles', 'Van'], ['Medical Health'], ['Events and Attractions', 'Awards Shows'], ['Home & Garden', 'Landscaping'], ['Food & Drink', 'World Cuisines'], ['Style & Fashion', \"Men's Clothing\"], ['Travel', 'Camping'], ['Real Estate', 'Hotel Properties'], ['Business and Finance', 'Automotive Industry'], ['Automotive', 'SUV'], ['Travel', 'Polar Travel'], ['Events and Attractions', 'Personal Celebrations & Life Events', 'Wedding'], ['Hobbies & Interests', 'Board Games and Puzzles'], ['Style & Fashion', 'Beauty', 'Hair Care'], ['Events and Attractions', 'Outdoor Activities'], ['Events and Attractions', 'Museums & Galleries'], ['Style & Fashion', 'Beauty', 'Perfume and Fragrance'], ['Business and Finance', 'Industries', 'Telecommunications Industry'], ['Events and Attractions', 'Wedding'], ['Real Estate', 'Houses'], ['Events and Attractions', 'Religious Events'], ['Travel', 'Travel Type', 'Air Travel'], ['Travel', 'Travel Locations', 'South America Travel'], ['Food & Drink', 'Cooking'], ['Automotive', '', 'Individual Brands'], ['Events and Attractions', 'Theater Venues and Events'], ['Automotive', 'Luxury Cars'], ['Automotive', 'Auto Body Styles', 'Commercial Trucks'], ['Style & Fashion', '', \"Women's Formal Wear\"], ['Business and Finance', 'Healthcare Industry'], ['Events and Attractions', 'Concerts & Music Events'], ['Business and Finance', 'Industries', 'Technology Industry'], ['Real Estate', 'Retail Property'], ['Shopping', 'Household Supplies'], ['Food & Drink', 'Non-Alcoholic Beverages'], ['Style & Fashion', 'Beauty', 'Nail Care'], ['Business and Finance', 'Industries', 'Logistics and Transportation Industry'], ['Education', 'Primary Education'], ['Food & Drink', 'Barbecues and Grilling'], ['Events and Attractions', 'Personal Celebrations & Life Events', 'Prom'], ['Science'], ['Pop Culture'], ['Style & Fashion', '', \"Men's Formal Wear\"], ['Events and Attractions', 'Prom'], ['Pets', 'Dogs'], ['Business and Finance', 'Telecommunications Industry'], ['Style & Fashion', \"Women's Clothing\"], ['Travel', 'Travel Accessories'], ['Travel', 'Travel Type', 'Rail Travel'], ['Style & Fashion', \"Women's Fashion\", \"Women's Accessories\", \"Women's Handbags and Wallets\"], ['Style & Fashion', \"Women's Fashion\", \"Women's Clothing\"], ['Healthy Living', 'Fitness and Exercise'], ['Business and Finance', 'Industries', 'Aviation Industry'], ['Style & Fashion', 'Hair Care'], ['Style & Fashion', 'Perfume and Fragrance'], ['Events and Attractions'], ['Automotive', 'Auto Body Styles', 'SUV'], ['Business and Finance', 'Media Industry'], ['Pets', 'Cats'], ['Technology & Computing', 'Consumer Electronics', 'Tablets and E-readers'], ['Automotive', 'Sedan'], ['Family and Relationships', 'Parenting'], ['Automotive', 'Coupe'], ['Education'], ['Business and Finance', 'Technology Industry'], ['Events and Attractions', 'Casinos & Gambling'], ['Business and Finance', 'Industries', 'Hospitality Industry'], ['Technology & Computing'], ['Automotive', 'Auto Type', 'Green Vehicles'], ['Style & Fashion', 'Personal Care', 'Deodorant and Antiperspirant'], ['Technology & Computing', 'Consumer Electronics'], ['Travel', 'Travel Type', 'Beach Travel'], ['Automotive', 'Auto Body Styles', 'Sedan'], ['Style & Fashion', 'Beauty', 'Makeup and Accessories'], ['Business and Finance', 'Logistics and Transportation Industry'], ['Science', 'Space and Astronomy'], ['Style & Fashion', 'Personal Care', 'Bath and Shower'], ['Style & Fashion', 'Deodorant and Antiperspirant'], ['Hobbies & Interests', 'Games and Puzzles', 'Card Games'], ['Technology & Computing', 'Laptops'], ['Shopping', \"Children's Games and Toys\"], ['Home & Garden', 'Home Security'], ['Family and Relationships', 'Daycare and Pre-School'], ['Style & Fashion', 'Bath and Shower'], ['Style & Fashion', 'Nail Care'], ['Education', 'College Education'], ['Travel', 'Africa Travel'], ['Real Estate'], ['Style & Fashion', \"Men's Fashion\", \"Men's Clothing\", \"Men's Casual Wear\"], ['Automotive', 'Convertible'], ['Automotive', 'Motorcycles'], ['Business and Finance', 'Industries', 'Media Industry'], ['Business and Finance', 'Aviation Industry'], ['Travel', 'North America Travel'], ['Travel', 'Europe Travel'], ['Family and Relationships', 'Single Life'], ['Travel', 'Travel Type', 'Hotels and Motels'], ['Travel', 'Travel Locations', 'Polar Travel'], ['Hobbies & Interests', 'Games and Puzzles'], ['Style & Fashion', \"Men's Fashion\", \"Men's Clothing\", \"Men's Formal Wear\"], ['Business and Finance', 'Retail Industry'], ['Travel', 'Beach Travel'], ['Travel', 'Travel Locations', 'Australia and Oceania Travel'], ['Music and Audio'], ['Video Gaming'], ['Events and Attractions', 'Fashion Events'], ['Business and Finance', 'Hospitality Industry'], ['Automotive', 'Auto Body Styles', 'Pickup Trucks'], ['Automotive', 'Minivan'], ['Food & Drink', 'Desserts and Baking'], ['Style & Fashion', \"Women's Fashion\", \"Women's Accessories\", \"Women's Jewelry and Watches\"], ['Technology & Computing', 'Desktops'], ['Travel', 'Air Travel'], ['Real Estate', 'Land and Farms'], ['Style & Fashion'], ['Home & Garden', 'Remodeling & Construction'], ['Events and Attractions', 'Parks & Nature'], ['Automotive', 'Station Wagon'], ['Hobbies & Interests'], ['Real Estate', 'Apartments'], ['Travel', 'Travel Locations', 'North America Travel'], ['Automotive', 'Auto Body Styles', 'Coupe'], ['Travel', 'Travel Type', 'Cruises'], ['Style & Fashion', 'Makeup and Accessories'], ['Business and Finance', 'Industries', 'Financial Industry'], ['Events and Attractions', 'Malls & Shopping Centers'], ['Shopping', 'Holiday Shopping'], ['Automotive', 'Van'], ['Technology & Computing', 'Smartphones'], ['Travel', 'Hotels and Motels'], ['Automotive', 'Auto Body Styles'], ['Automotive'], ['Movies'], ['Business and Finance', 'Industries', 'Retail Industry'], ['Home & Garden', 'Smart Home'], ['Travel', 'Asia Travel'], ['Technology & Computing', 'Tablets and E-readers'], ['Home & Garden', 'Home Improvement'], ['Events and Attractions', 'Cinemas and Events'], ['Home & Garden', 'Gardening'], ['Travel'], ['Travel', 'Rail Travel'], ['Events and Attractions', 'Comedy Events'], ['Automotive', 'Auto Type', 'Luxury Cars'], ['Events and Attractions', 'Personal Celebrations & Life Events', 'Graduation'], ['Automotive', 'Road-Side Assistance'], ['Business and Finance', 'Industries', 'Food Industry'], ['Travel', 'Travel Type', 'Camping'], ['Food & Drink'], ['Events and Attractions', 'Graduation'], ['Shopping'], ['Business and Finance', 'Financial Industry'], ['Style & Fashion', '', \"Women's Handbags and Wallets\"], ['Sports'], ['Food & Drink', 'Dining Out'], ['Style & Fashion', 'Personal Care', 'Oral care'], ['Automotive', 'Auto Body Styles', 'Minivan'], ['Business and Finance', 'Industries', 'Education industry'], ['Style & Fashion', 'Oral care'], ['Business and Finance', 'Industries', 'Apparel Industry'], ['Style & Fashion', \"Women's Fashion\", \"Women's Clothing\", \"Women's Formal Wear\"], ['Automotive', 'Auto Body Styles', 'Station Wagon'], ['Real Estate', 'Office Property'], ['Style & Fashion', \"Women's Fashion\", \"Women's Shoes and Footwear\"], ['Style & Fashion', \"Men's Fashion\", \"Men's Clothing\"], ['Technology & Computing', 'Consumer Electronics', 'Smartphones'], ['Technology & Computing', 'Cameras and Camcorders'], ['Style & Fashion', 'Beauty'], ['Events and Attractions', 'Zoos & Aquariums'], ['Travel', 'South America Travel'], ['Shopping', 'Flower Shopping'], ['Hobbies & Interests', 'Games and Puzzles', 'Board Games and Puzzles'], ['Travel', 'Travel Locations', 'Africa Travel'], ['Style & Fashion', 'Personal Care', 'Shaving'], ['Style & Fashion', 'Shaving'], ['Pets', 'Reptiles'], ['Technology & Computing', 'Computing', 'Laptops'], ['Events and Attractions', 'Personal Celebrations & Life Events'], ['Hobbies & Interests', 'Musical Instruments'], ['Automotive', 'Auto Repair']]\n"
     ]
    }
   ],
   "source": [
    "print(listofadwords)"
   ]
  },
  {
   "cell_type": "code",
   "execution_count": 19,
   "metadata": {},
   "outputs": [],
   "source": [
    "listofadwords=sorted(listofadwords, key=len)"
   ]
  },
  {
   "cell_type": "code",
   "execution_count": 20,
   "metadata": {},
   "outputs": [
    {
     "data": {
      "text/plain": [
       "[['Books and Literature'],\n",
       " ['Family and Relationships'],\n",
       " ['Pets'],\n",
       " ['Business and Finance'],\n",
       " ['Fine Art'],\n",
       " ['Healthy Living'],\n",
       " ['Television'],\n",
       " ['Home & Garden'],\n",
       " ['Religion & Spirituality'],\n",
       " ['Medical Health'],\n",
       " ['Science'],\n",
       " ['Pop Culture'],\n",
       " ['Events and Attractions'],\n",
       " ['Education'],\n",
       " ['Technology & Computing'],\n",
       " ['Real Estate'],\n",
       " ['Music and Audio'],\n",
       " ['Video Gaming'],\n",
       " ['Style & Fashion'],\n",
       " ['Hobbies & Interests'],\n",
       " ['Automotive'],\n",
       " ['Movies'],\n",
       " ['Travel'],\n",
       " ['Food & Drink'],\n",
       " ['Shopping'],\n",
       " ['Sports'],\n",
       " ['Automotive', 'Auto Rentals'],\n",
       " ['Business and Finance', 'Food Industry'],\n",
       " ['Automotive', 'Green Vehicles'],\n",
       " ['Automotive', 'Auto Shows'],\n",
       " ['Business and Finance', 'Education industry'],\n",
       " ['Pets', 'Large Animals'],\n",
       " ['Business and Finance', 'Apparel Industry'],\n",
       " ['Travel', 'Travel Locations'],\n",
       " ['Automotive', 'Auto Type'],\n",
       " ['Automotive', 'Auto Parts'],\n",
       " ['Travel', 'Cruises'],\n",
       " ['Events and Attractions', 'Bars & Restaurants'],\n",
       " ['Food & Drink', 'Alcoholic Beverages'],\n",
       " ['Home & Garden', 'Home Appliances'],\n",
       " ['Automotive', 'Commercial Trucks'],\n",
       " ['Hobbies & Interests', 'Card Games'],\n",
       " ['Business and Finance', 'Entertainment Industry'],\n",
       " ['Shopping', 'Grocery Shopping'],\n",
       " ['Style & Fashion', \"Women's Shoes and Footwear\"],\n",
       " ['Home & Garden', 'Home Entertaining'],\n",
       " ['Automotive', 'Pickup Trucks'],\n",
       " ['Events and Attractions', 'Birthday'],\n",
       " ['Healthy Living', 'Wellness'],\n",
       " ['Family and Relationships', 'Dating'],\n",
       " ['Pets', 'Birds'],\n",
       " ['Events and Attractions', 'Awards Shows'],\n",
       " ['Home & Garden', 'Landscaping'],\n",
       " ['Food & Drink', 'World Cuisines'],\n",
       " ['Style & Fashion', \"Men's Clothing\"],\n",
       " ['Travel', 'Camping'],\n",
       " ['Real Estate', 'Hotel Properties'],\n",
       " ['Business and Finance', 'Automotive Industry'],\n",
       " ['Automotive', 'SUV'],\n",
       " ['Travel', 'Polar Travel'],\n",
       " ['Hobbies & Interests', 'Board Games and Puzzles'],\n",
       " ['Events and Attractions', 'Outdoor Activities'],\n",
       " ['Events and Attractions', 'Museums & Galleries'],\n",
       " ['Events and Attractions', 'Wedding'],\n",
       " ['Real Estate', 'Houses'],\n",
       " ['Events and Attractions', 'Religious Events'],\n",
       " ['Food & Drink', 'Cooking'],\n",
       " ['Events and Attractions', 'Theater Venues and Events'],\n",
       " ['Automotive', 'Luxury Cars'],\n",
       " ['Business and Finance', 'Healthcare Industry'],\n",
       " ['Events and Attractions', 'Concerts & Music Events'],\n",
       " ['Real Estate', 'Retail Property'],\n",
       " ['Shopping', 'Household Supplies'],\n",
       " ['Food & Drink', 'Non-Alcoholic Beverages'],\n",
       " ['Education', 'Primary Education'],\n",
       " ['Food & Drink', 'Barbecues and Grilling'],\n",
       " ['Events and Attractions', 'Prom'],\n",
       " ['Pets', 'Dogs'],\n",
       " ['Business and Finance', 'Telecommunications Industry'],\n",
       " ['Style & Fashion', \"Women's Clothing\"],\n",
       " ['Travel', 'Travel Accessories'],\n",
       " ['Healthy Living', 'Fitness and Exercise'],\n",
       " ['Style & Fashion', 'Hair Care'],\n",
       " ['Style & Fashion', 'Perfume and Fragrance'],\n",
       " ['Business and Finance', 'Media Industry'],\n",
       " ['Pets', 'Cats'],\n",
       " ['Automotive', 'Sedan'],\n",
       " ['Family and Relationships', 'Parenting'],\n",
       " ['Automotive', 'Coupe'],\n",
       " ['Business and Finance', 'Technology Industry'],\n",
       " ['Events and Attractions', 'Casinos & Gambling'],\n",
       " ['Technology & Computing', 'Consumer Electronics'],\n",
       " ['Business and Finance', 'Logistics and Transportation Industry'],\n",
       " ['Science', 'Space and Astronomy'],\n",
       " ['Style & Fashion', 'Deodorant and Antiperspirant'],\n",
       " ['Technology & Computing', 'Laptops'],\n",
       " ['Shopping', \"Children's Games and Toys\"],\n",
       " ['Home & Garden', 'Home Security'],\n",
       " ['Family and Relationships', 'Daycare and Pre-School'],\n",
       " ['Style & Fashion', 'Bath and Shower'],\n",
       " ['Style & Fashion', 'Nail Care'],\n",
       " ['Education', 'College Education'],\n",
       " ['Travel', 'Africa Travel'],\n",
       " ['Automotive', 'Convertible'],\n",
       " ['Automotive', 'Motorcycles'],\n",
       " ['Business and Finance', 'Aviation Industry'],\n",
       " ['Travel', 'North America Travel'],\n",
       " ['Travel', 'Europe Travel'],\n",
       " ['Family and Relationships', 'Single Life'],\n",
       " ['Hobbies & Interests', 'Games and Puzzles'],\n",
       " ['Business and Finance', 'Retail Industry'],\n",
       " ['Travel', 'Beach Travel'],\n",
       " ['Events and Attractions', 'Fashion Events'],\n",
       " ['Business and Finance', 'Hospitality Industry'],\n",
       " ['Automotive', 'Minivan'],\n",
       " ['Food & Drink', 'Desserts and Baking'],\n",
       " ['Technology & Computing', 'Desktops'],\n",
       " ['Travel', 'Air Travel'],\n",
       " ['Real Estate', 'Land and Farms'],\n",
       " ['Home & Garden', 'Remodeling & Construction'],\n",
       " ['Events and Attractions', 'Parks & Nature'],\n",
       " ['Automotive', 'Station Wagon'],\n",
       " ['Real Estate', 'Apartments'],\n",
       " ['Style & Fashion', 'Makeup and Accessories'],\n",
       " ['Events and Attractions', 'Malls & Shopping Centers'],\n",
       " ['Shopping', 'Holiday Shopping'],\n",
       " ['Automotive', 'Van'],\n",
       " ['Technology & Computing', 'Smartphones'],\n",
       " ['Travel', 'Hotels and Motels'],\n",
       " ['Automotive', 'Auto Body Styles'],\n",
       " ['Home & Garden', 'Smart Home'],\n",
       " ['Travel', 'Asia Travel'],\n",
       " ['Technology & Computing', 'Tablets and E-readers'],\n",
       " ['Home & Garden', 'Home Improvement'],\n",
       " ['Events and Attractions', 'Cinemas and Events'],\n",
       " ['Home & Garden', 'Gardening'],\n",
       " ['Travel', 'Rail Travel'],\n",
       " ['Events and Attractions', 'Comedy Events'],\n",
       " ['Automotive', 'Road-Side Assistance'],\n",
       " ['Events and Attractions', 'Graduation'],\n",
       " ['Business and Finance', 'Financial Industry'],\n",
       " ['Food & Drink', 'Dining Out'],\n",
       " ['Style & Fashion', 'Oral care'],\n",
       " ['Real Estate', 'Office Property'],\n",
       " ['Technology & Computing', 'Cameras and Camcorders'],\n",
       " ['Style & Fashion', 'Beauty'],\n",
       " ['Events and Attractions', 'Zoos & Aquariums'],\n",
       " ['Travel', 'South America Travel'],\n",
       " ['Shopping', 'Flower Shopping'],\n",
       " ['Style & Fashion', 'Shaving'],\n",
       " ['Pets', 'Reptiles'],\n",
       " ['Events and Attractions', 'Personal Celebrations & Life Events'],\n",
       " ['Hobbies & Interests', 'Musical Instruments'],\n",
       " ['Automotive', 'Auto Repair'],\n",
       " ['Business and Finance', 'Industries', 'Entertainment Industry'],\n",
       " ['Style & Fashion', '', \"Women's Jewelry and Watches\"],\n",
       " ['Style & Fashion', '', \"Men's Casual Wear\"],\n",
       " ['Technology & Computing', 'Computing', 'Desktops'],\n",
       " ['Travel', 'Travel Locations', 'Europe Travel'],\n",
       " ['Business and Finance', 'Industries', 'Automotive Industry'],\n",
       " ['Technology & Computing', 'Consumer Electronics', 'Cameras and Camcorders'],\n",
       " ['Travel', 'Travel Locations', 'Asia Travel'],\n",
       " ['Family and Relationships', 'Parenting', 'Daycare and Pre-School'],\n",
       " ['Events and Attractions', 'Personal Celebrations & Life Events', 'Birthday'],\n",
       " ['Automotive', 'Auto Body Styles', 'Convertible'],\n",
       " ['Business and Finance', 'Industries', 'Healthcare Industry'],\n",
       " ['Automotive', 'Auto Body Styles', 'Van'],\n",
       " ['Events and Attractions', 'Personal Celebrations & Life Events', 'Wedding'],\n",
       " ['Style & Fashion', 'Beauty', 'Hair Care'],\n",
       " ['Style & Fashion', 'Beauty', 'Perfume and Fragrance'],\n",
       " ['Business and Finance', 'Industries', 'Telecommunications Industry'],\n",
       " ['Travel', 'Travel Type', 'Air Travel'],\n",
       " ['Travel', 'Travel Locations', 'South America Travel'],\n",
       " ['Automotive', '', 'Individual Brands'],\n",
       " ['Automotive', 'Auto Body Styles', 'Commercial Trucks'],\n",
       " ['Style & Fashion', '', \"Women's Formal Wear\"],\n",
       " ['Business and Finance', 'Industries', 'Technology Industry'],\n",
       " ['Style & Fashion', 'Beauty', 'Nail Care'],\n",
       " ['Business and Finance',\n",
       "  'Industries',\n",
       "  'Logistics and Transportation Industry'],\n",
       " ['Events and Attractions', 'Personal Celebrations & Life Events', 'Prom'],\n",
       " ['Style & Fashion', '', \"Men's Formal Wear\"],\n",
       " ['Travel', 'Travel Type', 'Rail Travel'],\n",
       " ['Style & Fashion', \"Women's Fashion\", \"Women's Clothing\"],\n",
       " ['Business and Finance', 'Industries', 'Aviation Industry'],\n",
       " ['Automotive', 'Auto Body Styles', 'SUV'],\n",
       " ['Technology & Computing', 'Consumer Electronics', 'Tablets and E-readers'],\n",
       " ['Business and Finance', 'Industries', 'Hospitality Industry'],\n",
       " ['Automotive', 'Auto Type', 'Green Vehicles'],\n",
       " ['Style & Fashion', 'Personal Care', 'Deodorant and Antiperspirant'],\n",
       " ['Travel', 'Travel Type', 'Beach Travel'],\n",
       " ['Automotive', 'Auto Body Styles', 'Sedan'],\n",
       " ['Style & Fashion', 'Beauty', 'Makeup and Accessories'],\n",
       " ['Style & Fashion', 'Personal Care', 'Bath and Shower'],\n",
       " ['Hobbies & Interests', 'Games and Puzzles', 'Card Games'],\n",
       " ['Business and Finance', 'Industries', 'Media Industry'],\n",
       " ['Travel', 'Travel Type', 'Hotels and Motels'],\n",
       " ['Travel', 'Travel Locations', 'Polar Travel'],\n",
       " ['Travel', 'Travel Locations', 'Australia and Oceania Travel'],\n",
       " ['Automotive', 'Auto Body Styles', 'Pickup Trucks'],\n",
       " ['Travel', 'Travel Locations', 'North America Travel'],\n",
       " ['Automotive', 'Auto Body Styles', 'Coupe'],\n",
       " ['Travel', 'Travel Type', 'Cruises'],\n",
       " ['Business and Finance', 'Industries', 'Financial Industry'],\n",
       " ['Business and Finance', 'Industries', 'Retail Industry'],\n",
       " ['Automotive', 'Auto Type', 'Luxury Cars'],\n",
       " ['Events and Attractions',\n",
       "  'Personal Celebrations & Life Events',\n",
       "  'Graduation'],\n",
       " ['Business and Finance', 'Industries', 'Food Industry'],\n",
       " ['Travel', 'Travel Type', 'Camping'],\n",
       " ['Style & Fashion', '', \"Women's Handbags and Wallets\"],\n",
       " ['Style & Fashion', 'Personal Care', 'Oral care'],\n",
       " ['Automotive', 'Auto Body Styles', 'Minivan'],\n",
       " ['Business and Finance', 'Industries', 'Education industry'],\n",
       " ['Business and Finance', 'Industries', 'Apparel Industry'],\n",
       " ['Automotive', 'Auto Body Styles', 'Station Wagon'],\n",
       " ['Style & Fashion', \"Women's Fashion\", \"Women's Shoes and Footwear\"],\n",
       " ['Style & Fashion', \"Men's Fashion\", \"Men's Clothing\"],\n",
       " ['Technology & Computing', 'Consumer Electronics', 'Smartphones'],\n",
       " ['Hobbies & Interests', 'Games and Puzzles', 'Board Games and Puzzles'],\n",
       " ['Travel', 'Travel Locations', 'Africa Travel'],\n",
       " ['Style & Fashion', 'Personal Care', 'Shaving'],\n",
       " ['Technology & Computing', 'Computing', 'Laptops'],\n",
       " ['Style & Fashion',\n",
       "  \"Women's Fashion\",\n",
       "  \"Women's Accessories\",\n",
       "  \"Women's Handbags and Wallets\"],\n",
       " ['Style & Fashion', \"Men's Fashion\", \"Men's Clothing\", \"Men's Casual Wear\"],\n",
       " ['Style & Fashion', \"Men's Fashion\", \"Men's Clothing\", \"Men's Formal Wear\"],\n",
       " ['Style & Fashion',\n",
       "  \"Women's Fashion\",\n",
       "  \"Women's Accessories\",\n",
       "  \"Women's Jewelry and Watches\"],\n",
       " ['Style & Fashion',\n",
       "  \"Women's Fashion\",\n",
       "  \"Women's Clothing\",\n",
       "  \"Women's Formal Wear\"]]"
      ]
     },
     "execution_count": 20,
     "metadata": {},
     "output_type": "execute_result"
    }
   ],
   "source": [
    "listofadwords"
   ]
  },
  {
   "cell_type": "code",
   "execution_count": 21,
   "metadata": {},
   "outputs": [],
   "source": [
    "labels=[]\n",
    "for x in listofadwords:\n",
    "    labels.append(x[-1])\n",
    "    "
   ]
  },
  {
   "cell_type": "code",
   "execution_count": 72,
   "metadata": {},
   "outputs": [
    {
     "name": "stdout",
     "output_type": "stream",
     "text": [
      "[['Books and Literature'], ['Family and Relationships'], ['Pets'], ['Business and Finance'], ['Fine Art'], ['Healthy Living'], ['Television'], ['Home & Garden'], ['Religion & Spirituality'], ['Medical Health'], ['Science'], ['Pop Culture'], ['Events and Attractions'], ['Education'], ['Technology & Computing'], ['Real Estate'], ['Music and Audio'], ['Video Gaming'], ['Style & Fashion'], ['Hobbies & Interests'], ['Automotive'], ['Movies'], ['Travel'], ['Food & Drink'], ['Shopping'], ['Sports'], ['Automotive', 'Auto Rentals'], ['Business and Finance', 'Food Industry'], ['Automotive', 'Green Vehicles'], ['Automotive', 'Auto Shows'], ['Business and Finance', 'Education industry'], ['Pets', 'Large Animals'], ['Business and Finance', 'Apparel Industry'], ['Travel', 'Travel Locations'], ['Automotive', 'Auto Type'], ['Automotive', 'Auto Parts'], ['Travel', 'Cruises'], ['Events and Attractions', 'Bars & Restaurants'], ['Food & Drink', 'Alcoholic Beverages'], ['Home & Garden', 'Home Appliances'], ['Automotive', 'Commercial Trucks'], ['Hobbies & Interests', 'Card Games'], ['Business and Finance', 'Entertainment Industry'], ['Shopping', 'Grocery Shopping'], ['Style & Fashion', \"Women's Shoes and Footwear\"], ['Home & Garden', 'Home Entertaining'], ['Automotive', 'Pickup Trucks'], ['Events and Attractions', 'Birthday'], ['Healthy Living', 'Wellness'], ['Family and Relationships', 'Dating'], ['Pets', 'Birds'], ['Events and Attractions', 'Awards Shows'], ['Home & Garden', 'Landscaping'], ['Food & Drink', 'World Cuisines'], ['Style & Fashion', \"Men's Clothing\"], ['Travel', 'Camping'], ['Real Estate', 'Hotel Properties'], ['Business and Finance', 'Automotive Industry'], ['Automotive', 'SUV'], ['Travel', 'Polar Travel'], ['Hobbies & Interests', 'Board Games and Puzzles'], ['Events and Attractions', 'Outdoor Activities'], ['Events and Attractions', 'Museums & Galleries'], ['Events and Attractions', 'Wedding'], ['Real Estate', 'Houses'], ['Events and Attractions', 'Religious Events'], ['Food & Drink', 'Cooking'], ['Events and Attractions', 'Theater Venues and Events'], ['Automotive', 'Luxury Cars'], ['Business and Finance', 'Healthcare Industry'], ['Events and Attractions', 'Concerts & Music Events'], ['Real Estate', 'Retail Property'], ['Shopping', 'Household Supplies'], ['Food & Drink', 'Non-Alcoholic Beverages'], ['Education', 'Primary Education'], ['Food & Drink', 'Barbecues and Grilling'], ['Events and Attractions', 'Prom'], ['Pets', 'Dogs'], ['Business and Finance', 'Telecommunications Industry'], ['Style & Fashion', \"Women's Clothing\"], ['Travel', 'Travel Accessories'], ['Healthy Living', 'Fitness and Exercise'], ['Style & Fashion', 'Hair Care'], ['Style & Fashion', 'Perfume and Fragrance'], ['Business and Finance', 'Media Industry'], ['Pets', 'Cats'], ['Automotive', 'Sedan'], ['Family and Relationships', 'Parenting'], ['Automotive', 'Coupe'], ['Business and Finance', 'Technology Industry'], ['Events and Attractions', 'Casinos & Gambling'], ['Technology & Computing', 'Consumer Electronics'], ['Business and Finance', 'Logistics and Transportation Industry'], ['Science', 'Space and Astronomy'], ['Style & Fashion', 'Deodorant and Antiperspirant'], ['Technology & Computing', 'Laptops'], ['Shopping', \"Children's Games and Toys\"], ['Home & Garden', 'Home Security'], ['Family and Relationships', 'Daycare and Pre-School'], ['Style & Fashion', 'Bath and Shower'], ['Style & Fashion', 'Nail Care'], ['Education', 'College Education'], ['Travel', 'Africa Travel'], ['Automotive', 'Convertible'], ['Automotive', 'Motorcycles'], ['Business and Finance', 'Aviation Industry'], ['Travel', 'North America Travel'], ['Travel', 'Europe Travel'], ['Family and Relationships', 'Single Life'], ['Hobbies & Interests', 'Games and Puzzles'], ['Business and Finance', 'Retail Industry'], ['Travel', 'Beach Travel'], ['Events and Attractions', 'Fashion Events'], ['Business and Finance', 'Hospitality Industry'], ['Automotive', 'Minivan'], ['Food & Drink', 'Desserts and Baking'], ['Technology & Computing', 'Desktops'], ['Travel', 'Air Travel'], ['Real Estate', 'Land and Farms'], ['Home & Garden', 'Remodeling & Construction'], ['Events and Attractions', 'Parks & Nature'], ['Automotive', 'Station Wagon'], ['Real Estate', 'Apartments'], ['Style & Fashion', 'Makeup and Accessories'], ['Events and Attractions', 'Malls & Shopping Centers'], ['Shopping', 'Holiday Shopping'], ['Automotive', 'Van'], ['Technology & Computing', 'Smartphones'], ['Travel', 'Hotels and Motels'], ['Automotive', 'Auto Body Styles'], ['Home & Garden', 'Smart Home'], ['Travel', 'Asia Travel'], ['Technology & Computing', 'Tablets and E-readers'], ['Home & Garden', 'Home Improvement'], ['Events and Attractions', 'Cinemas and Events'], ['Home & Garden', 'Gardening'], ['Travel', 'Rail Travel'], ['Events and Attractions', 'Comedy Events'], ['Automotive', 'Road-Side Assistance'], ['Events and Attractions', 'Graduation'], ['Business and Finance', 'Financial Industry'], ['Food & Drink', 'Dining Out'], ['Style & Fashion', 'Oral care'], ['Real Estate', 'Office Property'], ['Technology & Computing', 'Cameras and Camcorders'], ['Style & Fashion', 'Beauty'], ['Events and Attractions', 'Zoos & Aquariums'], ['Travel', 'South America Travel'], ['Shopping', 'Flower Shopping'], ['Style & Fashion', 'Shaving'], ['Pets', 'Reptiles'], ['Events and Attractions', 'Personal Celebrations & Life Events'], ['Hobbies & Interests', 'Musical Instruments'], ['Automotive', 'Auto Repair'], ['Business and Finance', 'Industries', 'Entertainment Industry'], ['Style & Fashion', '', \"Women's Jewelry and Watches\"], ['Style & Fashion', '', \"Men's Casual Wear\"], ['Technology & Computing', 'Computing', 'Desktops'], ['Travel', 'Travel Locations', 'Europe Travel'], ['Business and Finance', 'Industries', 'Automotive Industry'], ['Technology & Computing', 'Consumer Electronics', 'Cameras and Camcorders'], ['Travel', 'Travel Locations', 'Asia Travel'], ['Family and Relationships', 'Parenting', 'Daycare and Pre-School'], ['Events and Attractions', 'Personal Celebrations & Life Events', 'Birthday'], ['Automotive', 'Auto Body Styles', 'Convertible'], ['Business and Finance', 'Industries', 'Healthcare Industry'], ['Automotive', 'Auto Body Styles', 'Van'], ['Events and Attractions', 'Personal Celebrations & Life Events', 'Wedding'], ['Style & Fashion', 'Beauty', 'Hair Care'], ['Style & Fashion', 'Beauty', 'Perfume and Fragrance'], ['Business and Finance', 'Industries', 'Telecommunications Industry'], ['Travel', 'Travel Type', 'Air Travel'], ['Travel', 'Travel Locations', 'South America Travel'], ['Automotive', '', 'Individual Brands'], ['Automotive', 'Auto Body Styles', 'Commercial Trucks'], ['Style & Fashion', '', \"Women's Formal Wear\"], ['Business and Finance', 'Industries', 'Technology Industry'], ['Style & Fashion', 'Beauty', 'Nail Care'], ['Business and Finance', 'Industries', 'Logistics and Transportation Industry'], ['Events and Attractions', 'Personal Celebrations & Life Events', 'Prom'], ['Style & Fashion', '', \"Men's Formal Wear\"], ['Travel', 'Travel Type', 'Rail Travel'], ['Style & Fashion', \"Women's Fashion\", \"Women's Clothing\"], ['Business and Finance', 'Industries', 'Aviation Industry'], ['Automotive', 'Auto Body Styles', 'SUV'], ['Technology & Computing', 'Consumer Electronics', 'Tablets and E-readers'], ['Business and Finance', 'Industries', 'Hospitality Industry'], ['Automotive', 'Auto Type', 'Green Vehicles'], ['Style & Fashion', 'Personal Care', 'Deodorant and Antiperspirant'], ['Travel', 'Travel Type', 'Beach Travel'], ['Automotive', 'Auto Body Styles', 'Sedan'], ['Style & Fashion', 'Beauty', 'Makeup and Accessories'], ['Style & Fashion', 'Personal Care', 'Bath and Shower'], ['Hobbies & Interests', 'Games and Puzzles', 'Card Games'], ['Business and Finance', 'Industries', 'Media Industry'], ['Travel', 'Travel Type', 'Hotels and Motels'], ['Travel', 'Travel Locations', 'Polar Travel'], ['Travel', 'Travel Locations', 'Australia and Oceania Travel'], ['Automotive', 'Auto Body Styles', 'Pickup Trucks'], ['Travel', 'Travel Locations', 'North America Travel'], ['Automotive', 'Auto Body Styles', 'Coupe'], ['Travel', 'Travel Type', 'Cruises'], ['Business and Finance', 'Industries', 'Financial Industry'], ['Business and Finance', 'Industries', 'Retail Industry'], ['Automotive', 'Auto Type', 'Luxury Cars'], ['Events and Attractions', 'Personal Celebrations & Life Events', 'Graduation'], ['Business and Finance', 'Industries', 'Food Industry'], ['Travel', 'Travel Type', 'Camping'], ['Style & Fashion', '', \"Women's Handbags and Wallets\"], ['Style & Fashion', 'Personal Care', 'Oral care'], ['Automotive', 'Auto Body Styles', 'Minivan'], ['Business and Finance', 'Industries', 'Education industry'], ['Business and Finance', 'Industries', 'Apparel Industry'], ['Automotive', 'Auto Body Styles', 'Station Wagon'], ['Style & Fashion', \"Women's Fashion\", \"Women's Shoes and Footwear\"], ['Style & Fashion', \"Men's Fashion\", \"Men's Clothing\"], ['Technology & Computing', 'Consumer Electronics', 'Smartphones'], ['Hobbies & Interests', 'Games and Puzzles', 'Board Games and Puzzles'], ['Travel', 'Travel Locations', 'Africa Travel'], ['Style & Fashion', 'Personal Care', 'Shaving'], ['Technology & Computing', 'Computing', 'Laptops'], ['Style & Fashion', \"Women's Fashion\", \"Women's Accessories\", \"Women's Handbags and Wallets\"], ['Style & Fashion', \"Men's Fashion\", \"Men's Clothing\", \"Men's Casual Wear\"], ['Style & Fashion', \"Men's Fashion\", \"Men's Clothing\", \"Men's Formal Wear\"], ['Style & Fashion', \"Women's Fashion\", \"Women's Accessories\", \"Women's Jewelry and Watches\"], ['Style & Fashion', \"Women's Fashion\", \"Women's Clothing\", \"Women's Formal Wear\"]]\n"
     ]
    }
   ],
   "source": [
    "print(listofadwords)"
   ]
  },
  {
   "cell_type": "code",
   "execution_count": 57,
   "metadata": {},
   "outputs": [
    {
     "name": "stdout",
     "output_type": "stream",
     "text": [
      "['Books and Literature', 'Family and Relationships', 'Pets', 'Business and Finance', 'Fine Art', 'Healthy Living', 'Television', 'Home & Garden', 'Religion & Spirituality', 'Medical Health', 'Science', 'Pop Culture', 'Events and Attractions', 'Education', 'Technology & Computing', 'Real Estate', 'Music and Audio', 'Video Gaming', 'Style & Fashion', 'Hobbies & Interests', 'Automotive', 'Movies', 'Travel', 'Food & Drink', 'Shopping', 'Sports', 'Auto Rentals', 'Food Industry', 'Green Vehicles', 'Auto Shows', 'Education industry', 'Large Animals', 'Apparel Industry', 'Travel Locations', 'Auto Type', 'Auto Parts', 'Cruises', 'Bars & Restaurants', 'Alcoholic Beverages', 'Home Appliances', 'Commercial Trucks', 'Card Games', 'Entertainment Industry', 'Grocery Shopping', \"Women's Shoes and Footwear\", 'Home Entertaining', 'Pickup Trucks', 'Birthday', 'Wellness', 'Dating', 'Birds', 'Awards Shows', 'Landscaping', 'World Cuisines', \"Men's Clothing\", 'Camping', 'Hotel Properties', 'Automotive Industry', 'SUV', 'Polar Travel', 'Board Games and Puzzles', 'Outdoor Activities', 'Museums & Galleries', 'Wedding', 'Houses', 'Religious Events', 'Cooking', 'Theater Venues and Events', 'Luxury Cars', 'Healthcare Industry', 'Concerts & Music Events', 'Retail Property', 'Household Supplies', 'Non-Alcoholic Beverages', 'Primary Education', 'Barbecues and Grilling', 'Prom', 'Dogs', 'Telecommunications Industry', \"Women's Clothing\", 'Travel Accessories', 'Fitness and Exercise', 'Hair Care', 'Perfume and Fragrance', 'Media Industry', 'Cats', 'Sedan', 'Parenting', 'Coupe', 'Technology Industry', 'Casinos & Gambling', 'Consumer Electronics', 'Logistics and Transportation Industry', 'Space and Astronomy', 'Deodorant and Antiperspirant', 'Laptops', \"Children's Games and Toys\", 'Home Security', 'Daycare and Pre-School', 'Bath and Shower', 'Nail Care', 'College Education', 'Africa Travel', 'Convertible', 'Motorcycles', 'Aviation Industry', 'North America Travel', 'Europe Travel', 'Single Life', 'Games and Puzzles', 'Retail Industry', 'Beach Travel', 'Fashion Events', 'Hospitality Industry', 'Minivan', 'Desserts and Baking', 'Desktops', 'Air Travel', 'Land and Farms', 'Remodeling & Construction', 'Parks & Nature', 'Station Wagon', 'Apartments', 'Makeup and Accessories', 'Malls & Shopping Centers', 'Holiday Shopping', 'Van', 'Smartphones', 'Hotels and Motels', 'Auto Body Styles', 'Smart Home', 'Asia Travel', 'Tablets and E-readers', 'Home Improvement', 'Cinemas and Events', 'Gardening', 'Rail Travel', 'Comedy Events', 'Road-Side Assistance', 'Graduation', 'Financial Industry', 'Dining Out', 'Oral care', 'Office Property', 'Cameras and Camcorders', 'Beauty', 'Zoos & Aquariums', 'South America Travel', 'Flower Shopping', 'Shaving', 'Reptiles', 'Personal Celebrations & Life Events', 'Musical Instruments', 'Auto Repair', 'Entertainment Industry', \"Women's Jewelry and Watches\", \"Men's Casual Wear\", 'Desktops', 'Europe Travel', 'Automotive Industry', 'Cameras and Camcorders', 'Asia Travel', 'Daycare and Pre-School', 'Birthday', 'Convertible', 'Healthcare Industry', 'Van', 'Wedding', 'Hair Care', 'Perfume and Fragrance', 'Telecommunications Industry', 'Air Travel', 'South America Travel', 'Individual Brands', 'Commercial Trucks', \"Women's Formal Wear\", 'Technology Industry', 'Nail Care', 'Logistics and Transportation Industry', 'Prom', \"Men's Formal Wear\", 'Rail Travel', \"Women's Clothing\", 'Aviation Industry', 'SUV', 'Tablets and E-readers', 'Hospitality Industry', 'Green Vehicles', 'Deodorant and Antiperspirant', 'Beach Travel', 'Sedan', 'Makeup and Accessories', 'Bath and Shower', 'Card Games', 'Media Industry', 'Hotels and Motels', 'Polar Travel', 'Australia and Oceania Travel', 'Pickup Trucks', 'North America Travel', 'Coupe', 'Cruises', 'Financial Industry', 'Retail Industry', 'Luxury Cars', 'Graduation', 'Food Industry', 'Camping', \"Women's Handbags and Wallets\", 'Oral care', 'Minivan', 'Education industry', 'Apparel Industry', 'Station Wagon', \"Women's Shoes and Footwear\", \"Men's Clothing\", 'Smartphones', 'Board Games and Puzzles', 'Africa Travel', 'Shaving', 'Laptops', \"Women's Handbags and Wallets\", \"Men's Casual Wear\", \"Men's Formal Wear\", \"Women's Jewelry and Watches\", \"Women's Formal Wear\"]\n"
     ]
    }
   ],
   "source": [
    "print(labels)"
   ]
  },
  {
   "cell_type": "code",
   "execution_count": 102,
   "metadata": {},
   "outputs": [
    {
     "name": "stdout",
     "output_type": "stream",
     "text": [
      "161\n"
     ]
    }
   ],
   "source": [
    "print(len(set(labels)))\n",
    "IAB=set(labels)"
   ]
  },
  {
   "cell_type": "code",
   "execution_count": 103,
   "metadata": {},
   "outputs": [],
   "source": [
    "with open('data/List_of_IAB.pkl', 'wb') as f:\n",
    "    pkl.dump(IAB, f)"
   ]
  },
  {
   "cell_type": "code",
   "execution_count": 68,
   "metadata": {},
   "outputs": [
    {
     "name": "stderr",
     "output_type": "stream",
     "text": [
      "100%|██████████| 226/226 [00:00<00:00, 11493.75it/s]\n"
     ]
    }
   ],
   "source": [
    "dic=defaultdict(list)\n",
    "for label in tqdm(labels): #for each label (IAB Keyword)\n",
    "    temp_dic=defaultdict(list)\n",
    "    for items in listofadwords: # Each paired list\n",
    "        for idx,item in enumerate(items): #Compare each label to find a match\n",
    "            if item == label:\n",
    "                try:\n",
    "                    temp_dic['Children'].append(items[idx+1])\n",
    "                except:\n",
    "                    continue\n",
    "        \n",
    "    temp_dic['Children']=list(set(temp_dic['Children']))\n",
    "    dic[label]=temp_dic"
   ]
  },
  {
   "cell_type": "code",
   "execution_count": 71,
   "metadata": {},
   "outputs": [
    {
     "name": "stdout",
     "output_type": "stream",
     "text": [
      "161\n"
     ]
    }
   ],
   "source": [
    "print(len(dic.keys()))"
   ]
  },
  {
   "cell_type": "code",
   "execution_count": 70,
   "metadata": {},
   "outputs": [
    {
     "name": "stdout",
     "output_type": "stream",
     "text": [
      "defaultdict(<class 'list'>, {'Children': []})\n",
      "defaultdict(<class 'list'>, {'Children': ['Parenting', 'Single Life', 'Daycare and Pre-School', 'Dating']})\n",
      "defaultdict(<class 'list'>, {'Children': ['Cats', 'Birds', 'Dogs', 'Large Animals', 'Reptiles']})\n",
      "defaultdict(<class 'list'>, {'Children': ['Media Industry', 'Hospitality Industry', 'Automotive Industry', 'Apparel Industry', 'Entertainment Industry', 'Healthcare Industry', 'Education industry', 'Telecommunications Industry', 'Logistics and Transportation Industry', 'Financial Industry', 'Industries', 'Aviation Industry', 'Technology Industry', 'Retail Industry', 'Food Industry']})\n",
      "defaultdict(<class 'list'>, {'Children': []})\n",
      "defaultdict(<class 'list'>, {'Children': ['Wellness', 'Fitness and Exercise']})\n",
      "defaultdict(<class 'list'>, {'Children': []})\n",
      "defaultdict(<class 'list'>, {'Children': ['Home Appliances', 'Gardening', 'Smart Home', 'Landscaping', 'Home Security', 'Home Entertaining', 'Home Improvement', 'Remodeling & Construction']})\n",
      "defaultdict(<class 'list'>, {'Children': []})\n",
      "defaultdict(<class 'list'>, {'Children': []})\n",
      "defaultdict(<class 'list'>, {'Children': ['Space and Astronomy']})\n",
      "defaultdict(<class 'list'>, {'Children': []})\n",
      "defaultdict(<class 'list'>, {'Children': ['Casinos & Gambling', 'Graduation', 'Prom', 'Bars & Restaurants', 'Birthday', 'Outdoor Activities', 'Personal Celebrations & Life Events', 'Theater Venues and Events', 'Wedding', 'Malls & Shopping Centers', 'Parks & Nature', 'Concerts & Music Events', 'Awards Shows', 'Fashion Events', 'Cinemas and Events', 'Zoos & Aquariums', 'Museums & Galleries', 'Comedy Events', 'Religious Events']})\n",
      "defaultdict(<class 'list'>, {'Children': ['College Education', 'Primary Education']})\n",
      "defaultdict(<class 'list'>, {'Children': ['Smartphones', 'Laptops', 'Desktops', 'Cameras and Camcorders', 'Tablets and E-readers', 'Computing', 'Consumer Electronics']})\n",
      "defaultdict(<class 'list'>, {'Children': ['Hotel Properties', 'Office Property', 'Houses', 'Apartments', 'Land and Farms', 'Retail Property']})\n",
      "defaultdict(<class 'list'>, {'Children': []})\n",
      "defaultdict(<class 'list'>, {'Children': []})\n",
      "defaultdict(<class 'list'>, {'Children': ['', \"Men's Fashion\", 'Deodorant and Antiperspirant', 'Personal Care', 'Oral care', 'Hair Care', 'Makeup and Accessories', 'Nail Care', 'Perfume and Fragrance', \"Women's Shoes and Footwear\", \"Women's Fashion\", 'Beauty', \"Men's Clothing\", 'Bath and Shower', 'Shaving', \"Women's Clothing\"]})\n",
      "defaultdict(<class 'list'>, {'Children': ['Games and Puzzles', 'Musical Instruments', 'Board Games and Puzzles', 'Card Games']})\n",
      "defaultdict(<class 'list'>, {'Children': ['', 'Auto Parts', 'Luxury Cars', 'Green Vehicles', 'Auto Body Styles', 'Convertible', 'Auto Shows', 'Van', 'Commercial Trucks', 'Road-Side Assistance', 'Pickup Trucks', 'Coupe', 'Motorcycles', 'SUV', 'Auto Type', 'Auto Rentals', 'Sedan', 'Auto Repair', 'Minivan', 'Station Wagon']})\n",
      "defaultdict(<class 'list'>, {'Children': []})\n",
      "defaultdict(<class 'list'>, {'Children': ['Beach Travel', 'Camping', 'Hotels and Motels', 'Cruises', 'Africa Travel', 'Asia Travel', 'Europe Travel', 'Rail Travel', 'Travel Type', 'Travel Locations', 'Polar Travel', 'Travel Accessories', 'Air Travel', 'South America Travel', 'North America Travel']})\n",
      "defaultdict(<class 'list'>, {'Children': ['World Cuisines', 'Desserts and Baking', 'Non-Alcoholic Beverages', 'Dining Out', 'Cooking', 'Alcoholic Beverages', 'Barbecues and Grilling']})\n",
      "defaultdict(<class 'list'>, {'Children': [\"Children's Games and Toys\", 'Flower Shopping', 'Grocery Shopping', 'Household Supplies', 'Holiday Shopping']})\n",
      "defaultdict(<class 'list'>, {'Children': []})\n",
      "defaultdict(<class 'list'>, {'Children': []})\n",
      "defaultdict(<class 'list'>, {'Children': []})\n",
      "defaultdict(<class 'list'>, {'Children': []})\n",
      "defaultdict(<class 'list'>, {'Children': []})\n",
      "defaultdict(<class 'list'>, {'Children': []})\n",
      "defaultdict(<class 'list'>, {'Children': []})\n",
      "defaultdict(<class 'list'>, {'Children': []})\n",
      "defaultdict(<class 'list'>, {'Children': ['Australia and Oceania Travel', 'Asia Travel', 'Africa Travel', 'Europe Travel', 'Polar Travel', 'South America Travel', 'North America Travel']})\n",
      "defaultdict(<class 'list'>, {'Children': ['Luxury Cars', 'Green Vehicles']})\n",
      "defaultdict(<class 'list'>, {'Children': []})\n",
      "defaultdict(<class 'list'>, {'Children': []})\n",
      "defaultdict(<class 'list'>, {'Children': []})\n",
      "defaultdict(<class 'list'>, {'Children': []})\n",
      "defaultdict(<class 'list'>, {'Children': []})\n",
      "defaultdict(<class 'list'>, {'Children': []})\n",
      "defaultdict(<class 'list'>, {'Children': []})\n",
      "defaultdict(<class 'list'>, {'Children': []})\n",
      "defaultdict(<class 'list'>, {'Children': []})\n",
      "defaultdict(<class 'list'>, {'Children': []})\n",
      "defaultdict(<class 'list'>, {'Children': []})\n",
      "defaultdict(<class 'list'>, {'Children': []})\n",
      "defaultdict(<class 'list'>, {'Children': []})\n",
      "defaultdict(<class 'list'>, {'Children': []})\n",
      "defaultdict(<class 'list'>, {'Children': []})\n",
      "defaultdict(<class 'list'>, {'Children': []})\n",
      "defaultdict(<class 'list'>, {'Children': []})\n",
      "defaultdict(<class 'list'>, {'Children': []})\n",
      "defaultdict(<class 'list'>, {'Children': []})\n",
      "defaultdict(<class 'list'>, {'Children': [\"Men's Casual Wear\", \"Men's Formal Wear\"]})\n",
      "defaultdict(<class 'list'>, {'Children': []})\n",
      "defaultdict(<class 'list'>, {'Children': []})\n",
      "defaultdict(<class 'list'>, {'Children': []})\n",
      "defaultdict(<class 'list'>, {'Children': []})\n",
      "defaultdict(<class 'list'>, {'Children': []})\n",
      "defaultdict(<class 'list'>, {'Children': []})\n",
      "defaultdict(<class 'list'>, {'Children': []})\n",
      "defaultdict(<class 'list'>, {'Children': []})\n",
      "defaultdict(<class 'list'>, {'Children': []})\n",
      "defaultdict(<class 'list'>, {'Children': []})\n",
      "defaultdict(<class 'list'>, {'Children': []})\n",
      "defaultdict(<class 'list'>, {'Children': []})\n",
      "defaultdict(<class 'list'>, {'Children': []})\n",
      "defaultdict(<class 'list'>, {'Children': []})\n",
      "defaultdict(<class 'list'>, {'Children': []})\n",
      "defaultdict(<class 'list'>, {'Children': []})\n",
      "defaultdict(<class 'list'>, {'Children': []})\n",
      "defaultdict(<class 'list'>, {'Children': []})\n",
      "defaultdict(<class 'list'>, {'Children': []})\n",
      "defaultdict(<class 'list'>, {'Children': []})\n",
      "defaultdict(<class 'list'>, {'Children': []})\n",
      "defaultdict(<class 'list'>, {'Children': []})\n",
      "defaultdict(<class 'list'>, {'Children': []})\n",
      "defaultdict(<class 'list'>, {'Children': []})\n",
      "defaultdict(<class 'list'>, {'Children': [\"Women's Formal Wear\"]})\n",
      "defaultdict(<class 'list'>, {'Children': []})\n",
      "defaultdict(<class 'list'>, {'Children': []})\n",
      "defaultdict(<class 'list'>, {'Children': []})\n",
      "defaultdict(<class 'list'>, {'Children': []})\n",
      "defaultdict(<class 'list'>, {'Children': []})\n",
      "defaultdict(<class 'list'>, {'Children': []})\n",
      "defaultdict(<class 'list'>, {'Children': []})\n",
      "defaultdict(<class 'list'>, {'Children': ['Daycare and Pre-School']})\n",
      "defaultdict(<class 'list'>, {'Children': []})\n",
      "defaultdict(<class 'list'>, {'Children': []})\n",
      "defaultdict(<class 'list'>, {'Children': []})\n",
      "defaultdict(<class 'list'>, {'Children': ['Smartphones', 'Tablets and E-readers', 'Cameras and Camcorders']})\n",
      "defaultdict(<class 'list'>, {'Children': []})\n",
      "defaultdict(<class 'list'>, {'Children': []})\n",
      "defaultdict(<class 'list'>, {'Children': []})\n",
      "defaultdict(<class 'list'>, {'Children': []})\n",
      "defaultdict(<class 'list'>, {'Children': []})\n",
      "defaultdict(<class 'list'>, {'Children': []})\n",
      "defaultdict(<class 'list'>, {'Children': []})\n",
      "defaultdict(<class 'list'>, {'Children': []})\n",
      "defaultdict(<class 'list'>, {'Children': []})\n",
      "defaultdict(<class 'list'>, {'Children': []})\n",
      "defaultdict(<class 'list'>, {'Children': []})\n",
      "defaultdict(<class 'list'>, {'Children': []})\n",
      "defaultdict(<class 'list'>, {'Children': []})\n",
      "defaultdict(<class 'list'>, {'Children': []})\n",
      "defaultdict(<class 'list'>, {'Children': []})\n",
      "defaultdict(<class 'list'>, {'Children': []})\n",
      "defaultdict(<class 'list'>, {'Children': []})\n",
      "defaultdict(<class 'list'>, {'Children': ['Board Games and Puzzles', 'Card Games']})\n",
      "defaultdict(<class 'list'>, {'Children': []})\n",
      "defaultdict(<class 'list'>, {'Children': []})\n",
      "defaultdict(<class 'list'>, {'Children': []})\n",
      "defaultdict(<class 'list'>, {'Children': []})\n",
      "defaultdict(<class 'list'>, {'Children': []})\n",
      "defaultdict(<class 'list'>, {'Children': []})\n",
      "defaultdict(<class 'list'>, {'Children': []})\n",
      "defaultdict(<class 'list'>, {'Children': []})\n",
      "defaultdict(<class 'list'>, {'Children': []})\n",
      "defaultdict(<class 'list'>, {'Children': []})\n",
      "defaultdict(<class 'list'>, {'Children': []})\n",
      "defaultdict(<class 'list'>, {'Children': []})\n",
      "defaultdict(<class 'list'>, {'Children': []})\n",
      "defaultdict(<class 'list'>, {'Children': []})\n",
      "defaultdict(<class 'list'>, {'Children': []})\n",
      "defaultdict(<class 'list'>, {'Children': []})\n",
      "defaultdict(<class 'list'>, {'Children': []})\n",
      "defaultdict(<class 'list'>, {'Children': []})\n",
      "defaultdict(<class 'list'>, {'Children': []})\n",
      "defaultdict(<class 'list'>, {'Children': ['Sedan', 'Minivan', 'Station Wagon', 'SUV', 'Pickup Trucks', 'Convertible', 'Van', 'Commercial Trucks', 'Coupe']})\n",
      "defaultdict(<class 'list'>, {'Children': []})\n",
      "defaultdict(<class 'list'>, {'Children': []})\n",
      "defaultdict(<class 'list'>, {'Children': []})\n",
      "defaultdict(<class 'list'>, {'Children': []})\n",
      "defaultdict(<class 'list'>, {'Children': []})\n",
      "defaultdict(<class 'list'>, {'Children': []})\n",
      "defaultdict(<class 'list'>, {'Children': []})\n",
      "defaultdict(<class 'list'>, {'Children': []})\n",
      "defaultdict(<class 'list'>, {'Children': []})\n",
      "defaultdict(<class 'list'>, {'Children': []})\n",
      "defaultdict(<class 'list'>, {'Children': []})\n",
      "defaultdict(<class 'list'>, {'Children': []})\n",
      "defaultdict(<class 'list'>, {'Children': []})\n",
      "defaultdict(<class 'list'>, {'Children': []})\n",
      "defaultdict(<class 'list'>, {'Children': []})\n",
      "defaultdict(<class 'list'>, {'Children': ['Perfume and Fragrance', 'Nail Care', 'Hair Care', 'Makeup and Accessories']})\n",
      "defaultdict(<class 'list'>, {'Children': []})\n",
      "defaultdict(<class 'list'>, {'Children': []})\n",
      "defaultdict(<class 'list'>, {'Children': []})\n",
      "defaultdict(<class 'list'>, {'Children': []})\n",
      "defaultdict(<class 'list'>, {'Children': []})\n",
      "defaultdict(<class 'list'>, {'Children': ['Graduation', 'Wedding', 'Prom', 'Birthday']})\n",
      "defaultdict(<class 'list'>, {'Children': []})\n",
      "defaultdict(<class 'list'>, {'Children': []})\n",
      "defaultdict(<class 'list'>, {'Children': []})\n",
      "defaultdict(<class 'list'>, {'Children': []})\n",
      "defaultdict(<class 'list'>, {'Children': []})\n",
      "defaultdict(<class 'list'>, {'Children': []})\n",
      "defaultdict(<class 'list'>, {'Children': []})\n",
      "defaultdict(<class 'list'>, {'Children': []})\n",
      "defaultdict(<class 'list'>, {'Children': []})\n"
     ]
    }
   ],
   "source": [
    "for k,v in dic.items():\n",
    "    print(dic[k])"
   ]
  },
  {
   "cell_type": "code",
   "execution_count": 25,
   "metadata": {},
   "outputs": [],
   "source": [
    "dfoldmappings=dfoldmappings[dfoldmappings['Relevancy Label']=='H']"
   ]
  },
  {
   "cell_type": "code",
   "execution_count": 26,
   "metadata": {},
   "outputs": [
    {
     "data": {
      "text/plain": [
       "<bound method NDFrame.head of        Unnamed: 0 Recommended Mapping Category Relevancy Label    refSource  \\\n",
       "10             10                          NaN               H     imagenet   \n",
       "12             12     Automotive || Auto Parts               H      Places2   \n",
       "13             13                       Travel               H     imagenet   \n",
       "18             18                          NaN               H     imagenet   \n",
       "19             19                       Sports               H     imagenet   \n",
       "...           ...                          ...             ...          ...   \n",
       "13474       13474                          NaN               H    openimage   \n",
       "13477       13477                          NaN               H    openimage   \n",
       "13478       13478                          NaN               H  topic_slice   \n",
       "13480       13480                          NaN               H     imagenet   \n",
       "13482        7892                          NaN               H        audio   \n",
       "\n",
       "         category                 label targetType  \\\n",
       "10     technology            disk brake  inclusion   \n",
       "12            NaN          auto_factory  inclusion   \n",
       "13        vehicle                   cab  inclusion   \n",
       "18     technology            car mirror  inclusion   \n",
       "19        vehicle                 racer  inclusion   \n",
       "...           ...                   ...        ...   \n",
       "13474         NaN  Marine invertebrates  inclusion   \n",
       "13477         NaN         Marine mammal  inclusion   \n",
       "13478         NaN            ['Marine']  inclusion   \n",
       "13480        fish      ['anemone fish']  inclusion   \n",
       "13482         NaN     Zipper (clothing)  inclusion   \n",
       "\n",
       "                                                  adword mappingModality  \\\n",
       "10                                            Automotive      text+video   \n",
       "12                                            Automotive      text+video   \n",
       "13                                            Automotive      text+video   \n",
       "18                                            Automotive      text+video   \n",
       "19                                            Automotive      text+video   \n",
       "...                                                  ...             ...   \n",
       "13474            Events and Attractions|Zoos & Aquariums      text+video   \n",
       "13477            Events and Attractions|Zoos & Aquariums      text+video   \n",
       "13478            Events and Attractions|Zoos & Aquariums      text+video   \n",
       "13480            Events and Attractions|Zoos & Aquariums      text+video   \n",
       "13482  Style & Fashion|Women's Fashion|Women's Clothi...      text+video   \n",
       "\n",
       "       version                              targetLabel     score version.1  \n",
       "10           1                               Automotive  0.390547         1  \n",
       "12           2                               Automotive  0.824499       1,2  \n",
       "13           1                               Automotive  0.391974         1  \n",
       "18           2                               Automotive  0.768547       1,2  \n",
       "19           1                               Automotive  0.399108         1  \n",
       "...        ...                                      ...       ...       ...  \n",
       "13474        2  Events and Attractions|Zoos & Aquariums  0.676172         2  \n",
       "13477        2  Events and Attractions|Zoos & Aquariums  0.652767         2  \n",
       "13478        2  Events and Attractions|Zoos & Aquariums  0.644235         2  \n",
       "13480        2  Events and Attractions|Zoos & Aquariums  0.640401         2  \n",
       "13482        2    Style & Fashion|||Women's Formal Wear  0.711756         2  \n",
       "\n",
       "[5355 rows x 13 columns]>"
      ]
     },
     "execution_count": 26,
     "metadata": {},
     "output_type": "execute_result"
    }
   ],
   "source": [
    "dfoldmappings.head"
   ]
  },
  {
   "cell_type": "code",
   "execution_count": 27,
   "metadata": {},
   "outputs": [
    {
     "data": {
      "text/plain": [
       "Index(['Unnamed: 0', 'Recommended Mapping Category', 'Relevancy Label',\n",
       "       'refSource', 'category', 'label', 'targetType', 'adword',\n",
       "       'mappingModality', 'version', 'targetLabel', 'score', 'version.1'],\n",
       "      dtype='object')"
      ]
     },
     "execution_count": 27,
     "metadata": {},
     "output_type": "execute_result"
    }
   ],
   "source": [
    "dfoldmappings.columns"
   ]
  },
  {
   "cell_type": "code",
   "execution_count": 28,
   "metadata": {},
   "outputs": [],
   "source": [
    "Hadwords=dfoldmappings['adword'].to_list()\n",
    "Hlabels=dfoldmappings['label'].to_list()"
   ]
  },
  {
   "cell_type": "code",
   "execution_count": 61,
   "metadata": {},
   "outputs": [
    {
     "data": {
      "text/plain": [
       "225"
      ]
     },
     "execution_count": 61,
     "metadata": {},
     "output_type": "execute_result"
    }
   ],
   "source": [
    "len(set(Hadwords))"
   ]
  },
  {
   "cell_type": "code",
   "execution_count": 66,
   "metadata": {},
   "outputs": [
    {
     "name": "stdout",
     "output_type": "stream",
     "text": [
      "5355\n",
      "160\n"
     ]
    }
   ],
   "source": [
    "check=[]\n",
    "for adword in Hadwords:\n",
    "    check.append(adword.split('|')[-1])\n",
    "print(len(check))\n",
    "print(len(set(check)))\n",
    "check=list(set(check))"
   ]
  },
  {
   "cell_type": "code",
   "execution_count": 67,
   "metadata": {},
   "outputs": [
    {
     "name": "stdout",
     "output_type": "stream",
     "text": [
      "['Religion & Spirituality', 'Prom', 'Makeup and Accessories', 'South America Travel', 'Aviation Industry', 'Convertible', \"Men's Clothing\", \"Men's Formal Wear\", 'Gardening', 'Smart Home', 'Personal Celebrations & Life Events', 'Fitness and Exercise', 'Home Security', 'Bath and Shower', 'Primary Education', 'Household Supplies', 'Malls & Shopping Centers', 'Retail Property', 'Home Appliances', 'Motorcycles', 'Business and Finance', 'Logistics and Transportation Industry', 'College Education', 'Hair Care', 'Fashion Events', 'SUV', \"Women's Formal Wear\", 'Pets', \"Women's Clothing\", 'Flower Shopping', 'Healthcare Industry', 'Fine Art', \"Men's Casual Wear\", 'Video Gaming', 'Minivan', 'Landscaping', 'Station Wagon', 'Comedy Events', 'Air Travel', 'Technology Industry', 'Religious Events', 'Graduation', 'Holiday Shopping', 'Hotels and Motels', 'Healthy Living', 'Luxury Cars', 'Desserts and Baking', 'Home & Garden', 'Shopping', 'Bars & Restaurants', 'Space and Astronomy', 'Auto Shows', 'Retail Industry', 'Single Life', 'Commercial Trucks', \"Women's Jewelry and Watches\", 'Technology & Computing', 'Theater Venues and Events', 'Wedding', 'Alcoholic Beverages', 'Cameras and Camcorders', 'Family and Relationships', 'Consumer Electronics', 'Automotive Industry', 'Daycare and Pre-School', 'Concerts & Music Events', 'Awards Shows', \"Women's Shoes and Footwear\", 'Music and Audio', 'Medical Health', 'Parenting', 'Auto Type', 'Media Industry', 'Office Property', 'Auto Repair', 'Automotive', 'Travel', 'Auto Parts', 'Cats', 'Board Games and Puzzles', 'Science', 'Non-Alcoholic Beverages', 'Entertainment Industry', 'Dining Out', 'Green Vehicles', 'Birthday', 'Real Estate', 'Outdoor Activities', 'Van', 'Remodeling & Construction', 'North America Travel', 'Hotel Properties', 'Financial Industry', 'Telecommunications Industry', 'Europe Travel', 'Desktops', 'Card Games', 'Birds', 'Dogs', 'Events and Attractions', 'Smartphones', 'Food & Drink', 'Parks & Nature', \"Women's Handbags and Wallets\", 'Education industry', 'Cinemas and Events', 'Television', 'Education', 'Home Entertaining', 'Travel Accessories', 'Beauty', 'Tablets and E-readers', 'Books and Literature', 'Large Animals', 'Auto Rentals', 'Reptiles', 'Food Industry', 'Beach Travel', \"Children's Games and Toys\", 'Sedan', 'Pop Culture', 'Laptops', 'Oral care', 'Rail Travel', 'Zoos & Aquariums', 'Cooking', 'Perfume and Fragrance', 'Hobbies & Interests', 'Shaving', 'Casinos & Gambling', 'Musical Instruments', 'Cruises', 'Dating', 'Africa Travel', 'Houses', 'Auto Body Styles', 'Style & Fashion', 'Apartments', 'Nail Care', 'Polar Travel', 'Road-Side Assistance', 'Camping', 'Barbecues and Grilling', 'Pickup Trucks', 'Games and Puzzles', 'Home Improvement', 'Land and Farms', 'Coupe', 'Australia and Oceania Travel', 'Asia Travel', 'Sports', 'Grocery Shopping', 'Hospitality Industry', 'Deodorant and Antiperspirant', 'World Cuisines', 'Apparel Industry', 'Museums & Galleries', 'Travel Locations', 'Wellness', 'Movies']\n"
     ]
    }
   ],
   "source": [
    "print(check)"
   ]
  },
  {
   "cell_type": "code",
   "execution_count": 74,
   "metadata": {},
   "outputs": [],
   "source": [
    "for adword, label in zip(Hadwords,Hlabels):\n",
    "    key=adword.split('|')[-1]\n",
    "    #print(key)\n",
    "    if type(label) is not list:\n",
    "        dic[key]['Related'].append(label)\n",
    "    else:\n",
    "        for item in label:\n",
    "            dic[key]['Related'].append(item)\n",
    "            print(item)\n",
    "\n",
    "\n",
    "\n",
    "    "
   ]
  },
  {
   "cell_type": "code",
   "execution_count": 99,
   "metadata": {},
   "outputs": [
    {
     "data": {
      "text/plain": [
       "'[\\'lakeside\\', \\'Canoe\\', \\'Bird\\', \\'gondola\\', \\'Girl\\', \\'Chair\\', \\'Airplane\\', \\'book jacket\\', \\'jigsaw puzzle\\', \\'islet\\', \\'temple/asia\\', \\'stupa\\', \\'Bed\\', \\'fountain\\', \\'castle\\', \\'pagoda\\', \\'Building\\', \\'Boat\\', \\'Music of Asia\\', \"[\\'World\\', \\'International\\', \\'Holiday\\', \\'Vacation\\']\", \"[\\'International\\', \\'News\\']\", \"[\\'Travel\\', \\'Transportation\\']\", \"[\\'European gallinule\\', \\'Porphyrio porphyrio\\']\", \"[\\'freight car\\']\", \\'japanese_garden\\']'"
      ]
     },
     "execution_count": 99,
     "metadata": {},
     "output_type": "execute_result"
    }
   ],
   "source": []
  },
  {
   "cell_type": "code",
   "execution_count": 98,
   "metadata": {},
   "outputs": [
    {
     "data": {
      "text/plain": [
       "['lakeside',\n",
       " 'Canoe',\n",
       " 'Bird',\n",
       " 'gondola',\n",
       " 'Girl',\n",
       " 'Chair',\n",
       " 'Airplane',\n",
       " 'book jacket',\n",
       " 'jigsaw puzzle',\n",
       " 'islet',\n",
       " 'temple/asia',\n",
       " 'stupa',\n",
       " 'Bed',\n",
       " 'fountain',\n",
       " 'castle',\n",
       " 'pagoda',\n",
       " 'Building',\n",
       " 'Boat',\n",
       " 'Music of Asia',\n",
       " \"['World', 'International', 'Holiday', 'Vacation']\",\n",
       " \"['International', 'News']\",\n",
       " \"['Travel', 'Transportation']\",\n",
       " \"['European gallinule', 'Porphyrio porphyrio']\",\n",
       " \"['freight car']\",\n",
       " 'japanese_garden']"
      ]
     },
     "execution_count": 98,
     "metadata": {},
     "output_type": "execute_result"
    }
   ],
   "source": [
    "dic['Asia Travel']['Related']"
   ]
  },
  {
   "cell_type": "code",
   "execution_count": 100,
   "metadata": {},
   "outputs": [],
   "source": [
    "with open('initial_KG_dic.pkl', 'wb') as f:\n",
    "    pkl.dump(dic, f)"
   ]
  },
  {
   "cell_type": "code",
   "execution_count": 75,
   "metadata": {},
   "outputs": [],
   "source": [
    "df=pd.DataFrame.from_dict(dic)"
   ]
  },
  {
   "cell_type": "code",
   "execution_count": 76,
   "metadata": {},
   "outputs": [
    {
     "data": {
      "text/plain": [
       "Index(['Books and Literature', 'Family and Relationships', 'Pets',\n",
       "       'Business and Finance', 'Fine Art', 'Healthy Living', 'Television',\n",
       "       'Home & Garden', 'Religion & Spirituality', 'Medical Health',\n",
       "       ...\n",
       "       'Personal Celebrations & Life Events', 'Musical Instruments',\n",
       "       'Auto Repair', 'Women's Jewelry and Watches', 'Men's Casual Wear',\n",
       "       'Individual Brands', 'Women's Formal Wear', 'Men's Formal Wear',\n",
       "       'Australia and Oceania Travel', 'Women's Handbags and Wallets'],\n",
       "      dtype='object', length=161)"
      ]
     },
     "execution_count": 76,
     "metadata": {},
     "output_type": "execute_result"
    }
   ],
   "source": [
    "df.columns"
   ]
  },
  {
   "cell_type": "code",
   "execution_count": 96,
   "metadata": {},
   "outputs": [
    {
     "data": {
      "text/plain": [
       "'[]'"
      ]
     },
     "execution_count": 96,
     "metadata": {},
     "output_type": "execute_result"
    }
   ],
   "source": [
    "df['Television'].values[0]"
   ]
  },
  {
   "cell_type": "code",
   "execution_count": 85,
   "metadata": {},
   "outputs": [],
   "source": [
    "df.to_csv('InitialKG_Only_H.csv', index=False)"
   ]
  },
  {
   "cell_type": "code",
   "execution_count": 79,
   "metadata": {},
   "outputs": [],
   "source": [
    "df=pd.read_csv('InitialKG_Only_H.csv')"
   ]
  },
  {
   "cell_type": "code",
   "execution_count": 88,
   "metadata": {},
   "outputs": [
    {
     "data": {
      "text/plain": [
       "'['"
      ]
     },
     "execution_count": 88,
     "metadata": {},
     "output_type": "execute_result"
    }
   ],
   "source": [
    "df['Science'][0]"
   ]
  },
  {
   "cell_type": "code",
   "execution_count": 83,
   "metadata": {},
   "outputs": [],
   "source": [
    "df.index=['Children', 'Related']"
   ]
  },
  {
   "cell_type": "code",
   "execution_count": 84,
   "metadata": {},
   "outputs": [
    {
     "data": {
      "text/plain": [
       "<bound method NDFrame.head of                                        Books and Literature  \\\n",
       "Children                                                 []   \n",
       "Related   ['cassette', 'Bird', 'bookcase', 'Door', 'Appl...   \n",
       "\n",
       "                                   Family and Relationships  \\\n",
       "Children  ['Parenting', 'Single Life', 'Daycare and Pre-...   \n",
       "Related   ['Child speech, kid speaking', 'Human hand', '...   \n",
       "\n",
       "                                                       Pets  \\\n",
       "Children  ['Cats', 'Birds', 'Dogs', 'Large Animals', 'Re...   \n",
       "Related   ['Animal', 'Cat', 'Pembroke', 'bluetick', 'Fre...   \n",
       "\n",
       "                                       Business and Finance  \\\n",
       "Children  ['Media Industry', 'Hospitality Industry', 'Au...   \n",
       "Related   ['coffee_shop', 'skyscraper', 'Clock', 'oscill...   \n",
       "\n",
       "                                                   Fine Art  \\\n",
       "Children                                                 []   \n",
       "Related   ['Building', 'Dress', 'Elephant', 'paintbrush'...   \n",
       "\n",
       "                                             Healthy Living  \\\n",
       "Children               ['Wellness', 'Fitness and Exercise']   \n",
       "Related   ['dumbbell', 'Banana', 'tennis ball', 'fig', '...   \n",
       "\n",
       "                                                 Television  \\\n",
       "Children                                                 []   \n",
       "Related   ['Tablet computer', 'desktop computer', 'Billb...   \n",
       "\n",
       "                                              Home & Garden  \\\n",
       "Children  ['Home Appliances', 'Gardening', 'Smart Home',...   \n",
       "Related   ['formal_garden', 'street sign', 'vase', 'mobi...   \n",
       "\n",
       "                                    Religion & Spirituality  \\\n",
       "Children                                                 []   \n",
       "Related   ['candle', 'book jacket', 'Book', 'face powder...   \n",
       "\n",
       "                                             Medical Health  ...  \\\n",
       "Children                                                 []  ...   \n",
       "Related   [\"Dental drill, dentist's drill\", 'pill bottle...  ...   \n",
       "\n",
       "                        Personal Celebrations & Life Events  \\\n",
       "Children      ['Graduation', 'Wedding', 'Prom', 'Birthday']   \n",
       "Related   ['natural_history_museum', 'Happy music', 'giv...   \n",
       "\n",
       "                                        Musical Instruments  \\\n",
       "Children                                                 []   \n",
       "Related   ['Acoustic guitar', 'Bass drum', 'Bass guitar'...   \n",
       "\n",
       "                                                Auto Repair  \\\n",
       "Children                                                 []   \n",
       "Related   ['forklift', 'car wheel', 'Wheel', 's wheel\"',...   \n",
       "\n",
       "                                Women's Jewelry and Watches  \\\n",
       "Children                                                 []   \n",
       "Related   ['buckle', 'sunglasses', 'necklace', 'jewelry_...   \n",
       "\n",
       "                                          Men's Casual Wear Individual Brands  \\\n",
       "Children                                                 []                []   \n",
       "Related   ['trench coat', 'Trousers', 'bow tie', 'Dress'...               NaN   \n",
       "\n",
       "                                        Women's Formal Wear  \\\n",
       "Children                                                 []   \n",
       "Related   ['Human leg', 'Bench', 'trench coat', 'fur coa...   \n",
       "\n",
       "                                          Men's Formal Wear  \\\n",
       "Children                                                 []   \n",
       "Related   ['jean', 'lab coat', 'Coat', 'Windsor tie', 'H...   \n",
       "\n",
       "                               Australia and Oceania Travel  \\\n",
       "Children                                                 []   \n",
       "Related   [\"['World', 'International', 'Holiday', 'Vacat...   \n",
       "\n",
       "                               Women's Handbags and Wallets  \n",
       "Children                                                 []  \n",
       "Related   ['buckle', 'Briefcase', 'necklace', 'sandal', ...  \n",
       "\n",
       "[2 rows x 161 columns]>"
      ]
     },
     "execution_count": 84,
     "metadata": {},
     "output_type": "execute_result"
    }
   ],
   "source": [
    "df.head"
   ]
  },
  {
   "cell_type": "code",
   "execution_count": null,
   "metadata": {},
   "outputs": [],
   "source": []
  }
 ],
 "metadata": {
  "kernelspec": {
   "display_name": "KG",
   "language": "python",
   "name": "python3"
  },
  "language_info": {
   "codemirror_mode": {
    "name": "ipython",
    "version": 3
   },
   "file_extension": ".py",
   "mimetype": "text/x-python",
   "name": "python",
   "nbconvert_exporter": "python",
   "pygments_lexer": "ipython3",
   "version": "3.11.4"
  },
  "orig_nbformat": 4
 },
 "nbformat": 4,
 "nbformat_minor": 2
}
